{
 "cells": [
  {
   "cell_type": "code",
   "execution_count": 0,
   "metadata": {
    "application/vnd.databricks.v1+cell": {
     "cellMetadata": {
      "byteLimit": 2048000,
      "rowLimit": 10000
     },
     "inputWidgets": {},
     "nuid": "2a14d84f-9754-490c-a953-0afab73f8257",
     "showTitle": false,
     "tableResultSettingsMap": {},
     "title": ""
    }
   },
   "outputs": [
    {
     "output_type": "stream",
     "name": "stdout",
     "output_type": "stream",
     "text": [
      "Reading files in /dbfs/cluster-log-delivery-for-mars/0212-173107-t682yo74/init_scripts/0212-173107-t682yo74_30346ff0c3ca49789acb1aa75ecda671 directory:\nContent of file /dbfs/cluster-log-delivery-for-mars/0212-173107-t682yo74/init_scripts/0212-173107-t682yo74_30346ff0c3ca49789acb1aa75ecda671/20250513_141443_00_A7FC8A19F99D4698-188ed6cebc9a69fd3621e38f9b0f3dae27533525849b687d30efb4cbbc5aed38-GLOBAL-hms-lineage-1739459994889313000.stderr.log:\n-----------------------------\nContent of file /dbfs/cluster-log-delivery-for-mars/0212-173107-t682yo74/init_scripts/0212-173107-t682yo74_30346ff0c3ca49789acb1aa75ecda671/20250513_141443_00_A7FC8A19F99D4698-188ed6cebc9a69fd3621e38f9b0f3dae27533525849b687d30efb4cbbc5aed38-GLOBAL-hms-lineage-1739459994889313000.stdout.log:\n-----------------------------\nContent of file /dbfs/cluster-log-delivery-for-mars/0212-173107-t682yo74/init_scripts/0212-173107-t682yo74_30346ff0c3ca49789acb1aa75ecda671/20250513_141443_01_init_script.sh.stderr.log:\n/Volumes/dkushari_uc/init_schema/init_script_adf/init_script.sh: line 2: ech: command not found\n-----------------------------\nContent of file /dbfs/cluster-log-delivery-for-mars/0212-173107-t682yo74/init_scripts/0212-173107-t682yo74_30346ff0c3ca49789acb1aa75ecda671/20250513_141443_01_init_script.sh.stdout.log:\n-----------------------------\nReading files in /dbfs/cluster-log-delivery-for-mars/0212-173107-t682yo74/init_scripts/0212-173107-t682yo74_95114c9c0a89436cada7d75c7a2f3007 directory:\nContent of file /dbfs/cluster-log-delivery-for-mars/0212-173107-t682yo74/init_scripts/0212-173107-t682yo74_95114c9c0a89436cada7d75c7a2f3007/20250513_141444_00_A7FC8A19F99D4698-188ed6cebc9a69fd3621e38f9b0f3dae27533525849b687d30efb4cbbc5aed38-GLOBAL-hms-lineage-1739459994889313000.stderr.log:\n-----------------------------\nContent of file /dbfs/cluster-log-delivery-for-mars/0212-173107-t682yo74/init_scripts/0212-173107-t682yo74_95114c9c0a89436cada7d75c7a2f3007/20250513_141444_00_A7FC8A19F99D4698-188ed6cebc9a69fd3621e38f9b0f3dae27533525849b687d30efb4cbbc5aed38-GLOBAL-hms-lineage-1739459994889313000.stdout.log:\n-----------------------------\nContent of file /dbfs/cluster-log-delivery-for-mars/0212-173107-t682yo74/init_scripts/0212-173107-t682yo74_95114c9c0a89436cada7d75c7a2f3007/20250513_141444_01_init_script.sh.stderr.log:\n/Volumes/dkushari_uc/init_schema/init_script_adf/init_script.sh: line 2: ech: command not found\n-----------------------------\nContent of file /dbfs/cluster-log-delivery-for-mars/0212-173107-t682yo74/init_scripts/0212-173107-t682yo74_95114c9c0a89436cada7d75c7a2f3007/20250513_141444_01_init_script.sh.stdout.log:\n-----------------------------\nReading files in /dbfs/cluster-log-delivery-for-mars/0212-173107-t682yo74/init_scripts/0212-173107-t682yo74_e7cd8953ee1b44168ab7292e324d7ac4 directory:\nContent of file /dbfs/cluster-log-delivery-for-mars/0212-173107-t682yo74/init_scripts/0212-173107-t682yo74_e7cd8953ee1b44168ab7292e324d7ac4/20250513_141445_00_A7FC8A19F99D4698-188ed6cebc9a69fd3621e38f9b0f3dae27533525849b687d30efb4cbbc5aed38-GLOBAL-hms-lineage-1739459994889313000.stderr.log:\n-----------------------------\nContent of file /dbfs/cluster-log-delivery-for-mars/0212-173107-t682yo74/init_scripts/0212-173107-t682yo74_e7cd8953ee1b44168ab7292e324d7ac4/20250513_141445_00_A7FC8A19F99D4698-188ed6cebc9a69fd3621e38f9b0f3dae27533525849b687d30efb4cbbc5aed38-GLOBAL-hms-lineage-1739459994889313000.stdout.log:\n-----------------------------\nContent of file /dbfs/cluster-log-delivery-for-mars/0212-173107-t682yo74/init_scripts/0212-173107-t682yo74_e7cd8953ee1b44168ab7292e324d7ac4/20250513_141445_01_init_script.sh.stderr.log:\n/Volumes/dkushari_uc/init_schema/init_script_adf/init_script.sh: line 2: ech: command not found\n-----------------------------\nContent of file /dbfs/cluster-log-delivery-for-mars/0212-173107-t682yo74/init_scripts/0212-173107-t682yo74_e7cd8953ee1b44168ab7292e324d7ac4/20250513_141445_01_init_script.sh.stdout.log:\n-----------------------------\n"
     ]
    }
   ],
   "source": [
    "%sh\n",
    "cluster_id=\"0212-173107-t682yo74\"\n",
    "ROOT_DIR=\"/dbfs/cluster-log-delivery-for-mars/${cluster_id}/init_scripts\"\n",
    "\n",
    "for dir in \"$ROOT_DIR\"/*; do\n",
    "    # Check if the current item is a directory\n",
    "    if [ -d \"$dir\" ]; then\n",
    "        echo \"Reading files in $dir directory:\"\n",
    "        # Loop through all files in the current directory\n",
    "        for file in \"$dir\"/*; do\n",
    "            # Check if the current item is a file\n",
    "            if [ -f \"$file\" ]; then\n",
    "                echo \"Content of file $file:\"\n",
    "                cat \"$file\" # Print the content of the file\n",
    "                echo \"-----------------------------\"\n",
    "            fi\n",
    "        done\n",
    "    fi\n",
    "done"
   ]
  }
 ],
 "metadata": {
  "application/vnd.databricks.v1+notebook": {
   "computePreferences": null,
   "dashboards": [],
   "environmentMetadata": null,
   "inputWidgetPreferences": null,
   "language": "python",
   "notebookMetadata": {
    "mostRecentlyExecutedCommandWithImplicitDF": {
     "commandId": 2279690455286949,
     "dataframes": [
      "_sqldf"
     ]
    },
    "pythonIndentUnit": 2
   },
   "notebookName": "Evaluate_Init_script_logging_output",
   "widgets": {}
  },
  "language_info": {
   "name": "python"
  }
 },
 "nbformat": 4,
 "nbformat_minor": 0
}