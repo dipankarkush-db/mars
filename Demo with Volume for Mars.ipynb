{
 "cells": [
  {
   "cell_type": "code",
   "execution_count": 0,
   "metadata": {
    "application/vnd.databricks.v1+cell": {
     "cellMetadata": {
      "byteLimit": 2048000,
      "rowLimit": 10000
     },
     "inputWidgets": {},
     "nuid": "faf1fd90-10e2-4618-8323-2c362bba7869",
     "showTitle": false,
     "tableResultSettingsMap": {},
     "title": ""
    }
   },
   "outputs": [
    {
     "output_type": "display_data",
     "data": {
      "text/html": [
       "<style scoped>\n",
       "  .table-result-container {\n",
       "    max-height: 300px;\n",
       "    overflow: auto;\n",
       "  }\n",
       "  table, th, td {\n",
       "    border: 1px solid black;\n",
       "    border-collapse: collapse;\n",
       "  }\n",
       "  th, td {\n",
       "    padding: 5px;\n",
       "  }\n",
       "  th {\n",
       "    text-align: left;\n",
       "  }\n",
       "</style><div class='table-result-container'><table class='table-result'><thead style='background-color: white'><tr></tr></thead><tbody></tbody></table></div>"
      ]
     },
     "metadata": {
      "application/vnd.databricks.v1+output": {
       "addedWidgets": {},
       "aggData": [],
       "aggError": "",
       "aggOverflow": false,
       "aggSchema": [],
       "aggSeriesLimitReached": false,
       "aggType": "",
       "arguments": {},
       "columnCustomDisplayInfos": {},
       "data": [],
       "datasetInfos": [],
       "dbfsResultPath": null,
       "isJsonSchema": true,
       "metadata": {},
       "overflow": false,
       "plotOptions": {
        "customPlotOptions": {},
        "displayType": "table",
        "pivotAggregation": null,
        "pivotColumns": null,
        "xColumns": null,
        "yColumns": null
       },
       "removedWidgets": [],
       "schema": [],
       "type": "table"
      }
     },
     "output_type": "display_data"
    }
   ],
   "source": [
    "drop catalog if exists marscat cascade;\n",
    "create catalog if not exists marscat;\n",
    "create schema if not exists marscat.marsschema;"
   ]
  },
  {
   "cell_type": "code",
   "execution_count": 0,
   "metadata": {
    "application/vnd.databricks.v1+cell": {
     "cellMetadata": {
      "byteLimit": 2048000,
      "rowLimit": 10000
     },
     "inputWidgets": {},
     "nuid": "d22e3d7c-1ae4-4b34-8d27-dcfd8856a23c",
     "showTitle": true,
     "tableResultSettingsMap": {},
     "title": "Data Clean Up"
    }
   },
   "outputs": [
    {
     "output_type": "execute_result",
     "data": {
      "text/plain": [
       "True"
      ]
     },
     "execution_count": 1,
     "metadata": {},
     "output_type": "execute_result"
    }
   ],
   "source": [
    "%python\n",
    "dbutils.fs.rm(\"abfss://dkushari@dkusharistorageaccount.dfs.core.windows.net/marsdemo\", recurse = True)"
   ]
  },
  {
   "cell_type": "code",
   "execution_count": 0,
   "metadata": {
    "application/vnd.databricks.v1+cell": {
     "cellMetadata": {
      "byteLimit": 2048000,
      "rowLimit": 10000
     },
     "inputWidgets": {},
     "nuid": "89fea837-a151-4e49-8ab4-3fc205374709",
     "showTitle": true,
     "tableResultSettingsMap": {},
     "title": "Data Population step"
    }
   },
   "outputs": [
    {
     "output_type": "display_data",
     "data": {
      "text/html": [
       "<style scoped>\n",
       "  .table-result-container {\n",
       "    max-height: 300px;\n",
       "    overflow: auto;\n",
       "  }\n",
       "  table, th, td {\n",
       "    border: 1px solid black;\n",
       "    border-collapse: collapse;\n",
       "  }\n",
       "  th, td {\n",
       "    padding: 5px;\n",
       "  }\n",
       "  th {\n",
       "    text-align: left;\n",
       "  }\n",
       "</style><div class='table-result-container'><table class='table-result'><thead style='background-color: white'><tr></tr></thead><tbody></tbody></table></div>"
      ]
     },
     "metadata": {
      "application/vnd.databricks.v1+output": {
       "addedWidgets": {},
       "aggData": [],
       "aggError": "",
       "aggOverflow": false,
       "aggSchema": [],
       "aggSeriesLimitReached": false,
       "aggType": "",
       "arguments": {},
       "columnCustomDisplayInfos": {},
       "data": [],
       "datasetInfos": [],
       "dbfsResultPath": null,
       "isJsonSchema": true,
       "metadata": {},
       "overflow": false,
       "plotOptions": {
        "customPlotOptions": {},
        "displayType": "table",
        "pivotAggregation": null,
        "pivotColumns": null,
        "xColumns": null,
        "yColumns": null
       },
       "removedWidgets": [],
       "schema": [],
       "type": "table"
      }
     },
     "output_type": "display_data"
    }
   ],
   "source": [
    "create table if not exists marscat.marsschema.test\n",
    "location \"abfss://dkushari@dkusharistorageaccount.dfs.core.windows.net/marsdemo/delta/volumedemo\"\n",
    "as\n",
    "select * from parquet.`dbfs:/databricks-datasets/learning-spark-v2/people/people-10m.parquet/` limit 100;\n",
    "drop table if exists marscat.marsschema.test;\n",
    "create table if not exists marscat.marsschema.test\n",
    "using parquet\n",
    "location \"abfss://dkushari@dkusharistorageaccount.dfs.core.windows.net/marsdemo/parquet/volumedemo\"\n",
    "as\n",
    "select * from parquet.`dbfs:/databricks-datasets/learning-spark-v2/people/people-10m.parquet/` limit 100;\n",
    "drop table if exists marscat.marsschema.test;"
   ]
  },
  {
   "cell_type": "code",
   "execution_count": 0,
   "metadata": {
    "application/vnd.databricks.v1+cell": {
     "cellMetadata": {
      "byteLimit": 2048000,
      "rowLimit": 10000
     },
     "inputWidgets": {},
     "nuid": "27a151f6-5091-4bfd-aaa6-33c79cc918ca",
     "showTitle": false,
     "tableResultSettingsMap": {},
     "title": ""
    }
   },
   "outputs": [
    {
     "output_type": "display_data",
     "data": {
      "text/html": [
       "<style scoped>\n",
       "  .table-result-container {\n",
       "    max-height: 300px;\n",
       "    overflow: auto;\n",
       "  }\n",
       "  table, th, td {\n",
       "    border: 1px solid black;\n",
       "    border-collapse: collapse;\n",
       "  }\n",
       "  th, td {\n",
       "    padding: 5px;\n",
       "  }\n",
       "  th {\n",
       "    text-align: left;\n",
       "  }\n",
       "</style><div class='table-result-container'><table class='table-result'><thead style='background-color: white'><tr></tr></thead><tbody></tbody></table></div>"
      ]
     },
     "metadata": {
      "application/vnd.databricks.v1+output": {
       "addedWidgets": {},
       "aggData": [],
       "aggError": "",
       "aggOverflow": false,
       "aggSchema": [],
       "aggSeriesLimitReached": false,
       "aggType": "",
       "arguments": {},
       "columnCustomDisplayInfos": {},
       "data": [],
       "datasetInfos": [],
       "dbfsResultPath": null,
       "isJsonSchema": true,
       "metadata": {},
       "overflow": false,
       "plotOptions": {
        "customPlotOptions": {},
        "displayType": "table",
        "pivotAggregation": null,
        "pivotColumns": null,
        "xColumns": null,
        "yColumns": null
       },
       "removedWidgets": [],
       "schema": [],
       "type": "table"
      }
     },
     "output_type": "display_data"
    }
   ],
   "source": [
    "drop VOLUME if exists marscat.marsschema.marsdemo_delta_vol;\n",
    "CREATE EXTERNAL VOLUME if not exists  marscat.marsschema.marsdemo_delta_vol\n",
    "LOCATION 'abfss://dkushari@dkusharistorageaccount.dfs.core.windows.net/marsdemo/delta/volumedemo';\n",
    "\n",
    "drop VOLUME if exists marscat.marsschema.marsdemo_parquet_vol;\n",
    "CREATE EXTERNAL VOLUME if not exists  marscat.marsschema.marsdemo_parquet_vol\n",
    "LOCATION 'abfss://dkushari@dkusharistorageaccount.dfs.core.windows.net/marsdemo/parquet/volumedemo';"
   ]
  },
  {
   "cell_type": "code",
   "execution_count": 0,
   "metadata": {
    "application/vnd.databricks.v1+cell": {
     "cellMetadata": {
      "byteLimit": 2048000,
      "rowLimit": 10000
     },
     "inputWidgets": {},
     "nuid": "3320959a-4a1e-4fb3-8052-b538ec55d5c9",
     "showTitle": true,
     "tableResultSettingsMap": {},
     "title": "Describe existing Volume"
    }
   },
   "outputs": [
    {
     "output_type": "display_data",
     "data": {
      "text/html": [
       "<style scoped>\n",
       "  .table-result-container {\n",
       "    max-height: 300px;\n",
       "    overflow: auto;\n",
       "  }\n",
       "  table, th, td {\n",
       "    border: 1px solid black;\n",
       "    border-collapse: collapse;\n",
       "  }\n",
       "  th, td {\n",
       "    padding: 5px;\n",
       "  }\n",
       "  th {\n",
       "    text-align: left;\n",
       "  }\n",
       "</style><div class='table-result-container'><table class='table-result'><thead style='background-color: white'><tr><th>name</th><th>catalog</th><th>database</th><th>owner</th><th>storage_location</th><th>volume_type</th><th>comment</th><th>securable_type</th><th>securable_kind</th></tr></thead><tbody><tr><td>marsdemo_delta_vol</td><td>marscat</td><td>marsschema</td><td>dipankar.kushari@databricks.com</td><td>abfss://dkushari@dkusharistorageaccount.dfs.core.windows.net/marsdemo/delta/volumedemo</td><td>EXTERNAL</td><td>null</td><td>VOLUME</td><td>VOLUME_EXTERNAL</td></tr></tbody></table></div>"
      ]
     },
     "metadata": {
      "application/vnd.databricks.v1+output": {
       "addedWidgets": {},
       "aggData": [],
       "aggError": "",
       "aggOverflow": false,
       "aggSchema": [],
       "aggSeriesLimitReached": false,
       "aggType": "",
       "arguments": {},
       "columnCustomDisplayInfos": {},
       "data": [
        [
         "marsdemo_delta_vol",
         "marscat",
         "marsschema",
         "dipankar.kushari@databricks.com",
         "abfss://dkushari@dkusharistorageaccount.dfs.core.windows.net/marsdemo/delta/volumedemo",
         "EXTERNAL",
         null,
         "VOLUME",
         "VOLUME_EXTERNAL"
        ]
       ],
       "datasetInfos": [],
       "dbfsResultPath": null,
       "isJsonSchema": true,
       "metadata": {},
       "overflow": false,
       "plotOptions": {
        "customPlotOptions": {},
        "displayType": "table",
        "pivotAggregation": null,
        "pivotColumns": null,
        "xColumns": null,
        "yColumns": null
       },
       "removedWidgets": [],
       "schema": [
        {
         "metadata": "{}",
         "name": "name",
         "type": "\"string\""
        },
        {
         "metadata": "{}",
         "name": "catalog",
         "type": "\"string\""
        },
        {
         "metadata": "{}",
         "name": "database",
         "type": "\"string\""
        },
        {
         "metadata": "{}",
         "name": "owner",
         "type": "\"string\""
        },
        {
         "metadata": "{}",
         "name": "storage_location",
         "type": "\"string\""
        },
        {
         "metadata": "{}",
         "name": "volume_type",
         "type": "\"string\""
        },
        {
         "metadata": "{}",
         "name": "comment",
         "type": "\"string\""
        },
        {
         "metadata": "{}",
         "name": "securable_type",
         "type": "\"string\""
        },
        {
         "metadata": "{}",
         "name": "securable_kind",
         "type": "\"string\""
        }
       ],
       "type": "table"
      }
     },
     "output_type": "display_data"
    }
   ],
   "source": [
    "describe volume marscat.marsschema.marsdemo_delta_vol;"
   ]
  },
  {
   "cell_type": "code",
   "execution_count": 0,
   "metadata": {
    "application/vnd.databricks.v1+cell": {
     "cellMetadata": {
      "byteLimit": 2048000,
      "rowLimit": 10000
     },
     "inputWidgets": {},
     "nuid": "6bcc1576-1760-4e08-a586-aabc7f44f629",
     "showTitle": false,
     "tableResultSettingsMap": {},
     "title": ""
    }
   },
   "outputs": [
    {
     "output_type": "display_data",
     "data": {
      "text/html": [
       "<style scoped>\n",
       "  .table-result-container {\n",
       "    max-height: 300px;\n",
       "    overflow: auto;\n",
       "  }\n",
       "  table, th, td {\n",
       "    border: 1px solid black;\n",
       "    border-collapse: collapse;\n",
       "  }\n",
       "  th, td {\n",
       "    padding: 5px;\n",
       "  }\n",
       "  th {\n",
       "    text-align: left;\n",
       "  }\n",
       "</style><div class='table-result-container'><table class='table-result'><thead style='background-color: white'><tr><th>name</th><th>catalog</th><th>database</th><th>owner</th><th>storage_location</th><th>volume_type</th><th>comment</th><th>securable_type</th><th>securable_kind</th></tr></thead><tbody><tr><td>marsdemo_parquet_vol</td><td>marscat</td><td>marsschema</td><td>dipankar.kushari@databricks.com</td><td>abfss://dkushari@dkusharistorageaccount.dfs.core.windows.net/marsdemo/parquet/volumedemo</td><td>EXTERNAL</td><td>null</td><td>VOLUME</td><td>VOLUME_EXTERNAL</td></tr></tbody></table></div>"
      ]
     },
     "metadata": {
      "application/vnd.databricks.v1+output": {
       "addedWidgets": {},
       "aggData": [],
       "aggError": "",
       "aggOverflow": false,
       "aggSchema": [],
       "aggSeriesLimitReached": false,
       "aggType": "",
       "arguments": {},
       "columnCustomDisplayInfos": {},
       "data": [
        [
         "marsdemo_parquet_vol",
         "marscat",
         "marsschema",
         "dipankar.kushari@databricks.com",
         "abfss://dkushari@dkusharistorageaccount.dfs.core.windows.net/marsdemo/parquet/volumedemo",
         "EXTERNAL",
         null,
         "VOLUME",
         "VOLUME_EXTERNAL"
        ]
       ],
       "datasetInfos": [],
       "dbfsResultPath": null,
       "isJsonSchema": true,
       "metadata": {},
       "overflow": false,
       "plotOptions": {
        "customPlotOptions": {},
        "displayType": "table",
        "pivotAggregation": null,
        "pivotColumns": null,
        "xColumns": null,
        "yColumns": null
       },
       "removedWidgets": [],
       "schema": [
        {
         "metadata": "{}",
         "name": "name",
         "type": "\"string\""
        },
        {
         "metadata": "{}",
         "name": "catalog",
         "type": "\"string\""
        },
        {
         "metadata": "{}",
         "name": "database",
         "type": "\"string\""
        },
        {
         "metadata": "{}",
         "name": "owner",
         "type": "\"string\""
        },
        {
         "metadata": "{}",
         "name": "storage_location",
         "type": "\"string\""
        },
        {
         "metadata": "{}",
         "name": "volume_type",
         "type": "\"string\""
        },
        {
         "metadata": "{}",
         "name": "comment",
         "type": "\"string\""
        },
        {
         "metadata": "{}",
         "name": "securable_type",
         "type": "\"string\""
        },
        {
         "metadata": "{}",
         "name": "securable_kind",
         "type": "\"string\""
        }
       ],
       "type": "table"
      }
     },
     "output_type": "display_data"
    }
   ],
   "source": [
    "describe volume marscat.marsschema.marsdemo_parquet_vol;"
   ]
  },
  {
   "cell_type": "code",
   "execution_count": 0,
   "metadata": {
    "application/vnd.databricks.v1+cell": {
     "cellMetadata": {
      "byteLimit": 2048000,
      "rowLimit": 10000
     },
     "inputWidgets": {},
     "nuid": "20930331-5da2-47c1-9581-85b3afca7d33",
     "showTitle": false,
     "tableResultSettingsMap": {},
     "title": ""
    }
   },
   "outputs": [
    {
     "output_type": "display_data",
     "data": {
      "text/html": [
       "<style scoped>\n",
       "  .table-result-container {\n",
       "    max-height: 300px;\n",
       "    overflow: auto;\n",
       "  }\n",
       "  table, th, td {\n",
       "    border: 1px solid black;\n",
       "    border-collapse: collapse;\n",
       "  }\n",
       "  th, td {\n",
       "    padding: 5px;\n",
       "  }\n",
       "  th {\n",
       "    text-align: left;\n",
       "  }\n",
       "</style><div class='table-result-container'><table class='table-result'><thead style='background-color: white'><tr><th>database</th><th>volume_name</th></tr></thead><tbody><tr><td>marsschema</td><td>marsdemo_delta_vol</td></tr><tr><td>marsschema</td><td>marsdemo_parquet_vol</td></tr></tbody></table></div>"
      ]
     },
     "metadata": {
      "application/vnd.databricks.v1+output": {
       "addedWidgets": {},
       "aggData": [],
       "aggError": "",
       "aggOverflow": false,
       "aggSchema": [],
       "aggSeriesLimitReached": false,
       "aggType": "",
       "arguments": {},
       "columnCustomDisplayInfos": {},
       "data": [
        [
         "marsschema",
         "marsdemo_delta_vol"
        ],
        [
         "marsschema",
         "marsdemo_parquet_vol"
        ]
       ],
       "datasetInfos": [],
       "dbfsResultPath": null,
       "isJsonSchema": true,
       "metadata": {},
       "overflow": false,
       "plotOptions": {
        "customPlotOptions": {},
        "displayType": "table",
        "pivotAggregation": null,
        "pivotColumns": null,
        "xColumns": null,
        "yColumns": null
       },
       "removedWidgets": [],
       "schema": [
        {
         "metadata": "{}",
         "name": "database",
         "type": "\"string\""
        },
        {
         "metadata": "{}",
         "name": "volume_name",
         "type": "\"string\""
        }
       ],
       "type": "table"
      }
     },
     "output_type": "display_data"
    }
   ],
   "source": [
    "SHOW VOLUMES IN marscat.marsschema;"
   ]
  },
  {
   "cell_type": "code",
   "execution_count": 0,
   "metadata": {
    "application/vnd.databricks.v1+cell": {
     "cellMetadata": {
      "byteLimit": 2048000,
      "rowLimit": 10000
     },
     "inputWidgets": {},
     "nuid": "8d008f64-2b6f-4e64-8f08-239f72cc0a9c",
     "showTitle": true,
     "tableResultSettingsMap": {},
     "title": "Describe External Location"
    }
   },
   "outputs": [
    {
     "output_type": "display_data",
     "data": {
      "text/html": [
       "<style scoped>\n",
       "  .table-result-container {\n",
       "    max-height: 300px;\n",
       "    overflow: auto;\n",
       "  }\n",
       "  table, th, td {\n",
       "    border: 1px solid black;\n",
       "    border-collapse: collapse;\n",
       "  }\n",
       "  th, td {\n",
       "    padding: 5px;\n",
       "  }\n",
       "  th {\n",
       "    text-align: left;\n",
       "  }\n",
       "</style><div class='table-result-container'><table class='table-result'><thead style='background-color: white'><tr><th>name</th><th>url</th><th>credential_name</th><th>owner</th><th>created_by</th><th>created_at</th><th>comment</th></tr></thead><tbody><tr><td>dkushari-ext-loc-1</td><td>abfss://dkushari@dkusharistorageaccount.dfs.core.windows.net/</td><td>dkushari-cred</td><td>dipankar.kushari@databricks.com</td><td>dipankar.kushari@databricks.com</td><td>2025-03-03T18:03:04.461Z</td><td>null</td></tr></tbody></table></div>"
      ]
     },
     "metadata": {
      "application/vnd.databricks.v1+output": {
       "addedWidgets": {},
       "aggData": [],
       "aggError": "",
       "aggOverflow": false,
       "aggSchema": [],
       "aggSeriesLimitReached": false,
       "aggType": "",
       "arguments": {},
       "columnCustomDisplayInfos": {},
       "data": [
        [
         "dkushari-ext-loc-1",
         "abfss://dkushari@dkusharistorageaccount.dfs.core.windows.net/",
         "dkushari-cred",
         "dipankar.kushari@databricks.com",
         "dipankar.kushari@databricks.com",
         "2025-03-03T18:03:04.461Z",
         null
        ]
       ],
       "datasetInfos": [],
       "dbfsResultPath": null,
       "isJsonSchema": true,
       "metadata": {},
       "overflow": false,
       "plotOptions": {
        "customPlotOptions": {},
        "displayType": "table",
        "pivotAggregation": null,
        "pivotColumns": null,
        "xColumns": null,
        "yColumns": null
       },
       "removedWidgets": [],
       "schema": [
        {
         "metadata": "{}",
         "name": "name",
         "type": "\"string\""
        },
        {
         "metadata": "{}",
         "name": "url",
         "type": "\"string\""
        },
        {
         "metadata": "{}",
         "name": "credential_name",
         "type": "\"string\""
        },
        {
         "metadata": "{}",
         "name": "owner",
         "type": "\"string\""
        },
        {
         "metadata": "{}",
         "name": "created_by",
         "type": "\"string\""
        },
        {
         "metadata": "{}",
         "name": "created_at",
         "type": "\"timestamp\""
        },
        {
         "metadata": "{}",
         "name": "comment",
         "type": "\"string\""
        }
       ],
       "type": "table"
      }
     },
     "output_type": "display_data"
    }
   ],
   "source": [
    "DESCRIBE EXTERNAL LOCATION `dkushari-ext-loc-1`;"
   ]
  },
  {
   "cell_type": "code",
   "execution_count": 0,
   "metadata": {
    "application/vnd.databricks.v1+cell": {
     "cellMetadata": {
      "byteLimit": 2048000,
      "rowLimit": 10000
     },
     "inputWidgets": {},
     "nuid": "ad0f6f94-9ae0-4933-bacb-6372a3ecac35",
     "showTitle": true,
     "tableResultSettingsMap": {},
     "title": "Access Volume Data Various Ways - Databricks file system utilities"
    }
   },
   "outputs": [
    {
     "output_type": "display_data",
     "data": {
      "text/html": [
       "<style scoped>\n",
       "  .table-result-container {\n",
       "    max-height: 300px;\n",
       "    overflow: auto;\n",
       "  }\n",
       "  table, th, td {\n",
       "    border: 1px solid black;\n",
       "    border-collapse: collapse;\n",
       "  }\n",
       "  th, td {\n",
       "    padding: 5px;\n",
       "  }\n",
       "  th {\n",
       "    text-align: left;\n",
       "  }\n",
       "</style><div class='table-result-container'><table class='table-result'><thead style='background-color: white'><tr><th>path</th><th>name</th><th>size</th><th>modificationTime</th></tr></thead><tbody><tr><td>dbfs:/Volumes/marscat/marsschema/marsdemo_delta_vol/_delta_log/</td><td>_delta_log/</td><td>0</td><td>1743088714000</td></tr><tr><td>dbfs:/Volumes/marscat/marsschema/marsdemo_delta_vol/part-00000-24a8d6a0-75a6-41a4-ba07-a3bd30850232.c000.snappy.parquet</td><td>part-00000-24a8d6a0-75a6-41a4-ba07-a3bd30850232.c000.snappy.parquet</td><td>7041</td><td>1743088717000</td></tr></tbody></table></div>"
      ]
     },
     "metadata": {
      "application/vnd.databricks.v1+output": {
       "addedWidgets": {},
       "aggData": [],
       "aggError": "",
       "aggOverflow": false,
       "aggSchema": [],
       "aggSeriesLimitReached": false,
       "aggType": "",
       "arguments": {},
       "columnCustomDisplayInfos": {},
       "data": [
        [
         "dbfs:/Volumes/marscat/marsschema/marsdemo_delta_vol/_delta_log/",
         "_delta_log/",
         0,
         1743088714000
        ],
        [
         "dbfs:/Volumes/marscat/marsschema/marsdemo_delta_vol/part-00000-24a8d6a0-75a6-41a4-ba07-a3bd30850232.c000.snappy.parquet",
         "part-00000-24a8d6a0-75a6-41a4-ba07-a3bd30850232.c000.snappy.parquet",
         7041,
         1743088717000
        ]
       ],
       "datasetInfos": [],
       "dbfsResultPath": null,
       "isJsonSchema": true,
       "metadata": {},
       "overflow": false,
       "plotOptions": {
        "customPlotOptions": {},
        "displayType": "table",
        "pivotAggregation": null,
        "pivotColumns": null,
        "xColumns": null,
        "yColumns": null
       },
       "removedWidgets": [],
       "schema": [
        {
         "metadata": "{}",
         "name": "path",
         "type": "\"string\""
        },
        {
         "metadata": "{}",
         "name": "name",
         "type": "\"string\""
        },
        {
         "metadata": "{}",
         "name": "size",
         "type": "\"long\""
        },
        {
         "metadata": "{}",
         "name": "modificationTime",
         "type": "\"long\""
        }
       ],
       "type": "table"
      }
     },
     "output_type": "display_data"
    }
   ],
   "source": [
    "%python\n",
    "display(dbutils.fs.ls(\"/Volumes/marscat/marsschema/marsdemo_delta_vol\"))"
   ]
  },
  {
   "cell_type": "code",
   "execution_count": 0,
   "metadata": {
    "application/vnd.databricks.v1+cell": {
     "cellMetadata": {
      "byteLimit": 2048000,
      "rowLimit": 10000
     },
     "inputWidgets": {},
     "nuid": "726d7eab-4eca-466d-8213-52348f916fbb",
     "showTitle": false,
     "tableResultSettingsMap": {},
     "title": ""
    }
   },
   "outputs": [
    {
     "output_type": "display_data",
     "data": {
      "text/html": [
       "<style scoped>\n",
       "  .table-result-container {\n",
       "    max-height: 300px;\n",
       "    overflow: auto;\n",
       "  }\n",
       "  table, th, td {\n",
       "    border: 1px solid black;\n",
       "    border-collapse: collapse;\n",
       "  }\n",
       "  th, td {\n",
       "    padding: 5px;\n",
       "  }\n",
       "  th {\n",
       "    text-align: left;\n",
       "  }\n",
       "</style><div class='table-result-container'><table class='table-result'><thead style='background-color: white'><tr><th>path</th><th>name</th><th>size</th><th>modificationTime</th></tr></thead><tbody><tr><td>dbfs:/Volumes/marscat/marsschema/marsdemo_parquet_vol/_SUCCESS</td><td>_SUCCESS</td><td>0</td><td>1743088726000</td></tr><tr><td>dbfs:/Volumes/marscat/marsschema/marsdemo_parquet_vol/_committed_5608140467555080913</td><td>_committed_5608140467555080913</td><td>125</td><td>1743088725000</td></tr><tr><td>dbfs:/Volumes/marscat/marsschema/marsdemo_parquet_vol/_started_5608140467555080913</td><td>_started_5608140467555080913</td><td>0</td><td>1743088724000</td></tr><tr><td>dbfs:/Volumes/marscat/marsschema/marsdemo_parquet_vol/part-00000-tid-5608140467555080913-5489f993-204f-497b-b3b4-1a308da4ed65-2950-1.c000.snappy.parquet</td><td>part-00000-tid-5608140467555080913-5489f993-204f-497b-b3b4-1a308da4ed65-2950-1.c000.snappy.parquet</td><td>7041</td><td>1743088725000</td></tr></tbody></table></div>"
      ]
     },
     "metadata": {
      "application/vnd.databricks.v1+output": {
       "addedWidgets": {},
       "aggData": [],
       "aggError": "",
       "aggOverflow": false,
       "aggSchema": [],
       "aggSeriesLimitReached": false,
       "aggType": "",
       "arguments": {},
       "columnCustomDisplayInfos": {},
       "data": [
        [
         "dbfs:/Volumes/marscat/marsschema/marsdemo_parquet_vol/_SUCCESS",
         "_SUCCESS",
         0,
         1743088726000
        ],
        [
         "dbfs:/Volumes/marscat/marsschema/marsdemo_parquet_vol/_committed_5608140467555080913",
         "_committed_5608140467555080913",
         125,
         1743088725000
        ],
        [
         "dbfs:/Volumes/marscat/marsschema/marsdemo_parquet_vol/_started_5608140467555080913",
         "_started_5608140467555080913",
         0,
         1743088724000
        ],
        [
         "dbfs:/Volumes/marscat/marsschema/marsdemo_parquet_vol/part-00000-tid-5608140467555080913-5489f993-204f-497b-b3b4-1a308da4ed65-2950-1.c000.snappy.parquet",
         "part-00000-tid-5608140467555080913-5489f993-204f-497b-b3b4-1a308da4ed65-2950-1.c000.snappy.parquet",
         7041,
         1743088725000
        ]
       ],
       "datasetInfos": [],
       "dbfsResultPath": null,
       "isJsonSchema": true,
       "metadata": {},
       "overflow": false,
       "plotOptions": {
        "customPlotOptions": {},
        "displayType": "table",
        "pivotAggregation": null,
        "pivotColumns": null,
        "xColumns": null,
        "yColumns": null
       },
       "removedWidgets": [],
       "schema": [
        {
         "metadata": "{}",
         "name": "path",
         "type": "\"string\""
        },
        {
         "metadata": "{}",
         "name": "name",
         "type": "\"string\""
        },
        {
         "metadata": "{}",
         "name": "size",
         "type": "\"long\""
        },
        {
         "metadata": "{}",
         "name": "modificationTime",
         "type": "\"long\""
        }
       ],
       "type": "table"
      }
     },
     "output_type": "display_data"
    }
   ],
   "source": [
    "%python\n",
    "display(dbutils.fs.ls(\"/Volumes/marscat/marsschema/marsdemo_parquet_vol\"))"
   ]
  },
  {
   "cell_type": "code",
   "execution_count": 0,
   "metadata": {
    "application/vnd.databricks.v1+cell": {
     "cellMetadata": {
      "byteLimit": 2048000,
      "rowLimit": 10000
     },
     "inputWidgets": {},
     "nuid": "2e271235-8c06-422c-9736-c641297d17dc",
     "showTitle": false,
     "tableResultSettingsMap": {},
     "title": ""
    }
   },
   "outputs": [
    {
     "output_type": "display_data",
     "data": {
      "text/html": [
       "<style scoped>\n",
       "  .table-result-container {\n",
       "    max-height: 300px;\n",
       "    overflow: auto;\n",
       "  }\n",
       "  table, th, td {\n",
       "    border: 1px solid black;\n",
       "    border-collapse: collapse;\n",
       "  }\n",
       "  th, td {\n",
       "    padding: 5px;\n",
       "  }\n",
       "  th {\n",
       "    text-align: left;\n",
       "  }\n",
       "</style><div class='table-result-container'><table class='table-result'><thead style='background-color: white'><tr><th>path</th><th>name</th><th>size</th><th>modificationTime</th></tr></thead><tbody><tr><td>dbfs:/Volumes/marscat/marsschema/marsdemo_parquet_vol/_SUCCESS</td><td>_SUCCESS</td><td>0</td><td>1743088726000</td></tr><tr><td>dbfs:/Volumes/marscat/marsschema/marsdemo_parquet_vol/_committed_5608140467555080913</td><td>_committed_5608140467555080913</td><td>125</td><td>1743088725000</td></tr><tr><td>dbfs:/Volumes/marscat/marsschema/marsdemo_parquet_vol/_started_5608140467555080913</td><td>_started_5608140467555080913</td><td>0</td><td>1743088724000</td></tr><tr><td>dbfs:/Volumes/marscat/marsschema/marsdemo_parquet_vol/part-00000-tid-5608140467555080913-5489f993-204f-497b-b3b4-1a308da4ed65-2950-1.c000.snappy.parquet</td><td>part-00000-tid-5608140467555080913-5489f993-204f-497b-b3b4-1a308da4ed65-2950-1.c000.snappy.parquet</td><td>7041</td><td>1743088725000</td></tr></tbody></table></div>"
      ]
     },
     "metadata": {
      "application/vnd.databricks.v1+output": {
       "addedWidgets": {},
       "aggData": [],
       "aggError": "",
       "aggOverflow": false,
       "aggSchema": [],
       "aggSeriesLimitReached": false,
       "aggType": "",
       "arguments": {},
       "columnCustomDisplayInfos": {},
       "data": [
        [
         "dbfs:/Volumes/marscat/marsschema/marsdemo_parquet_vol/_SUCCESS",
         "_SUCCESS",
         0,
         1743088726000
        ],
        [
         "dbfs:/Volumes/marscat/marsschema/marsdemo_parquet_vol/_committed_5608140467555080913",
         "_committed_5608140467555080913",
         125,
         1743088725000
        ],
        [
         "dbfs:/Volumes/marscat/marsschema/marsdemo_parquet_vol/_started_5608140467555080913",
         "_started_5608140467555080913",
         0,
         1743088724000
        ],
        [
         "dbfs:/Volumes/marscat/marsschema/marsdemo_parquet_vol/part-00000-tid-5608140467555080913-5489f993-204f-497b-b3b4-1a308da4ed65-2950-1.c000.snappy.parquet",
         "part-00000-tid-5608140467555080913-5489f993-204f-497b-b3b4-1a308da4ed65-2950-1.c000.snappy.parquet",
         7041,
         1743088725000
        ]
       ],
       "datasetInfos": [],
       "dbfsResultPath": null,
       "isJsonSchema": true,
       "metadata": {},
       "overflow": false,
       "plotOptions": {
        "customPlotOptions": {},
        "displayType": "table",
        "pivotAggregation": null,
        "pivotColumns": null,
        "xColumns": null,
        "yColumns": null
       },
       "removedWidgets": [],
       "schema": [
        {
         "metadata": "{}",
         "name": "path",
         "type": "\"string\""
        },
        {
         "metadata": "{}",
         "name": "name",
         "type": "\"string\""
        },
        {
         "metadata": "{}",
         "name": "size",
         "type": "\"long\""
        },
        {
         "metadata": "{}",
         "name": "modificationTime",
         "type": "\"long\""
        }
       ],
       "type": "table"
      }
     },
     "output_type": "display_data"
    }
   ],
   "source": [
    "%fs ls /Volumes/marscat/marsschema/marsdemo_parquet_vol"
   ]
  },
  {
   "cell_type": "code",
   "execution_count": 0,
   "metadata": {
    "application/vnd.databricks.v1+cell": {
     "cellMetadata": {
      "byteLimit": 2048000,
      "rowLimit": 10000
     },
     "inputWidgets": {},
     "nuid": "97425710-2b10-4650-a527-b4748d176253",
     "showTitle": false,
     "tableResultSettingsMap": {},
     "title": ""
    }
   },
   "outputs": [
    {
     "output_type": "display_data",
     "data": {
      "text/html": [
       "<style scoped>\n",
       "  .table-result-container {\n",
       "    max-height: 300px;\n",
       "    overflow: auto;\n",
       "  }\n",
       "  table, th, td {\n",
       "    border: 1px solid black;\n",
       "    border-collapse: collapse;\n",
       "  }\n",
       "  th, td {\n",
       "    padding: 5px;\n",
       "  }\n",
       "  th {\n",
       "    text-align: left;\n",
       "  }\n",
       "</style><div class='table-result-container'><table class='table-result'><thead style='background-color: white'><tr><th>path</th><th>name</th><th>size</th><th>modificationTime</th></tr></thead><tbody><tr><td>dbfs:/Volumes/marscat/marsschema/marsdemo_delta_vol/_delta_log/</td><td>_delta_log/</td><td>0</td><td>1743088714000</td></tr><tr><td>dbfs:/Volumes/marscat/marsschema/marsdemo_delta_vol/part-00000-24a8d6a0-75a6-41a4-ba07-a3bd30850232.c000.snappy.parquet</td><td>part-00000-24a8d6a0-75a6-41a4-ba07-a3bd30850232.c000.snappy.parquet</td><td>7041</td><td>1743088717000</td></tr></tbody></table></div>"
      ]
     },
     "metadata": {
      "application/vnd.databricks.v1+output": {
       "addedWidgets": {},
       "aggData": [],
       "aggError": "",
       "aggOverflow": false,
       "aggSchema": [],
       "aggSeriesLimitReached": false,
       "aggType": "",
       "arguments": {},
       "columnCustomDisplayInfos": {},
       "data": [
        [
         "dbfs:/Volumes/marscat/marsschema/marsdemo_delta_vol/_delta_log/",
         "_delta_log/",
         0,
         1743088714000
        ],
        [
         "dbfs:/Volumes/marscat/marsschema/marsdemo_delta_vol/part-00000-24a8d6a0-75a6-41a4-ba07-a3bd30850232.c000.snappy.parquet",
         "part-00000-24a8d6a0-75a6-41a4-ba07-a3bd30850232.c000.snappy.parquet",
         7041,
         1743088717000
        ]
       ],
       "datasetInfos": [],
       "dbfsResultPath": null,
       "isJsonSchema": true,
       "metadata": {},
       "overflow": false,
       "plotOptions": {
        "customPlotOptions": {},
        "displayType": "table",
        "pivotAggregation": null,
        "pivotColumns": null,
        "xColumns": null,
        "yColumns": null
       },
       "removedWidgets": [],
       "schema": [
        {
         "metadata": "{}",
         "name": "path",
         "type": "\"string\""
        },
        {
         "metadata": "{}",
         "name": "name",
         "type": "\"string\""
        },
        {
         "metadata": "{}",
         "name": "size",
         "type": "\"long\""
        },
        {
         "metadata": "{}",
         "name": "modificationTime",
         "type": "\"long\""
        }
       ],
       "type": "table"
      }
     },
     "output_type": "display_data"
    }
   ],
   "source": [
    "%fs ls /Volumes/marscat/marsschema/marsdemo_delta_vol"
   ]
  },
  {
   "cell_type": "code",
   "execution_count": 0,
   "metadata": {
    "application/vnd.databricks.v1+cell": {
     "cellMetadata": {
      "byteLimit": 2048000,
      "rowLimit": 10000
     },
     "inputWidgets": {},
     "nuid": "cd30fc9e-bd44-4148-a3ae-97ec8d75d4dd",
     "showTitle": true,
     "tableResultSettingsMap": {},
     "title": "Access Volume Data Various Ways - Apache Spark™ APIs"
    }
   },
   "outputs": [
    {
     "output_type": "display_data",
     "data": {
      "text/html": [
       "<style scoped>\n",
       "  .table-result-container {\n",
       "    max-height: 300px;\n",
       "    overflow: auto;\n",
       "  }\n",
       "  table, th, td {\n",
       "    border: 1px solid black;\n",
       "    border-collapse: collapse;\n",
       "  }\n",
       "  th, td {\n",
       "    padding: 5px;\n",
       "  }\n",
       "  th {\n",
       "    text-align: left;\n",
       "  }\n",
       "</style><div class='table-result-container'><table class='table-result'><thead style='background-color: white'><tr><th>id</th><th>firstName</th><th>middleName</th><th>lastName</th><th>gender</th><th>birthDate</th><th>ssn</th><th>salary</th></tr></thead><tbody><tr><td>1</td><td>Pennie</td><td>Carry</td><td>Hirschmann</td><td>F</td><td>1955-07-02T04:00:00Z</td><td>981-43-9345</td><td>56172</td></tr><tr><td>2</td><td>An</td><td>Amira</td><td>Cowper</td><td>F</td><td>1992-02-08T05:00:00Z</td><td>978-97-8086</td><td>40203</td></tr><tr><td>3</td><td>Quyen</td><td>Marlen</td><td>Dome</td><td>F</td><td>1970-10-11T04:00:00Z</td><td>957-57-8246</td><td>53417</td></tr><tr><td>4</td><td>Coralie</td><td>Antonina</td><td>Marshal</td><td>F</td><td>1990-04-11T04:00:00Z</td><td>963-39-4885</td><td>94727</td></tr><tr><td>5</td><td>Terrie</td><td>Wava</td><td>Bonar</td><td>F</td><td>1980-01-16T05:00:00Z</td><td>964-49-8051</td><td>79908</td></tr><tr><td>6</td><td>Chassidy</td><td>Concepcion</td><td>Bourthouloume</td><td>F</td><td>1990-11-24T05:00:00Z</td><td>954-59-9172</td><td>64652</td></tr><tr><td>7</td><td>Geri</td><td>Tambra</td><td>Mosby</td><td>F</td><td>1970-12-19T05:00:00Z</td><td>968-16-4020</td><td>38195</td></tr><tr><td>8</td><td>Patria</td><td>Nancy</td><td>Arstall</td><td>F</td><td>1985-01-02T05:00:00Z</td><td>984-76-3770</td><td>102053</td></tr><tr><td>9</td><td>Terese</td><td>Alfredia</td><td>Tocque</td><td>F</td><td>1967-11-17T05:00:00Z</td><td>967-48-7309</td><td>91294</td></tr><tr><td>10</td><td>Wava</td><td>Lyndsey</td><td>Jeandon</td><td>F</td><td>1963-12-30T05:00:00Z</td><td>997-82-2946</td><td>56521</td></tr><tr><td>11</td><td>Sophie</td><td>Emerita</td><td>Hearn</td><td>F</td><td>1979-09-17T04:00:00Z</td><td>977-66-4483</td><td>90920</td></tr><tr><td>12</td><td>Jodie</td><td>Tabetha</td><td>Laneham</td><td>F</td><td>1959-01-31T05:00:00Z</td><td>923-24-9769</td><td>90634</td></tr><tr><td>13</td><td>Marietta</td><td>Mandi</td><td>Yansons</td><td>F</td><td>1974-02-19T04:00:00Z</td><td>900-34-8083</td><td>93162</td></tr><tr><td>14</td><td>Caridad</td><td>Maire</td><td>Snelle</td><td>F</td><td>1960-09-26T04:00:00Z</td><td>992-11-7062</td><td>38859</td></tr><tr><td>15</td><td>Yasmine</td><td>Meg</td><td>Edworthye</td><td>F</td><td>1960-01-29T05:00:00Z</td><td>922-12-9862</td><td>76220</td></tr><tr><td>16</td><td>Chan</td><td>Jani</td><td>Hartas</td><td>F</td><td>1986-12-05T05:00:00Z</td><td>995-51-3115</td><td>75050</td></tr><tr><td>17</td><td>Evangeline</td><td>Wanetta</td><td>Casserley</td><td>F</td><td>1961-09-29T04:00:00Z</td><td>926-61-3526</td><td>62814</td></tr><tr><td>18</td><td>Elnora</td><td>Kecia</td><td>Lipman</td><td>F</td><td>1980-02-14T05:00:00Z</td><td>950-23-9739</td><td>71350</td></tr><tr><td>19</td><td>Adelle</td><td>Kathyrn</td><td>Grigoriev</td><td>F</td><td>1978-11-14T05:00:00Z</td><td>923-23-5984</td><td>60600</td></tr><tr><td>20</td><td>Mica</td><td>Zandra</td><td>Challens</td><td>F</td><td>1973-11-24T05:00:00Z</td><td>918-66-1232</td><td>51071</td></tr><tr><td>21</td><td>Sarah</td><td>Nickie</td><td>Sadgrove</td><td>F</td><td>1990-11-07T05:00:00Z</td><td>913-18-2717</td><td>101046</td></tr><tr><td>22</td><td>Robbin</td><td>Leeanne</td><td>Sallnow</td><td>F</td><td>1958-12-16T05:00:00Z</td><td>938-88-6975</td><td>98588</td></tr><tr><td>23</td><td>Caroyln</td><td>Mamie</td><td>Cardon</td><td>F</td><td>1994-05-15T04:00:00Z</td><td>927-52-5062</td><td>60449</td></tr><tr><td>24</td><td>Penni</td><td>Stevie</td><td>Searby</td><td>F</td><td>1955-03-23T05:00:00Z</td><td>951-65-9959</td><td>83728</td></tr><tr><td>25</td><td>Yesenia</td><td>Eileen</td><td>Goldring</td><td>F</td><td>1997-07-09T04:00:00Z</td><td>920-71-3216</td><td>73060</td></tr><tr><td>26</td><td>Frankie</td><td>Jovan</td><td>Lydall</td><td>F</td><td>1976-07-08T04:00:00Z</td><td>911-59-3216</td><td>105270</td></tr><tr><td>27</td><td>Venetta</td><td>Laura</td><td>Komorowski</td><td>F</td><td>1960-12-01T05:00:00Z</td><td>921-55-9589</td><td>38186</td></tr><tr><td>28</td><td>Marget</td><td>Thao</td><td>Lundbeck</td><td>F</td><td>1961-04-07T05:00:00Z</td><td>979-14-7198</td><td>67310</td></tr><tr><td>29</td><td>Leeann</td><td>Verlene</td><td>Hewes</td><td>F</td><td>1985-01-03T05:00:00Z</td><td>905-67-9311</td><td>107411</td></tr><tr><td>30</td><td>Noella</td><td>Isabella</td><td>Ubsdell</td><td>F</td><td>1975-04-20T04:00:00Z</td><td>919-78-4521</td><td>67250</td></tr><tr><td>31</td><td>Elly</td><td>Natividad</td><td>Iorns</td><td>F</td><td>1967-04-28T05:00:00Z</td><td>905-52-3088</td><td>80919</td></tr><tr><td>32</td><td>Hedwig</td><td>Dulcie</td><td>Pendleberry</td><td>F</td><td>1998-12-02T05:00:00Z</td><td>666-51-9916</td><td>60857</td></tr><tr><td>33</td><td>Bridget</td><td>Brande</td><td>Perche</td><td>F</td><td>1989-03-07T05:00:00Z</td><td>928-39-7663</td><td>58615</td></tr><tr><td>34</td><td>Soo</td><td>Laurena</td><td>Danovich</td><td>F</td><td>1977-11-20T05:00:00Z</td><td>908-19-5146</td><td>57712</td></tr><tr><td>35</td><td>Hanh</td><td>Juliet</td><td>Stiegers</td><td>F</td><td>1989-09-09T04:00:00Z</td><td>905-35-6642</td><td>91772</td></tr><tr><td>36</td><td>Lucretia</td><td>Marna</td><td>Beekman</td><td>F</td><td>1982-08-16T04:00:00Z</td><td>909-68-3003</td><td>92152</td></tr><tr><td>37</td><td>Stasia</td><td>Perla</td><td>Manoch</td><td>F</td><td>1989-04-26T04:00:00Z</td><td>936-61-9195</td><td>58131</td></tr><tr><td>38</td><td>Nena</td><td>Jamika</td><td>Hinkes</td><td>F</td><td>1964-02-29T05:00:00Z</td><td>937-51-9958</td><td>82412</td></tr><tr><td>39</td><td>Kala</td><td>Violeta</td><td>Lyfe</td><td>F</td><td>1994-06-23T04:00:00Z</td><td>981-88-8006</td><td>101601</td></tr><tr><td>40</td><td>Alethea</td><td>Dolly</td><td>Brickdale</td><td>F</td><td>1960-06-26T04:00:00Z</td><td>908-46-4236</td><td>89151</td></tr><tr><td>41</td><td>Felisha</td><td>Hiroko</td><td>Hayland</td><td>F</td><td>1959-12-13T05:00:00Z</td><td>914-65-8532</td><td>98256</td></tr><tr><td>42</td><td>Gussie</td><td>India</td><td>McKeeman</td><td>F</td><td>1991-11-15T05:00:00Z</td><td>922-91-9943</td><td>46945</td></tr><tr><td>43</td><td>Page</td><td>Salina</td><td>McHaffy</td><td>F</td><td>1956-09-14T04:00:00Z</td><td>900-96-5804</td><td>115410</td></tr><tr><td>44</td><td>Idell</td><td>Ami</td><td>Ateggart</td><td>F</td><td>1977-06-26T04:00:00Z</td><td>979-47-6065</td><td>89747</td></tr><tr><td>45</td><td>Leonia</td><td>Elda</td><td>Windrass</td><td>F</td><td>1961-11-05T05:00:00Z</td><td>927-67-2402</td><td>87159</td></tr><tr><td>46</td><td>Eleonore</td><td>Erma</td><td>Leport</td><td>F</td><td>1973-06-13T04:00:00Z</td><td>953-54-9836</td><td>98072</td></tr><tr><td>47</td><td>Logan</td><td>Magaly</td><td>Siggs</td><td>F</td><td>1974-07-16T04:00:00Z</td><td>948-66-9847</td><td>55780</td></tr><tr><td>48</td><td>Carie</td><td>Serina</td><td>Waryk</td><td>F</td><td>1957-02-11T05:00:00Z</td><td>980-30-1656</td><td>52549</td></tr><tr><td>49</td><td>Pansy</td><td>Suzie</td><td>Shrieves</td><td>F</td><td>1991-05-24T04:00:00Z</td><td>910-16-4444</td><td>73811</td></tr><tr><td>50</td><td>Malissa</td><td>Amada</td><td>McRill</td><td>F</td><td>1958-05-02T04:00:00Z</td><td>954-65-2862</td><td>115845</td></tr><tr><td>51</td><td>Blythe</td><td>Carri</td><td>Crinkley</td><td>F</td><td>1973-03-08T05:00:00Z</td><td>998-29-3568</td><td>112662</td></tr><tr><td>52</td><td>Marketta</td><td>Rachele</td><td>Borg-Bartolo</td><td>F</td><td>1975-10-10T04:00:00Z</td><td>981-60-8178</td><td>66712</td></tr><tr><td>53</td><td>Curtis</td><td>Tempie</td><td>Sponton</td><td>F</td><td>1980-07-23T04:00:00Z</td><td>997-70-4544</td><td>74767</td></tr><tr><td>54</td><td>Maricela</td><td>Elane</td><td>Heinel</td><td>F</td><td>1972-12-21T05:00:00Z</td><td>931-49-8310</td><td>67801</td></tr><tr><td>55</td><td>Delpha</td><td>Michelina</td><td>Biggadike</td><td>F</td><td>1957-09-30T04:00:00Z</td><td>987-71-9556</td><td>104262</td></tr><tr><td>56</td><td>Bernita</td><td>Kathaleen</td><td>McIan</td><td>F</td><td>1971-02-20T05:00:00Z</td><td>982-68-4659</td><td>48781</td></tr><tr><td>57</td><td>Jesusa</td><td>Cherise</td><td>Parysowna</td><td>F</td><td>1988-03-14T05:00:00Z</td><td>992-77-3435</td><td>111979</td></tr><tr><td>58</td><td>Chung</td><td>Dian</td><td>Dautry</td><td>F</td><td>1998-01-12T05:00:00Z</td><td>946-10-3058</td><td>47190</td></tr><tr><td>59</td><td>Vickie</td><td>Ranae</td><td>Saddleton</td><td>F</td><td>1967-04-01T05:00:00Z</td><td>955-57-2783</td><td>52410</td></tr><tr><td>60</td><td>Sena</td><td>Particia</td><td>Stittle</td><td>F</td><td>1956-01-10T05:00:00Z</td><td>971-10-8053</td><td>72745</td></tr><tr><td>61</td><td>Adelia</td><td>Gita</td><td>Vassel</td><td>F</td><td>1990-10-24T04:00:00Z</td><td>947-17-3832</td><td>63563</td></tr><tr><td>62</td><td>Erica</td><td>Louvenia</td><td>O'Drought</td><td>F</td><td>1991-03-08T05:00:00Z</td><td>904-49-5506</td><td>80113</td></tr><tr><td>63</td><td>Anjanette</td><td>Clelia</td><td>Hicks</td><td>F</td><td>1973-10-26T04:00:00Z</td><td>981-32-5795</td><td>61310</td></tr><tr><td>64</td><td>Kari</td><td>Rosalyn</td><td>Siney</td><td>F</td><td>1985-04-10T05:00:00Z</td><td>935-65-6035</td><td>65836</td></tr><tr><td>65</td><td>Eliana</td><td>Marcie</td><td>Gogay</td><td>F</td><td>1976-05-28T04:00:00Z</td><td>984-45-2254</td><td>32795</td></tr><tr><td>66</td><td>Winter</td><td>Esther</td><td>Cruddace</td><td>F</td><td>1989-12-28T05:00:00Z</td><td>997-63-7632</td><td>66115</td></tr><tr><td>67</td><td>Yuri</td><td>Elin</td><td>Byrne</td><td>F</td><td>1964-08-18T04:00:00Z</td><td>988-62-7594</td><td>52476</td></tr><tr><td>68</td><td>Kimberely</td><td>Beverlee</td><td>Mahon</td><td>F</td><td>1979-01-17T05:00:00Z</td><td>941-28-2731</td><td>92341</td></tr><tr><td>69</td><td>Toya</td><td>Waneta</td><td>Whebell</td><td>F</td><td>1989-07-23T04:00:00Z</td><td>947-97-1666</td><td>53715</td></tr><tr><td>70</td><td>Wynona</td><td>Maxie</td><td>Melia</td><td>F</td><td>1984-02-13T05:00:00Z</td><td>901-85-3278</td><td>73754</td></tr><tr><td>71</td><td>Katelyn</td><td>Merrie</td><td>Pocklington</td><td>F</td><td>1994-01-16T05:00:00Z</td><td>949-72-2758</td><td>77925</td></tr><tr><td>72</td><td>Lianne</td><td>Racquel</td><td>Bowe</td><td>F</td><td>1976-01-18T05:00:00Z</td><td>935-57-9860</td><td>114348</td></tr><tr><td>73</td><td>Kayla</td><td>Janella</td><td>Erskin</td><td>F</td><td>1965-06-25T04:00:00Z</td><td>916-57-2955</td><td>87593</td></tr><tr><td>74</td><td>Monserrate</td><td>Goldie</td><td>Trimming</td><td>F</td><td>1993-09-17T04:00:00Z</td><td>930-49-9845</td><td>57255</td></tr><tr><td>75</td><td>Alica</td><td>Elfrieda</td><td>Mousdall</td><td>F</td><td>1953-12-21T05:00:00Z</td><td>954-16-6401</td><td>96490</td></tr><tr><td>76</td><td>Dung</td><td>Leslie</td><td>Lambswood</td><td>F</td><td>1968-08-03T04:00:00Z</td><td>914-14-5994</td><td>57409</td></tr><tr><td>77</td><td>Jolene</td><td>Vennie</td><td>Pindell</td><td>F</td><td>1983-07-08T04:00:00Z</td><td>972-80-1367</td><td>72379</td></tr><tr><td>78</td><td>Deanne</td><td>Lindsay</td><td>Lambdin</td><td>F</td><td>1999-07-28T04:00:00Z</td><td>969-87-7115</td><td>83764</td></tr><tr><td>79</td><td>Carey</td><td>Kareen</td><td>Ciric</td><td>F</td><td>1999-02-23T05:00:00Z</td><td>913-31-5531</td><td>93416</td></tr><tr><td>80</td><td>Madison</td><td>Iris</td><td>Donovan</td><td>F</td><td>1984-09-05T04:00:00Z</td><td>953-91-7481</td><td>74484</td></tr><tr><td>81</td><td>Lasandra</td><td>Lin</td><td>Mowne</td><td>F</td><td>1986-03-30T05:00:00Z</td><td>984-79-5062</td><td>90966</td></tr><tr><td>82</td><td>Joella</td><td>Danae</td><td>Marxsen</td><td>F</td><td>1960-09-12T04:00:00Z</td><td>998-57-7440</td><td>109293</td></tr><tr><td>83</td><td>Markita</td><td>Shellie</td><td>Baskeyfied</td><td>F</td><td>1960-12-05T05:00:00Z</td><td>993-66-4078</td><td>134393</td></tr><tr><td>84</td><td>Callie</td><td>Josephina</td><td>Gatley</td><td>F</td><td>1988-05-25T04:00:00Z</td><td>963-80-2930</td><td>63879</td></tr><tr><td>85</td><td>Maia</td><td>Nadene</td><td>Putland</td><td>F</td><td>1979-12-22T05:00:00Z</td><td>966-80-6343</td><td>82866</td></tr><tr><td>86</td><td>Elma</td><td>Chau</td><td>Rossiter</td><td>F</td><td>1958-10-22T04:00:00Z</td><td>973-86-1495</td><td>80696</td></tr><tr><td>87</td><td>Luella</td><td>Cecile</td><td>Gant</td><td>F</td><td>1967-10-05T04:00:00Z</td><td>983-10-1764</td><td>78464</td></tr><tr><td>88</td><td>In</td><td>Susann</td><td>Lacroix</td><td>F</td><td>1999-07-23T04:00:00Z</td><td>907-56-8358</td><td>70873</td></tr><tr><td>89</td><td>Lizabeth</td><td>Sommer</td><td>Mayze</td><td>F</td><td>1971-04-24T05:00:00Z</td><td>981-26-7152</td><td>61597</td></tr><tr><td>90</td><td>Alice</td><td>Marisol</td><td>Novill</td><td>F</td><td>1992-05-21T04:00:00Z</td><td>924-10-7563</td><td>34053</td></tr><tr><td>91</td><td>Emelina</td><td>Joel</td><td>Skudder</td><td>F</td><td>1962-01-05T05:00:00Z</td><td>929-14-4074</td><td>53763</td></tr><tr><td>92</td><td>Ingeborg</td><td>Barbara</td><td>Darko</td><td>F</td><td>1982-01-18T05:00:00Z</td><td>989-81-9045</td><td>62846</td></tr><tr><td>93</td><td>Tonja</td><td>Sumiko</td><td>Druery</td><td>F</td><td>1969-03-12T05:00:00Z</td><td>902-58-6244</td><td>63075</td></tr><tr><td>94</td><td>Nila</td><td>Madelene</td><td>Gothard</td><td>F</td><td>1963-12-05T05:00:00Z</td><td>906-58-8356</td><td>100950</td></tr><tr><td>95</td><td>Rochelle</td><td>Ronni</td><td>Roycroft</td><td>F</td><td>1986-02-14T05:00:00Z</td><td>935-80-5907</td><td>92524</td></tr><tr><td>96</td><td>Flo</td><td>Jena</td><td>Broomer</td><td>F</td><td>1975-06-12T04:00:00Z</td><td>950-63-4472</td><td>47349</td></tr><tr><td>97</td><td>Jonell</td><td>Alia</td><td>Gifkins</td><td>F</td><td>1966-07-12T04:00:00Z</td><td>942-12-1605</td><td>84084</td></tr><tr><td>98</td><td>Perla</td><td>Delphia</td><td>Brimley</td><td>F</td><td>1965-07-31T04:00:00Z</td><td>934-71-2961</td><td>65425</td></tr><tr><td>99</td><td>Rheba</td><td>Charlesetta</td><td>Chatwood</td><td>F</td><td>1974-04-01T04:00:00Z</td><td>995-65-8928</td><td>76773</td></tr><tr><td>100</td><td>Annalisa</td><td>Nova</td><td>Patesel</td><td>F</td><td>1974-01-25T04:00:00Z</td><td>922-68-2542</td><td>66481</td></tr></tbody></table></div>"
      ]
     },
     "metadata": {
      "application/vnd.databricks.v1+output": {
       "addedWidgets": {},
       "aggData": [],
       "aggError": "",
       "aggOverflow": false,
       "aggSchema": [],
       "aggSeriesLimitReached": false,
       "aggType": "",
       "arguments": {},
       "columnCustomDisplayInfos": {},
       "data": [
        [
         1,
         "Pennie",
         "Carry",
         "Hirschmann",
         "F",
         "1955-07-02T04:00:00Z",
         "981-43-9345",
         56172
        ],
        [
         2,
         "An",
         "Amira",
         "Cowper",
         "F",
         "1992-02-08T05:00:00Z",
         "978-97-8086",
         40203
        ],
        [
         3,
         "Quyen",
         "Marlen",
         "Dome",
         "F",
         "1970-10-11T04:00:00Z",
         "957-57-8246",
         53417
        ],
        [
         4,
         "Coralie",
         "Antonina",
         "Marshal",
         "F",
         "1990-04-11T04:00:00Z",
         "963-39-4885",
         94727
        ],
        [
         5,
         "Terrie",
         "Wava",
         "Bonar",
         "F",
         "1980-01-16T05:00:00Z",
         "964-49-8051",
         79908
        ],
        [
         6,
         "Chassidy",
         "Concepcion",
         "Bourthouloume",
         "F",
         "1990-11-24T05:00:00Z",
         "954-59-9172",
         64652
        ],
        [
         7,
         "Geri",
         "Tambra",
         "Mosby",
         "F",
         "1970-12-19T05:00:00Z",
         "968-16-4020",
         38195
        ],
        [
         8,
         "Patria",
         "Nancy",
         "Arstall",
         "F",
         "1985-01-02T05:00:00Z",
         "984-76-3770",
         102053
        ],
        [
         9,
         "Terese",
         "Alfredia",
         "Tocque",
         "F",
         "1967-11-17T05:00:00Z",
         "967-48-7309",
         91294
        ],
        [
         10,
         "Wava",
         "Lyndsey",
         "Jeandon",
         "F",
         "1963-12-30T05:00:00Z",
         "997-82-2946",
         56521
        ],
        [
         11,
         "Sophie",
         "Emerita",
         "Hearn",
         "F",
         "1979-09-17T04:00:00Z",
         "977-66-4483",
         90920
        ],
        [
         12,
         "Jodie",
         "Tabetha",
         "Laneham",
         "F",
         "1959-01-31T05:00:00Z",
         "923-24-9769",
         90634
        ],
        [
         13,
         "Marietta",
         "Mandi",
         "Yansons",
         "F",
         "1974-02-19T04:00:00Z",
         "900-34-8083",
         93162
        ],
        [
         14,
         "Caridad",
         "Maire",
         "Snelle",
         "F",
         "1960-09-26T04:00:00Z",
         "992-11-7062",
         38859
        ],
        [
         15,
         "Yasmine",
         "Meg",
         "Edworthye",
         "F",
         "1960-01-29T05:00:00Z",
         "922-12-9862",
         76220
        ],
        [
         16,
         "Chan",
         "Jani",
         "Hartas",
         "F",
         "1986-12-05T05:00:00Z",
         "995-51-3115",
         75050
        ],
        [
         17,
         "Evangeline",
         "Wanetta",
         "Casserley",
         "F",
         "1961-09-29T04:00:00Z",
         "926-61-3526",
         62814
        ],
        [
         18,
         "Elnora",
         "Kecia",
         "Lipman",
         "F",
         "1980-02-14T05:00:00Z",
         "950-23-9739",
         71350
        ],
        [
         19,
         "Adelle",
         "Kathyrn",
         "Grigoriev",
         "F",
         "1978-11-14T05:00:00Z",
         "923-23-5984",
         60600
        ],
        [
         20,
         "Mica",
         "Zandra",
         "Challens",
         "F",
         "1973-11-24T05:00:00Z",
         "918-66-1232",
         51071
        ],
        [
         21,
         "Sarah",
         "Nickie",
         "Sadgrove",
         "F",
         "1990-11-07T05:00:00Z",
         "913-18-2717",
         101046
        ],
        [
         22,
         "Robbin",
         "Leeanne",
         "Sallnow",
         "F",
         "1958-12-16T05:00:00Z",
         "938-88-6975",
         98588
        ],
        [
         23,
         "Caroyln",
         "Mamie",
         "Cardon",
         "F",
         "1994-05-15T04:00:00Z",
         "927-52-5062",
         60449
        ],
        [
         24,
         "Penni",
         "Stevie",
         "Searby",
         "F",
         "1955-03-23T05:00:00Z",
         "951-65-9959",
         83728
        ],
        [
         25,
         "Yesenia",
         "Eileen",
         "Goldring",
         "F",
         "1997-07-09T04:00:00Z",
         "920-71-3216",
         73060
        ],
        [
         26,
         "Frankie",
         "Jovan",
         "Lydall",
         "F",
         "1976-07-08T04:00:00Z",
         "911-59-3216",
         105270
        ],
        [
         27,
         "Venetta",
         "Laura",
         "Komorowski",
         "F",
         "1960-12-01T05:00:00Z",
         "921-55-9589",
         38186
        ],
        [
         28,
         "Marget",
         "Thao",
         "Lundbeck",
         "F",
         "1961-04-07T05:00:00Z",
         "979-14-7198",
         67310
        ],
        [
         29,
         "Leeann",
         "Verlene",
         "Hewes",
         "F",
         "1985-01-03T05:00:00Z",
         "905-67-9311",
         107411
        ],
        [
         30,
         "Noella",
         "Isabella",
         "Ubsdell",
         "F",
         "1975-04-20T04:00:00Z",
         "919-78-4521",
         67250
        ],
        [
         31,
         "Elly",
         "Natividad",
         "Iorns",
         "F",
         "1967-04-28T05:00:00Z",
         "905-52-3088",
         80919
        ],
        [
         32,
         "Hedwig",
         "Dulcie",
         "Pendleberry",
         "F",
         "1998-12-02T05:00:00Z",
         "666-51-9916",
         60857
        ],
        [
         33,
         "Bridget",
         "Brande",
         "Perche",
         "F",
         "1989-03-07T05:00:00Z",
         "928-39-7663",
         58615
        ],
        [
         34,
         "Soo",
         "Laurena",
         "Danovich",
         "F",
         "1977-11-20T05:00:00Z",
         "908-19-5146",
         57712
        ],
        [
         35,
         "Hanh",
         "Juliet",
         "Stiegers",
         "F",
         "1989-09-09T04:00:00Z",
         "905-35-6642",
         91772
        ],
        [
         36,
         "Lucretia",
         "Marna",
         "Beekman",
         "F",
         "1982-08-16T04:00:00Z",
         "909-68-3003",
         92152
        ],
        [
         37,
         "Stasia",
         "Perla",
         "Manoch",
         "F",
         "1989-04-26T04:00:00Z",
         "936-61-9195",
         58131
        ],
        [
         38,
         "Nena",
         "Jamika",
         "Hinkes",
         "F",
         "1964-02-29T05:00:00Z",
         "937-51-9958",
         82412
        ],
        [
         39,
         "Kala",
         "Violeta",
         "Lyfe",
         "F",
         "1994-06-23T04:00:00Z",
         "981-88-8006",
         101601
        ],
        [
         40,
         "Alethea",
         "Dolly",
         "Brickdale",
         "F",
         "1960-06-26T04:00:00Z",
         "908-46-4236",
         89151
        ],
        [
         41,
         "Felisha",
         "Hiroko",
         "Hayland",
         "F",
         "1959-12-13T05:00:00Z",
         "914-65-8532",
         98256
        ],
        [
         42,
         "Gussie",
         "India",
         "McKeeman",
         "F",
         "1991-11-15T05:00:00Z",
         "922-91-9943",
         46945
        ],
        [
         43,
         "Page",
         "Salina",
         "McHaffy",
         "F",
         "1956-09-14T04:00:00Z",
         "900-96-5804",
         115410
        ],
        [
         44,
         "Idell",
         "Ami",
         "Ateggart",
         "F",
         "1977-06-26T04:00:00Z",
         "979-47-6065",
         89747
        ],
        [
         45,
         "Leonia",
         "Elda",
         "Windrass",
         "F",
         "1961-11-05T05:00:00Z",
         "927-67-2402",
         87159
        ],
        [
         46,
         "Eleonore",
         "Erma",
         "Leport",
         "F",
         "1973-06-13T04:00:00Z",
         "953-54-9836",
         98072
        ],
        [
         47,
         "Logan",
         "Magaly",
         "Siggs",
         "F",
         "1974-07-16T04:00:00Z",
         "948-66-9847",
         55780
        ],
        [
         48,
         "Carie",
         "Serina",
         "Waryk",
         "F",
         "1957-02-11T05:00:00Z",
         "980-30-1656",
         52549
        ],
        [
         49,
         "Pansy",
         "Suzie",
         "Shrieves",
         "F",
         "1991-05-24T04:00:00Z",
         "910-16-4444",
         73811
        ],
        [
         50,
         "Malissa",
         "Amada",
         "McRill",
         "F",
         "1958-05-02T04:00:00Z",
         "954-65-2862",
         115845
        ],
        [
         51,
         "Blythe",
         "Carri",
         "Crinkley",
         "F",
         "1973-03-08T05:00:00Z",
         "998-29-3568",
         112662
        ],
        [
         52,
         "Marketta",
         "Rachele",
         "Borg-Bartolo",
         "F",
         "1975-10-10T04:00:00Z",
         "981-60-8178",
         66712
        ],
        [
         53,
         "Curtis",
         "Tempie",
         "Sponton",
         "F",
         "1980-07-23T04:00:00Z",
         "997-70-4544",
         74767
        ],
        [
         54,
         "Maricela",
         "Elane",
         "Heinel",
         "F",
         "1972-12-21T05:00:00Z",
         "931-49-8310",
         67801
        ],
        [
         55,
         "Delpha",
         "Michelina",
         "Biggadike",
         "F",
         "1957-09-30T04:00:00Z",
         "987-71-9556",
         104262
        ],
        [
         56,
         "Bernita",
         "Kathaleen",
         "McIan",
         "F",
         "1971-02-20T05:00:00Z",
         "982-68-4659",
         48781
        ],
        [
         57,
         "Jesusa",
         "Cherise",
         "Parysowna",
         "F",
         "1988-03-14T05:00:00Z",
         "992-77-3435",
         111979
        ],
        [
         58,
         "Chung",
         "Dian",
         "Dautry",
         "F",
         "1998-01-12T05:00:00Z",
         "946-10-3058",
         47190
        ],
        [
         59,
         "Vickie",
         "Ranae",
         "Saddleton",
         "F",
         "1967-04-01T05:00:00Z",
         "955-57-2783",
         52410
        ],
        [
         60,
         "Sena",
         "Particia",
         "Stittle",
         "F",
         "1956-01-10T05:00:00Z",
         "971-10-8053",
         72745
        ],
        [
         61,
         "Adelia",
         "Gita",
         "Vassel",
         "F",
         "1990-10-24T04:00:00Z",
         "947-17-3832",
         63563
        ],
        [
         62,
         "Erica",
         "Louvenia",
         "O'Drought",
         "F",
         "1991-03-08T05:00:00Z",
         "904-49-5506",
         80113
        ],
        [
         63,
         "Anjanette",
         "Clelia",
         "Hicks",
         "F",
         "1973-10-26T04:00:00Z",
         "981-32-5795",
         61310
        ],
        [
         64,
         "Kari",
         "Rosalyn",
         "Siney",
         "F",
         "1985-04-10T05:00:00Z",
         "935-65-6035",
         65836
        ],
        [
         65,
         "Eliana",
         "Marcie",
         "Gogay",
         "F",
         "1976-05-28T04:00:00Z",
         "984-45-2254",
         32795
        ],
        [
         66,
         "Winter",
         "Esther",
         "Cruddace",
         "F",
         "1989-12-28T05:00:00Z",
         "997-63-7632",
         66115
        ],
        [
         67,
         "Yuri",
         "Elin",
         "Byrne",
         "F",
         "1964-08-18T04:00:00Z",
         "988-62-7594",
         52476
        ],
        [
         68,
         "Kimberely",
         "Beverlee",
         "Mahon",
         "F",
         "1979-01-17T05:00:00Z",
         "941-28-2731",
         92341
        ],
        [
         69,
         "Toya",
         "Waneta",
         "Whebell",
         "F",
         "1989-07-23T04:00:00Z",
         "947-97-1666",
         53715
        ],
        [
         70,
         "Wynona",
         "Maxie",
         "Melia",
         "F",
         "1984-02-13T05:00:00Z",
         "901-85-3278",
         73754
        ],
        [
         71,
         "Katelyn",
         "Merrie",
         "Pocklington",
         "F",
         "1994-01-16T05:00:00Z",
         "949-72-2758",
         77925
        ],
        [
         72,
         "Lianne",
         "Racquel",
         "Bowe",
         "F",
         "1976-01-18T05:00:00Z",
         "935-57-9860",
         114348
        ],
        [
         73,
         "Kayla",
         "Janella",
         "Erskin",
         "F",
         "1965-06-25T04:00:00Z",
         "916-57-2955",
         87593
        ],
        [
         74,
         "Monserrate",
         "Goldie",
         "Trimming",
         "F",
         "1993-09-17T04:00:00Z",
         "930-49-9845",
         57255
        ],
        [
         75,
         "Alica",
         "Elfrieda",
         "Mousdall",
         "F",
         "1953-12-21T05:00:00Z",
         "954-16-6401",
         96490
        ],
        [
         76,
         "Dung",
         "Leslie",
         "Lambswood",
         "F",
         "1968-08-03T04:00:00Z",
         "914-14-5994",
         57409
        ],
        [
         77,
         "Jolene",
         "Vennie",
         "Pindell",
         "F",
         "1983-07-08T04:00:00Z",
         "972-80-1367",
         72379
        ],
        [
         78,
         "Deanne",
         "Lindsay",
         "Lambdin",
         "F",
         "1999-07-28T04:00:00Z",
         "969-87-7115",
         83764
        ],
        [
         79,
         "Carey",
         "Kareen",
         "Ciric",
         "F",
         "1999-02-23T05:00:00Z",
         "913-31-5531",
         93416
        ],
        [
         80,
         "Madison",
         "Iris",
         "Donovan",
         "F",
         "1984-09-05T04:00:00Z",
         "953-91-7481",
         74484
        ],
        [
         81,
         "Lasandra",
         "Lin",
         "Mowne",
         "F",
         "1986-03-30T05:00:00Z",
         "984-79-5062",
         90966
        ],
        [
         82,
         "Joella",
         "Danae",
         "Marxsen",
         "F",
         "1960-09-12T04:00:00Z",
         "998-57-7440",
         109293
        ],
        [
         83,
         "Markita",
         "Shellie",
         "Baskeyfied",
         "F",
         "1960-12-05T05:00:00Z",
         "993-66-4078",
         134393
        ],
        [
         84,
         "Callie",
         "Josephina",
         "Gatley",
         "F",
         "1988-05-25T04:00:00Z",
         "963-80-2930",
         63879
        ],
        [
         85,
         "Maia",
         "Nadene",
         "Putland",
         "F",
         "1979-12-22T05:00:00Z",
         "966-80-6343",
         82866
        ],
        [
         86,
         "Elma",
         "Chau",
         "Rossiter",
         "F",
         "1958-10-22T04:00:00Z",
         "973-86-1495",
         80696
        ],
        [
         87,
         "Luella",
         "Cecile",
         "Gant",
         "F",
         "1967-10-05T04:00:00Z",
         "983-10-1764",
         78464
        ],
        [
         88,
         "In",
         "Susann",
         "Lacroix",
         "F",
         "1999-07-23T04:00:00Z",
         "907-56-8358",
         70873
        ],
        [
         89,
         "Lizabeth",
         "Sommer",
         "Mayze",
         "F",
         "1971-04-24T05:00:00Z",
         "981-26-7152",
         61597
        ],
        [
         90,
         "Alice",
         "Marisol",
         "Novill",
         "F",
         "1992-05-21T04:00:00Z",
         "924-10-7563",
         34053
        ],
        [
         91,
         "Emelina",
         "Joel",
         "Skudder",
         "F",
         "1962-01-05T05:00:00Z",
         "929-14-4074",
         53763
        ],
        [
         92,
         "Ingeborg",
         "Barbara",
         "Darko",
         "F",
         "1982-01-18T05:00:00Z",
         "989-81-9045",
         62846
        ],
        [
         93,
         "Tonja",
         "Sumiko",
         "Druery",
         "F",
         "1969-03-12T05:00:00Z",
         "902-58-6244",
         63075
        ],
        [
         94,
         "Nila",
         "Madelene",
         "Gothard",
         "F",
         "1963-12-05T05:00:00Z",
         "906-58-8356",
         100950
        ],
        [
         95,
         "Rochelle",
         "Ronni",
         "Roycroft",
         "F",
         "1986-02-14T05:00:00Z",
         "935-80-5907",
         92524
        ],
        [
         96,
         "Flo",
         "Jena",
         "Broomer",
         "F",
         "1975-06-12T04:00:00Z",
         "950-63-4472",
         47349
        ],
        [
         97,
         "Jonell",
         "Alia",
         "Gifkins",
         "F",
         "1966-07-12T04:00:00Z",
         "942-12-1605",
         84084
        ],
        [
         98,
         "Perla",
         "Delphia",
         "Brimley",
         "F",
         "1965-07-31T04:00:00Z",
         "934-71-2961",
         65425
        ],
        [
         99,
         "Rheba",
         "Charlesetta",
         "Chatwood",
         "F",
         "1974-04-01T04:00:00Z",
         "995-65-8928",
         76773
        ],
        [
         100,
         "Annalisa",
         "Nova",
         "Patesel",
         "F",
         "1974-01-25T04:00:00Z",
         "922-68-2542",
         66481
        ]
       ],
       "datasetInfos": [],
       "dbfsResultPath": null,
       "isJsonSchema": true,
       "metadata": {},
       "overflow": false,
       "plotOptions": {
        "customPlotOptions": {},
        "displayType": "table",
        "pivotAggregation": null,
        "pivotColumns": null,
        "xColumns": null,
        "yColumns": null
       },
       "removedWidgets": [],
       "schema": [
        {
         "metadata": "{}",
         "name": "id",
         "type": "\"integer\""
        },
        {
         "metadata": "{}",
         "name": "firstName",
         "type": "\"string\""
        },
        {
         "metadata": "{}",
         "name": "middleName",
         "type": "\"string\""
        },
        {
         "metadata": "{}",
         "name": "lastName",
         "type": "\"string\""
        },
        {
         "metadata": "{}",
         "name": "gender",
         "type": "\"string\""
        },
        {
         "metadata": "{}",
         "name": "birthDate",
         "type": "\"timestamp\""
        },
        {
         "metadata": "{}",
         "name": "ssn",
         "type": "\"string\""
        },
        {
         "metadata": "{}",
         "name": "salary",
         "type": "\"integer\""
        }
       ],
       "type": "table"
      }
     },
     "output_type": "display_data"
    }
   ],
   "source": [
    "%python\n",
    "display(spark.read.load(\"/Volumes/marscat/marsschema/marsdemo_delta_vol\"))"
   ]
  },
  {
   "cell_type": "code",
   "execution_count": 0,
   "metadata": {
    "application/vnd.databricks.v1+cell": {
     "cellMetadata": {
      "byteLimit": 2048000,
      "rowLimit": 10000
     },
     "inputWidgets": {},
     "nuid": "fc1c27fc-e532-4e55-a34f-3288231fb2bb",
     "showTitle": true,
     "tableResultSettingsMap": {},
     "title": "Apache Spark™ APIs - \"dbfs:\" works as well"
    }
   },
   "outputs": [
    {
     "output_type": "display_data",
     "data": {
      "text/html": [
       "<style scoped>\n",
       "  .table-result-container {\n",
       "    max-height: 300px;\n",
       "    overflow: auto;\n",
       "  }\n",
       "  table, th, td {\n",
       "    border: 1px solid black;\n",
       "    border-collapse: collapse;\n",
       "  }\n",
       "  th, td {\n",
       "    padding: 5px;\n",
       "  }\n",
       "  th {\n",
       "    text-align: left;\n",
       "  }\n",
       "</style><div class='table-result-container'><table class='table-result'><thead style='background-color: white'><tr><th>id</th><th>firstName</th><th>middleName</th><th>lastName</th><th>gender</th><th>birthDate</th><th>ssn</th><th>salary</th></tr></thead><tbody><tr><td>1</td><td>Pennie</td><td>Carry</td><td>Hirschmann</td><td>F</td><td>1955-07-02T04:00:00Z</td><td>981-43-9345</td><td>56172</td></tr><tr><td>2</td><td>An</td><td>Amira</td><td>Cowper</td><td>F</td><td>1992-02-08T05:00:00Z</td><td>978-97-8086</td><td>40203</td></tr><tr><td>3</td><td>Quyen</td><td>Marlen</td><td>Dome</td><td>F</td><td>1970-10-11T04:00:00Z</td><td>957-57-8246</td><td>53417</td></tr><tr><td>4</td><td>Coralie</td><td>Antonina</td><td>Marshal</td><td>F</td><td>1990-04-11T04:00:00Z</td><td>963-39-4885</td><td>94727</td></tr><tr><td>5</td><td>Terrie</td><td>Wava</td><td>Bonar</td><td>F</td><td>1980-01-16T05:00:00Z</td><td>964-49-8051</td><td>79908</td></tr><tr><td>6</td><td>Chassidy</td><td>Concepcion</td><td>Bourthouloume</td><td>F</td><td>1990-11-24T05:00:00Z</td><td>954-59-9172</td><td>64652</td></tr><tr><td>7</td><td>Geri</td><td>Tambra</td><td>Mosby</td><td>F</td><td>1970-12-19T05:00:00Z</td><td>968-16-4020</td><td>38195</td></tr><tr><td>8</td><td>Patria</td><td>Nancy</td><td>Arstall</td><td>F</td><td>1985-01-02T05:00:00Z</td><td>984-76-3770</td><td>102053</td></tr><tr><td>9</td><td>Terese</td><td>Alfredia</td><td>Tocque</td><td>F</td><td>1967-11-17T05:00:00Z</td><td>967-48-7309</td><td>91294</td></tr><tr><td>10</td><td>Wava</td><td>Lyndsey</td><td>Jeandon</td><td>F</td><td>1963-12-30T05:00:00Z</td><td>997-82-2946</td><td>56521</td></tr><tr><td>11</td><td>Sophie</td><td>Emerita</td><td>Hearn</td><td>F</td><td>1979-09-17T04:00:00Z</td><td>977-66-4483</td><td>90920</td></tr><tr><td>12</td><td>Jodie</td><td>Tabetha</td><td>Laneham</td><td>F</td><td>1959-01-31T05:00:00Z</td><td>923-24-9769</td><td>90634</td></tr><tr><td>13</td><td>Marietta</td><td>Mandi</td><td>Yansons</td><td>F</td><td>1974-02-19T04:00:00Z</td><td>900-34-8083</td><td>93162</td></tr><tr><td>14</td><td>Caridad</td><td>Maire</td><td>Snelle</td><td>F</td><td>1960-09-26T04:00:00Z</td><td>992-11-7062</td><td>38859</td></tr><tr><td>15</td><td>Yasmine</td><td>Meg</td><td>Edworthye</td><td>F</td><td>1960-01-29T05:00:00Z</td><td>922-12-9862</td><td>76220</td></tr><tr><td>16</td><td>Chan</td><td>Jani</td><td>Hartas</td><td>F</td><td>1986-12-05T05:00:00Z</td><td>995-51-3115</td><td>75050</td></tr><tr><td>17</td><td>Evangeline</td><td>Wanetta</td><td>Casserley</td><td>F</td><td>1961-09-29T04:00:00Z</td><td>926-61-3526</td><td>62814</td></tr><tr><td>18</td><td>Elnora</td><td>Kecia</td><td>Lipman</td><td>F</td><td>1980-02-14T05:00:00Z</td><td>950-23-9739</td><td>71350</td></tr><tr><td>19</td><td>Adelle</td><td>Kathyrn</td><td>Grigoriev</td><td>F</td><td>1978-11-14T05:00:00Z</td><td>923-23-5984</td><td>60600</td></tr><tr><td>20</td><td>Mica</td><td>Zandra</td><td>Challens</td><td>F</td><td>1973-11-24T05:00:00Z</td><td>918-66-1232</td><td>51071</td></tr><tr><td>21</td><td>Sarah</td><td>Nickie</td><td>Sadgrove</td><td>F</td><td>1990-11-07T05:00:00Z</td><td>913-18-2717</td><td>101046</td></tr><tr><td>22</td><td>Robbin</td><td>Leeanne</td><td>Sallnow</td><td>F</td><td>1958-12-16T05:00:00Z</td><td>938-88-6975</td><td>98588</td></tr><tr><td>23</td><td>Caroyln</td><td>Mamie</td><td>Cardon</td><td>F</td><td>1994-05-15T04:00:00Z</td><td>927-52-5062</td><td>60449</td></tr><tr><td>24</td><td>Penni</td><td>Stevie</td><td>Searby</td><td>F</td><td>1955-03-23T05:00:00Z</td><td>951-65-9959</td><td>83728</td></tr><tr><td>25</td><td>Yesenia</td><td>Eileen</td><td>Goldring</td><td>F</td><td>1997-07-09T04:00:00Z</td><td>920-71-3216</td><td>73060</td></tr><tr><td>26</td><td>Frankie</td><td>Jovan</td><td>Lydall</td><td>F</td><td>1976-07-08T04:00:00Z</td><td>911-59-3216</td><td>105270</td></tr><tr><td>27</td><td>Venetta</td><td>Laura</td><td>Komorowski</td><td>F</td><td>1960-12-01T05:00:00Z</td><td>921-55-9589</td><td>38186</td></tr><tr><td>28</td><td>Marget</td><td>Thao</td><td>Lundbeck</td><td>F</td><td>1961-04-07T05:00:00Z</td><td>979-14-7198</td><td>67310</td></tr><tr><td>29</td><td>Leeann</td><td>Verlene</td><td>Hewes</td><td>F</td><td>1985-01-03T05:00:00Z</td><td>905-67-9311</td><td>107411</td></tr><tr><td>30</td><td>Noella</td><td>Isabella</td><td>Ubsdell</td><td>F</td><td>1975-04-20T04:00:00Z</td><td>919-78-4521</td><td>67250</td></tr><tr><td>31</td><td>Elly</td><td>Natividad</td><td>Iorns</td><td>F</td><td>1967-04-28T05:00:00Z</td><td>905-52-3088</td><td>80919</td></tr><tr><td>32</td><td>Hedwig</td><td>Dulcie</td><td>Pendleberry</td><td>F</td><td>1998-12-02T05:00:00Z</td><td>666-51-9916</td><td>60857</td></tr><tr><td>33</td><td>Bridget</td><td>Brande</td><td>Perche</td><td>F</td><td>1989-03-07T05:00:00Z</td><td>928-39-7663</td><td>58615</td></tr><tr><td>34</td><td>Soo</td><td>Laurena</td><td>Danovich</td><td>F</td><td>1977-11-20T05:00:00Z</td><td>908-19-5146</td><td>57712</td></tr><tr><td>35</td><td>Hanh</td><td>Juliet</td><td>Stiegers</td><td>F</td><td>1989-09-09T04:00:00Z</td><td>905-35-6642</td><td>91772</td></tr><tr><td>36</td><td>Lucretia</td><td>Marna</td><td>Beekman</td><td>F</td><td>1982-08-16T04:00:00Z</td><td>909-68-3003</td><td>92152</td></tr><tr><td>37</td><td>Stasia</td><td>Perla</td><td>Manoch</td><td>F</td><td>1989-04-26T04:00:00Z</td><td>936-61-9195</td><td>58131</td></tr><tr><td>38</td><td>Nena</td><td>Jamika</td><td>Hinkes</td><td>F</td><td>1964-02-29T05:00:00Z</td><td>937-51-9958</td><td>82412</td></tr><tr><td>39</td><td>Kala</td><td>Violeta</td><td>Lyfe</td><td>F</td><td>1994-06-23T04:00:00Z</td><td>981-88-8006</td><td>101601</td></tr><tr><td>40</td><td>Alethea</td><td>Dolly</td><td>Brickdale</td><td>F</td><td>1960-06-26T04:00:00Z</td><td>908-46-4236</td><td>89151</td></tr><tr><td>41</td><td>Felisha</td><td>Hiroko</td><td>Hayland</td><td>F</td><td>1959-12-13T05:00:00Z</td><td>914-65-8532</td><td>98256</td></tr><tr><td>42</td><td>Gussie</td><td>India</td><td>McKeeman</td><td>F</td><td>1991-11-15T05:00:00Z</td><td>922-91-9943</td><td>46945</td></tr><tr><td>43</td><td>Page</td><td>Salina</td><td>McHaffy</td><td>F</td><td>1956-09-14T04:00:00Z</td><td>900-96-5804</td><td>115410</td></tr><tr><td>44</td><td>Idell</td><td>Ami</td><td>Ateggart</td><td>F</td><td>1977-06-26T04:00:00Z</td><td>979-47-6065</td><td>89747</td></tr><tr><td>45</td><td>Leonia</td><td>Elda</td><td>Windrass</td><td>F</td><td>1961-11-05T05:00:00Z</td><td>927-67-2402</td><td>87159</td></tr><tr><td>46</td><td>Eleonore</td><td>Erma</td><td>Leport</td><td>F</td><td>1973-06-13T04:00:00Z</td><td>953-54-9836</td><td>98072</td></tr><tr><td>47</td><td>Logan</td><td>Magaly</td><td>Siggs</td><td>F</td><td>1974-07-16T04:00:00Z</td><td>948-66-9847</td><td>55780</td></tr><tr><td>48</td><td>Carie</td><td>Serina</td><td>Waryk</td><td>F</td><td>1957-02-11T05:00:00Z</td><td>980-30-1656</td><td>52549</td></tr><tr><td>49</td><td>Pansy</td><td>Suzie</td><td>Shrieves</td><td>F</td><td>1991-05-24T04:00:00Z</td><td>910-16-4444</td><td>73811</td></tr><tr><td>50</td><td>Malissa</td><td>Amada</td><td>McRill</td><td>F</td><td>1958-05-02T04:00:00Z</td><td>954-65-2862</td><td>115845</td></tr><tr><td>51</td><td>Blythe</td><td>Carri</td><td>Crinkley</td><td>F</td><td>1973-03-08T05:00:00Z</td><td>998-29-3568</td><td>112662</td></tr><tr><td>52</td><td>Marketta</td><td>Rachele</td><td>Borg-Bartolo</td><td>F</td><td>1975-10-10T04:00:00Z</td><td>981-60-8178</td><td>66712</td></tr><tr><td>53</td><td>Curtis</td><td>Tempie</td><td>Sponton</td><td>F</td><td>1980-07-23T04:00:00Z</td><td>997-70-4544</td><td>74767</td></tr><tr><td>54</td><td>Maricela</td><td>Elane</td><td>Heinel</td><td>F</td><td>1972-12-21T05:00:00Z</td><td>931-49-8310</td><td>67801</td></tr><tr><td>55</td><td>Delpha</td><td>Michelina</td><td>Biggadike</td><td>F</td><td>1957-09-30T04:00:00Z</td><td>987-71-9556</td><td>104262</td></tr><tr><td>56</td><td>Bernita</td><td>Kathaleen</td><td>McIan</td><td>F</td><td>1971-02-20T05:00:00Z</td><td>982-68-4659</td><td>48781</td></tr><tr><td>57</td><td>Jesusa</td><td>Cherise</td><td>Parysowna</td><td>F</td><td>1988-03-14T05:00:00Z</td><td>992-77-3435</td><td>111979</td></tr><tr><td>58</td><td>Chung</td><td>Dian</td><td>Dautry</td><td>F</td><td>1998-01-12T05:00:00Z</td><td>946-10-3058</td><td>47190</td></tr><tr><td>59</td><td>Vickie</td><td>Ranae</td><td>Saddleton</td><td>F</td><td>1967-04-01T05:00:00Z</td><td>955-57-2783</td><td>52410</td></tr><tr><td>60</td><td>Sena</td><td>Particia</td><td>Stittle</td><td>F</td><td>1956-01-10T05:00:00Z</td><td>971-10-8053</td><td>72745</td></tr><tr><td>61</td><td>Adelia</td><td>Gita</td><td>Vassel</td><td>F</td><td>1990-10-24T04:00:00Z</td><td>947-17-3832</td><td>63563</td></tr><tr><td>62</td><td>Erica</td><td>Louvenia</td><td>O'Drought</td><td>F</td><td>1991-03-08T05:00:00Z</td><td>904-49-5506</td><td>80113</td></tr><tr><td>63</td><td>Anjanette</td><td>Clelia</td><td>Hicks</td><td>F</td><td>1973-10-26T04:00:00Z</td><td>981-32-5795</td><td>61310</td></tr><tr><td>64</td><td>Kari</td><td>Rosalyn</td><td>Siney</td><td>F</td><td>1985-04-10T05:00:00Z</td><td>935-65-6035</td><td>65836</td></tr><tr><td>65</td><td>Eliana</td><td>Marcie</td><td>Gogay</td><td>F</td><td>1976-05-28T04:00:00Z</td><td>984-45-2254</td><td>32795</td></tr><tr><td>66</td><td>Winter</td><td>Esther</td><td>Cruddace</td><td>F</td><td>1989-12-28T05:00:00Z</td><td>997-63-7632</td><td>66115</td></tr><tr><td>67</td><td>Yuri</td><td>Elin</td><td>Byrne</td><td>F</td><td>1964-08-18T04:00:00Z</td><td>988-62-7594</td><td>52476</td></tr><tr><td>68</td><td>Kimberely</td><td>Beverlee</td><td>Mahon</td><td>F</td><td>1979-01-17T05:00:00Z</td><td>941-28-2731</td><td>92341</td></tr><tr><td>69</td><td>Toya</td><td>Waneta</td><td>Whebell</td><td>F</td><td>1989-07-23T04:00:00Z</td><td>947-97-1666</td><td>53715</td></tr><tr><td>70</td><td>Wynona</td><td>Maxie</td><td>Melia</td><td>F</td><td>1984-02-13T05:00:00Z</td><td>901-85-3278</td><td>73754</td></tr><tr><td>71</td><td>Katelyn</td><td>Merrie</td><td>Pocklington</td><td>F</td><td>1994-01-16T05:00:00Z</td><td>949-72-2758</td><td>77925</td></tr><tr><td>72</td><td>Lianne</td><td>Racquel</td><td>Bowe</td><td>F</td><td>1976-01-18T05:00:00Z</td><td>935-57-9860</td><td>114348</td></tr><tr><td>73</td><td>Kayla</td><td>Janella</td><td>Erskin</td><td>F</td><td>1965-06-25T04:00:00Z</td><td>916-57-2955</td><td>87593</td></tr><tr><td>74</td><td>Monserrate</td><td>Goldie</td><td>Trimming</td><td>F</td><td>1993-09-17T04:00:00Z</td><td>930-49-9845</td><td>57255</td></tr><tr><td>75</td><td>Alica</td><td>Elfrieda</td><td>Mousdall</td><td>F</td><td>1953-12-21T05:00:00Z</td><td>954-16-6401</td><td>96490</td></tr><tr><td>76</td><td>Dung</td><td>Leslie</td><td>Lambswood</td><td>F</td><td>1968-08-03T04:00:00Z</td><td>914-14-5994</td><td>57409</td></tr><tr><td>77</td><td>Jolene</td><td>Vennie</td><td>Pindell</td><td>F</td><td>1983-07-08T04:00:00Z</td><td>972-80-1367</td><td>72379</td></tr><tr><td>78</td><td>Deanne</td><td>Lindsay</td><td>Lambdin</td><td>F</td><td>1999-07-28T04:00:00Z</td><td>969-87-7115</td><td>83764</td></tr><tr><td>79</td><td>Carey</td><td>Kareen</td><td>Ciric</td><td>F</td><td>1999-02-23T05:00:00Z</td><td>913-31-5531</td><td>93416</td></tr><tr><td>80</td><td>Madison</td><td>Iris</td><td>Donovan</td><td>F</td><td>1984-09-05T04:00:00Z</td><td>953-91-7481</td><td>74484</td></tr><tr><td>81</td><td>Lasandra</td><td>Lin</td><td>Mowne</td><td>F</td><td>1986-03-30T05:00:00Z</td><td>984-79-5062</td><td>90966</td></tr><tr><td>82</td><td>Joella</td><td>Danae</td><td>Marxsen</td><td>F</td><td>1960-09-12T04:00:00Z</td><td>998-57-7440</td><td>109293</td></tr><tr><td>83</td><td>Markita</td><td>Shellie</td><td>Baskeyfied</td><td>F</td><td>1960-12-05T05:00:00Z</td><td>993-66-4078</td><td>134393</td></tr><tr><td>84</td><td>Callie</td><td>Josephina</td><td>Gatley</td><td>F</td><td>1988-05-25T04:00:00Z</td><td>963-80-2930</td><td>63879</td></tr><tr><td>85</td><td>Maia</td><td>Nadene</td><td>Putland</td><td>F</td><td>1979-12-22T05:00:00Z</td><td>966-80-6343</td><td>82866</td></tr><tr><td>86</td><td>Elma</td><td>Chau</td><td>Rossiter</td><td>F</td><td>1958-10-22T04:00:00Z</td><td>973-86-1495</td><td>80696</td></tr><tr><td>87</td><td>Luella</td><td>Cecile</td><td>Gant</td><td>F</td><td>1967-10-05T04:00:00Z</td><td>983-10-1764</td><td>78464</td></tr><tr><td>88</td><td>In</td><td>Susann</td><td>Lacroix</td><td>F</td><td>1999-07-23T04:00:00Z</td><td>907-56-8358</td><td>70873</td></tr><tr><td>89</td><td>Lizabeth</td><td>Sommer</td><td>Mayze</td><td>F</td><td>1971-04-24T05:00:00Z</td><td>981-26-7152</td><td>61597</td></tr><tr><td>90</td><td>Alice</td><td>Marisol</td><td>Novill</td><td>F</td><td>1992-05-21T04:00:00Z</td><td>924-10-7563</td><td>34053</td></tr><tr><td>91</td><td>Emelina</td><td>Joel</td><td>Skudder</td><td>F</td><td>1962-01-05T05:00:00Z</td><td>929-14-4074</td><td>53763</td></tr><tr><td>92</td><td>Ingeborg</td><td>Barbara</td><td>Darko</td><td>F</td><td>1982-01-18T05:00:00Z</td><td>989-81-9045</td><td>62846</td></tr><tr><td>93</td><td>Tonja</td><td>Sumiko</td><td>Druery</td><td>F</td><td>1969-03-12T05:00:00Z</td><td>902-58-6244</td><td>63075</td></tr><tr><td>94</td><td>Nila</td><td>Madelene</td><td>Gothard</td><td>F</td><td>1963-12-05T05:00:00Z</td><td>906-58-8356</td><td>100950</td></tr><tr><td>95</td><td>Rochelle</td><td>Ronni</td><td>Roycroft</td><td>F</td><td>1986-02-14T05:00:00Z</td><td>935-80-5907</td><td>92524</td></tr><tr><td>96</td><td>Flo</td><td>Jena</td><td>Broomer</td><td>F</td><td>1975-06-12T04:00:00Z</td><td>950-63-4472</td><td>47349</td></tr><tr><td>97</td><td>Jonell</td><td>Alia</td><td>Gifkins</td><td>F</td><td>1966-07-12T04:00:00Z</td><td>942-12-1605</td><td>84084</td></tr><tr><td>98</td><td>Perla</td><td>Delphia</td><td>Brimley</td><td>F</td><td>1965-07-31T04:00:00Z</td><td>934-71-2961</td><td>65425</td></tr><tr><td>99</td><td>Rheba</td><td>Charlesetta</td><td>Chatwood</td><td>F</td><td>1974-04-01T04:00:00Z</td><td>995-65-8928</td><td>76773</td></tr><tr><td>100</td><td>Annalisa</td><td>Nova</td><td>Patesel</td><td>F</td><td>1974-01-25T04:00:00Z</td><td>922-68-2542</td><td>66481</td></tr></tbody></table></div>"
      ]
     },
     "metadata": {
      "application/vnd.databricks.v1+output": {
       "addedWidgets": {},
       "aggData": [],
       "aggError": "",
       "aggOverflow": false,
       "aggSchema": [],
       "aggSeriesLimitReached": false,
       "aggType": "",
       "arguments": {},
       "columnCustomDisplayInfos": {},
       "data": [
        [
         1,
         "Pennie",
         "Carry",
         "Hirschmann",
         "F",
         "1955-07-02T04:00:00Z",
         "981-43-9345",
         56172
        ],
        [
         2,
         "An",
         "Amira",
         "Cowper",
         "F",
         "1992-02-08T05:00:00Z",
         "978-97-8086",
         40203
        ],
        [
         3,
         "Quyen",
         "Marlen",
         "Dome",
         "F",
         "1970-10-11T04:00:00Z",
         "957-57-8246",
         53417
        ],
        [
         4,
         "Coralie",
         "Antonina",
         "Marshal",
         "F",
         "1990-04-11T04:00:00Z",
         "963-39-4885",
         94727
        ],
        [
         5,
         "Terrie",
         "Wava",
         "Bonar",
         "F",
         "1980-01-16T05:00:00Z",
         "964-49-8051",
         79908
        ],
        [
         6,
         "Chassidy",
         "Concepcion",
         "Bourthouloume",
         "F",
         "1990-11-24T05:00:00Z",
         "954-59-9172",
         64652
        ],
        [
         7,
         "Geri",
         "Tambra",
         "Mosby",
         "F",
         "1970-12-19T05:00:00Z",
         "968-16-4020",
         38195
        ],
        [
         8,
         "Patria",
         "Nancy",
         "Arstall",
         "F",
         "1985-01-02T05:00:00Z",
         "984-76-3770",
         102053
        ],
        [
         9,
         "Terese",
         "Alfredia",
         "Tocque",
         "F",
         "1967-11-17T05:00:00Z",
         "967-48-7309",
         91294
        ],
        [
         10,
         "Wava",
         "Lyndsey",
         "Jeandon",
         "F",
         "1963-12-30T05:00:00Z",
         "997-82-2946",
         56521
        ],
        [
         11,
         "Sophie",
         "Emerita",
         "Hearn",
         "F",
         "1979-09-17T04:00:00Z",
         "977-66-4483",
         90920
        ],
        [
         12,
         "Jodie",
         "Tabetha",
         "Laneham",
         "F",
         "1959-01-31T05:00:00Z",
         "923-24-9769",
         90634
        ],
        [
         13,
         "Marietta",
         "Mandi",
         "Yansons",
         "F",
         "1974-02-19T04:00:00Z",
         "900-34-8083",
         93162
        ],
        [
         14,
         "Caridad",
         "Maire",
         "Snelle",
         "F",
         "1960-09-26T04:00:00Z",
         "992-11-7062",
         38859
        ],
        [
         15,
         "Yasmine",
         "Meg",
         "Edworthye",
         "F",
         "1960-01-29T05:00:00Z",
         "922-12-9862",
         76220
        ],
        [
         16,
         "Chan",
         "Jani",
         "Hartas",
         "F",
         "1986-12-05T05:00:00Z",
         "995-51-3115",
         75050
        ],
        [
         17,
         "Evangeline",
         "Wanetta",
         "Casserley",
         "F",
         "1961-09-29T04:00:00Z",
         "926-61-3526",
         62814
        ],
        [
         18,
         "Elnora",
         "Kecia",
         "Lipman",
         "F",
         "1980-02-14T05:00:00Z",
         "950-23-9739",
         71350
        ],
        [
         19,
         "Adelle",
         "Kathyrn",
         "Grigoriev",
         "F",
         "1978-11-14T05:00:00Z",
         "923-23-5984",
         60600
        ],
        [
         20,
         "Mica",
         "Zandra",
         "Challens",
         "F",
         "1973-11-24T05:00:00Z",
         "918-66-1232",
         51071
        ],
        [
         21,
         "Sarah",
         "Nickie",
         "Sadgrove",
         "F",
         "1990-11-07T05:00:00Z",
         "913-18-2717",
         101046
        ],
        [
         22,
         "Robbin",
         "Leeanne",
         "Sallnow",
         "F",
         "1958-12-16T05:00:00Z",
         "938-88-6975",
         98588
        ],
        [
         23,
         "Caroyln",
         "Mamie",
         "Cardon",
         "F",
         "1994-05-15T04:00:00Z",
         "927-52-5062",
         60449
        ],
        [
         24,
         "Penni",
         "Stevie",
         "Searby",
         "F",
         "1955-03-23T05:00:00Z",
         "951-65-9959",
         83728
        ],
        [
         25,
         "Yesenia",
         "Eileen",
         "Goldring",
         "F",
         "1997-07-09T04:00:00Z",
         "920-71-3216",
         73060
        ],
        [
         26,
         "Frankie",
         "Jovan",
         "Lydall",
         "F",
         "1976-07-08T04:00:00Z",
         "911-59-3216",
         105270
        ],
        [
         27,
         "Venetta",
         "Laura",
         "Komorowski",
         "F",
         "1960-12-01T05:00:00Z",
         "921-55-9589",
         38186
        ],
        [
         28,
         "Marget",
         "Thao",
         "Lundbeck",
         "F",
         "1961-04-07T05:00:00Z",
         "979-14-7198",
         67310
        ],
        [
         29,
         "Leeann",
         "Verlene",
         "Hewes",
         "F",
         "1985-01-03T05:00:00Z",
         "905-67-9311",
         107411
        ],
        [
         30,
         "Noella",
         "Isabella",
         "Ubsdell",
         "F",
         "1975-04-20T04:00:00Z",
         "919-78-4521",
         67250
        ],
        [
         31,
         "Elly",
         "Natividad",
         "Iorns",
         "F",
         "1967-04-28T05:00:00Z",
         "905-52-3088",
         80919
        ],
        [
         32,
         "Hedwig",
         "Dulcie",
         "Pendleberry",
         "F",
         "1998-12-02T05:00:00Z",
         "666-51-9916",
         60857
        ],
        [
         33,
         "Bridget",
         "Brande",
         "Perche",
         "F",
         "1989-03-07T05:00:00Z",
         "928-39-7663",
         58615
        ],
        [
         34,
         "Soo",
         "Laurena",
         "Danovich",
         "F",
         "1977-11-20T05:00:00Z",
         "908-19-5146",
         57712
        ],
        [
         35,
         "Hanh",
         "Juliet",
         "Stiegers",
         "F",
         "1989-09-09T04:00:00Z",
         "905-35-6642",
         91772
        ],
        [
         36,
         "Lucretia",
         "Marna",
         "Beekman",
         "F",
         "1982-08-16T04:00:00Z",
         "909-68-3003",
         92152
        ],
        [
         37,
         "Stasia",
         "Perla",
         "Manoch",
         "F",
         "1989-04-26T04:00:00Z",
         "936-61-9195",
         58131
        ],
        [
         38,
         "Nena",
         "Jamika",
         "Hinkes",
         "F",
         "1964-02-29T05:00:00Z",
         "937-51-9958",
         82412
        ],
        [
         39,
         "Kala",
         "Violeta",
         "Lyfe",
         "F",
         "1994-06-23T04:00:00Z",
         "981-88-8006",
         101601
        ],
        [
         40,
         "Alethea",
         "Dolly",
         "Brickdale",
         "F",
         "1960-06-26T04:00:00Z",
         "908-46-4236",
         89151
        ],
        [
         41,
         "Felisha",
         "Hiroko",
         "Hayland",
         "F",
         "1959-12-13T05:00:00Z",
         "914-65-8532",
         98256
        ],
        [
         42,
         "Gussie",
         "India",
         "McKeeman",
         "F",
         "1991-11-15T05:00:00Z",
         "922-91-9943",
         46945
        ],
        [
         43,
         "Page",
         "Salina",
         "McHaffy",
         "F",
         "1956-09-14T04:00:00Z",
         "900-96-5804",
         115410
        ],
        [
         44,
         "Idell",
         "Ami",
         "Ateggart",
         "F",
         "1977-06-26T04:00:00Z",
         "979-47-6065",
         89747
        ],
        [
         45,
         "Leonia",
         "Elda",
         "Windrass",
         "F",
         "1961-11-05T05:00:00Z",
         "927-67-2402",
         87159
        ],
        [
         46,
         "Eleonore",
         "Erma",
         "Leport",
         "F",
         "1973-06-13T04:00:00Z",
         "953-54-9836",
         98072
        ],
        [
         47,
         "Logan",
         "Magaly",
         "Siggs",
         "F",
         "1974-07-16T04:00:00Z",
         "948-66-9847",
         55780
        ],
        [
         48,
         "Carie",
         "Serina",
         "Waryk",
         "F",
         "1957-02-11T05:00:00Z",
         "980-30-1656",
         52549
        ],
        [
         49,
         "Pansy",
         "Suzie",
         "Shrieves",
         "F",
         "1991-05-24T04:00:00Z",
         "910-16-4444",
         73811
        ],
        [
         50,
         "Malissa",
         "Amada",
         "McRill",
         "F",
         "1958-05-02T04:00:00Z",
         "954-65-2862",
         115845
        ],
        [
         51,
         "Blythe",
         "Carri",
         "Crinkley",
         "F",
         "1973-03-08T05:00:00Z",
         "998-29-3568",
         112662
        ],
        [
         52,
         "Marketta",
         "Rachele",
         "Borg-Bartolo",
         "F",
         "1975-10-10T04:00:00Z",
         "981-60-8178",
         66712
        ],
        [
         53,
         "Curtis",
         "Tempie",
         "Sponton",
         "F",
         "1980-07-23T04:00:00Z",
         "997-70-4544",
         74767
        ],
        [
         54,
         "Maricela",
         "Elane",
         "Heinel",
         "F",
         "1972-12-21T05:00:00Z",
         "931-49-8310",
         67801
        ],
        [
         55,
         "Delpha",
         "Michelina",
         "Biggadike",
         "F",
         "1957-09-30T04:00:00Z",
         "987-71-9556",
         104262
        ],
        [
         56,
         "Bernita",
         "Kathaleen",
         "McIan",
         "F",
         "1971-02-20T05:00:00Z",
         "982-68-4659",
         48781
        ],
        [
         57,
         "Jesusa",
         "Cherise",
         "Parysowna",
         "F",
         "1988-03-14T05:00:00Z",
         "992-77-3435",
         111979
        ],
        [
         58,
         "Chung",
         "Dian",
         "Dautry",
         "F",
         "1998-01-12T05:00:00Z",
         "946-10-3058",
         47190
        ],
        [
         59,
         "Vickie",
         "Ranae",
         "Saddleton",
         "F",
         "1967-04-01T05:00:00Z",
         "955-57-2783",
         52410
        ],
        [
         60,
         "Sena",
         "Particia",
         "Stittle",
         "F",
         "1956-01-10T05:00:00Z",
         "971-10-8053",
         72745
        ],
        [
         61,
         "Adelia",
         "Gita",
         "Vassel",
         "F",
         "1990-10-24T04:00:00Z",
         "947-17-3832",
         63563
        ],
        [
         62,
         "Erica",
         "Louvenia",
         "O'Drought",
         "F",
         "1991-03-08T05:00:00Z",
         "904-49-5506",
         80113
        ],
        [
         63,
         "Anjanette",
         "Clelia",
         "Hicks",
         "F",
         "1973-10-26T04:00:00Z",
         "981-32-5795",
         61310
        ],
        [
         64,
         "Kari",
         "Rosalyn",
         "Siney",
         "F",
         "1985-04-10T05:00:00Z",
         "935-65-6035",
         65836
        ],
        [
         65,
         "Eliana",
         "Marcie",
         "Gogay",
         "F",
         "1976-05-28T04:00:00Z",
         "984-45-2254",
         32795
        ],
        [
         66,
         "Winter",
         "Esther",
         "Cruddace",
         "F",
         "1989-12-28T05:00:00Z",
         "997-63-7632",
         66115
        ],
        [
         67,
         "Yuri",
         "Elin",
         "Byrne",
         "F",
         "1964-08-18T04:00:00Z",
         "988-62-7594",
         52476
        ],
        [
         68,
         "Kimberely",
         "Beverlee",
         "Mahon",
         "F",
         "1979-01-17T05:00:00Z",
         "941-28-2731",
         92341
        ],
        [
         69,
         "Toya",
         "Waneta",
         "Whebell",
         "F",
         "1989-07-23T04:00:00Z",
         "947-97-1666",
         53715
        ],
        [
         70,
         "Wynona",
         "Maxie",
         "Melia",
         "F",
         "1984-02-13T05:00:00Z",
         "901-85-3278",
         73754
        ],
        [
         71,
         "Katelyn",
         "Merrie",
         "Pocklington",
         "F",
         "1994-01-16T05:00:00Z",
         "949-72-2758",
         77925
        ],
        [
         72,
         "Lianne",
         "Racquel",
         "Bowe",
         "F",
         "1976-01-18T05:00:00Z",
         "935-57-9860",
         114348
        ],
        [
         73,
         "Kayla",
         "Janella",
         "Erskin",
         "F",
         "1965-06-25T04:00:00Z",
         "916-57-2955",
         87593
        ],
        [
         74,
         "Monserrate",
         "Goldie",
         "Trimming",
         "F",
         "1993-09-17T04:00:00Z",
         "930-49-9845",
         57255
        ],
        [
         75,
         "Alica",
         "Elfrieda",
         "Mousdall",
         "F",
         "1953-12-21T05:00:00Z",
         "954-16-6401",
         96490
        ],
        [
         76,
         "Dung",
         "Leslie",
         "Lambswood",
         "F",
         "1968-08-03T04:00:00Z",
         "914-14-5994",
         57409
        ],
        [
         77,
         "Jolene",
         "Vennie",
         "Pindell",
         "F",
         "1983-07-08T04:00:00Z",
         "972-80-1367",
         72379
        ],
        [
         78,
         "Deanne",
         "Lindsay",
         "Lambdin",
         "F",
         "1999-07-28T04:00:00Z",
         "969-87-7115",
         83764
        ],
        [
         79,
         "Carey",
         "Kareen",
         "Ciric",
         "F",
         "1999-02-23T05:00:00Z",
         "913-31-5531",
         93416
        ],
        [
         80,
         "Madison",
         "Iris",
         "Donovan",
         "F",
         "1984-09-05T04:00:00Z",
         "953-91-7481",
         74484
        ],
        [
         81,
         "Lasandra",
         "Lin",
         "Mowne",
         "F",
         "1986-03-30T05:00:00Z",
         "984-79-5062",
         90966
        ],
        [
         82,
         "Joella",
         "Danae",
         "Marxsen",
         "F",
         "1960-09-12T04:00:00Z",
         "998-57-7440",
         109293
        ],
        [
         83,
         "Markita",
         "Shellie",
         "Baskeyfied",
         "F",
         "1960-12-05T05:00:00Z",
         "993-66-4078",
         134393
        ],
        [
         84,
         "Callie",
         "Josephina",
         "Gatley",
         "F",
         "1988-05-25T04:00:00Z",
         "963-80-2930",
         63879
        ],
        [
         85,
         "Maia",
         "Nadene",
         "Putland",
         "F",
         "1979-12-22T05:00:00Z",
         "966-80-6343",
         82866
        ],
        [
         86,
         "Elma",
         "Chau",
         "Rossiter",
         "F",
         "1958-10-22T04:00:00Z",
         "973-86-1495",
         80696
        ],
        [
         87,
         "Luella",
         "Cecile",
         "Gant",
         "F",
         "1967-10-05T04:00:00Z",
         "983-10-1764",
         78464
        ],
        [
         88,
         "In",
         "Susann",
         "Lacroix",
         "F",
         "1999-07-23T04:00:00Z",
         "907-56-8358",
         70873
        ],
        [
         89,
         "Lizabeth",
         "Sommer",
         "Mayze",
         "F",
         "1971-04-24T05:00:00Z",
         "981-26-7152",
         61597
        ],
        [
         90,
         "Alice",
         "Marisol",
         "Novill",
         "F",
         "1992-05-21T04:00:00Z",
         "924-10-7563",
         34053
        ],
        [
         91,
         "Emelina",
         "Joel",
         "Skudder",
         "F",
         "1962-01-05T05:00:00Z",
         "929-14-4074",
         53763
        ],
        [
         92,
         "Ingeborg",
         "Barbara",
         "Darko",
         "F",
         "1982-01-18T05:00:00Z",
         "989-81-9045",
         62846
        ],
        [
         93,
         "Tonja",
         "Sumiko",
         "Druery",
         "F",
         "1969-03-12T05:00:00Z",
         "902-58-6244",
         63075
        ],
        [
         94,
         "Nila",
         "Madelene",
         "Gothard",
         "F",
         "1963-12-05T05:00:00Z",
         "906-58-8356",
         100950
        ],
        [
         95,
         "Rochelle",
         "Ronni",
         "Roycroft",
         "F",
         "1986-02-14T05:00:00Z",
         "935-80-5907",
         92524
        ],
        [
         96,
         "Flo",
         "Jena",
         "Broomer",
         "F",
         "1975-06-12T04:00:00Z",
         "950-63-4472",
         47349
        ],
        [
         97,
         "Jonell",
         "Alia",
         "Gifkins",
         "F",
         "1966-07-12T04:00:00Z",
         "942-12-1605",
         84084
        ],
        [
         98,
         "Perla",
         "Delphia",
         "Brimley",
         "F",
         "1965-07-31T04:00:00Z",
         "934-71-2961",
         65425
        ],
        [
         99,
         "Rheba",
         "Charlesetta",
         "Chatwood",
         "F",
         "1974-04-01T04:00:00Z",
         "995-65-8928",
         76773
        ],
        [
         100,
         "Annalisa",
         "Nova",
         "Patesel",
         "F",
         "1974-01-25T04:00:00Z",
         "922-68-2542",
         66481
        ]
       ],
       "datasetInfos": [],
       "dbfsResultPath": null,
       "isJsonSchema": true,
       "metadata": {},
       "overflow": false,
       "plotOptions": {
        "customPlotOptions": {},
        "displayType": "table",
        "pivotAggregation": null,
        "pivotColumns": null,
        "xColumns": null,
        "yColumns": null
       },
       "removedWidgets": [],
       "schema": [
        {
         "metadata": "{}",
         "name": "id",
         "type": "\"integer\""
        },
        {
         "metadata": "{}",
         "name": "firstName",
         "type": "\"string\""
        },
        {
         "metadata": "{}",
         "name": "middleName",
         "type": "\"string\""
        },
        {
         "metadata": "{}",
         "name": "lastName",
         "type": "\"string\""
        },
        {
         "metadata": "{}",
         "name": "gender",
         "type": "\"string\""
        },
        {
         "metadata": "{}",
         "name": "birthDate",
         "type": "\"timestamp\""
        },
        {
         "metadata": "{}",
         "name": "ssn",
         "type": "\"string\""
        },
        {
         "metadata": "{}",
         "name": "salary",
         "type": "\"integer\""
        }
       ],
       "type": "table"
      }
     },
     "output_type": "display_data"
    }
   ],
   "source": [
    "%python\n",
    "display(spark.read.load(\"dbfs:/Volumes/marscat/marsschema/marsdemo_delta_vol\"))"
   ]
  },
  {
   "cell_type": "code",
   "execution_count": 0,
   "metadata": {
    "application/vnd.databricks.v1+cell": {
     "cellMetadata": {
      "byteLimit": 2048000,
      "rowLimit": 10000
     },
     "inputWidgets": {},
     "nuid": "91dea8bf-b93e-45dd-9940-bad9d0e4710d",
     "showTitle": true,
     "tableResultSettingsMap": {},
     "title": "Access Volume Data Various Ways - File URI"
    }
   },
   "outputs": [
    {
     "output_type": "display_data",
     "data": {
      "text/html": [
       "<style scoped>\n",
       "  .table-result-container {\n",
       "    max-height: 300px;\n",
       "    overflow: auto;\n",
       "  }\n",
       "  table, th, td {\n",
       "    border: 1px solid black;\n",
       "    border-collapse: collapse;\n",
       "  }\n",
       "  th, td {\n",
       "    padding: 5px;\n",
       "  }\n",
       "  th {\n",
       "    text-align: left;\n",
       "  }\n",
       "</style><div class='table-result-container'><table class='table-result'><thead style='background-color: white'><tr><th>id</th><th>firstName</th><th>middleName</th><th>lastName</th><th>gender</th><th>birthDate</th><th>ssn</th><th>salary</th></tr></thead><tbody><tr><td>1</td><td>Pennie</td><td>Carry</td><td>Hirschmann</td><td>F</td><td>1955-07-02T04:00:00Z</td><td>981-43-9345</td><td>56172</td></tr><tr><td>2</td><td>An</td><td>Amira</td><td>Cowper</td><td>F</td><td>1992-02-08T05:00:00Z</td><td>978-97-8086</td><td>40203</td></tr><tr><td>3</td><td>Quyen</td><td>Marlen</td><td>Dome</td><td>F</td><td>1970-10-11T04:00:00Z</td><td>957-57-8246</td><td>53417</td></tr><tr><td>4</td><td>Coralie</td><td>Antonina</td><td>Marshal</td><td>F</td><td>1990-04-11T04:00:00Z</td><td>963-39-4885</td><td>94727</td></tr><tr><td>5</td><td>Terrie</td><td>Wava</td><td>Bonar</td><td>F</td><td>1980-01-16T05:00:00Z</td><td>964-49-8051</td><td>79908</td></tr><tr><td>6</td><td>Chassidy</td><td>Concepcion</td><td>Bourthouloume</td><td>F</td><td>1990-11-24T05:00:00Z</td><td>954-59-9172</td><td>64652</td></tr><tr><td>7</td><td>Geri</td><td>Tambra</td><td>Mosby</td><td>F</td><td>1970-12-19T05:00:00Z</td><td>968-16-4020</td><td>38195</td></tr><tr><td>8</td><td>Patria</td><td>Nancy</td><td>Arstall</td><td>F</td><td>1985-01-02T05:00:00Z</td><td>984-76-3770</td><td>102053</td></tr><tr><td>9</td><td>Terese</td><td>Alfredia</td><td>Tocque</td><td>F</td><td>1967-11-17T05:00:00Z</td><td>967-48-7309</td><td>91294</td></tr><tr><td>10</td><td>Wava</td><td>Lyndsey</td><td>Jeandon</td><td>F</td><td>1963-12-30T05:00:00Z</td><td>997-82-2946</td><td>56521</td></tr><tr><td>11</td><td>Sophie</td><td>Emerita</td><td>Hearn</td><td>F</td><td>1979-09-17T04:00:00Z</td><td>977-66-4483</td><td>90920</td></tr><tr><td>12</td><td>Jodie</td><td>Tabetha</td><td>Laneham</td><td>F</td><td>1959-01-31T05:00:00Z</td><td>923-24-9769</td><td>90634</td></tr><tr><td>13</td><td>Marietta</td><td>Mandi</td><td>Yansons</td><td>F</td><td>1974-02-19T04:00:00Z</td><td>900-34-8083</td><td>93162</td></tr><tr><td>14</td><td>Caridad</td><td>Maire</td><td>Snelle</td><td>F</td><td>1960-09-26T04:00:00Z</td><td>992-11-7062</td><td>38859</td></tr><tr><td>15</td><td>Yasmine</td><td>Meg</td><td>Edworthye</td><td>F</td><td>1960-01-29T05:00:00Z</td><td>922-12-9862</td><td>76220</td></tr><tr><td>16</td><td>Chan</td><td>Jani</td><td>Hartas</td><td>F</td><td>1986-12-05T05:00:00Z</td><td>995-51-3115</td><td>75050</td></tr><tr><td>17</td><td>Evangeline</td><td>Wanetta</td><td>Casserley</td><td>F</td><td>1961-09-29T04:00:00Z</td><td>926-61-3526</td><td>62814</td></tr><tr><td>18</td><td>Elnora</td><td>Kecia</td><td>Lipman</td><td>F</td><td>1980-02-14T05:00:00Z</td><td>950-23-9739</td><td>71350</td></tr><tr><td>19</td><td>Adelle</td><td>Kathyrn</td><td>Grigoriev</td><td>F</td><td>1978-11-14T05:00:00Z</td><td>923-23-5984</td><td>60600</td></tr><tr><td>20</td><td>Mica</td><td>Zandra</td><td>Challens</td><td>F</td><td>1973-11-24T05:00:00Z</td><td>918-66-1232</td><td>51071</td></tr><tr><td>21</td><td>Sarah</td><td>Nickie</td><td>Sadgrove</td><td>F</td><td>1990-11-07T05:00:00Z</td><td>913-18-2717</td><td>101046</td></tr><tr><td>22</td><td>Robbin</td><td>Leeanne</td><td>Sallnow</td><td>F</td><td>1958-12-16T05:00:00Z</td><td>938-88-6975</td><td>98588</td></tr><tr><td>23</td><td>Caroyln</td><td>Mamie</td><td>Cardon</td><td>F</td><td>1994-05-15T04:00:00Z</td><td>927-52-5062</td><td>60449</td></tr><tr><td>24</td><td>Penni</td><td>Stevie</td><td>Searby</td><td>F</td><td>1955-03-23T05:00:00Z</td><td>951-65-9959</td><td>83728</td></tr><tr><td>25</td><td>Yesenia</td><td>Eileen</td><td>Goldring</td><td>F</td><td>1997-07-09T04:00:00Z</td><td>920-71-3216</td><td>73060</td></tr><tr><td>26</td><td>Frankie</td><td>Jovan</td><td>Lydall</td><td>F</td><td>1976-07-08T04:00:00Z</td><td>911-59-3216</td><td>105270</td></tr><tr><td>27</td><td>Venetta</td><td>Laura</td><td>Komorowski</td><td>F</td><td>1960-12-01T05:00:00Z</td><td>921-55-9589</td><td>38186</td></tr><tr><td>28</td><td>Marget</td><td>Thao</td><td>Lundbeck</td><td>F</td><td>1961-04-07T05:00:00Z</td><td>979-14-7198</td><td>67310</td></tr><tr><td>29</td><td>Leeann</td><td>Verlene</td><td>Hewes</td><td>F</td><td>1985-01-03T05:00:00Z</td><td>905-67-9311</td><td>107411</td></tr><tr><td>30</td><td>Noella</td><td>Isabella</td><td>Ubsdell</td><td>F</td><td>1975-04-20T04:00:00Z</td><td>919-78-4521</td><td>67250</td></tr><tr><td>31</td><td>Elly</td><td>Natividad</td><td>Iorns</td><td>F</td><td>1967-04-28T05:00:00Z</td><td>905-52-3088</td><td>80919</td></tr><tr><td>32</td><td>Hedwig</td><td>Dulcie</td><td>Pendleberry</td><td>F</td><td>1998-12-02T05:00:00Z</td><td>666-51-9916</td><td>60857</td></tr><tr><td>33</td><td>Bridget</td><td>Brande</td><td>Perche</td><td>F</td><td>1989-03-07T05:00:00Z</td><td>928-39-7663</td><td>58615</td></tr><tr><td>34</td><td>Soo</td><td>Laurena</td><td>Danovich</td><td>F</td><td>1977-11-20T05:00:00Z</td><td>908-19-5146</td><td>57712</td></tr><tr><td>35</td><td>Hanh</td><td>Juliet</td><td>Stiegers</td><td>F</td><td>1989-09-09T04:00:00Z</td><td>905-35-6642</td><td>91772</td></tr><tr><td>36</td><td>Lucretia</td><td>Marna</td><td>Beekman</td><td>F</td><td>1982-08-16T04:00:00Z</td><td>909-68-3003</td><td>92152</td></tr><tr><td>37</td><td>Stasia</td><td>Perla</td><td>Manoch</td><td>F</td><td>1989-04-26T04:00:00Z</td><td>936-61-9195</td><td>58131</td></tr><tr><td>38</td><td>Nena</td><td>Jamika</td><td>Hinkes</td><td>F</td><td>1964-02-29T05:00:00Z</td><td>937-51-9958</td><td>82412</td></tr><tr><td>39</td><td>Kala</td><td>Violeta</td><td>Lyfe</td><td>F</td><td>1994-06-23T04:00:00Z</td><td>981-88-8006</td><td>101601</td></tr><tr><td>40</td><td>Alethea</td><td>Dolly</td><td>Brickdale</td><td>F</td><td>1960-06-26T04:00:00Z</td><td>908-46-4236</td><td>89151</td></tr><tr><td>41</td><td>Felisha</td><td>Hiroko</td><td>Hayland</td><td>F</td><td>1959-12-13T05:00:00Z</td><td>914-65-8532</td><td>98256</td></tr><tr><td>42</td><td>Gussie</td><td>India</td><td>McKeeman</td><td>F</td><td>1991-11-15T05:00:00Z</td><td>922-91-9943</td><td>46945</td></tr><tr><td>43</td><td>Page</td><td>Salina</td><td>McHaffy</td><td>F</td><td>1956-09-14T04:00:00Z</td><td>900-96-5804</td><td>115410</td></tr><tr><td>44</td><td>Idell</td><td>Ami</td><td>Ateggart</td><td>F</td><td>1977-06-26T04:00:00Z</td><td>979-47-6065</td><td>89747</td></tr><tr><td>45</td><td>Leonia</td><td>Elda</td><td>Windrass</td><td>F</td><td>1961-11-05T05:00:00Z</td><td>927-67-2402</td><td>87159</td></tr><tr><td>46</td><td>Eleonore</td><td>Erma</td><td>Leport</td><td>F</td><td>1973-06-13T04:00:00Z</td><td>953-54-9836</td><td>98072</td></tr><tr><td>47</td><td>Logan</td><td>Magaly</td><td>Siggs</td><td>F</td><td>1974-07-16T04:00:00Z</td><td>948-66-9847</td><td>55780</td></tr><tr><td>48</td><td>Carie</td><td>Serina</td><td>Waryk</td><td>F</td><td>1957-02-11T05:00:00Z</td><td>980-30-1656</td><td>52549</td></tr><tr><td>49</td><td>Pansy</td><td>Suzie</td><td>Shrieves</td><td>F</td><td>1991-05-24T04:00:00Z</td><td>910-16-4444</td><td>73811</td></tr><tr><td>50</td><td>Malissa</td><td>Amada</td><td>McRill</td><td>F</td><td>1958-05-02T04:00:00Z</td><td>954-65-2862</td><td>115845</td></tr><tr><td>51</td><td>Blythe</td><td>Carri</td><td>Crinkley</td><td>F</td><td>1973-03-08T05:00:00Z</td><td>998-29-3568</td><td>112662</td></tr><tr><td>52</td><td>Marketta</td><td>Rachele</td><td>Borg-Bartolo</td><td>F</td><td>1975-10-10T04:00:00Z</td><td>981-60-8178</td><td>66712</td></tr><tr><td>53</td><td>Curtis</td><td>Tempie</td><td>Sponton</td><td>F</td><td>1980-07-23T04:00:00Z</td><td>997-70-4544</td><td>74767</td></tr><tr><td>54</td><td>Maricela</td><td>Elane</td><td>Heinel</td><td>F</td><td>1972-12-21T05:00:00Z</td><td>931-49-8310</td><td>67801</td></tr><tr><td>55</td><td>Delpha</td><td>Michelina</td><td>Biggadike</td><td>F</td><td>1957-09-30T04:00:00Z</td><td>987-71-9556</td><td>104262</td></tr><tr><td>56</td><td>Bernita</td><td>Kathaleen</td><td>McIan</td><td>F</td><td>1971-02-20T05:00:00Z</td><td>982-68-4659</td><td>48781</td></tr><tr><td>57</td><td>Jesusa</td><td>Cherise</td><td>Parysowna</td><td>F</td><td>1988-03-14T05:00:00Z</td><td>992-77-3435</td><td>111979</td></tr><tr><td>58</td><td>Chung</td><td>Dian</td><td>Dautry</td><td>F</td><td>1998-01-12T05:00:00Z</td><td>946-10-3058</td><td>47190</td></tr><tr><td>59</td><td>Vickie</td><td>Ranae</td><td>Saddleton</td><td>F</td><td>1967-04-01T05:00:00Z</td><td>955-57-2783</td><td>52410</td></tr><tr><td>60</td><td>Sena</td><td>Particia</td><td>Stittle</td><td>F</td><td>1956-01-10T05:00:00Z</td><td>971-10-8053</td><td>72745</td></tr><tr><td>61</td><td>Adelia</td><td>Gita</td><td>Vassel</td><td>F</td><td>1990-10-24T04:00:00Z</td><td>947-17-3832</td><td>63563</td></tr><tr><td>62</td><td>Erica</td><td>Louvenia</td><td>O'Drought</td><td>F</td><td>1991-03-08T05:00:00Z</td><td>904-49-5506</td><td>80113</td></tr><tr><td>63</td><td>Anjanette</td><td>Clelia</td><td>Hicks</td><td>F</td><td>1973-10-26T04:00:00Z</td><td>981-32-5795</td><td>61310</td></tr><tr><td>64</td><td>Kari</td><td>Rosalyn</td><td>Siney</td><td>F</td><td>1985-04-10T05:00:00Z</td><td>935-65-6035</td><td>65836</td></tr><tr><td>65</td><td>Eliana</td><td>Marcie</td><td>Gogay</td><td>F</td><td>1976-05-28T04:00:00Z</td><td>984-45-2254</td><td>32795</td></tr><tr><td>66</td><td>Winter</td><td>Esther</td><td>Cruddace</td><td>F</td><td>1989-12-28T05:00:00Z</td><td>997-63-7632</td><td>66115</td></tr><tr><td>67</td><td>Yuri</td><td>Elin</td><td>Byrne</td><td>F</td><td>1964-08-18T04:00:00Z</td><td>988-62-7594</td><td>52476</td></tr><tr><td>68</td><td>Kimberely</td><td>Beverlee</td><td>Mahon</td><td>F</td><td>1979-01-17T05:00:00Z</td><td>941-28-2731</td><td>92341</td></tr><tr><td>69</td><td>Toya</td><td>Waneta</td><td>Whebell</td><td>F</td><td>1989-07-23T04:00:00Z</td><td>947-97-1666</td><td>53715</td></tr><tr><td>70</td><td>Wynona</td><td>Maxie</td><td>Melia</td><td>F</td><td>1984-02-13T05:00:00Z</td><td>901-85-3278</td><td>73754</td></tr><tr><td>71</td><td>Katelyn</td><td>Merrie</td><td>Pocklington</td><td>F</td><td>1994-01-16T05:00:00Z</td><td>949-72-2758</td><td>77925</td></tr><tr><td>72</td><td>Lianne</td><td>Racquel</td><td>Bowe</td><td>F</td><td>1976-01-18T05:00:00Z</td><td>935-57-9860</td><td>114348</td></tr><tr><td>73</td><td>Kayla</td><td>Janella</td><td>Erskin</td><td>F</td><td>1965-06-25T04:00:00Z</td><td>916-57-2955</td><td>87593</td></tr><tr><td>74</td><td>Monserrate</td><td>Goldie</td><td>Trimming</td><td>F</td><td>1993-09-17T04:00:00Z</td><td>930-49-9845</td><td>57255</td></tr><tr><td>75</td><td>Alica</td><td>Elfrieda</td><td>Mousdall</td><td>F</td><td>1953-12-21T05:00:00Z</td><td>954-16-6401</td><td>96490</td></tr><tr><td>76</td><td>Dung</td><td>Leslie</td><td>Lambswood</td><td>F</td><td>1968-08-03T04:00:00Z</td><td>914-14-5994</td><td>57409</td></tr><tr><td>77</td><td>Jolene</td><td>Vennie</td><td>Pindell</td><td>F</td><td>1983-07-08T04:00:00Z</td><td>972-80-1367</td><td>72379</td></tr><tr><td>78</td><td>Deanne</td><td>Lindsay</td><td>Lambdin</td><td>F</td><td>1999-07-28T04:00:00Z</td><td>969-87-7115</td><td>83764</td></tr><tr><td>79</td><td>Carey</td><td>Kareen</td><td>Ciric</td><td>F</td><td>1999-02-23T05:00:00Z</td><td>913-31-5531</td><td>93416</td></tr><tr><td>80</td><td>Madison</td><td>Iris</td><td>Donovan</td><td>F</td><td>1984-09-05T04:00:00Z</td><td>953-91-7481</td><td>74484</td></tr><tr><td>81</td><td>Lasandra</td><td>Lin</td><td>Mowne</td><td>F</td><td>1986-03-30T05:00:00Z</td><td>984-79-5062</td><td>90966</td></tr><tr><td>82</td><td>Joella</td><td>Danae</td><td>Marxsen</td><td>F</td><td>1960-09-12T04:00:00Z</td><td>998-57-7440</td><td>109293</td></tr><tr><td>83</td><td>Markita</td><td>Shellie</td><td>Baskeyfied</td><td>F</td><td>1960-12-05T05:00:00Z</td><td>993-66-4078</td><td>134393</td></tr><tr><td>84</td><td>Callie</td><td>Josephina</td><td>Gatley</td><td>F</td><td>1988-05-25T04:00:00Z</td><td>963-80-2930</td><td>63879</td></tr><tr><td>85</td><td>Maia</td><td>Nadene</td><td>Putland</td><td>F</td><td>1979-12-22T05:00:00Z</td><td>966-80-6343</td><td>82866</td></tr><tr><td>86</td><td>Elma</td><td>Chau</td><td>Rossiter</td><td>F</td><td>1958-10-22T04:00:00Z</td><td>973-86-1495</td><td>80696</td></tr><tr><td>87</td><td>Luella</td><td>Cecile</td><td>Gant</td><td>F</td><td>1967-10-05T04:00:00Z</td><td>983-10-1764</td><td>78464</td></tr><tr><td>88</td><td>In</td><td>Susann</td><td>Lacroix</td><td>F</td><td>1999-07-23T04:00:00Z</td><td>907-56-8358</td><td>70873</td></tr><tr><td>89</td><td>Lizabeth</td><td>Sommer</td><td>Mayze</td><td>F</td><td>1971-04-24T05:00:00Z</td><td>981-26-7152</td><td>61597</td></tr><tr><td>90</td><td>Alice</td><td>Marisol</td><td>Novill</td><td>F</td><td>1992-05-21T04:00:00Z</td><td>924-10-7563</td><td>34053</td></tr><tr><td>91</td><td>Emelina</td><td>Joel</td><td>Skudder</td><td>F</td><td>1962-01-05T05:00:00Z</td><td>929-14-4074</td><td>53763</td></tr><tr><td>92</td><td>Ingeborg</td><td>Barbara</td><td>Darko</td><td>F</td><td>1982-01-18T05:00:00Z</td><td>989-81-9045</td><td>62846</td></tr><tr><td>93</td><td>Tonja</td><td>Sumiko</td><td>Druery</td><td>F</td><td>1969-03-12T05:00:00Z</td><td>902-58-6244</td><td>63075</td></tr><tr><td>94</td><td>Nila</td><td>Madelene</td><td>Gothard</td><td>F</td><td>1963-12-05T05:00:00Z</td><td>906-58-8356</td><td>100950</td></tr><tr><td>95</td><td>Rochelle</td><td>Ronni</td><td>Roycroft</td><td>F</td><td>1986-02-14T05:00:00Z</td><td>935-80-5907</td><td>92524</td></tr><tr><td>96</td><td>Flo</td><td>Jena</td><td>Broomer</td><td>F</td><td>1975-06-12T04:00:00Z</td><td>950-63-4472</td><td>47349</td></tr><tr><td>97</td><td>Jonell</td><td>Alia</td><td>Gifkins</td><td>F</td><td>1966-07-12T04:00:00Z</td><td>942-12-1605</td><td>84084</td></tr><tr><td>98</td><td>Perla</td><td>Delphia</td><td>Brimley</td><td>F</td><td>1965-07-31T04:00:00Z</td><td>934-71-2961</td><td>65425</td></tr><tr><td>99</td><td>Rheba</td><td>Charlesetta</td><td>Chatwood</td><td>F</td><td>1974-04-01T04:00:00Z</td><td>995-65-8928</td><td>76773</td></tr><tr><td>100</td><td>Annalisa</td><td>Nova</td><td>Patesel</td><td>F</td><td>1974-01-25T04:00:00Z</td><td>922-68-2542</td><td>66481</td></tr></tbody></table></div>"
      ]
     },
     "metadata": {
      "application/vnd.databricks.v1+output": {
       "addedWidgets": {},
       "aggData": [],
       "aggError": "",
       "aggOverflow": false,
       "aggSchema": [],
       "aggSeriesLimitReached": false,
       "aggType": "",
       "arguments": {},
       "columnCustomDisplayInfos": {},
       "data": [
        [
         1,
         "Pennie",
         "Carry",
         "Hirschmann",
         "F",
         "1955-07-02T04:00:00Z",
         "981-43-9345",
         56172
        ],
        [
         2,
         "An",
         "Amira",
         "Cowper",
         "F",
         "1992-02-08T05:00:00Z",
         "978-97-8086",
         40203
        ],
        [
         3,
         "Quyen",
         "Marlen",
         "Dome",
         "F",
         "1970-10-11T04:00:00Z",
         "957-57-8246",
         53417
        ],
        [
         4,
         "Coralie",
         "Antonina",
         "Marshal",
         "F",
         "1990-04-11T04:00:00Z",
         "963-39-4885",
         94727
        ],
        [
         5,
         "Terrie",
         "Wava",
         "Bonar",
         "F",
         "1980-01-16T05:00:00Z",
         "964-49-8051",
         79908
        ],
        [
         6,
         "Chassidy",
         "Concepcion",
         "Bourthouloume",
         "F",
         "1990-11-24T05:00:00Z",
         "954-59-9172",
         64652
        ],
        [
         7,
         "Geri",
         "Tambra",
         "Mosby",
         "F",
         "1970-12-19T05:00:00Z",
         "968-16-4020",
         38195
        ],
        [
         8,
         "Patria",
         "Nancy",
         "Arstall",
         "F",
         "1985-01-02T05:00:00Z",
         "984-76-3770",
         102053
        ],
        [
         9,
         "Terese",
         "Alfredia",
         "Tocque",
         "F",
         "1967-11-17T05:00:00Z",
         "967-48-7309",
         91294
        ],
        [
         10,
         "Wava",
         "Lyndsey",
         "Jeandon",
         "F",
         "1963-12-30T05:00:00Z",
         "997-82-2946",
         56521
        ],
        [
         11,
         "Sophie",
         "Emerita",
         "Hearn",
         "F",
         "1979-09-17T04:00:00Z",
         "977-66-4483",
         90920
        ],
        [
         12,
         "Jodie",
         "Tabetha",
         "Laneham",
         "F",
         "1959-01-31T05:00:00Z",
         "923-24-9769",
         90634
        ],
        [
         13,
         "Marietta",
         "Mandi",
         "Yansons",
         "F",
         "1974-02-19T04:00:00Z",
         "900-34-8083",
         93162
        ],
        [
         14,
         "Caridad",
         "Maire",
         "Snelle",
         "F",
         "1960-09-26T04:00:00Z",
         "992-11-7062",
         38859
        ],
        [
         15,
         "Yasmine",
         "Meg",
         "Edworthye",
         "F",
         "1960-01-29T05:00:00Z",
         "922-12-9862",
         76220
        ],
        [
         16,
         "Chan",
         "Jani",
         "Hartas",
         "F",
         "1986-12-05T05:00:00Z",
         "995-51-3115",
         75050
        ],
        [
         17,
         "Evangeline",
         "Wanetta",
         "Casserley",
         "F",
         "1961-09-29T04:00:00Z",
         "926-61-3526",
         62814
        ],
        [
         18,
         "Elnora",
         "Kecia",
         "Lipman",
         "F",
         "1980-02-14T05:00:00Z",
         "950-23-9739",
         71350
        ],
        [
         19,
         "Adelle",
         "Kathyrn",
         "Grigoriev",
         "F",
         "1978-11-14T05:00:00Z",
         "923-23-5984",
         60600
        ],
        [
         20,
         "Mica",
         "Zandra",
         "Challens",
         "F",
         "1973-11-24T05:00:00Z",
         "918-66-1232",
         51071
        ],
        [
         21,
         "Sarah",
         "Nickie",
         "Sadgrove",
         "F",
         "1990-11-07T05:00:00Z",
         "913-18-2717",
         101046
        ],
        [
         22,
         "Robbin",
         "Leeanne",
         "Sallnow",
         "F",
         "1958-12-16T05:00:00Z",
         "938-88-6975",
         98588
        ],
        [
         23,
         "Caroyln",
         "Mamie",
         "Cardon",
         "F",
         "1994-05-15T04:00:00Z",
         "927-52-5062",
         60449
        ],
        [
         24,
         "Penni",
         "Stevie",
         "Searby",
         "F",
         "1955-03-23T05:00:00Z",
         "951-65-9959",
         83728
        ],
        [
         25,
         "Yesenia",
         "Eileen",
         "Goldring",
         "F",
         "1997-07-09T04:00:00Z",
         "920-71-3216",
         73060
        ],
        [
         26,
         "Frankie",
         "Jovan",
         "Lydall",
         "F",
         "1976-07-08T04:00:00Z",
         "911-59-3216",
         105270
        ],
        [
         27,
         "Venetta",
         "Laura",
         "Komorowski",
         "F",
         "1960-12-01T05:00:00Z",
         "921-55-9589",
         38186
        ],
        [
         28,
         "Marget",
         "Thao",
         "Lundbeck",
         "F",
         "1961-04-07T05:00:00Z",
         "979-14-7198",
         67310
        ],
        [
         29,
         "Leeann",
         "Verlene",
         "Hewes",
         "F",
         "1985-01-03T05:00:00Z",
         "905-67-9311",
         107411
        ],
        [
         30,
         "Noella",
         "Isabella",
         "Ubsdell",
         "F",
         "1975-04-20T04:00:00Z",
         "919-78-4521",
         67250
        ],
        [
         31,
         "Elly",
         "Natividad",
         "Iorns",
         "F",
         "1967-04-28T05:00:00Z",
         "905-52-3088",
         80919
        ],
        [
         32,
         "Hedwig",
         "Dulcie",
         "Pendleberry",
         "F",
         "1998-12-02T05:00:00Z",
         "666-51-9916",
         60857
        ],
        [
         33,
         "Bridget",
         "Brande",
         "Perche",
         "F",
         "1989-03-07T05:00:00Z",
         "928-39-7663",
         58615
        ],
        [
         34,
         "Soo",
         "Laurena",
         "Danovich",
         "F",
         "1977-11-20T05:00:00Z",
         "908-19-5146",
         57712
        ],
        [
         35,
         "Hanh",
         "Juliet",
         "Stiegers",
         "F",
         "1989-09-09T04:00:00Z",
         "905-35-6642",
         91772
        ],
        [
         36,
         "Lucretia",
         "Marna",
         "Beekman",
         "F",
         "1982-08-16T04:00:00Z",
         "909-68-3003",
         92152
        ],
        [
         37,
         "Stasia",
         "Perla",
         "Manoch",
         "F",
         "1989-04-26T04:00:00Z",
         "936-61-9195",
         58131
        ],
        [
         38,
         "Nena",
         "Jamika",
         "Hinkes",
         "F",
         "1964-02-29T05:00:00Z",
         "937-51-9958",
         82412
        ],
        [
         39,
         "Kala",
         "Violeta",
         "Lyfe",
         "F",
         "1994-06-23T04:00:00Z",
         "981-88-8006",
         101601
        ],
        [
         40,
         "Alethea",
         "Dolly",
         "Brickdale",
         "F",
         "1960-06-26T04:00:00Z",
         "908-46-4236",
         89151
        ],
        [
         41,
         "Felisha",
         "Hiroko",
         "Hayland",
         "F",
         "1959-12-13T05:00:00Z",
         "914-65-8532",
         98256
        ],
        [
         42,
         "Gussie",
         "India",
         "McKeeman",
         "F",
         "1991-11-15T05:00:00Z",
         "922-91-9943",
         46945
        ],
        [
         43,
         "Page",
         "Salina",
         "McHaffy",
         "F",
         "1956-09-14T04:00:00Z",
         "900-96-5804",
         115410
        ],
        [
         44,
         "Idell",
         "Ami",
         "Ateggart",
         "F",
         "1977-06-26T04:00:00Z",
         "979-47-6065",
         89747
        ],
        [
         45,
         "Leonia",
         "Elda",
         "Windrass",
         "F",
         "1961-11-05T05:00:00Z",
         "927-67-2402",
         87159
        ],
        [
         46,
         "Eleonore",
         "Erma",
         "Leport",
         "F",
         "1973-06-13T04:00:00Z",
         "953-54-9836",
         98072
        ],
        [
         47,
         "Logan",
         "Magaly",
         "Siggs",
         "F",
         "1974-07-16T04:00:00Z",
         "948-66-9847",
         55780
        ],
        [
         48,
         "Carie",
         "Serina",
         "Waryk",
         "F",
         "1957-02-11T05:00:00Z",
         "980-30-1656",
         52549
        ],
        [
         49,
         "Pansy",
         "Suzie",
         "Shrieves",
         "F",
         "1991-05-24T04:00:00Z",
         "910-16-4444",
         73811
        ],
        [
         50,
         "Malissa",
         "Amada",
         "McRill",
         "F",
         "1958-05-02T04:00:00Z",
         "954-65-2862",
         115845
        ],
        [
         51,
         "Blythe",
         "Carri",
         "Crinkley",
         "F",
         "1973-03-08T05:00:00Z",
         "998-29-3568",
         112662
        ],
        [
         52,
         "Marketta",
         "Rachele",
         "Borg-Bartolo",
         "F",
         "1975-10-10T04:00:00Z",
         "981-60-8178",
         66712
        ],
        [
         53,
         "Curtis",
         "Tempie",
         "Sponton",
         "F",
         "1980-07-23T04:00:00Z",
         "997-70-4544",
         74767
        ],
        [
         54,
         "Maricela",
         "Elane",
         "Heinel",
         "F",
         "1972-12-21T05:00:00Z",
         "931-49-8310",
         67801
        ],
        [
         55,
         "Delpha",
         "Michelina",
         "Biggadike",
         "F",
         "1957-09-30T04:00:00Z",
         "987-71-9556",
         104262
        ],
        [
         56,
         "Bernita",
         "Kathaleen",
         "McIan",
         "F",
         "1971-02-20T05:00:00Z",
         "982-68-4659",
         48781
        ],
        [
         57,
         "Jesusa",
         "Cherise",
         "Parysowna",
         "F",
         "1988-03-14T05:00:00Z",
         "992-77-3435",
         111979
        ],
        [
         58,
         "Chung",
         "Dian",
         "Dautry",
         "F",
         "1998-01-12T05:00:00Z",
         "946-10-3058",
         47190
        ],
        [
         59,
         "Vickie",
         "Ranae",
         "Saddleton",
         "F",
         "1967-04-01T05:00:00Z",
         "955-57-2783",
         52410
        ],
        [
         60,
         "Sena",
         "Particia",
         "Stittle",
         "F",
         "1956-01-10T05:00:00Z",
         "971-10-8053",
         72745
        ],
        [
         61,
         "Adelia",
         "Gita",
         "Vassel",
         "F",
         "1990-10-24T04:00:00Z",
         "947-17-3832",
         63563
        ],
        [
         62,
         "Erica",
         "Louvenia",
         "O'Drought",
         "F",
         "1991-03-08T05:00:00Z",
         "904-49-5506",
         80113
        ],
        [
         63,
         "Anjanette",
         "Clelia",
         "Hicks",
         "F",
         "1973-10-26T04:00:00Z",
         "981-32-5795",
         61310
        ],
        [
         64,
         "Kari",
         "Rosalyn",
         "Siney",
         "F",
         "1985-04-10T05:00:00Z",
         "935-65-6035",
         65836
        ],
        [
         65,
         "Eliana",
         "Marcie",
         "Gogay",
         "F",
         "1976-05-28T04:00:00Z",
         "984-45-2254",
         32795
        ],
        [
         66,
         "Winter",
         "Esther",
         "Cruddace",
         "F",
         "1989-12-28T05:00:00Z",
         "997-63-7632",
         66115
        ],
        [
         67,
         "Yuri",
         "Elin",
         "Byrne",
         "F",
         "1964-08-18T04:00:00Z",
         "988-62-7594",
         52476
        ],
        [
         68,
         "Kimberely",
         "Beverlee",
         "Mahon",
         "F",
         "1979-01-17T05:00:00Z",
         "941-28-2731",
         92341
        ],
        [
         69,
         "Toya",
         "Waneta",
         "Whebell",
         "F",
         "1989-07-23T04:00:00Z",
         "947-97-1666",
         53715
        ],
        [
         70,
         "Wynona",
         "Maxie",
         "Melia",
         "F",
         "1984-02-13T05:00:00Z",
         "901-85-3278",
         73754
        ],
        [
         71,
         "Katelyn",
         "Merrie",
         "Pocklington",
         "F",
         "1994-01-16T05:00:00Z",
         "949-72-2758",
         77925
        ],
        [
         72,
         "Lianne",
         "Racquel",
         "Bowe",
         "F",
         "1976-01-18T05:00:00Z",
         "935-57-9860",
         114348
        ],
        [
         73,
         "Kayla",
         "Janella",
         "Erskin",
         "F",
         "1965-06-25T04:00:00Z",
         "916-57-2955",
         87593
        ],
        [
         74,
         "Monserrate",
         "Goldie",
         "Trimming",
         "F",
         "1993-09-17T04:00:00Z",
         "930-49-9845",
         57255
        ],
        [
         75,
         "Alica",
         "Elfrieda",
         "Mousdall",
         "F",
         "1953-12-21T05:00:00Z",
         "954-16-6401",
         96490
        ],
        [
         76,
         "Dung",
         "Leslie",
         "Lambswood",
         "F",
         "1968-08-03T04:00:00Z",
         "914-14-5994",
         57409
        ],
        [
         77,
         "Jolene",
         "Vennie",
         "Pindell",
         "F",
         "1983-07-08T04:00:00Z",
         "972-80-1367",
         72379
        ],
        [
         78,
         "Deanne",
         "Lindsay",
         "Lambdin",
         "F",
         "1999-07-28T04:00:00Z",
         "969-87-7115",
         83764
        ],
        [
         79,
         "Carey",
         "Kareen",
         "Ciric",
         "F",
         "1999-02-23T05:00:00Z",
         "913-31-5531",
         93416
        ],
        [
         80,
         "Madison",
         "Iris",
         "Donovan",
         "F",
         "1984-09-05T04:00:00Z",
         "953-91-7481",
         74484
        ],
        [
         81,
         "Lasandra",
         "Lin",
         "Mowne",
         "F",
         "1986-03-30T05:00:00Z",
         "984-79-5062",
         90966
        ],
        [
         82,
         "Joella",
         "Danae",
         "Marxsen",
         "F",
         "1960-09-12T04:00:00Z",
         "998-57-7440",
         109293
        ],
        [
         83,
         "Markita",
         "Shellie",
         "Baskeyfied",
         "F",
         "1960-12-05T05:00:00Z",
         "993-66-4078",
         134393
        ],
        [
         84,
         "Callie",
         "Josephina",
         "Gatley",
         "F",
         "1988-05-25T04:00:00Z",
         "963-80-2930",
         63879
        ],
        [
         85,
         "Maia",
         "Nadene",
         "Putland",
         "F",
         "1979-12-22T05:00:00Z",
         "966-80-6343",
         82866
        ],
        [
         86,
         "Elma",
         "Chau",
         "Rossiter",
         "F",
         "1958-10-22T04:00:00Z",
         "973-86-1495",
         80696
        ],
        [
         87,
         "Luella",
         "Cecile",
         "Gant",
         "F",
         "1967-10-05T04:00:00Z",
         "983-10-1764",
         78464
        ],
        [
         88,
         "In",
         "Susann",
         "Lacroix",
         "F",
         "1999-07-23T04:00:00Z",
         "907-56-8358",
         70873
        ],
        [
         89,
         "Lizabeth",
         "Sommer",
         "Mayze",
         "F",
         "1971-04-24T05:00:00Z",
         "981-26-7152",
         61597
        ],
        [
         90,
         "Alice",
         "Marisol",
         "Novill",
         "F",
         "1992-05-21T04:00:00Z",
         "924-10-7563",
         34053
        ],
        [
         91,
         "Emelina",
         "Joel",
         "Skudder",
         "F",
         "1962-01-05T05:00:00Z",
         "929-14-4074",
         53763
        ],
        [
         92,
         "Ingeborg",
         "Barbara",
         "Darko",
         "F",
         "1982-01-18T05:00:00Z",
         "989-81-9045",
         62846
        ],
        [
         93,
         "Tonja",
         "Sumiko",
         "Druery",
         "F",
         "1969-03-12T05:00:00Z",
         "902-58-6244",
         63075
        ],
        [
         94,
         "Nila",
         "Madelene",
         "Gothard",
         "F",
         "1963-12-05T05:00:00Z",
         "906-58-8356",
         100950
        ],
        [
         95,
         "Rochelle",
         "Ronni",
         "Roycroft",
         "F",
         "1986-02-14T05:00:00Z",
         "935-80-5907",
         92524
        ],
        [
         96,
         "Flo",
         "Jena",
         "Broomer",
         "F",
         "1975-06-12T04:00:00Z",
         "950-63-4472",
         47349
        ],
        [
         97,
         "Jonell",
         "Alia",
         "Gifkins",
         "F",
         "1966-07-12T04:00:00Z",
         "942-12-1605",
         84084
        ],
        [
         98,
         "Perla",
         "Delphia",
         "Brimley",
         "F",
         "1965-07-31T04:00:00Z",
         "934-71-2961",
         65425
        ],
        [
         99,
         "Rheba",
         "Charlesetta",
         "Chatwood",
         "F",
         "1974-04-01T04:00:00Z",
         "995-65-8928",
         76773
        ],
        [
         100,
         "Annalisa",
         "Nova",
         "Patesel",
         "F",
         "1974-01-25T04:00:00Z",
         "922-68-2542",
         66481
        ]
       ],
       "datasetInfos": [],
       "dbfsResultPath": null,
       "isJsonSchema": true,
       "metadata": {},
       "overflow": false,
       "plotOptions": {
        "customPlotOptions": {},
        "displayType": "table",
        "pivotAggregation": null,
        "pivotColumns": null,
        "xColumns": null,
        "yColumns": null
       },
       "removedWidgets": [],
       "schema": [
        {
         "metadata": "{}",
         "name": "id",
         "type": "\"integer\""
        },
        {
         "metadata": "{}",
         "name": "firstName",
         "type": "\"string\""
        },
        {
         "metadata": "{}",
         "name": "middleName",
         "type": "\"string\""
        },
        {
         "metadata": "{}",
         "name": "lastName",
         "type": "\"string\""
        },
        {
         "metadata": "{}",
         "name": "gender",
         "type": "\"string\""
        },
        {
         "metadata": "{}",
         "name": "birthDate",
         "type": "\"timestamp\""
        },
        {
         "metadata": "{}",
         "name": "ssn",
         "type": "\"string\""
        },
        {
         "metadata": "{}",
         "name": "salary",
         "type": "\"integer\""
        }
       ],
       "type": "table"
      }
     },
     "output_type": "display_data"
    }
   ],
   "source": [
    "%python\n",
    "display(spark.read.load(\"abfss://dkushari@dkusharistorageaccount.dfs.core.windows.net/marsdemo/delta/volumedemo\"))"
   ]
  },
  {
   "cell_type": "code",
   "execution_count": 0,
   "metadata": {
    "application/vnd.databricks.v1+cell": {
     "cellMetadata": {
      "byteLimit": 2048000,
      "rowLimit": 10000
     },
     "inputWidgets": {},
     "nuid": "0c6bbebf-eb00-4ba5-b990-3db4751bb7d2",
     "showTitle": true,
     "tableResultSettingsMap": {},
     "title": "Access Volume Data Various Ways - Apache Spark™ SQL / DBSQL"
    }
   },
   "outputs": [
    {
     "output_type": "display_data",
     "data": {
      "text/html": [
       "<style scoped>\n",
       "  .table-result-container {\n",
       "    max-height: 300px;\n",
       "    overflow: auto;\n",
       "  }\n",
       "  table, th, td {\n",
       "    border: 1px solid black;\n",
       "    border-collapse: collapse;\n",
       "  }\n",
       "  th, td {\n",
       "    padding: 5px;\n",
       "  }\n",
       "  th {\n",
       "    text-align: left;\n",
       "  }\n",
       "</style><div class='table-result-container'><table class='table-result'><thead style='background-color: white'><tr><th>id</th><th>firstName</th><th>middleName</th><th>lastName</th><th>gender</th><th>birthDate</th><th>ssn</th><th>salary</th></tr></thead><tbody><tr><td>1</td><td>Pennie</td><td>Carry</td><td>Hirschmann</td><td>F</td><td>1955-07-02T04:00:00Z</td><td>981-43-9345</td><td>56172</td></tr><tr><td>2</td><td>An</td><td>Amira</td><td>Cowper</td><td>F</td><td>1992-02-08T05:00:00Z</td><td>978-97-8086</td><td>40203</td></tr><tr><td>3</td><td>Quyen</td><td>Marlen</td><td>Dome</td><td>F</td><td>1970-10-11T04:00:00Z</td><td>957-57-8246</td><td>53417</td></tr><tr><td>4</td><td>Coralie</td><td>Antonina</td><td>Marshal</td><td>F</td><td>1990-04-11T04:00:00Z</td><td>963-39-4885</td><td>94727</td></tr><tr><td>5</td><td>Terrie</td><td>Wava</td><td>Bonar</td><td>F</td><td>1980-01-16T05:00:00Z</td><td>964-49-8051</td><td>79908</td></tr><tr><td>6</td><td>Chassidy</td><td>Concepcion</td><td>Bourthouloume</td><td>F</td><td>1990-11-24T05:00:00Z</td><td>954-59-9172</td><td>64652</td></tr><tr><td>7</td><td>Geri</td><td>Tambra</td><td>Mosby</td><td>F</td><td>1970-12-19T05:00:00Z</td><td>968-16-4020</td><td>38195</td></tr><tr><td>8</td><td>Patria</td><td>Nancy</td><td>Arstall</td><td>F</td><td>1985-01-02T05:00:00Z</td><td>984-76-3770</td><td>102053</td></tr><tr><td>9</td><td>Terese</td><td>Alfredia</td><td>Tocque</td><td>F</td><td>1967-11-17T05:00:00Z</td><td>967-48-7309</td><td>91294</td></tr><tr><td>10</td><td>Wava</td><td>Lyndsey</td><td>Jeandon</td><td>F</td><td>1963-12-30T05:00:00Z</td><td>997-82-2946</td><td>56521</td></tr><tr><td>11</td><td>Sophie</td><td>Emerita</td><td>Hearn</td><td>F</td><td>1979-09-17T04:00:00Z</td><td>977-66-4483</td><td>90920</td></tr><tr><td>12</td><td>Jodie</td><td>Tabetha</td><td>Laneham</td><td>F</td><td>1959-01-31T05:00:00Z</td><td>923-24-9769</td><td>90634</td></tr><tr><td>13</td><td>Marietta</td><td>Mandi</td><td>Yansons</td><td>F</td><td>1974-02-19T04:00:00Z</td><td>900-34-8083</td><td>93162</td></tr><tr><td>14</td><td>Caridad</td><td>Maire</td><td>Snelle</td><td>F</td><td>1960-09-26T04:00:00Z</td><td>992-11-7062</td><td>38859</td></tr><tr><td>15</td><td>Yasmine</td><td>Meg</td><td>Edworthye</td><td>F</td><td>1960-01-29T05:00:00Z</td><td>922-12-9862</td><td>76220</td></tr><tr><td>16</td><td>Chan</td><td>Jani</td><td>Hartas</td><td>F</td><td>1986-12-05T05:00:00Z</td><td>995-51-3115</td><td>75050</td></tr><tr><td>17</td><td>Evangeline</td><td>Wanetta</td><td>Casserley</td><td>F</td><td>1961-09-29T04:00:00Z</td><td>926-61-3526</td><td>62814</td></tr><tr><td>18</td><td>Elnora</td><td>Kecia</td><td>Lipman</td><td>F</td><td>1980-02-14T05:00:00Z</td><td>950-23-9739</td><td>71350</td></tr><tr><td>19</td><td>Adelle</td><td>Kathyrn</td><td>Grigoriev</td><td>F</td><td>1978-11-14T05:00:00Z</td><td>923-23-5984</td><td>60600</td></tr><tr><td>20</td><td>Mica</td><td>Zandra</td><td>Challens</td><td>F</td><td>1973-11-24T05:00:00Z</td><td>918-66-1232</td><td>51071</td></tr><tr><td>21</td><td>Sarah</td><td>Nickie</td><td>Sadgrove</td><td>F</td><td>1990-11-07T05:00:00Z</td><td>913-18-2717</td><td>101046</td></tr><tr><td>22</td><td>Robbin</td><td>Leeanne</td><td>Sallnow</td><td>F</td><td>1958-12-16T05:00:00Z</td><td>938-88-6975</td><td>98588</td></tr><tr><td>23</td><td>Caroyln</td><td>Mamie</td><td>Cardon</td><td>F</td><td>1994-05-15T04:00:00Z</td><td>927-52-5062</td><td>60449</td></tr><tr><td>24</td><td>Penni</td><td>Stevie</td><td>Searby</td><td>F</td><td>1955-03-23T05:00:00Z</td><td>951-65-9959</td><td>83728</td></tr><tr><td>25</td><td>Yesenia</td><td>Eileen</td><td>Goldring</td><td>F</td><td>1997-07-09T04:00:00Z</td><td>920-71-3216</td><td>73060</td></tr><tr><td>26</td><td>Frankie</td><td>Jovan</td><td>Lydall</td><td>F</td><td>1976-07-08T04:00:00Z</td><td>911-59-3216</td><td>105270</td></tr><tr><td>27</td><td>Venetta</td><td>Laura</td><td>Komorowski</td><td>F</td><td>1960-12-01T05:00:00Z</td><td>921-55-9589</td><td>38186</td></tr><tr><td>28</td><td>Marget</td><td>Thao</td><td>Lundbeck</td><td>F</td><td>1961-04-07T05:00:00Z</td><td>979-14-7198</td><td>67310</td></tr><tr><td>29</td><td>Leeann</td><td>Verlene</td><td>Hewes</td><td>F</td><td>1985-01-03T05:00:00Z</td><td>905-67-9311</td><td>107411</td></tr><tr><td>30</td><td>Noella</td><td>Isabella</td><td>Ubsdell</td><td>F</td><td>1975-04-20T04:00:00Z</td><td>919-78-4521</td><td>67250</td></tr><tr><td>31</td><td>Elly</td><td>Natividad</td><td>Iorns</td><td>F</td><td>1967-04-28T05:00:00Z</td><td>905-52-3088</td><td>80919</td></tr><tr><td>32</td><td>Hedwig</td><td>Dulcie</td><td>Pendleberry</td><td>F</td><td>1998-12-02T05:00:00Z</td><td>666-51-9916</td><td>60857</td></tr><tr><td>33</td><td>Bridget</td><td>Brande</td><td>Perche</td><td>F</td><td>1989-03-07T05:00:00Z</td><td>928-39-7663</td><td>58615</td></tr><tr><td>34</td><td>Soo</td><td>Laurena</td><td>Danovich</td><td>F</td><td>1977-11-20T05:00:00Z</td><td>908-19-5146</td><td>57712</td></tr><tr><td>35</td><td>Hanh</td><td>Juliet</td><td>Stiegers</td><td>F</td><td>1989-09-09T04:00:00Z</td><td>905-35-6642</td><td>91772</td></tr><tr><td>36</td><td>Lucretia</td><td>Marna</td><td>Beekman</td><td>F</td><td>1982-08-16T04:00:00Z</td><td>909-68-3003</td><td>92152</td></tr><tr><td>37</td><td>Stasia</td><td>Perla</td><td>Manoch</td><td>F</td><td>1989-04-26T04:00:00Z</td><td>936-61-9195</td><td>58131</td></tr><tr><td>38</td><td>Nena</td><td>Jamika</td><td>Hinkes</td><td>F</td><td>1964-02-29T05:00:00Z</td><td>937-51-9958</td><td>82412</td></tr><tr><td>39</td><td>Kala</td><td>Violeta</td><td>Lyfe</td><td>F</td><td>1994-06-23T04:00:00Z</td><td>981-88-8006</td><td>101601</td></tr><tr><td>40</td><td>Alethea</td><td>Dolly</td><td>Brickdale</td><td>F</td><td>1960-06-26T04:00:00Z</td><td>908-46-4236</td><td>89151</td></tr><tr><td>41</td><td>Felisha</td><td>Hiroko</td><td>Hayland</td><td>F</td><td>1959-12-13T05:00:00Z</td><td>914-65-8532</td><td>98256</td></tr><tr><td>42</td><td>Gussie</td><td>India</td><td>McKeeman</td><td>F</td><td>1991-11-15T05:00:00Z</td><td>922-91-9943</td><td>46945</td></tr><tr><td>43</td><td>Page</td><td>Salina</td><td>McHaffy</td><td>F</td><td>1956-09-14T04:00:00Z</td><td>900-96-5804</td><td>115410</td></tr><tr><td>44</td><td>Idell</td><td>Ami</td><td>Ateggart</td><td>F</td><td>1977-06-26T04:00:00Z</td><td>979-47-6065</td><td>89747</td></tr><tr><td>45</td><td>Leonia</td><td>Elda</td><td>Windrass</td><td>F</td><td>1961-11-05T05:00:00Z</td><td>927-67-2402</td><td>87159</td></tr><tr><td>46</td><td>Eleonore</td><td>Erma</td><td>Leport</td><td>F</td><td>1973-06-13T04:00:00Z</td><td>953-54-9836</td><td>98072</td></tr><tr><td>47</td><td>Logan</td><td>Magaly</td><td>Siggs</td><td>F</td><td>1974-07-16T04:00:00Z</td><td>948-66-9847</td><td>55780</td></tr><tr><td>48</td><td>Carie</td><td>Serina</td><td>Waryk</td><td>F</td><td>1957-02-11T05:00:00Z</td><td>980-30-1656</td><td>52549</td></tr><tr><td>49</td><td>Pansy</td><td>Suzie</td><td>Shrieves</td><td>F</td><td>1991-05-24T04:00:00Z</td><td>910-16-4444</td><td>73811</td></tr><tr><td>50</td><td>Malissa</td><td>Amada</td><td>McRill</td><td>F</td><td>1958-05-02T04:00:00Z</td><td>954-65-2862</td><td>115845</td></tr><tr><td>51</td><td>Blythe</td><td>Carri</td><td>Crinkley</td><td>F</td><td>1973-03-08T05:00:00Z</td><td>998-29-3568</td><td>112662</td></tr><tr><td>52</td><td>Marketta</td><td>Rachele</td><td>Borg-Bartolo</td><td>F</td><td>1975-10-10T04:00:00Z</td><td>981-60-8178</td><td>66712</td></tr><tr><td>53</td><td>Curtis</td><td>Tempie</td><td>Sponton</td><td>F</td><td>1980-07-23T04:00:00Z</td><td>997-70-4544</td><td>74767</td></tr><tr><td>54</td><td>Maricela</td><td>Elane</td><td>Heinel</td><td>F</td><td>1972-12-21T05:00:00Z</td><td>931-49-8310</td><td>67801</td></tr><tr><td>55</td><td>Delpha</td><td>Michelina</td><td>Biggadike</td><td>F</td><td>1957-09-30T04:00:00Z</td><td>987-71-9556</td><td>104262</td></tr><tr><td>56</td><td>Bernita</td><td>Kathaleen</td><td>McIan</td><td>F</td><td>1971-02-20T05:00:00Z</td><td>982-68-4659</td><td>48781</td></tr><tr><td>57</td><td>Jesusa</td><td>Cherise</td><td>Parysowna</td><td>F</td><td>1988-03-14T05:00:00Z</td><td>992-77-3435</td><td>111979</td></tr><tr><td>58</td><td>Chung</td><td>Dian</td><td>Dautry</td><td>F</td><td>1998-01-12T05:00:00Z</td><td>946-10-3058</td><td>47190</td></tr><tr><td>59</td><td>Vickie</td><td>Ranae</td><td>Saddleton</td><td>F</td><td>1967-04-01T05:00:00Z</td><td>955-57-2783</td><td>52410</td></tr><tr><td>60</td><td>Sena</td><td>Particia</td><td>Stittle</td><td>F</td><td>1956-01-10T05:00:00Z</td><td>971-10-8053</td><td>72745</td></tr><tr><td>61</td><td>Adelia</td><td>Gita</td><td>Vassel</td><td>F</td><td>1990-10-24T04:00:00Z</td><td>947-17-3832</td><td>63563</td></tr><tr><td>62</td><td>Erica</td><td>Louvenia</td><td>O'Drought</td><td>F</td><td>1991-03-08T05:00:00Z</td><td>904-49-5506</td><td>80113</td></tr><tr><td>63</td><td>Anjanette</td><td>Clelia</td><td>Hicks</td><td>F</td><td>1973-10-26T04:00:00Z</td><td>981-32-5795</td><td>61310</td></tr><tr><td>64</td><td>Kari</td><td>Rosalyn</td><td>Siney</td><td>F</td><td>1985-04-10T05:00:00Z</td><td>935-65-6035</td><td>65836</td></tr><tr><td>65</td><td>Eliana</td><td>Marcie</td><td>Gogay</td><td>F</td><td>1976-05-28T04:00:00Z</td><td>984-45-2254</td><td>32795</td></tr><tr><td>66</td><td>Winter</td><td>Esther</td><td>Cruddace</td><td>F</td><td>1989-12-28T05:00:00Z</td><td>997-63-7632</td><td>66115</td></tr><tr><td>67</td><td>Yuri</td><td>Elin</td><td>Byrne</td><td>F</td><td>1964-08-18T04:00:00Z</td><td>988-62-7594</td><td>52476</td></tr><tr><td>68</td><td>Kimberely</td><td>Beverlee</td><td>Mahon</td><td>F</td><td>1979-01-17T05:00:00Z</td><td>941-28-2731</td><td>92341</td></tr><tr><td>69</td><td>Toya</td><td>Waneta</td><td>Whebell</td><td>F</td><td>1989-07-23T04:00:00Z</td><td>947-97-1666</td><td>53715</td></tr><tr><td>70</td><td>Wynona</td><td>Maxie</td><td>Melia</td><td>F</td><td>1984-02-13T05:00:00Z</td><td>901-85-3278</td><td>73754</td></tr><tr><td>71</td><td>Katelyn</td><td>Merrie</td><td>Pocklington</td><td>F</td><td>1994-01-16T05:00:00Z</td><td>949-72-2758</td><td>77925</td></tr><tr><td>72</td><td>Lianne</td><td>Racquel</td><td>Bowe</td><td>F</td><td>1976-01-18T05:00:00Z</td><td>935-57-9860</td><td>114348</td></tr><tr><td>73</td><td>Kayla</td><td>Janella</td><td>Erskin</td><td>F</td><td>1965-06-25T04:00:00Z</td><td>916-57-2955</td><td>87593</td></tr><tr><td>74</td><td>Monserrate</td><td>Goldie</td><td>Trimming</td><td>F</td><td>1993-09-17T04:00:00Z</td><td>930-49-9845</td><td>57255</td></tr><tr><td>75</td><td>Alica</td><td>Elfrieda</td><td>Mousdall</td><td>F</td><td>1953-12-21T05:00:00Z</td><td>954-16-6401</td><td>96490</td></tr><tr><td>76</td><td>Dung</td><td>Leslie</td><td>Lambswood</td><td>F</td><td>1968-08-03T04:00:00Z</td><td>914-14-5994</td><td>57409</td></tr><tr><td>77</td><td>Jolene</td><td>Vennie</td><td>Pindell</td><td>F</td><td>1983-07-08T04:00:00Z</td><td>972-80-1367</td><td>72379</td></tr><tr><td>78</td><td>Deanne</td><td>Lindsay</td><td>Lambdin</td><td>F</td><td>1999-07-28T04:00:00Z</td><td>969-87-7115</td><td>83764</td></tr><tr><td>79</td><td>Carey</td><td>Kareen</td><td>Ciric</td><td>F</td><td>1999-02-23T05:00:00Z</td><td>913-31-5531</td><td>93416</td></tr><tr><td>80</td><td>Madison</td><td>Iris</td><td>Donovan</td><td>F</td><td>1984-09-05T04:00:00Z</td><td>953-91-7481</td><td>74484</td></tr><tr><td>81</td><td>Lasandra</td><td>Lin</td><td>Mowne</td><td>F</td><td>1986-03-30T05:00:00Z</td><td>984-79-5062</td><td>90966</td></tr><tr><td>82</td><td>Joella</td><td>Danae</td><td>Marxsen</td><td>F</td><td>1960-09-12T04:00:00Z</td><td>998-57-7440</td><td>109293</td></tr><tr><td>83</td><td>Markita</td><td>Shellie</td><td>Baskeyfied</td><td>F</td><td>1960-12-05T05:00:00Z</td><td>993-66-4078</td><td>134393</td></tr><tr><td>84</td><td>Callie</td><td>Josephina</td><td>Gatley</td><td>F</td><td>1988-05-25T04:00:00Z</td><td>963-80-2930</td><td>63879</td></tr><tr><td>85</td><td>Maia</td><td>Nadene</td><td>Putland</td><td>F</td><td>1979-12-22T05:00:00Z</td><td>966-80-6343</td><td>82866</td></tr><tr><td>86</td><td>Elma</td><td>Chau</td><td>Rossiter</td><td>F</td><td>1958-10-22T04:00:00Z</td><td>973-86-1495</td><td>80696</td></tr><tr><td>87</td><td>Luella</td><td>Cecile</td><td>Gant</td><td>F</td><td>1967-10-05T04:00:00Z</td><td>983-10-1764</td><td>78464</td></tr><tr><td>88</td><td>In</td><td>Susann</td><td>Lacroix</td><td>F</td><td>1999-07-23T04:00:00Z</td><td>907-56-8358</td><td>70873</td></tr><tr><td>89</td><td>Lizabeth</td><td>Sommer</td><td>Mayze</td><td>F</td><td>1971-04-24T05:00:00Z</td><td>981-26-7152</td><td>61597</td></tr><tr><td>90</td><td>Alice</td><td>Marisol</td><td>Novill</td><td>F</td><td>1992-05-21T04:00:00Z</td><td>924-10-7563</td><td>34053</td></tr><tr><td>91</td><td>Emelina</td><td>Joel</td><td>Skudder</td><td>F</td><td>1962-01-05T05:00:00Z</td><td>929-14-4074</td><td>53763</td></tr><tr><td>92</td><td>Ingeborg</td><td>Barbara</td><td>Darko</td><td>F</td><td>1982-01-18T05:00:00Z</td><td>989-81-9045</td><td>62846</td></tr><tr><td>93</td><td>Tonja</td><td>Sumiko</td><td>Druery</td><td>F</td><td>1969-03-12T05:00:00Z</td><td>902-58-6244</td><td>63075</td></tr><tr><td>94</td><td>Nila</td><td>Madelene</td><td>Gothard</td><td>F</td><td>1963-12-05T05:00:00Z</td><td>906-58-8356</td><td>100950</td></tr><tr><td>95</td><td>Rochelle</td><td>Ronni</td><td>Roycroft</td><td>F</td><td>1986-02-14T05:00:00Z</td><td>935-80-5907</td><td>92524</td></tr><tr><td>96</td><td>Flo</td><td>Jena</td><td>Broomer</td><td>F</td><td>1975-06-12T04:00:00Z</td><td>950-63-4472</td><td>47349</td></tr><tr><td>97</td><td>Jonell</td><td>Alia</td><td>Gifkins</td><td>F</td><td>1966-07-12T04:00:00Z</td><td>942-12-1605</td><td>84084</td></tr><tr><td>98</td><td>Perla</td><td>Delphia</td><td>Brimley</td><td>F</td><td>1965-07-31T04:00:00Z</td><td>934-71-2961</td><td>65425</td></tr><tr><td>99</td><td>Rheba</td><td>Charlesetta</td><td>Chatwood</td><td>F</td><td>1974-04-01T04:00:00Z</td><td>995-65-8928</td><td>76773</td></tr><tr><td>100</td><td>Annalisa</td><td>Nova</td><td>Patesel</td><td>F</td><td>1974-01-25T04:00:00Z</td><td>922-68-2542</td><td>66481</td></tr></tbody></table></div>"
      ]
     },
     "metadata": {
      "application/vnd.databricks.v1+output": {
       "addedWidgets": {},
       "aggData": [],
       "aggError": "",
       "aggOverflow": false,
       "aggSchema": [],
       "aggSeriesLimitReached": false,
       "aggType": "",
       "arguments": {},
       "columnCustomDisplayInfos": {},
       "data": [
        [
         1,
         "Pennie",
         "Carry",
         "Hirschmann",
         "F",
         "1955-07-02T04:00:00Z",
         "981-43-9345",
         56172
        ],
        [
         2,
         "An",
         "Amira",
         "Cowper",
         "F",
         "1992-02-08T05:00:00Z",
         "978-97-8086",
         40203
        ],
        [
         3,
         "Quyen",
         "Marlen",
         "Dome",
         "F",
         "1970-10-11T04:00:00Z",
         "957-57-8246",
         53417
        ],
        [
         4,
         "Coralie",
         "Antonina",
         "Marshal",
         "F",
         "1990-04-11T04:00:00Z",
         "963-39-4885",
         94727
        ],
        [
         5,
         "Terrie",
         "Wava",
         "Bonar",
         "F",
         "1980-01-16T05:00:00Z",
         "964-49-8051",
         79908
        ],
        [
         6,
         "Chassidy",
         "Concepcion",
         "Bourthouloume",
         "F",
         "1990-11-24T05:00:00Z",
         "954-59-9172",
         64652
        ],
        [
         7,
         "Geri",
         "Tambra",
         "Mosby",
         "F",
         "1970-12-19T05:00:00Z",
         "968-16-4020",
         38195
        ],
        [
         8,
         "Patria",
         "Nancy",
         "Arstall",
         "F",
         "1985-01-02T05:00:00Z",
         "984-76-3770",
         102053
        ],
        [
         9,
         "Terese",
         "Alfredia",
         "Tocque",
         "F",
         "1967-11-17T05:00:00Z",
         "967-48-7309",
         91294
        ],
        [
         10,
         "Wava",
         "Lyndsey",
         "Jeandon",
         "F",
         "1963-12-30T05:00:00Z",
         "997-82-2946",
         56521
        ],
        [
         11,
         "Sophie",
         "Emerita",
         "Hearn",
         "F",
         "1979-09-17T04:00:00Z",
         "977-66-4483",
         90920
        ],
        [
         12,
         "Jodie",
         "Tabetha",
         "Laneham",
         "F",
         "1959-01-31T05:00:00Z",
         "923-24-9769",
         90634
        ],
        [
         13,
         "Marietta",
         "Mandi",
         "Yansons",
         "F",
         "1974-02-19T04:00:00Z",
         "900-34-8083",
         93162
        ],
        [
         14,
         "Caridad",
         "Maire",
         "Snelle",
         "F",
         "1960-09-26T04:00:00Z",
         "992-11-7062",
         38859
        ],
        [
         15,
         "Yasmine",
         "Meg",
         "Edworthye",
         "F",
         "1960-01-29T05:00:00Z",
         "922-12-9862",
         76220
        ],
        [
         16,
         "Chan",
         "Jani",
         "Hartas",
         "F",
         "1986-12-05T05:00:00Z",
         "995-51-3115",
         75050
        ],
        [
         17,
         "Evangeline",
         "Wanetta",
         "Casserley",
         "F",
         "1961-09-29T04:00:00Z",
         "926-61-3526",
         62814
        ],
        [
         18,
         "Elnora",
         "Kecia",
         "Lipman",
         "F",
         "1980-02-14T05:00:00Z",
         "950-23-9739",
         71350
        ],
        [
         19,
         "Adelle",
         "Kathyrn",
         "Grigoriev",
         "F",
         "1978-11-14T05:00:00Z",
         "923-23-5984",
         60600
        ],
        [
         20,
         "Mica",
         "Zandra",
         "Challens",
         "F",
         "1973-11-24T05:00:00Z",
         "918-66-1232",
         51071
        ],
        [
         21,
         "Sarah",
         "Nickie",
         "Sadgrove",
         "F",
         "1990-11-07T05:00:00Z",
         "913-18-2717",
         101046
        ],
        [
         22,
         "Robbin",
         "Leeanne",
         "Sallnow",
         "F",
         "1958-12-16T05:00:00Z",
         "938-88-6975",
         98588
        ],
        [
         23,
         "Caroyln",
         "Mamie",
         "Cardon",
         "F",
         "1994-05-15T04:00:00Z",
         "927-52-5062",
         60449
        ],
        [
         24,
         "Penni",
         "Stevie",
         "Searby",
         "F",
         "1955-03-23T05:00:00Z",
         "951-65-9959",
         83728
        ],
        [
         25,
         "Yesenia",
         "Eileen",
         "Goldring",
         "F",
         "1997-07-09T04:00:00Z",
         "920-71-3216",
         73060
        ],
        [
         26,
         "Frankie",
         "Jovan",
         "Lydall",
         "F",
         "1976-07-08T04:00:00Z",
         "911-59-3216",
         105270
        ],
        [
         27,
         "Venetta",
         "Laura",
         "Komorowski",
         "F",
         "1960-12-01T05:00:00Z",
         "921-55-9589",
         38186
        ],
        [
         28,
         "Marget",
         "Thao",
         "Lundbeck",
         "F",
         "1961-04-07T05:00:00Z",
         "979-14-7198",
         67310
        ],
        [
         29,
         "Leeann",
         "Verlene",
         "Hewes",
         "F",
         "1985-01-03T05:00:00Z",
         "905-67-9311",
         107411
        ],
        [
         30,
         "Noella",
         "Isabella",
         "Ubsdell",
         "F",
         "1975-04-20T04:00:00Z",
         "919-78-4521",
         67250
        ],
        [
         31,
         "Elly",
         "Natividad",
         "Iorns",
         "F",
         "1967-04-28T05:00:00Z",
         "905-52-3088",
         80919
        ],
        [
         32,
         "Hedwig",
         "Dulcie",
         "Pendleberry",
         "F",
         "1998-12-02T05:00:00Z",
         "666-51-9916",
         60857
        ],
        [
         33,
         "Bridget",
         "Brande",
         "Perche",
         "F",
         "1989-03-07T05:00:00Z",
         "928-39-7663",
         58615
        ],
        [
         34,
         "Soo",
         "Laurena",
         "Danovich",
         "F",
         "1977-11-20T05:00:00Z",
         "908-19-5146",
         57712
        ],
        [
         35,
         "Hanh",
         "Juliet",
         "Stiegers",
         "F",
         "1989-09-09T04:00:00Z",
         "905-35-6642",
         91772
        ],
        [
         36,
         "Lucretia",
         "Marna",
         "Beekman",
         "F",
         "1982-08-16T04:00:00Z",
         "909-68-3003",
         92152
        ],
        [
         37,
         "Stasia",
         "Perla",
         "Manoch",
         "F",
         "1989-04-26T04:00:00Z",
         "936-61-9195",
         58131
        ],
        [
         38,
         "Nena",
         "Jamika",
         "Hinkes",
         "F",
         "1964-02-29T05:00:00Z",
         "937-51-9958",
         82412
        ],
        [
         39,
         "Kala",
         "Violeta",
         "Lyfe",
         "F",
         "1994-06-23T04:00:00Z",
         "981-88-8006",
         101601
        ],
        [
         40,
         "Alethea",
         "Dolly",
         "Brickdale",
         "F",
         "1960-06-26T04:00:00Z",
         "908-46-4236",
         89151
        ],
        [
         41,
         "Felisha",
         "Hiroko",
         "Hayland",
         "F",
         "1959-12-13T05:00:00Z",
         "914-65-8532",
         98256
        ],
        [
         42,
         "Gussie",
         "India",
         "McKeeman",
         "F",
         "1991-11-15T05:00:00Z",
         "922-91-9943",
         46945
        ],
        [
         43,
         "Page",
         "Salina",
         "McHaffy",
         "F",
         "1956-09-14T04:00:00Z",
         "900-96-5804",
         115410
        ],
        [
         44,
         "Idell",
         "Ami",
         "Ateggart",
         "F",
         "1977-06-26T04:00:00Z",
         "979-47-6065",
         89747
        ],
        [
         45,
         "Leonia",
         "Elda",
         "Windrass",
         "F",
         "1961-11-05T05:00:00Z",
         "927-67-2402",
         87159
        ],
        [
         46,
         "Eleonore",
         "Erma",
         "Leport",
         "F",
         "1973-06-13T04:00:00Z",
         "953-54-9836",
         98072
        ],
        [
         47,
         "Logan",
         "Magaly",
         "Siggs",
         "F",
         "1974-07-16T04:00:00Z",
         "948-66-9847",
         55780
        ],
        [
         48,
         "Carie",
         "Serina",
         "Waryk",
         "F",
         "1957-02-11T05:00:00Z",
         "980-30-1656",
         52549
        ],
        [
         49,
         "Pansy",
         "Suzie",
         "Shrieves",
         "F",
         "1991-05-24T04:00:00Z",
         "910-16-4444",
         73811
        ],
        [
         50,
         "Malissa",
         "Amada",
         "McRill",
         "F",
         "1958-05-02T04:00:00Z",
         "954-65-2862",
         115845
        ],
        [
         51,
         "Blythe",
         "Carri",
         "Crinkley",
         "F",
         "1973-03-08T05:00:00Z",
         "998-29-3568",
         112662
        ],
        [
         52,
         "Marketta",
         "Rachele",
         "Borg-Bartolo",
         "F",
         "1975-10-10T04:00:00Z",
         "981-60-8178",
         66712
        ],
        [
         53,
         "Curtis",
         "Tempie",
         "Sponton",
         "F",
         "1980-07-23T04:00:00Z",
         "997-70-4544",
         74767
        ],
        [
         54,
         "Maricela",
         "Elane",
         "Heinel",
         "F",
         "1972-12-21T05:00:00Z",
         "931-49-8310",
         67801
        ],
        [
         55,
         "Delpha",
         "Michelina",
         "Biggadike",
         "F",
         "1957-09-30T04:00:00Z",
         "987-71-9556",
         104262
        ],
        [
         56,
         "Bernita",
         "Kathaleen",
         "McIan",
         "F",
         "1971-02-20T05:00:00Z",
         "982-68-4659",
         48781
        ],
        [
         57,
         "Jesusa",
         "Cherise",
         "Parysowna",
         "F",
         "1988-03-14T05:00:00Z",
         "992-77-3435",
         111979
        ],
        [
         58,
         "Chung",
         "Dian",
         "Dautry",
         "F",
         "1998-01-12T05:00:00Z",
         "946-10-3058",
         47190
        ],
        [
         59,
         "Vickie",
         "Ranae",
         "Saddleton",
         "F",
         "1967-04-01T05:00:00Z",
         "955-57-2783",
         52410
        ],
        [
         60,
         "Sena",
         "Particia",
         "Stittle",
         "F",
         "1956-01-10T05:00:00Z",
         "971-10-8053",
         72745
        ],
        [
         61,
         "Adelia",
         "Gita",
         "Vassel",
         "F",
         "1990-10-24T04:00:00Z",
         "947-17-3832",
         63563
        ],
        [
         62,
         "Erica",
         "Louvenia",
         "O'Drought",
         "F",
         "1991-03-08T05:00:00Z",
         "904-49-5506",
         80113
        ],
        [
         63,
         "Anjanette",
         "Clelia",
         "Hicks",
         "F",
         "1973-10-26T04:00:00Z",
         "981-32-5795",
         61310
        ],
        [
         64,
         "Kari",
         "Rosalyn",
         "Siney",
         "F",
         "1985-04-10T05:00:00Z",
         "935-65-6035",
         65836
        ],
        [
         65,
         "Eliana",
         "Marcie",
         "Gogay",
         "F",
         "1976-05-28T04:00:00Z",
         "984-45-2254",
         32795
        ],
        [
         66,
         "Winter",
         "Esther",
         "Cruddace",
         "F",
         "1989-12-28T05:00:00Z",
         "997-63-7632",
         66115
        ],
        [
         67,
         "Yuri",
         "Elin",
         "Byrne",
         "F",
         "1964-08-18T04:00:00Z",
         "988-62-7594",
         52476
        ],
        [
         68,
         "Kimberely",
         "Beverlee",
         "Mahon",
         "F",
         "1979-01-17T05:00:00Z",
         "941-28-2731",
         92341
        ],
        [
         69,
         "Toya",
         "Waneta",
         "Whebell",
         "F",
         "1989-07-23T04:00:00Z",
         "947-97-1666",
         53715
        ],
        [
         70,
         "Wynona",
         "Maxie",
         "Melia",
         "F",
         "1984-02-13T05:00:00Z",
         "901-85-3278",
         73754
        ],
        [
         71,
         "Katelyn",
         "Merrie",
         "Pocklington",
         "F",
         "1994-01-16T05:00:00Z",
         "949-72-2758",
         77925
        ],
        [
         72,
         "Lianne",
         "Racquel",
         "Bowe",
         "F",
         "1976-01-18T05:00:00Z",
         "935-57-9860",
         114348
        ],
        [
         73,
         "Kayla",
         "Janella",
         "Erskin",
         "F",
         "1965-06-25T04:00:00Z",
         "916-57-2955",
         87593
        ],
        [
         74,
         "Monserrate",
         "Goldie",
         "Trimming",
         "F",
         "1993-09-17T04:00:00Z",
         "930-49-9845",
         57255
        ],
        [
         75,
         "Alica",
         "Elfrieda",
         "Mousdall",
         "F",
         "1953-12-21T05:00:00Z",
         "954-16-6401",
         96490
        ],
        [
         76,
         "Dung",
         "Leslie",
         "Lambswood",
         "F",
         "1968-08-03T04:00:00Z",
         "914-14-5994",
         57409
        ],
        [
         77,
         "Jolene",
         "Vennie",
         "Pindell",
         "F",
         "1983-07-08T04:00:00Z",
         "972-80-1367",
         72379
        ],
        [
         78,
         "Deanne",
         "Lindsay",
         "Lambdin",
         "F",
         "1999-07-28T04:00:00Z",
         "969-87-7115",
         83764
        ],
        [
         79,
         "Carey",
         "Kareen",
         "Ciric",
         "F",
         "1999-02-23T05:00:00Z",
         "913-31-5531",
         93416
        ],
        [
         80,
         "Madison",
         "Iris",
         "Donovan",
         "F",
         "1984-09-05T04:00:00Z",
         "953-91-7481",
         74484
        ],
        [
         81,
         "Lasandra",
         "Lin",
         "Mowne",
         "F",
         "1986-03-30T05:00:00Z",
         "984-79-5062",
         90966
        ],
        [
         82,
         "Joella",
         "Danae",
         "Marxsen",
         "F",
         "1960-09-12T04:00:00Z",
         "998-57-7440",
         109293
        ],
        [
         83,
         "Markita",
         "Shellie",
         "Baskeyfied",
         "F",
         "1960-12-05T05:00:00Z",
         "993-66-4078",
         134393
        ],
        [
         84,
         "Callie",
         "Josephina",
         "Gatley",
         "F",
         "1988-05-25T04:00:00Z",
         "963-80-2930",
         63879
        ],
        [
         85,
         "Maia",
         "Nadene",
         "Putland",
         "F",
         "1979-12-22T05:00:00Z",
         "966-80-6343",
         82866
        ],
        [
         86,
         "Elma",
         "Chau",
         "Rossiter",
         "F",
         "1958-10-22T04:00:00Z",
         "973-86-1495",
         80696
        ],
        [
         87,
         "Luella",
         "Cecile",
         "Gant",
         "F",
         "1967-10-05T04:00:00Z",
         "983-10-1764",
         78464
        ],
        [
         88,
         "In",
         "Susann",
         "Lacroix",
         "F",
         "1999-07-23T04:00:00Z",
         "907-56-8358",
         70873
        ],
        [
         89,
         "Lizabeth",
         "Sommer",
         "Mayze",
         "F",
         "1971-04-24T05:00:00Z",
         "981-26-7152",
         61597
        ],
        [
         90,
         "Alice",
         "Marisol",
         "Novill",
         "F",
         "1992-05-21T04:00:00Z",
         "924-10-7563",
         34053
        ],
        [
         91,
         "Emelina",
         "Joel",
         "Skudder",
         "F",
         "1962-01-05T05:00:00Z",
         "929-14-4074",
         53763
        ],
        [
         92,
         "Ingeborg",
         "Barbara",
         "Darko",
         "F",
         "1982-01-18T05:00:00Z",
         "989-81-9045",
         62846
        ],
        [
         93,
         "Tonja",
         "Sumiko",
         "Druery",
         "F",
         "1969-03-12T05:00:00Z",
         "902-58-6244",
         63075
        ],
        [
         94,
         "Nila",
         "Madelene",
         "Gothard",
         "F",
         "1963-12-05T05:00:00Z",
         "906-58-8356",
         100950
        ],
        [
         95,
         "Rochelle",
         "Ronni",
         "Roycroft",
         "F",
         "1986-02-14T05:00:00Z",
         "935-80-5907",
         92524
        ],
        [
         96,
         "Flo",
         "Jena",
         "Broomer",
         "F",
         "1975-06-12T04:00:00Z",
         "950-63-4472",
         47349
        ],
        [
         97,
         "Jonell",
         "Alia",
         "Gifkins",
         "F",
         "1966-07-12T04:00:00Z",
         "942-12-1605",
         84084
        ],
        [
         98,
         "Perla",
         "Delphia",
         "Brimley",
         "F",
         "1965-07-31T04:00:00Z",
         "934-71-2961",
         65425
        ],
        [
         99,
         "Rheba",
         "Charlesetta",
         "Chatwood",
         "F",
         "1974-04-01T04:00:00Z",
         "995-65-8928",
         76773
        ],
        [
         100,
         "Annalisa",
         "Nova",
         "Patesel",
         "F",
         "1974-01-25T04:00:00Z",
         "922-68-2542",
         66481
        ]
       ],
       "datasetInfos": [],
       "dbfsResultPath": null,
       "isJsonSchema": true,
       "metadata": {},
       "overflow": false,
       "plotOptions": {
        "customPlotOptions": {},
        "displayType": "table",
        "pivotAggregation": null,
        "pivotColumns": null,
        "xColumns": null,
        "yColumns": null
       },
       "removedWidgets": [],
       "schema": [
        {
         "metadata": "{}",
         "name": "id",
         "type": "\"integer\""
        },
        {
         "metadata": "{}",
         "name": "firstName",
         "type": "\"string\""
        },
        {
         "metadata": "{}",
         "name": "middleName",
         "type": "\"string\""
        },
        {
         "metadata": "{}",
         "name": "lastName",
         "type": "\"string\""
        },
        {
         "metadata": "{}",
         "name": "gender",
         "type": "\"string\""
        },
        {
         "metadata": "{}",
         "name": "birthDate",
         "type": "\"timestamp\""
        },
        {
         "metadata": "{}",
         "name": "ssn",
         "type": "\"string\""
        },
        {
         "metadata": "{}",
         "name": "salary",
         "type": "\"integer\""
        }
       ],
       "type": "table"
      }
     },
     "output_type": "display_data"
    }
   ],
   "source": [
    "select * from parquet.`/Volumes/marscat/marsschema/marsdemo_parquet_vol`"
   ]
  },
  {
   "cell_type": "code",
   "execution_count": 0,
   "metadata": {
    "application/vnd.databricks.v1+cell": {
     "cellMetadata": {
      "byteLimit": 2048000,
      "rowLimit": 10000
     },
     "inputWidgets": {},
     "nuid": "b4481f72-b983-4c72-a6dc-0c1e0baddd1b",
     "showTitle": false,
     "tableResultSettingsMap": {},
     "title": ""
    }
   },
   "outputs": [
    {
     "output_type": "display_data",
     "data": {
      "text/html": [
       "<style scoped>\n",
       "  .table-result-container {\n",
       "    max-height: 300px;\n",
       "    overflow: auto;\n",
       "  }\n",
       "  table, th, td {\n",
       "    border: 1px solid black;\n",
       "    border-collapse: collapse;\n",
       "  }\n",
       "  th, td {\n",
       "    padding: 5px;\n",
       "  }\n",
       "  th {\n",
       "    text-align: left;\n",
       "  }\n",
       "</style><div class='table-result-container'><table class='table-result'><thead style='background-color: white'><tr><th>id</th><th>firstName</th><th>middleName</th><th>lastName</th><th>gender</th><th>birthDate</th><th>ssn</th><th>salary</th></tr></thead><tbody><tr><td>1</td><td>Pennie</td><td>Carry</td><td>Hirschmann</td><td>F</td><td>1955-07-02T04:00:00Z</td><td>981-43-9345</td><td>56172</td></tr><tr><td>2</td><td>An</td><td>Amira</td><td>Cowper</td><td>F</td><td>1992-02-08T05:00:00Z</td><td>978-97-8086</td><td>40203</td></tr><tr><td>3</td><td>Quyen</td><td>Marlen</td><td>Dome</td><td>F</td><td>1970-10-11T04:00:00Z</td><td>957-57-8246</td><td>53417</td></tr><tr><td>4</td><td>Coralie</td><td>Antonina</td><td>Marshal</td><td>F</td><td>1990-04-11T04:00:00Z</td><td>963-39-4885</td><td>94727</td></tr><tr><td>5</td><td>Terrie</td><td>Wava</td><td>Bonar</td><td>F</td><td>1980-01-16T05:00:00Z</td><td>964-49-8051</td><td>79908</td></tr><tr><td>6</td><td>Chassidy</td><td>Concepcion</td><td>Bourthouloume</td><td>F</td><td>1990-11-24T05:00:00Z</td><td>954-59-9172</td><td>64652</td></tr><tr><td>7</td><td>Geri</td><td>Tambra</td><td>Mosby</td><td>F</td><td>1970-12-19T05:00:00Z</td><td>968-16-4020</td><td>38195</td></tr><tr><td>8</td><td>Patria</td><td>Nancy</td><td>Arstall</td><td>F</td><td>1985-01-02T05:00:00Z</td><td>984-76-3770</td><td>102053</td></tr><tr><td>9</td><td>Terese</td><td>Alfredia</td><td>Tocque</td><td>F</td><td>1967-11-17T05:00:00Z</td><td>967-48-7309</td><td>91294</td></tr><tr><td>10</td><td>Wava</td><td>Lyndsey</td><td>Jeandon</td><td>F</td><td>1963-12-30T05:00:00Z</td><td>997-82-2946</td><td>56521</td></tr><tr><td>11</td><td>Sophie</td><td>Emerita</td><td>Hearn</td><td>F</td><td>1979-09-17T04:00:00Z</td><td>977-66-4483</td><td>90920</td></tr><tr><td>12</td><td>Jodie</td><td>Tabetha</td><td>Laneham</td><td>F</td><td>1959-01-31T05:00:00Z</td><td>923-24-9769</td><td>90634</td></tr><tr><td>13</td><td>Marietta</td><td>Mandi</td><td>Yansons</td><td>F</td><td>1974-02-19T04:00:00Z</td><td>900-34-8083</td><td>93162</td></tr><tr><td>14</td><td>Caridad</td><td>Maire</td><td>Snelle</td><td>F</td><td>1960-09-26T04:00:00Z</td><td>992-11-7062</td><td>38859</td></tr><tr><td>15</td><td>Yasmine</td><td>Meg</td><td>Edworthye</td><td>F</td><td>1960-01-29T05:00:00Z</td><td>922-12-9862</td><td>76220</td></tr><tr><td>16</td><td>Chan</td><td>Jani</td><td>Hartas</td><td>F</td><td>1986-12-05T05:00:00Z</td><td>995-51-3115</td><td>75050</td></tr><tr><td>17</td><td>Evangeline</td><td>Wanetta</td><td>Casserley</td><td>F</td><td>1961-09-29T04:00:00Z</td><td>926-61-3526</td><td>62814</td></tr><tr><td>18</td><td>Elnora</td><td>Kecia</td><td>Lipman</td><td>F</td><td>1980-02-14T05:00:00Z</td><td>950-23-9739</td><td>71350</td></tr><tr><td>19</td><td>Adelle</td><td>Kathyrn</td><td>Grigoriev</td><td>F</td><td>1978-11-14T05:00:00Z</td><td>923-23-5984</td><td>60600</td></tr><tr><td>20</td><td>Mica</td><td>Zandra</td><td>Challens</td><td>F</td><td>1973-11-24T05:00:00Z</td><td>918-66-1232</td><td>51071</td></tr><tr><td>21</td><td>Sarah</td><td>Nickie</td><td>Sadgrove</td><td>F</td><td>1990-11-07T05:00:00Z</td><td>913-18-2717</td><td>101046</td></tr><tr><td>22</td><td>Robbin</td><td>Leeanne</td><td>Sallnow</td><td>F</td><td>1958-12-16T05:00:00Z</td><td>938-88-6975</td><td>98588</td></tr><tr><td>23</td><td>Caroyln</td><td>Mamie</td><td>Cardon</td><td>F</td><td>1994-05-15T04:00:00Z</td><td>927-52-5062</td><td>60449</td></tr><tr><td>24</td><td>Penni</td><td>Stevie</td><td>Searby</td><td>F</td><td>1955-03-23T05:00:00Z</td><td>951-65-9959</td><td>83728</td></tr><tr><td>25</td><td>Yesenia</td><td>Eileen</td><td>Goldring</td><td>F</td><td>1997-07-09T04:00:00Z</td><td>920-71-3216</td><td>73060</td></tr><tr><td>26</td><td>Frankie</td><td>Jovan</td><td>Lydall</td><td>F</td><td>1976-07-08T04:00:00Z</td><td>911-59-3216</td><td>105270</td></tr><tr><td>27</td><td>Venetta</td><td>Laura</td><td>Komorowski</td><td>F</td><td>1960-12-01T05:00:00Z</td><td>921-55-9589</td><td>38186</td></tr><tr><td>28</td><td>Marget</td><td>Thao</td><td>Lundbeck</td><td>F</td><td>1961-04-07T05:00:00Z</td><td>979-14-7198</td><td>67310</td></tr><tr><td>29</td><td>Leeann</td><td>Verlene</td><td>Hewes</td><td>F</td><td>1985-01-03T05:00:00Z</td><td>905-67-9311</td><td>107411</td></tr><tr><td>30</td><td>Noella</td><td>Isabella</td><td>Ubsdell</td><td>F</td><td>1975-04-20T04:00:00Z</td><td>919-78-4521</td><td>67250</td></tr><tr><td>31</td><td>Elly</td><td>Natividad</td><td>Iorns</td><td>F</td><td>1967-04-28T05:00:00Z</td><td>905-52-3088</td><td>80919</td></tr><tr><td>32</td><td>Hedwig</td><td>Dulcie</td><td>Pendleberry</td><td>F</td><td>1998-12-02T05:00:00Z</td><td>666-51-9916</td><td>60857</td></tr><tr><td>33</td><td>Bridget</td><td>Brande</td><td>Perche</td><td>F</td><td>1989-03-07T05:00:00Z</td><td>928-39-7663</td><td>58615</td></tr><tr><td>34</td><td>Soo</td><td>Laurena</td><td>Danovich</td><td>F</td><td>1977-11-20T05:00:00Z</td><td>908-19-5146</td><td>57712</td></tr><tr><td>35</td><td>Hanh</td><td>Juliet</td><td>Stiegers</td><td>F</td><td>1989-09-09T04:00:00Z</td><td>905-35-6642</td><td>91772</td></tr><tr><td>36</td><td>Lucretia</td><td>Marna</td><td>Beekman</td><td>F</td><td>1982-08-16T04:00:00Z</td><td>909-68-3003</td><td>92152</td></tr><tr><td>37</td><td>Stasia</td><td>Perla</td><td>Manoch</td><td>F</td><td>1989-04-26T04:00:00Z</td><td>936-61-9195</td><td>58131</td></tr><tr><td>38</td><td>Nena</td><td>Jamika</td><td>Hinkes</td><td>F</td><td>1964-02-29T05:00:00Z</td><td>937-51-9958</td><td>82412</td></tr><tr><td>39</td><td>Kala</td><td>Violeta</td><td>Lyfe</td><td>F</td><td>1994-06-23T04:00:00Z</td><td>981-88-8006</td><td>101601</td></tr><tr><td>40</td><td>Alethea</td><td>Dolly</td><td>Brickdale</td><td>F</td><td>1960-06-26T04:00:00Z</td><td>908-46-4236</td><td>89151</td></tr><tr><td>41</td><td>Felisha</td><td>Hiroko</td><td>Hayland</td><td>F</td><td>1959-12-13T05:00:00Z</td><td>914-65-8532</td><td>98256</td></tr><tr><td>42</td><td>Gussie</td><td>India</td><td>McKeeman</td><td>F</td><td>1991-11-15T05:00:00Z</td><td>922-91-9943</td><td>46945</td></tr><tr><td>43</td><td>Page</td><td>Salina</td><td>McHaffy</td><td>F</td><td>1956-09-14T04:00:00Z</td><td>900-96-5804</td><td>115410</td></tr><tr><td>44</td><td>Idell</td><td>Ami</td><td>Ateggart</td><td>F</td><td>1977-06-26T04:00:00Z</td><td>979-47-6065</td><td>89747</td></tr><tr><td>45</td><td>Leonia</td><td>Elda</td><td>Windrass</td><td>F</td><td>1961-11-05T05:00:00Z</td><td>927-67-2402</td><td>87159</td></tr><tr><td>46</td><td>Eleonore</td><td>Erma</td><td>Leport</td><td>F</td><td>1973-06-13T04:00:00Z</td><td>953-54-9836</td><td>98072</td></tr><tr><td>47</td><td>Logan</td><td>Magaly</td><td>Siggs</td><td>F</td><td>1974-07-16T04:00:00Z</td><td>948-66-9847</td><td>55780</td></tr><tr><td>48</td><td>Carie</td><td>Serina</td><td>Waryk</td><td>F</td><td>1957-02-11T05:00:00Z</td><td>980-30-1656</td><td>52549</td></tr><tr><td>49</td><td>Pansy</td><td>Suzie</td><td>Shrieves</td><td>F</td><td>1991-05-24T04:00:00Z</td><td>910-16-4444</td><td>73811</td></tr><tr><td>50</td><td>Malissa</td><td>Amada</td><td>McRill</td><td>F</td><td>1958-05-02T04:00:00Z</td><td>954-65-2862</td><td>115845</td></tr><tr><td>51</td><td>Blythe</td><td>Carri</td><td>Crinkley</td><td>F</td><td>1973-03-08T05:00:00Z</td><td>998-29-3568</td><td>112662</td></tr><tr><td>52</td><td>Marketta</td><td>Rachele</td><td>Borg-Bartolo</td><td>F</td><td>1975-10-10T04:00:00Z</td><td>981-60-8178</td><td>66712</td></tr><tr><td>53</td><td>Curtis</td><td>Tempie</td><td>Sponton</td><td>F</td><td>1980-07-23T04:00:00Z</td><td>997-70-4544</td><td>74767</td></tr><tr><td>54</td><td>Maricela</td><td>Elane</td><td>Heinel</td><td>F</td><td>1972-12-21T05:00:00Z</td><td>931-49-8310</td><td>67801</td></tr><tr><td>55</td><td>Delpha</td><td>Michelina</td><td>Biggadike</td><td>F</td><td>1957-09-30T04:00:00Z</td><td>987-71-9556</td><td>104262</td></tr><tr><td>56</td><td>Bernita</td><td>Kathaleen</td><td>McIan</td><td>F</td><td>1971-02-20T05:00:00Z</td><td>982-68-4659</td><td>48781</td></tr><tr><td>57</td><td>Jesusa</td><td>Cherise</td><td>Parysowna</td><td>F</td><td>1988-03-14T05:00:00Z</td><td>992-77-3435</td><td>111979</td></tr><tr><td>58</td><td>Chung</td><td>Dian</td><td>Dautry</td><td>F</td><td>1998-01-12T05:00:00Z</td><td>946-10-3058</td><td>47190</td></tr><tr><td>59</td><td>Vickie</td><td>Ranae</td><td>Saddleton</td><td>F</td><td>1967-04-01T05:00:00Z</td><td>955-57-2783</td><td>52410</td></tr><tr><td>60</td><td>Sena</td><td>Particia</td><td>Stittle</td><td>F</td><td>1956-01-10T05:00:00Z</td><td>971-10-8053</td><td>72745</td></tr><tr><td>61</td><td>Adelia</td><td>Gita</td><td>Vassel</td><td>F</td><td>1990-10-24T04:00:00Z</td><td>947-17-3832</td><td>63563</td></tr><tr><td>62</td><td>Erica</td><td>Louvenia</td><td>O'Drought</td><td>F</td><td>1991-03-08T05:00:00Z</td><td>904-49-5506</td><td>80113</td></tr><tr><td>63</td><td>Anjanette</td><td>Clelia</td><td>Hicks</td><td>F</td><td>1973-10-26T04:00:00Z</td><td>981-32-5795</td><td>61310</td></tr><tr><td>64</td><td>Kari</td><td>Rosalyn</td><td>Siney</td><td>F</td><td>1985-04-10T05:00:00Z</td><td>935-65-6035</td><td>65836</td></tr><tr><td>65</td><td>Eliana</td><td>Marcie</td><td>Gogay</td><td>F</td><td>1976-05-28T04:00:00Z</td><td>984-45-2254</td><td>32795</td></tr><tr><td>66</td><td>Winter</td><td>Esther</td><td>Cruddace</td><td>F</td><td>1989-12-28T05:00:00Z</td><td>997-63-7632</td><td>66115</td></tr><tr><td>67</td><td>Yuri</td><td>Elin</td><td>Byrne</td><td>F</td><td>1964-08-18T04:00:00Z</td><td>988-62-7594</td><td>52476</td></tr><tr><td>68</td><td>Kimberely</td><td>Beverlee</td><td>Mahon</td><td>F</td><td>1979-01-17T05:00:00Z</td><td>941-28-2731</td><td>92341</td></tr><tr><td>69</td><td>Toya</td><td>Waneta</td><td>Whebell</td><td>F</td><td>1989-07-23T04:00:00Z</td><td>947-97-1666</td><td>53715</td></tr><tr><td>70</td><td>Wynona</td><td>Maxie</td><td>Melia</td><td>F</td><td>1984-02-13T05:00:00Z</td><td>901-85-3278</td><td>73754</td></tr><tr><td>71</td><td>Katelyn</td><td>Merrie</td><td>Pocklington</td><td>F</td><td>1994-01-16T05:00:00Z</td><td>949-72-2758</td><td>77925</td></tr><tr><td>72</td><td>Lianne</td><td>Racquel</td><td>Bowe</td><td>F</td><td>1976-01-18T05:00:00Z</td><td>935-57-9860</td><td>114348</td></tr><tr><td>73</td><td>Kayla</td><td>Janella</td><td>Erskin</td><td>F</td><td>1965-06-25T04:00:00Z</td><td>916-57-2955</td><td>87593</td></tr><tr><td>74</td><td>Monserrate</td><td>Goldie</td><td>Trimming</td><td>F</td><td>1993-09-17T04:00:00Z</td><td>930-49-9845</td><td>57255</td></tr><tr><td>75</td><td>Alica</td><td>Elfrieda</td><td>Mousdall</td><td>F</td><td>1953-12-21T05:00:00Z</td><td>954-16-6401</td><td>96490</td></tr><tr><td>76</td><td>Dung</td><td>Leslie</td><td>Lambswood</td><td>F</td><td>1968-08-03T04:00:00Z</td><td>914-14-5994</td><td>57409</td></tr><tr><td>77</td><td>Jolene</td><td>Vennie</td><td>Pindell</td><td>F</td><td>1983-07-08T04:00:00Z</td><td>972-80-1367</td><td>72379</td></tr><tr><td>78</td><td>Deanne</td><td>Lindsay</td><td>Lambdin</td><td>F</td><td>1999-07-28T04:00:00Z</td><td>969-87-7115</td><td>83764</td></tr><tr><td>79</td><td>Carey</td><td>Kareen</td><td>Ciric</td><td>F</td><td>1999-02-23T05:00:00Z</td><td>913-31-5531</td><td>93416</td></tr><tr><td>80</td><td>Madison</td><td>Iris</td><td>Donovan</td><td>F</td><td>1984-09-05T04:00:00Z</td><td>953-91-7481</td><td>74484</td></tr><tr><td>81</td><td>Lasandra</td><td>Lin</td><td>Mowne</td><td>F</td><td>1986-03-30T05:00:00Z</td><td>984-79-5062</td><td>90966</td></tr><tr><td>82</td><td>Joella</td><td>Danae</td><td>Marxsen</td><td>F</td><td>1960-09-12T04:00:00Z</td><td>998-57-7440</td><td>109293</td></tr><tr><td>83</td><td>Markita</td><td>Shellie</td><td>Baskeyfied</td><td>F</td><td>1960-12-05T05:00:00Z</td><td>993-66-4078</td><td>134393</td></tr><tr><td>84</td><td>Callie</td><td>Josephina</td><td>Gatley</td><td>F</td><td>1988-05-25T04:00:00Z</td><td>963-80-2930</td><td>63879</td></tr><tr><td>85</td><td>Maia</td><td>Nadene</td><td>Putland</td><td>F</td><td>1979-12-22T05:00:00Z</td><td>966-80-6343</td><td>82866</td></tr><tr><td>86</td><td>Elma</td><td>Chau</td><td>Rossiter</td><td>F</td><td>1958-10-22T04:00:00Z</td><td>973-86-1495</td><td>80696</td></tr><tr><td>87</td><td>Luella</td><td>Cecile</td><td>Gant</td><td>F</td><td>1967-10-05T04:00:00Z</td><td>983-10-1764</td><td>78464</td></tr><tr><td>88</td><td>In</td><td>Susann</td><td>Lacroix</td><td>F</td><td>1999-07-23T04:00:00Z</td><td>907-56-8358</td><td>70873</td></tr><tr><td>89</td><td>Lizabeth</td><td>Sommer</td><td>Mayze</td><td>F</td><td>1971-04-24T05:00:00Z</td><td>981-26-7152</td><td>61597</td></tr><tr><td>90</td><td>Alice</td><td>Marisol</td><td>Novill</td><td>F</td><td>1992-05-21T04:00:00Z</td><td>924-10-7563</td><td>34053</td></tr><tr><td>91</td><td>Emelina</td><td>Joel</td><td>Skudder</td><td>F</td><td>1962-01-05T05:00:00Z</td><td>929-14-4074</td><td>53763</td></tr><tr><td>92</td><td>Ingeborg</td><td>Barbara</td><td>Darko</td><td>F</td><td>1982-01-18T05:00:00Z</td><td>989-81-9045</td><td>62846</td></tr><tr><td>93</td><td>Tonja</td><td>Sumiko</td><td>Druery</td><td>F</td><td>1969-03-12T05:00:00Z</td><td>902-58-6244</td><td>63075</td></tr><tr><td>94</td><td>Nila</td><td>Madelene</td><td>Gothard</td><td>F</td><td>1963-12-05T05:00:00Z</td><td>906-58-8356</td><td>100950</td></tr><tr><td>95</td><td>Rochelle</td><td>Ronni</td><td>Roycroft</td><td>F</td><td>1986-02-14T05:00:00Z</td><td>935-80-5907</td><td>92524</td></tr><tr><td>96</td><td>Flo</td><td>Jena</td><td>Broomer</td><td>F</td><td>1975-06-12T04:00:00Z</td><td>950-63-4472</td><td>47349</td></tr><tr><td>97</td><td>Jonell</td><td>Alia</td><td>Gifkins</td><td>F</td><td>1966-07-12T04:00:00Z</td><td>942-12-1605</td><td>84084</td></tr><tr><td>98</td><td>Perla</td><td>Delphia</td><td>Brimley</td><td>F</td><td>1965-07-31T04:00:00Z</td><td>934-71-2961</td><td>65425</td></tr><tr><td>99</td><td>Rheba</td><td>Charlesetta</td><td>Chatwood</td><td>F</td><td>1974-04-01T04:00:00Z</td><td>995-65-8928</td><td>76773</td></tr><tr><td>100</td><td>Annalisa</td><td>Nova</td><td>Patesel</td><td>F</td><td>1974-01-25T04:00:00Z</td><td>922-68-2542</td><td>66481</td></tr></tbody></table></div>"
      ]
     },
     "metadata": {
      "application/vnd.databricks.v1+output": {
       "addedWidgets": {},
       "aggData": [],
       "aggError": "",
       "aggOverflow": false,
       "aggSchema": [],
       "aggSeriesLimitReached": false,
       "aggType": "",
       "arguments": {},
       "columnCustomDisplayInfos": {},
       "data": [
        [
         1,
         "Pennie",
         "Carry",
         "Hirschmann",
         "F",
         "1955-07-02T04:00:00Z",
         "981-43-9345",
         56172
        ],
        [
         2,
         "An",
         "Amira",
         "Cowper",
         "F",
         "1992-02-08T05:00:00Z",
         "978-97-8086",
         40203
        ],
        [
         3,
         "Quyen",
         "Marlen",
         "Dome",
         "F",
         "1970-10-11T04:00:00Z",
         "957-57-8246",
         53417
        ],
        [
         4,
         "Coralie",
         "Antonina",
         "Marshal",
         "F",
         "1990-04-11T04:00:00Z",
         "963-39-4885",
         94727
        ],
        [
         5,
         "Terrie",
         "Wava",
         "Bonar",
         "F",
         "1980-01-16T05:00:00Z",
         "964-49-8051",
         79908
        ],
        [
         6,
         "Chassidy",
         "Concepcion",
         "Bourthouloume",
         "F",
         "1990-11-24T05:00:00Z",
         "954-59-9172",
         64652
        ],
        [
         7,
         "Geri",
         "Tambra",
         "Mosby",
         "F",
         "1970-12-19T05:00:00Z",
         "968-16-4020",
         38195
        ],
        [
         8,
         "Patria",
         "Nancy",
         "Arstall",
         "F",
         "1985-01-02T05:00:00Z",
         "984-76-3770",
         102053
        ],
        [
         9,
         "Terese",
         "Alfredia",
         "Tocque",
         "F",
         "1967-11-17T05:00:00Z",
         "967-48-7309",
         91294
        ],
        [
         10,
         "Wava",
         "Lyndsey",
         "Jeandon",
         "F",
         "1963-12-30T05:00:00Z",
         "997-82-2946",
         56521
        ],
        [
         11,
         "Sophie",
         "Emerita",
         "Hearn",
         "F",
         "1979-09-17T04:00:00Z",
         "977-66-4483",
         90920
        ],
        [
         12,
         "Jodie",
         "Tabetha",
         "Laneham",
         "F",
         "1959-01-31T05:00:00Z",
         "923-24-9769",
         90634
        ],
        [
         13,
         "Marietta",
         "Mandi",
         "Yansons",
         "F",
         "1974-02-19T04:00:00Z",
         "900-34-8083",
         93162
        ],
        [
         14,
         "Caridad",
         "Maire",
         "Snelle",
         "F",
         "1960-09-26T04:00:00Z",
         "992-11-7062",
         38859
        ],
        [
         15,
         "Yasmine",
         "Meg",
         "Edworthye",
         "F",
         "1960-01-29T05:00:00Z",
         "922-12-9862",
         76220
        ],
        [
         16,
         "Chan",
         "Jani",
         "Hartas",
         "F",
         "1986-12-05T05:00:00Z",
         "995-51-3115",
         75050
        ],
        [
         17,
         "Evangeline",
         "Wanetta",
         "Casserley",
         "F",
         "1961-09-29T04:00:00Z",
         "926-61-3526",
         62814
        ],
        [
         18,
         "Elnora",
         "Kecia",
         "Lipman",
         "F",
         "1980-02-14T05:00:00Z",
         "950-23-9739",
         71350
        ],
        [
         19,
         "Adelle",
         "Kathyrn",
         "Grigoriev",
         "F",
         "1978-11-14T05:00:00Z",
         "923-23-5984",
         60600
        ],
        [
         20,
         "Mica",
         "Zandra",
         "Challens",
         "F",
         "1973-11-24T05:00:00Z",
         "918-66-1232",
         51071
        ],
        [
         21,
         "Sarah",
         "Nickie",
         "Sadgrove",
         "F",
         "1990-11-07T05:00:00Z",
         "913-18-2717",
         101046
        ],
        [
         22,
         "Robbin",
         "Leeanne",
         "Sallnow",
         "F",
         "1958-12-16T05:00:00Z",
         "938-88-6975",
         98588
        ],
        [
         23,
         "Caroyln",
         "Mamie",
         "Cardon",
         "F",
         "1994-05-15T04:00:00Z",
         "927-52-5062",
         60449
        ],
        [
         24,
         "Penni",
         "Stevie",
         "Searby",
         "F",
         "1955-03-23T05:00:00Z",
         "951-65-9959",
         83728
        ],
        [
         25,
         "Yesenia",
         "Eileen",
         "Goldring",
         "F",
         "1997-07-09T04:00:00Z",
         "920-71-3216",
         73060
        ],
        [
         26,
         "Frankie",
         "Jovan",
         "Lydall",
         "F",
         "1976-07-08T04:00:00Z",
         "911-59-3216",
         105270
        ],
        [
         27,
         "Venetta",
         "Laura",
         "Komorowski",
         "F",
         "1960-12-01T05:00:00Z",
         "921-55-9589",
         38186
        ],
        [
         28,
         "Marget",
         "Thao",
         "Lundbeck",
         "F",
         "1961-04-07T05:00:00Z",
         "979-14-7198",
         67310
        ],
        [
         29,
         "Leeann",
         "Verlene",
         "Hewes",
         "F",
         "1985-01-03T05:00:00Z",
         "905-67-9311",
         107411
        ],
        [
         30,
         "Noella",
         "Isabella",
         "Ubsdell",
         "F",
         "1975-04-20T04:00:00Z",
         "919-78-4521",
         67250
        ],
        [
         31,
         "Elly",
         "Natividad",
         "Iorns",
         "F",
         "1967-04-28T05:00:00Z",
         "905-52-3088",
         80919
        ],
        [
         32,
         "Hedwig",
         "Dulcie",
         "Pendleberry",
         "F",
         "1998-12-02T05:00:00Z",
         "666-51-9916",
         60857
        ],
        [
         33,
         "Bridget",
         "Brande",
         "Perche",
         "F",
         "1989-03-07T05:00:00Z",
         "928-39-7663",
         58615
        ],
        [
         34,
         "Soo",
         "Laurena",
         "Danovich",
         "F",
         "1977-11-20T05:00:00Z",
         "908-19-5146",
         57712
        ],
        [
         35,
         "Hanh",
         "Juliet",
         "Stiegers",
         "F",
         "1989-09-09T04:00:00Z",
         "905-35-6642",
         91772
        ],
        [
         36,
         "Lucretia",
         "Marna",
         "Beekman",
         "F",
         "1982-08-16T04:00:00Z",
         "909-68-3003",
         92152
        ],
        [
         37,
         "Stasia",
         "Perla",
         "Manoch",
         "F",
         "1989-04-26T04:00:00Z",
         "936-61-9195",
         58131
        ],
        [
         38,
         "Nena",
         "Jamika",
         "Hinkes",
         "F",
         "1964-02-29T05:00:00Z",
         "937-51-9958",
         82412
        ],
        [
         39,
         "Kala",
         "Violeta",
         "Lyfe",
         "F",
         "1994-06-23T04:00:00Z",
         "981-88-8006",
         101601
        ],
        [
         40,
         "Alethea",
         "Dolly",
         "Brickdale",
         "F",
         "1960-06-26T04:00:00Z",
         "908-46-4236",
         89151
        ],
        [
         41,
         "Felisha",
         "Hiroko",
         "Hayland",
         "F",
         "1959-12-13T05:00:00Z",
         "914-65-8532",
         98256
        ],
        [
         42,
         "Gussie",
         "India",
         "McKeeman",
         "F",
         "1991-11-15T05:00:00Z",
         "922-91-9943",
         46945
        ],
        [
         43,
         "Page",
         "Salina",
         "McHaffy",
         "F",
         "1956-09-14T04:00:00Z",
         "900-96-5804",
         115410
        ],
        [
         44,
         "Idell",
         "Ami",
         "Ateggart",
         "F",
         "1977-06-26T04:00:00Z",
         "979-47-6065",
         89747
        ],
        [
         45,
         "Leonia",
         "Elda",
         "Windrass",
         "F",
         "1961-11-05T05:00:00Z",
         "927-67-2402",
         87159
        ],
        [
         46,
         "Eleonore",
         "Erma",
         "Leport",
         "F",
         "1973-06-13T04:00:00Z",
         "953-54-9836",
         98072
        ],
        [
         47,
         "Logan",
         "Magaly",
         "Siggs",
         "F",
         "1974-07-16T04:00:00Z",
         "948-66-9847",
         55780
        ],
        [
         48,
         "Carie",
         "Serina",
         "Waryk",
         "F",
         "1957-02-11T05:00:00Z",
         "980-30-1656",
         52549
        ],
        [
         49,
         "Pansy",
         "Suzie",
         "Shrieves",
         "F",
         "1991-05-24T04:00:00Z",
         "910-16-4444",
         73811
        ],
        [
         50,
         "Malissa",
         "Amada",
         "McRill",
         "F",
         "1958-05-02T04:00:00Z",
         "954-65-2862",
         115845
        ],
        [
         51,
         "Blythe",
         "Carri",
         "Crinkley",
         "F",
         "1973-03-08T05:00:00Z",
         "998-29-3568",
         112662
        ],
        [
         52,
         "Marketta",
         "Rachele",
         "Borg-Bartolo",
         "F",
         "1975-10-10T04:00:00Z",
         "981-60-8178",
         66712
        ],
        [
         53,
         "Curtis",
         "Tempie",
         "Sponton",
         "F",
         "1980-07-23T04:00:00Z",
         "997-70-4544",
         74767
        ],
        [
         54,
         "Maricela",
         "Elane",
         "Heinel",
         "F",
         "1972-12-21T05:00:00Z",
         "931-49-8310",
         67801
        ],
        [
         55,
         "Delpha",
         "Michelina",
         "Biggadike",
         "F",
         "1957-09-30T04:00:00Z",
         "987-71-9556",
         104262
        ],
        [
         56,
         "Bernita",
         "Kathaleen",
         "McIan",
         "F",
         "1971-02-20T05:00:00Z",
         "982-68-4659",
         48781
        ],
        [
         57,
         "Jesusa",
         "Cherise",
         "Parysowna",
         "F",
         "1988-03-14T05:00:00Z",
         "992-77-3435",
         111979
        ],
        [
         58,
         "Chung",
         "Dian",
         "Dautry",
         "F",
         "1998-01-12T05:00:00Z",
         "946-10-3058",
         47190
        ],
        [
         59,
         "Vickie",
         "Ranae",
         "Saddleton",
         "F",
         "1967-04-01T05:00:00Z",
         "955-57-2783",
         52410
        ],
        [
         60,
         "Sena",
         "Particia",
         "Stittle",
         "F",
         "1956-01-10T05:00:00Z",
         "971-10-8053",
         72745
        ],
        [
         61,
         "Adelia",
         "Gita",
         "Vassel",
         "F",
         "1990-10-24T04:00:00Z",
         "947-17-3832",
         63563
        ],
        [
         62,
         "Erica",
         "Louvenia",
         "O'Drought",
         "F",
         "1991-03-08T05:00:00Z",
         "904-49-5506",
         80113
        ],
        [
         63,
         "Anjanette",
         "Clelia",
         "Hicks",
         "F",
         "1973-10-26T04:00:00Z",
         "981-32-5795",
         61310
        ],
        [
         64,
         "Kari",
         "Rosalyn",
         "Siney",
         "F",
         "1985-04-10T05:00:00Z",
         "935-65-6035",
         65836
        ],
        [
         65,
         "Eliana",
         "Marcie",
         "Gogay",
         "F",
         "1976-05-28T04:00:00Z",
         "984-45-2254",
         32795
        ],
        [
         66,
         "Winter",
         "Esther",
         "Cruddace",
         "F",
         "1989-12-28T05:00:00Z",
         "997-63-7632",
         66115
        ],
        [
         67,
         "Yuri",
         "Elin",
         "Byrne",
         "F",
         "1964-08-18T04:00:00Z",
         "988-62-7594",
         52476
        ],
        [
         68,
         "Kimberely",
         "Beverlee",
         "Mahon",
         "F",
         "1979-01-17T05:00:00Z",
         "941-28-2731",
         92341
        ],
        [
         69,
         "Toya",
         "Waneta",
         "Whebell",
         "F",
         "1989-07-23T04:00:00Z",
         "947-97-1666",
         53715
        ],
        [
         70,
         "Wynona",
         "Maxie",
         "Melia",
         "F",
         "1984-02-13T05:00:00Z",
         "901-85-3278",
         73754
        ],
        [
         71,
         "Katelyn",
         "Merrie",
         "Pocklington",
         "F",
         "1994-01-16T05:00:00Z",
         "949-72-2758",
         77925
        ],
        [
         72,
         "Lianne",
         "Racquel",
         "Bowe",
         "F",
         "1976-01-18T05:00:00Z",
         "935-57-9860",
         114348
        ],
        [
         73,
         "Kayla",
         "Janella",
         "Erskin",
         "F",
         "1965-06-25T04:00:00Z",
         "916-57-2955",
         87593
        ],
        [
         74,
         "Monserrate",
         "Goldie",
         "Trimming",
         "F",
         "1993-09-17T04:00:00Z",
         "930-49-9845",
         57255
        ],
        [
         75,
         "Alica",
         "Elfrieda",
         "Mousdall",
         "F",
         "1953-12-21T05:00:00Z",
         "954-16-6401",
         96490
        ],
        [
         76,
         "Dung",
         "Leslie",
         "Lambswood",
         "F",
         "1968-08-03T04:00:00Z",
         "914-14-5994",
         57409
        ],
        [
         77,
         "Jolene",
         "Vennie",
         "Pindell",
         "F",
         "1983-07-08T04:00:00Z",
         "972-80-1367",
         72379
        ],
        [
         78,
         "Deanne",
         "Lindsay",
         "Lambdin",
         "F",
         "1999-07-28T04:00:00Z",
         "969-87-7115",
         83764
        ],
        [
         79,
         "Carey",
         "Kareen",
         "Ciric",
         "F",
         "1999-02-23T05:00:00Z",
         "913-31-5531",
         93416
        ],
        [
         80,
         "Madison",
         "Iris",
         "Donovan",
         "F",
         "1984-09-05T04:00:00Z",
         "953-91-7481",
         74484
        ],
        [
         81,
         "Lasandra",
         "Lin",
         "Mowne",
         "F",
         "1986-03-30T05:00:00Z",
         "984-79-5062",
         90966
        ],
        [
         82,
         "Joella",
         "Danae",
         "Marxsen",
         "F",
         "1960-09-12T04:00:00Z",
         "998-57-7440",
         109293
        ],
        [
         83,
         "Markita",
         "Shellie",
         "Baskeyfied",
         "F",
         "1960-12-05T05:00:00Z",
         "993-66-4078",
         134393
        ],
        [
         84,
         "Callie",
         "Josephina",
         "Gatley",
         "F",
         "1988-05-25T04:00:00Z",
         "963-80-2930",
         63879
        ],
        [
         85,
         "Maia",
         "Nadene",
         "Putland",
         "F",
         "1979-12-22T05:00:00Z",
         "966-80-6343",
         82866
        ],
        [
         86,
         "Elma",
         "Chau",
         "Rossiter",
         "F",
         "1958-10-22T04:00:00Z",
         "973-86-1495",
         80696
        ],
        [
         87,
         "Luella",
         "Cecile",
         "Gant",
         "F",
         "1967-10-05T04:00:00Z",
         "983-10-1764",
         78464
        ],
        [
         88,
         "In",
         "Susann",
         "Lacroix",
         "F",
         "1999-07-23T04:00:00Z",
         "907-56-8358",
         70873
        ],
        [
         89,
         "Lizabeth",
         "Sommer",
         "Mayze",
         "F",
         "1971-04-24T05:00:00Z",
         "981-26-7152",
         61597
        ],
        [
         90,
         "Alice",
         "Marisol",
         "Novill",
         "F",
         "1992-05-21T04:00:00Z",
         "924-10-7563",
         34053
        ],
        [
         91,
         "Emelina",
         "Joel",
         "Skudder",
         "F",
         "1962-01-05T05:00:00Z",
         "929-14-4074",
         53763
        ],
        [
         92,
         "Ingeborg",
         "Barbara",
         "Darko",
         "F",
         "1982-01-18T05:00:00Z",
         "989-81-9045",
         62846
        ],
        [
         93,
         "Tonja",
         "Sumiko",
         "Druery",
         "F",
         "1969-03-12T05:00:00Z",
         "902-58-6244",
         63075
        ],
        [
         94,
         "Nila",
         "Madelene",
         "Gothard",
         "F",
         "1963-12-05T05:00:00Z",
         "906-58-8356",
         100950
        ],
        [
         95,
         "Rochelle",
         "Ronni",
         "Roycroft",
         "F",
         "1986-02-14T05:00:00Z",
         "935-80-5907",
         92524
        ],
        [
         96,
         "Flo",
         "Jena",
         "Broomer",
         "F",
         "1975-06-12T04:00:00Z",
         "950-63-4472",
         47349
        ],
        [
         97,
         "Jonell",
         "Alia",
         "Gifkins",
         "F",
         "1966-07-12T04:00:00Z",
         "942-12-1605",
         84084
        ],
        [
         98,
         "Perla",
         "Delphia",
         "Brimley",
         "F",
         "1965-07-31T04:00:00Z",
         "934-71-2961",
         65425
        ],
        [
         99,
         "Rheba",
         "Charlesetta",
         "Chatwood",
         "F",
         "1974-04-01T04:00:00Z",
         "995-65-8928",
         76773
        ],
        [
         100,
         "Annalisa",
         "Nova",
         "Patesel",
         "F",
         "1974-01-25T04:00:00Z",
         "922-68-2542",
         66481
        ]
       ],
       "datasetInfos": [],
       "dbfsResultPath": null,
       "isJsonSchema": true,
       "metadata": {},
       "overflow": false,
       "plotOptions": {
        "customPlotOptions": {},
        "displayType": "table",
        "pivotAggregation": null,
        "pivotColumns": null,
        "xColumns": null,
        "yColumns": null
       },
       "removedWidgets": [],
       "schema": [
        {
         "metadata": "{}",
         "name": "id",
         "type": "\"integer\""
        },
        {
         "metadata": "{}",
         "name": "firstName",
         "type": "\"string\""
        },
        {
         "metadata": "{}",
         "name": "middleName",
         "type": "\"string\""
        },
        {
         "metadata": "{}",
         "name": "lastName",
         "type": "\"string\""
        },
        {
         "metadata": "{}",
         "name": "gender",
         "type": "\"string\""
        },
        {
         "metadata": "{}",
         "name": "birthDate",
         "type": "\"timestamp\""
        },
        {
         "metadata": "{}",
         "name": "ssn",
         "type": "\"string\""
        },
        {
         "metadata": "{}",
         "name": "salary",
         "type": "\"integer\""
        }
       ],
       "type": "table"
      }
     },
     "output_type": "display_data"
    }
   ],
   "source": [
    "%python\n",
    "display(spark.sql(\"select * from delta.`/Volumes/marscat/marsschema/marsdemo_delta_vol`\"))"
   ]
  },
  {
   "cell_type": "code",
   "execution_count": 0,
   "metadata": {
    "application/vnd.databricks.v1+cell": {
     "cellMetadata": {
      "byteLimit": 2048000,
      "rowLimit": 10000
     },
     "inputWidgets": {},
     "nuid": "55f7af32-393c-47d4-aedc-75132a1a9f87",
     "showTitle": false,
     "tableResultSettingsMap": {},
     "title": ""
    }
   },
   "outputs": [
    {
     "output_type": "display_data",
     "data": {
      "text/html": [
       "<style scoped>\n",
       "  .table-result-container {\n",
       "    max-height: 300px;\n",
       "    overflow: auto;\n",
       "  }\n",
       "  table, th, td {\n",
       "    border: 1px solid black;\n",
       "    border-collapse: collapse;\n",
       "  }\n",
       "  th, td {\n",
       "    padding: 5px;\n",
       "  }\n",
       "  th {\n",
       "    text-align: left;\n",
       "  }\n",
       "</style><div class='table-result-container'><table class='table-result'><thead style='background-color: white'><tr><th>id</th><th>firstName</th><th>middleName</th><th>lastName</th><th>gender</th><th>birthDate</th><th>ssn</th><th>salary</th></tr></thead><tbody><tr><td>1</td><td>Pennie</td><td>Carry</td><td>Hirschmann</td><td>F</td><td>1955-07-02T04:00:00Z</td><td>981-43-9345</td><td>56172</td></tr><tr><td>2</td><td>An</td><td>Amira</td><td>Cowper</td><td>F</td><td>1992-02-08T05:00:00Z</td><td>978-97-8086</td><td>40203</td></tr><tr><td>3</td><td>Quyen</td><td>Marlen</td><td>Dome</td><td>F</td><td>1970-10-11T04:00:00Z</td><td>957-57-8246</td><td>53417</td></tr><tr><td>4</td><td>Coralie</td><td>Antonina</td><td>Marshal</td><td>F</td><td>1990-04-11T04:00:00Z</td><td>963-39-4885</td><td>94727</td></tr><tr><td>5</td><td>Terrie</td><td>Wava</td><td>Bonar</td><td>F</td><td>1980-01-16T05:00:00Z</td><td>964-49-8051</td><td>79908</td></tr><tr><td>6</td><td>Chassidy</td><td>Concepcion</td><td>Bourthouloume</td><td>F</td><td>1990-11-24T05:00:00Z</td><td>954-59-9172</td><td>64652</td></tr><tr><td>7</td><td>Geri</td><td>Tambra</td><td>Mosby</td><td>F</td><td>1970-12-19T05:00:00Z</td><td>968-16-4020</td><td>38195</td></tr><tr><td>8</td><td>Patria</td><td>Nancy</td><td>Arstall</td><td>F</td><td>1985-01-02T05:00:00Z</td><td>984-76-3770</td><td>102053</td></tr><tr><td>9</td><td>Terese</td><td>Alfredia</td><td>Tocque</td><td>F</td><td>1967-11-17T05:00:00Z</td><td>967-48-7309</td><td>91294</td></tr><tr><td>10</td><td>Wava</td><td>Lyndsey</td><td>Jeandon</td><td>F</td><td>1963-12-30T05:00:00Z</td><td>997-82-2946</td><td>56521</td></tr><tr><td>11</td><td>Sophie</td><td>Emerita</td><td>Hearn</td><td>F</td><td>1979-09-17T04:00:00Z</td><td>977-66-4483</td><td>90920</td></tr><tr><td>12</td><td>Jodie</td><td>Tabetha</td><td>Laneham</td><td>F</td><td>1959-01-31T05:00:00Z</td><td>923-24-9769</td><td>90634</td></tr><tr><td>13</td><td>Marietta</td><td>Mandi</td><td>Yansons</td><td>F</td><td>1974-02-19T04:00:00Z</td><td>900-34-8083</td><td>93162</td></tr><tr><td>14</td><td>Caridad</td><td>Maire</td><td>Snelle</td><td>F</td><td>1960-09-26T04:00:00Z</td><td>992-11-7062</td><td>38859</td></tr><tr><td>15</td><td>Yasmine</td><td>Meg</td><td>Edworthye</td><td>F</td><td>1960-01-29T05:00:00Z</td><td>922-12-9862</td><td>76220</td></tr><tr><td>16</td><td>Chan</td><td>Jani</td><td>Hartas</td><td>F</td><td>1986-12-05T05:00:00Z</td><td>995-51-3115</td><td>75050</td></tr><tr><td>17</td><td>Evangeline</td><td>Wanetta</td><td>Casserley</td><td>F</td><td>1961-09-29T04:00:00Z</td><td>926-61-3526</td><td>62814</td></tr><tr><td>18</td><td>Elnora</td><td>Kecia</td><td>Lipman</td><td>F</td><td>1980-02-14T05:00:00Z</td><td>950-23-9739</td><td>71350</td></tr><tr><td>19</td><td>Adelle</td><td>Kathyrn</td><td>Grigoriev</td><td>F</td><td>1978-11-14T05:00:00Z</td><td>923-23-5984</td><td>60600</td></tr><tr><td>20</td><td>Mica</td><td>Zandra</td><td>Challens</td><td>F</td><td>1973-11-24T05:00:00Z</td><td>918-66-1232</td><td>51071</td></tr><tr><td>21</td><td>Sarah</td><td>Nickie</td><td>Sadgrove</td><td>F</td><td>1990-11-07T05:00:00Z</td><td>913-18-2717</td><td>101046</td></tr><tr><td>22</td><td>Robbin</td><td>Leeanne</td><td>Sallnow</td><td>F</td><td>1958-12-16T05:00:00Z</td><td>938-88-6975</td><td>98588</td></tr><tr><td>23</td><td>Caroyln</td><td>Mamie</td><td>Cardon</td><td>F</td><td>1994-05-15T04:00:00Z</td><td>927-52-5062</td><td>60449</td></tr><tr><td>24</td><td>Penni</td><td>Stevie</td><td>Searby</td><td>F</td><td>1955-03-23T05:00:00Z</td><td>951-65-9959</td><td>83728</td></tr><tr><td>25</td><td>Yesenia</td><td>Eileen</td><td>Goldring</td><td>F</td><td>1997-07-09T04:00:00Z</td><td>920-71-3216</td><td>73060</td></tr><tr><td>26</td><td>Frankie</td><td>Jovan</td><td>Lydall</td><td>F</td><td>1976-07-08T04:00:00Z</td><td>911-59-3216</td><td>105270</td></tr><tr><td>27</td><td>Venetta</td><td>Laura</td><td>Komorowski</td><td>F</td><td>1960-12-01T05:00:00Z</td><td>921-55-9589</td><td>38186</td></tr><tr><td>28</td><td>Marget</td><td>Thao</td><td>Lundbeck</td><td>F</td><td>1961-04-07T05:00:00Z</td><td>979-14-7198</td><td>67310</td></tr><tr><td>29</td><td>Leeann</td><td>Verlene</td><td>Hewes</td><td>F</td><td>1985-01-03T05:00:00Z</td><td>905-67-9311</td><td>107411</td></tr><tr><td>30</td><td>Noella</td><td>Isabella</td><td>Ubsdell</td><td>F</td><td>1975-04-20T04:00:00Z</td><td>919-78-4521</td><td>67250</td></tr><tr><td>31</td><td>Elly</td><td>Natividad</td><td>Iorns</td><td>F</td><td>1967-04-28T05:00:00Z</td><td>905-52-3088</td><td>80919</td></tr><tr><td>32</td><td>Hedwig</td><td>Dulcie</td><td>Pendleberry</td><td>F</td><td>1998-12-02T05:00:00Z</td><td>666-51-9916</td><td>60857</td></tr><tr><td>33</td><td>Bridget</td><td>Brande</td><td>Perche</td><td>F</td><td>1989-03-07T05:00:00Z</td><td>928-39-7663</td><td>58615</td></tr><tr><td>34</td><td>Soo</td><td>Laurena</td><td>Danovich</td><td>F</td><td>1977-11-20T05:00:00Z</td><td>908-19-5146</td><td>57712</td></tr><tr><td>35</td><td>Hanh</td><td>Juliet</td><td>Stiegers</td><td>F</td><td>1989-09-09T04:00:00Z</td><td>905-35-6642</td><td>91772</td></tr><tr><td>36</td><td>Lucretia</td><td>Marna</td><td>Beekman</td><td>F</td><td>1982-08-16T04:00:00Z</td><td>909-68-3003</td><td>92152</td></tr><tr><td>37</td><td>Stasia</td><td>Perla</td><td>Manoch</td><td>F</td><td>1989-04-26T04:00:00Z</td><td>936-61-9195</td><td>58131</td></tr><tr><td>38</td><td>Nena</td><td>Jamika</td><td>Hinkes</td><td>F</td><td>1964-02-29T05:00:00Z</td><td>937-51-9958</td><td>82412</td></tr><tr><td>39</td><td>Kala</td><td>Violeta</td><td>Lyfe</td><td>F</td><td>1994-06-23T04:00:00Z</td><td>981-88-8006</td><td>101601</td></tr><tr><td>40</td><td>Alethea</td><td>Dolly</td><td>Brickdale</td><td>F</td><td>1960-06-26T04:00:00Z</td><td>908-46-4236</td><td>89151</td></tr><tr><td>41</td><td>Felisha</td><td>Hiroko</td><td>Hayland</td><td>F</td><td>1959-12-13T05:00:00Z</td><td>914-65-8532</td><td>98256</td></tr><tr><td>42</td><td>Gussie</td><td>India</td><td>McKeeman</td><td>F</td><td>1991-11-15T05:00:00Z</td><td>922-91-9943</td><td>46945</td></tr><tr><td>43</td><td>Page</td><td>Salina</td><td>McHaffy</td><td>F</td><td>1956-09-14T04:00:00Z</td><td>900-96-5804</td><td>115410</td></tr><tr><td>44</td><td>Idell</td><td>Ami</td><td>Ateggart</td><td>F</td><td>1977-06-26T04:00:00Z</td><td>979-47-6065</td><td>89747</td></tr><tr><td>45</td><td>Leonia</td><td>Elda</td><td>Windrass</td><td>F</td><td>1961-11-05T05:00:00Z</td><td>927-67-2402</td><td>87159</td></tr><tr><td>46</td><td>Eleonore</td><td>Erma</td><td>Leport</td><td>F</td><td>1973-06-13T04:00:00Z</td><td>953-54-9836</td><td>98072</td></tr><tr><td>47</td><td>Logan</td><td>Magaly</td><td>Siggs</td><td>F</td><td>1974-07-16T04:00:00Z</td><td>948-66-9847</td><td>55780</td></tr><tr><td>48</td><td>Carie</td><td>Serina</td><td>Waryk</td><td>F</td><td>1957-02-11T05:00:00Z</td><td>980-30-1656</td><td>52549</td></tr><tr><td>49</td><td>Pansy</td><td>Suzie</td><td>Shrieves</td><td>F</td><td>1991-05-24T04:00:00Z</td><td>910-16-4444</td><td>73811</td></tr><tr><td>50</td><td>Malissa</td><td>Amada</td><td>McRill</td><td>F</td><td>1958-05-02T04:00:00Z</td><td>954-65-2862</td><td>115845</td></tr><tr><td>51</td><td>Blythe</td><td>Carri</td><td>Crinkley</td><td>F</td><td>1973-03-08T05:00:00Z</td><td>998-29-3568</td><td>112662</td></tr><tr><td>52</td><td>Marketta</td><td>Rachele</td><td>Borg-Bartolo</td><td>F</td><td>1975-10-10T04:00:00Z</td><td>981-60-8178</td><td>66712</td></tr><tr><td>53</td><td>Curtis</td><td>Tempie</td><td>Sponton</td><td>F</td><td>1980-07-23T04:00:00Z</td><td>997-70-4544</td><td>74767</td></tr><tr><td>54</td><td>Maricela</td><td>Elane</td><td>Heinel</td><td>F</td><td>1972-12-21T05:00:00Z</td><td>931-49-8310</td><td>67801</td></tr><tr><td>55</td><td>Delpha</td><td>Michelina</td><td>Biggadike</td><td>F</td><td>1957-09-30T04:00:00Z</td><td>987-71-9556</td><td>104262</td></tr><tr><td>56</td><td>Bernita</td><td>Kathaleen</td><td>McIan</td><td>F</td><td>1971-02-20T05:00:00Z</td><td>982-68-4659</td><td>48781</td></tr><tr><td>57</td><td>Jesusa</td><td>Cherise</td><td>Parysowna</td><td>F</td><td>1988-03-14T05:00:00Z</td><td>992-77-3435</td><td>111979</td></tr><tr><td>58</td><td>Chung</td><td>Dian</td><td>Dautry</td><td>F</td><td>1998-01-12T05:00:00Z</td><td>946-10-3058</td><td>47190</td></tr><tr><td>59</td><td>Vickie</td><td>Ranae</td><td>Saddleton</td><td>F</td><td>1967-04-01T05:00:00Z</td><td>955-57-2783</td><td>52410</td></tr><tr><td>60</td><td>Sena</td><td>Particia</td><td>Stittle</td><td>F</td><td>1956-01-10T05:00:00Z</td><td>971-10-8053</td><td>72745</td></tr><tr><td>61</td><td>Adelia</td><td>Gita</td><td>Vassel</td><td>F</td><td>1990-10-24T04:00:00Z</td><td>947-17-3832</td><td>63563</td></tr><tr><td>62</td><td>Erica</td><td>Louvenia</td><td>O'Drought</td><td>F</td><td>1991-03-08T05:00:00Z</td><td>904-49-5506</td><td>80113</td></tr><tr><td>63</td><td>Anjanette</td><td>Clelia</td><td>Hicks</td><td>F</td><td>1973-10-26T04:00:00Z</td><td>981-32-5795</td><td>61310</td></tr><tr><td>64</td><td>Kari</td><td>Rosalyn</td><td>Siney</td><td>F</td><td>1985-04-10T05:00:00Z</td><td>935-65-6035</td><td>65836</td></tr><tr><td>65</td><td>Eliana</td><td>Marcie</td><td>Gogay</td><td>F</td><td>1976-05-28T04:00:00Z</td><td>984-45-2254</td><td>32795</td></tr><tr><td>66</td><td>Winter</td><td>Esther</td><td>Cruddace</td><td>F</td><td>1989-12-28T05:00:00Z</td><td>997-63-7632</td><td>66115</td></tr><tr><td>67</td><td>Yuri</td><td>Elin</td><td>Byrne</td><td>F</td><td>1964-08-18T04:00:00Z</td><td>988-62-7594</td><td>52476</td></tr><tr><td>68</td><td>Kimberely</td><td>Beverlee</td><td>Mahon</td><td>F</td><td>1979-01-17T05:00:00Z</td><td>941-28-2731</td><td>92341</td></tr><tr><td>69</td><td>Toya</td><td>Waneta</td><td>Whebell</td><td>F</td><td>1989-07-23T04:00:00Z</td><td>947-97-1666</td><td>53715</td></tr><tr><td>70</td><td>Wynona</td><td>Maxie</td><td>Melia</td><td>F</td><td>1984-02-13T05:00:00Z</td><td>901-85-3278</td><td>73754</td></tr><tr><td>71</td><td>Katelyn</td><td>Merrie</td><td>Pocklington</td><td>F</td><td>1994-01-16T05:00:00Z</td><td>949-72-2758</td><td>77925</td></tr><tr><td>72</td><td>Lianne</td><td>Racquel</td><td>Bowe</td><td>F</td><td>1976-01-18T05:00:00Z</td><td>935-57-9860</td><td>114348</td></tr><tr><td>73</td><td>Kayla</td><td>Janella</td><td>Erskin</td><td>F</td><td>1965-06-25T04:00:00Z</td><td>916-57-2955</td><td>87593</td></tr><tr><td>74</td><td>Monserrate</td><td>Goldie</td><td>Trimming</td><td>F</td><td>1993-09-17T04:00:00Z</td><td>930-49-9845</td><td>57255</td></tr><tr><td>75</td><td>Alica</td><td>Elfrieda</td><td>Mousdall</td><td>F</td><td>1953-12-21T05:00:00Z</td><td>954-16-6401</td><td>96490</td></tr><tr><td>76</td><td>Dung</td><td>Leslie</td><td>Lambswood</td><td>F</td><td>1968-08-03T04:00:00Z</td><td>914-14-5994</td><td>57409</td></tr><tr><td>77</td><td>Jolene</td><td>Vennie</td><td>Pindell</td><td>F</td><td>1983-07-08T04:00:00Z</td><td>972-80-1367</td><td>72379</td></tr><tr><td>78</td><td>Deanne</td><td>Lindsay</td><td>Lambdin</td><td>F</td><td>1999-07-28T04:00:00Z</td><td>969-87-7115</td><td>83764</td></tr><tr><td>79</td><td>Carey</td><td>Kareen</td><td>Ciric</td><td>F</td><td>1999-02-23T05:00:00Z</td><td>913-31-5531</td><td>93416</td></tr><tr><td>80</td><td>Madison</td><td>Iris</td><td>Donovan</td><td>F</td><td>1984-09-05T04:00:00Z</td><td>953-91-7481</td><td>74484</td></tr><tr><td>81</td><td>Lasandra</td><td>Lin</td><td>Mowne</td><td>F</td><td>1986-03-30T05:00:00Z</td><td>984-79-5062</td><td>90966</td></tr><tr><td>82</td><td>Joella</td><td>Danae</td><td>Marxsen</td><td>F</td><td>1960-09-12T04:00:00Z</td><td>998-57-7440</td><td>109293</td></tr><tr><td>83</td><td>Markita</td><td>Shellie</td><td>Baskeyfied</td><td>F</td><td>1960-12-05T05:00:00Z</td><td>993-66-4078</td><td>134393</td></tr><tr><td>84</td><td>Callie</td><td>Josephina</td><td>Gatley</td><td>F</td><td>1988-05-25T04:00:00Z</td><td>963-80-2930</td><td>63879</td></tr><tr><td>85</td><td>Maia</td><td>Nadene</td><td>Putland</td><td>F</td><td>1979-12-22T05:00:00Z</td><td>966-80-6343</td><td>82866</td></tr><tr><td>86</td><td>Elma</td><td>Chau</td><td>Rossiter</td><td>F</td><td>1958-10-22T04:00:00Z</td><td>973-86-1495</td><td>80696</td></tr><tr><td>87</td><td>Luella</td><td>Cecile</td><td>Gant</td><td>F</td><td>1967-10-05T04:00:00Z</td><td>983-10-1764</td><td>78464</td></tr><tr><td>88</td><td>In</td><td>Susann</td><td>Lacroix</td><td>F</td><td>1999-07-23T04:00:00Z</td><td>907-56-8358</td><td>70873</td></tr><tr><td>89</td><td>Lizabeth</td><td>Sommer</td><td>Mayze</td><td>F</td><td>1971-04-24T05:00:00Z</td><td>981-26-7152</td><td>61597</td></tr><tr><td>90</td><td>Alice</td><td>Marisol</td><td>Novill</td><td>F</td><td>1992-05-21T04:00:00Z</td><td>924-10-7563</td><td>34053</td></tr><tr><td>91</td><td>Emelina</td><td>Joel</td><td>Skudder</td><td>F</td><td>1962-01-05T05:00:00Z</td><td>929-14-4074</td><td>53763</td></tr><tr><td>92</td><td>Ingeborg</td><td>Barbara</td><td>Darko</td><td>F</td><td>1982-01-18T05:00:00Z</td><td>989-81-9045</td><td>62846</td></tr><tr><td>93</td><td>Tonja</td><td>Sumiko</td><td>Druery</td><td>F</td><td>1969-03-12T05:00:00Z</td><td>902-58-6244</td><td>63075</td></tr><tr><td>94</td><td>Nila</td><td>Madelene</td><td>Gothard</td><td>F</td><td>1963-12-05T05:00:00Z</td><td>906-58-8356</td><td>100950</td></tr><tr><td>95</td><td>Rochelle</td><td>Ronni</td><td>Roycroft</td><td>F</td><td>1986-02-14T05:00:00Z</td><td>935-80-5907</td><td>92524</td></tr><tr><td>96</td><td>Flo</td><td>Jena</td><td>Broomer</td><td>F</td><td>1975-06-12T04:00:00Z</td><td>950-63-4472</td><td>47349</td></tr><tr><td>97</td><td>Jonell</td><td>Alia</td><td>Gifkins</td><td>F</td><td>1966-07-12T04:00:00Z</td><td>942-12-1605</td><td>84084</td></tr><tr><td>98</td><td>Perla</td><td>Delphia</td><td>Brimley</td><td>F</td><td>1965-07-31T04:00:00Z</td><td>934-71-2961</td><td>65425</td></tr><tr><td>99</td><td>Rheba</td><td>Charlesetta</td><td>Chatwood</td><td>F</td><td>1974-04-01T04:00:00Z</td><td>995-65-8928</td><td>76773</td></tr><tr><td>100</td><td>Annalisa</td><td>Nova</td><td>Patesel</td><td>F</td><td>1974-01-25T04:00:00Z</td><td>922-68-2542</td><td>66481</td></tr></tbody></table></div>"
      ]
     },
     "metadata": {
      "application/vnd.databricks.v1+output": {
       "addedWidgets": {},
       "aggData": [],
       "aggError": "",
       "aggOverflow": false,
       "aggSchema": [],
       "aggSeriesLimitReached": false,
       "aggType": "",
       "arguments": {},
       "columnCustomDisplayInfos": {},
       "data": [
        [
         1,
         "Pennie",
         "Carry",
         "Hirschmann",
         "F",
         "1955-07-02T04:00:00Z",
         "981-43-9345",
         56172
        ],
        [
         2,
         "An",
         "Amira",
         "Cowper",
         "F",
         "1992-02-08T05:00:00Z",
         "978-97-8086",
         40203
        ],
        [
         3,
         "Quyen",
         "Marlen",
         "Dome",
         "F",
         "1970-10-11T04:00:00Z",
         "957-57-8246",
         53417
        ],
        [
         4,
         "Coralie",
         "Antonina",
         "Marshal",
         "F",
         "1990-04-11T04:00:00Z",
         "963-39-4885",
         94727
        ],
        [
         5,
         "Terrie",
         "Wava",
         "Bonar",
         "F",
         "1980-01-16T05:00:00Z",
         "964-49-8051",
         79908
        ],
        [
         6,
         "Chassidy",
         "Concepcion",
         "Bourthouloume",
         "F",
         "1990-11-24T05:00:00Z",
         "954-59-9172",
         64652
        ],
        [
         7,
         "Geri",
         "Tambra",
         "Mosby",
         "F",
         "1970-12-19T05:00:00Z",
         "968-16-4020",
         38195
        ],
        [
         8,
         "Patria",
         "Nancy",
         "Arstall",
         "F",
         "1985-01-02T05:00:00Z",
         "984-76-3770",
         102053
        ],
        [
         9,
         "Terese",
         "Alfredia",
         "Tocque",
         "F",
         "1967-11-17T05:00:00Z",
         "967-48-7309",
         91294
        ],
        [
         10,
         "Wava",
         "Lyndsey",
         "Jeandon",
         "F",
         "1963-12-30T05:00:00Z",
         "997-82-2946",
         56521
        ],
        [
         11,
         "Sophie",
         "Emerita",
         "Hearn",
         "F",
         "1979-09-17T04:00:00Z",
         "977-66-4483",
         90920
        ],
        [
         12,
         "Jodie",
         "Tabetha",
         "Laneham",
         "F",
         "1959-01-31T05:00:00Z",
         "923-24-9769",
         90634
        ],
        [
         13,
         "Marietta",
         "Mandi",
         "Yansons",
         "F",
         "1974-02-19T04:00:00Z",
         "900-34-8083",
         93162
        ],
        [
         14,
         "Caridad",
         "Maire",
         "Snelle",
         "F",
         "1960-09-26T04:00:00Z",
         "992-11-7062",
         38859
        ],
        [
         15,
         "Yasmine",
         "Meg",
         "Edworthye",
         "F",
         "1960-01-29T05:00:00Z",
         "922-12-9862",
         76220
        ],
        [
         16,
         "Chan",
         "Jani",
         "Hartas",
         "F",
         "1986-12-05T05:00:00Z",
         "995-51-3115",
         75050
        ],
        [
         17,
         "Evangeline",
         "Wanetta",
         "Casserley",
         "F",
         "1961-09-29T04:00:00Z",
         "926-61-3526",
         62814
        ],
        [
         18,
         "Elnora",
         "Kecia",
         "Lipman",
         "F",
         "1980-02-14T05:00:00Z",
         "950-23-9739",
         71350
        ],
        [
         19,
         "Adelle",
         "Kathyrn",
         "Grigoriev",
         "F",
         "1978-11-14T05:00:00Z",
         "923-23-5984",
         60600
        ],
        [
         20,
         "Mica",
         "Zandra",
         "Challens",
         "F",
         "1973-11-24T05:00:00Z",
         "918-66-1232",
         51071
        ],
        [
         21,
         "Sarah",
         "Nickie",
         "Sadgrove",
         "F",
         "1990-11-07T05:00:00Z",
         "913-18-2717",
         101046
        ],
        [
         22,
         "Robbin",
         "Leeanne",
         "Sallnow",
         "F",
         "1958-12-16T05:00:00Z",
         "938-88-6975",
         98588
        ],
        [
         23,
         "Caroyln",
         "Mamie",
         "Cardon",
         "F",
         "1994-05-15T04:00:00Z",
         "927-52-5062",
         60449
        ],
        [
         24,
         "Penni",
         "Stevie",
         "Searby",
         "F",
         "1955-03-23T05:00:00Z",
         "951-65-9959",
         83728
        ],
        [
         25,
         "Yesenia",
         "Eileen",
         "Goldring",
         "F",
         "1997-07-09T04:00:00Z",
         "920-71-3216",
         73060
        ],
        [
         26,
         "Frankie",
         "Jovan",
         "Lydall",
         "F",
         "1976-07-08T04:00:00Z",
         "911-59-3216",
         105270
        ],
        [
         27,
         "Venetta",
         "Laura",
         "Komorowski",
         "F",
         "1960-12-01T05:00:00Z",
         "921-55-9589",
         38186
        ],
        [
         28,
         "Marget",
         "Thao",
         "Lundbeck",
         "F",
         "1961-04-07T05:00:00Z",
         "979-14-7198",
         67310
        ],
        [
         29,
         "Leeann",
         "Verlene",
         "Hewes",
         "F",
         "1985-01-03T05:00:00Z",
         "905-67-9311",
         107411
        ],
        [
         30,
         "Noella",
         "Isabella",
         "Ubsdell",
         "F",
         "1975-04-20T04:00:00Z",
         "919-78-4521",
         67250
        ],
        [
         31,
         "Elly",
         "Natividad",
         "Iorns",
         "F",
         "1967-04-28T05:00:00Z",
         "905-52-3088",
         80919
        ],
        [
         32,
         "Hedwig",
         "Dulcie",
         "Pendleberry",
         "F",
         "1998-12-02T05:00:00Z",
         "666-51-9916",
         60857
        ],
        [
         33,
         "Bridget",
         "Brande",
         "Perche",
         "F",
         "1989-03-07T05:00:00Z",
         "928-39-7663",
         58615
        ],
        [
         34,
         "Soo",
         "Laurena",
         "Danovich",
         "F",
         "1977-11-20T05:00:00Z",
         "908-19-5146",
         57712
        ],
        [
         35,
         "Hanh",
         "Juliet",
         "Stiegers",
         "F",
         "1989-09-09T04:00:00Z",
         "905-35-6642",
         91772
        ],
        [
         36,
         "Lucretia",
         "Marna",
         "Beekman",
         "F",
         "1982-08-16T04:00:00Z",
         "909-68-3003",
         92152
        ],
        [
         37,
         "Stasia",
         "Perla",
         "Manoch",
         "F",
         "1989-04-26T04:00:00Z",
         "936-61-9195",
         58131
        ],
        [
         38,
         "Nena",
         "Jamika",
         "Hinkes",
         "F",
         "1964-02-29T05:00:00Z",
         "937-51-9958",
         82412
        ],
        [
         39,
         "Kala",
         "Violeta",
         "Lyfe",
         "F",
         "1994-06-23T04:00:00Z",
         "981-88-8006",
         101601
        ],
        [
         40,
         "Alethea",
         "Dolly",
         "Brickdale",
         "F",
         "1960-06-26T04:00:00Z",
         "908-46-4236",
         89151
        ],
        [
         41,
         "Felisha",
         "Hiroko",
         "Hayland",
         "F",
         "1959-12-13T05:00:00Z",
         "914-65-8532",
         98256
        ],
        [
         42,
         "Gussie",
         "India",
         "McKeeman",
         "F",
         "1991-11-15T05:00:00Z",
         "922-91-9943",
         46945
        ],
        [
         43,
         "Page",
         "Salina",
         "McHaffy",
         "F",
         "1956-09-14T04:00:00Z",
         "900-96-5804",
         115410
        ],
        [
         44,
         "Idell",
         "Ami",
         "Ateggart",
         "F",
         "1977-06-26T04:00:00Z",
         "979-47-6065",
         89747
        ],
        [
         45,
         "Leonia",
         "Elda",
         "Windrass",
         "F",
         "1961-11-05T05:00:00Z",
         "927-67-2402",
         87159
        ],
        [
         46,
         "Eleonore",
         "Erma",
         "Leport",
         "F",
         "1973-06-13T04:00:00Z",
         "953-54-9836",
         98072
        ],
        [
         47,
         "Logan",
         "Magaly",
         "Siggs",
         "F",
         "1974-07-16T04:00:00Z",
         "948-66-9847",
         55780
        ],
        [
         48,
         "Carie",
         "Serina",
         "Waryk",
         "F",
         "1957-02-11T05:00:00Z",
         "980-30-1656",
         52549
        ],
        [
         49,
         "Pansy",
         "Suzie",
         "Shrieves",
         "F",
         "1991-05-24T04:00:00Z",
         "910-16-4444",
         73811
        ],
        [
         50,
         "Malissa",
         "Amada",
         "McRill",
         "F",
         "1958-05-02T04:00:00Z",
         "954-65-2862",
         115845
        ],
        [
         51,
         "Blythe",
         "Carri",
         "Crinkley",
         "F",
         "1973-03-08T05:00:00Z",
         "998-29-3568",
         112662
        ],
        [
         52,
         "Marketta",
         "Rachele",
         "Borg-Bartolo",
         "F",
         "1975-10-10T04:00:00Z",
         "981-60-8178",
         66712
        ],
        [
         53,
         "Curtis",
         "Tempie",
         "Sponton",
         "F",
         "1980-07-23T04:00:00Z",
         "997-70-4544",
         74767
        ],
        [
         54,
         "Maricela",
         "Elane",
         "Heinel",
         "F",
         "1972-12-21T05:00:00Z",
         "931-49-8310",
         67801
        ],
        [
         55,
         "Delpha",
         "Michelina",
         "Biggadike",
         "F",
         "1957-09-30T04:00:00Z",
         "987-71-9556",
         104262
        ],
        [
         56,
         "Bernita",
         "Kathaleen",
         "McIan",
         "F",
         "1971-02-20T05:00:00Z",
         "982-68-4659",
         48781
        ],
        [
         57,
         "Jesusa",
         "Cherise",
         "Parysowna",
         "F",
         "1988-03-14T05:00:00Z",
         "992-77-3435",
         111979
        ],
        [
         58,
         "Chung",
         "Dian",
         "Dautry",
         "F",
         "1998-01-12T05:00:00Z",
         "946-10-3058",
         47190
        ],
        [
         59,
         "Vickie",
         "Ranae",
         "Saddleton",
         "F",
         "1967-04-01T05:00:00Z",
         "955-57-2783",
         52410
        ],
        [
         60,
         "Sena",
         "Particia",
         "Stittle",
         "F",
         "1956-01-10T05:00:00Z",
         "971-10-8053",
         72745
        ],
        [
         61,
         "Adelia",
         "Gita",
         "Vassel",
         "F",
         "1990-10-24T04:00:00Z",
         "947-17-3832",
         63563
        ],
        [
         62,
         "Erica",
         "Louvenia",
         "O'Drought",
         "F",
         "1991-03-08T05:00:00Z",
         "904-49-5506",
         80113
        ],
        [
         63,
         "Anjanette",
         "Clelia",
         "Hicks",
         "F",
         "1973-10-26T04:00:00Z",
         "981-32-5795",
         61310
        ],
        [
         64,
         "Kari",
         "Rosalyn",
         "Siney",
         "F",
         "1985-04-10T05:00:00Z",
         "935-65-6035",
         65836
        ],
        [
         65,
         "Eliana",
         "Marcie",
         "Gogay",
         "F",
         "1976-05-28T04:00:00Z",
         "984-45-2254",
         32795
        ],
        [
         66,
         "Winter",
         "Esther",
         "Cruddace",
         "F",
         "1989-12-28T05:00:00Z",
         "997-63-7632",
         66115
        ],
        [
         67,
         "Yuri",
         "Elin",
         "Byrne",
         "F",
         "1964-08-18T04:00:00Z",
         "988-62-7594",
         52476
        ],
        [
         68,
         "Kimberely",
         "Beverlee",
         "Mahon",
         "F",
         "1979-01-17T05:00:00Z",
         "941-28-2731",
         92341
        ],
        [
         69,
         "Toya",
         "Waneta",
         "Whebell",
         "F",
         "1989-07-23T04:00:00Z",
         "947-97-1666",
         53715
        ],
        [
         70,
         "Wynona",
         "Maxie",
         "Melia",
         "F",
         "1984-02-13T05:00:00Z",
         "901-85-3278",
         73754
        ],
        [
         71,
         "Katelyn",
         "Merrie",
         "Pocklington",
         "F",
         "1994-01-16T05:00:00Z",
         "949-72-2758",
         77925
        ],
        [
         72,
         "Lianne",
         "Racquel",
         "Bowe",
         "F",
         "1976-01-18T05:00:00Z",
         "935-57-9860",
         114348
        ],
        [
         73,
         "Kayla",
         "Janella",
         "Erskin",
         "F",
         "1965-06-25T04:00:00Z",
         "916-57-2955",
         87593
        ],
        [
         74,
         "Monserrate",
         "Goldie",
         "Trimming",
         "F",
         "1993-09-17T04:00:00Z",
         "930-49-9845",
         57255
        ],
        [
         75,
         "Alica",
         "Elfrieda",
         "Mousdall",
         "F",
         "1953-12-21T05:00:00Z",
         "954-16-6401",
         96490
        ],
        [
         76,
         "Dung",
         "Leslie",
         "Lambswood",
         "F",
         "1968-08-03T04:00:00Z",
         "914-14-5994",
         57409
        ],
        [
         77,
         "Jolene",
         "Vennie",
         "Pindell",
         "F",
         "1983-07-08T04:00:00Z",
         "972-80-1367",
         72379
        ],
        [
         78,
         "Deanne",
         "Lindsay",
         "Lambdin",
         "F",
         "1999-07-28T04:00:00Z",
         "969-87-7115",
         83764
        ],
        [
         79,
         "Carey",
         "Kareen",
         "Ciric",
         "F",
         "1999-02-23T05:00:00Z",
         "913-31-5531",
         93416
        ],
        [
         80,
         "Madison",
         "Iris",
         "Donovan",
         "F",
         "1984-09-05T04:00:00Z",
         "953-91-7481",
         74484
        ],
        [
         81,
         "Lasandra",
         "Lin",
         "Mowne",
         "F",
         "1986-03-30T05:00:00Z",
         "984-79-5062",
         90966
        ],
        [
         82,
         "Joella",
         "Danae",
         "Marxsen",
         "F",
         "1960-09-12T04:00:00Z",
         "998-57-7440",
         109293
        ],
        [
         83,
         "Markita",
         "Shellie",
         "Baskeyfied",
         "F",
         "1960-12-05T05:00:00Z",
         "993-66-4078",
         134393
        ],
        [
         84,
         "Callie",
         "Josephina",
         "Gatley",
         "F",
         "1988-05-25T04:00:00Z",
         "963-80-2930",
         63879
        ],
        [
         85,
         "Maia",
         "Nadene",
         "Putland",
         "F",
         "1979-12-22T05:00:00Z",
         "966-80-6343",
         82866
        ],
        [
         86,
         "Elma",
         "Chau",
         "Rossiter",
         "F",
         "1958-10-22T04:00:00Z",
         "973-86-1495",
         80696
        ],
        [
         87,
         "Luella",
         "Cecile",
         "Gant",
         "F",
         "1967-10-05T04:00:00Z",
         "983-10-1764",
         78464
        ],
        [
         88,
         "In",
         "Susann",
         "Lacroix",
         "F",
         "1999-07-23T04:00:00Z",
         "907-56-8358",
         70873
        ],
        [
         89,
         "Lizabeth",
         "Sommer",
         "Mayze",
         "F",
         "1971-04-24T05:00:00Z",
         "981-26-7152",
         61597
        ],
        [
         90,
         "Alice",
         "Marisol",
         "Novill",
         "F",
         "1992-05-21T04:00:00Z",
         "924-10-7563",
         34053
        ],
        [
         91,
         "Emelina",
         "Joel",
         "Skudder",
         "F",
         "1962-01-05T05:00:00Z",
         "929-14-4074",
         53763
        ],
        [
         92,
         "Ingeborg",
         "Barbara",
         "Darko",
         "F",
         "1982-01-18T05:00:00Z",
         "989-81-9045",
         62846
        ],
        [
         93,
         "Tonja",
         "Sumiko",
         "Druery",
         "F",
         "1969-03-12T05:00:00Z",
         "902-58-6244",
         63075
        ],
        [
         94,
         "Nila",
         "Madelene",
         "Gothard",
         "F",
         "1963-12-05T05:00:00Z",
         "906-58-8356",
         100950
        ],
        [
         95,
         "Rochelle",
         "Ronni",
         "Roycroft",
         "F",
         "1986-02-14T05:00:00Z",
         "935-80-5907",
         92524
        ],
        [
         96,
         "Flo",
         "Jena",
         "Broomer",
         "F",
         "1975-06-12T04:00:00Z",
         "950-63-4472",
         47349
        ],
        [
         97,
         "Jonell",
         "Alia",
         "Gifkins",
         "F",
         "1966-07-12T04:00:00Z",
         "942-12-1605",
         84084
        ],
        [
         98,
         "Perla",
         "Delphia",
         "Brimley",
         "F",
         "1965-07-31T04:00:00Z",
         "934-71-2961",
         65425
        ],
        [
         99,
         "Rheba",
         "Charlesetta",
         "Chatwood",
         "F",
         "1974-04-01T04:00:00Z",
         "995-65-8928",
         76773
        ],
        [
         100,
         "Annalisa",
         "Nova",
         "Patesel",
         "F",
         "1974-01-25T04:00:00Z",
         "922-68-2542",
         66481
        ]
       ],
       "datasetInfos": [],
       "dbfsResultPath": null,
       "isJsonSchema": true,
       "metadata": {},
       "overflow": false,
       "plotOptions": {
        "customPlotOptions": {},
        "displayType": "table",
        "pivotAggregation": null,
        "pivotColumns": null,
        "xColumns": null,
        "yColumns": null
       },
       "removedWidgets": [],
       "schema": [
        {
         "metadata": "{}",
         "name": "id",
         "type": "\"integer\""
        },
        {
         "metadata": "{}",
         "name": "firstName",
         "type": "\"string\""
        },
        {
         "metadata": "{}",
         "name": "middleName",
         "type": "\"string\""
        },
        {
         "metadata": "{}",
         "name": "lastName",
         "type": "\"string\""
        },
        {
         "metadata": "{}",
         "name": "gender",
         "type": "\"string\""
        },
        {
         "metadata": "{}",
         "name": "birthDate",
         "type": "\"timestamp\""
        },
        {
         "metadata": "{}",
         "name": "ssn",
         "type": "\"string\""
        },
        {
         "metadata": "{}",
         "name": "salary",
         "type": "\"integer\""
        }
       ],
       "type": "table"
      }
     },
     "output_type": "display_data"
    }
   ],
   "source": [
    "select * from delta.`abfss://dkushari@dkusharistorageaccount.dfs.core.windows.net/marsdemo/delta/volumedemo`"
   ]
  },
  {
   "cell_type": "code",
   "execution_count": 0,
   "metadata": {
    "application/vnd.databricks.v1+cell": {
     "cellMetadata": {
      "byteLimit": 2048000,
      "rowLimit": 10000
     },
     "inputWidgets": {},
     "nuid": "5100cf76-a0f2-4399-941f-7c166ad82be1",
     "showTitle": true,
     "tableResultSettingsMap": {},
     "title": "Access Volume Data Various Ways - Pandas"
    }
   },
   "outputs": [
    {
     "output_type": "stream",
     "name": "stderr",
     "output_type": "stream",
     "text": [
      "/databricks/spark/python/pyspark/pandas/utils.py:1035: PandasAPIOnSparkAdviceWarning: If `index_col` is not specified for `read_delta`, the default index is attached which can cause additional overhead.\n  warnings.warn(message, PandasAPIOnSparkAdviceWarning)\n/databricks/spark/python/pyspark/pandas/utils.py:1035: PandasAPIOnSparkAdviceWarning: If `index_col` is not specified for `to_spark`, the existing index is lost when converting to Spark DataFrame.\n  warnings.warn(message, PandasAPIOnSparkAdviceWarning)\n"
     ]
    },
    {
     "output_type": "display_data",
     "data": {
      "text/html": [
       "<style scoped>\n",
       "  .table-result-container {\n",
       "    max-height: 300px;\n",
       "    overflow: auto;\n",
       "  }\n",
       "  table, th, td {\n",
       "    border: 1px solid black;\n",
       "    border-collapse: collapse;\n",
       "  }\n",
       "  th, td {\n",
       "    padding: 5px;\n",
       "  }\n",
       "  th {\n",
       "    text-align: left;\n",
       "  }\n",
       "</style><div class='table-result-container'><table class='table-result'><thead style='background-color: white'><tr><th>id</th><th>firstName</th><th>middleName</th><th>lastName</th><th>gender</th><th>birthDate</th><th>ssn</th><th>salary</th></tr></thead><tbody><tr><td>1</td><td>Pennie</td><td>Carry</td><td>Hirschmann</td><td>F</td><td>1955-07-02T04:00:00Z</td><td>981-43-9345</td><td>56172</td></tr><tr><td>2</td><td>An</td><td>Amira</td><td>Cowper</td><td>F</td><td>1992-02-08T05:00:00Z</td><td>978-97-8086</td><td>40203</td></tr><tr><td>3</td><td>Quyen</td><td>Marlen</td><td>Dome</td><td>F</td><td>1970-10-11T04:00:00Z</td><td>957-57-8246</td><td>53417</td></tr><tr><td>4</td><td>Coralie</td><td>Antonina</td><td>Marshal</td><td>F</td><td>1990-04-11T04:00:00Z</td><td>963-39-4885</td><td>94727</td></tr><tr><td>5</td><td>Terrie</td><td>Wava</td><td>Bonar</td><td>F</td><td>1980-01-16T05:00:00Z</td><td>964-49-8051</td><td>79908</td></tr><tr><td>6</td><td>Chassidy</td><td>Concepcion</td><td>Bourthouloume</td><td>F</td><td>1990-11-24T05:00:00Z</td><td>954-59-9172</td><td>64652</td></tr><tr><td>7</td><td>Geri</td><td>Tambra</td><td>Mosby</td><td>F</td><td>1970-12-19T05:00:00Z</td><td>968-16-4020</td><td>38195</td></tr><tr><td>8</td><td>Patria</td><td>Nancy</td><td>Arstall</td><td>F</td><td>1985-01-02T05:00:00Z</td><td>984-76-3770</td><td>102053</td></tr><tr><td>9</td><td>Terese</td><td>Alfredia</td><td>Tocque</td><td>F</td><td>1967-11-17T05:00:00Z</td><td>967-48-7309</td><td>91294</td></tr><tr><td>10</td><td>Wava</td><td>Lyndsey</td><td>Jeandon</td><td>F</td><td>1963-12-30T05:00:00Z</td><td>997-82-2946</td><td>56521</td></tr><tr><td>11</td><td>Sophie</td><td>Emerita</td><td>Hearn</td><td>F</td><td>1979-09-17T04:00:00Z</td><td>977-66-4483</td><td>90920</td></tr><tr><td>12</td><td>Jodie</td><td>Tabetha</td><td>Laneham</td><td>F</td><td>1959-01-31T05:00:00Z</td><td>923-24-9769</td><td>90634</td></tr><tr><td>13</td><td>Marietta</td><td>Mandi</td><td>Yansons</td><td>F</td><td>1974-02-19T04:00:00Z</td><td>900-34-8083</td><td>93162</td></tr><tr><td>14</td><td>Caridad</td><td>Maire</td><td>Snelle</td><td>F</td><td>1960-09-26T04:00:00Z</td><td>992-11-7062</td><td>38859</td></tr><tr><td>15</td><td>Yasmine</td><td>Meg</td><td>Edworthye</td><td>F</td><td>1960-01-29T05:00:00Z</td><td>922-12-9862</td><td>76220</td></tr><tr><td>16</td><td>Chan</td><td>Jani</td><td>Hartas</td><td>F</td><td>1986-12-05T05:00:00Z</td><td>995-51-3115</td><td>75050</td></tr><tr><td>17</td><td>Evangeline</td><td>Wanetta</td><td>Casserley</td><td>F</td><td>1961-09-29T04:00:00Z</td><td>926-61-3526</td><td>62814</td></tr><tr><td>18</td><td>Elnora</td><td>Kecia</td><td>Lipman</td><td>F</td><td>1980-02-14T05:00:00Z</td><td>950-23-9739</td><td>71350</td></tr><tr><td>19</td><td>Adelle</td><td>Kathyrn</td><td>Grigoriev</td><td>F</td><td>1978-11-14T05:00:00Z</td><td>923-23-5984</td><td>60600</td></tr><tr><td>20</td><td>Mica</td><td>Zandra</td><td>Challens</td><td>F</td><td>1973-11-24T05:00:00Z</td><td>918-66-1232</td><td>51071</td></tr><tr><td>21</td><td>Sarah</td><td>Nickie</td><td>Sadgrove</td><td>F</td><td>1990-11-07T05:00:00Z</td><td>913-18-2717</td><td>101046</td></tr><tr><td>22</td><td>Robbin</td><td>Leeanne</td><td>Sallnow</td><td>F</td><td>1958-12-16T05:00:00Z</td><td>938-88-6975</td><td>98588</td></tr><tr><td>23</td><td>Caroyln</td><td>Mamie</td><td>Cardon</td><td>F</td><td>1994-05-15T04:00:00Z</td><td>927-52-5062</td><td>60449</td></tr><tr><td>24</td><td>Penni</td><td>Stevie</td><td>Searby</td><td>F</td><td>1955-03-23T05:00:00Z</td><td>951-65-9959</td><td>83728</td></tr><tr><td>25</td><td>Yesenia</td><td>Eileen</td><td>Goldring</td><td>F</td><td>1997-07-09T04:00:00Z</td><td>920-71-3216</td><td>73060</td></tr><tr><td>26</td><td>Frankie</td><td>Jovan</td><td>Lydall</td><td>F</td><td>1976-07-08T04:00:00Z</td><td>911-59-3216</td><td>105270</td></tr><tr><td>27</td><td>Venetta</td><td>Laura</td><td>Komorowski</td><td>F</td><td>1960-12-01T05:00:00Z</td><td>921-55-9589</td><td>38186</td></tr><tr><td>28</td><td>Marget</td><td>Thao</td><td>Lundbeck</td><td>F</td><td>1961-04-07T05:00:00Z</td><td>979-14-7198</td><td>67310</td></tr><tr><td>29</td><td>Leeann</td><td>Verlene</td><td>Hewes</td><td>F</td><td>1985-01-03T05:00:00Z</td><td>905-67-9311</td><td>107411</td></tr><tr><td>30</td><td>Noella</td><td>Isabella</td><td>Ubsdell</td><td>F</td><td>1975-04-20T04:00:00Z</td><td>919-78-4521</td><td>67250</td></tr><tr><td>31</td><td>Elly</td><td>Natividad</td><td>Iorns</td><td>F</td><td>1967-04-28T05:00:00Z</td><td>905-52-3088</td><td>80919</td></tr><tr><td>32</td><td>Hedwig</td><td>Dulcie</td><td>Pendleberry</td><td>F</td><td>1998-12-02T05:00:00Z</td><td>666-51-9916</td><td>60857</td></tr><tr><td>33</td><td>Bridget</td><td>Brande</td><td>Perche</td><td>F</td><td>1989-03-07T05:00:00Z</td><td>928-39-7663</td><td>58615</td></tr><tr><td>34</td><td>Soo</td><td>Laurena</td><td>Danovich</td><td>F</td><td>1977-11-20T05:00:00Z</td><td>908-19-5146</td><td>57712</td></tr><tr><td>35</td><td>Hanh</td><td>Juliet</td><td>Stiegers</td><td>F</td><td>1989-09-09T04:00:00Z</td><td>905-35-6642</td><td>91772</td></tr><tr><td>36</td><td>Lucretia</td><td>Marna</td><td>Beekman</td><td>F</td><td>1982-08-16T04:00:00Z</td><td>909-68-3003</td><td>92152</td></tr><tr><td>37</td><td>Stasia</td><td>Perla</td><td>Manoch</td><td>F</td><td>1989-04-26T04:00:00Z</td><td>936-61-9195</td><td>58131</td></tr><tr><td>38</td><td>Nena</td><td>Jamika</td><td>Hinkes</td><td>F</td><td>1964-02-29T05:00:00Z</td><td>937-51-9958</td><td>82412</td></tr><tr><td>39</td><td>Kala</td><td>Violeta</td><td>Lyfe</td><td>F</td><td>1994-06-23T04:00:00Z</td><td>981-88-8006</td><td>101601</td></tr><tr><td>40</td><td>Alethea</td><td>Dolly</td><td>Brickdale</td><td>F</td><td>1960-06-26T04:00:00Z</td><td>908-46-4236</td><td>89151</td></tr><tr><td>41</td><td>Felisha</td><td>Hiroko</td><td>Hayland</td><td>F</td><td>1959-12-13T05:00:00Z</td><td>914-65-8532</td><td>98256</td></tr><tr><td>42</td><td>Gussie</td><td>India</td><td>McKeeman</td><td>F</td><td>1991-11-15T05:00:00Z</td><td>922-91-9943</td><td>46945</td></tr><tr><td>43</td><td>Page</td><td>Salina</td><td>McHaffy</td><td>F</td><td>1956-09-14T04:00:00Z</td><td>900-96-5804</td><td>115410</td></tr><tr><td>44</td><td>Idell</td><td>Ami</td><td>Ateggart</td><td>F</td><td>1977-06-26T04:00:00Z</td><td>979-47-6065</td><td>89747</td></tr><tr><td>45</td><td>Leonia</td><td>Elda</td><td>Windrass</td><td>F</td><td>1961-11-05T05:00:00Z</td><td>927-67-2402</td><td>87159</td></tr><tr><td>46</td><td>Eleonore</td><td>Erma</td><td>Leport</td><td>F</td><td>1973-06-13T04:00:00Z</td><td>953-54-9836</td><td>98072</td></tr><tr><td>47</td><td>Logan</td><td>Magaly</td><td>Siggs</td><td>F</td><td>1974-07-16T04:00:00Z</td><td>948-66-9847</td><td>55780</td></tr><tr><td>48</td><td>Carie</td><td>Serina</td><td>Waryk</td><td>F</td><td>1957-02-11T05:00:00Z</td><td>980-30-1656</td><td>52549</td></tr><tr><td>49</td><td>Pansy</td><td>Suzie</td><td>Shrieves</td><td>F</td><td>1991-05-24T04:00:00Z</td><td>910-16-4444</td><td>73811</td></tr><tr><td>50</td><td>Malissa</td><td>Amada</td><td>McRill</td><td>F</td><td>1958-05-02T04:00:00Z</td><td>954-65-2862</td><td>115845</td></tr><tr><td>51</td><td>Blythe</td><td>Carri</td><td>Crinkley</td><td>F</td><td>1973-03-08T05:00:00Z</td><td>998-29-3568</td><td>112662</td></tr><tr><td>52</td><td>Marketta</td><td>Rachele</td><td>Borg-Bartolo</td><td>F</td><td>1975-10-10T04:00:00Z</td><td>981-60-8178</td><td>66712</td></tr><tr><td>53</td><td>Curtis</td><td>Tempie</td><td>Sponton</td><td>F</td><td>1980-07-23T04:00:00Z</td><td>997-70-4544</td><td>74767</td></tr><tr><td>54</td><td>Maricela</td><td>Elane</td><td>Heinel</td><td>F</td><td>1972-12-21T05:00:00Z</td><td>931-49-8310</td><td>67801</td></tr><tr><td>55</td><td>Delpha</td><td>Michelina</td><td>Biggadike</td><td>F</td><td>1957-09-30T04:00:00Z</td><td>987-71-9556</td><td>104262</td></tr><tr><td>56</td><td>Bernita</td><td>Kathaleen</td><td>McIan</td><td>F</td><td>1971-02-20T05:00:00Z</td><td>982-68-4659</td><td>48781</td></tr><tr><td>57</td><td>Jesusa</td><td>Cherise</td><td>Parysowna</td><td>F</td><td>1988-03-14T05:00:00Z</td><td>992-77-3435</td><td>111979</td></tr><tr><td>58</td><td>Chung</td><td>Dian</td><td>Dautry</td><td>F</td><td>1998-01-12T05:00:00Z</td><td>946-10-3058</td><td>47190</td></tr><tr><td>59</td><td>Vickie</td><td>Ranae</td><td>Saddleton</td><td>F</td><td>1967-04-01T05:00:00Z</td><td>955-57-2783</td><td>52410</td></tr><tr><td>60</td><td>Sena</td><td>Particia</td><td>Stittle</td><td>F</td><td>1956-01-10T05:00:00Z</td><td>971-10-8053</td><td>72745</td></tr><tr><td>61</td><td>Adelia</td><td>Gita</td><td>Vassel</td><td>F</td><td>1990-10-24T04:00:00Z</td><td>947-17-3832</td><td>63563</td></tr><tr><td>62</td><td>Erica</td><td>Louvenia</td><td>O'Drought</td><td>F</td><td>1991-03-08T05:00:00Z</td><td>904-49-5506</td><td>80113</td></tr><tr><td>63</td><td>Anjanette</td><td>Clelia</td><td>Hicks</td><td>F</td><td>1973-10-26T04:00:00Z</td><td>981-32-5795</td><td>61310</td></tr><tr><td>64</td><td>Kari</td><td>Rosalyn</td><td>Siney</td><td>F</td><td>1985-04-10T05:00:00Z</td><td>935-65-6035</td><td>65836</td></tr><tr><td>65</td><td>Eliana</td><td>Marcie</td><td>Gogay</td><td>F</td><td>1976-05-28T04:00:00Z</td><td>984-45-2254</td><td>32795</td></tr><tr><td>66</td><td>Winter</td><td>Esther</td><td>Cruddace</td><td>F</td><td>1989-12-28T05:00:00Z</td><td>997-63-7632</td><td>66115</td></tr><tr><td>67</td><td>Yuri</td><td>Elin</td><td>Byrne</td><td>F</td><td>1964-08-18T04:00:00Z</td><td>988-62-7594</td><td>52476</td></tr><tr><td>68</td><td>Kimberely</td><td>Beverlee</td><td>Mahon</td><td>F</td><td>1979-01-17T05:00:00Z</td><td>941-28-2731</td><td>92341</td></tr><tr><td>69</td><td>Toya</td><td>Waneta</td><td>Whebell</td><td>F</td><td>1989-07-23T04:00:00Z</td><td>947-97-1666</td><td>53715</td></tr><tr><td>70</td><td>Wynona</td><td>Maxie</td><td>Melia</td><td>F</td><td>1984-02-13T05:00:00Z</td><td>901-85-3278</td><td>73754</td></tr><tr><td>71</td><td>Katelyn</td><td>Merrie</td><td>Pocklington</td><td>F</td><td>1994-01-16T05:00:00Z</td><td>949-72-2758</td><td>77925</td></tr><tr><td>72</td><td>Lianne</td><td>Racquel</td><td>Bowe</td><td>F</td><td>1976-01-18T05:00:00Z</td><td>935-57-9860</td><td>114348</td></tr><tr><td>73</td><td>Kayla</td><td>Janella</td><td>Erskin</td><td>F</td><td>1965-06-25T04:00:00Z</td><td>916-57-2955</td><td>87593</td></tr><tr><td>74</td><td>Monserrate</td><td>Goldie</td><td>Trimming</td><td>F</td><td>1993-09-17T04:00:00Z</td><td>930-49-9845</td><td>57255</td></tr><tr><td>75</td><td>Alica</td><td>Elfrieda</td><td>Mousdall</td><td>F</td><td>1953-12-21T05:00:00Z</td><td>954-16-6401</td><td>96490</td></tr><tr><td>76</td><td>Dung</td><td>Leslie</td><td>Lambswood</td><td>F</td><td>1968-08-03T04:00:00Z</td><td>914-14-5994</td><td>57409</td></tr><tr><td>77</td><td>Jolene</td><td>Vennie</td><td>Pindell</td><td>F</td><td>1983-07-08T04:00:00Z</td><td>972-80-1367</td><td>72379</td></tr><tr><td>78</td><td>Deanne</td><td>Lindsay</td><td>Lambdin</td><td>F</td><td>1999-07-28T04:00:00Z</td><td>969-87-7115</td><td>83764</td></tr><tr><td>79</td><td>Carey</td><td>Kareen</td><td>Ciric</td><td>F</td><td>1999-02-23T05:00:00Z</td><td>913-31-5531</td><td>93416</td></tr><tr><td>80</td><td>Madison</td><td>Iris</td><td>Donovan</td><td>F</td><td>1984-09-05T04:00:00Z</td><td>953-91-7481</td><td>74484</td></tr><tr><td>81</td><td>Lasandra</td><td>Lin</td><td>Mowne</td><td>F</td><td>1986-03-30T05:00:00Z</td><td>984-79-5062</td><td>90966</td></tr><tr><td>82</td><td>Joella</td><td>Danae</td><td>Marxsen</td><td>F</td><td>1960-09-12T04:00:00Z</td><td>998-57-7440</td><td>109293</td></tr><tr><td>83</td><td>Markita</td><td>Shellie</td><td>Baskeyfied</td><td>F</td><td>1960-12-05T05:00:00Z</td><td>993-66-4078</td><td>134393</td></tr><tr><td>84</td><td>Callie</td><td>Josephina</td><td>Gatley</td><td>F</td><td>1988-05-25T04:00:00Z</td><td>963-80-2930</td><td>63879</td></tr><tr><td>85</td><td>Maia</td><td>Nadene</td><td>Putland</td><td>F</td><td>1979-12-22T05:00:00Z</td><td>966-80-6343</td><td>82866</td></tr><tr><td>86</td><td>Elma</td><td>Chau</td><td>Rossiter</td><td>F</td><td>1958-10-22T04:00:00Z</td><td>973-86-1495</td><td>80696</td></tr><tr><td>87</td><td>Luella</td><td>Cecile</td><td>Gant</td><td>F</td><td>1967-10-05T04:00:00Z</td><td>983-10-1764</td><td>78464</td></tr><tr><td>88</td><td>In</td><td>Susann</td><td>Lacroix</td><td>F</td><td>1999-07-23T04:00:00Z</td><td>907-56-8358</td><td>70873</td></tr><tr><td>89</td><td>Lizabeth</td><td>Sommer</td><td>Mayze</td><td>F</td><td>1971-04-24T05:00:00Z</td><td>981-26-7152</td><td>61597</td></tr><tr><td>90</td><td>Alice</td><td>Marisol</td><td>Novill</td><td>F</td><td>1992-05-21T04:00:00Z</td><td>924-10-7563</td><td>34053</td></tr><tr><td>91</td><td>Emelina</td><td>Joel</td><td>Skudder</td><td>F</td><td>1962-01-05T05:00:00Z</td><td>929-14-4074</td><td>53763</td></tr><tr><td>92</td><td>Ingeborg</td><td>Barbara</td><td>Darko</td><td>F</td><td>1982-01-18T05:00:00Z</td><td>989-81-9045</td><td>62846</td></tr><tr><td>93</td><td>Tonja</td><td>Sumiko</td><td>Druery</td><td>F</td><td>1969-03-12T05:00:00Z</td><td>902-58-6244</td><td>63075</td></tr><tr><td>94</td><td>Nila</td><td>Madelene</td><td>Gothard</td><td>F</td><td>1963-12-05T05:00:00Z</td><td>906-58-8356</td><td>100950</td></tr><tr><td>95</td><td>Rochelle</td><td>Ronni</td><td>Roycroft</td><td>F</td><td>1986-02-14T05:00:00Z</td><td>935-80-5907</td><td>92524</td></tr><tr><td>96</td><td>Flo</td><td>Jena</td><td>Broomer</td><td>F</td><td>1975-06-12T04:00:00Z</td><td>950-63-4472</td><td>47349</td></tr><tr><td>97</td><td>Jonell</td><td>Alia</td><td>Gifkins</td><td>F</td><td>1966-07-12T04:00:00Z</td><td>942-12-1605</td><td>84084</td></tr><tr><td>98</td><td>Perla</td><td>Delphia</td><td>Brimley</td><td>F</td><td>1965-07-31T04:00:00Z</td><td>934-71-2961</td><td>65425</td></tr><tr><td>99</td><td>Rheba</td><td>Charlesetta</td><td>Chatwood</td><td>F</td><td>1974-04-01T04:00:00Z</td><td>995-65-8928</td><td>76773</td></tr><tr><td>100</td><td>Annalisa</td><td>Nova</td><td>Patesel</td><td>F</td><td>1974-01-25T04:00:00Z</td><td>922-68-2542</td><td>66481</td></tr></tbody></table></div>"
      ]
     },
     "metadata": {
      "application/vnd.databricks.v1+output": {
       "addedWidgets": {},
       "aggData": [],
       "aggError": "",
       "aggOverflow": false,
       "aggSchema": [],
       "aggSeriesLimitReached": false,
       "aggType": "",
       "arguments": {},
       "columnCustomDisplayInfos": {},
       "data": [
        [
         1,
         "Pennie",
         "Carry",
         "Hirschmann",
         "F",
         "1955-07-02T04:00:00Z",
         "981-43-9345",
         56172
        ],
        [
         2,
         "An",
         "Amira",
         "Cowper",
         "F",
         "1992-02-08T05:00:00Z",
         "978-97-8086",
         40203
        ],
        [
         3,
         "Quyen",
         "Marlen",
         "Dome",
         "F",
         "1970-10-11T04:00:00Z",
         "957-57-8246",
         53417
        ],
        [
         4,
         "Coralie",
         "Antonina",
         "Marshal",
         "F",
         "1990-04-11T04:00:00Z",
         "963-39-4885",
         94727
        ],
        [
         5,
         "Terrie",
         "Wava",
         "Bonar",
         "F",
         "1980-01-16T05:00:00Z",
         "964-49-8051",
         79908
        ],
        [
         6,
         "Chassidy",
         "Concepcion",
         "Bourthouloume",
         "F",
         "1990-11-24T05:00:00Z",
         "954-59-9172",
         64652
        ],
        [
         7,
         "Geri",
         "Tambra",
         "Mosby",
         "F",
         "1970-12-19T05:00:00Z",
         "968-16-4020",
         38195
        ],
        [
         8,
         "Patria",
         "Nancy",
         "Arstall",
         "F",
         "1985-01-02T05:00:00Z",
         "984-76-3770",
         102053
        ],
        [
         9,
         "Terese",
         "Alfredia",
         "Tocque",
         "F",
         "1967-11-17T05:00:00Z",
         "967-48-7309",
         91294
        ],
        [
         10,
         "Wava",
         "Lyndsey",
         "Jeandon",
         "F",
         "1963-12-30T05:00:00Z",
         "997-82-2946",
         56521
        ],
        [
         11,
         "Sophie",
         "Emerita",
         "Hearn",
         "F",
         "1979-09-17T04:00:00Z",
         "977-66-4483",
         90920
        ],
        [
         12,
         "Jodie",
         "Tabetha",
         "Laneham",
         "F",
         "1959-01-31T05:00:00Z",
         "923-24-9769",
         90634
        ],
        [
         13,
         "Marietta",
         "Mandi",
         "Yansons",
         "F",
         "1974-02-19T04:00:00Z",
         "900-34-8083",
         93162
        ],
        [
         14,
         "Caridad",
         "Maire",
         "Snelle",
         "F",
         "1960-09-26T04:00:00Z",
         "992-11-7062",
         38859
        ],
        [
         15,
         "Yasmine",
         "Meg",
         "Edworthye",
         "F",
         "1960-01-29T05:00:00Z",
         "922-12-9862",
         76220
        ],
        [
         16,
         "Chan",
         "Jani",
         "Hartas",
         "F",
         "1986-12-05T05:00:00Z",
         "995-51-3115",
         75050
        ],
        [
         17,
         "Evangeline",
         "Wanetta",
         "Casserley",
         "F",
         "1961-09-29T04:00:00Z",
         "926-61-3526",
         62814
        ],
        [
         18,
         "Elnora",
         "Kecia",
         "Lipman",
         "F",
         "1980-02-14T05:00:00Z",
         "950-23-9739",
         71350
        ],
        [
         19,
         "Adelle",
         "Kathyrn",
         "Grigoriev",
         "F",
         "1978-11-14T05:00:00Z",
         "923-23-5984",
         60600
        ],
        [
         20,
         "Mica",
         "Zandra",
         "Challens",
         "F",
         "1973-11-24T05:00:00Z",
         "918-66-1232",
         51071
        ],
        [
         21,
         "Sarah",
         "Nickie",
         "Sadgrove",
         "F",
         "1990-11-07T05:00:00Z",
         "913-18-2717",
         101046
        ],
        [
         22,
         "Robbin",
         "Leeanne",
         "Sallnow",
         "F",
         "1958-12-16T05:00:00Z",
         "938-88-6975",
         98588
        ],
        [
         23,
         "Caroyln",
         "Mamie",
         "Cardon",
         "F",
         "1994-05-15T04:00:00Z",
         "927-52-5062",
         60449
        ],
        [
         24,
         "Penni",
         "Stevie",
         "Searby",
         "F",
         "1955-03-23T05:00:00Z",
         "951-65-9959",
         83728
        ],
        [
         25,
         "Yesenia",
         "Eileen",
         "Goldring",
         "F",
         "1997-07-09T04:00:00Z",
         "920-71-3216",
         73060
        ],
        [
         26,
         "Frankie",
         "Jovan",
         "Lydall",
         "F",
         "1976-07-08T04:00:00Z",
         "911-59-3216",
         105270
        ],
        [
         27,
         "Venetta",
         "Laura",
         "Komorowski",
         "F",
         "1960-12-01T05:00:00Z",
         "921-55-9589",
         38186
        ],
        [
         28,
         "Marget",
         "Thao",
         "Lundbeck",
         "F",
         "1961-04-07T05:00:00Z",
         "979-14-7198",
         67310
        ],
        [
         29,
         "Leeann",
         "Verlene",
         "Hewes",
         "F",
         "1985-01-03T05:00:00Z",
         "905-67-9311",
         107411
        ],
        [
         30,
         "Noella",
         "Isabella",
         "Ubsdell",
         "F",
         "1975-04-20T04:00:00Z",
         "919-78-4521",
         67250
        ],
        [
         31,
         "Elly",
         "Natividad",
         "Iorns",
         "F",
         "1967-04-28T05:00:00Z",
         "905-52-3088",
         80919
        ],
        [
         32,
         "Hedwig",
         "Dulcie",
         "Pendleberry",
         "F",
         "1998-12-02T05:00:00Z",
         "666-51-9916",
         60857
        ],
        [
         33,
         "Bridget",
         "Brande",
         "Perche",
         "F",
         "1989-03-07T05:00:00Z",
         "928-39-7663",
         58615
        ],
        [
         34,
         "Soo",
         "Laurena",
         "Danovich",
         "F",
         "1977-11-20T05:00:00Z",
         "908-19-5146",
         57712
        ],
        [
         35,
         "Hanh",
         "Juliet",
         "Stiegers",
         "F",
         "1989-09-09T04:00:00Z",
         "905-35-6642",
         91772
        ],
        [
         36,
         "Lucretia",
         "Marna",
         "Beekman",
         "F",
         "1982-08-16T04:00:00Z",
         "909-68-3003",
         92152
        ],
        [
         37,
         "Stasia",
         "Perla",
         "Manoch",
         "F",
         "1989-04-26T04:00:00Z",
         "936-61-9195",
         58131
        ],
        [
         38,
         "Nena",
         "Jamika",
         "Hinkes",
         "F",
         "1964-02-29T05:00:00Z",
         "937-51-9958",
         82412
        ],
        [
         39,
         "Kala",
         "Violeta",
         "Lyfe",
         "F",
         "1994-06-23T04:00:00Z",
         "981-88-8006",
         101601
        ],
        [
         40,
         "Alethea",
         "Dolly",
         "Brickdale",
         "F",
         "1960-06-26T04:00:00Z",
         "908-46-4236",
         89151
        ],
        [
         41,
         "Felisha",
         "Hiroko",
         "Hayland",
         "F",
         "1959-12-13T05:00:00Z",
         "914-65-8532",
         98256
        ],
        [
         42,
         "Gussie",
         "India",
         "McKeeman",
         "F",
         "1991-11-15T05:00:00Z",
         "922-91-9943",
         46945
        ],
        [
         43,
         "Page",
         "Salina",
         "McHaffy",
         "F",
         "1956-09-14T04:00:00Z",
         "900-96-5804",
         115410
        ],
        [
         44,
         "Idell",
         "Ami",
         "Ateggart",
         "F",
         "1977-06-26T04:00:00Z",
         "979-47-6065",
         89747
        ],
        [
         45,
         "Leonia",
         "Elda",
         "Windrass",
         "F",
         "1961-11-05T05:00:00Z",
         "927-67-2402",
         87159
        ],
        [
         46,
         "Eleonore",
         "Erma",
         "Leport",
         "F",
         "1973-06-13T04:00:00Z",
         "953-54-9836",
         98072
        ],
        [
         47,
         "Logan",
         "Magaly",
         "Siggs",
         "F",
         "1974-07-16T04:00:00Z",
         "948-66-9847",
         55780
        ],
        [
         48,
         "Carie",
         "Serina",
         "Waryk",
         "F",
         "1957-02-11T05:00:00Z",
         "980-30-1656",
         52549
        ],
        [
         49,
         "Pansy",
         "Suzie",
         "Shrieves",
         "F",
         "1991-05-24T04:00:00Z",
         "910-16-4444",
         73811
        ],
        [
         50,
         "Malissa",
         "Amada",
         "McRill",
         "F",
         "1958-05-02T04:00:00Z",
         "954-65-2862",
         115845
        ],
        [
         51,
         "Blythe",
         "Carri",
         "Crinkley",
         "F",
         "1973-03-08T05:00:00Z",
         "998-29-3568",
         112662
        ],
        [
         52,
         "Marketta",
         "Rachele",
         "Borg-Bartolo",
         "F",
         "1975-10-10T04:00:00Z",
         "981-60-8178",
         66712
        ],
        [
         53,
         "Curtis",
         "Tempie",
         "Sponton",
         "F",
         "1980-07-23T04:00:00Z",
         "997-70-4544",
         74767
        ],
        [
         54,
         "Maricela",
         "Elane",
         "Heinel",
         "F",
         "1972-12-21T05:00:00Z",
         "931-49-8310",
         67801
        ],
        [
         55,
         "Delpha",
         "Michelina",
         "Biggadike",
         "F",
         "1957-09-30T04:00:00Z",
         "987-71-9556",
         104262
        ],
        [
         56,
         "Bernita",
         "Kathaleen",
         "McIan",
         "F",
         "1971-02-20T05:00:00Z",
         "982-68-4659",
         48781
        ],
        [
         57,
         "Jesusa",
         "Cherise",
         "Parysowna",
         "F",
         "1988-03-14T05:00:00Z",
         "992-77-3435",
         111979
        ],
        [
         58,
         "Chung",
         "Dian",
         "Dautry",
         "F",
         "1998-01-12T05:00:00Z",
         "946-10-3058",
         47190
        ],
        [
         59,
         "Vickie",
         "Ranae",
         "Saddleton",
         "F",
         "1967-04-01T05:00:00Z",
         "955-57-2783",
         52410
        ],
        [
         60,
         "Sena",
         "Particia",
         "Stittle",
         "F",
         "1956-01-10T05:00:00Z",
         "971-10-8053",
         72745
        ],
        [
         61,
         "Adelia",
         "Gita",
         "Vassel",
         "F",
         "1990-10-24T04:00:00Z",
         "947-17-3832",
         63563
        ],
        [
         62,
         "Erica",
         "Louvenia",
         "O'Drought",
         "F",
         "1991-03-08T05:00:00Z",
         "904-49-5506",
         80113
        ],
        [
         63,
         "Anjanette",
         "Clelia",
         "Hicks",
         "F",
         "1973-10-26T04:00:00Z",
         "981-32-5795",
         61310
        ],
        [
         64,
         "Kari",
         "Rosalyn",
         "Siney",
         "F",
         "1985-04-10T05:00:00Z",
         "935-65-6035",
         65836
        ],
        [
         65,
         "Eliana",
         "Marcie",
         "Gogay",
         "F",
         "1976-05-28T04:00:00Z",
         "984-45-2254",
         32795
        ],
        [
         66,
         "Winter",
         "Esther",
         "Cruddace",
         "F",
         "1989-12-28T05:00:00Z",
         "997-63-7632",
         66115
        ],
        [
         67,
         "Yuri",
         "Elin",
         "Byrne",
         "F",
         "1964-08-18T04:00:00Z",
         "988-62-7594",
         52476
        ],
        [
         68,
         "Kimberely",
         "Beverlee",
         "Mahon",
         "F",
         "1979-01-17T05:00:00Z",
         "941-28-2731",
         92341
        ],
        [
         69,
         "Toya",
         "Waneta",
         "Whebell",
         "F",
         "1989-07-23T04:00:00Z",
         "947-97-1666",
         53715
        ],
        [
         70,
         "Wynona",
         "Maxie",
         "Melia",
         "F",
         "1984-02-13T05:00:00Z",
         "901-85-3278",
         73754
        ],
        [
         71,
         "Katelyn",
         "Merrie",
         "Pocklington",
         "F",
         "1994-01-16T05:00:00Z",
         "949-72-2758",
         77925
        ],
        [
         72,
         "Lianne",
         "Racquel",
         "Bowe",
         "F",
         "1976-01-18T05:00:00Z",
         "935-57-9860",
         114348
        ],
        [
         73,
         "Kayla",
         "Janella",
         "Erskin",
         "F",
         "1965-06-25T04:00:00Z",
         "916-57-2955",
         87593
        ],
        [
         74,
         "Monserrate",
         "Goldie",
         "Trimming",
         "F",
         "1993-09-17T04:00:00Z",
         "930-49-9845",
         57255
        ],
        [
         75,
         "Alica",
         "Elfrieda",
         "Mousdall",
         "F",
         "1953-12-21T05:00:00Z",
         "954-16-6401",
         96490
        ],
        [
         76,
         "Dung",
         "Leslie",
         "Lambswood",
         "F",
         "1968-08-03T04:00:00Z",
         "914-14-5994",
         57409
        ],
        [
         77,
         "Jolene",
         "Vennie",
         "Pindell",
         "F",
         "1983-07-08T04:00:00Z",
         "972-80-1367",
         72379
        ],
        [
         78,
         "Deanne",
         "Lindsay",
         "Lambdin",
         "F",
         "1999-07-28T04:00:00Z",
         "969-87-7115",
         83764
        ],
        [
         79,
         "Carey",
         "Kareen",
         "Ciric",
         "F",
         "1999-02-23T05:00:00Z",
         "913-31-5531",
         93416
        ],
        [
         80,
         "Madison",
         "Iris",
         "Donovan",
         "F",
         "1984-09-05T04:00:00Z",
         "953-91-7481",
         74484
        ],
        [
         81,
         "Lasandra",
         "Lin",
         "Mowne",
         "F",
         "1986-03-30T05:00:00Z",
         "984-79-5062",
         90966
        ],
        [
         82,
         "Joella",
         "Danae",
         "Marxsen",
         "F",
         "1960-09-12T04:00:00Z",
         "998-57-7440",
         109293
        ],
        [
         83,
         "Markita",
         "Shellie",
         "Baskeyfied",
         "F",
         "1960-12-05T05:00:00Z",
         "993-66-4078",
         134393
        ],
        [
         84,
         "Callie",
         "Josephina",
         "Gatley",
         "F",
         "1988-05-25T04:00:00Z",
         "963-80-2930",
         63879
        ],
        [
         85,
         "Maia",
         "Nadene",
         "Putland",
         "F",
         "1979-12-22T05:00:00Z",
         "966-80-6343",
         82866
        ],
        [
         86,
         "Elma",
         "Chau",
         "Rossiter",
         "F",
         "1958-10-22T04:00:00Z",
         "973-86-1495",
         80696
        ],
        [
         87,
         "Luella",
         "Cecile",
         "Gant",
         "F",
         "1967-10-05T04:00:00Z",
         "983-10-1764",
         78464
        ],
        [
         88,
         "In",
         "Susann",
         "Lacroix",
         "F",
         "1999-07-23T04:00:00Z",
         "907-56-8358",
         70873
        ],
        [
         89,
         "Lizabeth",
         "Sommer",
         "Mayze",
         "F",
         "1971-04-24T05:00:00Z",
         "981-26-7152",
         61597
        ],
        [
         90,
         "Alice",
         "Marisol",
         "Novill",
         "F",
         "1992-05-21T04:00:00Z",
         "924-10-7563",
         34053
        ],
        [
         91,
         "Emelina",
         "Joel",
         "Skudder",
         "F",
         "1962-01-05T05:00:00Z",
         "929-14-4074",
         53763
        ],
        [
         92,
         "Ingeborg",
         "Barbara",
         "Darko",
         "F",
         "1982-01-18T05:00:00Z",
         "989-81-9045",
         62846
        ],
        [
         93,
         "Tonja",
         "Sumiko",
         "Druery",
         "F",
         "1969-03-12T05:00:00Z",
         "902-58-6244",
         63075
        ],
        [
         94,
         "Nila",
         "Madelene",
         "Gothard",
         "F",
         "1963-12-05T05:00:00Z",
         "906-58-8356",
         100950
        ],
        [
         95,
         "Rochelle",
         "Ronni",
         "Roycroft",
         "F",
         "1986-02-14T05:00:00Z",
         "935-80-5907",
         92524
        ],
        [
         96,
         "Flo",
         "Jena",
         "Broomer",
         "F",
         "1975-06-12T04:00:00Z",
         "950-63-4472",
         47349
        ],
        [
         97,
         "Jonell",
         "Alia",
         "Gifkins",
         "F",
         "1966-07-12T04:00:00Z",
         "942-12-1605",
         84084
        ],
        [
         98,
         "Perla",
         "Delphia",
         "Brimley",
         "F",
         "1965-07-31T04:00:00Z",
         "934-71-2961",
         65425
        ],
        [
         99,
         "Rheba",
         "Charlesetta",
         "Chatwood",
         "F",
         "1974-04-01T04:00:00Z",
         "995-65-8928",
         76773
        ],
        [
         100,
         "Annalisa",
         "Nova",
         "Patesel",
         "F",
         "1974-01-25T04:00:00Z",
         "922-68-2542",
         66481
        ]
       ],
       "datasetInfos": [],
       "dbfsResultPath": null,
       "isJsonSchema": true,
       "metadata": {},
       "overflow": false,
       "plotOptions": {
        "customPlotOptions": {},
        "displayType": "table",
        "pivotAggregation": null,
        "pivotColumns": null,
        "xColumns": null,
        "yColumns": null
       },
       "removedWidgets": [],
       "schema": [
        {
         "metadata": "{}",
         "name": "id",
         "type": "\"integer\""
        },
        {
         "metadata": "{}",
         "name": "firstName",
         "type": "\"string\""
        },
        {
         "metadata": "{}",
         "name": "middleName",
         "type": "\"string\""
        },
        {
         "metadata": "{}",
         "name": "lastName",
         "type": "\"string\""
        },
        {
         "metadata": "{}",
         "name": "gender",
         "type": "\"string\""
        },
        {
         "metadata": "{}",
         "name": "birthDate",
         "type": "\"timestamp\""
        },
        {
         "metadata": "{}",
         "name": "ssn",
         "type": "\"string\""
        },
        {
         "metadata": "{}",
         "name": "salary",
         "type": "\"integer\""
        }
       ],
       "type": "table"
      }
     },
     "output_type": "display_data"
    }
   ],
   "source": [
    "%python\n",
    "import pyspark.pandas as ps\n",
    "display(ps.read_delta('abfss://dkushari@dkusharistorageaccount.dfs.core.windows.net/marsdemo/delta/volumedemo'))"
   ]
  },
  {
   "cell_type": "code",
   "execution_count": 0,
   "metadata": {
    "application/vnd.databricks.v1+cell": {
     "cellMetadata": {
      "byteLimit": 2048000,
      "rowLimit": 10000
     },
     "inputWidgets": {},
     "nuid": "3bb72f83-14e8-41bc-bb2f-7815541fb58c",
     "showTitle": false,
     "tableResultSettingsMap": {},
     "title": ""
    }
   },
   "outputs": [
    {
     "output_type": "stream",
     "name": "stderr",
     "output_type": "stream",
     "text": [
      "/databricks/spark/python/pyspark/pandas/utils.py:1035: PandasAPIOnSparkAdviceWarning: If `index_col` is not specified for `read_parquet`, the default index is attached which can cause additional overhead.\n  warnings.warn(message, PandasAPIOnSparkAdviceWarning)\n/databricks/spark/python/pyspark/pandas/utils.py:1035: PandasAPIOnSparkAdviceWarning: If `index_col` is not specified for `to_spark`, the existing index is lost when converting to Spark DataFrame.\n  warnings.warn(message, PandasAPIOnSparkAdviceWarning)\n"
     ]
    },
    {
     "output_type": "display_data",
     "data": {
      "text/html": [
       "<style scoped>\n",
       "  .table-result-container {\n",
       "    max-height: 300px;\n",
       "    overflow: auto;\n",
       "  }\n",
       "  table, th, td {\n",
       "    border: 1px solid black;\n",
       "    border-collapse: collapse;\n",
       "  }\n",
       "  th, td {\n",
       "    padding: 5px;\n",
       "  }\n",
       "  th {\n",
       "    text-align: left;\n",
       "  }\n",
       "</style><div class='table-result-container'><table class='table-result'><thead style='background-color: white'><tr><th>id</th><th>firstName</th><th>middleName</th><th>lastName</th><th>gender</th><th>birthDate</th><th>ssn</th><th>salary</th></tr></thead><tbody><tr><td>1</td><td>Pennie</td><td>Carry</td><td>Hirschmann</td><td>F</td><td>1955-07-02T04:00:00Z</td><td>981-43-9345</td><td>56172</td></tr><tr><td>2</td><td>An</td><td>Amira</td><td>Cowper</td><td>F</td><td>1992-02-08T05:00:00Z</td><td>978-97-8086</td><td>40203</td></tr><tr><td>3</td><td>Quyen</td><td>Marlen</td><td>Dome</td><td>F</td><td>1970-10-11T04:00:00Z</td><td>957-57-8246</td><td>53417</td></tr><tr><td>4</td><td>Coralie</td><td>Antonina</td><td>Marshal</td><td>F</td><td>1990-04-11T04:00:00Z</td><td>963-39-4885</td><td>94727</td></tr><tr><td>5</td><td>Terrie</td><td>Wava</td><td>Bonar</td><td>F</td><td>1980-01-16T05:00:00Z</td><td>964-49-8051</td><td>79908</td></tr><tr><td>6</td><td>Chassidy</td><td>Concepcion</td><td>Bourthouloume</td><td>F</td><td>1990-11-24T05:00:00Z</td><td>954-59-9172</td><td>64652</td></tr><tr><td>7</td><td>Geri</td><td>Tambra</td><td>Mosby</td><td>F</td><td>1970-12-19T05:00:00Z</td><td>968-16-4020</td><td>38195</td></tr><tr><td>8</td><td>Patria</td><td>Nancy</td><td>Arstall</td><td>F</td><td>1985-01-02T05:00:00Z</td><td>984-76-3770</td><td>102053</td></tr><tr><td>9</td><td>Terese</td><td>Alfredia</td><td>Tocque</td><td>F</td><td>1967-11-17T05:00:00Z</td><td>967-48-7309</td><td>91294</td></tr><tr><td>10</td><td>Wava</td><td>Lyndsey</td><td>Jeandon</td><td>F</td><td>1963-12-30T05:00:00Z</td><td>997-82-2946</td><td>56521</td></tr><tr><td>11</td><td>Sophie</td><td>Emerita</td><td>Hearn</td><td>F</td><td>1979-09-17T04:00:00Z</td><td>977-66-4483</td><td>90920</td></tr><tr><td>12</td><td>Jodie</td><td>Tabetha</td><td>Laneham</td><td>F</td><td>1959-01-31T05:00:00Z</td><td>923-24-9769</td><td>90634</td></tr><tr><td>13</td><td>Marietta</td><td>Mandi</td><td>Yansons</td><td>F</td><td>1974-02-19T04:00:00Z</td><td>900-34-8083</td><td>93162</td></tr><tr><td>14</td><td>Caridad</td><td>Maire</td><td>Snelle</td><td>F</td><td>1960-09-26T04:00:00Z</td><td>992-11-7062</td><td>38859</td></tr><tr><td>15</td><td>Yasmine</td><td>Meg</td><td>Edworthye</td><td>F</td><td>1960-01-29T05:00:00Z</td><td>922-12-9862</td><td>76220</td></tr><tr><td>16</td><td>Chan</td><td>Jani</td><td>Hartas</td><td>F</td><td>1986-12-05T05:00:00Z</td><td>995-51-3115</td><td>75050</td></tr><tr><td>17</td><td>Evangeline</td><td>Wanetta</td><td>Casserley</td><td>F</td><td>1961-09-29T04:00:00Z</td><td>926-61-3526</td><td>62814</td></tr><tr><td>18</td><td>Elnora</td><td>Kecia</td><td>Lipman</td><td>F</td><td>1980-02-14T05:00:00Z</td><td>950-23-9739</td><td>71350</td></tr><tr><td>19</td><td>Adelle</td><td>Kathyrn</td><td>Grigoriev</td><td>F</td><td>1978-11-14T05:00:00Z</td><td>923-23-5984</td><td>60600</td></tr><tr><td>20</td><td>Mica</td><td>Zandra</td><td>Challens</td><td>F</td><td>1973-11-24T05:00:00Z</td><td>918-66-1232</td><td>51071</td></tr><tr><td>21</td><td>Sarah</td><td>Nickie</td><td>Sadgrove</td><td>F</td><td>1990-11-07T05:00:00Z</td><td>913-18-2717</td><td>101046</td></tr><tr><td>22</td><td>Robbin</td><td>Leeanne</td><td>Sallnow</td><td>F</td><td>1958-12-16T05:00:00Z</td><td>938-88-6975</td><td>98588</td></tr><tr><td>23</td><td>Caroyln</td><td>Mamie</td><td>Cardon</td><td>F</td><td>1994-05-15T04:00:00Z</td><td>927-52-5062</td><td>60449</td></tr><tr><td>24</td><td>Penni</td><td>Stevie</td><td>Searby</td><td>F</td><td>1955-03-23T05:00:00Z</td><td>951-65-9959</td><td>83728</td></tr><tr><td>25</td><td>Yesenia</td><td>Eileen</td><td>Goldring</td><td>F</td><td>1997-07-09T04:00:00Z</td><td>920-71-3216</td><td>73060</td></tr><tr><td>26</td><td>Frankie</td><td>Jovan</td><td>Lydall</td><td>F</td><td>1976-07-08T04:00:00Z</td><td>911-59-3216</td><td>105270</td></tr><tr><td>27</td><td>Venetta</td><td>Laura</td><td>Komorowski</td><td>F</td><td>1960-12-01T05:00:00Z</td><td>921-55-9589</td><td>38186</td></tr><tr><td>28</td><td>Marget</td><td>Thao</td><td>Lundbeck</td><td>F</td><td>1961-04-07T05:00:00Z</td><td>979-14-7198</td><td>67310</td></tr><tr><td>29</td><td>Leeann</td><td>Verlene</td><td>Hewes</td><td>F</td><td>1985-01-03T05:00:00Z</td><td>905-67-9311</td><td>107411</td></tr><tr><td>30</td><td>Noella</td><td>Isabella</td><td>Ubsdell</td><td>F</td><td>1975-04-20T04:00:00Z</td><td>919-78-4521</td><td>67250</td></tr><tr><td>31</td><td>Elly</td><td>Natividad</td><td>Iorns</td><td>F</td><td>1967-04-28T05:00:00Z</td><td>905-52-3088</td><td>80919</td></tr><tr><td>32</td><td>Hedwig</td><td>Dulcie</td><td>Pendleberry</td><td>F</td><td>1998-12-02T05:00:00Z</td><td>666-51-9916</td><td>60857</td></tr><tr><td>33</td><td>Bridget</td><td>Brande</td><td>Perche</td><td>F</td><td>1989-03-07T05:00:00Z</td><td>928-39-7663</td><td>58615</td></tr><tr><td>34</td><td>Soo</td><td>Laurena</td><td>Danovich</td><td>F</td><td>1977-11-20T05:00:00Z</td><td>908-19-5146</td><td>57712</td></tr><tr><td>35</td><td>Hanh</td><td>Juliet</td><td>Stiegers</td><td>F</td><td>1989-09-09T04:00:00Z</td><td>905-35-6642</td><td>91772</td></tr><tr><td>36</td><td>Lucretia</td><td>Marna</td><td>Beekman</td><td>F</td><td>1982-08-16T04:00:00Z</td><td>909-68-3003</td><td>92152</td></tr><tr><td>37</td><td>Stasia</td><td>Perla</td><td>Manoch</td><td>F</td><td>1989-04-26T04:00:00Z</td><td>936-61-9195</td><td>58131</td></tr><tr><td>38</td><td>Nena</td><td>Jamika</td><td>Hinkes</td><td>F</td><td>1964-02-29T05:00:00Z</td><td>937-51-9958</td><td>82412</td></tr><tr><td>39</td><td>Kala</td><td>Violeta</td><td>Lyfe</td><td>F</td><td>1994-06-23T04:00:00Z</td><td>981-88-8006</td><td>101601</td></tr><tr><td>40</td><td>Alethea</td><td>Dolly</td><td>Brickdale</td><td>F</td><td>1960-06-26T04:00:00Z</td><td>908-46-4236</td><td>89151</td></tr><tr><td>41</td><td>Felisha</td><td>Hiroko</td><td>Hayland</td><td>F</td><td>1959-12-13T05:00:00Z</td><td>914-65-8532</td><td>98256</td></tr><tr><td>42</td><td>Gussie</td><td>India</td><td>McKeeman</td><td>F</td><td>1991-11-15T05:00:00Z</td><td>922-91-9943</td><td>46945</td></tr><tr><td>43</td><td>Page</td><td>Salina</td><td>McHaffy</td><td>F</td><td>1956-09-14T04:00:00Z</td><td>900-96-5804</td><td>115410</td></tr><tr><td>44</td><td>Idell</td><td>Ami</td><td>Ateggart</td><td>F</td><td>1977-06-26T04:00:00Z</td><td>979-47-6065</td><td>89747</td></tr><tr><td>45</td><td>Leonia</td><td>Elda</td><td>Windrass</td><td>F</td><td>1961-11-05T05:00:00Z</td><td>927-67-2402</td><td>87159</td></tr><tr><td>46</td><td>Eleonore</td><td>Erma</td><td>Leport</td><td>F</td><td>1973-06-13T04:00:00Z</td><td>953-54-9836</td><td>98072</td></tr><tr><td>47</td><td>Logan</td><td>Magaly</td><td>Siggs</td><td>F</td><td>1974-07-16T04:00:00Z</td><td>948-66-9847</td><td>55780</td></tr><tr><td>48</td><td>Carie</td><td>Serina</td><td>Waryk</td><td>F</td><td>1957-02-11T05:00:00Z</td><td>980-30-1656</td><td>52549</td></tr><tr><td>49</td><td>Pansy</td><td>Suzie</td><td>Shrieves</td><td>F</td><td>1991-05-24T04:00:00Z</td><td>910-16-4444</td><td>73811</td></tr><tr><td>50</td><td>Malissa</td><td>Amada</td><td>McRill</td><td>F</td><td>1958-05-02T04:00:00Z</td><td>954-65-2862</td><td>115845</td></tr><tr><td>51</td><td>Blythe</td><td>Carri</td><td>Crinkley</td><td>F</td><td>1973-03-08T05:00:00Z</td><td>998-29-3568</td><td>112662</td></tr><tr><td>52</td><td>Marketta</td><td>Rachele</td><td>Borg-Bartolo</td><td>F</td><td>1975-10-10T04:00:00Z</td><td>981-60-8178</td><td>66712</td></tr><tr><td>53</td><td>Curtis</td><td>Tempie</td><td>Sponton</td><td>F</td><td>1980-07-23T04:00:00Z</td><td>997-70-4544</td><td>74767</td></tr><tr><td>54</td><td>Maricela</td><td>Elane</td><td>Heinel</td><td>F</td><td>1972-12-21T05:00:00Z</td><td>931-49-8310</td><td>67801</td></tr><tr><td>55</td><td>Delpha</td><td>Michelina</td><td>Biggadike</td><td>F</td><td>1957-09-30T04:00:00Z</td><td>987-71-9556</td><td>104262</td></tr><tr><td>56</td><td>Bernita</td><td>Kathaleen</td><td>McIan</td><td>F</td><td>1971-02-20T05:00:00Z</td><td>982-68-4659</td><td>48781</td></tr><tr><td>57</td><td>Jesusa</td><td>Cherise</td><td>Parysowna</td><td>F</td><td>1988-03-14T05:00:00Z</td><td>992-77-3435</td><td>111979</td></tr><tr><td>58</td><td>Chung</td><td>Dian</td><td>Dautry</td><td>F</td><td>1998-01-12T05:00:00Z</td><td>946-10-3058</td><td>47190</td></tr><tr><td>59</td><td>Vickie</td><td>Ranae</td><td>Saddleton</td><td>F</td><td>1967-04-01T05:00:00Z</td><td>955-57-2783</td><td>52410</td></tr><tr><td>60</td><td>Sena</td><td>Particia</td><td>Stittle</td><td>F</td><td>1956-01-10T05:00:00Z</td><td>971-10-8053</td><td>72745</td></tr><tr><td>61</td><td>Adelia</td><td>Gita</td><td>Vassel</td><td>F</td><td>1990-10-24T04:00:00Z</td><td>947-17-3832</td><td>63563</td></tr><tr><td>62</td><td>Erica</td><td>Louvenia</td><td>O'Drought</td><td>F</td><td>1991-03-08T05:00:00Z</td><td>904-49-5506</td><td>80113</td></tr><tr><td>63</td><td>Anjanette</td><td>Clelia</td><td>Hicks</td><td>F</td><td>1973-10-26T04:00:00Z</td><td>981-32-5795</td><td>61310</td></tr><tr><td>64</td><td>Kari</td><td>Rosalyn</td><td>Siney</td><td>F</td><td>1985-04-10T05:00:00Z</td><td>935-65-6035</td><td>65836</td></tr><tr><td>65</td><td>Eliana</td><td>Marcie</td><td>Gogay</td><td>F</td><td>1976-05-28T04:00:00Z</td><td>984-45-2254</td><td>32795</td></tr><tr><td>66</td><td>Winter</td><td>Esther</td><td>Cruddace</td><td>F</td><td>1989-12-28T05:00:00Z</td><td>997-63-7632</td><td>66115</td></tr><tr><td>67</td><td>Yuri</td><td>Elin</td><td>Byrne</td><td>F</td><td>1964-08-18T04:00:00Z</td><td>988-62-7594</td><td>52476</td></tr><tr><td>68</td><td>Kimberely</td><td>Beverlee</td><td>Mahon</td><td>F</td><td>1979-01-17T05:00:00Z</td><td>941-28-2731</td><td>92341</td></tr><tr><td>69</td><td>Toya</td><td>Waneta</td><td>Whebell</td><td>F</td><td>1989-07-23T04:00:00Z</td><td>947-97-1666</td><td>53715</td></tr><tr><td>70</td><td>Wynona</td><td>Maxie</td><td>Melia</td><td>F</td><td>1984-02-13T05:00:00Z</td><td>901-85-3278</td><td>73754</td></tr><tr><td>71</td><td>Katelyn</td><td>Merrie</td><td>Pocklington</td><td>F</td><td>1994-01-16T05:00:00Z</td><td>949-72-2758</td><td>77925</td></tr><tr><td>72</td><td>Lianne</td><td>Racquel</td><td>Bowe</td><td>F</td><td>1976-01-18T05:00:00Z</td><td>935-57-9860</td><td>114348</td></tr><tr><td>73</td><td>Kayla</td><td>Janella</td><td>Erskin</td><td>F</td><td>1965-06-25T04:00:00Z</td><td>916-57-2955</td><td>87593</td></tr><tr><td>74</td><td>Monserrate</td><td>Goldie</td><td>Trimming</td><td>F</td><td>1993-09-17T04:00:00Z</td><td>930-49-9845</td><td>57255</td></tr><tr><td>75</td><td>Alica</td><td>Elfrieda</td><td>Mousdall</td><td>F</td><td>1953-12-21T05:00:00Z</td><td>954-16-6401</td><td>96490</td></tr><tr><td>76</td><td>Dung</td><td>Leslie</td><td>Lambswood</td><td>F</td><td>1968-08-03T04:00:00Z</td><td>914-14-5994</td><td>57409</td></tr><tr><td>77</td><td>Jolene</td><td>Vennie</td><td>Pindell</td><td>F</td><td>1983-07-08T04:00:00Z</td><td>972-80-1367</td><td>72379</td></tr><tr><td>78</td><td>Deanne</td><td>Lindsay</td><td>Lambdin</td><td>F</td><td>1999-07-28T04:00:00Z</td><td>969-87-7115</td><td>83764</td></tr><tr><td>79</td><td>Carey</td><td>Kareen</td><td>Ciric</td><td>F</td><td>1999-02-23T05:00:00Z</td><td>913-31-5531</td><td>93416</td></tr><tr><td>80</td><td>Madison</td><td>Iris</td><td>Donovan</td><td>F</td><td>1984-09-05T04:00:00Z</td><td>953-91-7481</td><td>74484</td></tr><tr><td>81</td><td>Lasandra</td><td>Lin</td><td>Mowne</td><td>F</td><td>1986-03-30T05:00:00Z</td><td>984-79-5062</td><td>90966</td></tr><tr><td>82</td><td>Joella</td><td>Danae</td><td>Marxsen</td><td>F</td><td>1960-09-12T04:00:00Z</td><td>998-57-7440</td><td>109293</td></tr><tr><td>83</td><td>Markita</td><td>Shellie</td><td>Baskeyfied</td><td>F</td><td>1960-12-05T05:00:00Z</td><td>993-66-4078</td><td>134393</td></tr><tr><td>84</td><td>Callie</td><td>Josephina</td><td>Gatley</td><td>F</td><td>1988-05-25T04:00:00Z</td><td>963-80-2930</td><td>63879</td></tr><tr><td>85</td><td>Maia</td><td>Nadene</td><td>Putland</td><td>F</td><td>1979-12-22T05:00:00Z</td><td>966-80-6343</td><td>82866</td></tr><tr><td>86</td><td>Elma</td><td>Chau</td><td>Rossiter</td><td>F</td><td>1958-10-22T04:00:00Z</td><td>973-86-1495</td><td>80696</td></tr><tr><td>87</td><td>Luella</td><td>Cecile</td><td>Gant</td><td>F</td><td>1967-10-05T04:00:00Z</td><td>983-10-1764</td><td>78464</td></tr><tr><td>88</td><td>In</td><td>Susann</td><td>Lacroix</td><td>F</td><td>1999-07-23T04:00:00Z</td><td>907-56-8358</td><td>70873</td></tr><tr><td>89</td><td>Lizabeth</td><td>Sommer</td><td>Mayze</td><td>F</td><td>1971-04-24T05:00:00Z</td><td>981-26-7152</td><td>61597</td></tr><tr><td>90</td><td>Alice</td><td>Marisol</td><td>Novill</td><td>F</td><td>1992-05-21T04:00:00Z</td><td>924-10-7563</td><td>34053</td></tr><tr><td>91</td><td>Emelina</td><td>Joel</td><td>Skudder</td><td>F</td><td>1962-01-05T05:00:00Z</td><td>929-14-4074</td><td>53763</td></tr><tr><td>92</td><td>Ingeborg</td><td>Barbara</td><td>Darko</td><td>F</td><td>1982-01-18T05:00:00Z</td><td>989-81-9045</td><td>62846</td></tr><tr><td>93</td><td>Tonja</td><td>Sumiko</td><td>Druery</td><td>F</td><td>1969-03-12T05:00:00Z</td><td>902-58-6244</td><td>63075</td></tr><tr><td>94</td><td>Nila</td><td>Madelene</td><td>Gothard</td><td>F</td><td>1963-12-05T05:00:00Z</td><td>906-58-8356</td><td>100950</td></tr><tr><td>95</td><td>Rochelle</td><td>Ronni</td><td>Roycroft</td><td>F</td><td>1986-02-14T05:00:00Z</td><td>935-80-5907</td><td>92524</td></tr><tr><td>96</td><td>Flo</td><td>Jena</td><td>Broomer</td><td>F</td><td>1975-06-12T04:00:00Z</td><td>950-63-4472</td><td>47349</td></tr><tr><td>97</td><td>Jonell</td><td>Alia</td><td>Gifkins</td><td>F</td><td>1966-07-12T04:00:00Z</td><td>942-12-1605</td><td>84084</td></tr><tr><td>98</td><td>Perla</td><td>Delphia</td><td>Brimley</td><td>F</td><td>1965-07-31T04:00:00Z</td><td>934-71-2961</td><td>65425</td></tr><tr><td>99</td><td>Rheba</td><td>Charlesetta</td><td>Chatwood</td><td>F</td><td>1974-04-01T04:00:00Z</td><td>995-65-8928</td><td>76773</td></tr><tr><td>100</td><td>Annalisa</td><td>Nova</td><td>Patesel</td><td>F</td><td>1974-01-25T04:00:00Z</td><td>922-68-2542</td><td>66481</td></tr></tbody></table></div>"
      ]
     },
     "metadata": {
      "application/vnd.databricks.v1+output": {
       "addedWidgets": {},
       "aggData": [],
       "aggError": "",
       "aggOverflow": false,
       "aggSchema": [],
       "aggSeriesLimitReached": false,
       "aggType": "",
       "arguments": {},
       "columnCustomDisplayInfos": {},
       "data": [
        [
         1,
         "Pennie",
         "Carry",
         "Hirschmann",
         "F",
         "1955-07-02T04:00:00Z",
         "981-43-9345",
         56172
        ],
        [
         2,
         "An",
         "Amira",
         "Cowper",
         "F",
         "1992-02-08T05:00:00Z",
         "978-97-8086",
         40203
        ],
        [
         3,
         "Quyen",
         "Marlen",
         "Dome",
         "F",
         "1970-10-11T04:00:00Z",
         "957-57-8246",
         53417
        ],
        [
         4,
         "Coralie",
         "Antonina",
         "Marshal",
         "F",
         "1990-04-11T04:00:00Z",
         "963-39-4885",
         94727
        ],
        [
         5,
         "Terrie",
         "Wava",
         "Bonar",
         "F",
         "1980-01-16T05:00:00Z",
         "964-49-8051",
         79908
        ],
        [
         6,
         "Chassidy",
         "Concepcion",
         "Bourthouloume",
         "F",
         "1990-11-24T05:00:00Z",
         "954-59-9172",
         64652
        ],
        [
         7,
         "Geri",
         "Tambra",
         "Mosby",
         "F",
         "1970-12-19T05:00:00Z",
         "968-16-4020",
         38195
        ],
        [
         8,
         "Patria",
         "Nancy",
         "Arstall",
         "F",
         "1985-01-02T05:00:00Z",
         "984-76-3770",
         102053
        ],
        [
         9,
         "Terese",
         "Alfredia",
         "Tocque",
         "F",
         "1967-11-17T05:00:00Z",
         "967-48-7309",
         91294
        ],
        [
         10,
         "Wava",
         "Lyndsey",
         "Jeandon",
         "F",
         "1963-12-30T05:00:00Z",
         "997-82-2946",
         56521
        ],
        [
         11,
         "Sophie",
         "Emerita",
         "Hearn",
         "F",
         "1979-09-17T04:00:00Z",
         "977-66-4483",
         90920
        ],
        [
         12,
         "Jodie",
         "Tabetha",
         "Laneham",
         "F",
         "1959-01-31T05:00:00Z",
         "923-24-9769",
         90634
        ],
        [
         13,
         "Marietta",
         "Mandi",
         "Yansons",
         "F",
         "1974-02-19T04:00:00Z",
         "900-34-8083",
         93162
        ],
        [
         14,
         "Caridad",
         "Maire",
         "Snelle",
         "F",
         "1960-09-26T04:00:00Z",
         "992-11-7062",
         38859
        ],
        [
         15,
         "Yasmine",
         "Meg",
         "Edworthye",
         "F",
         "1960-01-29T05:00:00Z",
         "922-12-9862",
         76220
        ],
        [
         16,
         "Chan",
         "Jani",
         "Hartas",
         "F",
         "1986-12-05T05:00:00Z",
         "995-51-3115",
         75050
        ],
        [
         17,
         "Evangeline",
         "Wanetta",
         "Casserley",
         "F",
         "1961-09-29T04:00:00Z",
         "926-61-3526",
         62814
        ],
        [
         18,
         "Elnora",
         "Kecia",
         "Lipman",
         "F",
         "1980-02-14T05:00:00Z",
         "950-23-9739",
         71350
        ],
        [
         19,
         "Adelle",
         "Kathyrn",
         "Grigoriev",
         "F",
         "1978-11-14T05:00:00Z",
         "923-23-5984",
         60600
        ],
        [
         20,
         "Mica",
         "Zandra",
         "Challens",
         "F",
         "1973-11-24T05:00:00Z",
         "918-66-1232",
         51071
        ],
        [
         21,
         "Sarah",
         "Nickie",
         "Sadgrove",
         "F",
         "1990-11-07T05:00:00Z",
         "913-18-2717",
         101046
        ],
        [
         22,
         "Robbin",
         "Leeanne",
         "Sallnow",
         "F",
         "1958-12-16T05:00:00Z",
         "938-88-6975",
         98588
        ],
        [
         23,
         "Caroyln",
         "Mamie",
         "Cardon",
         "F",
         "1994-05-15T04:00:00Z",
         "927-52-5062",
         60449
        ],
        [
         24,
         "Penni",
         "Stevie",
         "Searby",
         "F",
         "1955-03-23T05:00:00Z",
         "951-65-9959",
         83728
        ],
        [
         25,
         "Yesenia",
         "Eileen",
         "Goldring",
         "F",
         "1997-07-09T04:00:00Z",
         "920-71-3216",
         73060
        ],
        [
         26,
         "Frankie",
         "Jovan",
         "Lydall",
         "F",
         "1976-07-08T04:00:00Z",
         "911-59-3216",
         105270
        ],
        [
         27,
         "Venetta",
         "Laura",
         "Komorowski",
         "F",
         "1960-12-01T05:00:00Z",
         "921-55-9589",
         38186
        ],
        [
         28,
         "Marget",
         "Thao",
         "Lundbeck",
         "F",
         "1961-04-07T05:00:00Z",
         "979-14-7198",
         67310
        ],
        [
         29,
         "Leeann",
         "Verlene",
         "Hewes",
         "F",
         "1985-01-03T05:00:00Z",
         "905-67-9311",
         107411
        ],
        [
         30,
         "Noella",
         "Isabella",
         "Ubsdell",
         "F",
         "1975-04-20T04:00:00Z",
         "919-78-4521",
         67250
        ],
        [
         31,
         "Elly",
         "Natividad",
         "Iorns",
         "F",
         "1967-04-28T05:00:00Z",
         "905-52-3088",
         80919
        ],
        [
         32,
         "Hedwig",
         "Dulcie",
         "Pendleberry",
         "F",
         "1998-12-02T05:00:00Z",
         "666-51-9916",
         60857
        ],
        [
         33,
         "Bridget",
         "Brande",
         "Perche",
         "F",
         "1989-03-07T05:00:00Z",
         "928-39-7663",
         58615
        ],
        [
         34,
         "Soo",
         "Laurena",
         "Danovich",
         "F",
         "1977-11-20T05:00:00Z",
         "908-19-5146",
         57712
        ],
        [
         35,
         "Hanh",
         "Juliet",
         "Stiegers",
         "F",
         "1989-09-09T04:00:00Z",
         "905-35-6642",
         91772
        ],
        [
         36,
         "Lucretia",
         "Marna",
         "Beekman",
         "F",
         "1982-08-16T04:00:00Z",
         "909-68-3003",
         92152
        ],
        [
         37,
         "Stasia",
         "Perla",
         "Manoch",
         "F",
         "1989-04-26T04:00:00Z",
         "936-61-9195",
         58131
        ],
        [
         38,
         "Nena",
         "Jamika",
         "Hinkes",
         "F",
         "1964-02-29T05:00:00Z",
         "937-51-9958",
         82412
        ],
        [
         39,
         "Kala",
         "Violeta",
         "Lyfe",
         "F",
         "1994-06-23T04:00:00Z",
         "981-88-8006",
         101601
        ],
        [
         40,
         "Alethea",
         "Dolly",
         "Brickdale",
         "F",
         "1960-06-26T04:00:00Z",
         "908-46-4236",
         89151
        ],
        [
         41,
         "Felisha",
         "Hiroko",
         "Hayland",
         "F",
         "1959-12-13T05:00:00Z",
         "914-65-8532",
         98256
        ],
        [
         42,
         "Gussie",
         "India",
         "McKeeman",
         "F",
         "1991-11-15T05:00:00Z",
         "922-91-9943",
         46945
        ],
        [
         43,
         "Page",
         "Salina",
         "McHaffy",
         "F",
         "1956-09-14T04:00:00Z",
         "900-96-5804",
         115410
        ],
        [
         44,
         "Idell",
         "Ami",
         "Ateggart",
         "F",
         "1977-06-26T04:00:00Z",
         "979-47-6065",
         89747
        ],
        [
         45,
         "Leonia",
         "Elda",
         "Windrass",
         "F",
         "1961-11-05T05:00:00Z",
         "927-67-2402",
         87159
        ],
        [
         46,
         "Eleonore",
         "Erma",
         "Leport",
         "F",
         "1973-06-13T04:00:00Z",
         "953-54-9836",
         98072
        ],
        [
         47,
         "Logan",
         "Magaly",
         "Siggs",
         "F",
         "1974-07-16T04:00:00Z",
         "948-66-9847",
         55780
        ],
        [
         48,
         "Carie",
         "Serina",
         "Waryk",
         "F",
         "1957-02-11T05:00:00Z",
         "980-30-1656",
         52549
        ],
        [
         49,
         "Pansy",
         "Suzie",
         "Shrieves",
         "F",
         "1991-05-24T04:00:00Z",
         "910-16-4444",
         73811
        ],
        [
         50,
         "Malissa",
         "Amada",
         "McRill",
         "F",
         "1958-05-02T04:00:00Z",
         "954-65-2862",
         115845
        ],
        [
         51,
         "Blythe",
         "Carri",
         "Crinkley",
         "F",
         "1973-03-08T05:00:00Z",
         "998-29-3568",
         112662
        ],
        [
         52,
         "Marketta",
         "Rachele",
         "Borg-Bartolo",
         "F",
         "1975-10-10T04:00:00Z",
         "981-60-8178",
         66712
        ],
        [
         53,
         "Curtis",
         "Tempie",
         "Sponton",
         "F",
         "1980-07-23T04:00:00Z",
         "997-70-4544",
         74767
        ],
        [
         54,
         "Maricela",
         "Elane",
         "Heinel",
         "F",
         "1972-12-21T05:00:00Z",
         "931-49-8310",
         67801
        ],
        [
         55,
         "Delpha",
         "Michelina",
         "Biggadike",
         "F",
         "1957-09-30T04:00:00Z",
         "987-71-9556",
         104262
        ],
        [
         56,
         "Bernita",
         "Kathaleen",
         "McIan",
         "F",
         "1971-02-20T05:00:00Z",
         "982-68-4659",
         48781
        ],
        [
         57,
         "Jesusa",
         "Cherise",
         "Parysowna",
         "F",
         "1988-03-14T05:00:00Z",
         "992-77-3435",
         111979
        ],
        [
         58,
         "Chung",
         "Dian",
         "Dautry",
         "F",
         "1998-01-12T05:00:00Z",
         "946-10-3058",
         47190
        ],
        [
         59,
         "Vickie",
         "Ranae",
         "Saddleton",
         "F",
         "1967-04-01T05:00:00Z",
         "955-57-2783",
         52410
        ],
        [
         60,
         "Sena",
         "Particia",
         "Stittle",
         "F",
         "1956-01-10T05:00:00Z",
         "971-10-8053",
         72745
        ],
        [
         61,
         "Adelia",
         "Gita",
         "Vassel",
         "F",
         "1990-10-24T04:00:00Z",
         "947-17-3832",
         63563
        ],
        [
         62,
         "Erica",
         "Louvenia",
         "O'Drought",
         "F",
         "1991-03-08T05:00:00Z",
         "904-49-5506",
         80113
        ],
        [
         63,
         "Anjanette",
         "Clelia",
         "Hicks",
         "F",
         "1973-10-26T04:00:00Z",
         "981-32-5795",
         61310
        ],
        [
         64,
         "Kari",
         "Rosalyn",
         "Siney",
         "F",
         "1985-04-10T05:00:00Z",
         "935-65-6035",
         65836
        ],
        [
         65,
         "Eliana",
         "Marcie",
         "Gogay",
         "F",
         "1976-05-28T04:00:00Z",
         "984-45-2254",
         32795
        ],
        [
         66,
         "Winter",
         "Esther",
         "Cruddace",
         "F",
         "1989-12-28T05:00:00Z",
         "997-63-7632",
         66115
        ],
        [
         67,
         "Yuri",
         "Elin",
         "Byrne",
         "F",
         "1964-08-18T04:00:00Z",
         "988-62-7594",
         52476
        ],
        [
         68,
         "Kimberely",
         "Beverlee",
         "Mahon",
         "F",
         "1979-01-17T05:00:00Z",
         "941-28-2731",
         92341
        ],
        [
         69,
         "Toya",
         "Waneta",
         "Whebell",
         "F",
         "1989-07-23T04:00:00Z",
         "947-97-1666",
         53715
        ],
        [
         70,
         "Wynona",
         "Maxie",
         "Melia",
         "F",
         "1984-02-13T05:00:00Z",
         "901-85-3278",
         73754
        ],
        [
         71,
         "Katelyn",
         "Merrie",
         "Pocklington",
         "F",
         "1994-01-16T05:00:00Z",
         "949-72-2758",
         77925
        ],
        [
         72,
         "Lianne",
         "Racquel",
         "Bowe",
         "F",
         "1976-01-18T05:00:00Z",
         "935-57-9860",
         114348
        ],
        [
         73,
         "Kayla",
         "Janella",
         "Erskin",
         "F",
         "1965-06-25T04:00:00Z",
         "916-57-2955",
         87593
        ],
        [
         74,
         "Monserrate",
         "Goldie",
         "Trimming",
         "F",
         "1993-09-17T04:00:00Z",
         "930-49-9845",
         57255
        ],
        [
         75,
         "Alica",
         "Elfrieda",
         "Mousdall",
         "F",
         "1953-12-21T05:00:00Z",
         "954-16-6401",
         96490
        ],
        [
         76,
         "Dung",
         "Leslie",
         "Lambswood",
         "F",
         "1968-08-03T04:00:00Z",
         "914-14-5994",
         57409
        ],
        [
         77,
         "Jolene",
         "Vennie",
         "Pindell",
         "F",
         "1983-07-08T04:00:00Z",
         "972-80-1367",
         72379
        ],
        [
         78,
         "Deanne",
         "Lindsay",
         "Lambdin",
         "F",
         "1999-07-28T04:00:00Z",
         "969-87-7115",
         83764
        ],
        [
         79,
         "Carey",
         "Kareen",
         "Ciric",
         "F",
         "1999-02-23T05:00:00Z",
         "913-31-5531",
         93416
        ],
        [
         80,
         "Madison",
         "Iris",
         "Donovan",
         "F",
         "1984-09-05T04:00:00Z",
         "953-91-7481",
         74484
        ],
        [
         81,
         "Lasandra",
         "Lin",
         "Mowne",
         "F",
         "1986-03-30T05:00:00Z",
         "984-79-5062",
         90966
        ],
        [
         82,
         "Joella",
         "Danae",
         "Marxsen",
         "F",
         "1960-09-12T04:00:00Z",
         "998-57-7440",
         109293
        ],
        [
         83,
         "Markita",
         "Shellie",
         "Baskeyfied",
         "F",
         "1960-12-05T05:00:00Z",
         "993-66-4078",
         134393
        ],
        [
         84,
         "Callie",
         "Josephina",
         "Gatley",
         "F",
         "1988-05-25T04:00:00Z",
         "963-80-2930",
         63879
        ],
        [
         85,
         "Maia",
         "Nadene",
         "Putland",
         "F",
         "1979-12-22T05:00:00Z",
         "966-80-6343",
         82866
        ],
        [
         86,
         "Elma",
         "Chau",
         "Rossiter",
         "F",
         "1958-10-22T04:00:00Z",
         "973-86-1495",
         80696
        ],
        [
         87,
         "Luella",
         "Cecile",
         "Gant",
         "F",
         "1967-10-05T04:00:00Z",
         "983-10-1764",
         78464
        ],
        [
         88,
         "In",
         "Susann",
         "Lacroix",
         "F",
         "1999-07-23T04:00:00Z",
         "907-56-8358",
         70873
        ],
        [
         89,
         "Lizabeth",
         "Sommer",
         "Mayze",
         "F",
         "1971-04-24T05:00:00Z",
         "981-26-7152",
         61597
        ],
        [
         90,
         "Alice",
         "Marisol",
         "Novill",
         "F",
         "1992-05-21T04:00:00Z",
         "924-10-7563",
         34053
        ],
        [
         91,
         "Emelina",
         "Joel",
         "Skudder",
         "F",
         "1962-01-05T05:00:00Z",
         "929-14-4074",
         53763
        ],
        [
         92,
         "Ingeborg",
         "Barbara",
         "Darko",
         "F",
         "1982-01-18T05:00:00Z",
         "989-81-9045",
         62846
        ],
        [
         93,
         "Tonja",
         "Sumiko",
         "Druery",
         "F",
         "1969-03-12T05:00:00Z",
         "902-58-6244",
         63075
        ],
        [
         94,
         "Nila",
         "Madelene",
         "Gothard",
         "F",
         "1963-12-05T05:00:00Z",
         "906-58-8356",
         100950
        ],
        [
         95,
         "Rochelle",
         "Ronni",
         "Roycroft",
         "F",
         "1986-02-14T05:00:00Z",
         "935-80-5907",
         92524
        ],
        [
         96,
         "Flo",
         "Jena",
         "Broomer",
         "F",
         "1975-06-12T04:00:00Z",
         "950-63-4472",
         47349
        ],
        [
         97,
         "Jonell",
         "Alia",
         "Gifkins",
         "F",
         "1966-07-12T04:00:00Z",
         "942-12-1605",
         84084
        ],
        [
         98,
         "Perla",
         "Delphia",
         "Brimley",
         "F",
         "1965-07-31T04:00:00Z",
         "934-71-2961",
         65425
        ],
        [
         99,
         "Rheba",
         "Charlesetta",
         "Chatwood",
         "F",
         "1974-04-01T04:00:00Z",
         "995-65-8928",
         76773
        ],
        [
         100,
         "Annalisa",
         "Nova",
         "Patesel",
         "F",
         "1974-01-25T04:00:00Z",
         "922-68-2542",
         66481
        ]
       ],
       "datasetInfos": [],
       "dbfsResultPath": null,
       "isJsonSchema": true,
       "metadata": {},
       "overflow": false,
       "plotOptions": {
        "customPlotOptions": {},
        "displayType": "table",
        "pivotAggregation": null,
        "pivotColumns": null,
        "xColumns": null,
        "yColumns": null
       },
       "removedWidgets": [],
       "schema": [
        {
         "metadata": "{}",
         "name": "id",
         "type": "\"integer\""
        },
        {
         "metadata": "{}",
         "name": "firstName",
         "type": "\"string\""
        },
        {
         "metadata": "{}",
         "name": "middleName",
         "type": "\"string\""
        },
        {
         "metadata": "{}",
         "name": "lastName",
         "type": "\"string\""
        },
        {
         "metadata": "{}",
         "name": "gender",
         "type": "\"string\""
        },
        {
         "metadata": "{}",
         "name": "birthDate",
         "type": "\"timestamp\""
        },
        {
         "metadata": "{}",
         "name": "ssn",
         "type": "\"string\""
        },
        {
         "metadata": "{}",
         "name": "salary",
         "type": "\"integer\""
        }
       ],
       "type": "table"
      }
     },
     "output_type": "display_data"
    }
   ],
   "source": [
    "%python\n",
    "display(ps.read_parquet('/Volumes/marscat/marsschema/marsdemo_parquet_vol'))"
   ]
  },
  {
   "cell_type": "code",
   "execution_count": 0,
   "metadata": {
    "application/vnd.databricks.v1+cell": {
     "cellMetadata": {
      "byteLimit": 2048000,
      "rowLimit": 10000
     },
     "inputWidgets": {},
     "nuid": "3c6ef47e-0c47-4d97-ac11-b62607c1bfd7",
     "showTitle": true,
     "tableResultSettingsMap": {},
     "title": "Access Volume Data Various Ways - Shell commands via %sh"
    }
   },
   "outputs": [
    {
     "output_type": "stream",
     "name": "stdout",
     "output_type": "stream",
     "text": [
      "total 11\ndrwxrwxrwx 2 nobody nogroup 4096 Mar 26 05:36 _delta_log\n-rwxrwxrwx 1 nobody nogroup 7041 Mar 27 15:18 part-00000-24a8d6a0-75a6-41a4-ba07-a3bd30850232.c000.snappy.parquet\n"
     ]
    }
   ],
   "source": [
    "%sh\n",
    "ls -ltr /Volumes/marscat/MaRsSchema/marsdemo_delta_vol"
   ]
  },
  {
   "cell_type": "code",
   "execution_count": 0,
   "metadata": {
    "application/vnd.databricks.v1+cell": {
     "cellMetadata": {
      "byteLimit": 2048000,
      "rowLimit": 10000
     },
     "inputWidgets": {},
     "nuid": "8a5a025c-f6a4-48de-a6b3-94add108b7ef",
     "showTitle": false,
     "tableResultSettingsMap": {},
     "title": ""
    }
   },
   "outputs": [
    {
     "output_type": "stream",
     "name": "stdout",
     "output_type": "stream",
     "text": [
      "total 18\ndrwxrwxrwx 2 nobody nogroup 4096 Mar 26 05:36 _commits\ndrwxrwxrwx 2 nobody nogroup 4096 Mar 26 05:36 _autostats\ndrwxrwxrwx 2 nobody nogroup 4096 Mar 26 05:36 __tmp_path_dir\n-rwxrwxrwx 1 nobody nogroup 2469 Mar 27 15:18 00000000000000000000.json\n-rwxrwxrwx 1 nobody nogroup 3335 Mar 27 15:18 00000000000000000000.crc\n"
     ]
    }
   ],
   "source": [
    "%sh\n",
    "ls -ltr /Volumes/marscat/marsschema/marsdemo_delta_vol/_delta_log"
   ]
  },
  {
   "cell_type": "code",
   "execution_count": 0,
   "metadata": {
    "application/vnd.databricks.v1+cell": {
     "cellMetadata": {
      "byteLimit": 2048000,
      "rowLimit": 10000
     },
     "inputWidgets": {},
     "nuid": "093597aa-5b2b-4c2d-b31c-92ac8ac6ae91",
     "showTitle": true,
     "tableResultSettingsMap": {},
     "title": "The folder names are case sensitive"
    }
   },
   "outputs": [
    {
     "output_type": "stream",
     "name": "stderr",
     "output_type": "stream",
     "text": [
      "ls: cannot access '/Volumes/marscat/marsschema/marsdemo_delta_vol/_Delta_log': No such file or directory\n"
     ]
    }
   ],
   "source": [
    "%sh\n",
    "ls -ltr /Volumes/marscat/marsschema/marsdemo_delta_vol/_Delta_log"
   ]
  },
  {
   "cell_type": "code",
   "execution_count": 0,
   "metadata": {
    "application/vnd.databricks.v1+cell": {
     "cellMetadata": {
      "byteLimit": 2048000,
      "rowLimit": 10000
     },
     "inputWidgets": {},
     "nuid": "49e172c8-dfd0-48ec-8e6a-0956ed224d54",
     "showTitle": true,
     "tableResultSettingsMap": {},
     "title": "The UC object names are no case insensitive"
    }
   },
   "outputs": [
    {
     "output_type": "stream",
     "name": "stdout",
     "output_type": "stream",
     "text": [
      "total 18\ndrwxrwxrwx 2 nobody nogroup 4096 Mar 26 05:36 _commits\ndrwxrwxrwx 2 nobody nogroup 4096 Mar 26 05:36 _autostats\ndrwxrwxrwx 2 nobody nogroup 4096 Mar 26 05:36 __tmp_path_dir\n-rwxrwxrwx 1 nobody nogroup 2469 Mar 27 15:18 00000000000000000000.json\n-rwxrwxrwx 1 nobody nogroup 3335 Mar 27 15:18 00000000000000000000.crc\n"
     ]
    }
   ],
   "source": [
    "%sh\n",
    "ls -ltr /Volumes/MARSCAT/marsschema/marsdemo_delta_vol/_delta_log"
   ]
  },
  {
   "cell_type": "code",
   "execution_count": 0,
   "metadata": {
    "application/vnd.databricks.v1+cell": {
     "cellMetadata": {
      "byteLimit": 2048000,
      "rowLimit": 10000
     },
     "inputWidgets": {},
     "nuid": "9ed30da8-b28e-4f1b-99d4-c54718a0e2dd",
     "showTitle": false,
     "tableResultSettingsMap": {},
     "title": ""
    }
   },
   "outputs": [
    {
     "output_type": "display_data",
     "data": {
      "text/html": [
       "<style scoped>\n",
       "  .table-result-container {\n",
       "    max-height: 300px;\n",
       "    overflow: auto;\n",
       "  }\n",
       "  table, th, td {\n",
       "    border: 1px solid black;\n",
       "    border-collapse: collapse;\n",
       "  }\n",
       "  th, td {\n",
       "    padding: 5px;\n",
       "  }\n",
       "  th {\n",
       "    text-align: left;\n",
       "  }\n",
       "</style><div class='table-result-container'><table class='table-result'><thead style='background-color: white'><tr><th>path</th><th>name</th><th>size</th><th>modificationTime</th></tr></thead><tbody><tr><td>dbfs:/Volumes/marscat/MARsSchema/marsdemo_delta_Vol/_delta_log/00000000000000000000.crc</td><td>00000000000000000000.crc</td><td>3335</td><td>1743088719000</td></tr></tbody></table></div>"
      ]
     },
     "metadata": {
      "application/vnd.databricks.v1+output": {
       "addedWidgets": {},
       "aggData": [],
       "aggError": "",
       "aggOverflow": false,
       "aggSchema": [],
       "aggSeriesLimitReached": false,
       "aggType": "",
       "arguments": {},
       "columnCustomDisplayInfos": {},
       "data": [
        [
         "dbfs:/Volumes/marscat/MARsSchema/marsdemo_delta_Vol/_delta_log/00000000000000000000.crc",
         "00000000000000000000.crc",
         3335,
         1743088719000
        ]
       ],
       "datasetInfos": [],
       "dbfsResultPath": null,
       "isJsonSchema": true,
       "metadata": {},
       "overflow": false,
       "plotOptions": {
        "customPlotOptions": {},
        "displayType": "table",
        "pivotAggregation": null,
        "pivotColumns": null,
        "xColumns": null,
        "yColumns": null
       },
       "removedWidgets": [],
       "schema": [
        {
         "metadata": "{}",
         "name": "path",
         "type": "\"string\""
        },
        {
         "metadata": "{}",
         "name": "name",
         "type": "\"string\""
        },
        {
         "metadata": "{}",
         "name": "size",
         "type": "\"long\""
        },
        {
         "metadata": "{}",
         "name": "modificationTime",
         "type": "\"long\""
        }
       ],
       "type": "table"
      }
     },
     "output_type": "display_data"
    }
   ],
   "source": [
    "%python\n",
    "display(dbutils.fs.ls(\"/Volumes/marscat/MARsSchema/marsdemo_delta_Vol/_delta_log/00000000000000000000.crc\"))"
   ]
  },
  {
   "cell_type": "code",
   "execution_count": 0,
   "metadata": {
    "application/vnd.databricks.v1+cell": {
     "cellMetadata": {
      "byteLimit": 2048000,
      "rowLimit": 10000
     },
     "inputWidgets": {},
     "nuid": "c385e351-f6a6-4afe-a14c-514af0e2741e",
     "showTitle": false,
     "tableResultSettingsMap": {},
     "title": ""
    }
   },
   "outputs": [
    {
     "output_type": "display_data",
     "data": {
      "text/html": [
       "<style scoped>\n",
       "  .table-result-container {\n",
       "    max-height: 300px;\n",
       "    overflow: auto;\n",
       "  }\n",
       "  table, th, td {\n",
       "    border: 1px solid black;\n",
       "    border-collapse: collapse;\n",
       "  }\n",
       "  th, td {\n",
       "    padding: 5px;\n",
       "  }\n",
       "  th {\n",
       "    text-align: left;\n",
       "  }\n",
       "</style><div class='table-result-container'><table class='table-result'><thead style='background-color: white'><tr><th>add</th><th>commitInfo</th><th>metaData</th><th>protocol</th></tr></thead><tbody><tr><td>null</td><td>List(0118-165440-l8erfx3g, Databricks-Runtime/15.4.x-photon-scala2.12, true, WriteSerializable, List(3114756036330169), CREATE TABLE AS SELECT, List(1, 7041, 100), List([], null, false, [], {}, true), List(true, false), 1743088717909, c09906c6-2d1b-4661-ba2c-d9074a2d759e, 6235569048193142, dipankar.kushari@databricks.com)</td><td>null</td><td>null</td></tr><tr><td>null</td><td>null</td><td>List(1743088714474, List(parquet), 930c8c3a-acef-4f2a-acf9-1177923edf87, List(), {\"type\":\"struct\",\"fields\":[{\"name\":\"id\",\"type\":\"integer\",\"nullable\":true,\"metadata\":{}},{\"name\":\"firstName\",\"type\":\"string\",\"nullable\":true,\"metadata\":{}},{\"name\":\"middleName\",\"type\":\"string\",\"nullable\":true,\"metadata\":{}},{\"name\":\"lastName\",\"type\":\"string\",\"nullable\":true,\"metadata\":{}},{\"name\":\"gender\",\"type\":\"string\",\"nullable\":true,\"metadata\":{}},{\"name\":\"birthDate\",\"type\":\"timestamp\",\"nullable\":true,\"metadata\":{}},{\"name\":\"ssn\",\"type\":\"string\",\"nullable\":true,\"metadata\":{}},{\"name\":\"salary\",\"type\":\"integer\",\"nullable\":true,\"metadata\":{}}]})</td><td>null</td></tr><tr><td>null</td><td>null</td><td>null</td><td>List(1, 2)</td></tr><tr><td>List(true, 1743088717000, part-00000-24a8d6a0-75a6-41a4-ba07-a3bd30850232.c000.snappy.parquet, 7041, {\"numRecords\":100,\"maxValues\":{\"middleName\":\"Zandra\",\"salary\":134393,\"lastName\":\"Yansons\",\"firstName\":\"Yuri\",\"birthDate\":\"1999-07-28T04:00:00.000Z\",\"id\":100,\"gender\":\"F\",\"ssn\":\"998-57-7440\"},\"minValues\":{\"middleName\":\"Alfredia\",\"salary\":32795,\"lastName\":\"Arstall\",\"firstName\":\"Adelia\",\"birthDate\":\"1953-12-21T05:00:00.000Z\",\"id\":1,\"gender\":\"F\",\"ssn\":\"666-51-9916\"},\"nullCount\":{\"middleName\":0,\"salary\":0,\"lastName\":0,\"firstName\":0,\"birthDate\":0,\"id\":0,\"gender\":0,\"ssn\":0}}, List(1743088717000000, 1743088717000000, 1743088717000000, 268435456))</td><td>null</td><td>null</td><td>null</td></tr></tbody></table></div>"
      ]
     },
     "metadata": {
      "application/vnd.databricks.v1+output": {
       "addedWidgets": {},
       "aggData": [],
       "aggError": "",
       "aggOverflow": false,
       "aggSchema": [],
       "aggSeriesLimitReached": false,
       "aggType": "",
       "arguments": {},
       "columnCustomDisplayInfos": {},
       "data": [
        [
         null,
         [
          "0118-165440-l8erfx3g",
          "Databricks-Runtime/15.4.x-photon-scala2.12",
          true,
          "WriteSerializable",
          [
           "3114756036330169"
          ],
          "CREATE TABLE AS SELECT",
          [
           "1",
           "7041",
           "100"
          ],
          [
           "[]",
           null,
           "false",
           "[]",
           "{}",
           true
          ],
          [
           "true",
           "false"
          ],
          1743088717909,
          "c09906c6-2d1b-4661-ba2c-d9074a2d759e",
          "6235569048193142",
          "dipankar.kushari@databricks.com"
         ],
         null,
         null
        ],
        [
         null,
         null,
         [
          1743088714474,
          [
           "parquet"
          ],
          "930c8c3a-acef-4f2a-acf9-1177923edf87",
          [],
          "{\"type\":\"struct\",\"fields\":[{\"name\":\"id\",\"type\":\"integer\",\"nullable\":true,\"metadata\":{}},{\"name\":\"firstName\",\"type\":\"string\",\"nullable\":true,\"metadata\":{}},{\"name\":\"middleName\",\"type\":\"string\",\"nullable\":true,\"metadata\":{}},{\"name\":\"lastName\",\"type\":\"string\",\"nullable\":true,\"metadata\":{}},{\"name\":\"gender\",\"type\":\"string\",\"nullable\":true,\"metadata\":{}},{\"name\":\"birthDate\",\"type\":\"timestamp\",\"nullable\":true,\"metadata\":{}},{\"name\":\"ssn\",\"type\":\"string\",\"nullable\":true,\"metadata\":{}},{\"name\":\"salary\",\"type\":\"integer\",\"nullable\":true,\"metadata\":{}}]}"
         ],
         null
        ],
        [
         null,
         null,
         null,
         [
          1,
          2
         ]
        ],
        [
         [
          true,
          1743088717000,
          "part-00000-24a8d6a0-75a6-41a4-ba07-a3bd30850232.c000.snappy.parquet",
          7041,
          "{\"numRecords\":100,\"maxValues\":{\"middleName\":\"Zandra\",\"salary\":134393,\"lastName\":\"Yansons\",\"firstName\":\"Yuri\",\"birthDate\":\"1999-07-28T04:00:00.000Z\",\"id\":100,\"gender\":\"F\",\"ssn\":\"998-57-7440\"},\"minValues\":{\"middleName\":\"Alfredia\",\"salary\":32795,\"lastName\":\"Arstall\",\"firstName\":\"Adelia\",\"birthDate\":\"1953-12-21T05:00:00.000Z\",\"id\":1,\"gender\":\"F\",\"ssn\":\"666-51-9916\"},\"nullCount\":{\"middleName\":0,\"salary\":0,\"lastName\":0,\"firstName\":0,\"birthDate\":0,\"id\":0,\"gender\":0,\"ssn\":0}}",
          [
           "1743088717000000",
           "1743088717000000",
           "1743088717000000",
           "268435456"
          ]
         ],
         null,
         null,
         null
        ]
       ],
       "datasetInfos": [],
       "dbfsResultPath": null,
       "isJsonSchema": true,
       "metadata": {},
       "overflow": false,
       "plotOptions": {
        "customPlotOptions": {},
        "displayType": "table",
        "pivotAggregation": null,
        "pivotColumns": null,
        "xColumns": null,
        "yColumns": null
       },
       "removedWidgets": [],
       "schema": [
        {
         "metadata": "{}",
         "name": "add",
         "type": "{\"type\":\"struct\",\"fields\":[{\"name\":\"dataChange\",\"type\":\"boolean\",\"nullable\":true,\"metadata\":{}},{\"name\":\"modificationTime\",\"type\":\"long\",\"nullable\":true,\"metadata\":{}},{\"name\":\"path\",\"type\":\"string\",\"nullable\":true,\"metadata\":{}},{\"name\":\"size\",\"type\":\"long\",\"nullable\":true,\"metadata\":{}},{\"name\":\"stats\",\"type\":\"string\",\"nullable\":true,\"metadata\":{}},{\"name\":\"tags\",\"type\":{\"type\":\"struct\",\"fields\":[{\"name\":\"INSERTION_TIME\",\"type\":\"string\",\"nullable\":true,\"metadata\":{}},{\"name\":\"MAX_INSERTION_TIME\",\"type\":\"string\",\"nullable\":true,\"metadata\":{}},{\"name\":\"MIN_INSERTION_TIME\",\"type\":\"string\",\"nullable\":true,\"metadata\":{}},{\"name\":\"OPTIMIZE_TARGET_SIZE\",\"type\":\"string\",\"nullable\":true,\"metadata\":{}}]},\"nullable\":true,\"metadata\":{}}]}"
        },
        {
         "metadata": "{}",
         "name": "commitInfo",
         "type": "{\"type\":\"struct\",\"fields\":[{\"name\":\"clusterId\",\"type\":\"string\",\"nullable\":true,\"metadata\":{}},{\"name\":\"engineInfo\",\"type\":\"string\",\"nullable\":true,\"metadata\":{}},{\"name\":\"isBlindAppend\",\"type\":\"boolean\",\"nullable\":true,\"metadata\":{}},{\"name\":\"isolationLevel\",\"type\":\"string\",\"nullable\":true,\"metadata\":{}},{\"name\":\"notebook\",\"type\":{\"type\":\"struct\",\"fields\":[{\"name\":\"notebookId\",\"type\":\"string\",\"nullable\":true,\"metadata\":{}}]},\"nullable\":true,\"metadata\":{}},{\"name\":\"operation\",\"type\":\"string\",\"nullable\":true,\"metadata\":{}},{\"name\":\"operationMetrics\",\"type\":{\"type\":\"struct\",\"fields\":[{\"name\":\"numFiles\",\"type\":\"string\",\"nullable\":true,\"metadata\":{}},{\"name\":\"numOutputBytes\",\"type\":\"string\",\"nullable\":true,\"metadata\":{}},{\"name\":\"numOutputRows\",\"type\":\"string\",\"nullable\":true,\"metadata\":{}}]},\"nullable\":true,\"metadata\":{}},{\"name\":\"operationParameters\",\"type\":{\"type\":\"struct\",\"fields\":[{\"name\":\"clusterBy\",\"type\":\"string\",\"nullable\":true,\"metadata\":{}},{\"name\":\"description\",\"type\":\"string\",\"nullable\":true,\"metadata\":{}},{\"name\":\"isManaged\",\"type\":\"string\",\"nullable\":true,\"metadata\":{}},{\"name\":\"partitionBy\",\"type\":\"string\",\"nullable\":true,\"metadata\":{}},{\"name\":\"properties\",\"type\":\"string\",\"nullable\":true,\"metadata\":{}},{\"name\":\"statsOnLoad\",\"type\":\"boolean\",\"nullable\":true,\"metadata\":{}}]},\"nullable\":true,\"metadata\":{}},{\"name\":\"tags\",\"type\":{\"type\":\"struct\",\"fields\":[{\"name\":\"noRowsCopied\",\"type\":\"string\",\"nullable\":true,\"metadata\":{}},{\"name\":\"restoresDeletedRows\",\"type\":\"string\",\"nullable\":true,\"metadata\":{}}]},\"nullable\":true,\"metadata\":{}},{\"name\":\"timestamp\",\"type\":\"long\",\"nullable\":true,\"metadata\":{}},{\"name\":\"txnId\",\"type\":\"string\",\"nullable\":true,\"metadata\":{}},{\"name\":\"userId\",\"type\":\"string\",\"nullable\":true,\"metadata\":{}},{\"name\":\"userName\",\"type\":\"string\",\"nullable\":true,\"metadata\":{}}]}"
        },
        {
         "metadata": "{}",
         "name": "metaData",
         "type": "{\"type\":\"struct\",\"fields\":[{\"name\":\"createdTime\",\"type\":\"long\",\"nullable\":true,\"metadata\":{}},{\"name\":\"format\",\"type\":{\"type\":\"struct\",\"fields\":[{\"name\":\"provider\",\"type\":\"string\",\"nullable\":true,\"metadata\":{}}]},\"nullable\":true,\"metadata\":{}},{\"name\":\"id\",\"type\":\"string\",\"nullable\":true,\"metadata\":{}},{\"name\":\"partitionColumns\",\"type\":{\"type\":\"array\",\"elementType\":\"string\",\"containsNull\":true},\"nullable\":true,\"metadata\":{}},{\"name\":\"schemaString\",\"type\":\"string\",\"nullable\":true,\"metadata\":{}}]}"
        },
        {
         "metadata": "{}",
         "name": "protocol",
         "type": "{\"type\":\"struct\",\"fields\":[{\"name\":\"minReaderVersion\",\"type\":\"long\",\"nullable\":true,\"metadata\":{}},{\"name\":\"minWriterVersion\",\"type\":\"long\",\"nullable\":true,\"metadata\":{}}]}"
        }
       ],
       "type": "table"
      }
     },
     "output_type": "display_data"
    }
   ],
   "source": [
    "%python\n",
    "spark.read.format(\"json\").load(\"/Volumes/MARSCAT/MARSSCHEMA/MARSDEMO_DELTA_VOL/_delta_log/00000000000000000000.json\").display()"
   ]
  },
  {
   "cell_type": "code",
   "execution_count": 0,
   "metadata": {
    "application/vnd.databricks.v1+cell": {
     "cellMetadata": {
      "byteLimit": 2048000,
      "rowLimit": 10000
     },
     "inputWidgets": {},
     "nuid": "0648e812-75a9-4b52-b92c-060a6b8bdd8d",
     "showTitle": false,
     "tableResultSettingsMap": {},
     "title": ""
    }
   },
   "outputs": [],
   "source": [
    "%sh\n",
    "cp -r /Volumes/marscat/MaRsSchema/marsdemo_delta_vol/_delta_log /tmp/dkushari"
   ]
  },
  {
   "cell_type": "code",
   "execution_count": 0,
   "metadata": {
    "application/vnd.databricks.v1+cell": {
     "cellMetadata": {
      "byteLimit": 2048000,
      "rowLimit": 10000
     },
     "inputWidgets": {},
     "nuid": "a6c61a6d-871e-48c4-99b3-9a1001431779",
     "showTitle": false,
     "tableResultSettingsMap": {},
     "title": ""
    }
   },
   "outputs": [
    {
     "output_type": "stream",
     "name": "stdout",
     "output_type": "stream",
     "text": [
      "total 20\ndrwxr--r--+ 2 spark-64d5d330-5a56-4db3-b679-6b spark-64d5d330-5a56-4db3-b679-6b 4096 Mar 27 15:48 __tmp_path_dir\ndrwxr--r--+ 3 spark-64d5d330-5a56-4db3-b679-6b spark-64d5d330-5a56-4db3-b679-6b 4096 Mar 27 15:48 _autostats\ndrwxr--r--+ 2 spark-64d5d330-5a56-4db3-b679-6b spark-64d5d330-5a56-4db3-b679-6b 4096 Mar 27 15:48 _commits\n-rwxr--r--  1 spark-64d5d330-5a56-4db3-b679-6b spark-64d5d330-5a56-4db3-b679-6b 3335 Mar 27 15:48 00000000000000000000.crc\n-rwxr--r--  1 spark-64d5d330-5a56-4db3-b679-6b spark-64d5d330-5a56-4db3-b679-6b 2469 Mar 27 15:48 00000000000000000000.json\n"
     ]
    }
   ],
   "source": [
    "%sh\n",
    "ls -ltr /tmp/dkushari"
   ]
  },
  {
   "cell_type": "code",
   "execution_count": 0,
   "metadata": {
    "application/vnd.databricks.v1+cell": {
     "cellMetadata": {
      "byteLimit": 2048000,
      "rowLimit": 10000
     },
     "inputWidgets": {},
     "nuid": "ee36fcd4-606c-4e7d-b492-a1ad36c579d2",
     "showTitle": false,
     "tableResultSettingsMap": {},
     "title": ""
    }
   },
   "outputs": [
    {
     "output_type": "stream",
     "name": "stdout",
     "output_type": "stream",
     "text": [
      "total 8\n-rwxrwxrwx 1 nobody nogroup    0 Mar 27 15:18 _started_5608140467555080913\n-rwxrwxrwx 1 nobody nogroup 7041 Mar 27 15:18 part-00000-tid-5608140467555080913-5489f993-204f-497b-b3b4-1a308da4ed65-2950-1.c000.snappy.parquet\n-rwxrwxrwx 1 nobody nogroup  125 Mar 27 15:18 _committed_5608140467555080913\n-rwxrwxrwx 1 nobody nogroup    0 Mar 27 15:18 _SUCCESS\n"
     ]
    }
   ],
   "source": [
    "%sh\n",
    "ls -ltr /Volumes/marscat/marsschema/marsdemo_parquet_vol"
   ]
  },
  {
   "cell_type": "code",
   "execution_count": 0,
   "metadata": {
    "application/vnd.databricks.v1+cell": {
     "cellMetadata": {
      "byteLimit": 2048000,
      "rowLimit": 10000
     },
     "inputWidgets": {},
     "nuid": "f4045735-1df9-477c-a8dd-f4fa097be398",
     "showTitle": true,
     "tableResultSettingsMap": {},
     "title": "Access Volume Data Various Ways - Operating system file utilities"
    }
   },
   "outputs": [
    {
     "output_type": "execute_result",
     "data": {
      "text/plain": [
       "['_SUCCESS',\n",
       " '_committed_5608140467555080913',\n",
       " '_started_5608140467555080913',\n",
       " 'part-00000-tid-5608140467555080913-5489f993-204f-497b-b3b4-1a308da4ed65-2950-1.c000.snappy.parquet']"
      ]
     },
     "execution_count": 39,
     "metadata": {},
     "output_type": "execute_result"
    }
   ],
   "source": [
    "%python\n",
    "import os\n",
    "os.listdir('/Volumes/marscat/marsschema/marsdemo_parquet_vol')"
   ]
  },
  {
   "cell_type": "code",
   "execution_count": 0,
   "metadata": {
    "application/vnd.databricks.v1+cell": {
     "cellMetadata": {
      "byteLimit": 2048000,
      "rowLimit": 10000
     },
     "inputWidgets": {},
     "nuid": "bc78e684-f1d3-451f-81a1-5501a2fc13c0",
     "showTitle": false,
     "tableResultSettingsMap": {},
     "title": ""
    }
   },
   "outputs": [
    {
     "output_type": "display_data",
     "data": {
      "text/html": [
       "<style scoped>\n",
       "  .table-result-container {\n",
       "    max-height: 300px;\n",
       "    overflow: auto;\n",
       "  }\n",
       "  table, th, td {\n",
       "    border: 1px solid black;\n",
       "    border-collapse: collapse;\n",
       "  }\n",
       "  th, td {\n",
       "    padding: 5px;\n",
       "  }\n",
       "  th {\n",
       "    text-align: left;\n",
       "  }\n",
       "</style><div class='table-result-container'><table class='table-result'><thead style='background-color: white'><tr></tr></thead><tbody></tbody></table></div>"
      ]
     },
     "metadata": {
      "application/vnd.databricks.v1+output": {
       "addedWidgets": {},
       "aggData": [],
       "aggError": "",
       "aggOverflow": false,
       "aggSchema": [],
       "aggSeriesLimitReached": false,
       "aggType": "",
       "arguments": {},
       "columnCustomDisplayInfos": {},
       "data": [],
       "datasetInfos": [],
       "dbfsResultPath": null,
       "isJsonSchema": true,
       "metadata": {},
       "overflow": false,
       "plotOptions": {
        "customPlotOptions": {},
        "displayType": "table",
        "pivotAggregation": null,
        "pivotColumns": null,
        "xColumns": null,
        "yColumns": null
       },
       "removedWidgets": [],
       "schema": [],
       "type": "table"
      }
     },
     "output_type": "display_data"
    }
   ],
   "source": [
    "drop VOLUME if exists marscat.marsschema.marsdemo_csv_vol;\n",
    "CREATE EXTERNAL VOLUME if not exists  marscat.marsschema.marsdemo_csv_vol\n",
    "LOCATION 'abfss://dkushari@dkusharistorageaccount.dfs.core.windows.net/marsdemo/csv/volumedemo';"
   ]
  },
  {
   "cell_type": "code",
   "execution_count": 0,
   "metadata": {
    "application/vnd.databricks.v1+cell": {
     "cellMetadata": {
      "byteLimit": 2048000,
      "rowLimit": 10000
     },
     "inputWidgets": {},
     "nuid": "989a356d-8471-4dbe-a682-7fa8eef60154",
     "showTitle": false,
     "tableResultSettingsMap": {},
     "title": ""
    }
   },
   "outputs": [
    {
     "output_type": "execute_result",
     "data": {
      "text/plain": [
       "\u001B[36mres4\u001B[39m: \u001B[32mBoolean\u001B[39m = \u001B[32mtrue\u001B[39m"
      ]
     },
     "execution_count": 5,
     "metadata": {},
     "output_type": "execute_result"
    }
   ],
   "source": [
    "%fs cp dbfs:/databricks-datasets/wine-quality/winequality-red.csv /Volumes/marscat/marsschema/marsdemo_csv_vol/wine-quality/winequality-red.csv"
   ]
  },
  {
   "cell_type": "code",
   "execution_count": 0,
   "metadata": {
    "application/vnd.databricks.v1+cell": {
     "cellMetadata": {
      "byteLimit": 2048000,
      "rowLimit": 10000
     },
     "inputWidgets": {},
     "nuid": "ea232203-2320-42e5-ba0f-dc4e2c856059",
     "showTitle": false,
     "tableResultSettingsMap": {},
     "title": ""
    }
   },
   "outputs": [
    {
     "output_type": "stream",
     "name": "stdout",
     "output_type": "stream",
     "text": [
      "\"fixed acidity\";\"volatile acidity\";\"citric acid\";\"residual sugar\";\"chlorides\";\"free sulfur dioxide\";\"total sulfur dioxide\";\"density\";\"pH\";\"sulphates\";\"alcohol\";\"quality\"\n7.4;0.7;0;1.9;0.076;11;34;0.9978;3.51;0.56;9.4;5\n7.8;0.88;0;2.6;0.098;25;67;0.9968;3.2;0.68;9.8;5\n7.8;0.76;0.04;2.3;0.092;15;54;0.997;3.26;0.65;9.8;5\n11.2;0.28;0.56;1.9;0.075;17;60;0.998;3.16;0.58;9.8;6\n7.4;0.7;0;1.9;0.076;11;34;0.9978;3.51;0.56;9.4;5\n7.4;0.66;0;1.8;0.075;13;40;0.9978;3.51;0.56;9.4;5\n7.9;0.6;0.06;1.6;0.069;15;59;0.9964;3.3;0.46;9.4;5\n7.3;0.65;0;1.2;0.065;15;21;0.9946;3.39;0.47;10;7\n7.8;0.58;0.02;2;0.073;9;18;0.9968;3.36;0.57;9.5;7\n7.5;0.5;0.36;6.1;0.071;17;102;0.9978;3.35;0.8;10.5;5\n6.7;0.58;0.08;1.8;0.097;15;65;0.9959;3.28;0.54;9.2;5\n7.5;0.5;0.36;6.1;0.071;17;102;0.9978;3.35;0.8;10.5;5\n5.6;0.615;0;1.6;0.089;16;59;0.9943;3.58;0.52;9.9;5\n7.8;0.61;0.29;1.6;0.114;9;29;0.9974;3.26;1.56;9.1;5\n8.9;0.62;0.18;3.8;0.176;52;145;0.9986;3.16;0.88;9.2;5\n8.9;0.62;0.19;3.9;0.17;51;148;0.9986;3.17;0.93;9.2;5\n8.5;0.28;0.56;1.8;0.092;35;103;0.9969;3.3;0.75;10.5;7\n8.1;0.56;0.28;1.7;0.368;16;56;0.9968;3.11;1.28;9.3;5\n7.4;0.59;0.08;4.4;0.086;6;29;0.9974;3.38;0.5;9;4\n7.9;0.32;0.51;1.8;0.341;17;56;0.9969;3.04;1.08;9.2;6\n8.9;0.22;0.48;1.8;0.077;29;60;0.9968;3.39;0.53;9.4;6\n7.6;0.39;0.31;2.3;0.082;23;71;0.9982;3.52;0.65;9.7;5\n7.9;0.43;0.21;1.6;0.106;10;37;0.9966;3.17;0.91;9.5;5\n8.5;0.49;0.11;2.3;0.084;9;67;0.9968;3.17;0.53;9.4;5\n6.9;0.4;0.14;2.4;0.085;21;40;0.9968;3.43;0.63;9.7;6\n6.3;0.39;0.16;1.4;0.08;11;23;0.9955;3.34;0.56;9.3;5\n7.6;0.41;0.24;1.8;0.08;4;11;0.9962;3.28;0.59;9.5;5\n7.9;0.43;0.21;1.6;0.106;10;37;0.9966;3.17;0.91;9.5;5\n7.1;0.71;0;1.9;0.08;14;35;0.9972;3.47;0.55;9.4;5\n7.8;0.645;0;2;0.082;8;16;0.9964;3.38;0.59;9.8;6\n6.7;0.675;0.07;2.4;0.089;17;82;0.9958;3.35;0.54;10.1;5\n6.9;0.685;0;2.5;0.105;22;37;0.9966;3.46;0.57;10.6;6\n8.3;0.655;0.12;2.3;0.083;15;113;0.9966;3.17;0.66;9.8;5\n6.9;0.605;0.12;10.7;0.073;40;83;0.9993;3.45;0.52;9.4;6\n5.2;0.32;0.25;1.8;0.103;13;50;0.9957;3.38;0.55;9.2;5\n7.8;0.645;0;5.5;0.086;5;18;0.9986;3.4;0.55;9.6;6\n7.8;0.6;0.14;2.4;0.086;3;15;0.9975;3.42;0.6;10.8;6\n8.1;0.38;0.28;2.1;0.066;13;30;0.9968;3.23;0.73;9.7;7\n5.7;1.13;0.09;1.5;0.172;7;19;0.994;3.5;0.48;9.8;4\n7.3;0.45;0.36;5.9;0.074;12;87;0.9978;3.33;0.83;10.5;5\n7.3;0.45;0.36;5.9;0.074;12;87;0.9978;3.33;0.83;10.5;5\n8.8;0.61;0.3;2.8;0.088;17;46;0.9976;3.26;0.51;9.3;4\n7.5;0.49;0.2;2.6;0.332;8;14;0.9968;3.21;0.9;10.5;6\n8.1;0.66;0.22;2.2;0.069;9;23;0.9968;3.3;1.2;10.3;5\n6.8;0.67;0.02;1.8;0.05;5;11;0.9962;3.48;0.52;9.5;5\n4.6;0.52;0.15;2.1;0.054;8;65;0.9934;3.9;0.56;13.1;4\n7.7;0.935;0.43;2.2;0.114;22;114;0.997;3.25;0.73;9.2;5\n8.7;0.29;0.52;1.6;0.113;12;37;0.9969;3.25;0.58;9.5;5\n6.4;0.4;0.23;1.6;0.066;5;12;0.9958;3.34;0.56;9.2;5\n5.6;0.31;0.37;1.4;0.074;12;96;0.9954;3.32;0.58;9.2;5\n8.8;0.66;0.26;1.7;0.074;4;23;0.9971;3.15;0.74;9.2;5\n6.6;0.52;0.04;2.2;0.069;8;15;0.9956;3.4;0.63;9.4;6\n6.6;0.5;0.04;2.1;0.068;6;14;0.9955;3.39;0.64;9.4;6\n8.6;0.38;0.36;3;0.081;30;119;0.997;3.2;0.56;9.4;5\n7.6;0.51;0.15;2.8;0.11;33;73;0.9955;3.17;0.63;10.2;6\n7.7;0.62;0.04;3.8;0.084;25;45;0.9978;3.34;0.53;9.5;5\n10.2;0.42;0.57;3.4;0.07;4;10;0.9971;3.04;0.63;9.6;5\n7.5;0.63;0.12;5.1;0.111;50;110;0.9983;3.26;0.77;9.4;5\n7.8;0.59;0.18;2.3;0.076;17;54;0.9975;3.43;0.59;10;5\n7.3;0.39;0.31;2.4;0.074;9;46;0.9962;3.41;0.54;9.4;6\n8.8;0.4;0.4;2.2;0.079;19;52;0.998;3.44;0.64;9.2;5\n7.7;0.69;0.49;1.8;0.115;20;112;0.9968;3.21;0.71;9.3;5\n7.5;0.52;0.16;1.9;0.085;12;35;0.9968;3.38;0.62;9.5;7\n7;0.735;0.05;2;0.081;13;54;0.9966;3.39;0.57;9.8;5\n7.2;0.725;0.05;4.65;0.086;4;11;0.9962;3.41;0.39;10.9;5\n7.2;0.725;0.05;4.65;0.086;4;11;0.9962;3.41;0.39;10.9;5\n7.5;0.52;0.11;1.5;0.079;11;39;0.9968;3.42;0.58;9.6;5\n6.6;0.705;0.07;1.6;0.076;6;15;0.9962;3.44;0.58;10.7;5\n9.3;0.32;0.57;2;0.074;27;65;0.9969;3.28;0.79;10.7;5\n8;0.705;0.05;1.9;0.074;8;19;0.9962;3.34;0.95;10.5;6\n7.7;0.63;0.08;1.9;0.076;15;27;0.9967;3.32;0.54;9.5;6\n7.7;0.67;0.23;2.1;0.088;17;96;0.9962;3.32;0.48;9.5;5\n7.7;0.69;0.22;1.9;0.084;18;94;0.9961;3.31;0.48;9.5;5\n8.3;0.675;0.26;2.1;0.084;11;43;0.9976;3.31;0.53;9.2;4\n9.7;0.32;0.54;2.5;0.094;28;83;0.9984;3.28;0.82;9.6;5\n8.8;0.41;0.64;2.2;0.093;9;42;0.9986;3.54;0.66;10.5;5\n8.8;0.41;0.64;2.2;0.093;9;42;0.9986;3.54;0.66;10.5;5\n6.8;0.785;0;2.4;0.104;14;30;0.9966;3.52;0.55;10.7;6\n6.7;0.75;0.12;2;0.086;12;80;0.9958;3.38;0.52;10.1;5\n8.3;0.625;0.2;1.5;0.08;27;119;0.9972;3.16;1.12;9.1;4\n6.2;0.45;0.2;1.6;0.069;3;15;0.9958;3.41;0.56;9.2;5\n7.8;0.43;0.7;1.9;0.464;22;67;0.9974;3.13;1.28;9.4;5\n7.4;0.5;0.47;2;0.086;21;73;0.997;3.36;0.57;9.1;5\n7.3;0.67;0.26;1.8;0.401;16;51;0.9969;3.16;1.14;9.4;5\n6.3;0.3;0.48;1.8;0.069;18;61;0.9959;3.44;0.78;10.3;6\n6.9;0.55;0.15;2.2;0.076;19;40;0.9961;3.41;0.59;10.1;5\n8.6;0.49;0.28;1.9;0.11;20;136;0.9972;2.93;1.95;9.9;6\n7.7;0.49;0.26;1.9;0.062;9;31;0.9966;3.39;0.64;9.6;5\n9.3;0.39;0.44;2.1;0.107;34;125;0.9978;3.14;1.22;9.5;5\n7;0.62;0.08;1.8;0.076;8;24;0.9978;3.48;0.53;9;5\n7.9;0.52;0.26;1.9;0.079;42;140;0.9964;3.23;0.54;9.5;5\n8.6;0.49;0.28;1.9;0.11;20;136;0.9972;2.93;1.95;9.9;6\n8.6;0.49;0.29;2;0.11;19;133;0.9972;2.93;1.98;9.8;5\n7.7;0.49;0.26;1.9;0.062;9;31;0.9966;3.39;0.64;9.6;5\n5;1.02;0.04;1.4;0.045;41;85;0.9938;3.75;0.48;10.5;4\n4.7;0.6;0.17;2.3;0.058;17;106;0.9932;3.85;0.6;12.9;6\n6.8;0.775;0;3;0.102;8;23;0.9965;3.45;0.56;10.7;5\n7;0.5;0.25;2;0.07;3;22;0.9963;3.25;0.63;9.2;5\n7.6;0.9;0.06;2.5;0.079;5;10;0.9967;3.39;0.56;9.8;5\n8.1;0.545;0.18;1.9;0.08;13;35;0.9972;3.3;0.59;9;6\n8.3;0.61;0.3;2.1;0.084;11;50;0.9972;3.4;0.61;10.2;6\n7.8;0.5;0.3;1.9;0.075;8;22;0.9959;3.31;0.56;10.4;6\n8.1;0.545;0.18;1.9;0.08;13;35;0.9972;3.3;0.59;9;6\n8.1;0.575;0.22;2.1;0.077;12;65;0.9967;3.29;0.51;9.2;5\n7.2;0.49;0.24;2.2;0.07;5;36;0.996;3.33;0.48;9.4;5\n8.1;0.575;0.22;2.1;0.077;12;65;0.9967;3.29;0.51;9.2;5\n7.8;0.41;0.68;1.7;0.467;18;69;0.9973;3.08;1.31;9.3;5\n6.2;0.63;0.31;1.7;0.088;15;64;0.9969;3.46;0.79;9.3;5\n8;0.33;0.53;2.5;0.091;18;80;0.9976;3.37;0.8;9.6;6\n8.1;0.785;0.52;2;0.122;37;153;0.9969;3.21;0.69;9.3;5\n7.8;0.56;0.19;1.8;0.104;12;47;0.9964;3.19;0.93;9.5;5\n8.4;0.62;0.09;2.2;0.084;11;108;0.9964;3.15;0.66;9.8;5\n8.4;0.6;0.1;2.2;0.085;14;111;0.9964;3.15;0.66;9.8;5\n10.1;0.31;0.44;2.3;0.08;22;46;0.9988;3.32;0.67;9.7;6\n7.8;0.56;0.19;1.8;0.104;12;47;0.9964;3.19;0.93;9.5;5\n9.4;0.4;0.31;2.2;0.09;13;62;0.9966;3.07;0.63;10.5;6\n8.3;0.54;0.28;1.9;0.077;11;40;0.9978;3.39;0.61;10;6\n7.8;0.56;0.12;2;0.082;7;28;0.997;3.37;0.5;9.4;6\n8.8;0.55;0.04;2.2;0.119;14;56;0.9962;3.21;0.6;10.9;6\n7;0.69;0.08;1.8;0.097;22;89;0.9959;3.34;0.54;9.2;6\n7.3;1.07;0.09;1.7;0.178;10;89;0.9962;3.3;0.57;9;5\n8.8;0.55;0.04;2.2;0.119;14;56;0.9962;3.21;0.6;10.9;6\n7.3;0.695;0;2.5;0.075;3;13;0.998;3.49;0.52;9.2;5\n8;0.71;0;2.6;0.08;11;34;0.9976;3.44;0.53;9.5;5\n7.8;0.5;0.17;1.6;0.082;21;102;0.996;3.39;0.48;9.5;5\n9;0.62;0.04;1.9;0.146;27;90;0.9984;3.16;0.7;9.4;5\n8.2;1.33;0;1.7;0.081;3;12;0.9964;3.53;0.49;10.9;5\n8.1;1.33;0;1.8;0.082;3;12;0.9964;3.54;0.48;10.9;5\n8;0.59;0.16;1.8;0.065;3;16;0.9962;3.42;0.92;10.5;7\n6.1;0.38;0.15;1.8;0.072;6;19;0.9955;3.42;0.57;9.4;5\n8;0.745;0.56;2;0.118;30;134;0.9968;3.24;0.66;9.4;5\n5.6;0.5;0.09;2.3;0.049;17;99;0.9937;3.63;0.63;13;5\n5.6;0.5;0.09;2.3;0.049;17;99;0.9937;3.63;0.63;13;5\n6.6;0.5;0.01;1.5;0.06;17;26;0.9952;3.4;0.58;9.8;6\n7.9;1.04;0.05;2.2;0.084;13;29;0.9959;3.22;0.55;9.9;6\n8.4;0.745;0.11;1.9;0.09;16;63;0.9965;3.19;0.82;9.6;5\n8.3;0.715;0.15;1.8;0.089;10;52;0.9968;3.23;0.77;9.5;5\n7.2;0.415;0.36;2;0.081;13;45;0.9972;3.48;0.64;9.2;5\n7.8;0.56;0.19;2.1;0.081;15;105;0.9962;3.33;0.54;9.5;5\n7.8;0.56;0.19;2;0.081;17;108;0.9962;3.32;0.54;9.5;5\n8.4;0.745;0.11;1.9;0.09;16;63;0.9965;3.19;0.82;9.6;5\n8.3;0.715;0.15;1.8;0.089;10;52;0.9968;3.23;0.77;9.5;5\n5.2;0.34;0;1.8;0.05;27;63;0.9916;3.68;0.79;14;6\n6.3;0.39;0.08;1.7;0.066;3;20;0.9954;3.34;0.58;9.4;5\n5.2;0.34;0;1.8;0.05;27;63;0.9916;3.68;0.79;14;6\n8.1;0.67;0.55;1.8;0.117;32;141;0.9968;3.17;0.62;9.4;5\n5.8;0.68;0.02;1.8;0.087;21;94;0.9944;3.54;0.52;10;5\n7.6;0.49;0.26;1.6;0.236;10;88;0.9968;3.11;0.8;9.3;5\n6.9;0.49;0.1;2.3;0.074;12;30;0.9959;3.42;0.58;10.2;6\n8.2;0.4;0.44;2.8;0.089;11;43;0.9975;3.53;0.61;10.5;6\n7.3;0.33;0.47;2.1;0.077;5;11;0.9958;3.33;0.53;10.3;6\n9.2;0.52;1;3.4;0.61;32;69;0.9996;2.74;2.0;9.4;4\n7.5;0.6;0.03;1.8;0.095;25;99;0.995;3.35;0.54;10.1;5\n7.5;0.6;0.03;1.8;0.095;25;99;0.995;3.35;0.54;10.1;5\n7.1;0.43;0.42;5.5;0.07;29;129;0.9973;3.42;0.72;10.5;5\n7.1;0.43;0.42;5.5;0.071;28;128;0.9973;3.42;0.71;10.5;5\n7.1;0.43;0.42;5.5;0.07;29;129;0.9973;3.42;0.72;10.5;5\n7.1;0.43;0.42;5.5;0.071;28;128;0.9973;3.42;0.71;10.5;5\n7.1;0.68;0;2.2;0.073;12;22;0.9969;3.48;0.5;9.3;5\n6.8;0.6;0.18;1.9;0.079;18;86;0.9968;3.59;0.57;9.3;6\n7.6;0.95;0.03;2;0.09;7;20;0.9959;3.2;0.56;9.6;5\n7.6;0.68;0.02;1.3;0.072;9;20;0.9965;3.17;1.08;9.2;4\n7.8;0.53;0.04;1.7;0.076;17;31;0.9964;3.33;0.56;10;6\n7.4;0.6;0.26;7.3;0.07;36;121;0.9982;3.37;0.49;9.4;5\n7.3;0.59;0.26;7.2;0.07;35;121;0.9981;3.37;0.49;9.4;5\n7.8;0.63;0.48;1.7;0.1;14;96;0.9961;3.19;0.62;9.5;5\n6.8;0.64;0.1;2.1;0.085;18;101;0.9956;3.34;0.52;10.2;5\n7.3;0.55;0.03;1.6;0.072;17;42;0.9956;3.37;0.48;9;4\n6.8;0.63;0.07;2.1;0.089;11;44;0.9953;3.47;0.55;10.4;6\n7.5;0.705;0.24;1.8;0.36;15;63;0.9964;3;1.59;9.5;5\n7.9;0.885;0.03;1.8;0.058;4;8;0.9972;3.36;0.33;9.1;4\n8;0.42;0.17;2;0.073;6;18;0.9972;3.29;0.61;9.2;6\n8;0.42;0.17;2;0.073;6;18;0.9972;3.29;0.61;9.2;6\n7.4;0.62;0.05;1.9;0.068;24;42;0.9961;3.42;0.57;11.5;6\n7.3;0.38;0.21;2;0.08;7;35;0.9961;3.33;0.47;9.5;5\n6.9;0.5;0.04;1.5;0.085;19;49;0.9958;3.35;0.78;9.5;5\n7.3;0.38;0.21;2;0.08;7;35;0.9961;3.33;0.47;9.5;5\n7.5;0.52;0.42;2.3;0.087;8;38;0.9972;3.58;0.61;10.5;6\n7;0.805;0;2.5;0.068;7;20;0.9969;3.48;0.56;9.6;5\n8.8;0.61;0.14;2.4;0.067;10;42;0.9969;3.19;0.59;9.5;5\n8.8;0.61;0.14;2.4;0.067;10;42;0.9969;3.19;0.59;9.5;5\n8.9;0.61;0.49;2;0.27;23;110;0.9972;3.12;1.02;9.3;5\n7.2;0.73;0.02;2.5;0.076;16;42;0.9972;3.44;0.52;9.3;5\n6.8;0.61;0.2;1.8;0.077;11;65;0.9971;3.54;0.58;9.3;5\n6.7;0.62;0.21;1.9;0.079;8;62;0.997;3.52;0.58;9.3;6\n8.9;0.31;0.57;2;0.111;26;85;0.9971;3.26;0.53;9.7;5\n7.4;0.39;0.48;2;0.082;14;67;0.9972;3.34;0.55;9.2;5\n7.7;0.705;0.1;2.6;0.084;9;26;0.9976;3.39;0.49;9.7;5\n7.9;0.5;0.33;2;0.084;15;143;0.9968;3.2;0.55;9.5;5\n7.9;0.49;0.32;1.9;0.082;17;144;0.9968;3.2;0.55;9.5;5\n8.2;0.5;0.35;2.9;0.077;21;127;0.9976;3.23;0.62;9.4;5\n6.4;0.37;0.25;1.9;0.074;21;49;0.9974;3.57;0.62;9.8;6\n6.8;0.63;0.12;3.8;0.099;16;126;0.9969;3.28;0.61;9.5;5\n7.6;0.55;0.21;2.2;0.071;7;28;0.9964;3.28;0.55;9.7;5\n7.6;0.55;0.21;2.2;0.071;7;28;0.9964;3.28;0.55;9.7;5\n7.8;0.59;0.33;2;0.074;24;120;0.9968;3.25;0.54;9.4;5\n7.3;0.58;0.3;2.4;0.074;15;55;0.9968;3.46;0.59;10.2;5\n11.5;0.3;0.6;2;0.067;12;27;0.9981;3.11;0.97;10.1;6\n5.4;0.835;0.08;1.2;0.046;13;93;0.9924;3.57;0.85;13;7\n6.9;1.09;0.06;2.1;0.061;12;31;0.9948;3.51;0.43;11.4;4\n9.6;0.32;0.47;1.4;0.056;9;24;0.99695;3.22;0.82;10.3;7\n8.8;0.37;0.48;2.1;0.097;39;145;0.9975;3.04;1.03;9.3;5\n6.8;0.5;0.11;1.5;0.075;16;49;0.99545;3.36;0.79;9.5;5\n7;0.42;0.35;1.6;0.088;16;39;0.9961;3.34;0.55;9.2;5\n7;0.43;0.36;1.6;0.089;14;37;0.99615;3.34;0.56;9.2;6\n12.8;0.3;0.74;2.6;0.095;9;28;0.9994;3.2;0.77;10.8;7\n12.8;0.3;0.74;2.6;0.095;9;28;0.9994;3.2;0.77;10.8;7\n7.8;0.57;0.31;1.8;0.069;26;120;0.99625;3.29;0.53;9.3;5\n7.8;0.44;0.28;2.7;0.1;18;95;0.9966;3.22;0.67;9.4;5\n11;0.3;0.58;2.1;0.054;7;19;0.998;3.31;0.88;10.5;7\n9.7;0.53;0.6;2;0.039;5;19;0.99585;3.3;0.86;12.4;6\n8;0.725;0.24;2.8;0.083;10;62;0.99685;3.35;0.56;10;6\n11.6;0.44;0.64;2.1;0.059;5;15;0.998;3.21;0.67;10.2;6\n8.2;0.57;0.26;2.2;0.06;28;65;0.9959;3.3;0.43;10.1;5\n7.8;0.735;0.08;2.4;0.092;10;41;0.9974;3.24;0.71;9.8;6\n7;0.49;0.49;5.6;0.06;26;121;0.9974;3.34;0.76;10.5;5\n8.7;0.625;0.16;2;0.101;13;49;0.9962;3.14;0.57;11;5\n8.1;0.725;0.22;2.2;0.072;11;41;0.9967;3.36;0.55;9.1;5\n7.5;0.49;0.19;1.9;0.076;10;44;0.9957;3.39;0.54;9.7;5\n7.8;0.53;0.33;2.4;0.08;24;144;0.99655;3.3;0.6;9.5;5\n7.8;0.34;0.37;2;0.082;24;58;0.9964;3.34;0.59;9.4;6\n7.4;0.53;0.26;2;0.101;16;72;0.9957;3.15;0.57;9.4;5\n6.8;0.61;0.04;1.5;0.057;5;10;0.99525;3.42;0.6;9.5;5\n8.6;0.645;0.25;2;0.083;8;28;0.99815;3.28;0.6;10;6\n8.4;0.635;0.36;2;0.089;15;55;0.99745;3.31;0.57;10.4;4\n7.7;0.43;0.25;2.6;0.073;29;63;0.99615;3.37;0.58;10.5;6\n8.9;0.59;0.5;2;0.337;27;81;0.9964;3.04;1.61;9.5;6\n9;0.82;0.14;2.6;0.089;9;23;0.9984;3.39;0.63;9.8;5\n7.7;0.43;0.25;2.6;0.073;29;63;0.99615;3.37;0.58;10.5;6\n6.9;0.52;0.25;2.6;0.081;10;37;0.99685;3.46;0.5;11;5\n5.2;0.48;0.04;1.6;0.054;19;106;0.9927;3.54;0.62;12.2;7\n8;0.38;0.06;1.8;0.078;12;49;0.99625;3.37;0.52;9.9;6\n8.5;0.37;0.2;2.8;0.09;18;58;0.998;3.34;0.7;9.6;6\n6.9;0.52;0.25;2.6;0.081;10;37;0.99685;3.46;0.5;11;5\n8.2;1;0.09;2.3;0.065;7;37;0.99685;3.32;0.55;9;6\n7.2;0.63;0;1.9;0.097;14;38;0.99675;3.37;0.58;9;6\n7.2;0.63;0;1.9;0.097;14;38;0.99675;3.37;0.58;9;6\n7.2;0.645;0;1.9;0.097;15;39;0.99675;3.37;0.58;9.2;6\n7.2;0.63;0;1.9;0.097;14;38;0.99675;3.37;0.58;9;6\n8.2;1;0.09;2.3;0.065;7;37;0.99685;3.32;0.55;9;6\n8.9;0.635;0.37;1.7;0.263;5;62;0.9971;3;1.09;9.3;5\n12;0.38;0.56;2.1;0.093;6;24;0.99925;3.14;0.71;10.9;6\n7.7;0.58;0.1;1.8;0.102;28;109;0.99565;3.08;0.49;9.8;6\n15;0.21;0.44;2.2;0.075;10;24;1.00005;3.07;0.84;9.2;7\n15;0.21;0.44;2.2;0.075;10;24;1.00005;3.07;0.84;9.2;7\n7.3;0.66;0;2;0.084;6;23;0.9983;3.61;0.96;9.9;6\n7.1;0.68;0.07;1.9;0.075;16;51;0.99685;3.38;0.52;9.5;5\n8.2;0.6;0.17;2.3;0.072;11;73;0.9963;3.2;0.45;9.3;5\n7.7;0.53;0.06;1.7;0.074;9;39;0.99615;3.35;0.48;9.8;6\n7.3;0.66;0;2;0.084;6;23;0.9983;3.61;0.96;9.9;6\n10.8;0.32;0.44;1.6;0.063;16;37;0.9985;3.22;0.78;10;6\n7.1;0.6;0;1.8;0.074;16;34;0.9972;3.47;0.7;9.9;6\n11.1;0.35;0.48;3.1;0.09;5;21;0.9986;3.17;0.53;10.5;5\n7.7;0.775;0.42;1.9;0.092;8;86;0.9959;3.23;0.59;9.5;5\n7.1;0.6;0;1.8;0.074;16;34;0.9972;3.47;0.7;9.9;6\n8;0.57;0.23;3.2;0.073;17;119;0.99675;3.26;0.57;9.3;5\n9.4;0.34;0.37;2.2;0.075;5;13;0.998;3.22;0.62;9.2;5\n6.6;0.695;0;2.1;0.075;12;56;0.9968;3.49;0.67;9.2;5\n7.7;0.41;0.76;1.8;0.611;8;45;0.9968;3.06;1.26;9.4;5\n10;0.31;0.47;2.6;0.085;14;33;0.99965;3.36;0.8;10.5;7\n7.9;0.33;0.23;1.7;0.077;18;45;0.99625;3.29;0.65;9.3;5\n7;0.975;0.04;2;0.087;12;67;0.99565;3.35;0.6;9.4;4\n8;0.52;0.03;1.7;0.07;10;35;0.99575;3.34;0.57;10;5\n7.9;0.37;0.23;1.8;0.077;23;49;0.9963;3.28;0.67;9.3;5\n12.5;0.56;0.49;2.4;0.064;5;27;0.9999;3.08;0.87;10.9;5\n11.8;0.26;0.52;1.8;0.071;6;10;0.9968;3.2;0.72;10.2;7\n8.1;0.87;0;3.3;0.096;26;61;1.00025;3.6;0.72;9.8;4\n7.9;0.35;0.46;3.6;0.078;15;37;0.9973;3.35;0.86;12.8;8\n6.9;0.54;0.04;3;0.077;7;27;0.9987;3.69;0.91;9.4;6\n11.5;0.18;0.51;4;0.104;4;23;0.9996;3.28;0.97;10.1;6\n7.9;0.545;0.06;4;0.087;27;61;0.9965;3.36;0.67;10.7;6\n11.5;0.18;0.51;4;0.104;4;23;0.9996;3.28;0.97;10.1;6\n10.9;0.37;0.58;4;0.071;17;65;0.99935;3.22;0.78;10.1;5\n8.4;0.715;0.2;2.4;0.076;10;38;0.99735;3.31;0.64;9.4;5\n7.5;0.65;0.18;7;0.088;27;94;0.99915;3.38;0.77;9.4;5\n7.9;0.545;0.06;4;0.087;27;61;0.9965;3.36;0.67;10.7;6\n6.9;0.54;0.04;3;0.077;7;27;0.9987;3.69;0.91;9.4;6\n11.5;0.18;0.51;4;0.104;4;23;0.9996;3.28;0.97;10.1;6\n10.3;0.32;0.45;6.4;0.073;5;13;0.9976;3.23;0.82;12.6;8\n8.9;0.4;0.32;5.6;0.087;10;47;0.9991;3.38;0.77;10.5;7\n11.4;0.26;0.44;3.6;0.071;6;19;0.9986;3.12;0.82;9.3;6\n7.7;0.27;0.68;3.5;0.358;5;10;0.9972;3.25;1.08;9.9;7\n7.6;0.52;0.12;3;0.067;12;53;0.9971;3.36;0.57;9.1;5\n8.9;0.4;0.32;5.6;0.087;10;47;0.9991;3.38;0.77;10.5;7\n9.9;0.59;0.07;3.4;0.102;32;71;1.00015;3.31;0.71;9.8;5\n9.9;0.59;0.07;3.4;0.102;32;71;1.00015;3.31;0.71;9.8;5\n12;0.45;0.55;2;0.073;25;49;0.9997;3.1;0.76;10.3;6\n7.5;0.4;0.12;3;0.092;29;53;0.9967;3.37;0.7;10.3;6\n8.7;0.52;0.09;2.5;0.091;20;49;0.9976;3.34;0.86;10.6;7\n11.6;0.42;0.53;3.3;0.105;33;98;1.001;3.2;0.95;9.2;5\n8.7;0.52;0.09;2.5;0.091;20;49;0.9976;3.34;0.86;10.6;7\n11;0.2;0.48;2;0.343;6;18;0.9979;3.3;0.71;10.5;5\n10.4;0.55;0.23;2.7;0.091;18;48;0.9994;3.22;0.64;10.3;6\n6.9;0.36;0.25;2.4;0.098;5;16;0.9964;3.41;0.6;10.1;6\n13.3;0.34;0.52;3.2;0.094;17;53;1.0014;3.05;0.81;9.5;6\n10.8;0.5;0.46;2.5;0.073;5;27;1.0001;3.05;0.64;9.5;5\n10.6;0.83;0.37;2.6;0.086;26;70;0.9981;3.16;0.52;9.9;5\n7.1;0.63;0.06;2;0.083;8;29;0.99855;3.67;0.73;9.6;5\n7.2;0.65;0.02;2.3;0.094;5;31;0.9993;3.67;0.8;9.7;5\n6.9;0.67;0.06;2.1;0.08;8;33;0.99845;3.68;0.71;9.6;5\n7.5;0.53;0.06;2.6;0.086;20;44;0.9965;3.38;0.59;10.7;6\n11.1;0.18;0.48;1.5;0.068;7;15;0.9973;3.22;0.64;10.1;6\n8.3;0.705;0.12;2.6;0.092;12;28;0.9994;3.51;0.72;10;5\n7.4;0.67;0.12;1.6;0.186;5;21;0.996;3.39;0.54;9.5;5\n8.4;0.65;0.6;2.1;0.112;12;90;0.9973;3.2;0.52;9.2;5\n10.3;0.53;0.48;2.5;0.063;6;25;0.9998;3.12;0.59;9.3;6\n7.6;0.62;0.32;2.2;0.082;7;54;0.9966;3.36;0.52;9.4;5\n10.3;0.41;0.42;2.4;0.213;6;14;0.9994;3.19;0.62;9.5;6\n10.3;0.43;0.44;2.4;0.214;5;12;0.9994;3.19;0.63;9.5;6\n7.4;0.29;0.38;1.7;0.062;9;30;0.9968;3.41;0.53;9.5;6\n10.3;0.53;0.48;2.5;0.063;6;25;0.9998;3.12;0.59;9.3;6\n7.9;0.53;0.24;2;0.072;15;105;0.996;3.27;0.54;9.4;6\n9;0.46;0.31;2.8;0.093;19;98;0.99815;3.32;0.63;9.5;6\n8.6;0.47;0.3;3;0.076;30;135;0.9976;3.3;0.53;9.4;5\n7.4;0.36;0.29;2.6;0.087;26;72;0.99645;3.39;0.68;11;5\n7.1;0.35;0.29;2.5;0.096;20;53;0.9962;3.42;0.65;11;6\n9.6;0.56;0.23;3.4;0.102;37;92;0.9996;3.3;0.65;10.1;5\n9.6;0.77;0.12;2.9;0.082;30;74;0.99865;3.3;0.64;10.4;6\n9.8;0.66;0.39;3.2;0.083;21;59;0.9989;3.37;0.71;11.5;7\n9.6;0.77;0.12;2.9;0.082;30;74;0.99865;3.3;0.64;10.4;6\n9.8;0.66;0.39;3.2;0.083;21;59;0.9989;3.37;0.71;11.5;7\n9.3;0.61;0.26;3.4;0.09;25;87;0.99975;3.24;0.62;9.7;5\n7.8;0.62;0.05;2.3;0.079;6;18;0.99735;3.29;0.63;9.3;5\n10.3;0.59;0.42;2.8;0.09;35;73;0.999;3.28;0.7;9.5;6\n10;0.49;0.2;11;0.071;13;50;1.0015;3.16;0.69;9.2;6\n10;0.49;0.2;11;0.071;13;50;1.0015;3.16;0.69;9.2;6\n11.6;0.53;0.66;3.65;0.121;6;14;0.9978;3.05;0.74;11.5;7\n10.3;0.44;0.5;4.5;0.107;5;13;0.998;3.28;0.83;11.5;5\n13.4;0.27;0.62;2.6;0.082;6;21;1.0002;3.16;0.67;9.7;6\n10.7;0.46;0.39;2;0.061;7;15;0.9981;3.18;0.62;9.5;5\n10.2;0.36;0.64;2.9;0.122;10;41;0.998;3.23;0.66;12.5;6\n10.2;0.36;0.64;2.9;0.122;10;41;0.998;3.23;0.66;12.5;6\n8;0.58;0.28;3.2;0.066;21;114;0.9973;3.22;0.54;9.4;6\n8.4;0.56;0.08;2.1;0.105;16;44;0.9958;3.13;0.52;11;5\n7.9;0.65;0.01;2.5;0.078;17;38;0.9963;3.34;0.74;11.7;7\n11.9;0.695;0.53;3.4;0.128;7;21;0.9992;3.17;0.84;12.2;7\n8.9;0.43;0.45;1.9;0.052;6;16;0.9948;3.35;0.7;12.5;6\n7.8;0.43;0.32;2.8;0.08;29;58;0.9974;3.31;0.64;10.3;5\n12.4;0.49;0.58;3;0.103;28;99;1.0008;3.16;1;11.5;6\n12.5;0.28;0.54;2.3;0.082;12;29;0.9997;3.11;1.36;9.8;7\n12.2;0.34;0.5;2.4;0.066;10;21;1;3.12;1.18;9.2;6\n10.6;0.42;0.48;2.7;0.065;5;18;0.9972;3.21;0.87;11.3;6\n10.9;0.39;0.47;1.8;0.118;6;14;0.9982;3.3;0.75;9.8;6\n10.9;0.39;0.47;1.8;0.118;6;14;0.9982;3.3;0.75;9.8;6\n11.9;0.57;0.5;2.6;0.082;6;32;1.0006;3.12;0.78;10.7;6\n7;0.685;0;1.9;0.067;40;63;0.9979;3.6;0.81;9.9;5\n6.6;0.815;0.02;2.7;0.072;17;34;0.9955;3.58;0.89;12.3;7\n13.8;0.49;0.67;3;0.093;6;15;0.9986;3.02;0.93;12;6\n9.6;0.56;0.31;2.8;0.089;15;46;0.9979;3.11;0.92;10;6\n9.1;0.785;0;2.6;0.093;11;28;0.9994;3.36;0.86;9.4;6\n10.7;0.67;0.22;2.7;0.107;17;34;1.0004;3.28;0.98;9.9;6\n9.1;0.795;0;2.6;0.096;11;26;0.9994;3.35;0.83;9.4;6\n7.7;0.665;0;2.4;0.09;8;19;0.9974;3.27;0.73;9.3;5\n13.5;0.53;0.79;4.8;0.12;23;77;1.0018;3.18;0.77;13;5\n6.1;0.21;0.4;1.4;0.066;40.5;165;0.9912;3.25;0.59;11.9;6\n6.7;0.75;0.01;2.4;0.078;17;32;0.9955;3.55;0.61;12.8;6\n11.5;0.41;0.52;3;0.08;29;55;1.0001;3.26;0.88;11;5\n10.5;0.42;0.66;2.95;0.116;12;29;0.997;3.24;0.75;11.7;7\n11.9;0.43;0.66;3.1;0.109;10;23;1;3.15;0.85;10.4;7\n12.6;0.38;0.66;2.6;0.088;10;41;1.001;3.17;0.68;9.8;6\n8.2;0.7;0.23;2;0.099;14;81;0.9973;3.19;0.7;9.4;5\n8.6;0.45;0.31;2.6;0.086;21;50;0.9982;3.37;0.91;9.9;6\n11.9;0.58;0.66;2.5;0.072;6;37;0.9992;3.05;0.56;10;5\n12.5;0.46;0.63;2;0.071;6;15;0.9988;2.99;0.87;10.2;5\n12.8;0.615;0.66;5.8;0.083;7;42;1.0022;3.07;0.73;10;7\n10;0.42;0.5;3.4;0.107;7;21;0.9979;3.26;0.93;11.8;6\n12.8;0.615;0.66;5.8;0.083;7;42;1.0022;3.07;0.73;10;7\n10.4;0.575;0.61;2.6;0.076;11;24;1;3.16;0.69;9;5\n10.3;0.34;0.52;2.8;0.159;15;75;0.9998;3.18;0.64;9.4;5\n9.4;0.27;0.53;2.4;0.074;6;18;0.9962;3.2;1.13;12;7\n6.9;0.765;0.02;2.3;0.063;35;63;0.9975;3.57;0.78;9.9;5\n7.9;0.24;0.4;1.6;0.056;11;25;0.9967;3.32;0.87;8.7;6\n9.1;0.28;0.48;1.8;0.067;26;46;0.9967;3.32;1.04;10.6;6\n7.4;0.55;0.22;2.2;0.106;12;72;0.9959;3.05;0.63;9.2;5\n14;0.41;0.63;3.8;0.089;6;47;1.0014;3.01;0.81;10.8;6\n11.5;0.54;0.71;4.4;0.124;6;15;0.9984;3.01;0.83;11.8;7\n11.5;0.45;0.5;3;0.078;19;47;1.0003;3.26;1.11;11;6\n9.4;0.27;0.53;2.4;0.074;6;18;0.9962;3.2;1.13;12;7\n11.4;0.625;0.66;6.2;0.088;6;24;0.9988;3.11;0.99;13.3;6\n8.3;0.42;0.38;2.5;0.094;24;60;0.9979;3.31;0.7;10.8;6\n8.3;0.26;0.42;2;0.08;11;27;0.9974;3.21;0.8;9.4;6\n13.7;0.415;0.68;2.9;0.085;17;43;1.0014;3.06;0.8;10;6\n8.3;0.26;0.42;2;0.08;11;27;0.9974;3.21;0.8;9.4;6\n8.3;0.26;0.42;2;0.08;11;27;0.9974;3.21;0.8;9.4;6\n7.7;0.51;0.28;2.1;0.087;23;54;0.998;3.42;0.74;9.2;5\n7.4;0.63;0.07;2.4;0.09;11;37;0.9979;3.43;0.76;9.7;6\n7.8;0.54;0.26;2;0.088;23;48;0.9981;3.41;0.74;9.2;6\n8.3;0.66;0.15;1.9;0.079;17;42;0.9972;3.31;0.54;9.6;6\n7.8;0.46;0.26;1.9;0.088;23;53;0.9981;3.43;0.74;9.2;6\n9.6;0.38;0.31;2.5;0.096;16;49;0.9982;3.19;0.7;10;7\n5.6;0.85;0.05;1.4;0.045;12;88;0.9924;3.56;0.82;12.9;8\n13.7;0.415;0.68;2.9;0.085;17;43;1.0014;3.06;0.8;10;6\n9.5;0.37;0.52;2;0.082;6;26;0.998;3.18;0.51;9.5;5\n8.4;0.665;0.61;2;0.112;13;95;0.997;3.16;0.54;9.1;5\n12.7;0.6;0.65;2.3;0.063;6;25;0.9997;3.03;0.57;9.9;5\n12;0.37;0.76;4.2;0.066;7;38;1.0004;3.22;0.6;13;7\n6.6;0.735;0.02;7.9;0.122;68;124;0.9994;3.47;0.53;9.9;5\n11.5;0.59;0.59;2.6;0.087;13;49;0.9988;3.18;0.65;11;6\n11.5;0.59;0.59;2.6;0.087;13;49;0.9988;3.18;0.65;11;6\n8.7;0.765;0.22;2.3;0.064;9;42;0.9963;3.1;0.55;9.4;5\n6.6;0.735;0.02;7.9;0.122;68;124;0.9994;3.47;0.53;9.9;5\n7.7;0.26;0.3;1.7;0.059;20;38;0.9949;3.29;0.47;10.8;6\n12.2;0.48;0.54;2.6;0.085;19;64;1;3.1;0.61;10.5;6\n11.4;0.6;0.49;2.7;0.085;10;41;0.9994;3.15;0.63;10.5;6\n7.7;0.69;0.05;2.7;0.075;15;27;0.9974;3.26;0.61;9.1;5\n8.7;0.31;0.46;1.4;0.059;11;25;0.9966;3.36;0.76;10.1;6\n9.8;0.44;0.47;2.5;0.063;9;28;0.9981;3.24;0.65;10.8;6\n12;0.39;0.66;3;0.093;12;30;0.9996;3.18;0.63;10.8;7\n10.4;0.34;0.58;3.7;0.174;6;16;0.997;3.19;0.7;11.3;6\n12.5;0.46;0.49;4.5;0.07;26;49;0.9981;3.05;0.57;9.6;4\n9;0.43;0.34;2.5;0.08;26;86;0.9987;3.38;0.62;9.5;6\n9.1;0.45;0.35;2.4;0.08;23;78;0.9987;3.38;0.62;9.5;5\n7.1;0.735;0.16;1.9;0.1;15;77;0.9966;3.27;0.64;9.3;5\n9.9;0.4;0.53;6.7;0.097;6;19;0.9986;3.27;0.82;11.7;7\n8.8;0.52;0.34;2.7;0.087;24;122;0.9982;3.26;0.61;9.5;5\n8.6;0.725;0.24;6.6;0.117;31;134;1.0014;3.32;1.07;9.3;5\n10.6;0.48;0.64;2.2;0.111;6;20;0.997;3.26;0.66;11.7;6\n7;0.58;0.12;1.9;0.091;34;124;0.9956;3.44;0.48;10.5;5\n11.9;0.38;0.51;2;0.121;7;20;0.9996;3.24;0.76;10.4;6\n6.8;0.77;0;1.8;0.066;34;52;0.9976;3.62;0.68;9.9;5\n9.5;0.56;0.33;2.4;0.089;35;67;0.9972;3.28;0.73;11.8;7\n6.6;0.84;0.03;2.3;0.059;32;48;0.9952;3.52;0.56;12.3;7\n7.7;0.96;0.2;2;0.047;15;60;0.9955;3.36;0.44;10.9;5\n10.5;0.24;0.47;2.1;0.066;6;24;0.9978;3.15;0.9;11;7\n7.7;0.96;0.2;2;0.047;15;60;0.9955;3.36;0.44;10.9;5\n6.6;0.84;0.03;2.3;0.059;32;48;0.9952;3.52;0.56;12.3;7\n6.4;0.67;0.08;2.1;0.045;19;48;0.9949;3.49;0.49;11.4;6\n9.5;0.78;0.22;1.9;0.077;6;32;0.9988;3.26;0.56;10.6;6\n9.1;0.52;0.33;1.3;0.07;9;30;0.9978;3.24;0.6;9.3;5\n12.8;0.84;0.63;2.4;0.088;13;35;0.9997;3.1;0.6;10.4;6\n10.5;0.24;0.47;2.1;0.066;6;24;0.9978;3.15;0.9;11;7\n7.8;0.55;0.35;2.2;0.074;21;66;0.9974;3.25;0.56;9.2;5\n11.9;0.37;0.69;2.3;0.078;12;24;0.9958;3;0.65;12.8;6\n12.3;0.39;0.63;2.3;0.091;6;18;1.0004;3.16;0.49;9.5;5\n10.4;0.41;0.55;3.2;0.076;22;54;0.9996;3.15;0.89;9.9;6\n12.3;0.39;0.63;2.3;0.091;6;18;1.0004;3.16;0.49;9.5;5\n8;0.67;0.3;2;0.06;38;62;0.9958;3.26;0.56;10.2;6\n11.1;0.45;0.73;3.2;0.066;6;22;0.9986;3.17;0.66;11.2;6\n10.4;0.41;0.55;3.2;0.076;22;54;0.9996;3.15;0.89;9.9;6\n7;0.62;0.18;1.5;0.062;7;50;0.9951;3.08;0.6;9.3;5\n12.6;0.31;0.72;2.2;0.072;6;29;0.9987;2.88;0.82;9.8;8\n11.9;0.4;0.65;2.15;0.068;7;27;0.9988;3.06;0.68;11.3;6\n15.6;0.685;0.76;3.7;0.1;6;43;1.0032;2.95;0.68;11.2;7\n10;0.44;0.49;2.7;0.077;11;19;0.9963;3.23;0.63;11.6;7\n5.3;0.57;0.01;1.7;0.054;5;27;0.9934;3.57;0.84;12.5;7\n9.5;0.735;0.1;2.1;0.079;6;31;0.9986;3.23;0.56;10.1;6\n12.5;0.38;0.6;2.6;0.081;31;72;0.9996;3.1;0.73;10.5;5\n9.3;0.48;0.29;2.1;0.127;6;16;0.9968;3.22;0.72;11.2;5\n8.6;0.53;0.22;2;0.1;7;27;0.9967;3.2;0.56;10.2;6\n11.9;0.39;0.69;2.8;0.095;17;35;0.9994;3.1;0.61;10.8;6\n11.9;0.39;0.69;2.8;0.095;17;35;0.9994;3.1;0.61;10.8;6\n8.4;0.37;0.53;1.8;0.413;9;26;0.9979;3.06;1.06;9.1;6\n6.8;0.56;0.03;1.7;0.084;18;35;0.9968;3.44;0.63;10;6\n10.4;0.33;0.63;2.8;0.084;5;22;0.9998;3.26;0.74;11.2;7\n7;0.23;0.4;1.6;0.063;21;67;0.9952;3.5;0.63;11.1;5\n11.3;0.62;0.67;5.2;0.086;6;19;0.9988;3.22;0.69;13.4;8\n8.9;0.59;0.39;2.3;0.095;5;22;0.9986;3.37;0.58;10.3;5\n9.2;0.63;0.21;2.7;0.097;29;65;0.9988;3.28;0.58;9.6;5\n10.4;0.33;0.63;2.8;0.084;5;22;0.9998;3.26;0.74;11.2;7\n11.6;0.58;0.66;2.2;0.074;10;47;1.0008;3.25;0.57;9;3\n9.2;0.43;0.52;2.3;0.083;14;23;0.9976;3.35;0.61;11.3;6\n8.3;0.615;0.22;2.6;0.087;6;19;0.9982;3.26;0.61;9.3;5\n11;0.26;0.68;2.55;0.085;10;25;0.997;3.18;0.61;11.8;5\n8.1;0.66;0.7;2.2;0.098;25;129;0.9972;3.08;0.53;9;5\n11.5;0.315;0.54;2.1;0.084;5;15;0.9987;2.98;0.7;9.2;6\n10;0.29;0.4;2.9;0.098;10;26;1.0006;3.48;0.91;9.7;5\n10.3;0.5;0.42;2;0.069;21;51;0.9982;3.16;0.72;11.5;6\n8.8;0.46;0.45;2.6;0.065;7;18;0.9947;3.32;0.79;14;6\n11.4;0.36;0.69;2.1;0.09;6;21;1;3.17;0.62;9.2;6\n8.7;0.82;0.02;1.2;0.07;36;48;0.9952;3.2;0.58;9.8;5\n13;0.32;0.65;2.6;0.093;15;47;0.9996;3.05;0.61;10.6;5\n9.6;0.54;0.42;2.4;0.081;25;52;0.997;3.2;0.71;11.4;6\n12.5;0.37;0.55;2.6;0.083;25;68;0.9995;3.15;0.82;10.4;6\n9.9;0.35;0.55;2.1;0.062;5;14;0.9971;3.26;0.79;10.6;5\n10.5;0.28;0.51;1.7;0.08;10;24;0.9982;3.2;0.89;9.4;6\n9.6;0.68;0.24;2.2;0.087;5;28;0.9988;3.14;0.6;10.2;5\n9.3;0.27;0.41;2;0.091;6;16;0.998;3.28;0.7;9.7;5\n10.4;0.24\n\n*** WARNING: max output size exceeded, skipping output. ***\n\n11;0.9915;3.39;0.54;13.5;6\n6.3;0.76;0;2.9;0.072;26;52;0.99379;3.51;0.6;11.5;6\n10;0.43;0.33;2.7;0.095;28;89;0.9984;3.22;0.68;10;5\n10.5;0.43;0.35;3.3;0.092;24;70;0.99798;3.21;0.69;10.5;6\n9.1;0.6;0;1.9;0.058;5;10;0.9977;3.18;0.63;10.4;6\n5.9;0.19;0.21;1.7;0.045;57;135;0.99341;3.32;0.44;9.5;5\n7.4;0.36;0.34;1.8;0.075;18;38;0.9933;3.38;0.88;13.6;7\n7.2;0.48;0.07;5.5;0.089;10;18;0.99684;3.37;0.68;11.2;7\n8.5;0.28;0.35;1.7;0.061;6;15;0.99524;3.3;0.74;11.8;7\n8;0.25;0.43;1.7;0.067;22;50;0.9946;3.38;0.6;11.9;6\n10.4;0.52;0.45;2;0.08;6;13;0.99774;3.22;0.76;11.4;6\n10.4;0.52;0.45;2;0.08;6;13;0.99774;3.22;0.76;11.4;6\n7.5;0.41;0.15;3.7;0.104;29;94;0.99786;3.14;0.58;9.1;5\n8.2;0.51;0.24;2;0.079;16;86;0.99764;3.34;0.64;9.5;6\n7.3;0.4;0.3;1.7;0.08;33;79;0.9969;3.41;0.65;9.5;6\n8.2;0.38;0.32;2.5;0.08;24;71;0.99624;3.27;0.85;11;6\n6.9;0.45;0.11;2.4;0.043;6;12;0.99354;3.3;0.65;11.4;6\n7;0.22;0.3;1.8;0.065;16;20;0.99672;3.61;0.82;10;6\n7.3;0.32;0.23;2.3;0.066;35;70;0.99588;3.43;0.62;10.1;5\n8.2;0.2;0.43;2.5;0.076;31;51;0.99672;3.53;0.81;10.4;6\n7.8;0.5;0.12;1.8;0.178;6;21;0.996;3.28;0.87;9.8;6\n10;0.41;0.45;6.2;0.071;6;14;0.99702;3.21;0.49;11.8;7\n7.8;0.39;0.42;2;0.086;9;21;0.99526;3.39;0.66;11.6;6\n10;0.35;0.47;2;0.061;6;11;0.99585;3.23;0.52;12;6\n8.2;0.33;0.32;2.8;0.067;4;12;0.99473;3.3;0.76;12.8;7\n6.1;0.58;0.23;2.5;0.044;16;70;0.99352;3.46;0.65;12.5;6\n8.3;0.6;0.25;2.2;0.118;9;38;0.99616;3.15;0.53;9.8;5\n9.6;0.42;0.35;2.1;0.083;17;38;0.99622;3.23;0.66;11.1;6\n6.6;0.58;0;2.2;0.1;50;63;0.99544;3.59;0.68;11.4;6\n8.3;0.6;0.25;2.2;0.118;9;38;0.99616;3.15;0.53;9.8;5\n8.5;0.18;0.51;1.75;0.071;45;88;0.99524;3.33;0.76;11.8;7\n5.1;0.51;0.18;2.1;0.042;16;101;0.9924;3.46;0.87;12.9;7\n6.7;0.41;0.43;2.8;0.076;22;54;0.99572;3.42;1.16;10.6;6\n10.2;0.41;0.43;2.2;0.11;11;37;0.99728;3.16;0.67;10.8;5\n10.6;0.36;0.57;2.3;0.087;6;20;0.99676;3.14;0.72;11.1;7\n8.8;0.45;0.43;1.4;0.076;12;21;0.99551;3.21;0.75;10.2;6\n8.5;0.32;0.42;2.3;0.075;12;19;0.99434;3.14;0.71;11.8;7\n9;0.785;0.24;1.7;0.078;10;21;0.99692;3.29;0.67;10;5\n9;0.785;0.24;1.7;0.078;10;21;0.99692;3.29;0.67;10;5\n8.5;0.44;0.5;1.9;0.369;15;38;0.99634;3.01;1.1;9.4;5\n9.9;0.54;0.26;2;0.111;7;60;0.99709;2.94;0.98;10.2;5\n8.2;0.33;0.39;2.5;0.074;29;48;0.99528;3.32;0.88;12.4;7\n6.5;0.34;0.27;2.8;0.067;8;44;0.99384;3.21;0.56;12;6\n7.6;0.5;0.29;2.3;0.086;5;14;0.99502;3.32;0.62;11.5;6\n9.2;0.36;0.34;1.6;0.062;5;12;0.99667;3.2;0.67;10.5;6\n7.1;0.59;0;2.2;0.078;26;44;0.99522;3.42;0.68;10.8;6\n9.7;0.42;0.46;2.1;0.074;5;16;0.99649;3.27;0.74;12.3;6\n7.6;0.36;0.31;1.7;0.079;26;65;0.99716;3.46;0.62;9.5;6\n7.6;0.36;0.31;1.7;0.079;26;65;0.99716;3.46;0.62;9.5;6\n6.5;0.61;0;2.2;0.095;48;59;0.99541;3.61;0.7;11.5;6\n6.5;0.88;0.03;5.6;0.079;23;47;0.99572;3.58;0.5;11.2;4\n7.1;0.66;0;2.4;0.052;6;11;0.99318;3.35;0.66;12.7;7\n5.6;0.915;0;2.1;0.041;17;78;0.99346;3.68;0.73;11.4;5\n8.2;0.35;0.33;2.4;0.076;11;47;0.99599;3.27;0.81;11;6\n8.2;0.35;0.33;2.4;0.076;11;47;0.99599;3.27;0.81;11;6\n9.8;0.39;0.43;1.65;0.068;5;11;0.99478;3.19;0.46;11.4;5\n10.2;0.4;0.4;2.5;0.068;41;54;0.99754;3.38;0.86;10.5;6\n6.8;0.66;0.07;1.6;0.07;16;61;0.99572;3.29;0.6;9.3;5\n6.7;0.64;0.23;2.1;0.08;11;119;0.99538;3.36;0.7;10.9;5\n7;0.43;0.3;2;0.085;6;39;0.99346;3.33;0.46;11.9;6\n6.6;0.8;0.03;7.8;0.079;6;12;0.9963;3.52;0.5;12.2;5\n7;0.43;0.3;2;0.085;6;39;0.99346;3.33;0.46;11.9;6\n6.7;0.64;0.23;2.1;0.08;11;119;0.99538;3.36;0.7;10.9;5\n8.8;0.955;0.05;1.8;0.075;5;19;0.99616;3.3;0.44;9.6;4\n9.1;0.4;0.57;4.6;0.08;6;20;0.99652;3.28;0.57;12.5;6\n6.5;0.885;0;2.3;0.166;6;12;0.99551;3.56;0.51;10.8;5\n7.2;0.25;0.37;2.5;0.063;11;41;0.99439;3.52;0.8;12.4;7\n6.4;0.885;0;2.3;0.166;6;12;0.99551;3.56;0.51;10.8;5\n7;0.745;0.12;1.8;0.114;15;64;0.99588;3.22;0.59;9.5;6\n6.2;0.43;0.22;1.8;0.078;21;56;0.99633;3.52;0.6;9.5;6\n7.9;0.58;0.23;2.3;0.076;23;94;0.99686;3.21;0.58;9.5;6\n7.7;0.57;0.21;1.5;0.069;4;9;0.99458;3.16;0.54;9.8;6\n7.7;0.26;0.26;2;0.052;19;77;0.9951;3.15;0.79;10.9;6\n7.9;0.58;0.23;2.3;0.076;23;94;0.99686;3.21;0.58;9.5;6\n7.7;0.57;0.21;1.5;0.069;4;9;0.99458;3.16;0.54;9.8;6\n7.9;0.34;0.36;1.9;0.065;5;10;0.99419;3.27;0.54;11.2;7\n8.6;0.42;0.39;1.8;0.068;6;12;0.99516;3.35;0.69;11.7;8\n9.9;0.74;0.19;5.8;0.111;33;76;0.99878;3.14;0.55;9.4;5\n7.2;0.36;0.46;2.1;0.074;24;44;0.99534;3.4;0.85;11;7\n7.2;0.36;0.46;2.1;0.074;24;44;0.99534;3.4;0.85;11;7\n7.2;0.36;0.46;2.1;0.074;24;44;0.99534;3.4;0.85;11;7\n9.9;0.72;0.55;1.7;0.136;24;52;0.99752;3.35;0.94;10;5\n7.2;0.36;0.46;2.1;0.074;24;44;0.99534;3.4;0.85;11;7\n6.2;0.39;0.43;2;0.071;14;24;0.99428;3.45;0.87;11.2;7\n6.8;0.65;0.02;2.1;0.078;8;15;0.99498;3.35;0.62;10.4;6\n6.6;0.44;0.15;2.1;0.076;22;53;0.9957;3.32;0.62;9.3;5\n6.8;0.65;0.02;2.1;0.078;8;15;0.99498;3.35;0.62;10.4;6\n9.6;0.38;0.42;1.9;0.071;5;13;0.99659;3.15;0.75;10.5;6\n10.2;0.33;0.46;1.9;0.081;6;9;0.99628;3.1;0.48;10.4;6\n8.8;0.27;0.46;2.1;0.095;20;29;0.99488;3.26;0.56;11.3;6\n7.9;0.57;0.31;2;0.079;10;79;0.99677;3.29;0.69;9.5;6\n8.2;0.34;0.37;1.9;0.057;43;74;0.99408;3.23;0.81;12;6\n8.2;0.4;0.31;1.9;0.082;8;24;0.996;3.24;0.69;10.6;6\n9;0.39;0.4;1.3;0.044;25;50;0.99478;3.2;0.83;10.9;6\n10.9;0.32;0.52;1.8;0.132;17;44;0.99734;3.28;0.77;11.5;6\n10.9;0.32;0.52;1.8;0.132;17;44;0.99734;3.28;0.77;11.5;6\n8.1;0.53;0.22;2.2;0.078;33;89;0.99678;3.26;0.46;9.6;6\n10.5;0.36;0.47;2.2;0.074;9;23;0.99638;3.23;0.76;12;6\n12.6;0.39;0.49;2.5;0.08;8;20;0.9992;3.07;0.82;10.3;6\n9.2;0.46;0.23;2.6;0.091;18;77;0.99922;3.15;0.51;9.4;5\n7.5;0.58;0.03;4.1;0.08;27;46;0.99592;3.02;0.47;9.2;5\n9;0.58;0.25;2;0.104;8;21;0.99769;3.27;0.72;9.6;5\n5.1;0.42;0;1.8;0.044;18;88;0.99157;3.68;0.73;13.6;7\n7.6;0.43;0.29;2.1;0.075;19;66;0.99718;3.4;0.64;9.5;5\n7.7;0.18;0.34;2.7;0.066;15;58;0.9947;3.37;0.78;11.8;6\n7.8;0.815;0.01;2.6;0.074;48;90;0.99621;3.38;0.62;10.8;5\n7.6;0.43;0.29;2.1;0.075;19;66;0.99718;3.4;0.64;9.5;5\n10.2;0.23;0.37;2.2;0.057;14;36;0.99614;3.23;0.49;9.3;4\n7.1;0.75;0.01;2.2;0.059;11;18;0.99242;3.39;0.4;12.8;6\n6;0.33;0.32;12.9;0.054;6;113;0.99572;3.3;0.56;11.5;4\n7.8;0.55;0;1.7;0.07;7;17;0.99659;3.26;0.64;9.4;6\n7.1;0.75;0.01;2.2;0.059;11;18;0.99242;3.39;0.4;12.8;6\n8.1;0.73;0;2.5;0.081;12;24;0.99798;3.38;0.46;9.6;4\n6.5;0.67;0;4.3;0.057;11;20;0.99488;3.45;0.56;11.8;4\n7.5;0.61;0.2;1.7;0.076;36;60;0.99494;3.1;0.4;9.3;5\n9.8;0.37;0.39;2.5;0.079;28;65;0.99729;3.16;0.59;9.8;5\n9;0.4;0.41;2;0.058;15;40;0.99414;3.22;0.6;12.2;6\n8.3;0.56;0.22;2.4;0.082;10;86;0.9983;3.37;0.62;9.5;5\n5.9;0.29;0.25;13.4;0.067;72;160;0.99721;3.33;0.54;10.3;6\n7.4;0.55;0.19;1.8;0.082;15;34;0.99655;3.49;0.68;10.5;5\n7.4;0.74;0.07;1.7;0.086;15;48;0.99502;3.12;0.48;10;5\n7.4;0.55;0.19;1.8;0.082;15;34;0.99655;3.49;0.68;10.5;5\n6.9;0.41;0.33;2.2;0.081;22;36;0.9949;3.41;0.75;11.1;6\n7.1;0.6;0.01;2.3;0.079;24;37;0.99514;3.4;0.61;10.9;6\n7.1;0.6;0.01;2.3;0.079;24;37;0.99514;3.4;0.61;10.9;6\n7.5;0.58;0.14;2.2;0.077;27;60;0.9963;3.28;0.59;9.8;5\n7.1;0.72;0;1.8;0.123;6;14;0.99627;3.45;0.58;9.8;5\n7.9;0.66;0;1.4;0.096;6;13;0.99569;3.43;0.58;9.5;5\n7.8;0.7;0.06;1.9;0.079;20;35;0.99628;3.4;0.69;10.9;5\n6.1;0.64;0.02;2.4;0.069;26;46;0.99358;3.47;0.45;11;5\n7.5;0.59;0.22;1.8;0.082;43;60;0.99499;3.1;0.42;9.2;5\n7;0.58;0.28;4.8;0.085;12;69;0.99633;3.32;0.7;11;6\n6.8;0.64;0;2.7;0.123;15;33;0.99538;3.44;0.63;11.3;6\n6.8;0.64;0;2.7;0.123;15;33;0.99538;3.44;0.63;11.3;6\n8.6;0.635;0.68;1.8;0.403;19;56;0.99632;3.02;1.15;9.3;5\n6.3;1.02;0;2;0.083;17;24;0.99437;3.59;0.55;11.2;4\n9.8;0.45;0.38;2.5;0.081;34;66;0.99726;3.15;0.58;9.8;5\n8.2;0.78;0;2.2;0.089;13;26;0.9978;3.37;0.46;9.6;4\n8.5;0.37;0.32;1.8;0.066;26;51;0.99456;3.38;0.72;11.8;6\n7.2;0.57;0.05;2.3;0.081;16;36;0.99564;3.38;0.6;10.3;6\n7.2;0.57;0.05;2.3;0.081;16;36;0.99564;3.38;0.6;10.3;6\n10.4;0.43;0.5;2.3;0.068;13;19;0.996;3.1;0.87;11.4;6\n6.9;0.41;0.31;2;0.079;21;51;0.99668;3.47;0.55;9.5;6\n5.5;0.49;0.03;1.8;0.044;28;87;0.9908;3.5;0.82;14;8\n5;0.38;0.01;1.6;0.048;26;60;0.99084;3.7;0.75;14;6\n7.3;0.44;0.2;1.6;0.049;24;64;0.9935;3.38;0.57;11.7;6\n5.9;0.46;0;1.9;0.077;25;44;0.99385;3.5;0.53;11.2;5\n7.5;0.58;0.2;2;0.073;34;44;0.99494;3.1;0.43;9.3;5\n7.8;0.58;0.13;2.1;0.102;17;36;0.9944;3.24;0.53;11.2;6\n8;0.715;0.22;2.3;0.075;13;81;0.99688;3.24;0.54;9.5;6\n8.5;0.4;0.4;6.3;0.05;3;10;0.99566;3.28;0.56;12;4\n7;0.69;0;1.9;0.114;3;10;0.99636;3.35;0.6;9.7;6\n8;0.715;0.22;2.3;0.075;13;81;0.99688;3.24;0.54;9.5;6\n9.8;0.3;0.39;1.7;0.062;3;9;0.9948;3.14;0.57;11.5;7\n7.1;0.46;0.2;1.9;0.077;28;54;0.9956;3.37;0.64;10.4;6\n7.1;0.46;0.2;1.9;0.077;28;54;0.9956;3.37;0.64;10.4;6\n7.9;0.765;0;2;0.084;9;22;0.99619;3.33;0.68;10.9;6\n8.7;0.63;0.28;2.7;0.096;17;69;0.99734;3.26;0.63;10.2;6\n7;0.42;0.19;2.3;0.071;18;36;0.99476;3.39;0.56;10.9;5\n11.3;0.37;0.5;1.8;0.09;20;47;0.99734;3.15;0.57;10.5;5\n7.1;0.16;0.44;2.5;0.068;17;31;0.99328;3.35;0.54;12.4;6\n8;0.6;0.08;2.6;0.056;3;7;0.99286;3.22;0.37;13;5\n7;0.6;0.3;4.5;0.068;20;110;0.99914;3.3;1.17;10.2;5\n7;0.6;0.3;4.5;0.068;20;110;0.99914;3.3;1.17;10.2;5\n7.6;0.74;0;1.9;0.1;6;12;0.99521;3.36;0.59;11;5\n8.2;0.635;0.1;2.1;0.073;25;60;0.99638;3.29;0.75;10.9;6\n5.9;0.395;0.13;2.4;0.056;14;28;0.99362;3.62;0.67;12.4;6\n7.5;0.755;0;1.9;0.084;6;12;0.99672;3.34;0.49;9.7;4\n8.2;0.635;0.1;2.1;0.073;25;60;0.99638;3.29;0.75;10.9;6\n6.6;0.63;0;4.3;0.093;51;77.5;0.99558;3.2;0.45;9.5;5\n6.6;0.63;0;4.3;0.093;51;77.5;0.99558;3.2;0.45;9.5;5\n7.2;0.53;0.14;2.1;0.064;15;29;0.99323;3.35;0.61;12.1;6\n5.7;0.6;0;1.4;0.063;11;18;0.99191;3.45;0.56;12.2;6\n7.6;1.58;0;2.1;0.137;5;9;0.99476;3.5;0.4;10.9;3\n5.2;0.645;0;2.15;0.08;15;28;0.99444;3.78;0.61;12.5;6\n6.7;0.86;0.07;2;0.1;20;57;0.99598;3.6;0.74;11.7;6\n9.1;0.37;0.32;2.1;0.064;4;15;0.99576;3.3;0.8;11.2;6\n8;0.28;0.44;1.8;0.081;28;68;0.99501;3.36;0.66;11.2;5\n7.6;0.79;0.21;2.3;0.087;21;68;0.9955;3.12;0.44;9.2;5\n7.5;0.61;0.26;1.9;0.073;24;88;0.99612;3.3;0.53;9.8;5\n9.7;0.69;0.32;2.5;0.088;22;91;0.9979;3.29;0.62;10.1;5\n6.8;0.68;0.09;3.9;0.068;15;29;0.99524;3.41;0.52;11.1;4\n9.7;0.69;0.32;2.5;0.088;22;91;0.9979;3.29;0.62;10.1;5\n7;0.62;0.1;1.4;0.071;27;63;0.996;3.28;0.61;9.2;5\n7.5;0.61;0.26;1.9;0.073;24;88;0.99612;3.3;0.53;9.8;5\n6.5;0.51;0.15;3;0.064;12;27;0.9929;3.33;0.59;12.8;6\n8;1.18;0.21;1.9;0.083;14;41;0.99532;3.34;0.47;10.5;5\n7;0.36;0.21;2.3;0.086;20;65;0.99558;3.4;0.54;10.1;6\n7;0.36;0.21;2.4;0.086;24;69;0.99556;3.4;0.53;10.1;6\n7.5;0.63;0.27;2;0.083;17;91;0.99616;3.26;0.58;9.8;6\n5.4;0.74;0;1.2;0.041;16;46;0.99258;4.01;0.59;12.5;6\n9.9;0.44;0.46;2.2;0.091;10;41;0.99638;3.18;0.69;11.9;6\n7.5;0.63;0.27;2;0.083;17;91;0.99616;3.26;0.58;9.8;6\n9.1;0.76;0.68;1.7;0.414;18;64;0.99652;2.9;1.33;9.1;6\n9.7;0.66;0.34;2.6;0.094;12;88;0.99796;3.26;0.66;10.1;5\n5;0.74;0;1.2;0.041;16;46;0.99258;4.01;0.59;12.5;6\n9.1;0.34;0.42;1.8;0.058;9;18;0.99392;3.18;0.55;11.4;5\n9.1;0.36;0.39;1.8;0.06;21;55;0.99495;3.18;0.82;11;7\n6.7;0.46;0.24;1.7;0.077;18;34;0.9948;3.39;0.6;10.6;6\n6.7;0.46;0.24;1.7;0.077;18;34;0.9948;3.39;0.6;10.6;6\n6.7;0.46;0.24;1.7;0.077;18;34;0.9948;3.39;0.6;10.6;6\n6.7;0.46;0.24;1.7;0.077;18;34;0.9948;3.39;0.6;10.6;6\n6.5;0.52;0.11;1.8;0.073;13;38;0.9955;3.34;0.52;9.3;5\n7.4;0.6;0.26;2.1;0.083;17;91;0.99616;3.29;0.56;9.8;6\n7.4;0.6;0.26;2.1;0.083;17;91;0.99616;3.29;0.56;9.8;6\n7.8;0.87;0.26;3.8;0.107;31;67;0.99668;3.26;0.46;9.2;5\n8.4;0.39;0.1;1.7;0.075;6;25;0.99581;3.09;0.43;9.7;6\n9.1;0.775;0.22;2.2;0.079;12;48;0.9976;3.18;0.51;9.6;5\n7.2;0.835;0;2;0.166;4;11;0.99608;3.39;0.52;10;5\n6.6;0.58;0.02;2.4;0.069;19;40;0.99387;3.38;0.66;12.6;6\n6;0.5;0;1.4;0.057;15;26;0.99448;3.36;0.45;9.5;5\n6;0.5;0;1.4;0.057;15;26;0.99448;3.36;0.45;9.5;5\n6;0.5;0;1.4;0.057;15;26;0.99448;3.36;0.45;9.5;5\n7.5;0.51;0.02;1.7;0.084;13;31;0.99538;3.36;0.54;10.5;6\n7.5;0.51;0.02;1.7;0.084;13;31;0.99538;3.36;0.54;10.5;6\n7.5;0.51;0.02;1.7;0.084;13;31;0.99538;3.36;0.54;10.5;6\n7.6;0.54;0.02;1.7;0.085;17;31;0.99589;3.37;0.51;10.4;6\n7.5;0.51;0.02;1.7;0.084;13;31;0.99538;3.36;0.54;10.5;6\n11.5;0.42;0.48;2.6;0.077;8;20;0.99852;3.09;0.53;11;5\n8.2;0.44;0.24;2.3;0.063;10;28;0.99613;3.25;0.53;10.2;6\n6.1;0.59;0.01;2.1;0.056;5;13;0.99472;3.52;0.56;11.4;5\n7.2;0.655;0.03;1.8;0.078;7;12;0.99587;3.34;0.39;9.5;5\n7.2;0.655;0.03;1.8;0.078;7;12;0.99587;3.34;0.39;9.5;5\n6.9;0.57;0;2.8;0.081;21;41;0.99518;3.41;0.52;10.8;5\n9;0.6;0.29;2;0.069;32;73;0.99654;3.34;0.57;10;5\n7.2;0.62;0.01;2.3;0.065;8;46;0.99332;3.32;0.51;11.8;6\n7.6;0.645;0.03;1.9;0.086;14;57;0.9969;3.37;0.46;10.3;5\n7.6;0.645;0.03;1.9;0.086;14;57;0.9969;3.37;0.46;10.3;5\n7.2;0.58;0.03;2.3;0.077;7;28;0.99568;3.35;0.52;10;5\n6.1;0.32;0.25;1.8;0.086;5;32;0.99464;3.36;0.44;10.1;5\n6.1;0.34;0.25;1.8;0.084;4;28;0.99464;3.36;0.44;10.1;5\n7.3;0.43;0.24;2.5;0.078;27;67;0.99648;3.6;0.59;11.1;6\n7.4;0.64;0.17;5.4;0.168;52;98;0.99736;3.28;0.5;9.5;5\n11.6;0.475;0.4;1.4;0.091;6;28;0.99704;3.07;0.65;10.0333333333333;6\n9.2;0.54;0.31;2.3;0.112;11;38;0.99699;3.24;0.56;10.9;5\n8.3;0.85;0.14;2.5;0.093;13;54;0.99724;3.36;0.54;10.1;5\n11.6;0.475;0.4;1.4;0.091;6;28;0.99704;3.07;0.65;10.0333333333333;6\n8;0.83;0.27;2;0.08;11;63;0.99652;3.29;0.48;9.8;4\n7.2;0.605;0.02;1.9;0.096;10;31;0.995;3.46;0.53;11.8;6\n7.8;0.5;0.09;2.2;0.115;10;42;0.9971;3.18;0.62;9.5;5\n7.3;0.74;0.08;1.7;0.094;10;45;0.99576;3.24;0.5;9.8;5\n6.9;0.54;0.3;2.2;0.088;9;105;0.99725;3.25;1.18;10.5;6\n8;0.77;0.32;2.1;0.079;16;74;0.99656;3.27;0.5;9.8;6\n6.6;0.61;0;1.6;0.069;4;8;0.99396;3.33;0.37;10.4;4\n8.7;0.78;0.51;1.7;0.415;12;66;0.99623;3;1.17;9.2;5\n7.5;0.58;0.56;3.1;0.153;5;14;0.99476;3.21;1.03;11.6;6\n8.7;0.78;0.51;1.7;0.415;12;66;0.99623;3;1.17;9.2;5\n7.7;0.75;0.27;3.8;0.11;34;89;0.99664;3.24;0.45;9.3;5\n6.8;0.815;0;1.2;0.267;16;29;0.99471;3.32;0.51;9.8;3\n7.2;0.56;0.26;2;0.083;13;100;0.99586;3.26;0.52;9.9;5\n8.2;0.885;0.2;1.4;0.086;7;31;0.9946;3.11;0.46;10;5\n5.2;0.49;0.26;2.3;0.09;23;74;0.9953;3.71;0.62;12.2;6\n7.2;0.45;0.15;2;0.078;10;28;0.99609;3.29;0.51;9.9;6\n7.5;0.57;0.02;2.6;0.077;11;35;0.99557;3.36;0.62;10.8;6\n7.5;0.57;0.02;2.6;0.077;11;35;0.99557;3.36;0.62;10.8;6\n6.8;0.83;0.09;1.8;0.074;4;25;0.99534;3.38;0.45;9.6;5\n8;0.6;0.22;2.1;0.08;25;105;0.99613;3.3;0.49;9.9;5\n8;0.6;0.22;2.1;0.08;25;105;0.99613;3.3;0.49;9.9;5\n7.1;0.755;0.15;1.8;0.107;20;84;0.99593;3.19;0.5;9.5;5\n8;0.81;0.25;3.4;0.076;34;85;0.99668;3.19;0.42;9.2;5\n7.4;0.64;0.07;1.8;0.1;8;23;0.9961;3.3;0.58;9.6;5\n7.4;0.64;0.07;1.8;0.1;8;23;0.9961;3.3;0.58;9.6;5\n6.6;0.64;0.31;6.1;0.083;7;49;0.99718;3.35;0.68;10.3;5\n6.7;0.48;0.02;2.2;0.08;36;111;0.99524;3.1;0.53;9.7;5\n6;0.49;0;2.3;0.068;15;33;0.99292;3.58;0.59;12.5;6\n8;0.64;0.22;2.4;0.094;5;33;0.99612;3.37;0.58;11;5\n7.1;0.62;0.06;1.3;0.07;5;12;0.9942;3.17;0.48;9.8;5\n8;0.52;0.25;2;0.078;19;59;0.99612;3.3;0.48;10.2;5\n6.4;0.57;0.14;3.9;0.07;27;73;0.99669;3.32;0.48;9.2;5\n8.6;0.685;0.1;1.6;0.092;3;12;0.99745;3.31;0.65;9.55;6\n8.7;0.675;0.1;1.6;0.09;4;11;0.99745;3.31;0.65;9.55;5\n7.3;0.59;0.26;2;0.08;17;104;0.99584;3.28;0.52;9.9;5\n7;0.6;0.12;2.2;0.083;13;28;0.9966;3.52;0.62;10.2;7\n7.2;0.67;0;2.2;0.068;10;24;0.9956;3.42;0.72;11.1;6\n7.9;0.69;0.21;2.1;0.08;33;141;0.9962;3.25;0.51;9.9;5\n7.9;0.69;0.21;2.1;0.08;33;141;0.9962;3.25;0.51;9.9;5\n7.6;0.3;0.42;2;0.052;6;24;0.9963;3.44;0.82;11.9;6\n7.2;0.33;0.33;1.7;0.061;3;13;0.996;3.23;1.1;10;8\n8;0.5;0.39;2.6;0.082;12;46;0.9985;3.43;0.62;10.7;6\n7.7;0.28;0.3;2;0.062;18;34;0.9952;3.28;0.9;11.3;7\n8.2;0.24;0.34;5.1;0.062;8;22;0.9974;3.22;0.94;10.9;6\n6;0.51;0;2.1;0.064;40;54;0.995;3.54;0.93;10.7;6\n8.1;0.29;0.36;2.2;0.048;35;53;0.995;3.27;1.01;12.4;7\n6;0.51;0;2.1;0.064;40;54;0.995;3.54;0.93;10.7;6\n6.6;0.96;0;1.8;0.082;5;16;0.9936;3.5;0.44;11.9;6\n6.4;0.47;0.4;2.4;0.071;8;19;0.9963;3.56;0.73;10.6;6\n8.2;0.24;0.34;5.1;0.062;8;22;0.9974;3.22;0.94;10.9;6\n9.9;0.57;0.25;2;0.104;12;89;0.9963;3.04;0.9;10.1;5\n10;0.32;0.59;2.2;0.077;3;15;0.9994;3.2;0.78;9.6;5\n6.2;0.58;0;1.6;0.065;8;18;0.9966;3.56;0.84;9.4;5\n10;0.32;0.59;2.2;0.077;3;15;0.9994;3.2;0.78;9.6;5\n7.3;0.34;0.33;2.5;0.064;21;37;0.9952;3.35;0.77;12.1;7\n7.8;0.53;0.01;1.6;0.077;3;19;0.995;3.16;0.46;9.8;5\n7.7;0.64;0.21;2.2;0.077;32;133;0.9956;3.27;0.45;9.9;5\n7.8;0.53;0.01;1.6;0.077;3;19;0.995;3.16;0.46;9.8;5\n7.5;0.4;0.18;1.6;0.079;24;58;0.9965;3.34;0.58;9.4;5\n7;0.54;0;2.1;0.079;39;55;0.9956;3.39;0.84;11.4;6\n6.4;0.53;0.09;3.9;0.123;14;31;0.9968;3.5;0.67;11;4\n8.3;0.26;0.37;1.4;0.076;8;23;0.9974;3.26;0.7;9.6;6\n8.3;0.26;0.37;1.4;0.076;8;23;0.9974;3.26;0.7;9.6;6\n7.7;0.23;0.37;1.8;0.046;23;60;0.9971;3.41;0.71;12.1;6\n7.6;0.41;0.33;2.5;0.078;6;23;0.9957;3.3;0.58;11.2;5\n7.8;0.64;0;1.9;0.072;27;55;0.9962;3.31;0.63;11;5\n7.9;0.18;0.4;2.2;0.049;38;67;0.996;3.33;0.93;11.3;5\n7.4;0.41;0.24;1.8;0.066;18;47;0.9956;3.37;0.62;10.4;5\n7.6;0.43;0.31;2.1;0.069;13;74;0.9958;3.26;0.54;9.9;6\n5.9;0.44;0;1.6;0.042;3;11;0.9944;3.48;0.85;11.7;6\n6.1;0.4;0.16;1.8;0.069;11;25;0.9955;3.42;0.74;10.1;7\n10.2;0.54;0.37;15.4;0.214;55;95;1.00369;3.18;0.77;9;6\n10.2;0.54;0.37;15.4;0.214;55;95;1.00369;3.18;0.77;9;6\n10;0.38;0.38;1.6;0.169;27;90;0.99914;3.15;0.65;8.5;5\n6.8;0.915;0.29;4.8;0.07;15;39;0.99577;3.53;0.54;11.1;5\n7;0.59;0;1.7;0.052;3;8;0.996;3.41;0.47;10.3;5\n7.3;0.67;0.02;2.2;0.072;31;92;0.99566;3.32;0.68;11.0666666666667;6\n7.2;0.37;0.32;2;0.062;15;28;0.9947;3.23;0.73;11.3;7\n7.4;0.785;0.19;5.2;0.094;19;98;0.99713;3.16;0.52;9.56666666666667;6\n6.9;0.63;0.02;1.9;0.078;18;30;0.99712;3.4;0.75;9.8;5\n6.9;0.58;0.2;1.75;0.058;8;22;0.99322;3.38;0.49;11.7;5\n7.3;0.67;0.02;2.2;0.072;31;92;0.99566;3.32;0.68;11.1;6\n7.4;0.785;0.19;5.2;0.094;19;98;0.99713;3.16;0.52;9.6;6\n6.9;0.63;0.02;1.9;0.078;18;30;0.99712;3.4;0.75;9.8;5\n6.8;0.67;0;1.9;0.08;22;39;0.99701;3.4;0.74;9.7;5\n6.9;0.58;0.01;1.9;0.08;40;54;0.99683;3.4;0.73;9.7;5\n7.2;0.38;0.31;2;0.056;15;29;0.99472;3.23;0.76;11.3;8\n7.2;0.37;0.32;2;0.062;15;28;0.9947;3.23;0.73;11.3;7\n7.8;0.32;0.44;2.7;0.104;8;17;0.99732;3.33;0.78;11;7\n6.6;0.58;0.02;2;0.062;37;53;0.99374;3.35;0.76;11.6;7\n7.6;0.49;0.33;1.9;0.074;27;85;0.99706;3.41;0.58;9;5\n11.7;0.45;0.63;2.2;0.073;7;23;0.99974;3.21;0.69;10.9;6\n6.5;0.9;0;1.6;0.052;9;17;0.99467;3.5;0.63;10.9;6\n6;0.54;0.06;1.8;0.05;38;89;0.99236;3.3;0.5;10.55;6\n7.6;0.49;0.33;1.9;0.074;27;85;0.99706;3.41;0.58;9;5\n8.4;0.29;0.4;1.7;0.067;8;20;0.99603;3.39;0.6;10.5;5\n7.9;0.2;0.35;1.7;0.054;7;15;0.99458;3.32;0.8;11.9;7\n6.4;0.42;0.09;2.3;0.054;34;64;0.99724;3.41;0.68;10.4;6\n6.2;0.785;0;2.1;0.06;6;13;0.99664;3.59;0.61;10;4\n6.8;0.64;0.03;2.3;0.075;14;31;0.99545;3.36;0.58;10.4;6\n6.9;0.63;0.01;2.4;0.076;14;39;0.99522;3.34;0.53;10.8;6\n6.8;0.59;0.1;1.7;0.063;34;53;0.9958;3.41;0.67;9.7;5\n6.8;0.59;0.1;1.7;0.063;34;53;0.9958;3.41;0.67;9.7;5\n7.3;0.48;0.32;2.1;0.062;31;54;0.99728;3.3;0.65;10;7\n6.7;1.04;0.08;2.3;0.067;19;32;0.99648;3.52;0.57;11;4\n7.3;0.48;0.32;2.1;0.062;31;54;0.99728;3.3;0.65;10;7\n7.3;0.98;0.05;2.1;0.061;20;49;0.99705;3.31;0.55;9.7;3\n10;0.69;0.11;1.4;0.084;8;24;0.99578;2.88;0.47;9.7;5\n6.7;0.7;0.08;3.75;0.067;8;16;0.99334;3.43;0.52;12.6;5\n7.6;0.35;0.6;2.6;0.073;23;44;0.99656;3.38;0.79;11.1;6\n6.1;0.6;0.08;1.8;0.071;14;45;0.99336;3.38;0.54;11;5\n9.9;0.5;0.5;13.8;0.205;48;82;1.00242;3.16;0.75;8.8;5\n5.3;0.47;0.11;2.2;0.048;16;89;0.99182;3.54;0.88;13.5666666666667;7\n9.9;0.5;0.5;13.8;0.205;48;82;1.00242;3.16;0.75;8.8;5\n5.3;0.47;0.11;2.2;0.048;16;89;0.99182;3.54;0.88;13.6;7\n7.1;0.875;0.05;5.7;0.082;3;14;0.99808;3.4;0.52;10.2;3\n8.2;0.28;0.6;3;0.104;10;22;0.99828;3.39;0.68;10.6;5\n5.6;0.62;0.03;1.5;0.08;6;13;0.99498;3.66;0.62;10.1;4\n8.2;0.28;0.6;3;0.104;10;22;0.99828;3.39;0.68;10.6;5\n7.2;0.58;0.54;2.1;0.114;3;9;0.99719;3.33;0.57;10.3;4\n8.1;0.33;0.44;1.5;0.042;6;12;0.99542;3.35;0.61;10.7;5\n6.8;0.91;0.06;2;0.06;4;11;0.99592;3.53;0.64;10.9;4\n7;0.655;0.16;2.1;0.074;8;25;0.99606;3.37;0.55;9.7;5\n6.8;0.68;0.21;2.1;0.07;9;23;0.99546;3.38;0.6;10.3;5\n6;0.64;0.05;1.9;0.066;9;17;0.99496;3.52;0.78;10.6;5\n5.6;0.54;0.04;1.7;0.049;5;13;0.9942;3.72;0.58;11.4;5\n6.2;0.57;0.1;2.1;0.048;4;11;0.99448;3.44;0.76;10.8;6\n7.1;0.22;0.49;1.8;0.039;8;18;0.99344;3.39;0.56;12.4;6\n5.6;0.54;0.04;1.7;0.049;5;13;0.9942;3.72;0.58;11.4;5\n6.2;0.65;0.06;1.6;0.05;6;18;0.99348;3.57;0.54;11.95;5\n7.7;0.54;0.26;1.9;0.089;23;147;0.99636;3.26;0.59;9.7;5\n6.4;0.31;0.09;1.4;0.066;15;28;0.99459;3.42;0.7;10;7\n7;0.43;0.02;1.9;0.08;15;28;0.99492;3.35;0.81;10.6;6\n7.7;0.54;0.26;1.9;0.089;23;147;0.99636;3.26;0.59;9.7;5\n6.9;0.74;0.03;2.3;0.054;7;16;0.99508;3.45;0.63;11.5;6\n6.6;0.895;0.04;2.3;0.068;7;13;0.99582;3.53;0.58;10.8;6\n6.9;0.74;0.03;2.3;0.054;7;16;0.99508;3.45;0.63;11.5;6\n7.5;0.725;0.04;1.5;0.076;8;15;0.99508;3.26;0.53;9.6;5\n7.8;0.82;0.29;4.3;0.083;21;64;0.99642;3.16;0.53;9.4;5\n7.3;0.585;0.18;2.4;0.078;15;60;0.99638;3.31;0.54;9.8;5\n6.2;0.44;0.39;2.5;0.077;6;14;0.99555;3.51;0.69;11;6\n7.5;0.38;0.57;2.3;0.106;5;12;0.99605;3.36;0.55;11.4;6\n6.7;0.76;0.02;1.8;0.078;6;12;0.996;3.55;0.63;9.95;3\n6.8;0.81;0.05;2;0.07;6;14;0.99562;3.51;0.66;10.8;6\n7.5;0.38;0.57;2.3;0.106;5;12;0.99605;3.36;0.55;11.4;6\n7.1;0.27;0.6;2.1;0.074;17;25;0.99814;3.38;0.72;10.6;6\n7.9;0.18;0.4;1.8;0.062;7;20;0.9941;3.28;0.7;11.1;5\n6.4;0.36;0.21;2.2;0.047;26;48;0.99661;3.47;0.77;9.7;6\n7.1;0.69;0.04;2.1;0.068;19;27;0.99712;3.44;0.67;9.8;5\n6.4;0.79;0.04;2.2;0.061;11;17;0.99588;3.53;0.65;10.4;6\n6.4;0.56;0.15;1.8;0.078;17;65;0.99294;3.33;0.6;10.5;6\n6.9;0.84;0.21;4.1;0.074;16;65;0.99842;3.53;0.72;9.23333333333333;6\n6.9;0.84;0.21;4.1;0.074;16;65;0.99842;3.53;0.72;9.25;6\n6.1;0.32;0.25;2.3;0.071;23;58;0.99633;3.42;0.97;10.6;5\n6.5;0.53;0.06;2;0.063;29;44;0.99489;3.38;0.83;10.3;6\n7.4;0.47;0.46;2.2;0.114;7;20;0.99647;3.32;0.63;10.5;5\n6.6;0.7;0.08;2.6;0.106;14;27;0.99665;3.44;0.58;10.2;5\n6.5;0.53;0.06;2;0.063;29;44;0.99489;3.38;0.83;10.3;6\n6.9;0.48;0.2;1.9;0.082;9;23;0.99585;3.39;0.43;9.05;4\n6.1;0.32;0.25;2.3;0.071;23;58;0.99633;3.42;0.97;10.6;5\n6.8;0.48;0.25;2;0.076;29;61;0.9953;3.34;0.6;10.4;5\n6;0.42;0.19;2;0.075;22;47;0.99522;3.39;0.78;10;6\n6.7;0.48;0.08;2.1;0.064;18;34;0.99552;3.33;0.64;9.7;5\n6.8;0.47;0.08;2.2;0.064;18;38;0.99553;3.3;0.65;9.6;6\n7.1;0.53;0.07;1.7;0.071;15;24;0.9951;3.29;0.66;10.8;6\n7.9;0.29;0.49;2.2;0.096;21;59;0.99714;3.31;0.67;10.1;6\n7.1;0.69;0.08;2.1;0.063;42;52;0.99608;3.42;0.6;10.2;6\n6.6;0.44;0.09;2.2;0.063;9;18;0.99444;3.42;0.69;11.3;6\n6.1;0.705;0.1;2.8;0.081;13;28;0.99631;3.6;0.66;10.2;5\n7.2;0.53;0.13;2;0.058;18;22;0.99573;3.21;0.68;9.9;6\n8;0.39;0.3;1.9;0.074;32;84;0.99717;3.39;0.61;9;5\n6.6;0.56;0.14;2.4;0.064;13;29;0.99397;3.42;0.62;11.7;7\n7;0.55;0.13;2.2;0.075;15;35;0.9959;3.36;0.59;9.7;6\n6.1;0.53;0.08;1.9;0.077;24;45;0.99528;3.6;0.68;10.3;6\n5.4;0.58;0.08;1.9;0.059;20;31;0.99484;3.5;0.64;10.2;6\n6.2;0.64;0.09;2.5;0.081;15;26;0.99538;3.57;0.63;12;5\n7.2;0.39;0.32;1.8;0.065;34;60;0.99714;3.46;0.78;9.9;5\n6.2;0.52;0.08;4.4;0.071;11;32;0.99646;3.56;0.63;11.6;6\n7.4;0.25;0.29;2.2;0.054;19;49;0.99666;3.4;0.76;10.9;7\n6.7;0.855;0.02;1.9;0.064;29;38;0.99472;3.3;0.56;10.75;6\n11.1;0.44;0.42;2.2;0.064;14;19;0.99758;3.25;0.57;10.4;6\n8.4;0.37;0.43;2.3;0.063;12;19;0.9955;3.17;0.81;11.2;7\n6.5;0.63;0.33;1.8;0.059;16;28;0.99531;3.36;0.64;10.1;6\n7;0.57;0.02;2;0.072;17;26;0.99575;3.36;0.61;10.2;5\n6.3;0.6;0.1;1.6;0.048;12;26;0.99306;3.55;0.51;12.1;5\n11.2;0.4;0.5;2;0.099;19;50;0.99783;3.1;0.58;10.4;5\n7.4;0.36;0.3;1.8;0.074;17;24;0.99419;3.24;0.7;11.4;8\n7.1;0.68;0;2.3;0.087;17;26;0.99783;3.45;0.53;9.5;5\n7.1;0.67;0;2.3;0.083;18;27;0.99768;3.44;0.54;9.4;5\n6.3;0.68;0.01;3.7;0.103;32;54;0.99586;3.51;0.66;11.3;6\n7.3;0.735;0;2.2;0.08;18;28;0.99765;3.41;0.6;9.4;5\n6.6;0.855;0.02;2.4;0.062;15;23;0.99627;3.54;0.6;11;6\n7;0.56;0.17;1.7;0.065;15;24;0.99514;3.44;0.68;10.55;7\n6.6;0.88;0.04;2.2;0.066;12;20;0.99636;3.53;0.56;9.9;5\n6.6;0.855;0.02;2.4;0.062;15;23;0.99627;3.54;0.6;11;6\n6.9;0.63;0.33;6.7;0.235;66;115;0.99787;3.22;0.56;9.5;5\n7.8;0.6;0.26;2;0.08;31;131;0.99622;3.21;0.52;9.9;5\n7.8;0.6;0.26;2;0.08;31;131;0.99622;3.21;0.52;9.9;5\n7.8;0.6;0.26;2;0.08;31;131;0.99622;3.21;0.52;9.9;5\n7.2;0.695;0.13;2;0.076;12;20;0.99546;3.29;0.54;10.1;5\n7.2;0.695;0.13;2;0.076;12;20;0.99546;3.29;0.54;10.1;5\n7.2;0.695;0.13;2;0.076;12;20;0.99546;3.29;0.54;10.1;5\n6.7;0.67;0.02;1.9;0.061;26;42;0.99489;3.39;0.82;10.9;6\n6.7;0.16;0.64;2.1;0.059;24;52;0.99494;3.34;0.71;11.2;6\n7.2;0.695;0.13;2;0.076;12;20;0.99546;3.29;0.54;10.1;5\n7;0.56;0.13;1.6;0.077;25;42;0.99629;3.34;0.59;9.2;5\n6.2;0.51;0.14;1.9;0.056;15;34;0.99396;3.48;0.57;11.5;6\n6.4;0.36;0.53;2.2;0.23;19;35;0.9934;3.37;0.93;12.4;6\n6.4;0.38;0.14;2.2;0.038;15;25;0.99514;3.44;0.65;11.1;6\n7.3;0.69;0.32;2.2;0.069;35;104;0.99632;3.33;0.51;9.5;5\n6;0.58;0.2;2.4;0.075;15;50;0.99467;3.58;0.67;12.5;6\n5.6;0.31;0.78;13.9;0.074;23;92;0.99677;3.39;0.48;10.5;6\n7.5;0.52;0.4;2.2;0.06;12;20;0.99474;3.26;0.64;11.8;6\n8;0.3;0.63;1.6;0.081;16;29;0.99588;3.3;0.78;10.8;6\n6.2;0.7;0.15;5.1;0.076;13;27;0.99622;3.54;0.6;11.9;6\n6.8;0.67;0.15;1.8;0.118;13;20;0.9954;3.42;0.67;11.3;6\n6.2;0.56;0.09;1.7;0.053;24;32;0.99402;3.54;0.6;11.3;5\n7.4;0.35;0.33;2.4;0.068;9;26;0.9947;3.36;0.6;11.9;6\n6.2;0.56;0.09;1.7;0.053;24;32;0.99402;3.54;0.6;11.3;5\n6.1;0.715;0.1;2.6;0.053;13;27;0.99362;3.57;0.5;11.9;5\n6.2;0.46;0.29;2.1;0.074;32;98;0.99578;3.33;0.62;9.8;5\n6.7;0.32;0.44;2.4;0.061;24;34;0.99484;3.29;0.8;11.6;7\n7.2;0.39;0.44;2.6;0.066;22;48;0.99494;3.3;0.84;11.5;6\n7.5;0.31;0.41;2.4;0.065;34;60;0.99492;3.34;0.85;11.4;6\n5.8;0.61;0.11;1.8;0.066;18;28;0.99483;3.55;0.66;10.9;6\n7.2;0.66;0.33;2.5;0.068;34;102;0.99414;3.27;0.78;12.8;6\n6.6;0.725;0.2;7.8;0.073;29;79;0.9977;3.29;0.54;9.2;5\n6.3;0.55;0.15;1.8;0.077;26;35;0.99314;3.32;0.82;11.6;6\n5.4;0.74;0.09;1.7;0.089;16;26;0.99402;3.67;0.56;11.6;6\n6.3;0.51;0.13;2.3;0.076;29;40;0.99574;3.42;0.75;11;6\n6.8;0.62;0.08;1.9;0.068;28;38;0.99651;3.42;0.82;9.5;6\n6.2;0.6;0.08;2;0.09;32;44;0.9949;3.45;0.58;10.5;5\n5.9;0.55;0.1;2.2;0.062;39;51;0.99512;3.52;0.76;11.2;6\n6.3;0.51;0.13;2.3;0.076;29;40;0.99574;3.42;0.75;11;6\n5.9;0.645;0.12;2;0.075;32;44;0.99547;3.57;0.71;10.2;5\n6;0.31;0.47;3.6;0.067;18;42;0.99549;3.39;0.66;11;6\n"
     ]
    }
   ],
   "source": [
    "%sh\n",
    "cat /Volumes/marscat/marsschema/marsdemo_csv_vol/wine-quality/winequality-red.csv"
   ]
  },
  {
   "cell_type": "code",
   "execution_count": 0,
   "metadata": {
    "application/vnd.databricks.v1+cell": {
     "cellMetadata": {
      "byteLimit": 2048000,
      "rowLimit": 10000
     },
     "inputWidgets": {},
     "nuid": "0bd07b42-9969-4aec-ab99-300d076e8226",
     "showTitle": false,
     "tableResultSettingsMap": {},
     "title": ""
    }
   },
   "outputs": [],
   "source": [
    "%sh\n",
    "cp /Volumes/marscat/marsschema/marsdemo_csv_vol/wine-quality/winequality-red.csv /tmp"
   ]
  },
  {
   "cell_type": "code",
   "execution_count": 0,
   "metadata": {
    "application/vnd.databricks.v1+cell": {
     "cellMetadata": {
      "byteLimit": 2048000,
      "rowLimit": 10000
     },
     "inputWidgets": {},
     "nuid": "73c538d5-a437-44fe-9795-8edcccb58744",
     "showTitle": false,
     "tableResultSettingsMap": {},
     "title": ""
    }
   },
   "outputs": [
    {
     "output_type": "display_data",
     "data": {
      "text/html": [
       "<style scoped>\n",
       "  .table-result-container {\n",
       "    max-height: 300px;\n",
       "    overflow: auto;\n",
       "  }\n",
       "  table, th, td {\n",
       "    border: 1px solid black;\n",
       "    border-collapse: collapse;\n",
       "  }\n",
       "  th, td {\n",
       "    padding: 5px;\n",
       "  }\n",
       "  th {\n",
       "    text-align: left;\n",
       "  }\n",
       "</style><div class='table-result-container'><table class='table-result'><thead style='background-color: white'><tr><th>path</th><th>name</th><th>size</th><th>modificationTime</th></tr></thead><tbody><tr><td>dbfs:/Volumes/marscat/marsschema/marsdemo_csv_vol/wine-quality/winequality-red.csv</td><td>winequality-red.csv</td><td>84199</td><td>1743090578000</td></tr></tbody></table></div>"
      ]
     },
     "metadata": {
      "application/vnd.databricks.v1+output": {
       "addedWidgets": {},
       "aggData": [],
       "aggError": "",
       "aggOverflow": false,
       "aggSchema": [],
       "aggSeriesLimitReached": false,
       "aggType": "",
       "arguments": {},
       "columnCustomDisplayInfos": {},
       "data": [
        [
         "dbfs:/Volumes/marscat/marsschema/marsdemo_csv_vol/wine-quality/winequality-red.csv",
         "winequality-red.csv",
         84199,
         1743090578000
        ]
       ],
       "datasetInfos": [],
       "dbfsResultPath": null,
       "isJsonSchema": true,
       "metadata": {},
       "overflow": false,
       "plotOptions": {
        "customPlotOptions": {},
        "displayType": "table",
        "pivotAggregation": null,
        "pivotColumns": null,
        "xColumns": null,
        "yColumns": null
       },
       "removedWidgets": [],
       "schema": [
        {
         "metadata": "{}",
         "name": "path",
         "type": "\"string\""
        },
        {
         "metadata": "{}",
         "name": "name",
         "type": "\"string\""
        },
        {
         "metadata": "{}",
         "name": "size",
         "type": "\"long\""
        },
        {
         "metadata": "{}",
         "name": "modificationTime",
         "type": "\"long\""
        }
       ],
       "type": "table"
      }
     },
     "output_type": "display_data"
    }
   ],
   "source": [
    "%python\n",
    "display(dbutils.fs.ls(\"/Volumes/marscat/marsschema/marsdemo_csv_vol/wine-quality/winequality-red.csv\"))"
   ]
  },
  {
   "cell_type": "code",
   "execution_count": 0,
   "metadata": {
    "application/vnd.databricks.v1+cell": {
     "cellMetadata": {
      "byteLimit": 2048000,
      "rowLimit": 10000
     },
     "inputWidgets": {},
     "nuid": "5aabf3f9-ccdf-4103-9788-a4e6fd44c775",
     "showTitle": false,
     "tableResultSettingsMap": {},
     "title": ""
    }
   },
   "outputs": [
    {
     "output_type": "stream",
     "name": "stdout",
     "output_type": "stream",
     "text": [
      "[Truncated to first 65536 bytes]\n"
     ]
    },
    {
     "output_type": "execute_result",
     "data": {
      "text/plain": [
       "'\"fixed acidity\";\"volatile acidity\";\"citric acid\";\"residual sugar\";\"chlorides\";\"free sulfur dioxide\";\"total sulfur dioxide\";\"density\";\"pH\";\"sulphates\";\"alcohol\";\"quality\"\\n7.4;0.7;0;1.9;0.076;11;34;0.9978;3.51;0.56;9.4;5\\n7.8;0.88;0;2.6;0.098;25;67;0.9968;3.2;0.68;9.8;5\\n7.8;0.76;0.04;2.3;0.092;15;54;0.997;3.26;0.65;9.8;5\\n11.2;0.28;0.56;1.9;0.075;17;60;0.998;3.16;0.58;9.8;6\\n7.4;0.7;0;1.9;0.076;11;34;0.9978;3.51;0.56;9.4;5\\n7.4;0.66;0;1.8;0.075;13;40;0.9978;3.51;0.56;9.4;5\\n7.9;0.6;0.06;1.6;0.069;15;59;0.9964;3.3;0.46;9.4;5\\n7.3;0.65;0;1.2;0.065;15;21;0.9946;3.39;0.47;10;7\\n7.8;0.58;0.02;2;0.073;9;18;0.9968;3.36;0.57;9.5;7\\n7.5;0.5;0.36;6.1;0.071;17;102;0.9978;3.35;0.8;10.5;5\\n6.7;0.58;0.08;1.8;0.097;15;65;0.9959;3.28;0.54;9.2;5\\n7.5;0.5;0.36;6.1;0.071;17;102;0.9978;3.35;0.8;10.5;5\\n5.6;0.615;0;1.6;0.089;16;59;0.9943;3.58;0.52;9.9;5\\n7.8;0.61;0.29;1.6;0.114;9;29;0.9974;3.26;1.56;9.1;5\\n8.9;0.62;0.18;3.8;0.176;52;145;0.9986;3.16;0.88;9.2;5\\n8.9;0.62;0.19;3.9;0.17;51;148;0.9986;3.17;0.93;9.2;5\\n8.5;0.28;0.56;1.8;0.092;35;103;0.9969;3.3;0.75;10.5;7\\n8.1;0.56;0.28;1.7;0.368;16;56;0.9968;3.11;1.28;9.3;5\\n7.4;0.59;0.08;4.4;0.086;6;29;0.9974;3.38;0.5;9;4\\n7.9;0.32;0.51;1.8;0.341;17;56;0.9969;3.04;1.08;9.2;6\\n8.9;0.22;0.48;1.8;0.077;29;60;0.9968;3.39;0.53;9.4;6\\n7.6;0.39;0.31;2.3;0.082;23;71;0.9982;3.52;0.65;9.7;5\\n7.9;0.43;0.21;1.6;0.106;10;37;0.9966;3.17;0.91;9.5;5\\n8.5;0.49;0.11;2.3;0.084;9;67;0.9968;3.17;0.53;9.4;5\\n6.9;0.4;0.14;2.4;0.085;21;40;0.9968;3.43;0.63;9.7;6\\n6.3;0.39;0.16;1.4;0.08;11;23;0.9955;3.34;0.56;9.3;5\\n7.6;0.41;0.24;1.8;0.08;4;11;0.9962;3.28;0.59;9.5;5\\n7.9;0.43;0.21;1.6;0.106;10;37;0.9966;3.17;0.91;9.5;5\\n7.1;0.71;0;1.9;0.08;14;35;0.9972;3.47;0.55;9.4;5\\n7.8;0.645;0;2;0.082;8;16;0.9964;3.38;0.59;9.8;6\\n6.7;0.675;0.07;2.4;0.089;17;82;0.9958;3.35;0.54;10.1;5\\n6.9;0.685;0;2.5;0.105;22;37;0.9966;3.46;0.57;10.6;6\\n8.3;0.655;0.12;2.3;0.083;15;113;0.9966;3.17;0.66;9.8;5\\n6.9;0.605;0.12;10.7;0.073;40;83;0.9993;3.45;0.52;9.4;6\\n5.2;0.32;0.25;1.8;0.103;13;50;0.9957;3.38;0.55;9.2;5\\n7.8;0.645;0;5.5;0.086;5;18;0.9986;3.4;0.55;9.6;6\\n7.8;0.6;0.14;2.4;0.086;3;15;0.9975;3.42;0.6;10.8;6\\n8.1;0.38;0.28;2.1;0.066;13;30;0.9968;3.23;0.73;9.7;7\\n5.7;1.13;0.09;1.5;0.172;7;19;0.994;3.5;0.48;9.8;4\\n7.3;0.45;0.36;5.9;0.074;12;87;0.9978;3.33;0.83;10.5;5\\n7.3;0.45;0.36;5.9;0.074;12;87;0.9978;3.33;0.83;10.5;5\\n8.8;0.61;0.3;2.8;0.088;17;46;0.9976;3.26;0.51;9.3;4\\n7.5;0.49;0.2;2.6;0.332;8;14;0.9968;3.21;0.9;10.5;6\\n8.1;0.66;0.22;2.2;0.069;9;23;0.9968;3.3;1.2;10.3;5\\n6.8;0.67;0.02;1.8;0.05;5;11;0.9962;3.48;0.52;9.5;5\\n4.6;0.52;0.15;2.1;0.054;8;65;0.9934;3.9;0.56;13.1;4\\n7.7;0.935;0.43;2.2;0.114;22;114;0.997;3.25;0.73;9.2;5\\n8.7;0.29;0.52;1.6;0.113;12;37;0.9969;3.25;0.58;9.5;5\\n6.4;0.4;0.23;1.6;0.066;5;12;0.9958;3.34;0.56;9.2;5\\n5.6;0.31;0.37;1.4;0.074;12;96;0.9954;3.32;0.58;9.2;5\\n8.8;0.66;0.26;1.7;0.074;4;23;0.9971;3.15;0.74;9.2;5\\n6.6;0.52;0.04;2.2;0.069;8;15;0.9956;3.4;0.63;9.4;6\\n6.6;0.5;0.04;2.1;0.068;6;14;0.9955;3.39;0.64;9.4;6\\n8.6;0.38;0.36;3;0.081;30;119;0.997;3.2;0.56;9.4;5\\n7.6;0.51;0.15;2.8;0.11;33;73;0.9955;3.17;0.63;10.2;6\\n7.7;0.62;0.04;3.8;0.084;25;45;0.9978;3.34;0.53;9.5;5\\n10.2;0.42;0.57;3.4;0.07;4;10;0.9971;3.04;0.63;9.6;5\\n7.5;0.63;0.12;5.1;0.111;50;110;0.9983;3.26;0.77;9.4;5\\n7.8;0.59;0.18;2.3;0.076;17;54;0.9975;3.43;0.59;10;5\\n7.3;0.39;0.31;2.4;0.074;9;46;0.9962;3.41;0.54;9.4;6\\n8.8;0.4;0.4;2.2;0.079;19;52;0.998;3.44;0.64;9.2;5\\n7.7;0.69;0.49;1.8;0.115;20;112;0.9968;3.21;0.71;9.3;5\\n7.5;0.52;0.16;1.9;0.085;12;35;0.9968;3.38;0.62;9.5;7\\n7;0.735;0.05;2;0.081;13;54;0.9966;3.39;0.57;9.8;5\\n7.2;0.725;0.05;4.65;0.086;4;11;0.9962;3.41;0.39;10.9;5\\n7.2;0.725;0.05;4.65;0.086;4;11;0.9962;3.41;0.39;10.9;5\\n7.5;0.52;0.11;1.5;0.079;11;39;0.9968;3.42;0.58;9.6;5\\n6.6;0.705;0.07;1.6;0.076;6;15;0.9962;3.44;0.58;10.7;5\\n9.3;0.32;0.57;2;0.074;27;65;0.9969;3.28;0.79;10.7;5\\n8;0.705;0.05;1.9;0.074;8;19;0.9962;3.34;0.95;10.5;6\\n7.7;0.63;0.08;1.9;0.076;15;27;0.9967;3.32;0.54;9.5;6\\n7.7;0.67;0.23;2.1;0.088;17;96;0.9962;3.32;0.48;9.5;5\\n7.7;0.69;0.22;1.9;0.084;18;94;0.9961;3.31;0.48;9.5;5\\n8.3;0.675;0.26;2.1;0.084;11;43;0.9976;3.31;0.53;9.2;4\\n9.7;0.32;0.54;2.5;0.094;28;83;0.9984;3.28;0.82;9.6;5\\n8.8;0.41;0.64;2.2;0.093;9;42;0.9986;3.54;0.66;10.5;5\\n8.8;0.41;0.64;2.2;0.093;9;42;0.9986;3.54;0.66;10.5;5\\n6.8;0.785;0;2.4;0.104;14;30;0.9966;3.52;0.55;10.7;6\\n6.7;0.75;0.12;2;0.086;12;80;0.9958;3.38;0.52;10.1;5\\n8.3;0.625;0.2;1.5;0.08;27;119;0.9972;3.16;1.12;9.1;4\\n6.2;0.45;0.2;1.6;0.069;3;15;0.9958;3.41;0.56;9.2;5\\n7.8;0.43;0.7;1.9;0.464;22;67;0.9974;3.13;1.28;9.4;5\\n7.4;0.5;0.47;2;0.086;21;73;0.997;3.36;0.57;9.1;5\\n7.3;0.67;0.26;1.8;0.401;16;51;0.9969;3.16;1.14;9.4;5\\n6.3;0.3;0.48;1.8;0.069;18;61;0.9959;3.44;0.78;10.3;6\\n6.9;0.55;0.15;2.2;0.076;19;40;0.9961;3.41;0.59;10.1;5\\n8.6;0.49;0.28;1.9;0.11;20;136;0.9972;2.93;1.95;9.9;6\\n7.7;0.49;0.26;1.9;0.062;9;31;0.9966;3.39;0.64;9.6;5\\n9.3;0.39;0.44;2.1;0.107;34;125;0.9978;3.14;1.22;9.5;5\\n7;0.62;0.08;1.8;0.076;8;24;0.9978;3.48;0.53;9;5\\n7.9;0.52;0.26;1.9;0.079;42;140;0.9964;3.23;0.54;9.5;5\\n8.6;0.49;0.28;1.9;0.11;20;136;0.9972;2.93;1.95;9.9;6\\n8.6;0.49;0.29;2;0.11;19;133;0.9972;2.93;1.98;9.8;5\\n7.7;0.49;0.26;1.9;0.062;9;31;0.9966;3.39;0.64;9.6;5\\n5;1.02;0.04;1.4;0.045;41;85;0.9938;3.75;0.48;10.5;4\\n4.7;0.6;0.17;2.3;0.058;17;106;0.9932;3.85;0.6;12.9;6\\n6.8;0.775;0;3;0.102;8;23;0.9965;3.45;0.56;10.7;5\\n7;0.5;0.25;2;0.07;3;22;0.9963;3.25;0.63;9.2;5\\n7.6;0.9;0.06;2.5;0.079;5;10;0.9967;3.39;0.56;9.8;5\\n8.1;0.545;0.18;1.9;0.08;13;35;0.9972;3.3;0.59;9;6\\n8.3;0.61;0.3;2.1;0.084;11;50;0.9972;3.4;0.61;10.2;6\\n7.8;0.5;0.3;1.9;0.075;8;22;0.9959;3.31;0.56;10.4;6\\n8.1;0.545;0.18;1.9;0.08;13;35;0.9972;3.3;0.59;9;6\\n8.1;0.575;0.22;2.1;0.077;12;65;0.9967;3.29;0.51;9.2;5\\n7.2;0.49;0.24;2.2;0.07;5;36;0.996;3.33;0.48;9.4;5\\n8.1;0.575;0.22;2.1;0.077;12;65;0.9967;3.29;0.51;9.2;5\\n7.8;0.41;0.68;1.7;0.467;18;69;0.9973;3.08;1.31;9.3;5\\n6.2;0.63;0.31;1.7;0.088;15;64;0.9969;3.46;0.79;9.3;5\\n8;0.33;0.53;2.5;0.091;18;80;0.9976;3.37;0.8;9.6;6\\n8.1;0.785;0.52;2;0.122;37;153;0.9969;3.21;0.69;9.3;5\\n7.8;0.56;0.19;1.8;0.104;12;47;0.9964;3.19;0.93;9.5;5\\n8.4;0.62;0.09;2.2;0.084;11;108;0.9964;3.15;0.66;9.8;5\\n8.4;0.6;0.1;2.2;0.085;14;111;0.9964;3.15;0.66;9.8;5\\n10.1;0.31;0.44;2.3;0.08;22;46;0.9988;3.32;0.67;9.7;6\\n7.8;0.56;0.19;1.8;0.104;12;47;0.9964;3.19;0.93;9.5;5\\n9.4;0.4;0.31;2.2;0.09;13;62;0.9966;3.07;0.63;10.5;6\\n8.3;0.54;0.28;1.9;0.077;11;40;0.9978;3.39;0.61;10;6\\n7.8;0.56;0.12;2;0.082;7;28;0.997;3.37;0.5;9.4;6\\n8.8;0.55;0.04;2.2;0.119;14;56;0.9962;3.21;0.6;10.9;6\\n7;0.69;0.08;1.8;0.097;22;89;0.9959;3.34;0.54;9.2;6\\n7.3;1.07;0.09;1.7;0.178;10;89;0.9962;3.3;0.57;9;5\\n8.8;0.55;0.04;2.2;0.119;14;56;0.9962;3.21;0.6;10.9;6\\n7.3;0.695;0;2.5;0.075;3;13;0.998;3.49;0.52;9.2;5\\n8;0.71;0;2.6;0.08;11;34;0.9976;3.44;0.53;9.5;5\\n7.8;0.5;0.17;1.6;0.082;21;102;0.996;3.39;0.48;9.5;5\\n9;0.62;0.04;1.9;0.146;27;90;0.9984;3.16;0.7;9.4;5\\n8.2;1.33;0;1.7;0.081;3;12;0.9964;3.53;0.49;10.9;5\\n8.1;1.33;0;1.8;0.082;3;12;0.9964;3.54;0.48;10.9;5\\n8;0.59;0.16;1.8;0.065;3;16;0.9962;3.42;0.92;10.5;7\\n6.1;0.38;0.15;1.8;0.072;6;19;0.9955;3.42;0.57;9.4;5\\n8;0.745;0.56;2;0.118;30;134;0.9968;3.24;0.66;9.4;5\\n5.6;0.5;0.09;2.3;0.049;17;99;0.9937;3.63;0.63;13;5\\n5.6;0.5;0.09;2.3;0.049;17;99;0.9937;3.63;0.63;13;5\\n6.6;0.5;0.01;1.5;0.06;17;26;0.9952;3.4;0.58;9.8;6\\n7.9;1.04;0.05;2.2;0.084;13;29;0.9959;3.22;0.55;9.9;6\\n8.4;0.745;0.11;1.9;0.09;16;63;0.9965;3.19;0.82;9.6;5\\n8.3;0.715;0.15;1.8;0.089;10;52;0.9968;3.23;0.77;9.5;5\\n7.2;0.415;0.36;2;0.081;13;45;0.9972;3.48;0.64;9.2;5\\n7.8;0.56;0.19;2.1;0.081;15;105;0.9962;3.33;0.54;9.5;5\\n7.8;0.56;0.19;2;0.081;17;108;0.9962;3.32;0.54;9.5;5\\n8.4;0.745;0.11;1.9;0.09;16;63;0.9965;3.19;0.82;9.6;5\\n8.3;0.715;0.15;1.8;0.089;10;52;0.9968;3.23;0.77;9.5;5\\n5.2;0.34;0;1.8;0.05;27;63;0.9916;3.68;0.79;14;6\\n6.3;0.39;0.08;1.7;0.066;3;20;0.9954;3.34;0.58;9.4;5\\n5.2;0.34;0;1.8;0.05;27;63;0.9916;3.68;0.79;14;6\\n8.1;0.67;0.55;1.8;0.117;32;141;0.9968;3.17;0.62;9.4;5\\n5.8;0.68;0.02;1.8;0.087;21;94;0.9944;3.54;0.52;10;5\\n7.6;0.49;0.26;1.6;0.236;10;88;0.9968;3.11;0.8;9.3;5\\n6.9;0.49;0.1;2.3;0.074;12;30;0.9959;3.42;0.58;10.2;6\\n8.2;0.4;0.44;2.8;0.089;11;43;0.9975;3.53;0.61;10.5;6\\n7.3;0.33;0.47;2.1;0.077;5;11;0.9958;3.33;0.53;10.3;6\\n9.2;0.52;1;3.4;0.61;32;69;0.9996;2.74;2.0;9.4;4\\n7.5;0.6;0.03;1.8;0.095;25;99;0.995;3.35;0.54;10.1;5\\n7.5;0.6;0.03;1.8;0.095;25;99;0.995;3.35;0.54;10.1;5\\n7.1;0.43;0.42;5.5;0.07;29;129;0.9973;3.42;0.72;10.5;5\\n7.1;0.43;0.42;5.5;0.071;28;128;0.9973;3.42;0.71;10.5;5\\n7.1;0.43;0.42;5.5;0.07;29;129;0.9973;3.42;0.72;10.5;5\\n7.1;0.43;0.42;5.5;0.071;28;128;0.9973;3.42;0.71;10.5;5\\n7.1;0.68;0;2.2;0.073;12;22;0.9969;3.48;0.5;9.3;5\\n6.8;0.6;0.18;1.9;0.079;18;86;0.9968;3.59;0.57;9.3;6\\n7.6;0.95;0.03;2;0.09;7;20;0.9959;3.2;0.56;9.6;5\\n7.6;0.68;0.02;1.3;0.072;9;20;0.9965;3.17;1.08;9.2;4\\n7.8;0.53;0.04;1.7;0.076;17;31;0.9964;3.33;0.56;10;6\\n7.4;0.6;0.26;7.3;0.07;36;121;0.9982;3.37;0.49;9.4;5\\n7.3;0.59;0.26;7.2;0.07;35;121;0.9981;3.37;0.49;9.4;5\\n7.8;0.63;0.48;1.7;0.1;14;96;0.9961;3.19;0.62;9.5;5\\n6.8;0.64;0.1;2.1;0.085;18;101;0.9956;3.34;0.52;10.2;5\\n7.3;0.55;0.03;1.6;0.072;17;42;0.9956;3.37;0.48;9;4\\n6.8;0.63;0.07;2.1;0.089;11;44;0.9953;3.47;0.55;10.4;6\\n7.5;0.705;0.24;1.8;0.36;15;63;0.9964;3;1.59;9.5;5\\n7.9;0.885;0.03;1.8;0.058;4;8;0.9972;3.36;0.33;9.1;4\\n8;0.42;0.17;2;0.073;6;18;0.9972;3.29;0.61;9.2;6\\n8;0.42;0.17;2;0.073;6;18;0.9972;3.29;0.61;9.2;6\\n7.4;0.62;0.05;1.9;0.068;24;42;0.9961;3.42;0.57;11.5;6\\n7.3;0.38;0.21;2;0.08;7;35;0.9961;3.33;0.47;9.5;5\\n6.9;0.5;0.04;1.5;0.085;19;49;0.9958;3.35;0.78;9.5;5\\n7.3;0.38;0.21;2;0.08;7;35;0.9961;3.33;0.47;9.5;5\\n7.5;0.52;0.42;2.3;0.087;8;38;0.9972;3.58;0.61;10.5;6\\n7;0.805;0;2.5;0.068;7;20;0.9969;3.48;0.56;9.6;5\\n8.8;0.61;0.14;2.4;0.067;10;42;0.9969;3.19;0.59;9.5;5\\n8.8;0.61;0.14;2.4;0.067;10;42;0.9969;3.19;0.59;9.5;5\\n8.9;0.61;0.49;2;0.27;23;110;0.9972;3.12;1.02;9.3;5\\n7.2;0.73;0.02;2.5;0.076;16;42;0.9972;3.44;0.52;9.3;5\\n6.8;0.61;0.2;1.8;0.077;11;65;0.9971;3.54;0.58;9.3;5\\n6.7;0.62;0.21;1.9;0.079;8;62;0.997;3.52;0.58;9.3;6\\n8.9;0.31;0.57;2;0.111;26;85;0.9971;3.26;0.53;9.7;5\\n7.4;0.39;0.48;2;0.082;14;67;0.9972;3.34;0.55;9.2;5\\n7.7;0.705;0.1;2.6;0.084;9;26;0.9976;3.39;0.49;9.7;5\\n7.9;0.5;0.33;2;0.084;15;143;0.9968;3.2;0.55;9.5;5\\n7.9;0.49;0.32;1.9;0.082;17;144;0.9968;3.2;0.55;9.5;5\\n8.2;0.5;0.35;2.9;0.077;21;127;0.9976;3.23;0.62;9.4;5\\n6.4;0.37;0.25;1.9;0.074;21;49;0.9974;3.57;0.62;9.8;6\\n6.8;0.63;0.12;3.8;0.099;16;126;0.9969;3.28;0.61;9.5;5\\n7.6;0.55;0.21;2.2;0.071;7;28;0.9964;3.28;0.55;9.7;5\\n7.6;0.55;0.21;2.2;0.071;7;28;0.9964;3.28;0.55;9.7;5\\n7.8;0.59;0.33;2;0.074;24;120;0.9968;3.25;0.54;9.4;5\\n7.3;0.58;0.3;2.4;0.074;15;55;0.9968;3.46;0.59;10.2;5\\n11.5;0.3;0.6;2;0.067;12;27;0.9981;3.11;0.97;10.1;6\\n5.4;0.835;0.08;1.2;0.046;13;93;0.9924;3.57;0.85;13;7\\n6.9;1.09;0.06;2.1;0.061;12;31;0.9948;3.51;0.43;11.4;4\\n9.6;0.32;0.47;1.4;0.056;9;24;0.99695;3.22;0.82;10.3;7\\n8.8;0.37;0.48;2.1;0.097;39;145;0.9975;3.04;1.03;9.3;5\\n6.8;0.5;0.11;1.5;0.075;16;49;0.99545;3.36;0.79;9.5;5\\n7;0.42;0.35;1.6;0.088;16;39;0.9961;3.34;0.55;9.2;5\\n7;0.43;0.36;1.6;0.089;14;37;0.99615;3.34;0.56;9.2;6\\n12.8;0.3;0.74;2.6;0.095;9;28;0.9994;3.2;0.77;10.8;7\\n12.8;0.3;0.74;2.6;0.095;9;28;0.9994;3.2;0.77;10.8;7\\n7.8;0.57;0.31;1.8;0.069;26;120;0.99625;3.29;0.53;9.3;5\\n7.8;0.44;0.28;2.7;0.1;18;95;0.9966;3.22;0.67;9.4;5\\n11;0.3;0.58;2.1;0.054;7;19;0.998;3.31;0.88;10.5;7\\n9.7;0.53;0.6;2;0.039;5;19;0.99585;3.3;0.86;12.4;6\\n8;0.725;0.24;2.8;0.083;10;62;0.99685;3.35;0.56;10;6\\n11.6;0.44;0.64;2.1;0.059;5;15;0.998;3.21;0.67;10.2;6\\n8.2;0.57;0.26;2.2;0.06;28;65;0.9959;3.3;0.43;10.1;5\\n7.8;0.735;0.08;2.4;0.092;10;41;0.9974;3.24;0.71;9.8;6\\n7;0.49;0.49;5.6;0.06;26;121;0.9974;3.34;0.76;10.5;5\\n8.7;0.625;0.16;2;0.101;13;49;0.9962;3.14;0.57;11;5\\n8.1;0.725;0.22;2.2;0.072;11;41;0.9967;3.36;0.55;9.1;5\\n7.5;0.49;0.19;1.9;0.076;10;44;0.9957;3.39;0.54;9.7;5\\n7.8;0.53;0.33;2.4;0.08;24;144;0.99655;3.3;0.6;9.5;5\\n7.8;0.34;0.37;2;0.082;24;58;0.9964;3.34;0.59;9.4;6\\n7.4;0.53;0.26;2;0.101;16;72;0.9957;3.15;0.57;9.4;5\\n6.8;0.61;0.04;1.5;0.057;5;10;0.99525;3.42;0.6;9.5;5\\n8.6;0.645;0.25;2;0.083;8;28;0.99815;3.28;0.6;10;6\\n8.4;0.635;0.36;2;0.089;15;55;0.99745;3.31;0.57;10.4;4\\n7.7;0.43;0.25;2.6;0.073;29;63;0.99615;3.37;0.58;10.5;6\\n8.9;0.59;0.5;2;0.337;27;81;0.9964;3.04;1.61;9.5;6\\n9;0.82;0.14;2.6;0.089;9;23;0.9984;3.39;0.63;9.8;5\\n7.7;0.43;0.25;2.6;0.073;29;63;0.99615;3.37;0.58;10.5;6\\n6.9;0.52;0.25;2.6;0.081;10;37;0.99685;3.46;0.5;11;5\\n5.2;0.48;0.04;1.6;0.054;19;106;0.9927;3.54;0.62;12.2;7\\n8;0.38;0.06;1.8;0.078;12;49;0.99625;3.37;0.52;9.9;6\\n8.5;0.37;0.2;2.8;0.09;18;58;0.998;3.34;0.7;9.6;6\\n6.9;0.52;0.25;2.6;0.081;10;37;0.99685;3.46;0.5;11;5\\n8.2;1;0.09;2.3;0.065;7;37;0.99685;3.32;0.55;9;6\\n7.2;0.63;0;1.9;0.097;14;38;0.99675;3.37;0.58;9;6\\n7.2;0.63;0;1.9;0.097;14;38;0.99675;3.37;0.58;9;6\\n7.2;0.645;0;1.9;0.097;15;39;0.99675;3.37;0.58;9.2;6\\n7.2;0.63;0;1.9;0.097;14;38;0.99675;3.37;0.58;9;6\\n8.2;1;0.09;2.3;0.065;7;37;0.99685;3.32;0.55;9;6\\n8.9;0.635;0.37;1.7;0.263;5;62;0.9971;3;1.09;9.3;5\\n12;0.38;0.56;2.1;0.093;6;24;0.99925;3.14;0.71;10.9;6\\n7.7;0.58;0.1;1.8;0.102;28;109;0.99565;3.08;0.49;9.8;6\\n15;0.21;0.44;2.2;0.075;10;24;1.00005;3.07;0.84;9.2;7\\n15;0.21;0.44;2.2;0.075;10;24;1.00005;3.07;0.84;9.2;7\\n7.3;0.66;0;2;0.084;6;23;0.9983;3.61;0.96;9.9;6\\n7.1;0.68;0.07;1.9;0.075;16;51;0.99685;3.38;0.52;9.5;5\\n8.2;0.6;0.17;2.3;0.072;11;73;0.9963;3.2;0.45;9.3;5\\n7.7;0.53;0.06;1.7;0.074;9;39;0.99615;3.35;0.48;9.8;6\\n7.3;0.66;0;2;0.084;6;23;0.9983;3.61;0.96;9.9;6\\n10.8;0.32;0.44;1.6;0.063;16;37;0.9985;3.22;0.78;10;6\\n7.1;0.6;0;1.8;0.074;16;34;0.9972;3.47;0.7;9.9;6\\n11.1;0.35;0.48;3.1;0.09;5;21;0.9986;3.17;0.53;10.5;5\\n7.7;0.775;0.42;1.9;0.092;8;86;0.9959;3.23;0.59;9.5;5\\n7.1;0.6;0;1.8;0.074;16;34;0.9972;3.47;0.7;9.9;6\\n8;0.57;0.23;3.2;0.073;17;119;0.99675;3.26;0.57;9.3;5\\n9.4;0.34;0.37;2.2;0.075;5;13;0.998;3.22;0.62;9.2;5\\n6.6;0.695;0;2.1;0.075;12;56;0.9968;3.49;0.67;9.2;5\\n7.7;0.41;0.76;1.8;0.611;8;45;0.9968;3.06;1.26;9.4;5\\n10;0.31;0.47;2.6;0.085;14;33;0.99965;3.36;0.8;10.5;7\\n7.9;0.33;0.23;1.7;0.077;18;45;0.99625;3.29;0.65;9.3;5\\n7;0.975;0.04;2;0.087;12;67;0.99565;3.35;0.6;9.4;4\\n8;0.52;0.03;1.7;0.07;10;35;0.99575;3.34;0.57;10;5\\n7.9;0.37;0.23;1.8;0.077;23;49;0.9963;3.28;0.67;9.3;5\\n12.5;0.56;0.49;2.4;0.064;5;27;0.9999;3.08;0.87;10.9;5\\n11.8;0.26;0.52;1.8;0.071;6;10;0.9968;3.2;0.72;10.2;7\\n8.1;0.87;0;3.3;0.096;26;61;1.00025;3.6;0.72;9.8;4\\n7.9;0.35;0.46;3.6;0.078;15;37;0.9973;3.35;0.86;12.8;8\\n6.9;0.54;0.04;3;0.077;7;27;0.9987;3.69;0.91;9.4;6\\n11.5;0.18;0.51;4;0.104;4;23;0.9996;3.28;0.97;10.1;6\\n7.9;0.545;0.06;4;0.087;27;61;0.9965;3.36;0.67;10.7;6\\n11.5;0.18;0.51;4;0.104;4;23;0.9996;3.28;0.97;10.1;6\\n10.9;0.37;0.58;4;0.071;17;65;0.99935;3.22;0.78;10.1;5\\n8.4;0.715;0.2;2.4;0.076;10;38;0.99735;3.31;0.64;9.4;5\\n7.5;0.65;0.18;7;0.088;27;94;0.99915;3.38;0.77;9.4;5\\n7.9;0.545;0.06;4;0.087;27;61;0.9965;3.36;0.67;10.7;6\\n6.9;0.54;0.04;3;0.077;7;27;0.9987;3.69;0.91;9.4;6\\n11.5;0.18;0.51;4;0.104;4;23;0.9996;3.28;0.97;10.1;6\\n10.3;0.32;0.45;6.4;0.073;5;13;0.9976;3.23;0.82;12.6;8\\n8.9;0.4;0.32;5.6;0.087;10;47;0.9991;3.38;0.77;10.5;7\\n11.4;0.26;0.44;3.6;0.071;6;19;0.9986;3.12;0.82;9.3;6\\n7.7;0.27;0.68;3.5;0.358;5;10;0.9972;3.25;1.08;9.9;7\\n7.6;0.52;0.12;3;0.067;12;53;0.9971;3.36;0.57;9.1;5\\n8.9;0.4;0.32;5.6;0.087;10;47;0.9991;3.38;0.77;10.5;7\\n9.9;0.59;0.07;3.4;0.102;32;71;1.00015;3.31;0.71;9.8;5\\n9.9;0.59;0.07;3.4;0.102;32;71;1.00015;3.31;0.71;9.8;5\\n12;0.45;0.55;2;0.073;25;49;0.9997;3.1;0.76;10.3;6\\n7.5;0.4;0.12;3;0.092;29;53;0.9967;3.37;0.7;10.3;6\\n8.7;0.52;0.09;2.5;0.091;20;49;0.9976;3.34;0.86;10.6;7\\n11.6;0.42;0.53;3.3;0.105;33;98;1.001;3.2;0.95;9.2;5\\n8.7;0.52;0.09;2.5;0.091;20;49;0.9976;3.34;0.86;10.6;7\\n11;0.2;0.48;2;0.343;6;18;0.9979;3.3;0.71;10.5;5\\n10.4;0.55;0.23;2.7;0.091;18;48;0.9994;3.22;0.64;10.3;6\\n6.9;0.36;0.25;2.4;0.098;5;16;0.9964;3.41;0.6;10.1;6\\n13.3;0.34;0.52;3.2;0.094;17;53;1.0014;3.05;0.81;9.5;6\\n10.8;0.5;0.46;2.5;0.073;5;27;1.0001;3.05;0.64;9.5;5\\n10.6;0.83;0.37;2.6;0.086;26;70;0.9981;3.16;0.52;9.9;5\\n7.1;0.63;0.06;2;0.083;8;29;0.99855;3.67;0.73;9.6;5\\n7.2;0.65;0.02;2.3;0.094;5;31;0.9993;3.67;0.8;9.7;5\\n6.9;0.67;0.06;2.1;0.08;8;33;0.99845;3.68;0.71;9.6;5\\n7.5;0.53;0.06;2.6;0.086;20;44;0.9965;3.38;0.59;10.7;6\\n11.1;0.18;0.48;1.5;0.068;7;15;0.9973;3.22;0.64;10.1;6\\n8.3;0.705;0.12;2.6;0.092;12;28;0.9994;3.51;0.72;10;5\\n7.4;0.67;0.12;1.6;0.186;5;21;0.996;3.39;0.54;9.5;5\\n8.4;0.65;0.6;2.1;0.112;12;90;0.9973;3.2;0.52;9.2;5\\n10.3;0.53;0.48;2.5;0.063;6;25;0.9998;3.12;0.59;9.3;6\\n7.6;0.62;0.32;2.2;0.082;7;54;0.9966;3.36;0.52;9.4;5\\n10.3;0.41;0.42;2.4;0.213;6;14;0.9994;3.19;0.62;9.5;6\\n10.3;0.43;0.44;2.4;0.214;5;12;0.9994;3.19;0.63;9.5;6\\n7.4;0.29;0.38;1.7;0.062;9;30;0.9968;3.41;0.53;9.5;6\\n10.3;0.53;0.48;2.5;0.063;6;25;0.9998;3.12;0.59;9.3;6\\n7.9;0.53;0.24;2;0.072;15;105;0.996;3.27;0.54;9.4;6\\n9;0.46;0.31;2.8;0.093;19;98;0.99815;3.32;0.63;9.5;6\\n8.6;0.47;0.3;3;0.076;30;135;0.9976;3.3;0.53;9.4;5\\n7.4;0.36;0.29;2.6;0.087;26;72;0.99645;3.39;0.68;11;5\\n7.1;0.35;0.29;2.5;0.096;20;53;0.9962;3.42;0.65;11;6\\n9.6;0.56;0.23;3.4;0.102;37;92;0.9996;3.3;0.65;10.1;5\\n9.6;0.77;0.12;2.9;0.082;30;74;0.99865;3.3;0.64;10.4;6\\n9.8;0.66;0.39;3.2;0.083;21;59;0.9989;3.37;0.71;11.5;7\\n9.6;0.77;0.12;2.9;0.082;30;74;0.99865;3.3;0.64;10.4;6\\n9.8;0.66;0.39;3.2;0.083;21;59;0.9989;3.37;0.71;11.5;7\\n9.3;0.61;0.26;3.4;0.09;25;87;0.99975;3.24;0.62;9.7;5\\n7.8;0.62;0.05;2.3;0.079;6;18;0.99735;3.29;0.63;9.3;5\\n10.3;0.59;0.42;2.8;0.09;35;73;0.999;3.28;0.7;9.5;6\\n10;0.49;0.2;11;0.071;13;50;1.0015;3.16;0.69;9.2;6\\n10;0.49;0.2;11;0.071;13;50;1.0015;3.16;0.69;9.2;6\\n11.6;0.53;0.66;3.65;0.121;6;14;0.9978;3.05;0.74;11.5;7\\n10.3;0.44;0.5;4.5;0.107;5;13;0.998;3.28;0.83;11.5;5\\n13.4;0.27;0.62;2.6;0.082;6;21;1.0002;3.16;0.67;9.7;6\\n10.7;0.46;0.39;2;0.061;7;15;0.9981;3.18;0.62;9.5;5\\n10.2;0.36;0.64;2.9;0.122;10;41;0.998;3.23;0.66;12.5;6\\n10.2;0.36;0.64;2.9;0.122;10;41;0.998;3.23;0.66;12.5;6\\n8;0.58;0.28;3.2;0.066;21;114;0.9973;3.22;0.54;9.4;6\\n8.4;0.56;0.08;2.1;0.105;16;44;0.9958;3.13;0.52;11;5\\n7.9;0.65;0.01;2.5;0.078;17;38;0.9963;3.34;0.74;11.7;7\\n11.9;0.695;0.53;3.4;0.128;7;21;0.9992;3.17;0.84;12.2;7\\n8.9;0.43;0.45;1.9;0.052;6;16;0.9948;3.35;0.7;12.5;6\\n7.8;0.43;0.32;2.8;0.08;29;58;0.9974;3.31;0.64;10.3;5\\n12.4;0.49;0.58;3;0.103;28;99;1.0008;3.16;1;11.5;6\\n12.5;0.28;0.54;2.3;0.082;12;29;0.9997;3.11;1.36;9.8;7\\n12.2;0.34;0.5;2.4;0.066;10;21;1;3.12;1.18;9.2;6\\n10.6;0.42;0.48;2.7;0.065;5;18;0.9972;3.21;0.87;11.3;6\\n10.9;0.39;0.47;1.8;0.118;6;14;0.9982;3.3;0.75;9.8;6\\n10.9;0.39;0.47;1.8;0.118;6;14;0.9982;3.3;0.75;9.8;6\\n11.9;0.57;0.5;2.6;0.082;6;32;1.0006;3.12;0.78;10.7;6\\n7;0.685;0;1.9;0.067;40;63;0.9979;3.6;0.81;9.9;5\\n6.6;0.815;0.02;2.7;0.072;17;34;0.9955;3.58;0.89;12.3;7\\n13.8;0.49;0.67;3;0.093;6;15;0.9986;3.02;0.93;12;6\\n9.6;0.56;0.31;2.8;0.089;15;46;0.9979;3.11;0.92;10;6\\n9.1;0.785;0;2.6;0.093;11;28;0.9994;3.36;0.86;9.4;6\\n10.7;0.67;0.22;2.7;0.107;17;34;1.0004;3.28;0.98;9.9;6\\n9.1;0.795;0;2.6;0.096;11;26;0.9994;3.35;0.83;9.4;6\\n7.7;0.665;0;2.4;0.09;8;19;0.9974;3.27;0.73;9.3;5\\n13.5;0.53;0.79;4.8;0.12;23;77;1.0018;3.18;0.77;13;5\\n6.1;0.21;0.4;1.4;0.066;40.5;165;0.9912;3.25;0.59;11.9;6\\n6.7;0.75;0.01;2.4;0.078;17;32;0.9955;3.55;0.61;12.8;6\\n11.5;0.41;0.52;3;0.08;29;55;1.0001;3.26;0.88;11;5\\n10.5;0.42;0.66;2.95;0.116;12;29;0.997;3.24;0.75;11.7;7\\n11.9;0.43;0.66;3.1;0.109;10;23;1;3.15;0.85;10.4;7\\n12.6;0.38;0.66;2.6;0.088;10;41;1.001;3.17;0.68;9.8;6\\n8.2;0.7;0.23;2;0.099;14;81;0.9973;3.19;0.7;9.4;5\\n8.6;0.45;0.31;2.6;0.086;21;50;0.9982;3.37;0.91;9.9;6\\n11.9;0.58;0.66;2.5;0.072;6;37;0.9992;3.05;0.56;10;5\\n12.5;0.46;0.63;2;0.071;6;15;0.9988;2.99;0.87;10.2;5\\n12.8;0.615;0.66;5.8;0.083;7;42;1.0022;3.07;0.73;10;7\\n10;0.42;0.5;3.4;0.107;7;21;0.9979;3.26;0.93;11.8;6\\n12.8;0.615;0.66;5.8;0.083;7;42;1.0022;3.07;0.73;10;7\\n10.4;0.575;0.61;2.6;0.076;11;24;1;3.16;0.69;9;5\\n10.3;0.34;0.52;2.8;0.159;15;75;0.9998;3.18;0.64;9.4;5\\n9.4;0.27;0.53;2.4;0.074;6;18;0.9962;3.2;1.13;12;7\\n6.9;0.765;0.02;2.3;0.063;35;63;0.9975;3.57;0.78;9.9;5\\n7.9;0.24;0.4;1.6;0.056;11;25;0.9967;3.32;0.87;8.7;6\\n9.1;0.28;0.48;1.8;0.067;26;46;0.9967;3.32;1.04;10.6;6\\n7.4;0.55;0.22;2.2;0.106;12;72;0.9959;3.05;0.63;9.2;5\\n14;0.41;0.63;3.8;0.089;6;47;1.0014;3.01;0.81;10.8;6\\n11.5;0.54;0.71;4.4;0.124;6;15;0.9984;3.01;0.83;11.8;7\\n11.5;0.45;0.5;3;0.078;19;47;1.0003;3.26;1.11;11;6\\n9.4;0.27;0.53;2.4;0.074;6;18;0.9962;3.2;1.13;12;7\\n11.4;0.625;0.66;6.2;0.088;6;24;0.9988;3.11;0.99;13.3;6\\n8.3;0.42;0.38;2.5;0.094;24;60;0.9979;3.31;0.7;10.8;6\\n8.3;0.26;0.42;2;0.08;11;27;0.9974;3.21;0.8;9.4;6\\n13.7;0.415;0.68;2.9;0.085;17;43;1.0014;3.06;0.8;10;6\\n8.3;0.26;0.42;2;0.08;11;27;0.9974;3.21;0.8;9.4;6\\n8.3;0.26;0.42;2;0.08;11;27;0.9974;3.21;0.8;9.4;6\\n7.7;0.51;0.28;2.1;0.087;23;54;0.998;3.42;0.74;9.2;5\\n7.4;0.63;0.07;2.4;0.09;11;37;0.9979;3.43;0.76;9.7;6\\n7.8;0.54;0.26;2;0.088;23;48;0.9981;3.41;0.74;9.2;6\\n8.3;0.66;0.15;1.9;0.079;17;42;0.9972;3.31;0.54;9.6;6\\n7.8;0.46;0.26;1.9;0.088;23;53;0.9981;3.43;0.74;9.2;6\\n9.6;0.38;0.31;2.5;0.096;16;49;0.9982;3.19;0.7;10;7\\n5.6;0.85;0.05;1.4;0.045;12;88;0.9924;3.56;0.82;12.9;8\\n13.7;0.415;0.68;2.9;0.085;17;43;1.0014;3.06;0.8;10;6\\n9.5;0.37;0.52;2;0.082;6;26;0.998;3.18;0.51;9.5;5\\n8.4;0.665;0.61;2;0.112;13;95;0.997;3.16;0.54;9.1;5\\n12.7;0.6;0.65;2.3;0.063;6;25;0.9997;3.03;0.57;9.9;5\\n12;0.37;0.76;4.2;0.066;7;38;1.0004;3.22;0.6;13;7\\n6.6;0.735;0.02;7.9;0.122;68;124;0.9994;3.47;0.53;9.9;5\\n11.5;0.59;0.59;2.6;0.087;13;49;0.9988;3.18;0.65;11;6\\n11.5;0.59;0.59;2.6;0.087;13;49;0.9988;3.18;0.65;11;6\\n8.7;0.765;0.22;2.3;0.064;9;42;0.9963;3.1;0.55;9.4;5\\n6.6;0.735;0.02;7.9;0.122;68;124;0.9994;3.47;0.53;9.9;5\\n7.7;0.26;0.3;1.7;0.059;20;38;0.9949;3.29;0.47;10.8;6\\n12.2;0.48;0.54;2.6;0.085;19;64;1;3.1;0.61;10.5;6\\n11.4;0.6;0.49;2.7;0.085;10;41;0.9994;3.15;0.63;10.5;6\\n7.7;0.69;0.05;2.7;0.075;15;27;0.9974;3.26;0.61;9.1;5\\n8.7;0.31;0.46;1.4;0.059;11;25;0.9966;3.36;0.76;10.1;6\\n9.8;0.44;0.47;2.5;0.063;9;28;0.9981;3.24;0.65;10.8;6\\n12;0.39;0.66;3;0.093;12;30;0.9996;3.18;0.63;10.8;7\\n10.4;0.34;0.58;3.7;0.174;6;16;0.997;3.19;0.7;11.3;6\\n12.5;0.46;0.49;4.5;0.07;26;49;0.9981;3.05;0.57;9.6;4\\n9;0.43;0.34;2.5;0.08;26;86;0.9987;3.38;0.62;9.5;6\\n9.1;0.45;0.35;2.4;0.08;23;78;0.9987;3.38;0.62;9.5;5\\n7.1;0.735;0.16;1.9;0.1;15;77;0.9966;3.27;0.64;9.3;5\\n9.9;0.4;0.53;6.7;0.097;6;19;0.9986;3.27;0.82;11.7;7\\n8.8;0.52;0.34;2.7;0.087;24;122;0.9982;3.26;0.61;9.5;5\\n8.6;0.725;0.24;6.6;0.117;31;134;1.0014;3.32;1.07;9.3;5\\n10.6;0.48;0.64;2.2;0.111;6;20;0.997;3.26;0.66;11.7;6\\n7;0.58;0.12;1.9;0.091;34;124;0.9956;3.44;0.48;10.5;5\\n11.9;0.38;0.51;2;0.121;7;20;0.9996;3.24;0.76;10.4;6\\n6.8;0.77;0;1.8;0.066;34;52;0.9976;3.62;0.68;9.9;5\\n9.5;0.56;0.33;2.4;0.089;35;67;0.9972;3.28;0.73;11.8;7\\n6.6;0.84;0.03;2.3;0.059;32;48;0.9952;3.52;0.56;12.3;7\\n7.7;0.96;0.2;2;0.047;15;60;0.9955;3.36;0.44;10.9;5\\n10.5;0.24;0.47;2.1;0.066;6;24;0.9978;3.15;0.9;11;7\\n7.7;0.96;0.2;2;0.047;15;60;0.9955;3.36;0.44;10.9;5\\n6.6;0.84;0.03;2.3;0.059;32;48;0.9952;3.52;0.56;12.3;7\\n6.4;0.67;0.08;2.1;0.045;19;48;0.9949;3.49;0.49;11.4;6\\n9.5;0.78;0.22;1.9;0.077;6;32;0.9988;3.26;0.56;10.6;6\\n9.1;0.52;0.33;1.3;0.07;9;30;0.9978;3.24;0.6;9.3;5\\n12.8;0.84;0.63;2.4;0.088;13;35;0.9997;3.1;0.6;10.4;6\\n10.5;0.24;0.47;2.1;0.066;6;24;0.9978;3.15;0.9;11;7\\n7.8;0.55;0.35;2.2;0.074;21;66;0.9974;3.25;0.56;9.2;5\\n11.9;0.37;0.69;2.3;0.078;12;24;0.9958;3;0.65;12.8;6\\n12.3;0.39;0.63;2.3;0.091;6;18;1.0004;3.16;0.49;9.5;5\\n10.4;0.41;0.55;3.2;0.076;22;54;0.9996;3.15;0.89;9.9;6\\n12.3;0.39;0.63;2.3;0.091;6;18;1.0004;3.16;0.49;9.5;5\\n8;0.67;0.3;2;0.06;38;62;0.9958;3.26;0.56;10.2;6\\n11.1;0.45;0.73;3.2;0.066;6;22;0.9986;3.17;0.66;11.2;6\\n10.4;0.41;0.55;3.2;0.076;22;54;0.9996;3.15;0.89;9.9;6\\n7;0.62;0.18;1.5;0.062;7;50;0.9951;3.08;0.6;9.3;5\\n12.6;0.31;0.72;2.2;0.072;6;29;0.9987;2.88;0.82;9.8;8\\n11.9;0.4;0.65;2.15;0.068;7;27;0.9988;3.06;0.68;11.3;6\\n15.6;0.685;0.76;3.7;0.1;6;43;1.0032;2.95;0.68;11.2;7\\n10;0.44;0.49;2.7;0.077;11;19;0.9963;3.23;0.63;11.6;7\\n5.3;0.57;0.01;1.7;0.054;5;27;0.9934;3.57;0.84;12.5;7\\n9.5;0.735;0.1;2.1;0.079;6;31;0.9986;3.23;0.56;10.1;6\\n12.5;0.38;0.6;2.6;0.081;31;72;0.9996;3.1;0.73;10.5;5\\n9.3;0.48;0.29;2.1;0.127;6;16;0.9968;3.22;0.72;11.2;5\\n8.6;0.53;0.22;2;0.1;7;27;0.9967;3.2;0.56;10.2;6\\n11.9;0.39;0.69;2.8;0.095;17;35;0.9994;3.1;0.61;10.8;6\\n11.9;0.39;0.69;2.8;0.095;17;35;0.9994;3.1;0.61;10.8;6\\n8.4;0.37;0.53;1.8;0.413;9;26;0.9979;3.06;1.06;9.1;6\\n6.8;0.56;0.03;1.7;0.084;18;35;0.9968;3.44;0.63;10;6\\n10.4;0.33;0.63;2.8;0.084;5;22;0.9998;3.26;0.74;11.2;7\\n7;0.23;0.4;1.6;0.063;21;67;0.9952;3.5;0.63;11.1;5\\n11.3;0.62;0.67;5.2;0.086;6;19;0.9988;3.22;0.69;13.4;8\\n8.9;0.59;0.39;2.3;0.095;5;22;0.9986;3.37;0.58;10.3;5\\n9.2;0.63;0.21;2.7;0.097;29;65;0.9988;3.28;0.58;9.6;5\\n10.4;0.33;0.63;2.8;0.084;5;22;0.9998;3.26;0.74;11.2;7\\n11.6;0.58;0.66;2.2;0.074;10;47;1.0008;3.25;0.57;9;3\\n9.2;0.43;0.52;2.3;0.083;14;23;0.9976;3.35;0.61;11.3;6\\n8.3;0.615;0.22;2.6;0.087;6;19;0.9982;3.26;0.61;9.3;5\\n11;0.26;0.68;2.55;0.085;10;25;0.997;3.18;0.61;11.8;5\\n8.1;0.66;0.7;2.2;0.098;25;129;0.9972;3.08;0.53;9;5\\n11.5;0.315;0.54;2.1;0.084;5;15;0.9987;2.98;0.7;9.2;6\\n10;0.29;0.4;2.9;0.098;10;26;1.0006;3.48;0.91;9.7;5\\n10.3;0.5;0.42;2;0.069;21;51;0.9982;3.16;0.72;11.5;6\\n8.8;0.46;0.45;2.6;0.065;7;18;0.9947;3.32;0.79;14;6\\n11.4;0.36;0.69;2.1;0.09;6;21;1;3.17;0.62;9.2;6\\n8.7;0.82;0.02;1.2;0.07;36;48;0.9952;3.2;0.58;9.8;5\\n13;0.32;0.65;2.6;0.093;15;47;0.9996;3.05;0.61;10.6;5\\n9.6;0.54;0.42;2.4;0.081;25;52;0.997;3.2;0.71;11.4;6\\n12.5;0.37;0.55;2.6;0.083;25;68;0.9995;3.15;0.82;10.4;6\\n9.9;0.35;0.55;2.1;0.062;5;14;0.9971;3.26;0.79;10.6;5\\n10.5;0.28;0.51;1.7;0.08;10;24;0.9982;3.2;0.89;9.4;6\\n9.6;0.68;0.24;2.2;0.087;5;28;0.9988;3.14;0.6;10.2;5\\n9.3;0.27;0.41;2;0.091;6;16;0.998;3.28;0.7;9.7;5\\n10.4;0.24;0.49;1.8;0.075;6;20;0.9977;3.18;1.06;11;6\\n9.6;0.68;0.24;2.2;0.087;5;28;0.9988;3.14;0.6;10.2;5\\n9.4;0.685;0.11;2.7;0.077;6;31;0.9984;3.19;0.7;10.1;6\\n10.6;0.28;0.39;15.5;0.069;6;23;1.0026;3.12;0.66;9.2;5\\n9.4;0.3;0.56;2.8;0.08;6;17;0.9964;3.15;0.92;11.7;8\\n10.6;0.36;0.59;2.2;0.152;6;18;0.9986;3.04;1.05;9.4;5\\n10.6;0.36;0.6;2.2;0.152;7;18;0.9986;3.04;1.06;9.4;5\\n10.6;0.44;0.68;4.1;0.114;6;24;0.997;3.06;0.66;13.4;6\\n10.2;0.67;0.39;1.9;0.054;6;17;0.9976;3.17;0.47;10;5\\n10.2;0.67;0.39;1.9;0.054;6;17;0.9976;3.17;0.47;10;5\\n10.2;0.645;0.36;1.8;0.053;5;14;0.9982;3.17;0.42;10;6\\n11.6;0.32;0.55;2.8;0.081;35;67;1.0002;3.32;0.92;10.8;7\\n9.3;0.39;0.4;2.6;0.073;10;26;0.9984;3.34;0.75;10.2;6\\n9.3;0.775;0.27;2.8;0.078;24;56;0.9984;3.31;0.67;10.6;6\\n9.2;0.41;0.5;2.5;0.055;12;25;0.9952;3.34;0.79;13.3;7\\n8.9;0.4;0.51;2.6;0.052;13;27;0.995;3.32;0.9;13.4;7\\n8.7;0.69;0.31;3;0.086;23;81;1.0002;3.48;0.74;11.6;6\\n6.5;0.39;0.23;8.3;0.051;28;91;0.9952;3.44;0.55;12.1;6\\n10.7;0.35;0.53;2.6;0.07;5;16;0.9972;3.15;0.65;11;8\\n7.8;0.52;0.25;1.9;0.081;14;38;0.9984;3.43;0.65;9;6\\n7.2;0.34;0.32;2.5;0.09;43;113;0.9966;3.32;0.79;11.1;5\\n10.7;0.35;0.53;2.6;0.07;5;16;0.9972;3.15;0.65;11;8\\n8.7;0.69;0.31;3;0.086;23;81;1.0002;3.48;0.74;11.6;6\\n7.8;0.52;0.25;1.9;0.081;14;38;0.9984;3.43;0.65;9;6\\n10.4;0.44;0.73;6.55;0.074;38;76;0.999;3.17;0.85;12;7\\n10.4;0.44;0.73;6.55;0.074;38;76;0.999;3.17;0.85;12;7\\n10.5;0.26;0.47;1.9;0.078;6;24;0.9976;3.18;1.04;10.9;7\\n10.5;0.24;0.42;1.8;0.077;6;22;0.9976;3.21;1.05;10.8;7\\n10.2;0.49;0.63;2.9;0.072;10;26;0.9968;3.16;0.78;12.5;7\\n10.4;0.24;0.46;1.8;0.075;6;21;0.9976;3.25;1.02;10.8;7\\n11.2;0.67;0.55;2.3;0.084;6;13;1;3.17;0.71;9.5;6\\n10;0.59;0.31;2.2;0.09;26;62;0.9994;3.18;0.63;10.2;6\\n13.3;0.29;0.75;2.8;0.084;23;43;0.9986;3.04;0.68;11.4;7\\n12.4;0.42;0.49;4.6;0.073;19;43;0.9978;3.02;0.61;9.5;5\\n10;0.59;0.31;2.2;0.09;26;62;0.9994;3.18;0.63;10.2;6\\n10.7;0.4;0.48;2.1;0.125;15;49;0.998;3.03;0.81;9.7;6\\n10.5;0.51;0.64;2.4;0.107;6;15;0.9973;3.09;0.66;11.8;7\\n10.5;0.51;0.64;2.4;0.107;6;15;0.9973;3.09;0.66;11.8;7\\n8.5;0.655;0.49;6.1;0.122;34;151;1.001;3.31;1.14;9.3;5\\n12.5;0.6;0.49;4.3;0.1;5;14;1.001;3.25;0.74;11.9;6\\n10.4;0.61;0.49;2.1;0.2;5;16;0.9994;3.16;0.63;8.4;3\\n10.9;0.21;0.49;2.8;0.088;11;32;0.9972;3.22;0.68;11.7;6\\n7.3;0.365;0.49;2.5;0.088;39;106;0.9966;3.36;0.78;11;5\\n9.8;0.25;0.49;2.7;0.088;15;33;0.9982;3.42;0.9;10;6\\n7.6;0.41;0.49;2;0.088;16;43;0.998;3.48;0.64;9.1;5\\n8.2;0.39;0.49;2.3;0.099;47;133;0.9979;3.38;0.99;9.8;5\\n9.3;0.4;0.49;2.5;0.085;38;142;0.9978;3.22;0.55;9.4;5\\n9.2;0.43;0.49;2.4;0.086;23;116;0.9976;3.23;0.64;9.5;5\\n10.4;0.64;0.24;2.8;0.105;29;53;0.9998;3.24;0.67;9.9;5\\n7.3;0.365;0.49;2.5;0.088;39;106;0.9966;3.36;0.78;11;5\\n7;0.38;0.49;2.5;0.097;33;85;0.9962;3.39;0.77;11.4;6\\n8.2;0.42;0.49;2.6;0.084;32;55;0.9988;3.34;0.75;8.7;6\\n9.9;0.63;0.24;2.4;0.077;6;33;0.9974;3.09;0.57;9.4;5\\n9.1;0.22;0.24;2.1;0.078;1;28;0.999;3.41;0.87;10.3;6\\n11.9;0.38;0.49;2.7;0.098;12;42;1.0004;3.16;0.61;10.3;5\\n11.9;0.38;0.49;2.7;0.098;12;42;1.0004;3.16;0.61;10.3;5\\n10.3;0.27;0.24;2.1;0.072;15;33;0.9956;3.22;0.66;12.8;6\\n10;0.48;0.24;2.7;0.102;13;32;1;3.28;0.56;10;6\\n9.1;0.22;0.24;2.1;0.078;1;28;0.999;3.41;0.87;10.3;6\\n9.9;0.63;0.24;2.4;0.077;6;33;0.9974;3.09;0.57;9.4;5\\n8.1;0.825;0.24;2.1;0.084;5;13;0.9972;3.37;0.77;10.7;6\\n12.9;0.35;0.49;5.8;0.066;5;35;1.0014;3.2;0.66;12;7\\n11.2;0.5;0.74;5.15;0.1;5;17;0.9996;3.22;0.62;11.2;5\\n9.2;0.59;0.24;3.3;0.101;20;47;0.9988;3.26;0.67;9.6;5\\n9.5;0.46;0.49;6.3;0.064;5;17;0.9988;3.21;0.73;11;6\\n9.3;0.715;0.24;2.1;0.07;5;20;0.9966;3.12;0.59;9.9;5\\n11.2;0.66;0.24;2.5;0.085;16;53;0.9993;3.06;0.72;11;6\\n14.3;0.31;0.74;1.8;0.075;6;15;1.0008;2.86;0.79;8.4;6\\n9.1;0.47;0.49;2.6;0.094;38;106;0.9982;3.08;0.59;9.1;5\\n7.5;0.55;0.24;2;0.078;10;28;0.9983;3.45;0.78;9.5;6\\n10.6;0.31;0.49;2.5;0.067;6;21;0.9987;3.26;0.86;10.7;6\\n12.4;0.35;0.49;2.6;0.079;27;69;0.9994;3.12;0.75;10.4;6\\n9;0.53;0.49;1.9;0.171;6;25;0.9975;3.27;0.61;9.4;6\\n6.8;0.51;0.01;2.1;0.074;9;25;0.9958;3.33;0.56;9.5;6\\n9.4;0.43;0.24;2.8;0.092;14;45;0.998;3.19;0.73;10;6\\n9.5;0.46;0.24;2.7;0.092;14;44;0.998;3.12;0.74;10;6\\n5;1.04;0.24;1.6;0.05;32;96;0.9934;3.74;0.62;11.5;5\\n15.5;0.645;0.49;4.2;0.095;10;23;1.00315;2.92;0.74;11.1;5\\n15.5;0.645;0.49;4.2;0.095;10;23;1.00315;2.92;0.74;11.1;5\\n10.9;0.53;0.49;4.6;0.118;10;17;1.0002;3.07;0.56;11.7;6\\n15.6;0.645;0.49;4.2;0.095;10;23;1.00315;2.92;0.74;11.1;5\\n10.9;0.53;0.49;4.6;0.118;10;17;1.0002;3.07;0.56;11.7;6\\n13;0.47;0.49;4.3;0.085;6;47;1.0021;3.3;0.68;12.7;6\\n12.7;0.6;0.49;2.8;0.075;5;19;0.9994;3.14;0.57;11.4;5\\n9;0.44;0.49;2.4;0.078;26;121;0.9978;3.23;0.58;9.2;5\\n9;0.54;0.49;2.9;0.094;41;110;0.9982;3.08;0.61;9.2;5\\n7.6;0.29;0.49;2.7;0.092;25;60;0.9971;3.31;0.61;10.1;6\\n13;0.47;0.49;4.3;0.085;6;47;1.0021;3.3;0.68;12.7;6\\n12.7;0.6;0.49;2.8;0.075;5;19;0.9994;3.14;0.57;11.4;5\\n8.7;0.7;0.24;2.5;0.226;5;15;0.9991;3.32;0.6;9;6\\n8.7;0.7;0.24;2.5;0.226;5;15;0.9991;3.32;0.6;9;6\\n9.8;0.5;0.49;2.6;0.25;5;20;0.999;3.31;0.79;10.7;6\\n6.2;0.36;0.24;2.2;0.095;19;42;0.9946;3.57;0.57;11.7;6\\n11.5;0.35;0.49;3.3;0.07;10;37;1.0003;3.32;0.91;11;6\\n6.2;0.36;0.24;2.2;0.095;19;42;0.9946;3.57;0.57;11.7;6\\n10.2;0.24;0.49;2.4;0.075;10;28;0.9978;3.14;0.61;10.4;5\\n10.5;0.59;0.49;2.1;0.07;14;47;0.9991;3.3;0.56;9.6;4\\n10.6;0.34;0.49;3.2;0.078;20;78;0.9992;3.19;0.7;10;6\\n12.3;0.27;0.49;3.1;0.079;28;46;0.9993;3.2;0.8;10.2;6\\n9.9;0.5;0.24;2.3;0.103;6;14;0.9978;3.34;0.52;10;4\\n8.8;0.44;0.49;2.8;0.083;18;111;0.9982;3.3;0.6;9.5;5\\n8.8;0.47;0.49;2.9;0.085;17;110;0.9982;3.29;0.6;9.8;5\\n10.6;0.31;0.49;2.2;0.063;18;40;0.9976;3.14;0.51;9.8;6\\n12.3;0.5;0.49;2.2;0.089;5;14;1.0002;3.19;0.44;9.6;5\\n12.3;0.5;0.49;2.2;0.089;5;14;1.0002;3.19;0.44;9.6;5\\n11.7;0.49;0.49;2.2;0.083;5;15;1;3.19;0.43;9.2;5\\n12;0.28;0.49;1.9;0.074;10;21;0.9976;2.98;0.66;9.9;7\\n11.8;0.33;0.49;3.4;0.093;54;80;1.0002;3.3;0.76;10.7;7\\n7.6;0.51;0.24;2.4;0.091;8;38;0.998;3.47;0.66;9.6;6\\n11.1;0.31;0.49;2.7;0.094;16;47;0.9986;3.12;1.02;10.6;7\\n7.3;0.73;0.24;1.9;0.108;18;102;0.9967;3.26;0.59;9.3;5\\n5;0.42;0.24;2;0.06;19;50;0.9917;3.72;0.74;14;8\\n10.2;0.29;0.49;2.6;0.059;5;13;0.9976;3.05;0.74;10.5;7\\n9;0.45;0.49;2.6;0.084;21;75;0.9987;3.35;0.57;9.7;5\\n6.6;0.39;0.49;1.7;0.07;23;149;0.9922;3.12;0.5;11.5;6\\n9;0.45;0.49;2.6;0.084;21;75;0.9987;3.35;0.57;9.7;5\\n9.9;0.49;0.58;3.5;0.094;9;43;1.0004;3.29;0.58;9;5\\n7.9;0.72;0.17;2.6;0.096;20;38;0.9978;3.4;0.53;9.5;5\\n8.9;0.595;0.41;7.9;0.086;30;109;0.9998;3.27;0.57;9.3;5\\n12.4;0.4;0.51;2;0.059;6;24;0.9994;3.04;0.6;9.3;6\\n11.9;0.58;0.58;1.9;0.071;5;18;0.998;3.09;0.63;10;6\\n8.5;0.585;0.18;2.1;0.078;5;30;0.9967;3.2;0.48;9.8;6\\n12.7;0.59;0.45;2.3;0.082;11;22;1;3;0.7;9.3;6\\n8.2;0.915;0.27;2.1;0.088;7;23;0.9962;3.26;0.47;10;4\\n13.2;0.46;0.52;2.2;0.071;12;35;1.0006;3.1;0.56;9;6\\n7.7;0.835;0;2.6;0.081;6;14;0.9975;3.3;0.52;9.3;5\\n13.2;0.46;0.52;2.2;0.071;12;35;1.0006;3.1;0.56;9;6\\n8.3;0.58;0.13;2.9;0.096;14;63;0.9984;3.17;0.62;9.1;6\\n8.3;0.6;0.13;2.6;0.085;6;24;0.9984;3.31;0.59;9.2;6\\n9.4;0.41;0.48;4.6;0.072;10;20;0.9973;3.34;0.79;12.2;7\\n8.8;0.48;0.41;3.3;0.092;26;52;0.9982;3.31;0.53;10.5;6\\n10.1;0.65;0.37;5.1;0.11;11;65;1.0026;3.32;0.64;10.4;6\\n6.3;0.36;0.19;3.2;0.075;15;39;0.9956;3.56;0.52;12.7;6\\n8.8;0.24;0.54;2.5;0.083;25;57;0.9983;3.39;0.54;9.2;5\\n13.2;0.38;0.55;2.7;0.081;5;16;1.0006;2.98;0.54;9.4;5\\n7.5;0.64;0;2.4;0.077;18;29;0.9965;3.32;0.6;10;6\\n8.2;0.39;0.38;1.5;0.058;10;29;0.9962;3.26;0.74;9.8;5\\n9.2;0.755;0.18;2.2;0.148;10;103;0.9969;2.87;1.36;10.2;6\\n9.6;0.6;0.5;2.3;0.079;28;71;0.9997;3.5;0.57;9.7;5\\n9.6;0.6;0.5;2.3;0.079;28;71;0.9997;3.5;0.57;9.7;5\\n11.5;0.31;0.51;2.2;0.079;14;28;0.9982;3.03;0.93;9.8;6\\n11.4;0.46;0.5;2.7;0.122;4;17;1.0006;3.13;0.7;10.2;5\\n11.3;0.37;0.41;2.3;0.088;6;16;0.9988;3.09;0.8;9.3;5\\n8.3;0.54;0.24;3.4;0.076;16;112;0.9976;3.27;0.61;9.4;5\\n8.2;0.56;0.23;3.4;0.078;14;104;0.9976;3.28;0.62;9.4;5\\n10;0.58;0.22;1.9;0.08;9;32;0.9974;3.13;0.55;9.5;5\\n7.9;0.51;0.25;2.9;0.077;21;45;0.9974;3.49;0.96;12.1;6\\n6.8;0.69;0;5.6;0.124;21;58;0.9997;3.46;0.72;10.2;5\\n6.8;0.69;0;5.6;0.124;21;58;0.9997;3.46;0.72;10.2;5\\n8.8;0.6;0.29;2.2;0.098;5;15;0.9988;3.36;0.49;9.1;5\\n8.8;0.6;0.29;2.2;0.098;5;15;0.9988;3.36;0.49;9.1;5\\n8.7;0.54;0.26;2.5;0.097;7;31;0.9976;3.27;0.6;9.3;6\\n7.6;0.685;0.23;2.3;0.111;20;84;0.9964;3.21;0.61;9.3;5\\n8.7;0.54;0.26;2.5;0.097;7;31;0.9976;3.27;0.6;9.3;6\\n10.4;0.28;0.54;2.7;0.105;5;19;0.9988;3.25;0.63;9.5;5\\n7.6;0.41;0.14;3;0.087;21;43;0.9964;3.32;0.57;10.5;6\\n10.1;0.935;0.22;3.4;0.105;11;86;1.001;3.43;0.64;11.3;4\\n7.9;0.35;0.21;1.9;0.073;46;102;0.9964;3.27;0.58;9.5;5\\n8.7;0.84;0;1.4;0.065;24;33;0.9954;3.27;0.55;9.7;5\\n9.6;0.88;0.28;2.4;0.086;30;147;0.9979;3.24;0.53;9.4;5\\n9.5;0.885;0.27;2.3;0.084;31;145;0.9978;3.24;0.53;9.4;5\\n7.7;0.915;0.12;2.2;0.143;7;23;0.9964;3.35;0.65;10.2;7\\n8.9;0.29;0.35;1.9;0.067;25;57;0.997;3.18;1.36;10.3;6\\n9.9;0.54;0.45;2.3;0.071;16;40;0.9991;3.39;0.62;9.4;5\\n9.5;0.59;0.44;2.3;0.071;21;68;0.9992;3.46;0.63;9.5;5\\n9.9;0.54;0.45;2.3;0.071;16;40;0.9991;3.39;0.62;9.4;5\\n9.5;0.59;0.44;2.3;0.071;21;68;0.9992;3.46;0.63;9.5;5\\n9.9;0.54;0.45;2.3;0.071;16;40;0.9991;3.39;0.62;9.4;5\\n7.8;0.64;0.1;6;0.115;5;11;0.9984;3.37;0.69;10.1;7\\n7.3;0.67;0.05;3.6;0.107;6;20;0.9972;3.4;0.63;10.1;5\\n8.3;0.845;0.01;2.2;0.07;5;14;0.9967;3.32;0.58;11;4\\n8.7;0.48;0.3;2.8;0.066;10;28;0.9964;3.33;0.67;11.2;7\\n6.7;0.42;0.27;8.6;0.068;24;148;0.9948;3.16;0.57;11.3;6\\n10.7;0.43;0.39;2.2;0.106;8;32;0.9986;2.89;0.5;9.6;5\\n9.8;0.88;0.25;2.5;0.104;35;155;1.001;3.41;0.67;11.2;5\\n15.9;0.36;0.65;7.5;0.096;22;71;0.9976;2.98;0.84;14.9;5\\n9.4;0.33;0.59;2.8;0.079;9;30;0.9976;3.12;0.54;12;6\\n8.6;0.47;0.47;2.4;0.074;7;29;0.9979;3.08;0.46;9.5;5\\n9.7;0.55;0.17;2.9;0.087;20;53;1.0004;3.14;0.61;9.4;5\\n10.7;0.43;0.39;2.2;0.106;8;32;0.9986;2.89;0.5;9.6;5\\n12;0.5;0.59;1.4;0.073;23;42;0.998;2.92;0.68;10.5;7\\n7.2;0.52;0.07;1.4;0.074;5;20;0.9973;3.32;0.81;9.6;6\\n7.1;0.84;0.02;4.4;0.096;5;13;0.997;3.41;0.57;11;4\\n7.2;0.52;0.07;1.4;0.074;5;20;0.9973;3.32;0.81;9.6;6\\n7.5;0.42;0.31;1.6;0.08;15;42;0.9978;3.31;0.64;9;5\\n7.2;0.57;0.06;1.6;0.076;9;27;0.9972;3.36;0.7;9.6;6\\n10.1;0.28;0.46;1.8;0.05;5;13;0.9974;3.04;0.79;10.2;6\\n12.1;0.4;0.52;2;0.092;15;54;1;3.03;0.66;10.2;5\\n9.4;0.59;0.14;2;0.084;25;48;0.9981;3.14;0.56;9.7;5\\n8.3;0.49;0.36;1.8;0.222;6;16;0.998;3.18;0.6;9.5;6\\n11.3;0.34;0.45;2;0.082;6;15;0.9988;2.94;0.66;9.2;6\\n10;0.73;0.43;2.3;0.059;15;31;0.9966;3.15;0.57;11;5\\n11.3;0.34;0.45;2;0.082;6;15;0.9988;2.94;0.66;9.2;6\\n6.9;0.4;0.24;2.5;0.083;30;45;0.9959;3.26;0.58;10;5\\n8.2;0.73;0.21;1.7;0.074;5;13;0.9968;3.2;0.52;9.5;5\\n9.8;1.24;0.34;2;0.079;32;151;0.998;3.15;0.53;9.5;5\\n8.2;0.73;0.21;1.7;0.074;5;13;0.9968;3.2;0.52;9.5;5\\n10.8;0.4;0.41;2.2;0.084;7;17;0.9984;3.08;0.67;9.3;6\\n9.3;0.41;0.39;2.2;0.064;12;31;0.9984;3.26;0.65;10.2;5\\n10.8;0.4;0.41;2.2;0.084;7;17;0.9984;3.08;0.67;9.3;6\\n8.6;0.8;0.11;2.3;0.084;12;31;0.9979;3.4;0.48;9.9;5\\n8.3;0.78;0.1;2.6;0.081;45;87;0.9983;3.48;0.53;10;5\\n10.8;0.26;0.45;3.3;0.06;20;49;0.9972;3.13;0.54;9.6;5\\n13.3;0.43;0.58;1.9;0.07;15;40;1.0004;3.06;0.49;9;5\\n8;0.45;0.23;2.2;0.094;16;29;0.9962;3.21;0.49;10.2;6\\n8.5;0.46;0.31;2.25;0.078;32;58;0.998;3.33;0.54;9.8;5\\n8.1;0.78;0.23;2.6;0.059;5;15;0.997;3.37;0.56;11.3;5\\n9.8;0.98;0.32;2.3;0.078;35;152;0.998;3.25;0.48;9.4;5\\n8.1;0.78;0.23;2.6;0.059;5;15;0.997;3.37;0.56;11.3;5\\n7.1;0.65;0.18;1.8;0.07;13;40;0.997;3.44;0.6;9.1;5\\n9.1;0.64;0.23;3.1;0.095;13;38;0.9998;3.28;0.59;9.7;5\\n7.7;0.66;0.04;1.6;0.039;4;9;0.9962;3.4;0.47;9.4;5\\n8.1;0.38;0.48;1.8;0.157;5;17;0.9976;3.3;1.05;9.4;5\\n7.4;1.185;0;4.25;0.097;5;14;0.9966;3.63;0.54;10.7;3\\n9.2;0.92;0.24;2.6;0.087;12;93;0.9998;3.48;0.54;9.8;5\\n8.6;0.49;0.51;2;0.422;16;62;0.9979;3.03;1.17;9;5\\n9;0.48;0.32;2.8;0.084;21;122;0.9984;3.32;0.62;9.4;5\\n9;0.47;0.31;2.7;0.084;24;125;0.9984;3.31;0.61;9.4;5\\n5.1;0.47;0.02;1.3;0.034;18;44;0.9921;3.9;0.62;12.8;6\\n7;0.65;0.02;2.1;0.066;8;25;0.9972;3.47;0.67;9.5;6\\n7;0.65;0.02;2.1;0.066;8;25;0.9972;3.47;0.67;9.5;6\\n9.4;0.615;0.28;3.2;0.087;18;72;1.0001;3.31;0.53;9.7;5\\n11.8;0.38;0.55;2.1;0.071;5;19;0.9986;3.11;0.62;10.8;6\\n10.6;1.02;0.43;2.9;0.076;26;88;0.9984;3.08;0.57;10.1;6\\n7;0.65;0.02;2.1;0.066;8;25;0.9972;3.47;0.67;9.5;6\\n7;0.64;0.02;2.1;0.067;9;23;0.997;3.47;0.67;9.4;6\\n7.5;0.38;0.48;2.6;0.073;22;84;0.9972;3.32;0.7;9.6;4\\n9.1;0.765;0.04;1.6;0.078;4;14;0.998;3.29;0.54;9.7;4\\n8.4;1.035;0.15;6;0.073;11;54;0.999;3.37;0.49;9.9;5\\n7;0.78;0.08;2;0.093;10;19;0.9956;3.4;0.47;10;5\\n7.4;0.49;0.19;3;0.077;16;37;0.9966;3.37;0.51;10.5;5\\n7.8;0.545;0.12;2.5;0.068;11;35;0.996;3.34;0.61;11.6;6\\n9.7;0.31;0.47;1.6;0.062;13;33;0.9983;3.27;0.66;10;6\\n10.6;1.025;0.43;2.8;0.08;21;84;0.9985;3.06;0.57;10.1;5\\n8.9;0.565;0.34;3;0.093;16;112;0.9998;3.38;0.61;9.5;5\\n8.7;0.69;0;3.2;0.084;13;33;0.9992;3.36;0.45;9.4;5\\n8;0.43;0.36;2.3;0.075;10;48;0.9976;3.34;0.46;9.4;5\\n9.9;0.74;0.28;2.6;0.078;21;77;0.998;3.28;0.51;9.8;5\\n7.2;0.49;0.18;2.7;0.069;13;34;0.9967;3.29;0.48;9.2;6\\n8;0.43;0.36;2.3;0.075;10;48;0.9976;3.34;0.46;9.4;5\\n7.6;0.46;0.11;2.6;0.079;12;49;0.9968;3.21;0.57;10;5\\n8.4;0.56;0.04;2;0.082;10;22;0.9976;3.22;0.44;9.6;5\\n7.1;0.66;0;3.9;0.086;17;45;0.9976;3.46;0.54;9.5;5\\n8.4;0.56;0.04;2;0.082;10;22;0.9976;3.22;0.44;9.6;5\\n8.9;0.48;0.24;2.85;0.094;35;106;0.9982;3.1;0.53;9.2;5\\n7.6;0.42;0.08;2.7;0.084;15;48;0.9968;3.21;0.59;10;5\\n7.1;0.31;0.3;2.2;0.053;36;127;0.9965;2.94;1.62;9.5;5\\n7.5;1.115;0.1;3.1;0.086;5;12;0.9958;3.54;0.6;11.2;4\\n9;0.66;0.17;3;0.077;5;13;0.9976;3.29;0.55;10.4;5\\n8.1;0.72;0.09;2.8;0.084;18;49;0.9994;3.43;0.72;11.1;6\\n6.4;0.57;0.02;1.8;0.067;4;11;0.997;3.46;0.68;9.5;5\\n6.4;0.57;0.02;1.8;0.067;4;11;0.997;3.46;0.68;9.5;5\\n6.4;0.865;0.03;3.2;0.071;27;58;0.995;3.61;0.49;12.7;6\\n9.5;0.55;0.66;2.3;0.387;12;37;0.9982;3.17;0.67;9.6;5\\n8.9;0.875;0.13;3.45;0.088;4;14;0.9994;3.44;0.52;11.5;5\\n7.3;0.835;0.03;2.1;0.092;10;19;0.9966;3.39;0.47;9.6;5\\n7;0.45;0.34;2.7;0.082;16;72;0.998;3.55;0.6;9.5;5\\n7.7;0.56;0.2;2;0.075;9;39;0.9987;3.48;0.62;9.3;5\\n7.7;0.965;0.1;2.1;0.112;11;22;0.9963;3.26;0.5;9.5;5\\n7.7;0.965;0.1;2.1;0.112;11;22;0.9963;3.26;0.5;9.5;5\\n8.2;0.59;0;2.5;0.093;19;58;1.0002;3.5;0.65;9.3;6\\n9;0.46;0.23;2.8;0.092;28;104;0.9983;3.1;0.56;9.2;5\\n9;0.69;0;2.4;0.088;19;38;0.999;3.35;0.6;9.3;5\\n8.3;0.76;0.29;4.2;0.075;12;16;0.9965;3.45;0.68;11.5;6\\n9.2;0.53;0.24;2.6;0.078;28;139;0.99788;3.21;0.57;9.5;5\\n6.5;0.615;0;1.9;0.065;9;18;0.9972;3.46;0.65;9.2;5\\n11.6;0.41;0.58;2.8;0.096;25;101;1.00024;3.13;0.53;10;5\\n11.1;0.39;0.54;2.7;0.095;21;101;1.0001;3.13;0.51;9.5;5\\n7.3;0.51;0.18;2.1;0.07;12;28;0.99768;3.52;0.73;9.5;6\\n8.2;0.34;0.38;2.5;0.08;12;57;0.9978;3.3;0.47;9;6\\n8.6;0.33;0.4;2.6;0.083;16;68;0.99782;3.3;0.48;9.4;5\\n7.2;0.5;0.18;2.1;0.071;12;31;0.99761;3.52;0.72;9.6;6\\n7.3;0.51;0.18;2.1;0.07;12;28;0.99768;3.52;0.73;9.5;6\\n8.3;0.65;0.1;2.9;0.089;17;40;0.99803;3.29;0.55;9.5;5\\n8.3;0.65;0.1;2.9;0.089;17;40;0.99803;3.29;0.55;9.5;5\\n7.6;0.54;0.13;2.5;0.097;24;66;0.99785;3.39;0.61;9.4;5\\n8.3;0.65;0.1;2.9;0.089;17;40;0.99803;3.29;0.55;9.5;5\\n7.8;0.48;0.68;1.7;0.415;14;32;0.99656;3.09;1.06;9.1;6\\n7.8;0.91;0.07;1.9;0.058;22;47;0.99525;3.51;0.43;10.7;6\\n6.3;0.98;0.01;2;0.057;15;33;0.99488;3.6;0.46;11.2;6\\n8.1;0.87;0;2.2;0.084;10;31;0.99656;3.25;0.5;9.8;5\\n8.1;0.87;0;2.2;0.084;10;31;0.99656;3.25;0.5;9.8;5\\n8.8;0.42;0.21;2.5;0.092;33;88;0.99823;3.19;0.52;9.2;5\\n9;0.58;0.25;2.8;0.075;9;104;0.99779;3.23;0.57;9.7;5\\n9.3;0.655;0.26;2;0.096;5;35;0.99738;3.25;0.42;9.6;5\\n8.8;0.7;0;1.7;0.069;8;19;0.99701;3.31;0.53;10;6\\n9.3;0.655;0.26;2;0.096;5;35;0.99738;3.25;0.42;9.6;5\\n9.1;0.68;0.11;2.8;0.093;11;44;0.99888;3.31;0.55;9.5;6\\n9.2;0.67;0.1;3;0.091;12;48;0.99888;3.31;0.54;9.5;6\\n8.8;0.59;0.18;2.9;0.089;12;74;0.99738;3.14;0.54;9.4;5\\n7.5;0.6;0.32;2.7;0.103;13;98;0.99938;3.45;0.62;9.5;5\\n7.1;0.59;0.02;2.3;0.082;24;94;0.99744;3.55;0.53;9.7;6\\n7.9;0.72;0.01;1.9;0.076;7;32;0.99668;3.39;0.54;9.6;5\\n7.1;0.59;0.02;2.3;0.082;24;94;0.99744;3.55;0.53;9.7;6\\n9.4;0.685;0.26;2.4;0.082;23;143;0.9978;3.28;0.55;9.4;5\\n9.5;0.57;0.27;2.3;0.082;23;144;0.99782;3.27;0.55;9.4;5\\n7.9;0.4;0.29;1.8;0.157;1;44;0.9973;3.3;0.92;9.5;6\\n7.9;0.4;0.3;1.8;0.157;2;45;0.99727;3.31;0.91;9.5;6\\n7.2;1;0;3;0.102;7;16;0.99586;3.43;0.46;10;5\\n6.9;0.765;0.18;2.4;0.243;5.5;48;0.99612;3.4;0.6;10.3;6\\n6.9;0.635;0.17;2.4;0.241;6;18;0.9961;3.4;0.59;10.3;6\\n8.3;0.43;0.3;3.4;0.079;7;34;0.99788;3.36;0.61;10.5;5\\n7.1;0.52;0.03;2.6;0.076;21;92;0.99745;3.5;0.6;9.8;5\\n7;0.57;0;2;0.19;12;45;0.99676;3.31;0.6;9.4;6\\n6.5;0.46;0.14;2.4;0.114;9;37;0.99732;3.66;0.65;9.8;5\\n9;0.82;0.05;2.4;0.081;26;96;0.99814;3.36;0.53;10;5\\n6.5;0.46;0.14;2.4;0.114;9;37;0.99732;3.66;0.65;9.8;5\\n7.1;0.59;0.01;2.5;0.077;20;85;0.99746;3.55;0.59;9.8;5\\n9.9;0.35;0.41;2.3;0.083;11;61;0.9982;3.21;0.5;9.5;5\\n9.9;0.35;0.41;2.3;0.083;11;61;0.9982;3.21;0.5;9.5;5\\n10;0.56;0.24;2.2;0.079;19;58;0.9991;3.18;0.56;10.1;6\\n10;0.56;0.24;2.2;0.079;19;58;0.9991;3.18;0.56;10.1;6\\n8.6;0.63;0.17;2.9;0.099;21;119;0.998;3.09;0.52;9.3;5\\n7.4;0.37;0.43;2.6;0.082;18;82;0.99708;3.33;0.68;9.7;6\\n8.8;0.64;0.17;2.9;0.084;25;130;0.99818;3.23;0.54;9.6;5\\n7.1;0.61;0.02;2.5;0.081;17;87;0.99745;3.48;0.6;9.7;6\\n7.7;0.6;0;2.6;0.055;7;13;0.99639;3.38;0.56;10.8;5\\n10.1;0.27;0.54;2.3;0.065;7;26;0.99531;3.17;0.53;12.5;6\\n10.8;0.89;0.3;2.6;0.132;7;60;0.99786;2.99;1.18;10.2;5\\n8.7;0.46;0.31;2.5;0.126;24;64;0.99746;3.1;0.74;9.6;5\\n9.3;0.37;0.44;1.6;0.038;21;42;0.99526;3.24;0.81;10.8;7\\n9.4;0.5;0.34;3.6;0.082;5;14;0.9987;3.29;0.52;10.7;6\\n9.4;0.5;0.34;3.6;0.082;5;14;0.9987;3.29;0.52;10.7;6\\n7.2;0.61;0.08;4;0.082;26;108;0.99641;3.25;0.51;9.4;5\\n8.6;0.55;0.09;3.3;0.068;8;17;0.99735;3.23;0.44;10;5\\n5.1;0.585;0;1.7;0.044;14;86;0.99264;3.56;0.94;12.9;7\\n7.7;0.56;0.08;2.5;0.114;14;46;0.9971;3.24;0.66;9.6;6\\n8.4;0.52;0.22;2.7;0.084;4;18;0.99682;3.26;0.57;9.9;6\\n8.2;0.28;0.4;2.4;0.052;4;10;0.99356;3.33;0.7;12.8;7\\n8.4;0.25;0.39;2;0.041;4;10;0.99386;3.27;0.71;12.5;7\\n8.2;0.28;0.4;2.4;0.052;4;10;0.99356;3.33;0.7;12.8;7\\n7.4;0.53;0.12;1.9;0.165;4;12;0.99702;3.26;0.86;9.2;5\\n7.6;0.48;0.31;2.8;0.07;4;15;0.99693;3.22;0.55;10.3;6\\n7.3;0.49;0.1;2.6;0.068;4;14;0.99562;3.3;0.47;10.5;5\\n12.9;0.5;0.55;2.8;0.072;7;24;1.00012;3.09;0.68;10.9;6\\n10.8;0.45;0.33;2.5;0.099;20;38;0.99818;3.24;0.71;10.8;5\\n6.9;0.39;0.24;2.1;0.102;4;7;0.99462;3.44;0.58;11.4;4\\n12.6;0.41;0.54;2.8;0.103;19;41;0.99939;3.21;0.76;11.3;6\\n10.8;0.45;0.33;2.5;0.099;20;38;0.99818;3.24;0.71;10.8;5\\n9.8;0.51;0.19;3.2;0.081;8;30;0.9984;3.23;0.58;10.5;6\\n10.8;0.29;0.42;1.6;0.084;19;27;0.99545;3.28;0.73;11.9;6\\n7.1;0.715;0;2.35;0.071;21;47;0.99632;3.29;0.45;9.4;5\\n9.1;0.66;0.15;3.2;0.097;9;59;0.99976;3.28;0.54;9.6;5\\n7;0.685;0;1.9;0.099;9;22;0.99606;3.34;0.6;9.7;5\\n4.9;0.42;0;2.1;0.048;16;42;0.99154;3.71;0.74;14;7\\n6.7;0.54;0.13;2;0.076;15;36;0.9973;3.61;0.64;9.8;5\\n6.7;0.54;0.13;2;0.076;15;36;0.9973;3.61;0.64;9.8;5\\n7.1;0.48;0.28;2.8;0.068;6;16;0.99682;3.24;0.53;10.3;5\\n7.1;0.46;0.14;2.8;0.076;15;37;0.99624;3.36;0.49;10.7;5\\n7.5;0.27;0.34;2.3;0.05;4;8;0.9951;3.4;0.64;11;7\\n7.1;0.46;0.14;2.8;0.076;15;37;0.99624;3.36;0.49;10.7;5\\n7.8;0.57;0.09;2.3;0.065;34;45;0.99417;3.46;0.74;12.7;8\\n5.9;0.61;0.08;2.1;0.071;16;24;0.99376;3.56;0.77;11.1;6\\n7.5;0.685;0.07;2.5;0.058;5;9;0.99632;3.38;0.55;10.9;4\\n5.9;0.61;0.08;2.1;0.071;16;24;0.99376;3.56;0.77;11.1;6\\n10.4;0.44;0.42;1.5;0.145;34;48;0.99832;3.38;0.86;9.9;3\\n11.6;0.47;0.44;1.6;0.147;36;51;0.99836;3.38;0.86;9.9;4\\n8.8;0.685;0.26;1.6;0.088;16;23;0.99694;3.32;0.47;9.4;5\\n7.6;0.665;0.1;1.5;0.066;27;55;0.99655;3.39;0.51;9.3;5\\n6.7;0.28;0.28;2.4;0.012;36;100;0.99064;3.26;0.39;11.7;7\\n6.7;0.28;0.28;2.4;0.012;36;100;0.99064;3.26;0.39;11.7;7\\n10.1;0.31;0.35;1.6;0.075;9;28;0.99672;3.24;0.83;11.2;7\\n6;0.5;0.04;2.2;0.092;13;26;0.99647;3.46;0.47;10;5\\n11.1;0.42;0.47;2.65;0.085;9;34;0.99736;3.24;0.77;12.1;7\\n6.6;0.66;0;3;0.115;21;31;0.99629;3.45;0.63;10.3;5\\n10.6;0.5;0.45;2.6;0.119;34;68;0.99708;3.23;0.72;10.9;6\\n7.1;0.685;0.35;2;0.088;9;92;0.9963;3.28;0.62;9.4;5\\n9.9;0.25;0.46;1.7;0.062;26;42;0.9959;3.18;0.83;10.6;6\\n6.4;0.64;0.21;1.8;0.081;14;31;0.99689;3.59;0.66;9.8;5\\n6.4;0.64;0.21;1.8;0.081;14;31;0.99689;3.59;0.66;9.8;5\\n7.4;0.68;0.16;1.8;0.078;12;39;0.9977;3.5;0.7;9.9;6\\n6.4;0.64;0.21;1.8;0.081;14;31;0.99689;3.59;0.66;9.8;5\\n6.4;0.63;0.21;1.6;0.08;12;32;0.99689;3.58;0.66;9.8;5\\n9.3;0.43;0.44;1.9;0.085;9;22;0.99708;3.28;0.55;9.5;5\\n9.3;0.43;0.44;1.9;0.085;9;22;0.99708;3.28;0.55;9.5;5\\n8;0.42;0.32;2.5;0.08;26;122;0.99801;3.22;1.07;9.7;5\\n9.3;0.36;0.39;1.5;0.08;41;55;0.99652;3.47;0.73;10.9;6\\n9.3;0.36;0.39;1.5;0.08;41;55;0.99652;3.47;0.73;10.9;6\\n7.6;0.735;0.02;2.5;0.071;10;14;0.99538;3.51;0.71;11.7;7\\n9.3;0.36;0.39;1.5;0.08;41;55;0.99652;3.47;0.73;10.9;6\\n8.2;0.26;0.34;2.5;0.073;16;47;0.99594;3.4;0.78;11.3;7\\n11.7;0.28;0.47;1.7;0.054;17;32;0.99686;3.15;0.67;10.6;7\\n6.8;0.56;0.22;1.8;0.074;15;24;0.99438;3.4;0.82;11.2;6\\n7.2;0.62;0.06;2.7;0.077;15;85;0.99746;3.51;0.54;9.5;5\\n5.8;1.01;0.66;2;0.039;15;88;0.99357;3.66;0.6;11.5;6\\n7.5;0.42;0.32;2.7;0.067;7;25;0.99628;3.24;0.44;10.4;5\\n7.2;0.62;0.06;2.5;0.078;17;84;0.99746;3.51;0.53;9.7;5\\n7.2;0.62;0.06;2.7;0.077;15;85;0.99746;3.51;0.54;9.5;5\\n7.2;0.635;0.07;2.6;0.077;16;86;0.99748;3.51;0.54;9.7;5\\n6.8;0.49;0.22;2.3;0.071;13;24;0.99438;3.41;0.83;11.3;6\\n6.9;0.51;0.23;2;0.072;13;22;0.99438;3.4;0.84;11.2;6\\n6.8;0.56;0.22;1.8;0.074;15;24;0.99438;3.4;0.82;11.2;6\\n7.6;0.63;0.03;2;0.08;27;43;0.99578;3.44;0.64;10.9;6\\n7.7;0.715;0.01;2.1;0.064;31;43;0.99371;3.41;0.57;11.8;6\\n6.9;0.56;0.03;1.5;0.086;36;46;0.99522;3.53;0.57;10.6;5\\n7.3;0.35;0.24;2;0.067;28;48;0.99576;3.43;0.54;10;4\\n9.1;0.21;0.37;1.6;0.067;6;10;0.99552;3.23;0.58;11.1;7\\n10.4;0.38;0.46;2.1;0.104;6;10;0.99664;3.12;0.65;11.8;7\\n8.8;0.31;0.4;2.8;0.109;7;16;0.99614;3.31;0.79;11.8;7\\n7.1;0.47;0;2.2;0.067;7;14;0.99517;3.4;0.58;10.9;4\\n7.7;0.715;0.01;2.1;0.064;31;43;0.99371;3.41;0.57;11.8;6\\n8.8;0.61;0.19;4;0.094;30;69;0.99787;3.22;0.5;10;6\\n7.2;0.6;0.04;2.5;0.076;18;88;0.99745;3.53;0.55;9.5;5\\n9.2;0.56;0.18;1.6;0.078;10;21;0.99576;3.15;0.49;9.9;5\\n7.6;0.715;0;2.1;0.068;30;35;0.99533;3.48;0.65;11.4;6\\n8.4;0.31;0.29;3.1;0.194;14;26;0.99536;3.22;0.78;12;6\\n7.2;0.6;0.04;2.5;0.076;18;88;0.99745;3.53;0.55;9.5;5\\n8.8;0.61;0.19;4;0.094;30;69;0.99787;3.22;0.5;10;6\\n8.9;0.75;0.14;2.5;0.086;9;30;0.99824;3.34;0.64;10.5;5\\n9;0.8;0.12;2.4;0.083;8;28;0.99836;3.33;0.65;10.4;6\\n10.7;0.52;0.38;2.6;0.066;29;56;0.99577;3.15;0.79;12.1;7\\n6.8;0.57;0;2.5;0.072;32;64;0.99491;3.43;0.56;11.2;6\\n10.7;0.9;0.34;6.6;0.112;23;99;1.00289;3.22;0.68;9.3;5\\n7.2;0.34;0.24;2;0.071;30;52;0.99576;3.44;0.58;10.1;5\\n7.2;0.66;0.03;2.3;0.078;16;86;0.99743;3.53;0.57;9.7;5\\n10.1;0.45;0.23;1.9;0.082;10;18;0.99774;3.22;0.65;9.3;6\\n7.2;0.66;0.03;2.3;0.078;16;86;0.99743;3.53;0.57;9.7;5\\n7.2;0.63;0.03;2.2;0.08;17;88;0.99745;3.53;0.58;9.8;6\\n7.1;0.59;0.01;2.3;0.08;27;43;0.9955;3.42;0.58;10.7;6\\n8.3;0.31;0.39;2.4;0.078;17;43;0.99444;3.31;0.77;12.5;7\\n7.1;0.59;0.01;2.3;0.08;27;43;0.9955;3.42;0.58;10.7;6\\n8.3;0.31;0.39;2.4;0.078;17;43;0.99444;3.31;0.77;12.5;7\\n8.3;1.02;0.02;3.4;0.084;6;11;0.99892;3.48;0.49;11;3\\n8.9;0.31;0.36;2.6;0.056;10;39;0.99562;3.4;0.69;11.8;5\\n7.4;0.635;0.1;2.4;0.08;16;33;0.99736;3.58;0.69;10.8;7\\n7.4;0.635;0.1;2.4;0.08;16;33;0.99736;3.58;0.69;10.8;7\\n6.8;0.59;0.06;6;0.06;11;18;0.9962;3.41;0.59;10.8;7\\n6.8;0.59;0.06;6;0.06;11;18;0.9962;3.41;0.59;10.8;7\\n9.2;0.58;0.2;3;0.081;15;115;0.998;3.23;0.59;9.5;5\\n7.2;0.54;0.27;2.6;0.084;12;78;0.9964;3.39;0.71;11;5\\n6.1;0.56;0;2.2;0.079;6;9;0.9948;3.59;0.54;11.5;6\\n7.4;0.52;0.13;2.4;0.078;34;61;0.99528;3.43;0.59;10.8;6\\n7.3;0.305;0.39;1.2;0.059;7;11;0.99331;3.29;0.52;11.5;6\\n9.3;0.38;0.48;3.8;0.132;3;11;0.99577;3.23;0.57;13.2;6\\n9.1;0.28;0.46;9;0.114;3;9;0.99901;3.18;0.6;10.9;6\\n10;0.46;0.44;2.9;0.065;4;8;0.99674;3.33;0.62;12.2;6\\n9.4;0.395;0.46;4.6;0.094;3;10;0.99639;3.27;0.64;12.2;7\\n7.3;0.305;0.39;1.2;0.059;7;11;0.99331;3.29;0.52;11.5;6\\n8.6;0.315;0.4;2.2;0.079;3;6;0.99512;3.27;0.67;11.9;6\\n5.3;0.715;0.19;1.5;0.161;7;62;0.99395;3.62;0.61;11;5\\n6.8;0.41;0.31;8.8;0.084;26;45;0.99824;3.38;0.64;10.1;6\\n8.4;0.36;0.32;2.2;0.081;32;79;0.9964;3.3;0.72;11;6\\n8.4;0.62;0.12;1.8;0.072;38;46;0.99504;3.38;0.89;11.8;6\\n9.6;0.41;0.37;2.3;0.091;10;23;0.99786;3.24;0.56;10.5;5\\n8.4;0.36;0.32;2.2;0.081;32;79;0.9964;3.3;0.72;11;6\\n8.4;0.62;0.12;1.8;0.072;38;46;0.99504;3.38;0.89;11.8;6\\n6.8;0.41;0.31;8.8;0.084;26;45;0.99824;3.38;0.64;10.1;6\\n8.6;0.47;0.27;2.3;0.055;14;28;0.99516;3.18;0.8;11.2;5\\n8.6;0.22;0.36;1.9;0.064;53;77;0.99604;3.47;0.87;11;7\\n9.4;0.24;0.33;2.3;0.061;52;73;0.99786;3.47;0.9;10.2;6\\n8.4;0.67;0.19;2.2;0.093;11;75;0.99736;3.2;0.59;9.2;4\\n8.6;0.47;0.27;2.3;0.055;14;28;0.99516;3.18;0.8;11.2;5\\n8.7;0.33;0.38;3.3;0.063;10;19;0.99468;3.3;0.73;12;7\\n6.6;0.61;0.01;1.9;0.08;8;25;0.99746;3.69;0.73;10.5;5\\n7.4;0.61;0.01;2;0.074;13;38;0.99748;3.48;0.65;9.8;5\\n7.6;0.4;0.29;1.9;0.078;29;66;0.9971;3.45;0.59;9.5;6\\n7.4;0.61;0.01;2;0.074;13;38;0.99748;3.48;0.65;9.8;5\\n6.6;0.61;0.01;1.9;0.08;8;25;0.99746;3.69;0.73;10.5;5\\n8.8;0.3;0.38;2.3;0.06;19;72;0.99543;3.39;0.72;11.8;6\\n8.8;0.3;0.38;2.3;0.06;19;72;0.99543;3.39;0.72;11.8;6\\n12;0.63;0.5;1.4;0.071;6;26;0.99791;3.07;0.6;10.4;4\\n7.2;0.38;0.38;2.8;0.068;23;42;0.99356;3.34;0.72;12.9;7\\n6.2;0.46;0.17;1.6;0.073;7;11;0.99425;3.61;0.54;11.4;5\\n9.6;0.33;0.52;2.2;0.074;13;25;0.99509;3.36;0.76;12.4;7\\n9.9;0.27;0.49;5;0.082;9;17;0.99484;3.19;0.52;12.5;7\\n10.1;0.43;0.4;2.6;0.092;13;52;0.99834;3.22;0.64;10;7\\n9.8;0.5;0.34;2.3;0.094;10;45;0.99864;3.24;0.6;9.7;7\\n8.3;0.3;0.49;3.8;0.09;11;24;0.99498;3.27;0.64;12.1;7\\n10.2;0.44;0.42;2;0.071;7;20;0.99566;3.14;0.79;11.1;7\\n10.2;0.44;0.58;4.1;0.092;11;24;0.99745;3.29;0.99;12;7\\n8.3;0.28;0.48;2.1;0.093;6;12;0.99408;3.26;0.62;12.4;7\\n8.9;0.12;0.45;1.8;0.075;10;21;0.99552;3.41;0.76;11.9;7\\n8.9;0.12;0.45;1.8;0.075;10;21;0.99552;3.41;0.76;11.9;7\\n8.9;0.12;0.45;1.8;0.075;10;21;0.99552;3.41;0.76;11.9;7\\n8.3;0.28;0.48;2.1;0.093;6;12;0.99408;3.26;0.62;12.4;7\\n8.2;0.31;0.4;2.2;0.058;6;10;0.99536;3.31;0.68;11.2;7\\n10.2;0.34;0.48;2.1;0.052;5;9;0.99458;3.2;0.69;12.1;7\\n7.6;0.43;0.4;2.7;0.082;6;11;0.99538;3.44;0.54;12.2;6\\n8.5;0.21;0.52;1.9;0.09;9;23;0.99648;3.36;0.67;10.4;5\\n9;0.36;0.52;2.1;0.111;5;10;0.99568;3.31;0.62;11.3;6\\n9.5;0.37;0.52;2;0.088;12;51;0.99613;3.29;0.58;11.1;6\\n6.4;0.57;0.12;2.3;0.12;25;36;0.99519;3.47;0.71;11.3;7\\n8;0.59;0.05;2;0.089;12;32;0.99735;3.36;0.61;10;5\\n8.5;0.47;0.27;1.9;0.058;18;38;0.99518;3.16;0.85;11.1;6\\n7.1;0.56;0.14;1.6;0.078;7;18;0.99592;3.27;0.62;9.3;5\\n6.6;0.57;0.02;2.1;0.115;6;16;0.99654;3.38;0.69;9.5;5\\n8.8;0.27;0.39;2;0.1;20;27;0.99546;3.15;0.69;11.2;6\\n8.5;0.47;0.27;1.9;0.058;18;38;0.99518;3.16;0.85;11.1;6\\n8.3;0.34;0.4;2.4;0.065;24;48;0.99554;3.34;0.86;11;6\\n9;0.38;0.41;2.4;0.103;6;10;0.99604;3.13;0.58;11.9;7\\n8.5;0.66;0.2;2.1;0.097;23;113;0.99733;3.13;0.48;9.2;5\\n9;0.4;0.43;2.4;0.068;29;46;0.9943;3.2;0.6;12.2;6\\n6.7;0.56;0.09;2.9;0.079;7;22;0.99669;3.46;0.61;10.2;5\\n10.4;0.26;0.48;1.9;0.066;6;10;0.99724;3.33;0.87;10.9;6\\n10.4;0.26;0.48;1.9;0.066;6;10;0.99724;3.33;0.87;10.9;6\\n10.1;0.38;0.5;2.4;0.104;6;13;0.99643;3.22;0.65;11.6;7\\n8.5;0.34;0.44;1.7;0.079;6;12;0.99605;3.52;0.63;10.7;5\\n8.8;0.33;0.41;5.9;0.073;7;13;0.99658;3.3;0.62;12.1;7\\n7.2;0.41;0.3;2.1;0.083;35;72;0.997;3.44;0.52;9.4;5\\n7.2;0.41;0.3;2.1;0.083;35;72;0.997;3.44;0.52;9.4;5\\n8.4;0.59;0.29;2.6;0.109;31;119;0.99801;3.15;0.5;9.1;5\\n7;0.4;0.32;3.6;0.061;9;29;0.99416;3.28;0.49;11.3;7\\n12.2;0.45;0.49;1.4;0.075;3;6;0.9969;3.13;0.63;10.4;5\\n9.1;0.5;0.3;1.9;0.065;8;17;0.99774;3.32;0.71;10.5;6\\n9.5;0.86;0.26;1.9;0.079;13;28;0.99712;3.25;0.62;10;5\\n7.3;0.52;0.32;2.1;0.07;51;70;0.99418;3.34;0.82;12.9;6\\n9.1;0.5;0.3;1.9;0.065;8;17;0.99774;3.32;0.71;10.5;6\\n12.2;0.45;0.49;1.4;0.075;3;6;0.9969;3.13;0.63;10.4;5\\n7.4;0.58;0;2;0.064;7;11;0.99562;3.45;0.58;11.3;6\\n9.8;0.34;0.39;1.4;0.066;3;7;0.9947;3.19;0.55;11.4;7\\n7.1;0.36;0.3;1.6;0.08;35;70;0.99693;3.44;0.5;9.4;5\\n7.7;0.39;0.12;1.7;0.097;19;27;0.99596;3.16;0.49;9.4;5\\n9.7;0.295;0.4;1.5;0.073;14;21;0.99556;3.14;0.51;10.9;6\\n7.7;0.39;0.12;1.7;0.097;19;27;0.99596;3.16;0.49;9.4;5\\n7.1;0.34;0.28;2;0.082;31;68;0.99694;3.45;0.48;9.4;5\\n6.5;0.4;0.1;2;0.076;30;47;0.99554;3.36;0.48;9.4;6\\n7.1;0.34;0.28;2;0.082;31;68;0.99694;3.45;0.48;9.4;5\\n10;0.35;0.45;2.5;0.092;20;88;0.99918;3.15;0.43;9.4;5\\n7.7;0.6;0.06;2;0.079;19;41;0.99697;3.39;0.62;10.1;6\\n5.6;0.66;0;2.2;0.087;3;11;0.99378;3.71;0.63;12.8;7\\n5.6;0.66;0;2.2;0.087;3;11;0.99378;3.71;0.63;12.8;7\\n8.9;0.84;0.34;1.4;0.05;4;10;0.99554;3.12;0.48;9.1;6\\n6.4;0.69;0;1.65;0.055;7;12;0.99162;3.47;0.53;12.9;6\\n7.5;0.43;0.3;2.2;0.062;6;12;0.99495;3.44;0.72;11.5;7\\n9.9;0.35;0.38;1.5;0.058;31;47;0.99676;3.26;0.82;10.6;7\\n9.1;0.29;0.33;2.05;0.063;13;27;0.99516;3.26;0.84;11.7;7\\n6.8;0.36;0.32;1.8;0.067;4;8;0.9928;3.36;0.55;12.8;7\\n8.2;0.43;0.29;1.6;0.081;27;45;0.99603;3.25;0.54;10.3;5\\n6.8;0.36;0.32;1.8;0.067;4;8;0.9928;3.36;0.55;12.8;7\\n9.1;0.29;0.33;2.05;0.063;13;27;0.99516;3.26;0.84;11.7;7\\n9.1;0.3;0.34;2;0.064;12;25;0.99516;3.26;0.84;11.7;7\\n8.9;0.35;0.4;3.6;0.11;12;24;0.99549;3.23;0.7;12;7\\n9.6;0.5;0.36;2.8;0.116;26;55;0.99722;3.18;0.68;10.9;5\\n8.9;0.28;0.45;1.7;0.067;7;12;0.99354;3.25;0.55;12.3;7\\n8.9;0.32;0.31;2;0.088;12;19;0.9957;3.17;0.55;10.4;6\\n7.7;1.005;0.15;2.1;0.102;11;32;0.99604;3.23;0.48;10;5\\n7.5;0.71;0;1.6;0.092;22;31;0.99635;3.38;0.58;10;6\\n8;0.58;0.16;2;0.12;3;7;0.99454;3.22;0.58;11.2;6\\n10.5;0.39;0.46;2.2;0.075;14;27;0.99598;3.06;0.84;11.4;6\\n8.9;0.38;0.4;2.2;0.068;12;28;0.99486;3.27;0.75;12.6;7\\n8;0.18;0.37;0.9;0.049;36;109;0.99007;2.89;0.44;12.7;6\\n8;0.18;0.37;0.9;0.049;36;109;0.99007;2.89;0.44;12.7;6\\n7;0.5;0.14;1.8;0.078;10;23;0.99636;3.53;0.61;10.4;5\\n11.3;0.36;0.66;2.4;0.123;3;8;0.99642;3.2;0.53;11.9;6\\n11.3;0.36;0.66;2.4;0.123;3;8;0.99642;3.2;0.53;11.9;6\\n7;0.51;0.09;2.1;0.062;4;9;0.99584;3.35;0.54;10.5;5\\n8.2;0.32;0.42;2.3;0.098;3;9;0.99506;3.27;0.55;12.3;6\\n7.7;0.58;0.01;1.8;0.088;12;18;0.99568;3.32;0.56;10.5;7\\n8.6;0.83;0;2.8;0.095;17;43;0.99822;3.33;0.6;10.4;6\\n7.9;0.31;0.32;1.9;0.066;14;36;0.99364;3.41;0.56;12.6;6\\n6.4;0.795;0;2.2;0.065;28;52;0.99378;3.49;0.52;11.6;5\\n7.2;0.34;0.21;2.5;0.075;41;68;0.99586;3.37;0.54;10.1;6\\n7.7;0.58;0.01;1.8;0.088;12;18;0.99568;3.32;0.56;10.5;7\\n7.1;0.59;0;2.1;0.091;9;14;0.99488;3.42;0.55;11.5;7\\n7.3;0.55;0.01;1.8;0.093;9;15;0.99514;3.35;0.58;11;7\\n8.1;0.82;0;4.1;0.095;5;14;0.99854;3.36;0.53;9.6;5\\n7.5;0.57;0.08;2.6;0.089;14;27;0.99592;3.3;0.59;10.4;6\\n8.9;0.745;0.18;2.5;0.077;15;48;0.99739;3.2;0.47;9.7;6\\n10.1;0.37;0.34;2.4;0.085;5;17;0.99683;3.17;0.65;10.6;7\\n7.6;0.31;0.34;2.5;0.082;26;35;0.99356;3.22;0.59;12.5;7\\n7.3;0.91;0.1;1.8;0.074;20;56;0.99672;3.35;0.56;9.2;5\\n8.7;0.41;0.41;6.2;0.078;25;42;0.9953;3.24;0.77;12.6;7\\n8.9;0.5;0.21;2.2;0.088;21;39;0.99692;3.33;0.83;11.1;6\\n7.4;0.965;0;2.2;0.088;16;32;0.99756;3.58;0.67;10.2;5\\n6.9;0.49;0.19;1.7;0.079;13;26;0.99547;3.38;0.64;9.8;6\\n8.9;0.5;0.21;2.2;0.088;21;39;0.99692;3.33;0.83;11.1;6\\n9.5;0.39;0.41;8.9;0.069;18;39;0.99859;3.29;0.81;10.9;7\\n6.4;0.39;0.33;3.3;0.046;12;53;0.99294;3.36;0.62;12.2;6\\n6.9;0.44;0;1.4;0.07;32;38;0.99438;3.32;0.58;11.4;6\\n7.6;0.78;0;1.7;0.076;33;45;0.99612;3.31;0.62;10.7;6\\n7.1;0.43;0.17;1.8;0.082;27;51;0.99634;3.49;0.64;10.4;5\\n9.3;0.49;0.36;1.7;0.081;3;14;0.99702;3.27;0.78;10.9;6\\n9.3;0.5;0.36;1.8;0.084;6;17;0.99704;3.27;0.77;10.8;6\\n7.1;0.43;0.17;1.8;0.082;27;51;0.99634;3.49;0.64;10.4;5\\n8.5;0.46;0.59;1.4;0.414;16;45;0.99702;3.03;1.34;9.2;5\\n5.6;0.605;0.05;2.4;0.073;19;25;0.99258;3.56;0.55;12.9;5\\n8.3;0.33;0.42;2.3;0.07;9;20;0.99426;3.38;0.77;12.7;7\\n8.2;0.64;0.27;2;0.095;5;77;0.99747;3.13;0.62;9.1;6\\n8.2;0.64;0.27;2;0.095;5;77;0.99747;3.13;0.62;9.1;6\\n8.9;0.48;0.53;4;0.101;3;10;0.99586;3.21;0.59;12.1;7\\n7.6;0.42;0.25;3.9;0.104;28;90;0.99784;3.15;0.57;9.1;5\\n9.9;0.53;0.57;2.4;0.093;30;52;0.9971;3.19;0.76;11.6;7\\n8.9;0.48;0.53;4;0.101;3;10;0.99586;3.21;0.59;12.1;7\\n11.6;0.23;0.57;1.8;0.074;3;8;0.9981;3.14;0.7;9.9;6\\n9.1;0.4;0.5;1.8;0.071;7;16;0.99462;3.21;0.69;12.5;8\\n8;0.38;0.44;1.9;0.098;6;15;0.9956;3.3;0.64;11.4;6\\n10.2;0.29;0.65;2.4;0.075;6;17;0.99565;3.22;0.63;11.8;6\\n8.2;0.74;0.09;2;0.067;5;10;0.99418;3.28;0.57;11.8;6\\n7.7;0.61;0.18;2.4;0.083;6;20;0.9963;3.29;0.6;10.2;6\\n6.6;0.52;0.08;2.4;0.07;13;26;0.99358;3.4;0.72;12.5;7\\n11.1;0.31;0.53;2.2;0.06;3;10;0.99572;3.02;0.83;10.9;7\\n11.1;0.31;0.53;2.2;0.06;3;10;0.99572;3.02;0.83;10.9;7\\n8;0.62;0.35;2.8;0.086;28;52;0.997;3.31;0.62;10.8;5\\n9.3;0.33;0.45;1.5;0.057;19;37;0.99498;3.18;0.89;11.1;7\\n7.5;0.77;0.2;8.1;0.098;30;92;0.99892;3.2;0.58;9.2;5\\n7.2;0.35;0.26;1.8;0.083;33;75;0.9968;3.4;0.58;9.5;6\\n8;0.62;0.33;2.7;0.088;16;37;0.9972;3.31;0.58;10.7;6\\n7.5;0.77;0.2;8.1;0.098;30;92;0.99892;3.2;0.58;9.2;5\\n9.1;0.25;0.34;2;0.071;45;67;0.99769;3.44;0.86;10.2;7\\n9.9;0.32;0.56;2;0.073;3;8;0.99534;3.15;0.73;11.4;6\\n8.6;0.37;0.65;6.4;0.08;3;8;0.99817;3.27;0.58;11;5\\n8.6;0.37;0.65;6.4;0.08;3;8;0.99817;3.27;0.58;11;5\\n7.9;0.3;0.68;8.3;0.05;37.5;278;0.99316;3.01;0.51;12.3;7\\n10.3;0.27;0.56;1.4;0.047;3;8;0.99471;3.16;0.51;11.8;6\\n7.9;0.3;0.68;8.3;0.05;37.5;289;0.99316;3.01;0.51;12.3;7\\n7.2;0.38;0.3;1.8;0.073;31;70;0.99685;3.42;0.59;9.5;6\\n8.7;0.42;0.45;2.4;0.072;32;59;0.99617;3.33;0.77;12;6\\n7.2;0.38;0.3;1.8;0.073;31;70;0.99685;3.42;0.59;9.5;6\\n6.8;0.48;0.08;1.8;0.074;40;64;0.99529;3.12;0.49;9.6;5\\n8.5;0.34;0.4;4.7;0.055;3;9;0.99738;3.38;0.66;11.6;7\\n7.9;0.19;0.42;1.6;0.057;18;30;0.994;3.29;0.69;11.2;6\\n11.6;0.41;0.54;1.5;0.095;22;41;0.99735;3.02;0.76;9.9;7\\n11.6;0.41;0.54;1.5;0.095;22;41;0.99735;3.02;0.76;9.9;7\\n10;0.26;0.54;1.9;0.083;42;74;0.99451;2.98;0.63;11.8;8\\n7.9;0.34;0.42;2;0.086;8;19;0.99546;3.35;0.6;11.4;6\\n7;0.54;0.09;2;0.081;10;16;0.99479;3.43;0.59;11.5;6\\n9.2;0.31;0.36;2.2;0.079;11;31;0.99615;3.33;0.86;12;7\\n6.6;0.725;0.09;5.5;0.117;9;17;0.99655;3.35;0.49;10.8;6\\n9.4;0.4;0.47;2.5;0.087;6;20;0.99772;3.15;0.5;10.5;5\\n6.6;0.725;0.09;5.5;0.117;9;17;0.99655;3.35;0.49;10.8;6\\n8.6;0.52;0.38;1.5;0.096;5;18;0.99666;3.2;0.52;9.4;5\\n8;0.31;0.45;2.1;0.216;5;16;0.99358;3.15;0.81;12.5;7\\n8.6;0.52;0.38;1.5;0.096;5;18;0.99666;3.2;0.52;9.4;5\\n8.4;0.34;0.42;2.1;0.072;23;36;0.99392;3.11;0.78;12.4;6\\n7.4;0.49;0.27;2.1;0.071;14;25;0.99388;3.35;0.63;12;6\\n6.1;0.48;0.09;1.7;0.078;18;30;0.99402;3.45;0.54;11.2;6\\n7.4;0.49;0.27;2.1;0.071;14;25;0.99388;3.35;0.63;12;6\\n8;0.48;0.34;2.2;0.073;16;25;0.9936;3.28;0.66;12.4;6\\n6.3;0.57;0.28;2.1;0.048;13;49;0.99374;3.41;0.6;12.8;5\\n8.2;0.23;0.42;1.9;0.069;9;17;0.99376;3.21;0.54;12.3;6\\n9.1;0.3;0.41;2;0.068;10;24;0.99523;3.27;0.85;11.7;7\\n8.1;0.78;0.1;3.3;0.09;4;13;0.99855;3.36;0.49;9.5;5\\n10.8;0.47;0.43;2.1;0.171;27;66;0.9982;3.17;0.76;10.8;6\\n8.3;0.53;0;1.4;0.07;6;14;0.99593;3.25;0.64;10;6\\n5.4;0.42;0.27;2;0.092;23;55;0.99471;3.78;0.64;12.3;7\\n7.9;0.33;0.41;1.5;0.056;6;35;0.99396;3.29;0.71;11;6\\n8.9;0.24;0.39;1.6;0.074;3;10;0.99698;3.12;0.59;9.5;6\\n5;0.4;0.5;4.3;0.046;29;80;0.9902;3.49;0.66;13.6;6\\n7;0.69;0.07;2.5;0.091;15;21;0.99572;3.38;0.6;11.3;6\\n7;0.69;0.07;2.5;0.091;15;21;0.99572;3.38;0.6;11.3;6\\n7;0.69;0.07;2.5;0.091;15;21;0.99572;3.38;0.6;11.3;6\\n7.1;0.39;0.12;2.1;0.065;14;24;0.99252;3.3;0.53;13.3;6\\n5.6;0.66;0;2.5;0.066;7;15;0.99256;3.52;0.58;12.9;5\\n7.9;0.54;0.34;2.5;0.076;8;17;0.99235;3.2;0.72;13.1;8\\n6.6;0.5;0;1.8;0.062;21;28;0.99352;3.44;0.55;12.3;6\\n6.3;0.47;0;1.4;0.055;27;33;0.9922;3.45;0.48;12.3;6\\n10.7;0.4;0.37;1.9;0.081;17;29;0.99674;3.12;0.65;11.2;6\\n6.5;0.58;0;2.2;0.096;3;13;0.99557;3.62;0.62;11.5;4\\n8.8;0.24;0.35;1.7;0.055;13;27;0.99394;3.14;0.59;11.3;7\\n5.8;0.29;0.26;1.7;0.063;3;11;0.9915;3.39;0.54;13.5;6\\n6.3;0.76;0;2.9;0.072;26;52;0.99379;3.51;0.6;11.5;6\\n10;0.43;0.33;2.7;0.095;28;89;0.9984;3.22;0.68;10;5\\n10.5;0.43;0.35;3.3;0.092;24;70;0.99798;3.21;0.69;10.5;6\\n9.1;0.6;0;1.9;0.058;5;10;0.9977;3.18;0.63;10.4;6\\n5.9;0.19;0.21;1.7;0.045;57;135;0.99341;3.32;0.44;9.5;5\\n7.4;0.36;0.34;1.8;0.075;18;38;0.9933;3.38;0.88;13.6;7\\n7.2;0.48;0.07;5.5;0.089;10;18;0.99684;3.37;0.68;11.2;7\\n8.5;0.28;0.35;1.7;0.061;6;15;0.99524;3.3;0.74;11.8;7\\n8;0.25;0.43;1.7;0.067;22;50;0.9946;3.38;0.6;11.9;6\\n10.4;0.52;0.45;2;0.08;6;13;0.99774;3.22;0.76;11.4;6\\n10.4;0.52;0.45;2;0.08;6;13;0.99774;3.22;0.76;11.4;6\\n7.5;0.41;0.15;3.7;0.104;29;94;0.99786;3.14;0.58;9.1;5\\n8.2;0.51;0.24;2;0.079;16;86;0.99764;3.34;0.64;9.5;6\\n7.3;0.4;0.3;1.7;0.08;33;79;0.9969;3.41;0.65;9.5;6\\n8.2;0.38;0.32;2.5;0.08;24;71;0.99624;3.27;0.85;11;6\\n6.9;0.45;0.11;2.4;0.043;6;12;0.99354;3.3;0.65;11.4;6\\n7;0.22;0.3;1.8;0.065;16;20;0.99672;3.61;0.82;10;6\\n7.3;0.32;0.23;2.3;0.066;35;70;0.99588;3.43;0.62;10.1;5\\n8.2;0.2;0.43;2.5;0.076;31;51;0.99672;3.53;0.81;10.4;6\\n7.8;0.5;0.12;1.8;0.178;6;21;0.996;3.28;0.87;9.8;6\\n10;0.41;0.45;6.2;0.071;6;14;0.99702;3.21;0.49;11.8;7\\n7.8;0.39;0.42;2;0.086;9;21;0.99526;3.39;0.66;11.6;6\\n10;0.35;0.47;2;0.061;6;11;0.99585;3.23;0.52;12;6\\n8.2;0.33;0.32;2.8;0.067;4;12;0.99473;3.3;0.76;12.8;7\\n6.1;0.58;0.23;2.5;0.044;16;70;0.99352;3.46;0.65;12.5;6\\n8.3;0.6;0.25;2.2;0.118;9;38;0.99616;3.15;0.53;9.8;5\\n9.6;0.42;0.35;2.1;0.083;17;38;0.99622;3.23;0.66;11.1;6\\n6.6;0.58;0;2.2;0.1;50;63;0.99544;3.59;0.68;11.4;6\\n8.3;0.6;0.25;2.2;0.118;9;38;0.99616;3.15;0.53;9.8;5\\n8.5;0.18;0.51;1.75;0.071;45;88;0.99524;3.33;0.76;11.8;7\\n5.1;0.51;0.18;2.1;0.042;16;101;0.9924;3.46;0.87;12.9;7\\n6.7;0.41;0.43;2.8;0.076;22;54;0.99572;3.42;1.16;10.6;6\\n10.2;0.41;0.43;2.2;0.11;11;37;0.99728;3.16;0.67;10.8;5\\n10.6;0.36;0.57;2.3;0.087;6;20;0.99676;3.14;0.72;11.1;7\\n8.8;0.45;0.43;1.4;0.076;12;21;0.99551;3.21;0.75;10.2;6\\n8.5;0.32;0.42;2.3;0.075;12;19;0.99434;3.14;0.71;11.8;7\\n9;0.785;0.24;1.7;0.078;10;21;0.99692;3.29;0.67;10;5\\n9;0.785;0.24;1.7;0.078;10;21;0.99692;3.29;0.67;10;5\\n8.5;0.44;0.5;1.9;0.369;15;38;0.99634;3.01;1.1;9.4;5\\n9.9;0.54;0.26;2;0.111;7;60;0.99709;2.94;0.98;10.2;5\\n8.2;0.33;0.39;2.5;0.074;29;48;0.99528;3.32;0.88;12.4;7\\n6.5;0.34;0.27;2.8;0.067;8;44;0.99384;3.21;0.56;12;6\\n7.6;0.5;0.29;2.3;0.086;5;14;0.99502;3.32;0.62;11.5;6\\n9.2;0.36;0.34;1.6;0.062;5;12;0.99667;3.2;0.67;10.5;6\\n7.1;0.59;0;2.2;0.078;26;44;0.99522;3.42;0.68;10.8;6\\n9.7;0.42;0.46;2.1;0.074;5;16;0.99649;3.27;0.74;12.3;6\\n7.6;0.36;0.31;1.7;0.079;26;65;0.99716;3.46;0.62;9.5;6\\n7.6;0.36;0.31;1.7;0.079;26;65;0.99716;3.46;0.62;9.5;6\\n6.5;0.61;0;2.2;0.095;48;59;0.99541;3.61;0.7;11.5;6\\n6.5;0.88;0.03;5.6;0.079;23;47;0.99572;3.58;0.5;11.2;4\\n7.1;0.66;0;2.4;0.052;6;11;0.99318;3.35;0.66;12.7;7\\n5.6;0.915;0;2.1;0.041;17;78;0.99346;3.68;0.73;11.4;5\\n8.2;0.35;0.33;2.4;0.076;11;47;0.99599;3.27;0.81;11;6\\n8.2;0.35;0.33;2.4;0.076;11;47;0.99599;3.27;0.81;11;6\\n9.8;0.39;0.43;1.65;0.068;5;11;0.99478;3.19;0.46;11.4;5\\n10.2;0.4;0.4;2.5;0.068;41;54;0.99754;3.38;0.86;10.5;6\\n6.8;0.66;0.07;1.6;0.07;16;61;0.99572;3.29;0.6;9.3;5\\n6.7;0.64;0.23;2.1;0.08;11;119;0.99538;3.36;0.7;10.9;5\\n7;0.43;0.3;2;0.085;6;39;0.99346;3.33;0.46;11.9;6\\n6.6;0.8;0.03;7.8;0.079;6;12;0.9963;3.52;0.5;12.2;5\\n7;0.43;0.3;2;0.085;6;39;0.99346;3.33;0.46;11.9;6\\n6.7;0.64;0.23;2.1;0.08;11;119;0.99538;3.36;0.7;10.9;5\\n8.8;0.955;0.05;1.8;0.075;5;19;0.99616;3.3;0.44;9.6;4\\n9.1;0.4;0.57;4.6;0.08;6;20;0.99652;3.28;0.57;12.5;6\\n6.5;0.885;0;2.3;0.166;6;12;0.99551;3.56;0.51;10.8;5\\n7.2;0.25;0.37;2.5;0.063;11;41;0.99439;3.52;0.8;12.4;7\\n6.4;0.885;0;2.3;0.166;6;12;0.99551;3.56;0.51;10.8;5\\n7;0.745;0.12;1.8;0.114;15;64;0.99588;3.22;0.59;9.5;6\\n6.2;0.43;0.22;1.8;0.078;21;56;0.99633;3.52;0.6;9.5;6\\n7.9;0.58;0.23;2.3;0.076;23;94;0.99686;3.21;0.58;9.5;6\\n7.7;0.57;0.21;1.5;0.069;4;9;0.99458;3.16;0.54;9.8;6\\n7.7;0.26;0.26;2;0.052;19;77;0.9951;3.15;0.79;10.9;6\\n7.9;0.58;0.23;2.3;0.076;23;94;0.99686;3.21;0.58;9.5;6\\n7.7;0.57;0.21;1.5;0.069;4;9;0.99458;3.16;0.54;9.8;6\\n7.9;0.34;0.36;1.9;0.065;5;10;0.99419;3.27;0.54;11.2;7\\n8.6;0.42;0.39;1.8;0.068;6;12;0.99516;3.35;0.69;11.7;8\\n9.9;0.74;0.19;5.8;0.111;33;76;0.99878;3.14;0.55;9.4;5\\n7.2;0.36;0.46;2.1;0.074;24;44;0.99534;3.4;0.85;11;7\\n7.2;0.36;0.46;2.1;0.074;24;44;0.99534;3.4;0.85;11;7\\n7.2;0.36;0.46;2.1;0.074;24;44;0.99534;3.4;0.85;11;7\\n9.9;0.72;0.55;1.7;0.136;24;52;0.99752;3.35;0.94;10;5\\n7.2;0.36;0.46;2.1;0.074;24;44;0.99534;3.4;0.85;11;7\\n6.2;0.39;0.43;2;0.071;14;24;0.99428;3.45;0.87;11.2;7\\n6.8;0.65;0.02;2.1;0.078;8;15;0.99498;3.35;0.62;10.4;6\\n6.6;0.44;0.15;2.1;0.076;22;53;0.9957;3.32;0.62;9.3;5\\n6.8;0.65;0.02;2.1;0.078;8;15;0.99498;3.35;0.62;10.4;6\\n9.6;0.38;0.42;1.9;0.071;5;13;0.99659;3.15;0.75;10.5;6\\n10.2;0.33;0.46;1.9;0.081;6;9;0.99628;3.1;0.48;10.4;6\\n8.8;0.27;0.46;2.1;0.095;20;29;0.99488;3.26;0.56;11.3;6\\n7.9;0.57;0.31;2;0.079;10;79;0.99677;3.29;0.69;9.5;6\\n8.2;0.34;0.37;1.9;0.057;43;74;0.99408;3.23;0.81;12;6\\n8.2;0.4;0.31;1.9;0.082;8;24;0.996;3.24;0.69;10.6;6\\n9;0.39;0.4;1.3;0.044;25;50;0.99478;3.2;0.83;10.9;6\\n10.9;0.32;0.52;1.8;0.132;17;44;0.99734;3.28;0.77;11.5;6\\n10.9;0.32;0.52;1.8;0.132;17;44;0.99734;3.28;0.77;11.5;6\\n8.1;0.53;0.22;2.2;0.078;33;89;0.99678;3.26;0.46;9.6;6\\n10.5;0.36;0.47;2.2;0.074;9;23;0.99638;3.23;0.76;12;6\\n12.6;0.39;0.49;2.5;0.08;8;20;0.9992;3.07;0.82;10.3;6\\n9.2;0.46;0.23;2.6;0.091;18;77;0.99922;3.15;0.51;9.4;5\\n7.5;0.58;0.03;4.1;0.08;27;46;0.99592;3.02;0.47;9.2;5\\n9;0.58;0.25;2;0.104;8;21;0.99769;3.27;0.72;9.6;5\\n5.1;0.42;0;1.8;0.044;18;88;0.99157;3.68;0.73;13.6;7\\n7.6;0.43;0.29;2.1;0.075;19;66;0.99718;3.4;0.64;9.5;5\\n7.7;0.18;0.34;2.7;0.066;15;58;0.9947;3.37;0.78;11.8;6\\n7.8;0.815;0.01;2.6;0.074;48;90;0.99621;3.38;0.62;10.8;5\\n7.6;0.43;0.29;2.1;0.075;19;66;0.99718;3.4;0.64;9.5;5\\n10.2;0.23;0.37;2.2;0.057;14;36;0.99614;3.23;0.49;9.3;4\\n7.1;0.75;0.01;2.2;0.059;11;18;0.99242;3.39;0.4;12.8;6\\n6;0.33;0.32;12.9;0.054;6;113;0.99572;3.3;0.56;11.5;4\\n7.8;0.55;0;1.7;0.07;7;17;0.99659;3.26;0.64;9.4;6\\n7.1;0.75;0.01;2.2;0.059;11;18;0.99242;3.39;0.4;12.8;6\\n8.1;0.73;0;2.5;0.081;12;24;0.99798;3.38;0.46;9.6;4\\n6.5;0.67;0;4.3;0.057;11;20;0.99488;3.45;0.56;11.8;4\\n7.5;0.61;0.2;1.7;0.076;36;60;0.99494;3.1;0.4;9.3;5\\n9.8;0.37;0.39;2.5;0.079;28;65;0.99729;3.16;0.59;9.8;5\\n9;0.4;0.41;2;0.058;15;40;0.99414;3.22;0.6;12.2;6\\n8.3;0.56;0.22;2.4;0.082;10;86;0.9983;3.37;0.62;9.5;5\\n5.9;0.29;0.25;13.4;0.067;72;160;0.99721;3.33;0.54;10.3;6\\n7.4;0.55;0.19;1.8;0.082;15;34;0.99655;3.49;0.68;10.5;5\\n7.4;0.74;0.07;'"
      ]
     },
     "execution_count": 44,
     "metadata": {},
     "output_type": "execute_result"
    }
   ],
   "source": [
    "%python\n",
    "dbutils.fs.head(\"dbfs:/Volumes/marscat/marsschema/marsdemo_csv_vol/wine-quality/winequality-red.csv\")"
   ]
  },
  {
   "cell_type": "code",
   "execution_count": 0,
   "metadata": {
    "application/vnd.databricks.v1+cell": {
     "cellMetadata": {
      "byteLimit": 2048000,
      "rowLimit": 10000
     },
     "inputWidgets": {},
     "nuid": "81c3ba32-517d-4671-831b-8907c6780ef0",
     "showTitle": false,
     "tableResultSettingsMap": {},
     "title": ""
    }
   },
   "outputs": [
    {
     "output_type": "stream",
     "name": "stdout",
     "output_type": "stream",
     "text": [
      "\"fixed acidity\";\"volatile acidity\";\"citric acid\";\"residual sugar\";\"chlorides\";\"free sulfur dioxide\";\"total sulfur dioxide\";\"density\";\"pH\";\"sulphates\";\"alcohol\";\"quality\"\n7.4;0.7;0;1.9;0.076;11;34;0.9978;3.51;0.56;9.4;5\n7.8;0.88;0;2.6;0.098;25;67;0.9968;3.2;0.68;9.8;5\n7.8;0.76;0.04;2.3;0.092;15;54;0.997;3.26;0.65;9.8;5\n11.2;0.28;0.56;1.9;0.075;17;60;0.998;3.16;0.58;9.8;6\n7.4;0.7;0;1.9;0.076;11;34;0.9978;3.51;0.56;9.4;5\n7.4;0.66;0;1.8;0.075;13;40;0.9978;3.51;0.56;9.4;5\n7.9;0.6;0.06;1.6;0.069;15;59;0.9964;3.3;0.46;9.4;5\n7.3;0.65;0;1.2;0.065;15;21;0.9946;3.39;0.47;10;7\n7.8;0.58;0.02;2;0.073;9;18;0.9968;3.36;0.57;9.5;7\n7.5;0.5;0.36;6.1;0.071;17;102;0.9978;3.35;0.8;10.5;5\n6.7;0.58;0.08;1.8;0.097;15;65;0.9959;3.28;0.54;9.2;5\n7.5;0.5;0.36;6.1;0.071;17;102;0.9978;3.35;0.8;10.5;5\n5.6;0.615;0;1.6;0.089;16;59;0.9943;3.58;0.52;9.9;5\n7.8;0.61;0.29;1.6;0.114;9;29;0.9974;3.26;1.56;9.1;5\n8.9;0.62;0.18;3.8;0.176;52;145;0.9986;3.16;0.88;9.2;5\n8.9;0.62;0.19;3.9;0.17;51;148;0.9986;3.17;0.93;9.2;5\n8.5;0.28;0.56;1.8;0.092;35;103;0.9969;3.3;0.75;10.5;7\n8.1;0.56;0.28;1.7;0.368;16;56;0.9968;3.11;1.28;9.3;5\n7.4;0.59;0.08;4.4;0.086;6;29;0.9974;3.38;0.5;9;4\n7.9;0.32;0.51;1.8;0.341;17;56;0.9969;3.04;1.08;9.2;6\n8.9;0.22;0.48;1.8;0.077;29;60;0.9968;3.39;0.53;9.4;6\n7.6;0.39;0.31;2.3;0.082;23;71;0.9982;3.52;0.65;9.7;5\n7.9;0.43;0.21;1.6;0.106;10;37;0.9966;3.17;0.91;9.5;5\n8.5;0.49;0.11;2.3;0.084;9;67;0.9968;3.17;0.53;9.4;5\n6.9;0.4;0.14;2.4;0.085;21;40;0.9968;3.43;0.63;9.7;6\n6.3;0.39;0.16;1.4;0.08;11;23;0.9955;3.34;0.56;9.3;5\n7.6;0.41;0.24;1.8;0.08;4;11;0.9962;3.28;0.59;9.5;5\n7.9;0.43;0.21;1.6;0.106;10;37;0.9966;3.17;0.91;9.5;5\n7.1;0.71;0;1.9;0.08;14;35;0.9972;3.47;0.55;9.4;5\n7.8;0.645;0;2;0.082;8;16;0.9964;3.38;0.59;9.8;6\n6.7;0.675;0.07;2.4;0.089;17;82;0.9958;3.35;0.54;10.1;5\n6.9;0.685;0;2.5;0.105;22;37;0.9966;3.46;0.57;10.6;6\n8.3;0.655;0.12;2.3;0.083;15;113;0.9966;3.17;0.66;9.8;5\n6.9;0.605;0.12;10.7;0.073;40;83;0.9993;3.45;0.52;9.4;6\n5.2;0.32;0.25;1.8;0.103;13;50;0.9957;3.38;0.55;9.2;5\n7.8;0.645;0;5.5;0.086;5;18;0.9986;3.4;0.55;9.6;6\n7.8;0.6;0.14;2.4;0.086;3;15;0.9975;3.42;0.6;10.8;6\n8.1;0.38;0.28;2.1;0.066;13;30;0.9968;3.23;0.73;9.7;7\n5.7;1.13;0.09;1.5;0.172;7;19;0.994;3.5;0.48;9.8;4\n7.3;0.45;0.36;5.9;0.074;12;87;0.9978;3.33;0.83;10.5;5\n7.3;0.45;0.36;5.9;0.074;12;87;0.9978;3.33;0.83;10.5;5\n8.8;0.61;0.3;2.8;0.088;17;46;0.9976;3.26;0.51;9.3;4\n7.5;0.49;0.2;2.6;0.332;8;14;0.9968;3.21;0.9;10.5;6\n8.1;0.66;0.22;2.2;0.069;9;23;0.9968;3.3;1.2;10.3;5\n6.8;0.67;0.02;1.8;0.05;5;11;0.9962;3.48;0.52;9.5;5\n4.6;0.52;0.15;2.1;0.054;8;65;0.9934;3.9;0.56;13.1;4\n7.7;0.935;0.43;2.2;0.114;22;114;0.997;3.25;0.73;9.2;5\n8.7;0.29;0.52;1.6;0.113;12;37;0.9969;3.25;0.58;9.5;5\n6.4;0.4;0.23;1.6;0.066;5;12;0.9958;3.34;0.56;9.2;5\n5.6;0.31;0.37;1.4;0.074;12;96;0.9954;3.32;0.58;9.2;5\n8.8;0.66;0.26;1.7;0.074;4;23;0.9971;3.15;0.74;9.2;5\n6.6;0.52;0.04;2.2;0.069;8;15;0.9956;3.4;0.63;9.4;6\n6.6;0.5;0.04;2.1;0.068;6;14;0.9955;3.39;0.64;9.4;6\n8.6;0.38;0.36;3;0.081;30;119;0.997;3.2;0.56;9.4;5\n7.6;0.51;0.15;2.8;0.11;33;73;0.9955;3.17;0.63;10.2;6\n7.7;0.62;0.04;3.8;0.084;25;45;0.9978;3.34;0.53;9.5;5\n10.2;0.42;0.57;3.4;0.07;4;10;0.9971;3.04;0.63;9.6;5\n7.5;0.63;0.12;5.1;0.111;50;110;0.9983;3.26;0.77;9.4;5\n7.8;0.59;0.18;2.3;0.076;17;54;0.9975;3.43;0.59;10;5\n7.3;0.39;0.31;2.4;0.074;9;46;0.9962;3.41;0.54;9.4;6\n8.8;0.4;0.4;2.2;0.079;19;52;0.998;3.44;0.64;9.2;5\n7.7;0.69;0.49;1.8;0.115;20;112;0.9968;3.21;0.71;9.3;5\n7.5;0.52;0.16;1.9;0.085;12;35;0.9968;3.38;0.62;9.5;7\n7;0.735;0.05;2;0.081;13;54;0.9966;3.39;0.57;9.8;5\n7.2;0.725;0.05;4.65;0.086;4;11;0.9962;3.41;0.39;10.9;5\n7.2;0.725;0.05;4.65;0.086;4;11;0.9962;3.41;0.39;10.9;5\n7.5;0.52;0.11;1.5;0.079;11;39;0.9968;3.42;0.58;9.6;5\n6.6;0.705;0.07;1.6;0.076;6;15;0.9962;3.44;0.58;10.7;5\n9.3;0.32;0.57;2;0.074;27;65;0.9969;3.28;0.79;10.7;5\n8;0.705;0.05;1.9;0.074;8;19;0.9962;3.34;0.95;10.5;6\n7.7;0.63;0.08;1.9;0.076;15;27;0.9967;3.32;0.54;9.5;6\n7.7;0.67;0.23;2.1;0.088;17;96;0.9962;3.32;0.48;9.5;5\n7.7;0.69;0.22;1.9;0.084;18;94;0.9961;3.31;0.48;9.5;5\n8.3;0.675;0.26;2.1;0.084;11;43;0.9976;3.31;0.53;9.2;4\n9.7;0.32;0.54;2.5;0.094;28;83;0.9984;3.28;0.82;9.6;5\n8.8;0.41;0.64;2.2;0.093;9;42;0.9986;3.54;0.66;10.5;5\n8.8;0.41;0.64;2.2;0.093;9;42;0.9986;3.54;0.66;10.5;5\n6.8;0.785;0;2.4;0.104;14;30;0.9966;3.52;0.55;10.7;6\n6.7;0.75;0.12;2;0.086;12;80;0.9958;3.38;0.52;10.1;5\n8.3;0.625;0.2;1.5;0.08;27;119;0.9972;3.16;1.12;9.1;4\n6.2;0.45;0.2;1.6;0.069;3;15;0.9958;3.41;0.56;9.2;5\n7.8;0.43;0.7;1.9;0.464;22;67;0.9974;3.13;1.28;9.4;5\n7.4;0.5;0.47;2;0.086;21;73;0.997;3.36;0.57;9.1;5\n7.3;0.67;0.26;1.8;0.401;16;51;0.9969;3.16;1.14;9.4;5\n6.3;0.3;0.48;1.8;0.069;18;61;0.9959;3.44;0.78;10.3;6\n6.9;0.55;0.15;2.2;0.076;19;40;0.9961;3.41;0.59;10.1;5\n8.6;0.49;0.28;1.9;0.11;20;136;0.9972;2.93;1.95;9.9;6\n7.7;0.49;0.26;1.9;0.062;9;31;0.9966;3.39;0.64;9.6;5\n9.3;0.39;0.44;2.1;0.107;34;125;0.9978;3.14;1.22;9.5;5\n7;0.62;0.08;1.8;0.076;8;24;0.9978;3.48;0.53;9;5\n7.9;0.52;0.26;1.9;0.079;42;140;0.9964;3.23;0.54;9.5;5\n8.6;0.49;0.28;1.9;0.11;20;136;0.9972;2.93;1.95;9.9;6\n8.6;0.49;0.29;2;0.11;19;133;0.9972;2.93;1.98;9.8;5\n7.7;0.49;0.26;1.9;0.062;9;31;0.9966;3.39;0.64;9.6;5\n5;1.02;0.04;1.4;0.045;41;85;0.9938;3.75;0.48;10.5;4\n4.7;0.6;0.17;2.3;0.058;17;106;0.9932;3.85;0.6;12.9;6\n6.8;0.775;0;3;0.102;8;23;0.9965;3.45;0.56;10.7;5\n7;0.5;0.25;2;0.07;3;22;0.9963;3.25;0.63;9.2;5\n7.6;0.9;0.06;2.5;0.079;5;10;0.9967;3.39;0.56;9.8;5\n8.1;0.545;0.18;1.9;0.08;13;35;0.9972;3.3;0.59;9;6\n8.3;0.61;0.3;2.1;0.084;11;50;0.9972;3.4;0.61;10.2;6\n7.8;0.5;0.3;1.9;0.075;8;22;0.9959;3.31;0.56;10.4;6\n8.1;0.545;0.18;1.9;0.08;13;35;0.9972;3.3;0.59;9;6\n8.1;0.575;0.22;2.1;0.077;12;65;0.9967;3.29;0.51;9.2;5\n7.2;0.49;0.24;2.2;0.07;5;36;0.996;3.33;0.48;9.4;5\n8.1;0.575;0.22;2.1;0.077;12;65;0.9967;3.29;0.51;9.2;5\n7.8;0.41;0.68;1.7;0.467;18;69;0.9973;3.08;1.31;9.3;5\n6.2;0.63;0.31;1.7;0.088;15;64;0.9969;3.46;0.79;9.3;5\n8;0.33;0.53;2.5;0.091;18;80;0.9976;3.37;0.8;9.6;6\n8.1;0.785;0.52;2;0.122;37;153;0.9969;3.21;0.69;9.3;5\n7.8;0.56;0.19;1.8;0.104;12;47;0.9964;3.19;0.93;9.5;5\n8.4;0.62;0.09;2.2;0.084;11;108;0.9964;3.15;0.66;9.8;5\n8.4;0.6;0.1;2.2;0.085;14;111;0.9964;3.15;0.66;9.8;5\n10.1;0.31;0.44;2.3;0.08;22;46;0.9988;3.32;0.67;9.7;6\n7.8;0.56;0.19;1.8;0.104;12;47;0.9964;3.19;0.93;9.5;5\n9.4;0.4;0.31;2.2;0.09;13;62;0.9966;3.07;0.63;10.5;6\n8.3;0.54;0.28;1.9;0.077;11;40;0.9978;3.39;0.61;10;6\n7.8;0.56;0.12;2;0.082;7;28;0.997;3.37;0.5;9.4;6\n8.8;0.55;0.04;2.2;0.119;14;56;0.9962;3.21;0.6;10.9;6\n7;0.69;0.08;1.8;0.097;22;89;0.9959;3.34;0.54;9.2;6\n7.3;1.07;0.09;1.7;0.178;10;89;0.9962;3.3;0.57;9;5\n8.8;0.55;0.04;2.2;0.119;14;56;0.9962;3.21;0.6;10.9;6\n7.3;0.695;0;2.5;0.075;3;13;0.998;3.49;0.52;9.2;5\n8;0.71;0;2.6;0.08;11;34;0.9976;3.44;0.53;9.5;5\n7.8;0.5;0.17;1.6;0.082;21;102;0.996;3.39;0.48;9.5;5\n9;0.62;0.04;1.9;0.146;27;90;0.9984;3.16;0.7;9.4;5\n8.2;1.33;0;1.7;0.081;3;12;0.9964;3.53;0.49;10.9;5\n8.1;1.33;0;1.8;0.082;3;12;0.9964;3.54;0.48;10.9;5\n8;0.59;0.16;1.8;0.065;3;16;0.9962;3.42;0.92;10.5;7\n6.1;0.38;0.15;1.8;0.072;6;19;0.9955;3.42;0.57;9.4;5\n8;0.745;0.56;2;0.118;30;134;0.9968;3.24;0.66;9.4;5\n5.6;0.5;0.09;2.3;0.049;17;99;0.9937;3.63;0.63;13;5\n5.6;0.5;0.09;2.3;0.049;17;99;0.9937;3.63;0.63;13;5\n6.6;0.5;0.01;1.5;0.06;17;26;0.9952;3.4;0.58;9.8;6\n7.9;1.04;0.05;2.2;0.084;13;29;0.9959;3.22;0.55;9.9;6\n8.4;0.745;0.11;1.9;0.09;16;63;0.9965;3.19;0.82;9.6;5\n8.3;0.715;0.15;1.8;0.089;10;52;0.9968;3.23;0.77;9.5;5\n7.2;0.415;0.36;2;0.081;13;45;0.9972;3.48;0.64;9.2;5\n7.8;0.56;0.19;2.1;0.081;15;105;0.9962;3.33;0.54;9.5;5\n7.8;0.56;0.19;2;0.081;17;108;0.9962;3.32;0.54;9.5;5\n8.4;0.745;0.11;1.9;0.09;16;63;0.9965;3.19;0.82;9.6;5\n8.3;0.715;0.15;1.8;0.089;10;52;0.9968;3.23;0.77;9.5;5\n5.2;0.34;0;1.8;0.05;27;63;0.9916;3.68;0.79;14;6\n6.3;0.39;0.08;1.7;0.066;3;20;0.9954;3.34;0.58;9.4;5\n5.2;0.34;0;1.8;0.05;27;63;0.9916;3.68;0.79;14;6\n8.1;0.67;0.55;1.8;0.117;32;141;0.9968;3.17;0.62;9.4;5\n5.8;0.68;0.02;1.8;0.087;21;94;0.9944;3.54;0.52;10;5\n7.6;0.49;0.26;1.6;0.236;10;88;0.9968;3.11;0.8;9.3;5\n6.9;0.49;0.1;2.3;0.074;12;30;0.9959;3.42;0.58;10.2;6\n8.2;0.4;0.44;2.8;0.089;11;43;0.9975;3.53;0.61;10.5;6\n7.3;0.33;0.47;2.1;0.077;5;11;0.9958;3.33;0.53;10.3;6\n9.2;0.52;1;3.4;0.61;32;69;0.9996;2.74;2.0;9.4;4\n7.5;0.6;0.03;1.8;0.095;25;99;0.995;3.35;0.54;10.1;5\n7.5;0.6;0.03;1.8;0.095;25;99;0.995;3.35;0.54;10.1;5\n7.1;0.43;0.42;5.5;0.07;29;129;0.9973;3.42;0.72;10.5;5\n7.1;0.43;0.42;5.5;0.071;28;128;0.9973;3.42;0.71;10.5;5\n7.1;0.43;0.42;5.5;0.07;29;129;0.9973;3.42;0.72;10.5;5\n7.1;0.43;0.42;5.5;0.071;28;128;0.9973;3.42;0.71;10.5;5\n7.1;0.68;0;2.2;0.073;12;22;0.9969;3.48;0.5;9.3;5\n6.8;0.6;0.18;1.9;0.079;18;86;0.9968;3.59;0.57;9.3;6\n7.6;0.95;0.03;2;0.09;7;20;0.9959;3.2;0.56;9.6;5\n7.6;0.68;0.02;1.3;0.072;9;20;0.9965;3.17;1.08;9.2;4\n7.8;0.53;0.04;1.7;0.076;17;31;0.9964;3.33;0.56;10;6\n7.4;0.6;0.26;7.3;0.07;36;121;0.9982;3.37;0.49;9.4;5\n7.3;0.59;0.26;7.2;0.07;35;121;0.9981;3.37;0.49;9.4;5\n7.8;0.63;0.48;1.7;0.1;14;96;0.9961;3.19;0.62;9.5;5\n6.8;0.64;0.1;2.1;0.085;18;101;0.9956;3.34;0.52;10.2;5\n7.3;0.55;0.03;1.6;0.072;17;42;0.9956;3.37;0.48;9;4\n6.8;0.63;0.07;2.1;0.089;11;44;0.9953;3.47;0.55;10.4;6\n7.5;0.705;0.24;1.8;0.36;15;63;0.9964;3;1.59;9.5;5\n7.9;0.885;0.03;1.8;0.058;4;8;0.9972;3.36;0.33;9.1;4\n8;0.42;0.17;2;0.073;6;18;0.9972;3.29;0.61;9.2;6\n8;0.42;0.17;2;0.073;6;18;0.9972;3.29;0.61;9.2;6\n7.4;0.62;0.05;1.9;0.068;24;42;0.9961;3.42;0.57;11.5;6\n7.3;0.38;0.21;2;0.08;7;35;0.9961;3.33;0.47;9.5;5\n6.9;0.5;0.04;1.5;0.085;19;49;0.9958;3.35;0.78;9.5;5\n7.3;0.38;0.21;2;0.08;7;35;0.9961;3.33;0.47;9.5;5\n7.5;0.52;0.42;2.3;0.087;8;38;0.9972;3.58;0.61;10.5;6\n7;0.805;0;2.5;0.068;7;20;0.9969;3.48;0.56;9.6;5\n8.8;0.61;0.14;2.4;0.067;10;42;0.9969;3.19;0.59;9.5;5\n8.8;0.61;0.14;2.4;0.067;10;42;0.9969;3.19;0.59;9.5;5\n8.9;0.61;0.49;2;0.27;23;110;0.9972;3.12;1.02;9.3;5\n7.2;0.73;0.02;2.5;0.076;16;42;0.9972;3.44;0.52;9.3;5\n6.8;0.61;0.2;1.8;0.077;11;65;0.9971;3.54;0.58;9.3;5\n6.7;0.62;0.21;1.9;0.079;8;62;0.997;3.52;0.58;9.3;6\n8.9;0.31;0.57;2;0.111;26;85;0.9971;3.26;0.53;9.7;5\n7.4;0.39;0.48;2;0.082;14;67;0.9972;3.34;0.55;9.2;5\n7.7;0.705;0.1;2.6;0.084;9;26;0.9976;3.39;0.49;9.7;5\n7.9;0.5;0.33;2;0.084;15;143;0.9968;3.2;0.55;9.5;5\n7.9;0.49;0.32;1.9;0.082;17;144;0.9968;3.2;0.55;9.5;5\n8.2;0.5;0.35;2.9;0.077;21;127;0.9976;3.23;0.62;9.4;5\n6.4;0.37;0.25;1.9;0.074;21;49;0.9974;3.57;0.62;9.8;6\n6.8;0.63;0.12;3.8;0.099;16;126;0.9969;3.28;0.61;9.5;5\n7.6;0.55;0.21;2.2;0.071;7;28;0.9964;3.28;0.55;9.7;5\n7.6;0.55;0.21;2.2;0.071;7;28;0.9964;3.28;0.55;9.7;5\n7.8;0.59;0.33;2;0.074;24;120;0.9968;3.25;0.54;9.4;5\n7.3;0.58;0.3;2.4;0.074;15;55;0.9968;3.46;0.59;10.2;5\n11.5;0.3;0.6;2;0.067;12;27;0.9981;3.11;0.97;10.1;6\n5.4;0.835;0.08;1.2;0.046;13;93;0.9924;3.57;0.85;13;7\n6.9;1.09;0.06;2.1;0.061;12;31;0.9948;3.51;0.43;11.4;4\n9.6;0.32;0.47;1.4;0.056;9;24;0.99695;3.22;0.82;10.3;7\n8.8;0.37;0.48;2.1;0.097;39;145;0.9975;3.04;1.03;9.3;5\n6.8;0.5;0.11;1.5;0.075;16;49;0.99545;3.36;0.79;9.5;5\n7;0.42;0.35;1.6;0.088;16;39;0.9961;3.34;0.55;9.2;5\n7;0.43;0.36;1.6;0.089;14;37;0.99615;3.34;0.56;9.2;6\n12.8;0.3;0.74;2.6;0.095;9;28;0.9994;3.2;0.77;10.8;7\n12.8;0.3;0.74;2.6;0.095;9;28;0.9994;3.2;0.77;10.8;7\n7.8;0.57;0.31;1.8;0.069;26;120;0.99625;3.29;0.53;9.3;5\n7.8;0.44;0.28;2.7;0.1;18;95;0.9966;3.22;0.67;9.4;5\n11;0.3;0.58;2.1;0.054;7;19;0.998;3.31;0.88;10.5;7\n9.7;0.53;0.6;2;0.039;5;19;0.99585;3.3;0.86;12.4;6\n8;0.725;0.24;2.8;0.083;10;62;0.99685;3.35;0.56;10;6\n11.6;0.44;0.64;2.1;0.059;5;15;0.998;3.21;0.67;10.2;6\n8.2;0.57;0.26;2.2;0.06;28;65;0.9959;3.3;0.43;10.1;5\n7.8;0.735;0.08;2.4;0.092;10;41;0.9974;3.24;0.71;9.8;6\n7;0.49;0.49;5.6;0.06;26;121;0.9974;3.34;0.76;10.5;5\n8.7;0.625;0.16;2;0.101;13;49;0.9962;3.14;0.57;11;5\n8.1;0.725;0.22;2.2;0.072;11;41;0.9967;3.36;0.55;9.1;5\n7.5;0.49;0.19;1.9;0.076;10;44;0.9957;3.39;0.54;9.7;5\n7.8;0.53;0.33;2.4;0.08;24;144;0.99655;3.3;0.6;9.5;5\n7.8;0.34;0.37;2;0.082;24;58;0.9964;3.34;0.59;9.4;6\n7.4;0.53;0.26;2;0.101;16;72;0.9957;3.15;0.57;9.4;5\n6.8;0.61;0.04;1.5;0.057;5;10;0.99525;3.42;0.6;9.5;5\n8.6;0.645;0.25;2;0.083;8;28;0.99815;3.28;0.6;10;6\n8.4;0.635;0.36;2;0.089;15;55;0.99745;3.31;0.57;10.4;4\n7.7;0.43;0.25;2.6;0.073;29;63;0.99615;3.37;0.58;10.5;6\n8.9;0.59;0.5;2;0.337;27;81;0.9964;3.04;1.61;9.5;6\n9;0.82;0.14;2.6;0.089;9;23;0.9984;3.39;0.63;9.8;5\n7.7;0.43;0.25;2.6;0.073;29;63;0.99615;3.37;0.58;10.5;6\n6.9;0.52;0.25;2.6;0.081;10;37;0.99685;3.46;0.5;11;5\n5.2;0.48;0.04;1.6;0.054;19;106;0.9927;3.54;0.62;12.2;7\n8;0.38;0.06;1.8;0.078;12;49;0.99625;3.37;0.52;9.9;6\n8.5;0.37;0.2;2.8;0.09;18;58;0.998;3.34;0.7;9.6;6\n6.9;0.52;0.25;2.6;0.081;10;37;0.99685;3.46;0.5;11;5\n8.2;1;0.09;2.3;0.065;7;37;0.99685;3.32;0.55;9;6\n7.2;0.63;0;1.9;0.097;14;38;0.99675;3.37;0.58;9;6\n7.2;0.63;0;1.9;0.097;14;38;0.99675;3.37;0.58;9;6\n7.2;0.645;0;1.9;0.097;15;39;0.99675;3.37;0.58;9.2;6\n7.2;0.63;0;1.9;0.097;14;38;0.99675;3.37;0.58;9;6\n8.2;1;0.09;2.3;0.065;7;37;0.99685;3.32;0.55;9;6\n8.9;0.635;0.37;1.7;0.263;5;62;0.9971;3;1.09;9.3;5\n12;0.38;0.56;2.1;0.093;6;24;0.99925;3.14;0.71;10.9;6\n7.7;0.58;0.1;1.8;0.102;28;109;0.99565;3.08;0.49;9.8;6\n15;0.21;0.44;2.2;0.075;10;24;1.00005;3.07;0.84;9.2;7\n15;0.21;0.44;2.2;0.075;10;24;1.00005;3.07;0.84;9.2;7\n7.3;0.66;0;2;0.084;6;23;0.9983;3.61;0.96;9.9;6\n7.1;0.68;0.07;1.9;0.075;16;51;0.99685;3.38;0.52;9.5;5\n8.2;0.6;0.17;2.3;0.072;11;73;0.9963;3.2;0.45;9.3;5\n7.7;0.53;0.06;1.7;0.074;9;39;0.99615;3.35;0.48;9.8;6\n7.3;0.66;0;2;0.084;6;23;0.9983;3.61;0.96;9.9;6\n10.8;0.32;0.44;1.6;0.063;16;37;0.9985;3.22;0.78;10;6\n7.1;0.6;0;1.8;0.074;16;34;0.9972;3.47;0.7;9.9;6\n11.1;0.35;0.48;3.1;0.09;5;21;0.9986;3.17;0.53;10.5;5\n7.7;0.775;0.42;1.9;0.092;8;86;0.9959;3.23;0.59;9.5;5\n7.1;0.6;0;1.8;0.074;16;34;0.9972;3.47;0.7;9.9;6\n8;0.57;0.23;3.2;0.073;17;119;0.99675;3.26;0.57;9.3;5\n9.4;0.34;0.37;2.2;0.075;5;13;0.998;3.22;0.62;9.2;5\n6.6;0.695;0;2.1;0.075;12;56;0.9968;3.49;0.67;9.2;5\n7.7;0.41;0.76;1.8;0.611;8;45;0.9968;3.06;1.26;9.4;5\n10;0.31;0.47;2.6;0.085;14;33;0.99965;3.36;0.8;10.5;7\n7.9;0.33;0.23;1.7;0.077;18;45;0.99625;3.29;0.65;9.3;5\n7;0.975;0.04;2;0.087;12;67;0.99565;3.35;0.6;9.4;4\n8;0.52;0.03;1.7;0.07;10;35;0.99575;3.34;0.57;10;5\n7.9;0.37;0.23;1.8;0.077;23;49;0.9963;3.28;0.67;9.3;5\n12.5;0.56;0.49;2.4;0.064;5;27;0.9999;3.08;0.87;10.9;5\n11.8;0.26;0.52;1.8;0.071;6;10;0.9968;3.2;0.72;10.2;7\n8.1;0.87;0;3.3;0.096;26;61;1.00025;3.6;0.72;9.8;4\n7.9;0.35;0.46;3.6;0.078;15;37;0.9973;3.35;0.86;12.8;8\n6.9;0.54;0.04;3;0.077;7;27;0.9987;3.69;0.91;9.4;6\n11.5;0.18;0.51;4;0.104;4;23;0.9996;3.28;0.97;10.1;6\n7.9;0.545;0.06;4;0.087;27;61;0.9965;3.36;0.67;10.7;6\n11.5;0.18;0.51;4;0.104;4;23;0.9996;3.28;0.97;10.1;6\n10.9;0.37;0.58;4;0.071;17;65;0.99935;3.22;0.78;10.1;5\n8.4;0.715;0.2;2.4;0.076;10;38;0.99735;3.31;0.64;9.4;5\n7.5;0.65;0.18;7;0.088;27;94;0.99915;3.38;0.77;9.4;5\n7.9;0.545;0.06;4;0.087;27;61;0.9965;3.36;0.67;10.7;6\n6.9;0.54;0.04;3;0.077;7;27;0.9987;3.69;0.91;9.4;6\n11.5;0.18;0.51;4;0.104;4;23;0.9996;3.28;0.97;10.1;6\n10.3;0.32;0.45;6.4;0.073;5;13;0.9976;3.23;0.82;12.6;8\n8.9;0.4;0.32;5.6;0.087;10;47;0.9991;3.38;0.77;10.5;7\n11.4;0.26;0.44;3.6;0.071;6;19;0.9986;3.12;0.82;9.3;6\n7.7;0.27;0.68;3.5;0.358;5;10;0.9972;3.25;1.08;9.9;7\n7.6;0.52;0.12;3;0.067;12;53;0.9971;3.36;0.57;9.1;5\n8.9;0.4;0.32;5.6;0.087;10;47;0.9991;3.38;0.77;10.5;7\n9.9;0.59;0.07;3.4;0.102;32;71;1.00015;3.31;0.71;9.8;5\n9.9;0.59;0.07;3.4;0.102;32;71;1.00015;3.31;0.71;9.8;5\n12;0.45;0.55;2;0.073;25;49;0.9997;3.1;0.76;10.3;6\n7.5;0.4;0.12;3;0.092;29;53;0.9967;3.37;0.7;10.3;6\n8.7;0.52;0.09;2.5;0.091;20;49;0.9976;3.34;0.86;10.6;7\n11.6;0.42;0.53;3.3;0.105;33;98;1.001;3.2;0.95;9.2;5\n8.7;0.52;0.09;2.5;0.091;20;49;0.9976;3.34;0.86;10.6;7\n11;0.2;0.48;2;0.343;6;18;0.9979;3.3;0.71;10.5;5\n10.4;0.55;0.23;2.7;0.091;18;48;0.9994;3.22;0.64;10.3;6\n6.9;0.36;0.25;2.4;0.098;5;16;0.9964;3.41;0.6;10.1;6\n13.3;0.34;0.52;3.2;0.094;17;53;1.0014;3.05;0.81;9.5;6\n10.8;0.5;0.46;2.5;0.073;5;27;1.0001;3.05;0.64;9.5;5\n10.6;0.83;0.37;2.6;0.086;26;70;0.9981;3.16;0.52;9.9;5\n7.1;0.63;0.06;2;0.083;8;29;0.99855;3.67;0.73;9.6;5\n7.2;0.65;0.02;2.3;0.094;5;31;0.9993;3.67;0.8;9.7;5\n6.9;0.67;0.06;2.1;0.08;8;33;0.99845;3.68;0.71;9.6;5\n7.5;0.53;0.06;2.6;0.086;20;44;0.9965;3.38;0.59;10.7;6\n11.1;0.18;0.48;1.5;0.068;7;15;0.9973;3.22;0.64;10.1;6\n8.3;0.705;0.12;2.6;0.092;12;28;0.9994;3.51;0.72;10;5\n7.4;0.67;0.12;1.6;0.186;5;21;0.996;3.39;0.54;9.5;5\n8.4;0.65;0.6;2.1;0.112;12;90;0.9973;3.2;0.52;9.2;5\n10.3;0.53;0.48;2.5;0.063;6;25;0.9998;3.12;0.59;9.3;6\n7.6;0.62;0.32;2.2;0.082;7;54;0.9966;3.36;0.52;9.4;5\n10.3;0.41;0.42;2.4;0.213;6;14;0.9994;3.19;0.62;9.5;6\n10.3;0.43;0.44;2.4;0.214;5;12;0.9994;3.19;0.63;9.5;6\n7.4;0.29;0.38;1.7;0.062;9;30;0.9968;3.41;0.53;9.5;6\n10.3;0.53;0.48;2.5;0.063;6;25;0.9998;3.12;0.59;9.3;6\n7.9;0.53;0.24;2;0.072;15;105;0.996;3.27;0.54;9.4;6\n9;0.46;0.31;2.8;0.093;19;98;0.99815;3.32;0.63;9.5;6\n8.6;0.47;0.3;3;0.076;30;135;0.9976;3.3;0.53;9.4;5\n7.4;0.36;0.29;2.6;0.087;26;72;0.99645;3.39;0.68;11;5\n7.1;0.35;0.29;2.5;0.096;20;53;0.9962;3.42;0.65;11;6\n9.6;0.56;0.23;3.4;0.102;37;92;0.9996;3.3;0.65;10.1;5\n9.6;0.77;0.12;2.9;0.082;30;74;0.99865;3.3;0.64;10.4;6\n9.8;0.66;0.39;3.2;0.083;21;59;0.9989;3.37;0.71;11.5;7\n9.6;0.77;0.12;2.9;0.082;30;74;0.99865;3.3;0.64;10.4;6\n9.8;0.66;0.39;3.2;0.083;21;59;0.9989;3.37;0.71;11.5;7\n9.3;0.61;0.26;3.4;0.09;25;87;0.99975;3.24;0.62;9.7;5\n7.8;0.62;0.05;2.3;0.079;6;18;0.99735;3.29;0.63;9.3;5\n10.3;0.59;0.42;2.8;0.09;35;73;0.999;3.28;0.7;9.5;6\n10;0.49;0.2;11;0.071;13;50;1.0015;3.16;0.69;9.2;6\n10;0.49;0.2;11;0.071;13;50;1.0015;3.16;0.69;9.2;6\n11.6;0.53;0.66;3.65;0.121;6;14;0.9978;3.05;0.74;11.5;7\n10.3;0.44;0.5;4.5;0.107;5;13;0.998;3.28;0.83;11.5;5\n13.4;0.27;0.62;2.6;0.082;6;21;1.0002;3.16;0.67;9.7;6\n10.7;0.46;0.39;2;0.061;7;15;0.9981;3.18;0.62;9.5;5\n10.2;0.36;0.64;2.9;0.122;10;41;0.998;3.23;0.66;12.5;6\n10.2;0.36;0.64;2.9;0.122;10;41;0.998;3.23;0.66;12.5;6\n8;0.58;0.28;3.2;0.066;21;114;0.9973;3.22;0.54;9.4;6\n8.4;0.56;0.08;2.1;0.105;16;44;0.9958;3.13;0.52;11;5\n7.9;0.65;0.01;2.5;0.078;17;38;0.9963;3.34;0.74;11.7;7\n11.9;0.695;0.53;3.4;0.128;7;21;0.9992;3.17;0.84;12.2;7\n8.9;0.43;0.45;1.9;0.052;6;16;0.9948;3.35;0.7;12.5;6\n7.8;0.43;0.32;2.8;0.08;29;58;0.9974;3.31;0.64;10.3;5\n12.4;0.49;0.58;3;0.103;28;99;1.0008;3.16;1;11.5;6\n12.5;0.28;0.54;2.3;0.082;12;29;0.9997;3.11;1.36;9.8;7\n12.2;0.34;0.5;2.4;0.066;10;21;1;3.12;1.18;9.2;6\n10.6;0.42;0.48;2.7;0.065;5;18;0.9972;3.21;0.87;11.3;6\n10.9;0.39;0.47;1.8;0.118;6;14;0.9982;3.3;0.75;9.8;6\n10.9;0.39;0.47;1.8;0.118;6;14;0.9982;3.3;0.75;9.8;6\n11.9;0.57;0.5;2.6;0.082;6;32;1.0006;3.12;0.78;10.7;6\n7;0.685;0;1.9;0.067;40;63;0.9979;3.6;0.81;9.9;5\n6.6;0.815;0.02;2.7;0.072;17;34;0.9955;3.58;0.89;12.3;7\n13.8;0.49;0.67;3;0.093;6;15;0.9986;3.02;0.93;12;6\n9.6;0.56;0.31;2.8;0.089;15;46;0.9979;3.11;0.92;10;6\n9.1;0.785;0;2.6;0.093;11;28;0.9994;3.36;0.86;9.4;6\n10.7;0.67;0.22;2.7;0.107;17;34;1.0004;3.28;0.98;9.9;6\n9.1;0.795;0;2.6;0.096;11;26;0.9994;3.35;0.83;9.4;6\n7.7;0.665;0;2.4;0.09;8;19;0.9974;3.27;0.73;9.3;5\n13.5;0.53;0.79;4.8;0.12;23;77;1.0018;3.18;0.77;13;5\n6.1;0.21;0.4;1.4;0.066;40.5;165;0.9912;3.25;0.59;11.9;6\n6.7;0.75;0.01;2.4;0.078;17;32;0.9955;3.55;0.61;12.8;6\n11.5;0.41;0.52;3;0.08;29;55;1.0001;3.26;0.88;11;5\n10.5;0.42;0.66;2.95;0.116;12;29;0.997;3.24;0.75;11.7;7\n11.9;0.43;0.66;3.1;0.109;10;23;1;3.15;0.85;10.4;7\n12.6;0.38;0.66;2.6;0.088;10;41;1.001;3.17;0.68;9.8;6\n8.2;0.7;0.23;2;0.099;14;81;0.9973;3.19;0.7;9.4;5\n8.6;0.45;0.31;2.6;0.086;21;50;0.9982;3.37;0.91;9.9;6\n11.9;0.58;0.66;2.5;0.072;6;37;0.9992;3.05;0.56;10;5\n12.5;0.46;0.63;2;0.071;6;15;0.9988;2.99;0.87;10.2;5\n12.8;0.615;0.66;5.8;0.083;7;42;1.0022;3.07;0.73;10;7\n10;0.42;0.5;3.4;0.107;7;21;0.9979;3.26;0.93;11.8;6\n12.8;0.615;0.66;5.8;0.083;7;42;1.0022;3.07;0.73;10;7\n10.4;0.575;0.61;2.6;0.076;11;24;1;3.16;0.69;9;5\n10.3;0.34;0.52;2.8;0.159;15;75;0.9998;3.18;0.64;9.4;5\n9.4;0.27;0.53;2.4;0.074;6;18;0.9962;3.2;1.13;12;7\n6.9;0.765;0.02;2.3;0.063;35;63;0.9975;3.57;0.78;9.9;5\n7.9;0.24;0.4;1.6;0.056;11;25;0.9967;3.32;0.87;8.7;6\n9.1;0.28;0.48;1.8;0.067;26;46;0.9967;3.32;1.04;10.6;6\n7.4;0.55;0.22;2.2;0.106;12;72;0.9959;3.05;0.63;9.2;5\n14;0.41;0.63;3.8;0.089;6;47;1.0014;3.01;0.81;10.8;6\n11.5;0.54;0.71;4.4;0.124;6;15;0.9984;3.01;0.83;11.8;7\n11.5;0.45;0.5;3;0.078;19;47;1.0003;3.26;1.11;11;6\n9.4;0.27;0.53;2.4;0.074;6;18;0.9962;3.2;1.13;12;7\n11.4;0.625;0.66;6.2;0.088;6;24;0.9988;3.11;0.99;13.3;6\n8.3;0.42;0.38;2.5;0.094;24;60;0.9979;3.31;0.7;10.8;6\n8.3;0.26;0.42;2;0.08;11;27;0.9974;3.21;0.8;9.4;6\n13.7;0.415;0.68;2.9;0.085;17;43;1.0014;3.06;0.8;10;6\n8.3;0.26;0.42;2;0.08;11;27;0.9974;3.21;0.8;9.4;6\n8.3;0.26;0.42;2;0.08;11;27;0.9974;3.21;0.8;9.4;6\n7.7;0.51;0.28;2.1;0.087;23;54;0.998;3.42;0.74;9.2;5\n7.4;0.63;0.07;2.4;0.09;11;37;0.9979;3.43;0.76;9.7;6\n7.8;0.54;0.26;2;0.088;23;48;0.9981;3.41;0.74;9.2;6\n8.3;0.66;0.15;1.9;0.079;17;42;0.9972;3.31;0.54;9.6;6\n7.8;0.46;0.26;1.9;0.088;23;53;0.9981;3.43;0.74;9.2;6\n9.6;0.38;0.31;2.5;0.096;16;49;0.9982;3.19;0.7;10;7\n5.6;0.85;0.05;1.4;0.045;12;88;0.9924;3.56;0.82;12.9;8\n13.7;0.415;0.68;2.9;0.085;17;43;1.0014;3.06;0.8;10;6\n9.5;0.37;0.52;2;0.082;6;26;0.998;3.18;0.51;9.5;5\n8.4;0.665;0.61;2;0.112;13;95;0.997;3.16;0.54;9.1;5\n12.7;0.6;0.65;2.3;0.063;6;25;0.9997;3.03;0.57;9.9;5\n12;0.37;0.76;4.2;0.066;7;38;1.0004;3.22;0.6;13;7\n6.6;0.735;0.02;7.9;0.122;68;124;0.9994;3.47;0.53;9.9;5\n11.5;0.59;0.59;2.6;0.087;13;49;0.9988;3.18;0.65;11;6\n11.5;0.59;0.59;2.6;0.087;13;49;0.9988;3.18;0.65;11;6\n8.7;0.765;0.22;2.3;0.064;9;42;0.9963;3.1;0.55;9.4;5\n6.6;0.735;0.02;7.9;0.122;68;124;0.9994;3.47;0.53;9.9;5\n7.7;0.26;0.3;1.7;0.059;20;38;0.9949;3.29;0.47;10.8;6\n12.2;0.48;0.54;2.6;0.085;19;64;1;3.1;0.61;10.5;6\n11.4;0.6;0.49;2.7;0.085;10;41;0.9994;3.15;0.63;10.5;6\n7.7;0.69;0.05;2.7;0.075;15;27;0.9974;3.26;0.61;9.1;5\n8.7;0.31;0.46;1.4;0.059;11;25;0.9966;3.36;0.76;10.1;6\n9.8;0.44;0.47;2.5;0.063;9;28;0.9981;3.24;0.65;10.8;6\n12;0.39;0.66;3;0.093;12;30;0.9996;3.18;0.63;10.8;7\n10.4;0.34;0.58;3.7;0.174;6;16;0.997;3.19;0.7;11.3;6\n12.5;0.46;0.49;4.5;0.07;26;49;0.9981;3.05;0.57;9.6;4\n9;0.43;0.34;2.5;0.08;26;86;0.9987;3.38;0.62;9.5;6\n9.1;0.45;0.35;2.4;0.08;23;78;0.9987;3.38;0.62;9.5;5\n7.1;0.735;0.16;1.9;0.1;15;77;0.9966;3.27;0.64;9.3;5\n9.9;0.4;0.53;6.7;0.097;6;19;0.9986;3.27;0.82;11.7;7\n8.8;0.52;0.34;2.7;0.087;24;122;0.9982;3.26;0.61;9.5;5\n8.6;0.725;0.24;6.6;0.117;31;134;1.0014;3.32;1.07;9.3;5\n10.6;0.48;0.64;2.2;0.111;6;20;0.997;3.26;0.66;11.7;6\n7;0.58;0.12;1.9;0.091;34;124;0.9956;3.44;0.48;10.5;5\n11.9;0.38;0.51;2;0.121;7;20;0.9996;3.24;0.76;10.4;6\n6.8;0.77;0;1.8;0.066;34;52;0.9976;3.62;0.68;9.9;5\n9.5;0.56;0.33;2.4;0.089;35;67;0.9972;3.28;0.73;11.8;7\n6.6;0.84;0.03;2.3;0.059;32;48;0.9952;3.52;0.56;12.3;7\n7.7;0.96;0.2;2;0.047;15;60;0.9955;3.36;0.44;10.9;5\n10.5;0.24;0.47;2.1;0.066;6;24;0.9978;3.15;0.9;11;7\n7.7;0.96;0.2;2;0.047;15;60;0.9955;3.36;0.44;10.9;5\n6.6;0.84;0.03;2.3;0.059;32;48;0.9952;3.52;0.56;12.3;7\n6.4;0.67;0.08;2.1;0.045;19;48;0.9949;3.49;0.49;11.4;6\n9.5;0.78;0.22;1.9;0.077;6;32;0.9988;3.26;0.56;10.6;6\n9.1;0.52;0.33;1.3;0.07;9;30;0.9978;3.24;0.6;9.3;5\n12.8;0.84;0.63;2.4;0.088;13;35;0.9997;3.1;0.6;10.4;6\n10.5;0.24;0.47;2.1;0.066;6;24;0.9978;3.15;0.9;11;7\n7.8;0.55;0.35;2.2;0.074;21;66;0.9974;3.25;0.56;9.2;5\n11.9;0.37;0.69;2.3;0.078;12;24;0.9958;3;0.65;12.8;6\n12.3;0.39;0.63;2.3;0.091;6;18;1.0004;3.16;0.49;9.5;5\n10.4;0.41;0.55;3.2;0.076;22;54;0.9996;3.15;0.89;9.9;6\n12.3;0.39;0.63;2.3;0.091;6;18;1.0004;3.16;0.49;9.5;5\n8;0.67;0.3;2;0.06;38;62;0.9958;3.26;0.56;10.2;6\n11.1;0.45;0.73;3.2;0.066;6;22;0.9986;3.17;0.66;11.2;6\n10.4;0.41;0.55;3.2;0.076;22;54;0.9996;3.15;0.89;9.9;6\n7;0.62;0.18;1.5;0.062;7;50;0.9951;3.08;0.6;9.3;5\n12.6;0.31;0.72;2.2;0.072;6;29;0.9987;2.88;0.82;9.8;8\n11.9;0.4;0.65;2.15;0.068;7;27;0.9988;3.06;0.68;11.3;6\n15.6;0.685;0.76;3.7;0.1;6;43;1.0032;2.95;0.68;11.2;7\n10;0.44;0.49;2.7;0.077;11;19;0.9963;3.23;0.63;11.6;7\n5.3;0.57;0.01;1.7;0.054;5;27;0.9934;3.57;0.84;12.5;7\n9.5;0.735;0.1;2.1;0.079;6;31;0.9986;3.23;0.56;10.1;6\n12.5;0.38;0.6;2.6;0.081;31;72;0.9996;3.1;0.73;10.5;5\n9.3;0.48;0.29;2.1;0.127;6;16;0.9968;3.22;0.72;11.2;5\n8.6;0.53;0.22;2;0.1;7;27;0.9967;3.2;0.56;10.2;6\n11.9;0.39;0.69;2.8;0.095;17;35;0.9994;3.1;0.61;10.8;6\n11.9;0.39;0.69;2.8;0.095;17;35;0.9994;3.1;0.61;10.8;6\n8.4;0.37;0.53;1.8;0.413;9;26;0.9979;3.06;1.06;9.1;6\n6.8;0.56;0.03;1.7;0.084;18;35;0.9968;3.44;0.63;10;6\n10.4;0.33;0.63;2.8;0.084;5;22;0.9998;3.26;0.74;11.2;7\n7;0.23;0.4;1.6;0.063;21;67;0.9952;3.5;0.63;11.1;5\n11.3;0.62;0.67;5.2;0.086;6;19;0.9988;3.22;0.69;13.4;8\n8.9;0.59;0.39;2.3;0.095;5;22;0.9986;3.37;0.58;10.3;5\n9.2;0.63;0.21;2.7;0.097;29;65;0.9988;3.28;0.58;9.6;5\n10.4;0.33;0.63;2.8;0.084;5;22;0.9998;3.26;0.74;11.2;7\n11.6;0.58;0.66;2.2;0.074;10;47;1.0008;3.25;0.57;9;3\n9.2;0.43;0.52;2.3;0.083;14;23;0.9976;3.35;0.61;11.3;6\n8.3;0.615;0.22;2.6;0.087;6;19;0.9982;3.26;0.61;9.3;5\n11;0.26;0.68;2.55;0.085;10;25;0.997;3.18;0.61;11.8;5\n8.1;0.66;0.7;2.2;0.098;25;129;0.9972;3.08;0.53;9;5\n11.5;0.315;0.54;2.1;0.084;5;15;0.9987;2.98;0.7;9.2;6\n10;0.29;0.4;2.9;0.098;10;26;1.0006;3.48;0.91;9.7;5\n10.3;0.5;0.42;2;0.069;21;51;0.9982;3.16;0.72;11.5;6\n8.8;0.46;0.45;2.6;0.065;7;18;0.9947;3.32;0.79;14;6\n11.4;0.36;0.69;2.1;0.09;6;21;1;3.17;0.62;9.2;6\n8.7;0.82;0.02;1.2;0.07;36;48;0.9952;3.2;0.58;9.8;5\n13;0.32;0.65;2.6;0.093;15;47;0.9996;3.05;0.61;10.6;5\n9.6;0.54;0.42;2.4;0.081;25;52;0.997;3.2;0.71;11.4;6\n12.5;0.37;0.55;2.6;0.083;25;68;0.9995;3.15;0.82;10.4;6\n9.9;0.35;0.55;2.1;0.062;5;14;0.9971;3.26;0.79;10.6;5\n10.5;0.28;0.51;1.7;0.08;10;24;0.9982;3.2;0.89;9.4;6\n9.6;0.68;0.24;2.2;0.087;5;28;0.9988;3.14;0.6;10.2;5\n9.3;0.27;0.41;2;0.091;6;16;0.998;3.28;0.7;9.7;5\n10.4;0.24\n\n*** WARNING: max output size exceeded, skipping output. ***\n\n11;0.9915;3.39;0.54;13.5;6\n6.3;0.76;0;2.9;0.072;26;52;0.99379;3.51;0.6;11.5;6\n10;0.43;0.33;2.7;0.095;28;89;0.9984;3.22;0.68;10;5\n10.5;0.43;0.35;3.3;0.092;24;70;0.99798;3.21;0.69;10.5;6\n9.1;0.6;0;1.9;0.058;5;10;0.9977;3.18;0.63;10.4;6\n5.9;0.19;0.21;1.7;0.045;57;135;0.99341;3.32;0.44;9.5;5\n7.4;0.36;0.34;1.8;0.075;18;38;0.9933;3.38;0.88;13.6;7\n7.2;0.48;0.07;5.5;0.089;10;18;0.99684;3.37;0.68;11.2;7\n8.5;0.28;0.35;1.7;0.061;6;15;0.99524;3.3;0.74;11.8;7\n8;0.25;0.43;1.7;0.067;22;50;0.9946;3.38;0.6;11.9;6\n10.4;0.52;0.45;2;0.08;6;13;0.99774;3.22;0.76;11.4;6\n10.4;0.52;0.45;2;0.08;6;13;0.99774;3.22;0.76;11.4;6\n7.5;0.41;0.15;3.7;0.104;29;94;0.99786;3.14;0.58;9.1;5\n8.2;0.51;0.24;2;0.079;16;86;0.99764;3.34;0.64;9.5;6\n7.3;0.4;0.3;1.7;0.08;33;79;0.9969;3.41;0.65;9.5;6\n8.2;0.38;0.32;2.5;0.08;24;71;0.99624;3.27;0.85;11;6\n6.9;0.45;0.11;2.4;0.043;6;12;0.99354;3.3;0.65;11.4;6\n7;0.22;0.3;1.8;0.065;16;20;0.99672;3.61;0.82;10;6\n7.3;0.32;0.23;2.3;0.066;35;70;0.99588;3.43;0.62;10.1;5\n8.2;0.2;0.43;2.5;0.076;31;51;0.99672;3.53;0.81;10.4;6\n7.8;0.5;0.12;1.8;0.178;6;21;0.996;3.28;0.87;9.8;6\n10;0.41;0.45;6.2;0.071;6;14;0.99702;3.21;0.49;11.8;7\n7.8;0.39;0.42;2;0.086;9;21;0.99526;3.39;0.66;11.6;6\n10;0.35;0.47;2;0.061;6;11;0.99585;3.23;0.52;12;6\n8.2;0.33;0.32;2.8;0.067;4;12;0.99473;3.3;0.76;12.8;7\n6.1;0.58;0.23;2.5;0.044;16;70;0.99352;3.46;0.65;12.5;6\n8.3;0.6;0.25;2.2;0.118;9;38;0.99616;3.15;0.53;9.8;5\n9.6;0.42;0.35;2.1;0.083;17;38;0.99622;3.23;0.66;11.1;6\n6.6;0.58;0;2.2;0.1;50;63;0.99544;3.59;0.68;11.4;6\n8.3;0.6;0.25;2.2;0.118;9;38;0.99616;3.15;0.53;9.8;5\n8.5;0.18;0.51;1.75;0.071;45;88;0.99524;3.33;0.76;11.8;7\n5.1;0.51;0.18;2.1;0.042;16;101;0.9924;3.46;0.87;12.9;7\n6.7;0.41;0.43;2.8;0.076;22;54;0.99572;3.42;1.16;10.6;6\n10.2;0.41;0.43;2.2;0.11;11;37;0.99728;3.16;0.67;10.8;5\n10.6;0.36;0.57;2.3;0.087;6;20;0.99676;3.14;0.72;11.1;7\n8.8;0.45;0.43;1.4;0.076;12;21;0.99551;3.21;0.75;10.2;6\n8.5;0.32;0.42;2.3;0.075;12;19;0.99434;3.14;0.71;11.8;7\n9;0.785;0.24;1.7;0.078;10;21;0.99692;3.29;0.67;10;5\n9;0.785;0.24;1.7;0.078;10;21;0.99692;3.29;0.67;10;5\n8.5;0.44;0.5;1.9;0.369;15;38;0.99634;3.01;1.1;9.4;5\n9.9;0.54;0.26;2;0.111;7;60;0.99709;2.94;0.98;10.2;5\n8.2;0.33;0.39;2.5;0.074;29;48;0.99528;3.32;0.88;12.4;7\n6.5;0.34;0.27;2.8;0.067;8;44;0.99384;3.21;0.56;12;6\n7.6;0.5;0.29;2.3;0.086;5;14;0.99502;3.32;0.62;11.5;6\n9.2;0.36;0.34;1.6;0.062;5;12;0.99667;3.2;0.67;10.5;6\n7.1;0.59;0;2.2;0.078;26;44;0.99522;3.42;0.68;10.8;6\n9.7;0.42;0.46;2.1;0.074;5;16;0.99649;3.27;0.74;12.3;6\n7.6;0.36;0.31;1.7;0.079;26;65;0.99716;3.46;0.62;9.5;6\n7.6;0.36;0.31;1.7;0.079;26;65;0.99716;3.46;0.62;9.5;6\n6.5;0.61;0;2.2;0.095;48;59;0.99541;3.61;0.7;11.5;6\n6.5;0.88;0.03;5.6;0.079;23;47;0.99572;3.58;0.5;11.2;4\n7.1;0.66;0;2.4;0.052;6;11;0.99318;3.35;0.66;12.7;7\n5.6;0.915;0;2.1;0.041;17;78;0.99346;3.68;0.73;11.4;5\n8.2;0.35;0.33;2.4;0.076;11;47;0.99599;3.27;0.81;11;6\n8.2;0.35;0.33;2.4;0.076;11;47;0.99599;3.27;0.81;11;6\n9.8;0.39;0.43;1.65;0.068;5;11;0.99478;3.19;0.46;11.4;5\n10.2;0.4;0.4;2.5;0.068;41;54;0.99754;3.38;0.86;10.5;6\n6.8;0.66;0.07;1.6;0.07;16;61;0.99572;3.29;0.6;9.3;5\n6.7;0.64;0.23;2.1;0.08;11;119;0.99538;3.36;0.7;10.9;5\n7;0.43;0.3;2;0.085;6;39;0.99346;3.33;0.46;11.9;6\n6.6;0.8;0.03;7.8;0.079;6;12;0.9963;3.52;0.5;12.2;5\n7;0.43;0.3;2;0.085;6;39;0.99346;3.33;0.46;11.9;6\n6.7;0.64;0.23;2.1;0.08;11;119;0.99538;3.36;0.7;10.9;5\n8.8;0.955;0.05;1.8;0.075;5;19;0.99616;3.3;0.44;9.6;4\n9.1;0.4;0.57;4.6;0.08;6;20;0.99652;3.28;0.57;12.5;6\n6.5;0.885;0;2.3;0.166;6;12;0.99551;3.56;0.51;10.8;5\n7.2;0.25;0.37;2.5;0.063;11;41;0.99439;3.52;0.8;12.4;7\n6.4;0.885;0;2.3;0.166;6;12;0.99551;3.56;0.51;10.8;5\n7;0.745;0.12;1.8;0.114;15;64;0.99588;3.22;0.59;9.5;6\n6.2;0.43;0.22;1.8;0.078;21;56;0.99633;3.52;0.6;9.5;6\n7.9;0.58;0.23;2.3;0.076;23;94;0.99686;3.21;0.58;9.5;6\n7.7;0.57;0.21;1.5;0.069;4;9;0.99458;3.16;0.54;9.8;6\n7.7;0.26;0.26;2;0.052;19;77;0.9951;3.15;0.79;10.9;6\n7.9;0.58;0.23;2.3;0.076;23;94;0.99686;3.21;0.58;9.5;6\n7.7;0.57;0.21;1.5;0.069;4;9;0.99458;3.16;0.54;9.8;6\n7.9;0.34;0.36;1.9;0.065;5;10;0.99419;3.27;0.54;11.2;7\n8.6;0.42;0.39;1.8;0.068;6;12;0.99516;3.35;0.69;11.7;8\n9.9;0.74;0.19;5.8;0.111;33;76;0.99878;3.14;0.55;9.4;5\n7.2;0.36;0.46;2.1;0.074;24;44;0.99534;3.4;0.85;11;7\n7.2;0.36;0.46;2.1;0.074;24;44;0.99534;3.4;0.85;11;7\n7.2;0.36;0.46;2.1;0.074;24;44;0.99534;3.4;0.85;11;7\n9.9;0.72;0.55;1.7;0.136;24;52;0.99752;3.35;0.94;10;5\n7.2;0.36;0.46;2.1;0.074;24;44;0.99534;3.4;0.85;11;7\n6.2;0.39;0.43;2;0.071;14;24;0.99428;3.45;0.87;11.2;7\n6.8;0.65;0.02;2.1;0.078;8;15;0.99498;3.35;0.62;10.4;6\n6.6;0.44;0.15;2.1;0.076;22;53;0.9957;3.32;0.62;9.3;5\n6.8;0.65;0.02;2.1;0.078;8;15;0.99498;3.35;0.62;10.4;6\n9.6;0.38;0.42;1.9;0.071;5;13;0.99659;3.15;0.75;10.5;6\n10.2;0.33;0.46;1.9;0.081;6;9;0.99628;3.1;0.48;10.4;6\n8.8;0.27;0.46;2.1;0.095;20;29;0.99488;3.26;0.56;11.3;6\n7.9;0.57;0.31;2;0.079;10;79;0.99677;3.29;0.69;9.5;6\n8.2;0.34;0.37;1.9;0.057;43;74;0.99408;3.23;0.81;12;6\n8.2;0.4;0.31;1.9;0.082;8;24;0.996;3.24;0.69;10.6;6\n9;0.39;0.4;1.3;0.044;25;50;0.99478;3.2;0.83;10.9;6\n10.9;0.32;0.52;1.8;0.132;17;44;0.99734;3.28;0.77;11.5;6\n10.9;0.32;0.52;1.8;0.132;17;44;0.99734;3.28;0.77;11.5;6\n8.1;0.53;0.22;2.2;0.078;33;89;0.99678;3.26;0.46;9.6;6\n10.5;0.36;0.47;2.2;0.074;9;23;0.99638;3.23;0.76;12;6\n12.6;0.39;0.49;2.5;0.08;8;20;0.9992;3.07;0.82;10.3;6\n9.2;0.46;0.23;2.6;0.091;18;77;0.99922;3.15;0.51;9.4;5\n7.5;0.58;0.03;4.1;0.08;27;46;0.99592;3.02;0.47;9.2;5\n9;0.58;0.25;2;0.104;8;21;0.99769;3.27;0.72;9.6;5\n5.1;0.42;0;1.8;0.044;18;88;0.99157;3.68;0.73;13.6;7\n7.6;0.43;0.29;2.1;0.075;19;66;0.99718;3.4;0.64;9.5;5\n7.7;0.18;0.34;2.7;0.066;15;58;0.9947;3.37;0.78;11.8;6\n7.8;0.815;0.01;2.6;0.074;48;90;0.99621;3.38;0.62;10.8;5\n7.6;0.43;0.29;2.1;0.075;19;66;0.99718;3.4;0.64;9.5;5\n10.2;0.23;0.37;2.2;0.057;14;36;0.99614;3.23;0.49;9.3;4\n7.1;0.75;0.01;2.2;0.059;11;18;0.99242;3.39;0.4;12.8;6\n6;0.33;0.32;12.9;0.054;6;113;0.99572;3.3;0.56;11.5;4\n7.8;0.55;0;1.7;0.07;7;17;0.99659;3.26;0.64;9.4;6\n7.1;0.75;0.01;2.2;0.059;11;18;0.99242;3.39;0.4;12.8;6\n8.1;0.73;0;2.5;0.081;12;24;0.99798;3.38;0.46;9.6;4\n6.5;0.67;0;4.3;0.057;11;20;0.99488;3.45;0.56;11.8;4\n7.5;0.61;0.2;1.7;0.076;36;60;0.99494;3.1;0.4;9.3;5\n9.8;0.37;0.39;2.5;0.079;28;65;0.99729;3.16;0.59;9.8;5\n9;0.4;0.41;2;0.058;15;40;0.99414;3.22;0.6;12.2;6\n8.3;0.56;0.22;2.4;0.082;10;86;0.9983;3.37;0.62;9.5;5\n5.9;0.29;0.25;13.4;0.067;72;160;0.99721;3.33;0.54;10.3;6\n7.4;0.55;0.19;1.8;0.082;15;34;0.99655;3.49;0.68;10.5;5\n7.4;0.74;0.07;1.7;0.086;15;48;0.99502;3.12;0.48;10;5\n7.4;0.55;0.19;1.8;0.082;15;34;0.99655;3.49;0.68;10.5;5\n6.9;0.41;0.33;2.2;0.081;22;36;0.9949;3.41;0.75;11.1;6\n7.1;0.6;0.01;2.3;0.079;24;37;0.99514;3.4;0.61;10.9;6\n7.1;0.6;0.01;2.3;0.079;24;37;0.99514;3.4;0.61;10.9;6\n7.5;0.58;0.14;2.2;0.077;27;60;0.9963;3.28;0.59;9.8;5\n7.1;0.72;0;1.8;0.123;6;14;0.99627;3.45;0.58;9.8;5\n7.9;0.66;0;1.4;0.096;6;13;0.99569;3.43;0.58;9.5;5\n7.8;0.7;0.06;1.9;0.079;20;35;0.99628;3.4;0.69;10.9;5\n6.1;0.64;0.02;2.4;0.069;26;46;0.99358;3.47;0.45;11;5\n7.5;0.59;0.22;1.8;0.082;43;60;0.99499;3.1;0.42;9.2;5\n7;0.58;0.28;4.8;0.085;12;69;0.99633;3.32;0.7;11;6\n6.8;0.64;0;2.7;0.123;15;33;0.99538;3.44;0.63;11.3;6\n6.8;0.64;0;2.7;0.123;15;33;0.99538;3.44;0.63;11.3;6\n8.6;0.635;0.68;1.8;0.403;19;56;0.99632;3.02;1.15;9.3;5\n6.3;1.02;0;2;0.083;17;24;0.99437;3.59;0.55;11.2;4\n9.8;0.45;0.38;2.5;0.081;34;66;0.99726;3.15;0.58;9.8;5\n8.2;0.78;0;2.2;0.089;13;26;0.9978;3.37;0.46;9.6;4\n8.5;0.37;0.32;1.8;0.066;26;51;0.99456;3.38;0.72;11.8;6\n7.2;0.57;0.05;2.3;0.081;16;36;0.99564;3.38;0.6;10.3;6\n7.2;0.57;0.05;2.3;0.081;16;36;0.99564;3.38;0.6;10.3;6\n10.4;0.43;0.5;2.3;0.068;13;19;0.996;3.1;0.87;11.4;6\n6.9;0.41;0.31;2;0.079;21;51;0.99668;3.47;0.55;9.5;6\n5.5;0.49;0.03;1.8;0.044;28;87;0.9908;3.5;0.82;14;8\n5;0.38;0.01;1.6;0.048;26;60;0.99084;3.7;0.75;14;6\n7.3;0.44;0.2;1.6;0.049;24;64;0.9935;3.38;0.57;11.7;6\n5.9;0.46;0;1.9;0.077;25;44;0.99385;3.5;0.53;11.2;5\n7.5;0.58;0.2;2;0.073;34;44;0.99494;3.1;0.43;9.3;5\n7.8;0.58;0.13;2.1;0.102;17;36;0.9944;3.24;0.53;11.2;6\n8;0.715;0.22;2.3;0.075;13;81;0.99688;3.24;0.54;9.5;6\n8.5;0.4;0.4;6.3;0.05;3;10;0.99566;3.28;0.56;12;4\n7;0.69;0;1.9;0.114;3;10;0.99636;3.35;0.6;9.7;6\n8;0.715;0.22;2.3;0.075;13;81;0.99688;3.24;0.54;9.5;6\n9.8;0.3;0.39;1.7;0.062;3;9;0.9948;3.14;0.57;11.5;7\n7.1;0.46;0.2;1.9;0.077;28;54;0.9956;3.37;0.64;10.4;6\n7.1;0.46;0.2;1.9;0.077;28;54;0.9956;3.37;0.64;10.4;6\n7.9;0.765;0;2;0.084;9;22;0.99619;3.33;0.68;10.9;6\n8.7;0.63;0.28;2.7;0.096;17;69;0.99734;3.26;0.63;10.2;6\n7;0.42;0.19;2.3;0.071;18;36;0.99476;3.39;0.56;10.9;5\n11.3;0.37;0.5;1.8;0.09;20;47;0.99734;3.15;0.57;10.5;5\n7.1;0.16;0.44;2.5;0.068;17;31;0.99328;3.35;0.54;12.4;6\n8;0.6;0.08;2.6;0.056;3;7;0.99286;3.22;0.37;13;5\n7;0.6;0.3;4.5;0.068;20;110;0.99914;3.3;1.17;10.2;5\n7;0.6;0.3;4.5;0.068;20;110;0.99914;3.3;1.17;10.2;5\n7.6;0.74;0;1.9;0.1;6;12;0.99521;3.36;0.59;11;5\n8.2;0.635;0.1;2.1;0.073;25;60;0.99638;3.29;0.75;10.9;6\n5.9;0.395;0.13;2.4;0.056;14;28;0.99362;3.62;0.67;12.4;6\n7.5;0.755;0;1.9;0.084;6;12;0.99672;3.34;0.49;9.7;4\n8.2;0.635;0.1;2.1;0.073;25;60;0.99638;3.29;0.75;10.9;6\n6.6;0.63;0;4.3;0.093;51;77.5;0.99558;3.2;0.45;9.5;5\n6.6;0.63;0;4.3;0.093;51;77.5;0.99558;3.2;0.45;9.5;5\n7.2;0.53;0.14;2.1;0.064;15;29;0.99323;3.35;0.61;12.1;6\n5.7;0.6;0;1.4;0.063;11;18;0.99191;3.45;0.56;12.2;6\n7.6;1.58;0;2.1;0.137;5;9;0.99476;3.5;0.4;10.9;3\n5.2;0.645;0;2.15;0.08;15;28;0.99444;3.78;0.61;12.5;6\n6.7;0.86;0.07;2;0.1;20;57;0.99598;3.6;0.74;11.7;6\n9.1;0.37;0.32;2.1;0.064;4;15;0.99576;3.3;0.8;11.2;6\n8;0.28;0.44;1.8;0.081;28;68;0.99501;3.36;0.66;11.2;5\n7.6;0.79;0.21;2.3;0.087;21;68;0.9955;3.12;0.44;9.2;5\n7.5;0.61;0.26;1.9;0.073;24;88;0.99612;3.3;0.53;9.8;5\n9.7;0.69;0.32;2.5;0.088;22;91;0.9979;3.29;0.62;10.1;5\n6.8;0.68;0.09;3.9;0.068;15;29;0.99524;3.41;0.52;11.1;4\n9.7;0.69;0.32;2.5;0.088;22;91;0.9979;3.29;0.62;10.1;5\n7;0.62;0.1;1.4;0.071;27;63;0.996;3.28;0.61;9.2;5\n7.5;0.61;0.26;1.9;0.073;24;88;0.99612;3.3;0.53;9.8;5\n6.5;0.51;0.15;3;0.064;12;27;0.9929;3.33;0.59;12.8;6\n8;1.18;0.21;1.9;0.083;14;41;0.99532;3.34;0.47;10.5;5\n7;0.36;0.21;2.3;0.086;20;65;0.99558;3.4;0.54;10.1;6\n7;0.36;0.21;2.4;0.086;24;69;0.99556;3.4;0.53;10.1;6\n7.5;0.63;0.27;2;0.083;17;91;0.99616;3.26;0.58;9.8;6\n5.4;0.74;0;1.2;0.041;16;46;0.99258;4.01;0.59;12.5;6\n9.9;0.44;0.46;2.2;0.091;10;41;0.99638;3.18;0.69;11.9;6\n7.5;0.63;0.27;2;0.083;17;91;0.99616;3.26;0.58;9.8;6\n9.1;0.76;0.68;1.7;0.414;18;64;0.99652;2.9;1.33;9.1;6\n9.7;0.66;0.34;2.6;0.094;12;88;0.99796;3.26;0.66;10.1;5\n5;0.74;0;1.2;0.041;16;46;0.99258;4.01;0.59;12.5;6\n9.1;0.34;0.42;1.8;0.058;9;18;0.99392;3.18;0.55;11.4;5\n9.1;0.36;0.39;1.8;0.06;21;55;0.99495;3.18;0.82;11;7\n6.7;0.46;0.24;1.7;0.077;18;34;0.9948;3.39;0.6;10.6;6\n6.7;0.46;0.24;1.7;0.077;18;34;0.9948;3.39;0.6;10.6;6\n6.7;0.46;0.24;1.7;0.077;18;34;0.9948;3.39;0.6;10.6;6\n6.7;0.46;0.24;1.7;0.077;18;34;0.9948;3.39;0.6;10.6;6\n6.5;0.52;0.11;1.8;0.073;13;38;0.9955;3.34;0.52;9.3;5\n7.4;0.6;0.26;2.1;0.083;17;91;0.99616;3.29;0.56;9.8;6\n7.4;0.6;0.26;2.1;0.083;17;91;0.99616;3.29;0.56;9.8;6\n7.8;0.87;0.26;3.8;0.107;31;67;0.99668;3.26;0.46;9.2;5\n8.4;0.39;0.1;1.7;0.075;6;25;0.99581;3.09;0.43;9.7;6\n9.1;0.775;0.22;2.2;0.079;12;48;0.9976;3.18;0.51;9.6;5\n7.2;0.835;0;2;0.166;4;11;0.99608;3.39;0.52;10;5\n6.6;0.58;0.02;2.4;0.069;19;40;0.99387;3.38;0.66;12.6;6\n6;0.5;0;1.4;0.057;15;26;0.99448;3.36;0.45;9.5;5\n6;0.5;0;1.4;0.057;15;26;0.99448;3.36;0.45;9.5;5\n6;0.5;0;1.4;0.057;15;26;0.99448;3.36;0.45;9.5;5\n7.5;0.51;0.02;1.7;0.084;13;31;0.99538;3.36;0.54;10.5;6\n7.5;0.51;0.02;1.7;0.084;13;31;0.99538;3.36;0.54;10.5;6\n7.5;0.51;0.02;1.7;0.084;13;31;0.99538;3.36;0.54;10.5;6\n7.6;0.54;0.02;1.7;0.085;17;31;0.99589;3.37;0.51;10.4;6\n7.5;0.51;0.02;1.7;0.084;13;31;0.99538;3.36;0.54;10.5;6\n11.5;0.42;0.48;2.6;0.077;8;20;0.99852;3.09;0.53;11;5\n8.2;0.44;0.24;2.3;0.063;10;28;0.99613;3.25;0.53;10.2;6\n6.1;0.59;0.01;2.1;0.056;5;13;0.99472;3.52;0.56;11.4;5\n7.2;0.655;0.03;1.8;0.078;7;12;0.99587;3.34;0.39;9.5;5\n7.2;0.655;0.03;1.8;0.078;7;12;0.99587;3.34;0.39;9.5;5\n6.9;0.57;0;2.8;0.081;21;41;0.99518;3.41;0.52;10.8;5\n9;0.6;0.29;2;0.069;32;73;0.99654;3.34;0.57;10;5\n7.2;0.62;0.01;2.3;0.065;8;46;0.99332;3.32;0.51;11.8;6\n7.6;0.645;0.03;1.9;0.086;14;57;0.9969;3.37;0.46;10.3;5\n7.6;0.645;0.03;1.9;0.086;14;57;0.9969;3.37;0.46;10.3;5\n7.2;0.58;0.03;2.3;0.077;7;28;0.99568;3.35;0.52;10;5\n6.1;0.32;0.25;1.8;0.086;5;32;0.99464;3.36;0.44;10.1;5\n6.1;0.34;0.25;1.8;0.084;4;28;0.99464;3.36;0.44;10.1;5\n7.3;0.43;0.24;2.5;0.078;27;67;0.99648;3.6;0.59;11.1;6\n7.4;0.64;0.17;5.4;0.168;52;98;0.99736;3.28;0.5;9.5;5\n11.6;0.475;0.4;1.4;0.091;6;28;0.99704;3.07;0.65;10.0333333333333;6\n9.2;0.54;0.31;2.3;0.112;11;38;0.99699;3.24;0.56;10.9;5\n8.3;0.85;0.14;2.5;0.093;13;54;0.99724;3.36;0.54;10.1;5\n11.6;0.475;0.4;1.4;0.091;6;28;0.99704;3.07;0.65;10.0333333333333;6\n8;0.83;0.27;2;0.08;11;63;0.99652;3.29;0.48;9.8;4\n7.2;0.605;0.02;1.9;0.096;10;31;0.995;3.46;0.53;11.8;6\n7.8;0.5;0.09;2.2;0.115;10;42;0.9971;3.18;0.62;9.5;5\n7.3;0.74;0.08;1.7;0.094;10;45;0.99576;3.24;0.5;9.8;5\n6.9;0.54;0.3;2.2;0.088;9;105;0.99725;3.25;1.18;10.5;6\n8;0.77;0.32;2.1;0.079;16;74;0.99656;3.27;0.5;9.8;6\n6.6;0.61;0;1.6;0.069;4;8;0.99396;3.33;0.37;10.4;4\n8.7;0.78;0.51;1.7;0.415;12;66;0.99623;3;1.17;9.2;5\n7.5;0.58;0.56;3.1;0.153;5;14;0.99476;3.21;1.03;11.6;6\n8.7;0.78;0.51;1.7;0.415;12;66;0.99623;3;1.17;9.2;5\n7.7;0.75;0.27;3.8;0.11;34;89;0.99664;3.24;0.45;9.3;5\n6.8;0.815;0;1.2;0.267;16;29;0.99471;3.32;0.51;9.8;3\n7.2;0.56;0.26;2;0.083;13;100;0.99586;3.26;0.52;9.9;5\n8.2;0.885;0.2;1.4;0.086;7;31;0.9946;3.11;0.46;10;5\n5.2;0.49;0.26;2.3;0.09;23;74;0.9953;3.71;0.62;12.2;6\n7.2;0.45;0.15;2;0.078;10;28;0.99609;3.29;0.51;9.9;6\n7.5;0.57;0.02;2.6;0.077;11;35;0.99557;3.36;0.62;10.8;6\n7.5;0.57;0.02;2.6;0.077;11;35;0.99557;3.36;0.62;10.8;6\n6.8;0.83;0.09;1.8;0.074;4;25;0.99534;3.38;0.45;9.6;5\n8;0.6;0.22;2.1;0.08;25;105;0.99613;3.3;0.49;9.9;5\n8;0.6;0.22;2.1;0.08;25;105;0.99613;3.3;0.49;9.9;5\n7.1;0.755;0.15;1.8;0.107;20;84;0.99593;3.19;0.5;9.5;5\n8;0.81;0.25;3.4;0.076;34;85;0.99668;3.19;0.42;9.2;5\n7.4;0.64;0.07;1.8;0.1;8;23;0.9961;3.3;0.58;9.6;5\n7.4;0.64;0.07;1.8;0.1;8;23;0.9961;3.3;0.58;9.6;5\n6.6;0.64;0.31;6.1;0.083;7;49;0.99718;3.35;0.68;10.3;5\n6.7;0.48;0.02;2.2;0.08;36;111;0.99524;3.1;0.53;9.7;5\n6;0.49;0;2.3;0.068;15;33;0.99292;3.58;0.59;12.5;6\n8;0.64;0.22;2.4;0.094;5;33;0.99612;3.37;0.58;11;5\n7.1;0.62;0.06;1.3;0.07;5;12;0.9942;3.17;0.48;9.8;5\n8;0.52;0.25;2;0.078;19;59;0.99612;3.3;0.48;10.2;5\n6.4;0.57;0.14;3.9;0.07;27;73;0.99669;3.32;0.48;9.2;5\n8.6;0.685;0.1;1.6;0.092;3;12;0.99745;3.31;0.65;9.55;6\n8.7;0.675;0.1;1.6;0.09;4;11;0.99745;3.31;0.65;9.55;5\n7.3;0.59;0.26;2;0.08;17;104;0.99584;3.28;0.52;9.9;5\n7;0.6;0.12;2.2;0.083;13;28;0.9966;3.52;0.62;10.2;7\n7.2;0.67;0;2.2;0.068;10;24;0.9956;3.42;0.72;11.1;6\n7.9;0.69;0.21;2.1;0.08;33;141;0.9962;3.25;0.51;9.9;5\n7.9;0.69;0.21;2.1;0.08;33;141;0.9962;3.25;0.51;9.9;5\n7.6;0.3;0.42;2;0.052;6;24;0.9963;3.44;0.82;11.9;6\n7.2;0.33;0.33;1.7;0.061;3;13;0.996;3.23;1.1;10;8\n8;0.5;0.39;2.6;0.082;12;46;0.9985;3.43;0.62;10.7;6\n7.7;0.28;0.3;2;0.062;18;34;0.9952;3.28;0.9;11.3;7\n8.2;0.24;0.34;5.1;0.062;8;22;0.9974;3.22;0.94;10.9;6\n6;0.51;0;2.1;0.064;40;54;0.995;3.54;0.93;10.7;6\n8.1;0.29;0.36;2.2;0.048;35;53;0.995;3.27;1.01;12.4;7\n6;0.51;0;2.1;0.064;40;54;0.995;3.54;0.93;10.7;6\n6.6;0.96;0;1.8;0.082;5;16;0.9936;3.5;0.44;11.9;6\n6.4;0.47;0.4;2.4;0.071;8;19;0.9963;3.56;0.73;10.6;6\n8.2;0.24;0.34;5.1;0.062;8;22;0.9974;3.22;0.94;10.9;6\n9.9;0.57;0.25;2;0.104;12;89;0.9963;3.04;0.9;10.1;5\n10;0.32;0.59;2.2;0.077;3;15;0.9994;3.2;0.78;9.6;5\n6.2;0.58;0;1.6;0.065;8;18;0.9966;3.56;0.84;9.4;5\n10;0.32;0.59;2.2;0.077;3;15;0.9994;3.2;0.78;9.6;5\n7.3;0.34;0.33;2.5;0.064;21;37;0.9952;3.35;0.77;12.1;7\n7.8;0.53;0.01;1.6;0.077;3;19;0.995;3.16;0.46;9.8;5\n7.7;0.64;0.21;2.2;0.077;32;133;0.9956;3.27;0.45;9.9;5\n7.8;0.53;0.01;1.6;0.077;3;19;0.995;3.16;0.46;9.8;5\n7.5;0.4;0.18;1.6;0.079;24;58;0.9965;3.34;0.58;9.4;5\n7;0.54;0;2.1;0.079;39;55;0.9956;3.39;0.84;11.4;6\n6.4;0.53;0.09;3.9;0.123;14;31;0.9968;3.5;0.67;11;4\n8.3;0.26;0.37;1.4;0.076;8;23;0.9974;3.26;0.7;9.6;6\n8.3;0.26;0.37;1.4;0.076;8;23;0.9974;3.26;0.7;9.6;6\n7.7;0.23;0.37;1.8;0.046;23;60;0.9971;3.41;0.71;12.1;6\n7.6;0.41;0.33;2.5;0.078;6;23;0.9957;3.3;0.58;11.2;5\n7.8;0.64;0;1.9;0.072;27;55;0.9962;3.31;0.63;11;5\n7.9;0.18;0.4;2.2;0.049;38;67;0.996;3.33;0.93;11.3;5\n7.4;0.41;0.24;1.8;0.066;18;47;0.9956;3.37;0.62;10.4;5\n7.6;0.43;0.31;2.1;0.069;13;74;0.9958;3.26;0.54;9.9;6\n5.9;0.44;0;1.6;0.042;3;11;0.9944;3.48;0.85;11.7;6\n6.1;0.4;0.16;1.8;0.069;11;25;0.9955;3.42;0.74;10.1;7\n10.2;0.54;0.37;15.4;0.214;55;95;1.00369;3.18;0.77;9;6\n10.2;0.54;0.37;15.4;0.214;55;95;1.00369;3.18;0.77;9;6\n10;0.38;0.38;1.6;0.169;27;90;0.99914;3.15;0.65;8.5;5\n6.8;0.915;0.29;4.8;0.07;15;39;0.99577;3.53;0.54;11.1;5\n7;0.59;0;1.7;0.052;3;8;0.996;3.41;0.47;10.3;5\n7.3;0.67;0.02;2.2;0.072;31;92;0.99566;3.32;0.68;11.0666666666667;6\n7.2;0.37;0.32;2;0.062;15;28;0.9947;3.23;0.73;11.3;7\n7.4;0.785;0.19;5.2;0.094;19;98;0.99713;3.16;0.52;9.56666666666667;6\n6.9;0.63;0.02;1.9;0.078;18;30;0.99712;3.4;0.75;9.8;5\n6.9;0.58;0.2;1.75;0.058;8;22;0.99322;3.38;0.49;11.7;5\n7.3;0.67;0.02;2.2;0.072;31;92;0.99566;3.32;0.68;11.1;6\n7.4;0.785;0.19;5.2;0.094;19;98;0.99713;3.16;0.52;9.6;6\n6.9;0.63;0.02;1.9;0.078;18;30;0.99712;3.4;0.75;9.8;5\n6.8;0.67;0;1.9;0.08;22;39;0.99701;3.4;0.74;9.7;5\n6.9;0.58;0.01;1.9;0.08;40;54;0.99683;3.4;0.73;9.7;5\n7.2;0.38;0.31;2;0.056;15;29;0.99472;3.23;0.76;11.3;8\n7.2;0.37;0.32;2;0.062;15;28;0.9947;3.23;0.73;11.3;7\n7.8;0.32;0.44;2.7;0.104;8;17;0.99732;3.33;0.78;11;7\n6.6;0.58;0.02;2;0.062;37;53;0.99374;3.35;0.76;11.6;7\n7.6;0.49;0.33;1.9;0.074;27;85;0.99706;3.41;0.58;9;5\n11.7;0.45;0.63;2.2;0.073;7;23;0.99974;3.21;0.69;10.9;6\n6.5;0.9;0;1.6;0.052;9;17;0.99467;3.5;0.63;10.9;6\n6;0.54;0.06;1.8;0.05;38;89;0.99236;3.3;0.5;10.55;6\n7.6;0.49;0.33;1.9;0.074;27;85;0.99706;3.41;0.58;9;5\n8.4;0.29;0.4;1.7;0.067;8;20;0.99603;3.39;0.6;10.5;5\n7.9;0.2;0.35;1.7;0.054;7;15;0.99458;3.32;0.8;11.9;7\n6.4;0.42;0.09;2.3;0.054;34;64;0.99724;3.41;0.68;10.4;6\n6.2;0.785;0;2.1;0.06;6;13;0.99664;3.59;0.61;10;4\n6.8;0.64;0.03;2.3;0.075;14;31;0.99545;3.36;0.58;10.4;6\n6.9;0.63;0.01;2.4;0.076;14;39;0.99522;3.34;0.53;10.8;6\n6.8;0.59;0.1;1.7;0.063;34;53;0.9958;3.41;0.67;9.7;5\n6.8;0.59;0.1;1.7;0.063;34;53;0.9958;3.41;0.67;9.7;5\n7.3;0.48;0.32;2.1;0.062;31;54;0.99728;3.3;0.65;10;7\n6.7;1.04;0.08;2.3;0.067;19;32;0.99648;3.52;0.57;11;4\n7.3;0.48;0.32;2.1;0.062;31;54;0.99728;3.3;0.65;10;7\n7.3;0.98;0.05;2.1;0.061;20;49;0.99705;3.31;0.55;9.7;3\n10;0.69;0.11;1.4;0.084;8;24;0.99578;2.88;0.47;9.7;5\n6.7;0.7;0.08;3.75;0.067;8;16;0.99334;3.43;0.52;12.6;5\n7.6;0.35;0.6;2.6;0.073;23;44;0.99656;3.38;0.79;11.1;6\n6.1;0.6;0.08;1.8;0.071;14;45;0.99336;3.38;0.54;11;5\n9.9;0.5;0.5;13.8;0.205;48;82;1.00242;3.16;0.75;8.8;5\n5.3;0.47;0.11;2.2;0.048;16;89;0.99182;3.54;0.88;13.5666666666667;7\n9.9;0.5;0.5;13.8;0.205;48;82;1.00242;3.16;0.75;8.8;5\n5.3;0.47;0.11;2.2;0.048;16;89;0.99182;3.54;0.88;13.6;7\n7.1;0.875;0.05;5.7;0.082;3;14;0.99808;3.4;0.52;10.2;3\n8.2;0.28;0.6;3;0.104;10;22;0.99828;3.39;0.68;10.6;5\n5.6;0.62;0.03;1.5;0.08;6;13;0.99498;3.66;0.62;10.1;4\n8.2;0.28;0.6;3;0.104;10;22;0.99828;3.39;0.68;10.6;5\n7.2;0.58;0.54;2.1;0.114;3;9;0.99719;3.33;0.57;10.3;4\n8.1;0.33;0.44;1.5;0.042;6;12;0.99542;3.35;0.61;10.7;5\n6.8;0.91;0.06;2;0.06;4;11;0.99592;3.53;0.64;10.9;4\n7;0.655;0.16;2.1;0.074;8;25;0.99606;3.37;0.55;9.7;5\n6.8;0.68;0.21;2.1;0.07;9;23;0.99546;3.38;0.6;10.3;5\n6;0.64;0.05;1.9;0.066;9;17;0.99496;3.52;0.78;10.6;5\n5.6;0.54;0.04;1.7;0.049;5;13;0.9942;3.72;0.58;11.4;5\n6.2;0.57;0.1;2.1;0.048;4;11;0.99448;3.44;0.76;10.8;6\n7.1;0.22;0.49;1.8;0.039;8;18;0.99344;3.39;0.56;12.4;6\n5.6;0.54;0.04;1.7;0.049;5;13;0.9942;3.72;0.58;11.4;5\n6.2;0.65;0.06;1.6;0.05;6;18;0.99348;3.57;0.54;11.95;5\n7.7;0.54;0.26;1.9;0.089;23;147;0.99636;3.26;0.59;9.7;5\n6.4;0.31;0.09;1.4;0.066;15;28;0.99459;3.42;0.7;10;7\n7;0.43;0.02;1.9;0.08;15;28;0.99492;3.35;0.81;10.6;6\n7.7;0.54;0.26;1.9;0.089;23;147;0.99636;3.26;0.59;9.7;5\n6.9;0.74;0.03;2.3;0.054;7;16;0.99508;3.45;0.63;11.5;6\n6.6;0.895;0.04;2.3;0.068;7;13;0.99582;3.53;0.58;10.8;6\n6.9;0.74;0.03;2.3;0.054;7;16;0.99508;3.45;0.63;11.5;6\n7.5;0.725;0.04;1.5;0.076;8;15;0.99508;3.26;0.53;9.6;5\n7.8;0.82;0.29;4.3;0.083;21;64;0.99642;3.16;0.53;9.4;5\n7.3;0.585;0.18;2.4;0.078;15;60;0.99638;3.31;0.54;9.8;5\n6.2;0.44;0.39;2.5;0.077;6;14;0.99555;3.51;0.69;11;6\n7.5;0.38;0.57;2.3;0.106;5;12;0.99605;3.36;0.55;11.4;6\n6.7;0.76;0.02;1.8;0.078;6;12;0.996;3.55;0.63;9.95;3\n6.8;0.81;0.05;2;0.07;6;14;0.99562;3.51;0.66;10.8;6\n7.5;0.38;0.57;2.3;0.106;5;12;0.99605;3.36;0.55;11.4;6\n7.1;0.27;0.6;2.1;0.074;17;25;0.99814;3.38;0.72;10.6;6\n7.9;0.18;0.4;1.8;0.062;7;20;0.9941;3.28;0.7;11.1;5\n6.4;0.36;0.21;2.2;0.047;26;48;0.99661;3.47;0.77;9.7;6\n7.1;0.69;0.04;2.1;0.068;19;27;0.99712;3.44;0.67;9.8;5\n6.4;0.79;0.04;2.2;0.061;11;17;0.99588;3.53;0.65;10.4;6\n6.4;0.56;0.15;1.8;0.078;17;65;0.99294;3.33;0.6;10.5;6\n6.9;0.84;0.21;4.1;0.074;16;65;0.99842;3.53;0.72;9.23333333333333;6\n6.9;0.84;0.21;4.1;0.074;16;65;0.99842;3.53;0.72;9.25;6\n6.1;0.32;0.25;2.3;0.071;23;58;0.99633;3.42;0.97;10.6;5\n6.5;0.53;0.06;2;0.063;29;44;0.99489;3.38;0.83;10.3;6\n7.4;0.47;0.46;2.2;0.114;7;20;0.99647;3.32;0.63;10.5;5\n6.6;0.7;0.08;2.6;0.106;14;27;0.99665;3.44;0.58;10.2;5\n6.5;0.53;0.06;2;0.063;29;44;0.99489;3.38;0.83;10.3;6\n6.9;0.48;0.2;1.9;0.082;9;23;0.99585;3.39;0.43;9.05;4\n6.1;0.32;0.25;2.3;0.071;23;58;0.99633;3.42;0.97;10.6;5\n6.8;0.48;0.25;2;0.076;29;61;0.9953;3.34;0.6;10.4;5\n6;0.42;0.19;2;0.075;22;47;0.99522;3.39;0.78;10;6\n6.7;0.48;0.08;2.1;0.064;18;34;0.99552;3.33;0.64;9.7;5\n6.8;0.47;0.08;2.2;0.064;18;38;0.99553;3.3;0.65;9.6;6\n7.1;0.53;0.07;1.7;0.071;15;24;0.9951;3.29;0.66;10.8;6\n7.9;0.29;0.49;2.2;0.096;21;59;0.99714;3.31;0.67;10.1;6\n7.1;0.69;0.08;2.1;0.063;42;52;0.99608;3.42;0.6;10.2;6\n6.6;0.44;0.09;2.2;0.063;9;18;0.99444;3.42;0.69;11.3;6\n6.1;0.705;0.1;2.8;0.081;13;28;0.99631;3.6;0.66;10.2;5\n7.2;0.53;0.13;2;0.058;18;22;0.99573;3.21;0.68;9.9;6\n8;0.39;0.3;1.9;0.074;32;84;0.99717;3.39;0.61;9;5\n6.6;0.56;0.14;2.4;0.064;13;29;0.99397;3.42;0.62;11.7;7\n7;0.55;0.13;2.2;0.075;15;35;0.9959;3.36;0.59;9.7;6\n6.1;0.53;0.08;1.9;0.077;24;45;0.99528;3.6;0.68;10.3;6\n5.4;0.58;0.08;1.9;0.059;20;31;0.99484;3.5;0.64;10.2;6\n6.2;0.64;0.09;2.5;0.081;15;26;0.99538;3.57;0.63;12;5\n7.2;0.39;0.32;1.8;0.065;34;60;0.99714;3.46;0.78;9.9;5\n6.2;0.52;0.08;4.4;0.071;11;32;0.99646;3.56;0.63;11.6;6\n7.4;0.25;0.29;2.2;0.054;19;49;0.99666;3.4;0.76;10.9;7\n6.7;0.855;0.02;1.9;0.064;29;38;0.99472;3.3;0.56;10.75;6\n11.1;0.44;0.42;2.2;0.064;14;19;0.99758;3.25;0.57;10.4;6\n8.4;0.37;0.43;2.3;0.063;12;19;0.9955;3.17;0.81;11.2;7\n6.5;0.63;0.33;1.8;0.059;16;28;0.99531;3.36;0.64;10.1;6\n7;0.57;0.02;2;0.072;17;26;0.99575;3.36;0.61;10.2;5\n6.3;0.6;0.1;1.6;0.048;12;26;0.99306;3.55;0.51;12.1;5\n11.2;0.4;0.5;2;0.099;19;50;0.99783;3.1;0.58;10.4;5\n7.4;0.36;0.3;1.8;0.074;17;24;0.99419;3.24;0.7;11.4;8\n7.1;0.68;0;2.3;0.087;17;26;0.99783;3.45;0.53;9.5;5\n7.1;0.67;0;2.3;0.083;18;27;0.99768;3.44;0.54;9.4;5\n6.3;0.68;0.01;3.7;0.103;32;54;0.99586;3.51;0.66;11.3;6\n7.3;0.735;0;2.2;0.08;18;28;0.99765;3.41;0.6;9.4;5\n6.6;0.855;0.02;2.4;0.062;15;23;0.99627;3.54;0.6;11;6\n7;0.56;0.17;1.7;0.065;15;24;0.99514;3.44;0.68;10.55;7\n6.6;0.88;0.04;2.2;0.066;12;20;0.99636;3.53;0.56;9.9;5\n6.6;0.855;0.02;2.4;0.062;15;23;0.99627;3.54;0.6;11;6\n6.9;0.63;0.33;6.7;0.235;66;115;0.99787;3.22;0.56;9.5;5\n7.8;0.6;0.26;2;0.08;31;131;0.99622;3.21;0.52;9.9;5\n7.8;0.6;0.26;2;0.08;31;131;0.99622;3.21;0.52;9.9;5\n7.8;0.6;0.26;2;0.08;31;131;0.99622;3.21;0.52;9.9;5\n7.2;0.695;0.13;2;0.076;12;20;0.99546;3.29;0.54;10.1;5\n7.2;0.695;0.13;2;0.076;12;20;0.99546;3.29;0.54;10.1;5\n7.2;0.695;0.13;2;0.076;12;20;0.99546;3.29;0.54;10.1;5\n6.7;0.67;0.02;1.9;0.061;26;42;0.99489;3.39;0.82;10.9;6\n6.7;0.16;0.64;2.1;0.059;24;52;0.99494;3.34;0.71;11.2;6\n7.2;0.695;0.13;2;0.076;12;20;0.99546;3.29;0.54;10.1;5\n7;0.56;0.13;1.6;0.077;25;42;0.99629;3.34;0.59;9.2;5\n6.2;0.51;0.14;1.9;0.056;15;34;0.99396;3.48;0.57;11.5;6\n6.4;0.36;0.53;2.2;0.23;19;35;0.9934;3.37;0.93;12.4;6\n6.4;0.38;0.14;2.2;0.038;15;25;0.99514;3.44;0.65;11.1;6\n7.3;0.69;0.32;2.2;0.069;35;104;0.99632;3.33;0.51;9.5;5\n6;0.58;0.2;2.4;0.075;15;50;0.99467;3.58;0.67;12.5;6\n5.6;0.31;0.78;13.9;0.074;23;92;0.99677;3.39;0.48;10.5;6\n7.5;0.52;0.4;2.2;0.06;12;20;0.99474;3.26;0.64;11.8;6\n8;0.3;0.63;1.6;0.081;16;29;0.99588;3.3;0.78;10.8;6\n6.2;0.7;0.15;5.1;0.076;13;27;0.99622;3.54;0.6;11.9;6\n6.8;0.67;0.15;1.8;0.118;13;20;0.9954;3.42;0.67;11.3;6\n6.2;0.56;0.09;1.7;0.053;24;32;0.99402;3.54;0.6;11.3;5\n7.4;0.35;0.33;2.4;0.068;9;26;0.9947;3.36;0.6;11.9;6\n6.2;0.56;0.09;1.7;0.053;24;32;0.99402;3.54;0.6;11.3;5\n6.1;0.715;0.1;2.6;0.053;13;27;0.99362;3.57;0.5;11.9;5\n6.2;0.46;0.29;2.1;0.074;32;98;0.99578;3.33;0.62;9.8;5\n6.7;0.32;0.44;2.4;0.061;24;34;0.99484;3.29;0.8;11.6;7\n7.2;0.39;0.44;2.6;0.066;22;48;0.99494;3.3;0.84;11.5;6\n7.5;0.31;0.41;2.4;0.065;34;60;0.99492;3.34;0.85;11.4;6\n5.8;0.61;0.11;1.8;0.066;18;28;0.99483;3.55;0.66;10.9;6\n7.2;0.66;0.33;2.5;0.068;34;102;0.99414;3.27;0.78;12.8;6\n6.6;0.725;0.2;7.8;0.073;29;79;0.9977;3.29;0.54;9.2;5\n6.3;0.55;0.15;1.8;0.077;26;35;0.99314;3.32;0.82;11.6;6\n5.4;0.74;0.09;1.7;0.089;16;26;0.99402;3.67;0.56;11.6;6\n6.3;0.51;0.13;2.3;0.076;29;40;0.99574;3.42;0.75;11;6\n6.8;0.62;0.08;1.9;0.068;28;38;0.99651;3.42;0.82;9.5;6\n6.2;0.6;0.08;2;0.09;32;44;0.9949;3.45;0.58;10.5;5\n5.9;0.55;0.1;2.2;0.062;39;51;0.99512;3.52;0.76;11.2;6\n6.3;0.51;0.13;2.3;0.076;29;40;0.99574;3.42;0.75;11;6\n5.9;0.645;0.12;2;0.075;32;44;0.99547;3.57;0.71;10.2;5\n6;0.31;0.47;3.6;0.067;18;42;0.99549;3.39;0.66;11;6\n"
     ]
    }
   ],
   "source": [
    "%python\n",
    "with open('/Volumes/marscat/marsschema/marsdemo_csv_vol/wine-quality/winequality-red.csv', 'r') as file:\n",
    "    data = file.read().rstrip()\n",
    "    print(data)"
   ]
  },
  {
   "cell_type": "code",
   "execution_count": 0,
   "metadata": {
    "application/vnd.databricks.v1+cell": {
     "cellMetadata": {
      "byteLimit": 2048000,
      "rowLimit": 10000
     },
     "inputWidgets": {},
     "nuid": "df9864b9-3a71-4c4c-bdc0-58e9b10cb3b0",
     "showTitle": false,
     "tableResultSettingsMap": {},
     "title": ""
    }
   },
   "outputs": [
    {
     "output_type": "stream",
     "name": "stdout",
     "output_type": "stream",
     "text": [
      "\"fixed acidity\";\"volatile acidity\";\"citric acid\";\"residual sugar\";\"chlorides\";\"free sulfur dioxide\";\"total sulfur dioxide\";\"density\";\"pH\";\"sulphates\";\"alcohol\";\"quality\"\n7.4;0.7;0;1.9;0.076;11;34;0.9978;3.51;0.56;9.4;5\n7.8;0.88;0;2.6;0.098;25;67;0.9968;3.2;0.68;9.8;5\n7.8;0.76;0.04;2.3;0.092;15;54;0.997;3.26;0.65;9.8;5\n11.2;0.28;0.56;1.9;0.075;17;60;0.998;3.16;0.58;9.8;6\n7.4;0.7;0;1.9;0.076;11;34;0.9978;3.51;0.56;9.4;5\n7.4;0.66;0;1.8;0.075;13;40;0.9978;3.51;0.56;9.4;5\n7.9;0.6;0.06;1.6;0.069;15;59;0.9964;3.3;0.46;9.4;5\n7.3;0.65;0;1.2;0.065;15;21;0.9946;3.39;0.47;10;7\n7.8;0.58;0.02;2;0.073;9;18;0.9968;3.36;0.57;9.5;7\n7.5;0.5;0.36;6.1;0.071;17;102;0.9978;3.35;0.8;10.5;5\n6.7;0.58;0.08;1.8;0.097;15;65;0.9959;3.28;0.54;9.2;5\n7.5;0.5;0.36;6.1;0.071;17;102;0.9978;3.35;0.8;10.5;5\n5.6;0.615;0;1.6;0.089;16;59;0.9943;3.58;0.52;9.9;5\n7.8;0.61;0.29;1.6;0.114;9;29;0.9974;3.26;1.56;9.1;5\n8.9;0.62;0.18;3.8;0.176;52;145;0.9986;3.16;0.88;9.2;5\n8.9;0.62;0.19;3.9;0.17;51;148;0.9986;3.17;0.93;9.2;5\n8.5;0.28;0.56;1.8;0.092;35;103;0.9969;3.3;0.75;10.5;7\n8.1;0.56;0.28;1.7;0.368;16;56;0.9968;3.11;1.28;9.3;5\n7.4;0.59;0.08;4.4;0.086;6;29;0.9974;3.38;0.5;9;4\n7.9;0.32;0.51;1.8;0.341;17;56;0.9969;3.04;1.08;9.2;6\n8.9;0.22;0.48;1.8;0.077;29;60;0.9968;3.39;0.53;9.4;6\n7.6;0.39;0.31;2.3;0.082;23;71;0.9982;3.52;0.65;9.7;5\n7.9;0.43;0.21;1.6;0.106;10;37;0.9966;3.17;0.91;9.5;5\n8.5;0.49;0.11;2.3;0.084;9;67;0.9968;3.17;0.53;9.4;5\n6.9;0.4;0.14;2.4;0.085;21;40;0.9968;3.43;0.63;9.7;6\n6.3;0.39;0.16;1.4;0.08;11;23;0.9955;3.34;0.56;9.3;5\n7.6;0.41;0.24;1.8;0.08;4;11;0.9962;3.28;0.59;9.5;5\n7.9;0.43;0.21;1.6;0.106;10;37;0.9966;3.17;0.91;9.5;5\n7.1;0.71;0;1.9;0.08;14;35;0.9972;3.47;0.55;9.4;5\n7.8;0.645;0;2;0.082;8;16;0.9964;3.38;0.59;9.8;6\n6.7;0.675;0.07;2.4;0.089;17;82;0.9958;3.35;0.54;10.1;5\n6.9;0.685;0;2.5;0.105;22;37;0.9966;3.46;0.57;10.6;6\n8.3;0.655;0.12;2.3;0.083;15;113;0.9966;3.17;0.66;9.8;5\n6.9;0.605;0.12;10.7;0.073;40;83;0.9993;3.45;0.52;9.4;6\n5.2;0.32;0.25;1.8;0.103;13;50;0.9957;3.38;0.55;9.2;5\n7.8;0.645;0;5.5;0.086;5;18;0.9986;3.4;0.55;9.6;6\n7.8;0.6;0.14;2.4;0.086;3;15;0.9975;3.42;0.6;10.8;6\n8.1;0.38;0.28;2.1;0.066;13;30;0.9968;3.23;0.73;9.7;7\n5.7;1.13;0.09;1.5;0.172;7;19;0.994;3.5;0.48;9.8;4\n7.3;0.45;0.36;5.9;0.074;12;87;0.9978;3.33;0.83;10.5;5\n7.3;0.45;0.36;5.9;0.074;12;87;0.9978;3.33;0.83;10.5;5\n8.8;0.61;0.3;2.8;0.088;17;46;0.9976;3.26;0.51;9.3;4\n7.5;0.49;0.2;2.6;0.332;8;14;0.9968;3.21;0.9;10.5;6\n8.1;0.66;0.22;2.2;0.069;9;23;0.9968;3.3;1.2;10.3;5\n6.8;0.67;0.02;1.8;0.05;5;11;0.9962;3.48;0.52;9.5;5\n4.6;0.52;0.15;2.1;0.054;8;65;0.9934;3.9;0.56;13.1;4\n7.7;0.935;0.43;2.2;0.114;22;114;0.997;3.25;0.73;9.2;5\n8.7;0.29;0.52;1.6;0.113;12;37;0.9969;3.25;0.58;9.5;5\n6.4;0.4;0.23;1.6;0.066;5;12;0.9958;3.34;0.56;9.2;5\n5.6;0.31;0.37;1.4;0.074;12;96;0.9954;3.32;0.58;9.2;5\n8.8;0.66;0.26;1.7;0.074;4;23;0.9971;3.15;0.74;9.2;5\n6.6;0.52;0.04;2.2;0.069;8;15;0.9956;3.4;0.63;9.4;6\n6.6;0.5;0.04;2.1;0.068;6;14;0.9955;3.39;0.64;9.4;6\n8.6;0.38;0.36;3;0.081;30;119;0.997;3.2;0.56;9.4;5\n7.6;0.51;0.15;2.8;0.11;33;73;0.9955;3.17;0.63;10.2;6\n7.7;0.62;0.04;3.8;0.084;25;45;0.9978;3.34;0.53;9.5;5\n10.2;0.42;0.57;3.4;0.07;4;10;0.9971;3.04;0.63;9.6;5\n7.5;0.63;0.12;5.1;0.111;50;110;0.9983;3.26;0.77;9.4;5\n7.8;0.59;0.18;2.3;0.076;17;54;0.9975;3.43;0.59;10;5\n7.3;0.39;0.31;2.4;0.074;9;46;0.9962;3.41;0.54;9.4;6\n8.8;0.4;0.4;2.2;0.079;19;52;0.998;3.44;0.64;9.2;5\n7.7;0.69;0.49;1.8;0.115;20;112;0.9968;3.21;0.71;9.3;5\n7.5;0.52;0.16;1.9;0.085;12;35;0.9968;3.38;0.62;9.5;7\n7;0.735;0.05;2;0.081;13;54;0.9966;3.39;0.57;9.8;5\n7.2;0.725;0.05;4.65;0.086;4;11;0.9962;3.41;0.39;10.9;5\n7.2;0.725;0.05;4.65;0.086;4;11;0.9962;3.41;0.39;10.9;5\n7.5;0.52;0.11;1.5;0.079;11;39;0.9968;3.42;0.58;9.6;5\n6.6;0.705;0.07;1.6;0.076;6;15;0.9962;3.44;0.58;10.7;5\n9.3;0.32;0.57;2;0.074;27;65;0.9969;3.28;0.79;10.7;5\n8;0.705;0.05;1.9;0.074;8;19;0.9962;3.34;0.95;10.5;6\n7.7;0.63;0.08;1.9;0.076;15;27;0.9967;3.32;0.54;9.5;6\n7.7;0.67;0.23;2.1;0.088;17;96;0.9962;3.32;0.48;9.5;5\n7.7;0.69;0.22;1.9;0.084;18;94;0.9961;3.31;0.48;9.5;5\n8.3;0.675;0.26;2.1;0.084;11;43;0.9976;3.31;0.53;9.2;4\n9.7;0.32;0.54;2.5;0.094;28;83;0.9984;3.28;0.82;9.6;5\n8.8;0.41;0.64;2.2;0.093;9;42;0.9986;3.54;0.66;10.5;5\n8.8;0.41;0.64;2.2;0.093;9;42;0.9986;3.54;0.66;10.5;5\n6.8;0.785;0;2.4;0.104;14;30;0.9966;3.52;0.55;10.7;6\n6.7;0.75;0.12;2;0.086;12;80;0.9958;3.38;0.52;10.1;5\n8.3;0.625;0.2;1.5;0.08;27;119;0.9972;3.16;1.12;9.1;4\n6.2;0.45;0.2;1.6;0.069;3;15;0.9958;3.41;0.56;9.2;5\n7.8;0.43;0.7;1.9;0.464;22;67;0.9974;3.13;1.28;9.4;5\n7.4;0.5;0.47;2;0.086;21;73;0.997;3.36;0.57;9.1;5\n7.3;0.67;0.26;1.8;0.401;16;51;0.9969;3.16;1.14;9.4;5\n6.3;0.3;0.48;1.8;0.069;18;61;0.9959;3.44;0.78;10.3;6\n6.9;0.55;0.15;2.2;0.076;19;40;0.9961;3.41;0.59;10.1;5\n8.6;0.49;0.28;1.9;0.11;20;136;0.9972;2.93;1.95;9.9;6\n7.7;0.49;0.26;1.9;0.062;9;31;0.9966;3.39;0.64;9.6;5\n9.3;0.39;0.44;2.1;0.107;34;125;0.9978;3.14;1.22;9.5;5\n7;0.62;0.08;1.8;0.076;8;24;0.9978;3.48;0.53;9;5\n7.9;0.52;0.26;1.9;0.079;42;140;0.9964;3.23;0.54;9.5;5\n8.6;0.49;0.28;1.9;0.11;20;136;0.9972;2.93;1.95;9.9;6\n8.6;0.49;0.29;2;0.11;19;133;0.9972;2.93;1.98;9.8;5\n7.7;0.49;0.26;1.9;0.062;9;31;0.9966;3.39;0.64;9.6;5\n5;1.02;0.04;1.4;0.045;41;85;0.9938;3.75;0.48;10.5;4\n4.7;0.6;0.17;2.3;0.058;17;106;0.9932;3.85;0.6;12.9;6\n6.8;0.775;0;3;0.102;8;23;0.9965;3.45;0.56;10.7;5\n7;0.5;0.25;2;0.07;3;22;0.9963;3.25;0.63;9.2;5\n7.6;0.9;0.06;2.5;0.079;5;10;0.9967;3.39;0.56;9.8;5\n8.1;0.545;0.18;1.9;0.08;13;35;0.9972;3.3;0.59;9;6\n8.3;0.61;0.3;2.1;0.084;11;50;0.9972;3.4;0.61;10.2;6\n7.8;0.5;0.3;1.9;0.075;8;22;0.9959;3.31;0.56;10.4;6\n8.1;0.545;0.18;1.9;0.08;13;35;0.9972;3.3;0.59;9;6\n8.1;0.575;0.22;2.1;0.077;12;65;0.9967;3.29;0.51;9.2;5\n7.2;0.49;0.24;2.2;0.07;5;36;0.996;3.33;0.48;9.4;5\n8.1;0.575;0.22;2.1;0.077;12;65;0.9967;3.29;0.51;9.2;5\n7.8;0.41;0.68;1.7;0.467;18;69;0.9973;3.08;1.31;9.3;5\n6.2;0.63;0.31;1.7;0.088;15;64;0.9969;3.46;0.79;9.3;5\n8;0.33;0.53;2.5;0.091;18;80;0.9976;3.37;0.8;9.6;6\n8.1;0.785;0.52;2;0.122;37;153;0.9969;3.21;0.69;9.3;5\n7.8;0.56;0.19;1.8;0.104;12;47;0.9964;3.19;0.93;9.5;5\n8.4;0.62;0.09;2.2;0.084;11;108;0.9964;3.15;0.66;9.8;5\n8.4;0.6;0.1;2.2;0.085;14;111;0.9964;3.15;0.66;9.8;5\n10.1;0.31;0.44;2.3;0.08;22;46;0.9988;3.32;0.67;9.7;6\n7.8;0.56;0.19;1.8;0.104;12;47;0.9964;3.19;0.93;9.5;5\n9.4;0.4;0.31;2.2;0.09;13;62;0.9966;3.07;0.63;10.5;6\n8.3;0.54;0.28;1.9;0.077;11;40;0.9978;3.39;0.61;10;6\n7.8;0.56;0.12;2;0.082;7;28;0.997;3.37;0.5;9.4;6\n8.8;0.55;0.04;2.2;0.119;14;56;0.9962;3.21;0.6;10.9;6\n7;0.69;0.08;1.8;0.097;22;89;0.9959;3.34;0.54;9.2;6\n7.3;1.07;0.09;1.7;0.178;10;89;0.9962;3.3;0.57;9;5\n8.8;0.55;0.04;2.2;0.119;14;56;0.9962;3.21;0.6;10.9;6\n7.3;0.695;0;2.5;0.075;3;13;0.998;3.49;0.52;9.2;5\n8;0.71;0;2.6;0.08;11;34;0.9976;3.44;0.53;9.5;5\n7.8;0.5;0.17;1.6;0.082;21;102;0.996;3.39;0.48;9.5;5\n9;0.62;0.04;1.9;0.146;27;90;0.9984;3.16;0.7;9.4;5\n8.2;1.33;0;1.7;0.081;3;12;0.9964;3.53;0.49;10.9;5\n8.1;1.33;0;1.8;0.082;3;12;0.9964;3.54;0.48;10.9;5\n8;0.59;0.16;1.8;0.065;3;16;0.9962;3.42;0.92;10.5;7\n6.1;0.38;0.15;1.8;0.072;6;19;0.9955;3.42;0.57;9.4;5\n8;0.745;0.56;2;0.118;30;134;0.9968;3.24;0.66;9.4;5\n5.6;0.5;0.09;2.3;0.049;17;99;0.9937;3.63;0.63;13;5\n5.6;0.5;0.09;2.3;0.049;17;99;0.9937;3.63;0.63;13;5\n6.6;0.5;0.01;1.5;0.06;17;26;0.9952;3.4;0.58;9.8;6\n7.9;1.04;0.05;2.2;0.084;13;29;0.9959;3.22;0.55;9.9;6\n8.4;0.745;0.11;1.9;0.09;16;63;0.9965;3.19;0.82;9.6;5\n8.3;0.715;0.15;1.8;0.089;10;52;0.9968;3.23;0.77;9.5;5\n7.2;0.415;0.36;2;0.081;13;45;0.9972;3.48;0.64;9.2;5\n7.8;0.56;0.19;2.1;0.081;15;105;0.9962;3.33;0.54;9.5;5\n7.8;0.56;0.19;2;0.081;17;108;0.9962;3.32;0.54;9.5;5\n8.4;0.745;0.11;1.9;0.09;16;63;0.9965;3.19;0.82;9.6;5\n8.3;0.715;0.15;1.8;0.089;10;52;0.9968;3.23;0.77;9.5;5\n5.2;0.34;0;1.8;0.05;27;63;0.9916;3.68;0.79;14;6\n6.3;0.39;0.08;1.7;0.066;3;20;0.9954;3.34;0.58;9.4;5\n5.2;0.34;0;1.8;0.05;27;63;0.9916;3.68;0.79;14;6\n8.1;0.67;0.55;1.8;0.117;32;141;0.9968;3.17;0.62;9.4;5\n5.8;0.68;0.02;1.8;0.087;21;94;0.9944;3.54;0.52;10;5\n7.6;0.49;0.26;1.6;0.236;10;88;0.9968;3.11;0.8;9.3;5\n6.9;0.49;0.1;2.3;0.074;12;30;0.9959;3.42;0.58;10.2;6\n8.2;0.4;0.44;2.8;0.089;11;43;0.9975;3.53;0.61;10.5;6\n7.3;0.33;0.47;2.1;0.077;5;11;0.9958;3.33;0.53;10.3;6\n9.2;0.52;1;3.4;0.61;32;69;0.9996;2.74;2.0;9.4;4\n7.5;0.6;0.03;1.8;0.095;25;99;0.995;3.35;0.54;10.1;5\n7.5;0.6;0.03;1.8;0.095;25;99;0.995;3.35;0.54;10.1;5\n7.1;0.43;0.42;5.5;0.07;29;129;0.9973;3.42;0.72;10.5;5\n7.1;0.43;0.42;5.5;0.071;28;128;0.9973;3.42;0.71;10.5;5\n7.1;0.43;0.42;5.5;0.07;29;129;0.9973;3.42;0.72;10.5;5\n7.1;0.43;0.42;5.5;0.071;28;128;0.9973;3.42;0.71;10.5;5\n7.1;0.68;0;2.2;0.073;12;22;0.9969;3.48;0.5;9.3;5\n6.8;0.6;0.18;1.9;0.079;18;86;0.9968;3.59;0.57;9.3;6\n7.6;0.95;0.03;2;0.09;7;20;0.9959;3.2;0.56;9.6;5\n7.6;0.68;0.02;1.3;0.072;9;20;0.9965;3.17;1.08;9.2;4\n7.8;0.53;0.04;1.7;0.076;17;31;0.9964;3.33;0.56;10;6\n7.4;0.6;0.26;7.3;0.07;36;121;0.9982;3.37;0.49;9.4;5\n7.3;0.59;0.26;7.2;0.07;35;121;0.9981;3.37;0.49;9.4;5\n7.8;0.63;0.48;1.7;0.1;14;96;0.9961;3.19;0.62;9.5;5\n6.8;0.64;0.1;2.1;0.085;18;101;0.9956;3.34;0.52;10.2;5\n7.3;0.55;0.03;1.6;0.072;17;42;0.9956;3.37;0.48;9;4\n6.8;0.63;0.07;2.1;0.089;11;44;0.9953;3.47;0.55;10.4;6\n7.5;0.705;0.24;1.8;0.36;15;63;0.9964;3;1.59;9.5;5\n7.9;0.885;0.03;1.8;0.058;4;8;0.9972;3.36;0.33;9.1;4\n8;0.42;0.17;2;0.073;6;18;0.9972;3.29;0.61;9.2;6\n8;0.42;0.17;2;0.073;6;18;0.9972;3.29;0.61;9.2;6\n7.4;0.62;0.05;1.9;0.068;24;42;0.9961;3.42;0.57;11.5;6\n7.3;0.38;0.21;2;0.08;7;35;0.9961;3.33;0.47;9.5;5\n6.9;0.5;0.04;1.5;0.085;19;49;0.9958;3.35;0.78;9.5;5\n7.3;0.38;0.21;2;0.08;7;35;0.9961;3.33;0.47;9.5;5\n7.5;0.52;0.42;2.3;0.087;8;38;0.9972;3.58;0.61;10.5;6\n7;0.805;0;2.5;0.068;7;20;0.9969;3.48;0.56;9.6;5\n8.8;0.61;0.14;2.4;0.067;10;42;0.9969;3.19;0.59;9.5;5\n8.8;0.61;0.14;2.4;0.067;10;42;0.9969;3.19;0.59;9.5;5\n8.9;0.61;0.49;2;0.27;23;110;0.9972;3.12;1.02;9.3;5\n7.2;0.73;0.02;2.5;0.076;16;42;0.9972;3.44;0.52;9.3;5\n6.8;0.61;0.2;1.8;0.077;11;65;0.9971;3.54;0.58;9.3;5\n6.7;0.62;0.21;1.9;0.079;8;62;0.997;3.52;0.58;9.3;6\n8.9;0.31;0.57;2;0.111;26;85;0.9971;3.26;0.53;9.7;5\n7.4;0.39;0.48;2;0.082;14;67;0.9972;3.34;0.55;9.2;5\n7.7;0.705;0.1;2.6;0.084;9;26;0.9976;3.39;0.49;9.7;5\n7.9;0.5;0.33;2;0.084;15;143;0.9968;3.2;0.55;9.5;5\n7.9;0.49;0.32;1.9;0.082;17;144;0.9968;3.2;0.55;9.5;5\n8.2;0.5;0.35;2.9;0.077;21;127;0.9976;3.23;0.62;9.4;5\n6.4;0.37;0.25;1.9;0.074;21;49;0.9974;3.57;0.62;9.8;6\n6.8;0.63;0.12;3.8;0.099;16;126;0.9969;3.28;0.61;9.5;5\n7.6;0.55;0.21;2.2;0.071;7;28;0.9964;3.28;0.55;9.7;5\n7.6;0.55;0.21;2.2;0.071;7;28;0.9964;3.28;0.55;9.7;5\n7.8;0.59;0.33;2;0.074;24;120;0.9968;3.25;0.54;9.4;5\n7.3;0.58;0.3;2.4;0.074;15;55;0.9968;3.46;0.59;10.2;5\n11.5;0.3;0.6;2;0.067;12;27;0.9981;3.11;0.97;10.1;6\n5.4;0.835;0.08;1.2;0.046;13;93;0.9924;3.57;0.85;13;7\n6.9;1.09;0.06;2.1;0.061;12;31;0.9948;3.51;0.43;11.4;4\n9.6;0.32;0.47;1.4;0.056;9;24;0.99695;3.22;0.82;10.3;7\n8.8;0.37;0.48;2.1;0.097;39;145;0.9975;3.04;1.03;9.3;5\n6.8;0.5;0.11;1.5;0.075;16;49;0.99545;3.36;0.79;9.5;5\n7;0.42;0.35;1.6;0.088;16;39;0.9961;3.34;0.55;9.2;5\n7;0.43;0.36;1.6;0.089;14;37;0.99615;3.34;0.56;9.2;6\n12.8;0.3;0.74;2.6;0.095;9;28;0.9994;3.2;0.77;10.8;7\n12.8;0.3;0.74;2.6;0.095;9;28;0.9994;3.2;0.77;10.8;7\n7.8;0.57;0.31;1.8;0.069;26;120;0.99625;3.29;0.53;9.3;5\n7.8;0.44;0.28;2.7;0.1;18;95;0.9966;3.22;0.67;9.4;5\n11;0.3;0.58;2.1;0.054;7;19;0.998;3.31;0.88;10.5;7\n9.7;0.53;0.6;2;0.039;5;19;0.99585;3.3;0.86;12.4;6\n8;0.725;0.24;2.8;0.083;10;62;0.99685;3.35;0.56;10;6\n11.6;0.44;0.64;2.1;0.059;5;15;0.998;3.21;0.67;10.2;6\n8.2;0.57;0.26;2.2;0.06;28;65;0.9959;3.3;0.43;10.1;5\n7.8;0.735;0.08;2.4;0.092;10;41;0.9974;3.24;0.71;9.8;6\n7;0.49;0.49;5.6;0.06;26;121;0.9974;3.34;0.76;10.5;5\n8.7;0.625;0.16;2;0.101;13;49;0.9962;3.14;0.57;11;5\n8.1;0.725;0.22;2.2;0.072;11;41;0.9967;3.36;0.55;9.1;5\n7.5;0.49;0.19;1.9;0.076;10;44;0.9957;3.39;0.54;9.7;5\n7.8;0.53;0.33;2.4;0.08;24;144;0.99655;3.3;0.6;9.5;5\n7.8;0.34;0.37;2;0.082;24;58;0.9964;3.34;0.59;9.4;6\n7.4;0.53;0.26;2;0.101;16;72;0.9957;3.15;0.57;9.4;5\n6.8;0.61;0.04;1.5;0.057;5;10;0.99525;3.42;0.6;9.5;5\n8.6;0.645;0.25;2;0.083;8;28;0.99815;3.28;0.6;10;6\n8.4;0.635;0.36;2;0.089;15;55;0.99745;3.31;0.57;10.4;4\n7.7;0.43;0.25;2.6;0.073;29;63;0.99615;3.37;0.58;10.5;6\n8.9;0.59;0.5;2;0.337;27;81;0.9964;3.04;1.61;9.5;6\n9;0.82;0.14;2.6;0.089;9;23;0.9984;3.39;0.63;9.8;5\n7.7;0.43;0.25;2.6;0.073;29;63;0.99615;3.37;0.58;10.5;6\n6.9;0.52;0.25;2.6;0.081;10;37;0.99685;3.46;0.5;11;5\n5.2;0.48;0.04;1.6;0.054;19;106;0.9927;3.54;0.62;12.2;7\n8;0.38;0.06;1.8;0.078;12;49;0.99625;3.37;0.52;9.9;6\n8.5;0.37;0.2;2.8;0.09;18;58;0.998;3.34;0.7;9.6;6\n6.9;0.52;0.25;2.6;0.081;10;37;0.99685;3.46;0.5;11;5\n8.2;1;0.09;2.3;0.065;7;37;0.99685;3.32;0.55;9;6\n7.2;0.63;0;1.9;0.097;14;38;0.99675;3.37;0.58;9;6\n7.2;0.63;0;1.9;0.097;14;38;0.99675;3.37;0.58;9;6\n7.2;0.645;0;1.9;0.097;15;39;0.99675;3.37;0.58;9.2;6\n7.2;0.63;0;1.9;0.097;14;38;0.99675;3.37;0.58;9;6\n8.2;1;0.09;2.3;0.065;7;37;0.99685;3.32;0.55;9;6\n8.9;0.635;0.37;1.7;0.263;5;62;0.9971;3;1.09;9.3;5\n12;0.38;0.56;2.1;0.093;6;24;0.99925;3.14;0.71;10.9;6\n7.7;0.58;0.1;1.8;0.102;28;109;0.99565;3.08;0.49;9.8;6\n15;0.21;0.44;2.2;0.075;10;24;1.00005;3.07;0.84;9.2;7\n15;0.21;0.44;2.2;0.075;10;24;1.00005;3.07;0.84;9.2;7\n7.3;0.66;0;2;0.084;6;23;0.9983;3.61;0.96;9.9;6\n7.1;0.68;0.07;1.9;0.075;16;51;0.99685;3.38;0.52;9.5;5\n8.2;0.6;0.17;2.3;0.072;11;73;0.9963;3.2;0.45;9.3;5\n7.7;0.53;0.06;1.7;0.074;9;39;0.99615;3.35;0.48;9.8;6\n7.3;0.66;0;2;0.084;6;23;0.9983;3.61;0.96;9.9;6\n10.8;0.32;0.44;1.6;0.063;16;37;0.9985;3.22;0.78;10;6\n7.1;0.6;0;1.8;0.074;16;34;0.9972;3.47;0.7;9.9;6\n11.1;0.35;0.48;3.1;0.09;5;21;0.9986;3.17;0.53;10.5;5\n7.7;0.775;0.42;1.9;0.092;8;86;0.9959;3.23;0.59;9.5;5\n7.1;0.6;0;1.8;0.074;16;34;0.9972;3.47;0.7;9.9;6\n8;0.57;0.23;3.2;0.073;17;119;0.99675;3.26;0.57;9.3;5\n9.4;0.34;0.37;2.2;0.075;5;13;0.998;3.22;0.62;9.2;5\n6.6;0.695;0;2.1;0.075;12;56;0.9968;3.49;0.67;9.2;5\n7.7;0.41;0.76;1.8;0.611;8;45;0.9968;3.06;1.26;9.4;5\n10;0.31;0.47;2.6;0.085;14;33;0.99965;3.36;0.8;10.5;7\n7.9;0.33;0.23;1.7;0.077;18;45;0.99625;3.29;0.65;9.3;5\n7;0.975;0.04;2;0.087;12;67;0.99565;3.35;0.6;9.4;4\n8;0.52;0.03;1.7;0.07;10;35;0.99575;3.34;0.57;10;5\n7.9;0.37;0.23;1.8;0.077;23;49;0.9963;3.28;0.67;9.3;5\n12.5;0.56;0.49;2.4;0.064;5;27;0.9999;3.08;0.87;10.9;5\n11.8;0.26;0.52;1.8;0.071;6;10;0.9968;3.2;0.72;10.2;7\n8.1;0.87;0;3.3;0.096;26;61;1.00025;3.6;0.72;9.8;4\n7.9;0.35;0.46;3.6;0.078;15;37;0.9973;3.35;0.86;12.8;8\n6.9;0.54;0.04;3;0.077;7;27;0.9987;3.69;0.91;9.4;6\n11.5;0.18;0.51;4;0.104;4;23;0.9996;3.28;0.97;10.1;6\n7.9;0.545;0.06;4;0.087;27;61;0.9965;3.36;0.67;10.7;6\n11.5;0.18;0.51;4;0.104;4;23;0.9996;3.28;0.97;10.1;6\n10.9;0.37;0.58;4;0.071;17;65;0.99935;3.22;0.78;10.1;5\n8.4;0.715;0.2;2.4;0.076;10;38;0.99735;3.31;0.64;9.4;5\n7.5;0.65;0.18;7;0.088;27;94;0.99915;3.38;0.77;9.4;5\n7.9;0.545;0.06;4;0.087;27;61;0.9965;3.36;0.67;10.7;6\n6.9;0.54;0.04;3;0.077;7;27;0.9987;3.69;0.91;9.4;6\n11.5;0.18;0.51;4;0.104;4;23;0.9996;3.28;0.97;10.1;6\n10.3;0.32;0.45;6.4;0.073;5;13;0.9976;3.23;0.82;12.6;8\n8.9;0.4;0.32;5.6;0.087;10;47;0.9991;3.38;0.77;10.5;7\n11.4;0.26;0.44;3.6;0.071;6;19;0.9986;3.12;0.82;9.3;6\n7.7;0.27;0.68;3.5;0.358;5;10;0.9972;3.25;1.08;9.9;7\n7.6;0.52;0.12;3;0.067;12;53;0.9971;3.36;0.57;9.1;5\n8.9;0.4;0.32;5.6;0.087;10;47;0.9991;3.38;0.77;10.5;7\n9.9;0.59;0.07;3.4;0.102;32;71;1.00015;3.31;0.71;9.8;5\n9.9;0.59;0.07;3.4;0.102;32;71;1.00015;3.31;0.71;9.8;5\n12;0.45;0.55;2;0.073;25;49;0.9997;3.1;0.76;10.3;6\n7.5;0.4;0.12;3;0.092;29;53;0.9967;3.37;0.7;10.3;6\n8.7;0.52;0.09;2.5;0.091;20;49;0.9976;3.34;0.86;10.6;7\n11.6;0.42;0.53;3.3;0.105;33;98;1.001;3.2;0.95;9.2;5\n8.7;0.52;0.09;2.5;0.091;20;49;0.9976;3.34;0.86;10.6;7\n11;0.2;0.48;2;0.343;6;18;0.9979;3.3;0.71;10.5;5\n10.4;0.55;0.23;2.7;0.091;18;48;0.9994;3.22;0.64;10.3;6\n6.9;0.36;0.25;2.4;0.098;5;16;0.9964;3.41;0.6;10.1;6\n13.3;0.34;0.52;3.2;0.094;17;53;1.0014;3.05;0.81;9.5;6\n10.8;0.5;0.46;2.5;0.073;5;27;1.0001;3.05;0.64;9.5;5\n10.6;0.83;0.37;2.6;0.086;26;70;0.9981;3.16;0.52;9.9;5\n7.1;0.63;0.06;2;0.083;8;29;0.99855;3.67;0.73;9.6;5\n7.2;0.65;0.02;2.3;0.094;5;31;0.9993;3.67;0.8;9.7;5\n6.9;0.67;0.06;2.1;0.08;8;33;0.99845;3.68;0.71;9.6;5\n7.5;0.53;0.06;2.6;0.086;20;44;0.9965;3.38;0.59;10.7;6\n11.1;0.18;0.48;1.5;0.068;7;15;0.9973;3.22;0.64;10.1;6\n8.3;0.705;0.12;2.6;0.092;12;28;0.9994;3.51;0.72;10;5\n7.4;0.67;0.12;1.6;0.186;5;21;0.996;3.39;0.54;9.5;5\n8.4;0.65;0.6;2.1;0.112;12;90;0.9973;3.2;0.52;9.2;5\n10.3;0.53;0.48;2.5;0.063;6;25;0.9998;3.12;0.59;9.3;6\n7.6;0.62;0.32;2.2;0.082;7;54;0.9966;3.36;0.52;9.4;5\n10.3;0.41;0.42;2.4;0.213;6;14;0.9994;3.19;0.62;9.5;6\n10.3;0.43;0.44;2.4;0.214;5;12;0.9994;3.19;0.63;9.5;6\n7.4;0.29;0.38;1.7;0.062;9;30;0.9968;3.41;0.53;9.5;6\n10.3;0.53;0.48;2.5;0.063;6;25;0.9998;3.12;0.59;9.3;6\n7.9;0.53;0.24;2;0.072;15;105;0.996;3.27;0.54;9.4;6\n9;0.46;0.31;2.8;0.093;19;98;0.99815;3.32;0.63;9.5;6\n8.6;0.47;0.3;3;0.076;30;135;0.9976;3.3;0.53;9.4;5\n7.4;0.36;0.29;2.6;0.087;26;72;0.99645;3.39;0.68;11;5\n7.1;0.35;0.29;2.5;0.096;20;53;0.9962;3.42;0.65;11;6\n9.6;0.56;0.23;3.4;0.102;37;92;0.9996;3.3;0.65;10.1;5\n9.6;0.77;0.12;2.9;0.082;30;74;0.99865;3.3;0.64;10.4;6\n9.8;0.66;0.39;3.2;0.083;21;59;0.9989;3.37;0.71;11.5;7\n9.6;0.77;0.12;2.9;0.082;30;74;0.99865;3.3;0.64;10.4;6\n9.8;0.66;0.39;3.2;0.083;21;59;0.9989;3.37;0.71;11.5;7\n9.3;0.61;0.26;3.4;0.09;25;87;0.99975;3.24;0.62;9.7;5\n7.8;0.62;0.05;2.3;0.079;6;18;0.99735;3.29;0.63;9.3;5\n10.3;0.59;0.42;2.8;0.09;35;73;0.999;3.28;0.7;9.5;6\n10;0.49;0.2;11;0.071;13;50;1.0015;3.16;0.69;9.2;6\n10;0.49;0.2;11;0.071;13;50;1.0015;3.16;0.69;9.2;6\n11.6;0.53;0.66;3.65;0.121;6;14;0.9978;3.05;0.74;11.5;7\n10.3;0.44;0.5;4.5;0.107;5;13;0.998;3.28;0.83;11.5;5\n13.4;0.27;0.62;2.6;0.082;6;21;1.0002;3.16;0.67;9.7;6\n10.7;0.46;0.39;2;0.061;7;15;0.9981;3.18;0.62;9.5;5\n10.2;0.36;0.64;2.9;0.122;10;41;0.998;3.23;0.66;12.5;6\n10.2;0.36;0.64;2.9;0.122;10;41;0.998;3.23;0.66;12.5;6\n8;0.58;0.28;3.2;0.066;21;114;0.9973;3.22;0.54;9.4;6\n8.4;0.56;0.08;2.1;0.105;16;44;0.9958;3.13;0.52;11;5\n7.9;0.65;0.01;2.5;0.078;17;38;0.9963;3.34;0.74;11.7;7\n11.9;0.695;0.53;3.4;0.128;7;21;0.9992;3.17;0.84;12.2;7\n8.9;0.43;0.45;1.9;0.052;6;16;0.9948;3.35;0.7;12.5;6\n7.8;0.43;0.32;2.8;0.08;29;58;0.9974;3.31;0.64;10.3;5\n12.4;0.49;0.58;3;0.103;28;99;1.0008;3.16;1;11.5;6\n12.5;0.28;0.54;2.3;0.082;12;29;0.9997;3.11;1.36;9.8;7\n12.2;0.34;0.5;2.4;0.066;10;21;1;3.12;1.18;9.2;6\n10.6;0.42;0.48;2.7;0.065;5;18;0.9972;3.21;0.87;11.3;6\n10.9;0.39;0.47;1.8;0.118;6;14;0.9982;3.3;0.75;9.8;6\n10.9;0.39;0.47;1.8;0.118;6;14;0.9982;3.3;0.75;9.8;6\n11.9;0.57;0.5;2.6;0.082;6;32;1.0006;3.12;0.78;10.7;6\n7;0.685;0;1.9;0.067;40;63;0.9979;3.6;0.81;9.9;5\n6.6;0.815;0.02;2.7;0.072;17;34;0.9955;3.58;0.89;12.3;7\n13.8;0.49;0.67;3;0.093;6;15;0.9986;3.02;0.93;12;6\n9.6;0.56;0.31;2.8;0.089;15;46;0.9979;3.11;0.92;10;6\n9.1;0.785;0;2.6;0.093;11;28;0.9994;3.36;0.86;9.4;6\n10.7;0.67;0.22;2.7;0.107;17;34;1.0004;3.28;0.98;9.9;6\n9.1;0.795;0;2.6;0.096;11;26;0.9994;3.35;0.83;9.4;6\n7.7;0.665;0;2.4;0.09;8;19;0.9974;3.27;0.73;9.3;5\n13.5;0.53;0.79;4.8;0.12;23;77;1.0018;3.18;0.77;13;5\n6.1;0.21;0.4;1.4;0.066;40.5;165;0.9912;3.25;0.59;11.9;6\n6.7;0.75;0.01;2.4;0.078;17;32;0.9955;3.55;0.61;12.8;6\n11.5;0.41;0.52;3;0.08;29;55;1.0001;3.26;0.88;11;5\n10.5;0.42;0.66;2.95;0.116;12;29;0.997;3.24;0.75;11.7;7\n11.9;0.43;0.66;3.1;0.109;10;23;1;3.15;0.85;10.4;7\n12.6;0.38;0.66;2.6;0.088;10;41;1.001;3.17;0.68;9.8;6\n8.2;0.7;0.23;2;0.099;14;81;0.9973;3.19;0.7;9.4;5\n8.6;0.45;0.31;2.6;0.086;21;50;0.9982;3.37;0.91;9.9;6\n11.9;0.58;0.66;2.5;0.072;6;37;0.9992;3.05;0.56;10;5\n12.5;0.46;0.63;2;0.071;6;15;0.9988;2.99;0.87;10.2;5\n12.8;0.615;0.66;5.8;0.083;7;42;1.0022;3.07;0.73;10;7\n10;0.42;0.5;3.4;0.107;7;21;0.9979;3.26;0.93;11.8;6\n12.8;0.615;0.66;5.8;0.083;7;42;1.0022;3.07;0.73;10;7\n10.4;0.575;0.61;2.6;0.076;11;24;1;3.16;0.69;9;5\n10.3;0.34;0.52;2.8;0.159;15;75;0.9998;3.18;0.64;9.4;5\n9.4;0.27;0.53;2.4;0.074;6;18;0.9962;3.2;1.13;12;7\n6.9;0.765;0.02;2.3;0.063;35;63;0.9975;3.57;0.78;9.9;5\n7.9;0.24;0.4;1.6;0.056;11;25;0.9967;3.32;0.87;8.7;6\n9.1;0.28;0.48;1.8;0.067;26;46;0.9967;3.32;1.04;10.6;6\n7.4;0.55;0.22;2.2;0.106;12;72;0.9959;3.05;0.63;9.2;5\n14;0.41;0.63;3.8;0.089;6;47;1.0014;3.01;0.81;10.8;6\n11.5;0.54;0.71;4.4;0.124;6;15;0.9984;3.01;0.83;11.8;7\n11.5;0.45;0.5;3;0.078;19;47;1.0003;3.26;1.11;11;6\n9.4;0.27;0.53;2.4;0.074;6;18;0.9962;3.2;1.13;12;7\n11.4;0.625;0.66;6.2;0.088;6;24;0.9988;3.11;0.99;13.3;6\n8.3;0.42;0.38;2.5;0.094;24;60;0.9979;3.31;0.7;10.8;6\n8.3;0.26;0.42;2;0.08;11;27;0.9974;3.21;0.8;9.4;6\n13.7;0.415;0.68;2.9;0.085;17;43;1.0014;3.06;0.8;10;6\n8.3;0.26;0.42;2;0.08;11;27;0.9974;3.21;0.8;9.4;6\n8.3;0.26;0.42;2;0.08;11;27;0.9974;3.21;0.8;9.4;6\n7.7;0.51;0.28;2.1;0.087;23;54;0.998;3.42;0.74;9.2;5\n7.4;0.63;0.07;2.4;0.09;11;37;0.9979;3.43;0.76;9.7;6\n7.8;0.54;0.26;2;0.088;23;48;0.9981;3.41;0.74;9.2;6\n8.3;0.66;0.15;1.9;0.079;17;42;0.9972;3.31;0.54;9.6;6\n7.8;0.46;0.26;1.9;0.088;23;53;0.9981;3.43;0.74;9.2;6\n9.6;0.38;0.31;2.5;0.096;16;49;0.9982;3.19;0.7;10;7\n5.6;0.85;0.05;1.4;0.045;12;88;0.9924;3.56;0.82;12.9;8\n13.7;0.415;0.68;2.9;0.085;17;43;1.0014;3.06;0.8;10;6\n9.5;0.37;0.52;2;0.082;6;26;0.998;3.18;0.51;9.5;5\n8.4;0.665;0.61;2;0.112;13;95;0.997;3.16;0.54;9.1;5\n12.7;0.6;0.65;2.3;0.063;6;25;0.9997;3.03;0.57;9.9;5\n12;0.37;0.76;4.2;0.066;7;38;1.0004;3.22;0.6;13;7\n6.6;0.735;0.02;7.9;0.122;68;124;0.9994;3.47;0.53;9.9;5\n11.5;0.59;0.59;2.6;0.087;13;49;0.9988;3.18;0.65;11;6\n11.5;0.59;0.59;2.6;0.087;13;49;0.9988;3.18;0.65;11;6\n8.7;0.765;0.22;2.3;0.064;9;42;0.9963;3.1;0.55;9.4;5\n6.6;0.735;0.02;7.9;0.122;68;124;0.9994;3.47;0.53;9.9;5\n7.7;0.26;0.3;1.7;0.059;20;38;0.9949;3.29;0.47;10.8;6\n12.2;0.48;0.54;2.6;0.085;19;64;1;3.1;0.61;10.5;6\n11.4;0.6;0.49;2.7;0.085;10;41;0.9994;3.15;0.63;10.5;6\n7.7;0.69;0.05;2.7;0.075;15;27;0.9974;3.26;0.61;9.1;5\n8.7;0.31;0.46;1.4;0.059;11;25;0.9966;3.36;0.76;10.1;6\n9.8;0.44;0.47;2.5;0.063;9;28;0.9981;3.24;0.65;10.8;6\n12;0.39;0.66;3;0.093;12;30;0.9996;3.18;0.63;10.8;7\n10.4;0.34;0.58;3.7;0.174;6;16;0.997;3.19;0.7;11.3;6\n12.5;0.46;0.49;4.5;0.07;26;49;0.9981;3.05;0.57;9.6;4\n9;0.43;0.34;2.5;0.08;26;86;0.9987;3.38;0.62;9.5;6\n9.1;0.45;0.35;2.4;0.08;23;78;0.9987;3.38;0.62;9.5;5\n7.1;0.735;0.16;1.9;0.1;15;77;0.9966;3.27;0.64;9.3;5\n9.9;0.4;0.53;6.7;0.097;6;19;0.9986;3.27;0.82;11.7;7\n8.8;0.52;0.34;2.7;0.087;24;122;0.9982;3.26;0.61;9.5;5\n8.6;0.725;0.24;6.6;0.117;31;134;1.0014;3.32;1.07;9.3;5\n10.6;0.48;0.64;2.2;0.111;6;20;0.997;3.26;0.66;11.7;6\n7;0.58;0.12;1.9;0.091;34;124;0.9956;3.44;0.48;10.5;5\n11.9;0.38;0.51;2;0.121;7;20;0.9996;3.24;0.76;10.4;6\n6.8;0.77;0;1.8;0.066;34;52;0.9976;3.62;0.68;9.9;5\n9.5;0.56;0.33;2.4;0.089;35;67;0.9972;3.28;0.73;11.8;7\n6.6;0.84;0.03;2.3;0.059;32;48;0.9952;3.52;0.56;12.3;7\n7.7;0.96;0.2;2;0.047;15;60;0.9955;3.36;0.44;10.9;5\n10.5;0.24;0.47;2.1;0.066;6;24;0.9978;3.15;0.9;11;7\n7.7;0.96;0.2;2;0.047;15;60;0.9955;3.36;0.44;10.9;5\n6.6;0.84;0.03;2.3;0.059;32;48;0.9952;3.52;0.56;12.3;7\n6.4;0.67;0.08;2.1;0.045;19;48;0.9949;3.49;0.49;11.4;6\n9.5;0.78;0.22;1.9;0.077;6;32;0.9988;3.26;0.56;10.6;6\n9.1;0.52;0.33;1.3;0.07;9;30;0.9978;3.24;0.6;9.3;5\n12.8;0.84;0.63;2.4;0.088;13;35;0.9997;3.1;0.6;10.4;6\n10.5;0.24;0.47;2.1;0.066;6;24;0.9978;3.15;0.9;11;7\n7.8;0.55;0.35;2.2;0.074;21;66;0.9974;3.25;0.56;9.2;5\n11.9;0.37;0.69;2.3;0.078;12;24;0.9958;3;0.65;12.8;6\n12.3;0.39;0.63;2.3;0.091;6;18;1.0004;3.16;0.49;9.5;5\n10.4;0.41;0.55;3.2;0.076;22;54;0.9996;3.15;0.89;9.9;6\n12.3;0.39;0.63;2.3;0.091;6;18;1.0004;3.16;0.49;9.5;5\n8;0.67;0.3;2;0.06;38;62;0.9958;3.26;0.56;10.2;6\n11.1;0.45;0.73;3.2;0.066;6;22;0.9986;3.17;0.66;11.2;6\n10.4;0.41;0.55;3.2;0.076;22;54;0.9996;3.15;0.89;9.9;6\n7;0.62;0.18;1.5;0.062;7;50;0.9951;3.08;0.6;9.3;5\n12.6;0.31;0.72;2.2;0.072;6;29;0.9987;2.88;0.82;9.8;8\n11.9;0.4;0.65;2.15;0.068;7;27;0.9988;3.06;0.68;11.3;6\n15.6;0.685;0.76;3.7;0.1;6;43;1.0032;2.95;0.68;11.2;7\n10;0.44;0.49;2.7;0.077;11;19;0.9963;3.23;0.63;11.6;7\n5.3;0.57;0.01;1.7;0.054;5;27;0.9934;3.57;0.84;12.5;7\n9.5;0.735;0.1;2.1;0.079;6;31;0.9986;3.23;0.56;10.1;6\n12.5;0.38;0.6;2.6;0.081;31;72;0.9996;3.1;0.73;10.5;5\n9.3;0.48;0.29;2.1;0.127;6;16;0.9968;3.22;0.72;11.2;5\n8.6;0.53;0.22;2;0.1;7;27;0.9967;3.2;0.56;10.2;6\n11.9;0.39;0.69;2.8;0.095;17;35;0.9994;3.1;0.61;10.8;6\n11.9;0.39;0.69;2.8;0.095;17;35;0.9994;3.1;0.61;10.8;6\n8.4;0.37;0.53;1.8;0.413;9;26;0.9979;3.06;1.06;9.1;6\n6.8;0.56;0.03;1.7;0.084;18;35;0.9968;3.44;0.63;10;6\n10.4;0.33;0.63;2.8;0.084;5;22;0.9998;3.26;0.74;11.2;7\n7;0.23;0.4;1.6;0.063;21;67;0.9952;3.5;0.63;11.1;5\n11.3;0.62;0.67;5.2;0.086;6;19;0.9988;3.22;0.69;13.4;8\n8.9;0.59;0.39;2.3;0.095;5;22;0.9986;3.37;0.58;10.3;5\n9.2;0.63;0.21;2.7;0.097;29;65;0.9988;3.28;0.58;9.6;5\n10.4;0.33;0.63;2.8;0.084;5;22;0.9998;3.26;0.74;11.2;7\n11.6;0.58;0.66;2.2;0.074;10;47;1.0008;3.25;0.57;9;3\n9.2;0.43;0.52;2.3;0.083;14;23;0.9976;3.35;0.61;11.3;6\n8.3;0.615;0.22;2.6;0.087;6;19;0.9982;3.26;0.61;9.3;5\n11;0.26;0.68;2.55;0.085;10;25;0.997;3.18;0.61;11.8;5\n8.1;0.66;0.7;2.2;0.098;25;129;0.9972;3.08;0.53;9;5\n11.5;0.315;0.54;2.1;0.084;5;15;0.9987;2.98;0.7;9.2;6\n10;0.29;0.4;2.9;0.098;10;26;1.0006;3.48;0.91;9.7;5\n10.3;0.5;0.42;2;0.069;21;51;0.9982;3.16;0.72;11.5;6\n8.8;0.46;0.45;2.6;0.065;7;18;0.9947;3.32;0.79;14;6\n11.4;0.36;0.69;2.1;0.09;6;21;1;3.17;0.62;9.2;6\n8.7;0.82;0.02;1.2;0.07;36;48;0.9952;3.2;0.58;9.8;5\n13;0.32;0.65;2.6;0.093;15;47;0.9996;3.05;0.61;10.6;5\n9.6;0.54;0.42;2.4;0.081;25;52;0.997;3.2;0.71;11.4;6\n12.5;0.37;0.55;2.6;0.083;25;68;0.9995;3.15;0.82;10.4;6\n9.9;0.35;0.55;2.1;0.062;5;14;0.9971;3.26;0.79;10.6;5\n10.5;0.28;0.51;1.7;0.08;10;24;0.9982;3.2;0.89;9.4;6\n9.6;0.68;0.24;2.2;0.087;5;28;0.9988;3.14;0.6;10.2;5\n9.3;0.27;0.41;2;0.091;6;16;0.998;3.28;0.7;9.7;5\n10.4;0.24\n\n*** WARNING: max output size exceeded, skipping output. ***\n\n11;0.9915;3.39;0.54;13.5;6\n6.3;0.76;0;2.9;0.072;26;52;0.99379;3.51;0.6;11.5;6\n10;0.43;0.33;2.7;0.095;28;89;0.9984;3.22;0.68;10;5\n10.5;0.43;0.35;3.3;0.092;24;70;0.99798;3.21;0.69;10.5;6\n9.1;0.6;0;1.9;0.058;5;10;0.9977;3.18;0.63;10.4;6\n5.9;0.19;0.21;1.7;0.045;57;135;0.99341;3.32;0.44;9.5;5\n7.4;0.36;0.34;1.8;0.075;18;38;0.9933;3.38;0.88;13.6;7\n7.2;0.48;0.07;5.5;0.089;10;18;0.99684;3.37;0.68;11.2;7\n8.5;0.28;0.35;1.7;0.061;6;15;0.99524;3.3;0.74;11.8;7\n8;0.25;0.43;1.7;0.067;22;50;0.9946;3.38;0.6;11.9;6\n10.4;0.52;0.45;2;0.08;6;13;0.99774;3.22;0.76;11.4;6\n10.4;0.52;0.45;2;0.08;6;13;0.99774;3.22;0.76;11.4;6\n7.5;0.41;0.15;3.7;0.104;29;94;0.99786;3.14;0.58;9.1;5\n8.2;0.51;0.24;2;0.079;16;86;0.99764;3.34;0.64;9.5;6\n7.3;0.4;0.3;1.7;0.08;33;79;0.9969;3.41;0.65;9.5;6\n8.2;0.38;0.32;2.5;0.08;24;71;0.99624;3.27;0.85;11;6\n6.9;0.45;0.11;2.4;0.043;6;12;0.99354;3.3;0.65;11.4;6\n7;0.22;0.3;1.8;0.065;16;20;0.99672;3.61;0.82;10;6\n7.3;0.32;0.23;2.3;0.066;35;70;0.99588;3.43;0.62;10.1;5\n8.2;0.2;0.43;2.5;0.076;31;51;0.99672;3.53;0.81;10.4;6\n7.8;0.5;0.12;1.8;0.178;6;21;0.996;3.28;0.87;9.8;6\n10;0.41;0.45;6.2;0.071;6;14;0.99702;3.21;0.49;11.8;7\n7.8;0.39;0.42;2;0.086;9;21;0.99526;3.39;0.66;11.6;6\n10;0.35;0.47;2;0.061;6;11;0.99585;3.23;0.52;12;6\n8.2;0.33;0.32;2.8;0.067;4;12;0.99473;3.3;0.76;12.8;7\n6.1;0.58;0.23;2.5;0.044;16;70;0.99352;3.46;0.65;12.5;6\n8.3;0.6;0.25;2.2;0.118;9;38;0.99616;3.15;0.53;9.8;5\n9.6;0.42;0.35;2.1;0.083;17;38;0.99622;3.23;0.66;11.1;6\n6.6;0.58;0;2.2;0.1;50;63;0.99544;3.59;0.68;11.4;6\n8.3;0.6;0.25;2.2;0.118;9;38;0.99616;3.15;0.53;9.8;5\n8.5;0.18;0.51;1.75;0.071;45;88;0.99524;3.33;0.76;11.8;7\n5.1;0.51;0.18;2.1;0.042;16;101;0.9924;3.46;0.87;12.9;7\n6.7;0.41;0.43;2.8;0.076;22;54;0.99572;3.42;1.16;10.6;6\n10.2;0.41;0.43;2.2;0.11;11;37;0.99728;3.16;0.67;10.8;5\n10.6;0.36;0.57;2.3;0.087;6;20;0.99676;3.14;0.72;11.1;7\n8.8;0.45;0.43;1.4;0.076;12;21;0.99551;3.21;0.75;10.2;6\n8.5;0.32;0.42;2.3;0.075;12;19;0.99434;3.14;0.71;11.8;7\n9;0.785;0.24;1.7;0.078;10;21;0.99692;3.29;0.67;10;5\n9;0.785;0.24;1.7;0.078;10;21;0.99692;3.29;0.67;10;5\n8.5;0.44;0.5;1.9;0.369;15;38;0.99634;3.01;1.1;9.4;5\n9.9;0.54;0.26;2;0.111;7;60;0.99709;2.94;0.98;10.2;5\n8.2;0.33;0.39;2.5;0.074;29;48;0.99528;3.32;0.88;12.4;7\n6.5;0.34;0.27;2.8;0.067;8;44;0.99384;3.21;0.56;12;6\n7.6;0.5;0.29;2.3;0.086;5;14;0.99502;3.32;0.62;11.5;6\n9.2;0.36;0.34;1.6;0.062;5;12;0.99667;3.2;0.67;10.5;6\n7.1;0.59;0;2.2;0.078;26;44;0.99522;3.42;0.68;10.8;6\n9.7;0.42;0.46;2.1;0.074;5;16;0.99649;3.27;0.74;12.3;6\n7.6;0.36;0.31;1.7;0.079;26;65;0.99716;3.46;0.62;9.5;6\n7.6;0.36;0.31;1.7;0.079;26;65;0.99716;3.46;0.62;9.5;6\n6.5;0.61;0;2.2;0.095;48;59;0.99541;3.61;0.7;11.5;6\n6.5;0.88;0.03;5.6;0.079;23;47;0.99572;3.58;0.5;11.2;4\n7.1;0.66;0;2.4;0.052;6;11;0.99318;3.35;0.66;12.7;7\n5.6;0.915;0;2.1;0.041;17;78;0.99346;3.68;0.73;11.4;5\n8.2;0.35;0.33;2.4;0.076;11;47;0.99599;3.27;0.81;11;6\n8.2;0.35;0.33;2.4;0.076;11;47;0.99599;3.27;0.81;11;6\n9.8;0.39;0.43;1.65;0.068;5;11;0.99478;3.19;0.46;11.4;5\n10.2;0.4;0.4;2.5;0.068;41;54;0.99754;3.38;0.86;10.5;6\n6.8;0.66;0.07;1.6;0.07;16;61;0.99572;3.29;0.6;9.3;5\n6.7;0.64;0.23;2.1;0.08;11;119;0.99538;3.36;0.7;10.9;5\n7;0.43;0.3;2;0.085;6;39;0.99346;3.33;0.46;11.9;6\n6.6;0.8;0.03;7.8;0.079;6;12;0.9963;3.52;0.5;12.2;5\n7;0.43;0.3;2;0.085;6;39;0.99346;3.33;0.46;11.9;6\n6.7;0.64;0.23;2.1;0.08;11;119;0.99538;3.36;0.7;10.9;5\n8.8;0.955;0.05;1.8;0.075;5;19;0.99616;3.3;0.44;9.6;4\n9.1;0.4;0.57;4.6;0.08;6;20;0.99652;3.28;0.57;12.5;6\n6.5;0.885;0;2.3;0.166;6;12;0.99551;3.56;0.51;10.8;5\n7.2;0.25;0.37;2.5;0.063;11;41;0.99439;3.52;0.8;12.4;7\n6.4;0.885;0;2.3;0.166;6;12;0.99551;3.56;0.51;10.8;5\n7;0.745;0.12;1.8;0.114;15;64;0.99588;3.22;0.59;9.5;6\n6.2;0.43;0.22;1.8;0.078;21;56;0.99633;3.52;0.6;9.5;6\n7.9;0.58;0.23;2.3;0.076;23;94;0.99686;3.21;0.58;9.5;6\n7.7;0.57;0.21;1.5;0.069;4;9;0.99458;3.16;0.54;9.8;6\n7.7;0.26;0.26;2;0.052;19;77;0.9951;3.15;0.79;10.9;6\n7.9;0.58;0.23;2.3;0.076;23;94;0.99686;3.21;0.58;9.5;6\n7.7;0.57;0.21;1.5;0.069;4;9;0.99458;3.16;0.54;9.8;6\n7.9;0.34;0.36;1.9;0.065;5;10;0.99419;3.27;0.54;11.2;7\n8.6;0.42;0.39;1.8;0.068;6;12;0.99516;3.35;0.69;11.7;8\n9.9;0.74;0.19;5.8;0.111;33;76;0.99878;3.14;0.55;9.4;5\n7.2;0.36;0.46;2.1;0.074;24;44;0.99534;3.4;0.85;11;7\n7.2;0.36;0.46;2.1;0.074;24;44;0.99534;3.4;0.85;11;7\n7.2;0.36;0.46;2.1;0.074;24;44;0.99534;3.4;0.85;11;7\n9.9;0.72;0.55;1.7;0.136;24;52;0.99752;3.35;0.94;10;5\n7.2;0.36;0.46;2.1;0.074;24;44;0.99534;3.4;0.85;11;7\n6.2;0.39;0.43;2;0.071;14;24;0.99428;3.45;0.87;11.2;7\n6.8;0.65;0.02;2.1;0.078;8;15;0.99498;3.35;0.62;10.4;6\n6.6;0.44;0.15;2.1;0.076;22;53;0.9957;3.32;0.62;9.3;5\n6.8;0.65;0.02;2.1;0.078;8;15;0.99498;3.35;0.62;10.4;6\n9.6;0.38;0.42;1.9;0.071;5;13;0.99659;3.15;0.75;10.5;6\n10.2;0.33;0.46;1.9;0.081;6;9;0.99628;3.1;0.48;10.4;6\n8.8;0.27;0.46;2.1;0.095;20;29;0.99488;3.26;0.56;11.3;6\n7.9;0.57;0.31;2;0.079;10;79;0.99677;3.29;0.69;9.5;6\n8.2;0.34;0.37;1.9;0.057;43;74;0.99408;3.23;0.81;12;6\n8.2;0.4;0.31;1.9;0.082;8;24;0.996;3.24;0.69;10.6;6\n9;0.39;0.4;1.3;0.044;25;50;0.99478;3.2;0.83;10.9;6\n10.9;0.32;0.52;1.8;0.132;17;44;0.99734;3.28;0.77;11.5;6\n10.9;0.32;0.52;1.8;0.132;17;44;0.99734;3.28;0.77;11.5;6\n8.1;0.53;0.22;2.2;0.078;33;89;0.99678;3.26;0.46;9.6;6\n10.5;0.36;0.47;2.2;0.074;9;23;0.99638;3.23;0.76;12;6\n12.6;0.39;0.49;2.5;0.08;8;20;0.9992;3.07;0.82;10.3;6\n9.2;0.46;0.23;2.6;0.091;18;77;0.99922;3.15;0.51;9.4;5\n7.5;0.58;0.03;4.1;0.08;27;46;0.99592;3.02;0.47;9.2;5\n9;0.58;0.25;2;0.104;8;21;0.99769;3.27;0.72;9.6;5\n5.1;0.42;0;1.8;0.044;18;88;0.99157;3.68;0.73;13.6;7\n7.6;0.43;0.29;2.1;0.075;19;66;0.99718;3.4;0.64;9.5;5\n7.7;0.18;0.34;2.7;0.066;15;58;0.9947;3.37;0.78;11.8;6\n7.8;0.815;0.01;2.6;0.074;48;90;0.99621;3.38;0.62;10.8;5\n7.6;0.43;0.29;2.1;0.075;19;66;0.99718;3.4;0.64;9.5;5\n10.2;0.23;0.37;2.2;0.057;14;36;0.99614;3.23;0.49;9.3;4\n7.1;0.75;0.01;2.2;0.059;11;18;0.99242;3.39;0.4;12.8;6\n6;0.33;0.32;12.9;0.054;6;113;0.99572;3.3;0.56;11.5;4\n7.8;0.55;0;1.7;0.07;7;17;0.99659;3.26;0.64;9.4;6\n7.1;0.75;0.01;2.2;0.059;11;18;0.99242;3.39;0.4;12.8;6\n8.1;0.73;0;2.5;0.081;12;24;0.99798;3.38;0.46;9.6;4\n6.5;0.67;0;4.3;0.057;11;20;0.99488;3.45;0.56;11.8;4\n7.5;0.61;0.2;1.7;0.076;36;60;0.99494;3.1;0.4;9.3;5\n9.8;0.37;0.39;2.5;0.079;28;65;0.99729;3.16;0.59;9.8;5\n9;0.4;0.41;2;0.058;15;40;0.99414;3.22;0.6;12.2;6\n8.3;0.56;0.22;2.4;0.082;10;86;0.9983;3.37;0.62;9.5;5\n5.9;0.29;0.25;13.4;0.067;72;160;0.99721;3.33;0.54;10.3;6\n7.4;0.55;0.19;1.8;0.082;15;34;0.99655;3.49;0.68;10.5;5\n7.4;0.74;0.07;1.7;0.086;15;48;0.99502;3.12;0.48;10;5\n7.4;0.55;0.19;1.8;0.082;15;34;0.99655;3.49;0.68;10.5;5\n6.9;0.41;0.33;2.2;0.081;22;36;0.9949;3.41;0.75;11.1;6\n7.1;0.6;0.01;2.3;0.079;24;37;0.99514;3.4;0.61;10.9;6\n7.1;0.6;0.01;2.3;0.079;24;37;0.99514;3.4;0.61;10.9;6\n7.5;0.58;0.14;2.2;0.077;27;60;0.9963;3.28;0.59;9.8;5\n7.1;0.72;0;1.8;0.123;6;14;0.99627;3.45;0.58;9.8;5\n7.9;0.66;0;1.4;0.096;6;13;0.99569;3.43;0.58;9.5;5\n7.8;0.7;0.06;1.9;0.079;20;35;0.99628;3.4;0.69;10.9;5\n6.1;0.64;0.02;2.4;0.069;26;46;0.99358;3.47;0.45;11;5\n7.5;0.59;0.22;1.8;0.082;43;60;0.99499;3.1;0.42;9.2;5\n7;0.58;0.28;4.8;0.085;12;69;0.99633;3.32;0.7;11;6\n6.8;0.64;0;2.7;0.123;15;33;0.99538;3.44;0.63;11.3;6\n6.8;0.64;0;2.7;0.123;15;33;0.99538;3.44;0.63;11.3;6\n8.6;0.635;0.68;1.8;0.403;19;56;0.99632;3.02;1.15;9.3;5\n6.3;1.02;0;2;0.083;17;24;0.99437;3.59;0.55;11.2;4\n9.8;0.45;0.38;2.5;0.081;34;66;0.99726;3.15;0.58;9.8;5\n8.2;0.78;0;2.2;0.089;13;26;0.9978;3.37;0.46;9.6;4\n8.5;0.37;0.32;1.8;0.066;26;51;0.99456;3.38;0.72;11.8;6\n7.2;0.57;0.05;2.3;0.081;16;36;0.99564;3.38;0.6;10.3;6\n7.2;0.57;0.05;2.3;0.081;16;36;0.99564;3.38;0.6;10.3;6\n10.4;0.43;0.5;2.3;0.068;13;19;0.996;3.1;0.87;11.4;6\n6.9;0.41;0.31;2;0.079;21;51;0.99668;3.47;0.55;9.5;6\n5.5;0.49;0.03;1.8;0.044;28;87;0.9908;3.5;0.82;14;8\n5;0.38;0.01;1.6;0.048;26;60;0.99084;3.7;0.75;14;6\n7.3;0.44;0.2;1.6;0.049;24;64;0.9935;3.38;0.57;11.7;6\n5.9;0.46;0;1.9;0.077;25;44;0.99385;3.5;0.53;11.2;5\n7.5;0.58;0.2;2;0.073;34;44;0.99494;3.1;0.43;9.3;5\n7.8;0.58;0.13;2.1;0.102;17;36;0.9944;3.24;0.53;11.2;6\n8;0.715;0.22;2.3;0.075;13;81;0.99688;3.24;0.54;9.5;6\n8.5;0.4;0.4;6.3;0.05;3;10;0.99566;3.28;0.56;12;4\n7;0.69;0;1.9;0.114;3;10;0.99636;3.35;0.6;9.7;6\n8;0.715;0.22;2.3;0.075;13;81;0.99688;3.24;0.54;9.5;6\n9.8;0.3;0.39;1.7;0.062;3;9;0.9948;3.14;0.57;11.5;7\n7.1;0.46;0.2;1.9;0.077;28;54;0.9956;3.37;0.64;10.4;6\n7.1;0.46;0.2;1.9;0.077;28;54;0.9956;3.37;0.64;10.4;6\n7.9;0.765;0;2;0.084;9;22;0.99619;3.33;0.68;10.9;6\n8.7;0.63;0.28;2.7;0.096;17;69;0.99734;3.26;0.63;10.2;6\n7;0.42;0.19;2.3;0.071;18;36;0.99476;3.39;0.56;10.9;5\n11.3;0.37;0.5;1.8;0.09;20;47;0.99734;3.15;0.57;10.5;5\n7.1;0.16;0.44;2.5;0.068;17;31;0.99328;3.35;0.54;12.4;6\n8;0.6;0.08;2.6;0.056;3;7;0.99286;3.22;0.37;13;5\n7;0.6;0.3;4.5;0.068;20;110;0.99914;3.3;1.17;10.2;5\n7;0.6;0.3;4.5;0.068;20;110;0.99914;3.3;1.17;10.2;5\n7.6;0.74;0;1.9;0.1;6;12;0.99521;3.36;0.59;11;5\n8.2;0.635;0.1;2.1;0.073;25;60;0.99638;3.29;0.75;10.9;6\n5.9;0.395;0.13;2.4;0.056;14;28;0.99362;3.62;0.67;12.4;6\n7.5;0.755;0;1.9;0.084;6;12;0.99672;3.34;0.49;9.7;4\n8.2;0.635;0.1;2.1;0.073;25;60;0.99638;3.29;0.75;10.9;6\n6.6;0.63;0;4.3;0.093;51;77.5;0.99558;3.2;0.45;9.5;5\n6.6;0.63;0;4.3;0.093;51;77.5;0.99558;3.2;0.45;9.5;5\n7.2;0.53;0.14;2.1;0.064;15;29;0.99323;3.35;0.61;12.1;6\n5.7;0.6;0;1.4;0.063;11;18;0.99191;3.45;0.56;12.2;6\n7.6;1.58;0;2.1;0.137;5;9;0.99476;3.5;0.4;10.9;3\n5.2;0.645;0;2.15;0.08;15;28;0.99444;3.78;0.61;12.5;6\n6.7;0.86;0.07;2;0.1;20;57;0.99598;3.6;0.74;11.7;6\n9.1;0.37;0.32;2.1;0.064;4;15;0.99576;3.3;0.8;11.2;6\n8;0.28;0.44;1.8;0.081;28;68;0.99501;3.36;0.66;11.2;5\n7.6;0.79;0.21;2.3;0.087;21;68;0.9955;3.12;0.44;9.2;5\n7.5;0.61;0.26;1.9;0.073;24;88;0.99612;3.3;0.53;9.8;5\n9.7;0.69;0.32;2.5;0.088;22;91;0.9979;3.29;0.62;10.1;5\n6.8;0.68;0.09;3.9;0.068;15;29;0.99524;3.41;0.52;11.1;4\n9.7;0.69;0.32;2.5;0.088;22;91;0.9979;3.29;0.62;10.1;5\n7;0.62;0.1;1.4;0.071;27;63;0.996;3.28;0.61;9.2;5\n7.5;0.61;0.26;1.9;0.073;24;88;0.99612;3.3;0.53;9.8;5\n6.5;0.51;0.15;3;0.064;12;27;0.9929;3.33;0.59;12.8;6\n8;1.18;0.21;1.9;0.083;14;41;0.99532;3.34;0.47;10.5;5\n7;0.36;0.21;2.3;0.086;20;65;0.99558;3.4;0.54;10.1;6\n7;0.36;0.21;2.4;0.086;24;69;0.99556;3.4;0.53;10.1;6\n7.5;0.63;0.27;2;0.083;17;91;0.99616;3.26;0.58;9.8;6\n5.4;0.74;0;1.2;0.041;16;46;0.99258;4.01;0.59;12.5;6\n9.9;0.44;0.46;2.2;0.091;10;41;0.99638;3.18;0.69;11.9;6\n7.5;0.63;0.27;2;0.083;17;91;0.99616;3.26;0.58;9.8;6\n9.1;0.76;0.68;1.7;0.414;18;64;0.99652;2.9;1.33;9.1;6\n9.7;0.66;0.34;2.6;0.094;12;88;0.99796;3.26;0.66;10.1;5\n5;0.74;0;1.2;0.041;16;46;0.99258;4.01;0.59;12.5;6\n9.1;0.34;0.42;1.8;0.058;9;18;0.99392;3.18;0.55;11.4;5\n9.1;0.36;0.39;1.8;0.06;21;55;0.99495;3.18;0.82;11;7\n6.7;0.46;0.24;1.7;0.077;18;34;0.9948;3.39;0.6;10.6;6\n6.7;0.46;0.24;1.7;0.077;18;34;0.9948;3.39;0.6;10.6;6\n6.7;0.46;0.24;1.7;0.077;18;34;0.9948;3.39;0.6;10.6;6\n6.7;0.46;0.24;1.7;0.077;18;34;0.9948;3.39;0.6;10.6;6\n6.5;0.52;0.11;1.8;0.073;13;38;0.9955;3.34;0.52;9.3;5\n7.4;0.6;0.26;2.1;0.083;17;91;0.99616;3.29;0.56;9.8;6\n7.4;0.6;0.26;2.1;0.083;17;91;0.99616;3.29;0.56;9.8;6\n7.8;0.87;0.26;3.8;0.107;31;67;0.99668;3.26;0.46;9.2;5\n8.4;0.39;0.1;1.7;0.075;6;25;0.99581;3.09;0.43;9.7;6\n9.1;0.775;0.22;2.2;0.079;12;48;0.9976;3.18;0.51;9.6;5\n7.2;0.835;0;2;0.166;4;11;0.99608;3.39;0.52;10;5\n6.6;0.58;0.02;2.4;0.069;19;40;0.99387;3.38;0.66;12.6;6\n6;0.5;0;1.4;0.057;15;26;0.99448;3.36;0.45;9.5;5\n6;0.5;0;1.4;0.057;15;26;0.99448;3.36;0.45;9.5;5\n6;0.5;0;1.4;0.057;15;26;0.99448;3.36;0.45;9.5;5\n7.5;0.51;0.02;1.7;0.084;13;31;0.99538;3.36;0.54;10.5;6\n7.5;0.51;0.02;1.7;0.084;13;31;0.99538;3.36;0.54;10.5;6\n7.5;0.51;0.02;1.7;0.084;13;31;0.99538;3.36;0.54;10.5;6\n7.6;0.54;0.02;1.7;0.085;17;31;0.99589;3.37;0.51;10.4;6\n7.5;0.51;0.02;1.7;0.084;13;31;0.99538;3.36;0.54;10.5;6\n11.5;0.42;0.48;2.6;0.077;8;20;0.99852;3.09;0.53;11;5\n8.2;0.44;0.24;2.3;0.063;10;28;0.99613;3.25;0.53;10.2;6\n6.1;0.59;0.01;2.1;0.056;5;13;0.99472;3.52;0.56;11.4;5\n7.2;0.655;0.03;1.8;0.078;7;12;0.99587;3.34;0.39;9.5;5\n7.2;0.655;0.03;1.8;0.078;7;12;0.99587;3.34;0.39;9.5;5\n6.9;0.57;0;2.8;0.081;21;41;0.99518;3.41;0.52;10.8;5\n9;0.6;0.29;2;0.069;32;73;0.99654;3.34;0.57;10;5\n7.2;0.62;0.01;2.3;0.065;8;46;0.99332;3.32;0.51;11.8;6\n7.6;0.645;0.03;1.9;0.086;14;57;0.9969;3.37;0.46;10.3;5\n7.6;0.645;0.03;1.9;0.086;14;57;0.9969;3.37;0.46;10.3;5\n7.2;0.58;0.03;2.3;0.077;7;28;0.99568;3.35;0.52;10;5\n6.1;0.32;0.25;1.8;0.086;5;32;0.99464;3.36;0.44;10.1;5\n6.1;0.34;0.25;1.8;0.084;4;28;0.99464;3.36;0.44;10.1;5\n7.3;0.43;0.24;2.5;0.078;27;67;0.99648;3.6;0.59;11.1;6\n7.4;0.64;0.17;5.4;0.168;52;98;0.99736;3.28;0.5;9.5;5\n11.6;0.475;0.4;1.4;0.091;6;28;0.99704;3.07;0.65;10.0333333333333;6\n9.2;0.54;0.31;2.3;0.112;11;38;0.99699;3.24;0.56;10.9;5\n8.3;0.85;0.14;2.5;0.093;13;54;0.99724;3.36;0.54;10.1;5\n11.6;0.475;0.4;1.4;0.091;6;28;0.99704;3.07;0.65;10.0333333333333;6\n8;0.83;0.27;2;0.08;11;63;0.99652;3.29;0.48;9.8;4\n7.2;0.605;0.02;1.9;0.096;10;31;0.995;3.46;0.53;11.8;6\n7.8;0.5;0.09;2.2;0.115;10;42;0.9971;3.18;0.62;9.5;5\n7.3;0.74;0.08;1.7;0.094;10;45;0.99576;3.24;0.5;9.8;5\n6.9;0.54;0.3;2.2;0.088;9;105;0.99725;3.25;1.18;10.5;6\n8;0.77;0.32;2.1;0.079;16;74;0.99656;3.27;0.5;9.8;6\n6.6;0.61;0;1.6;0.069;4;8;0.99396;3.33;0.37;10.4;4\n8.7;0.78;0.51;1.7;0.415;12;66;0.99623;3;1.17;9.2;5\n7.5;0.58;0.56;3.1;0.153;5;14;0.99476;3.21;1.03;11.6;6\n8.7;0.78;0.51;1.7;0.415;12;66;0.99623;3;1.17;9.2;5\n7.7;0.75;0.27;3.8;0.11;34;89;0.99664;3.24;0.45;9.3;5\n6.8;0.815;0;1.2;0.267;16;29;0.99471;3.32;0.51;9.8;3\n7.2;0.56;0.26;2;0.083;13;100;0.99586;3.26;0.52;9.9;5\n8.2;0.885;0.2;1.4;0.086;7;31;0.9946;3.11;0.46;10;5\n5.2;0.49;0.26;2.3;0.09;23;74;0.9953;3.71;0.62;12.2;6\n7.2;0.45;0.15;2;0.078;10;28;0.99609;3.29;0.51;9.9;6\n7.5;0.57;0.02;2.6;0.077;11;35;0.99557;3.36;0.62;10.8;6\n7.5;0.57;0.02;2.6;0.077;11;35;0.99557;3.36;0.62;10.8;6\n6.8;0.83;0.09;1.8;0.074;4;25;0.99534;3.38;0.45;9.6;5\n8;0.6;0.22;2.1;0.08;25;105;0.99613;3.3;0.49;9.9;5\n8;0.6;0.22;2.1;0.08;25;105;0.99613;3.3;0.49;9.9;5\n7.1;0.755;0.15;1.8;0.107;20;84;0.99593;3.19;0.5;9.5;5\n8;0.81;0.25;3.4;0.076;34;85;0.99668;3.19;0.42;9.2;5\n7.4;0.64;0.07;1.8;0.1;8;23;0.9961;3.3;0.58;9.6;5\n7.4;0.64;0.07;1.8;0.1;8;23;0.9961;3.3;0.58;9.6;5\n6.6;0.64;0.31;6.1;0.083;7;49;0.99718;3.35;0.68;10.3;5\n6.7;0.48;0.02;2.2;0.08;36;111;0.99524;3.1;0.53;9.7;5\n6;0.49;0;2.3;0.068;15;33;0.99292;3.58;0.59;12.5;6\n8;0.64;0.22;2.4;0.094;5;33;0.99612;3.37;0.58;11;5\n7.1;0.62;0.06;1.3;0.07;5;12;0.9942;3.17;0.48;9.8;5\n8;0.52;0.25;2;0.078;19;59;0.99612;3.3;0.48;10.2;5\n6.4;0.57;0.14;3.9;0.07;27;73;0.99669;3.32;0.48;9.2;5\n8.6;0.685;0.1;1.6;0.092;3;12;0.99745;3.31;0.65;9.55;6\n8.7;0.675;0.1;1.6;0.09;4;11;0.99745;3.31;0.65;9.55;5\n7.3;0.59;0.26;2;0.08;17;104;0.99584;3.28;0.52;9.9;5\n7;0.6;0.12;2.2;0.083;13;28;0.9966;3.52;0.62;10.2;7\n7.2;0.67;0;2.2;0.068;10;24;0.9956;3.42;0.72;11.1;6\n7.9;0.69;0.21;2.1;0.08;33;141;0.9962;3.25;0.51;9.9;5\n7.9;0.69;0.21;2.1;0.08;33;141;0.9962;3.25;0.51;9.9;5\n7.6;0.3;0.42;2;0.052;6;24;0.9963;3.44;0.82;11.9;6\n7.2;0.33;0.33;1.7;0.061;3;13;0.996;3.23;1.1;10;8\n8;0.5;0.39;2.6;0.082;12;46;0.9985;3.43;0.62;10.7;6\n7.7;0.28;0.3;2;0.062;18;34;0.9952;3.28;0.9;11.3;7\n8.2;0.24;0.34;5.1;0.062;8;22;0.9974;3.22;0.94;10.9;6\n6;0.51;0;2.1;0.064;40;54;0.995;3.54;0.93;10.7;6\n8.1;0.29;0.36;2.2;0.048;35;53;0.995;3.27;1.01;12.4;7\n6;0.51;0;2.1;0.064;40;54;0.995;3.54;0.93;10.7;6\n6.6;0.96;0;1.8;0.082;5;16;0.9936;3.5;0.44;11.9;6\n6.4;0.47;0.4;2.4;0.071;8;19;0.9963;3.56;0.73;10.6;6\n8.2;0.24;0.34;5.1;0.062;8;22;0.9974;3.22;0.94;10.9;6\n9.9;0.57;0.25;2;0.104;12;89;0.9963;3.04;0.9;10.1;5\n10;0.32;0.59;2.2;0.077;3;15;0.9994;3.2;0.78;9.6;5\n6.2;0.58;0;1.6;0.065;8;18;0.9966;3.56;0.84;9.4;5\n10;0.32;0.59;2.2;0.077;3;15;0.9994;3.2;0.78;9.6;5\n7.3;0.34;0.33;2.5;0.064;21;37;0.9952;3.35;0.77;12.1;7\n7.8;0.53;0.01;1.6;0.077;3;19;0.995;3.16;0.46;9.8;5\n7.7;0.64;0.21;2.2;0.077;32;133;0.9956;3.27;0.45;9.9;5\n7.8;0.53;0.01;1.6;0.077;3;19;0.995;3.16;0.46;9.8;5\n7.5;0.4;0.18;1.6;0.079;24;58;0.9965;3.34;0.58;9.4;5\n7;0.54;0;2.1;0.079;39;55;0.9956;3.39;0.84;11.4;6\n6.4;0.53;0.09;3.9;0.123;14;31;0.9968;3.5;0.67;11;4\n8.3;0.26;0.37;1.4;0.076;8;23;0.9974;3.26;0.7;9.6;6\n8.3;0.26;0.37;1.4;0.076;8;23;0.9974;3.26;0.7;9.6;6\n7.7;0.23;0.37;1.8;0.046;23;60;0.9971;3.41;0.71;12.1;6\n7.6;0.41;0.33;2.5;0.078;6;23;0.9957;3.3;0.58;11.2;5\n7.8;0.64;0;1.9;0.072;27;55;0.9962;3.31;0.63;11;5\n7.9;0.18;0.4;2.2;0.049;38;67;0.996;3.33;0.93;11.3;5\n7.4;0.41;0.24;1.8;0.066;18;47;0.9956;3.37;0.62;10.4;5\n7.6;0.43;0.31;2.1;0.069;13;74;0.9958;3.26;0.54;9.9;6\n5.9;0.44;0;1.6;0.042;3;11;0.9944;3.48;0.85;11.7;6\n6.1;0.4;0.16;1.8;0.069;11;25;0.9955;3.42;0.74;10.1;7\n10.2;0.54;0.37;15.4;0.214;55;95;1.00369;3.18;0.77;9;6\n10.2;0.54;0.37;15.4;0.214;55;95;1.00369;3.18;0.77;9;6\n10;0.38;0.38;1.6;0.169;27;90;0.99914;3.15;0.65;8.5;5\n6.8;0.915;0.29;4.8;0.07;15;39;0.99577;3.53;0.54;11.1;5\n7;0.59;0;1.7;0.052;3;8;0.996;3.41;0.47;10.3;5\n7.3;0.67;0.02;2.2;0.072;31;92;0.99566;3.32;0.68;11.0666666666667;6\n7.2;0.37;0.32;2;0.062;15;28;0.9947;3.23;0.73;11.3;7\n7.4;0.785;0.19;5.2;0.094;19;98;0.99713;3.16;0.52;9.56666666666667;6\n6.9;0.63;0.02;1.9;0.078;18;30;0.99712;3.4;0.75;9.8;5\n6.9;0.58;0.2;1.75;0.058;8;22;0.99322;3.38;0.49;11.7;5\n7.3;0.67;0.02;2.2;0.072;31;92;0.99566;3.32;0.68;11.1;6\n7.4;0.785;0.19;5.2;0.094;19;98;0.99713;3.16;0.52;9.6;6\n6.9;0.63;0.02;1.9;0.078;18;30;0.99712;3.4;0.75;9.8;5\n6.8;0.67;0;1.9;0.08;22;39;0.99701;3.4;0.74;9.7;5\n6.9;0.58;0.01;1.9;0.08;40;54;0.99683;3.4;0.73;9.7;5\n7.2;0.38;0.31;2;0.056;15;29;0.99472;3.23;0.76;11.3;8\n7.2;0.37;0.32;2;0.062;15;28;0.9947;3.23;0.73;11.3;7\n7.8;0.32;0.44;2.7;0.104;8;17;0.99732;3.33;0.78;11;7\n6.6;0.58;0.02;2;0.062;37;53;0.99374;3.35;0.76;11.6;7\n7.6;0.49;0.33;1.9;0.074;27;85;0.99706;3.41;0.58;9;5\n11.7;0.45;0.63;2.2;0.073;7;23;0.99974;3.21;0.69;10.9;6\n6.5;0.9;0;1.6;0.052;9;17;0.99467;3.5;0.63;10.9;6\n6;0.54;0.06;1.8;0.05;38;89;0.99236;3.3;0.5;10.55;6\n7.6;0.49;0.33;1.9;0.074;27;85;0.99706;3.41;0.58;9;5\n8.4;0.29;0.4;1.7;0.067;8;20;0.99603;3.39;0.6;10.5;5\n7.9;0.2;0.35;1.7;0.054;7;15;0.99458;3.32;0.8;11.9;7\n6.4;0.42;0.09;2.3;0.054;34;64;0.99724;3.41;0.68;10.4;6\n6.2;0.785;0;2.1;0.06;6;13;0.99664;3.59;0.61;10;4\n6.8;0.64;0.03;2.3;0.075;14;31;0.99545;3.36;0.58;10.4;6\n6.9;0.63;0.01;2.4;0.076;14;39;0.99522;3.34;0.53;10.8;6\n6.8;0.59;0.1;1.7;0.063;34;53;0.9958;3.41;0.67;9.7;5\n6.8;0.59;0.1;1.7;0.063;34;53;0.9958;3.41;0.67;9.7;5\n7.3;0.48;0.32;2.1;0.062;31;54;0.99728;3.3;0.65;10;7\n6.7;1.04;0.08;2.3;0.067;19;32;0.99648;3.52;0.57;11;4\n7.3;0.48;0.32;2.1;0.062;31;54;0.99728;3.3;0.65;10;7\n7.3;0.98;0.05;2.1;0.061;20;49;0.99705;3.31;0.55;9.7;3\n10;0.69;0.11;1.4;0.084;8;24;0.99578;2.88;0.47;9.7;5\n6.7;0.7;0.08;3.75;0.067;8;16;0.99334;3.43;0.52;12.6;5\n7.6;0.35;0.6;2.6;0.073;23;44;0.99656;3.38;0.79;11.1;6\n6.1;0.6;0.08;1.8;0.071;14;45;0.99336;3.38;0.54;11;5\n9.9;0.5;0.5;13.8;0.205;48;82;1.00242;3.16;0.75;8.8;5\n5.3;0.47;0.11;2.2;0.048;16;89;0.99182;3.54;0.88;13.5666666666667;7\n9.9;0.5;0.5;13.8;0.205;48;82;1.00242;3.16;0.75;8.8;5\n5.3;0.47;0.11;2.2;0.048;16;89;0.99182;3.54;0.88;13.6;7\n7.1;0.875;0.05;5.7;0.082;3;14;0.99808;3.4;0.52;10.2;3\n8.2;0.28;0.6;3;0.104;10;22;0.99828;3.39;0.68;10.6;5\n5.6;0.62;0.03;1.5;0.08;6;13;0.99498;3.66;0.62;10.1;4\n8.2;0.28;0.6;3;0.104;10;22;0.99828;3.39;0.68;10.6;5\n7.2;0.58;0.54;2.1;0.114;3;9;0.99719;3.33;0.57;10.3;4\n8.1;0.33;0.44;1.5;0.042;6;12;0.99542;3.35;0.61;10.7;5\n6.8;0.91;0.06;2;0.06;4;11;0.99592;3.53;0.64;10.9;4\n7;0.655;0.16;2.1;0.074;8;25;0.99606;3.37;0.55;9.7;5\n6.8;0.68;0.21;2.1;0.07;9;23;0.99546;3.38;0.6;10.3;5\n6;0.64;0.05;1.9;0.066;9;17;0.99496;3.52;0.78;10.6;5\n5.6;0.54;0.04;1.7;0.049;5;13;0.9942;3.72;0.58;11.4;5\n6.2;0.57;0.1;2.1;0.048;4;11;0.99448;3.44;0.76;10.8;6\n7.1;0.22;0.49;1.8;0.039;8;18;0.99344;3.39;0.56;12.4;6\n5.6;0.54;0.04;1.7;0.049;5;13;0.9942;3.72;0.58;11.4;5\n6.2;0.65;0.06;1.6;0.05;6;18;0.99348;3.57;0.54;11.95;5\n7.7;0.54;0.26;1.9;0.089;23;147;0.99636;3.26;0.59;9.7;5\n6.4;0.31;0.09;1.4;0.066;15;28;0.99459;3.42;0.7;10;7\n7;0.43;0.02;1.9;0.08;15;28;0.99492;3.35;0.81;10.6;6\n7.7;0.54;0.26;1.9;0.089;23;147;0.99636;3.26;0.59;9.7;5\n6.9;0.74;0.03;2.3;0.054;7;16;0.99508;3.45;0.63;11.5;6\n6.6;0.895;0.04;2.3;0.068;7;13;0.99582;3.53;0.58;10.8;6\n6.9;0.74;0.03;2.3;0.054;7;16;0.99508;3.45;0.63;11.5;6\n7.5;0.725;0.04;1.5;0.076;8;15;0.99508;3.26;0.53;9.6;5\n7.8;0.82;0.29;4.3;0.083;21;64;0.99642;3.16;0.53;9.4;5\n7.3;0.585;0.18;2.4;0.078;15;60;0.99638;3.31;0.54;9.8;5\n6.2;0.44;0.39;2.5;0.077;6;14;0.99555;3.51;0.69;11;6\n7.5;0.38;0.57;2.3;0.106;5;12;0.99605;3.36;0.55;11.4;6\n6.7;0.76;0.02;1.8;0.078;6;12;0.996;3.55;0.63;9.95;3\n6.8;0.81;0.05;2;0.07;6;14;0.99562;3.51;0.66;10.8;6\n7.5;0.38;0.57;2.3;0.106;5;12;0.99605;3.36;0.55;11.4;6\n7.1;0.27;0.6;2.1;0.074;17;25;0.99814;3.38;0.72;10.6;6\n7.9;0.18;0.4;1.8;0.062;7;20;0.9941;3.28;0.7;11.1;5\n6.4;0.36;0.21;2.2;0.047;26;48;0.99661;3.47;0.77;9.7;6\n7.1;0.69;0.04;2.1;0.068;19;27;0.99712;3.44;0.67;9.8;5\n6.4;0.79;0.04;2.2;0.061;11;17;0.99588;3.53;0.65;10.4;6\n6.4;0.56;0.15;1.8;0.078;17;65;0.99294;3.33;0.6;10.5;6\n6.9;0.84;0.21;4.1;0.074;16;65;0.99842;3.53;0.72;9.23333333333333;6\n6.9;0.84;0.21;4.1;0.074;16;65;0.99842;3.53;0.72;9.25;6\n6.1;0.32;0.25;2.3;0.071;23;58;0.99633;3.42;0.97;10.6;5\n6.5;0.53;0.06;2;0.063;29;44;0.99489;3.38;0.83;10.3;6\n7.4;0.47;0.46;2.2;0.114;7;20;0.99647;3.32;0.63;10.5;5\n6.6;0.7;0.08;2.6;0.106;14;27;0.99665;3.44;0.58;10.2;5\n6.5;0.53;0.06;2;0.063;29;44;0.99489;3.38;0.83;10.3;6\n6.9;0.48;0.2;1.9;0.082;9;23;0.99585;3.39;0.43;9.05;4\n6.1;0.32;0.25;2.3;0.071;23;58;0.99633;3.42;0.97;10.6;5\n6.8;0.48;0.25;2;0.076;29;61;0.9953;3.34;0.6;10.4;5\n6;0.42;0.19;2;0.075;22;47;0.99522;3.39;0.78;10;6\n6.7;0.48;0.08;2.1;0.064;18;34;0.99552;3.33;0.64;9.7;5\n6.8;0.47;0.08;2.2;0.064;18;38;0.99553;3.3;0.65;9.6;6\n7.1;0.53;0.07;1.7;0.071;15;24;0.9951;3.29;0.66;10.8;6\n7.9;0.29;0.49;2.2;0.096;21;59;0.99714;3.31;0.67;10.1;6\n7.1;0.69;0.08;2.1;0.063;42;52;0.99608;3.42;0.6;10.2;6\n6.6;0.44;0.09;2.2;0.063;9;18;0.99444;3.42;0.69;11.3;6\n6.1;0.705;0.1;2.8;0.081;13;28;0.99631;3.6;0.66;10.2;5\n7.2;0.53;0.13;2;0.058;18;22;0.99573;3.21;0.68;9.9;6\n8;0.39;0.3;1.9;0.074;32;84;0.99717;3.39;0.61;9;5\n6.6;0.56;0.14;2.4;0.064;13;29;0.99397;3.42;0.62;11.7;7\n7;0.55;0.13;2.2;0.075;15;35;0.9959;3.36;0.59;9.7;6\n6.1;0.53;0.08;1.9;0.077;24;45;0.99528;3.6;0.68;10.3;6\n5.4;0.58;0.08;1.9;0.059;20;31;0.99484;3.5;0.64;10.2;6\n6.2;0.64;0.09;2.5;0.081;15;26;0.99538;3.57;0.63;12;5\n7.2;0.39;0.32;1.8;0.065;34;60;0.99714;3.46;0.78;9.9;5\n6.2;0.52;0.08;4.4;0.071;11;32;0.99646;3.56;0.63;11.6;6\n7.4;0.25;0.29;2.2;0.054;19;49;0.99666;3.4;0.76;10.9;7\n6.7;0.855;0.02;1.9;0.064;29;38;0.99472;3.3;0.56;10.75;6\n11.1;0.44;0.42;2.2;0.064;14;19;0.99758;3.25;0.57;10.4;6\n8.4;0.37;0.43;2.3;0.063;12;19;0.9955;3.17;0.81;11.2;7\n6.5;0.63;0.33;1.8;0.059;16;28;0.99531;3.36;0.64;10.1;6\n7;0.57;0.02;2;0.072;17;26;0.99575;3.36;0.61;10.2;5\n6.3;0.6;0.1;1.6;0.048;12;26;0.99306;3.55;0.51;12.1;5\n11.2;0.4;0.5;2;0.099;19;50;0.99783;3.1;0.58;10.4;5\n7.4;0.36;0.3;1.8;0.074;17;24;0.99419;3.24;0.7;11.4;8\n7.1;0.68;0;2.3;0.087;17;26;0.99783;3.45;0.53;9.5;5\n7.1;0.67;0;2.3;0.083;18;27;0.99768;3.44;0.54;9.4;5\n6.3;0.68;0.01;3.7;0.103;32;54;0.99586;3.51;0.66;11.3;6\n7.3;0.735;0;2.2;0.08;18;28;0.99765;3.41;0.6;9.4;5\n6.6;0.855;0.02;2.4;0.062;15;23;0.99627;3.54;0.6;11;6\n7;0.56;0.17;1.7;0.065;15;24;0.99514;3.44;0.68;10.55;7\n6.6;0.88;0.04;2.2;0.066;12;20;0.99636;3.53;0.56;9.9;5\n6.6;0.855;0.02;2.4;0.062;15;23;0.99627;3.54;0.6;11;6\n6.9;0.63;0.33;6.7;0.235;66;115;0.99787;3.22;0.56;9.5;5\n7.8;0.6;0.26;2;0.08;31;131;0.99622;3.21;0.52;9.9;5\n7.8;0.6;0.26;2;0.08;31;131;0.99622;3.21;0.52;9.9;5\n7.8;0.6;0.26;2;0.08;31;131;0.99622;3.21;0.52;9.9;5\n7.2;0.695;0.13;2;0.076;12;20;0.99546;3.29;0.54;10.1;5\n7.2;0.695;0.13;2;0.076;12;20;0.99546;3.29;0.54;10.1;5\n7.2;0.695;0.13;2;0.076;12;20;0.99546;3.29;0.54;10.1;5\n6.7;0.67;0.02;1.9;0.061;26;42;0.99489;3.39;0.82;10.9;6\n6.7;0.16;0.64;2.1;0.059;24;52;0.99494;3.34;0.71;11.2;6\n7.2;0.695;0.13;2;0.076;12;20;0.99546;3.29;0.54;10.1;5\n7;0.56;0.13;1.6;0.077;25;42;0.99629;3.34;0.59;9.2;5\n6.2;0.51;0.14;1.9;0.056;15;34;0.99396;3.48;0.57;11.5;6\n6.4;0.36;0.53;2.2;0.23;19;35;0.9934;3.37;0.93;12.4;6\n6.4;0.38;0.14;2.2;0.038;15;25;0.99514;3.44;0.65;11.1;6\n7.3;0.69;0.32;2.2;0.069;35;104;0.99632;3.33;0.51;9.5;5\n6;0.58;0.2;2.4;0.075;15;50;0.99467;3.58;0.67;12.5;6\n5.6;0.31;0.78;13.9;0.074;23;92;0.99677;3.39;0.48;10.5;6\n7.5;0.52;0.4;2.2;0.06;12;20;0.99474;3.26;0.64;11.8;6\n8;0.3;0.63;1.6;0.081;16;29;0.99588;3.3;0.78;10.8;6\n6.2;0.7;0.15;5.1;0.076;13;27;0.99622;3.54;0.6;11.9;6\n6.8;0.67;0.15;1.8;0.118;13;20;0.9954;3.42;0.67;11.3;6\n6.2;0.56;0.09;1.7;0.053;24;32;0.99402;3.54;0.6;11.3;5\n7.4;0.35;0.33;2.4;0.068;9;26;0.9947;3.36;0.6;11.9;6\n6.2;0.56;0.09;1.7;0.053;24;32;0.99402;3.54;0.6;11.3;5\n6.1;0.715;0.1;2.6;0.053;13;27;0.99362;3.57;0.5;11.9;5\n6.2;0.46;0.29;2.1;0.074;32;98;0.99578;3.33;0.62;9.8;5\n6.7;0.32;0.44;2.4;0.061;24;34;0.99484;3.29;0.8;11.6;7\n7.2;0.39;0.44;2.6;0.066;22;48;0.99494;3.3;0.84;11.5;6\n7.5;0.31;0.41;2.4;0.065;34;60;0.99492;3.34;0.85;11.4;6\n5.8;0.61;0.11;1.8;0.066;18;28;0.99483;3.55;0.66;10.9;6\n7.2;0.66;0.33;2.5;0.068;34;102;0.99414;3.27;0.78;12.8;6\n6.6;0.725;0.2;7.8;0.073;29;79;0.9977;3.29;0.54;9.2;5\n6.3;0.55;0.15;1.8;0.077;26;35;0.99314;3.32;0.82;11.6;6\n5.4;0.74;0.09;1.7;0.089;16;26;0.99402;3.67;0.56;11.6;6\n6.3;0.51;0.13;2.3;0.076;29;40;0.99574;3.42;0.75;11;6\n6.8;0.62;0.08;1.9;0.068;28;38;0.99651;3.42;0.82;9.5;6\n6.2;0.6;0.08;2;0.09;32;44;0.9949;3.45;0.58;10.5;5\n5.9;0.55;0.1;2.2;0.062;39;51;0.99512;3.52;0.76;11.2;6\n6.3;0.51;0.13;2.3;0.076;29;40;0.99574;3.42;0.75;11;6\n5.9;0.645;0.12;2;0.075;32;44;0.99547;3.57;0.71;10.2;5\n6;0.31;0.47;3.6;0.067;18;42;0.99549;3.39;0.66;11;6\n"
     ]
    }
   ],
   "source": [
    "%sh\n",
    "cat /Volumes/marscat/marsschema/marsdemo_csv_vol/wine-quality/winequality-red.csv"
   ]
  },
  {
   "cell_type": "code",
   "execution_count": 0,
   "metadata": {
    "application/vnd.databricks.v1+cell": {
     "cellMetadata": {
      "byteLimit": 2048000,
      "rowLimit": 10000
     },
     "inputWidgets": {},
     "nuid": "5b661d92-2f5b-493a-8bea-d77838d7a7c8",
     "showTitle": false,
     "tableResultSettingsMap": {},
     "title": ""
    }
   },
   "outputs": [
    {
     "output_type": "stream",
     "name": "stdout",
     "output_type": "stream",
     "text": [
      "Wrote 7 bytes.\n"
     ]
    },
    {
     "output_type": "execute_result",
     "data": {
      "text/plain": [
       "True"
      ]
     },
     "execution_count": 47,
     "metadata": {},
     "output_type": "execute_result"
    }
   ],
   "source": [
    "%python\n",
    "dbutils.fs.put(\"/Volumes/marscat/marsschema/marsdemo_csv_vol/sample/sample_data.csv\",f\"1,2,3,4\",True)"
   ]
  },
  {
   "cell_type": "code",
   "execution_count": 0,
   "metadata": {
    "application/vnd.databricks.v1+cell": {
     "cellMetadata": {
      "byteLimit": 2048000,
      "rowLimit": 10000
     },
     "inputWidgets": {},
     "nuid": "3e818e85-0913-4cf2-b977-985a4a994ad9",
     "showTitle": false,
     "tableResultSettingsMap": {},
     "title": ""
    }
   },
   "outputs": [
    {
     "output_type": "stream",
     "name": "stdout",
     "output_type": "stream",
     "text": [
      "Wrote 7 bytes.\n"
     ]
    },
    {
     "output_type": "execute_result",
     "data": {
      "text/plain": [
       "True"
      ]
     },
     "execution_count": 48,
     "metadata": {},
     "output_type": "execute_result"
    }
   ],
   "source": [
    "%python\n",
    "dbutils.fs.put(\"dbfs:/Volumes/marscat/marsschema/marsdemo_csv_vol/sample/sample_data.csv\",f\"1,2,3,4\",True)"
   ]
  },
  {
   "cell_type": "code",
   "execution_count": 0,
   "metadata": {
    "application/vnd.databricks.v1+cell": {
     "cellMetadata": {
      "byteLimit": 2048000,
      "rowLimit": 10000
     },
     "inputWidgets": {},
     "nuid": "0641b2b1-9929-47db-abf5-3668b817fa57",
     "showTitle": false,
     "tableResultSettingsMap": {},
     "title": ""
    }
   },
   "outputs": [
    {
     "output_type": "display_data",
     "data": {
      "text/html": [
       "<style scoped>\n",
       "  .table-result-container {\n",
       "    max-height: 300px;\n",
       "    overflow: auto;\n",
       "  }\n",
       "  table, th, td {\n",
       "    border: 1px solid black;\n",
       "    border-collapse: collapse;\n",
       "  }\n",
       "  th, td {\n",
       "    padding: 5px;\n",
       "  }\n",
       "  th {\n",
       "    text-align: left;\n",
       "  }\n",
       "</style><div class='table-result-container'><table class='table-result'><thead style='background-color: white'><tr><th>path</th><th>name</th><th>size</th><th>modificationTime</th></tr></thead><tbody><tr><td>dbfs:/Volumes/marscat/marsschema/marsdemo_csv_vol/sample/sample_data.csv</td><td>sample_data.csv</td><td>7</td><td>1743090700000</td></tr></tbody></table></div>"
      ]
     },
     "metadata": {
      "application/vnd.databricks.v1+output": {
       "addedWidgets": {},
       "aggData": [],
       "aggError": "",
       "aggOverflow": false,
       "aggSchema": [],
       "aggSeriesLimitReached": false,
       "aggType": "",
       "arguments": {},
       "columnCustomDisplayInfos": {},
       "data": [
        [
         "dbfs:/Volumes/marscat/marsschema/marsdemo_csv_vol/sample/sample_data.csv",
         "sample_data.csv",
         7,
         1743090700000
        ]
       ],
       "datasetInfos": [],
       "dbfsResultPath": null,
       "isJsonSchema": true,
       "metadata": {},
       "overflow": false,
       "plotOptions": {
        "customPlotOptions": {},
        "displayType": "table",
        "pivotAggregation": null,
        "pivotColumns": null,
        "xColumns": null,
        "yColumns": null
       },
       "removedWidgets": [],
       "schema": [
        {
         "metadata": "{}",
         "name": "path",
         "type": "\"string\""
        },
        {
         "metadata": "{}",
         "name": "name",
         "type": "\"string\""
        },
        {
         "metadata": "{}",
         "name": "size",
         "type": "\"long\""
        },
        {
         "metadata": "{}",
         "name": "modificationTime",
         "type": "\"long\""
        }
       ],
       "type": "table"
      }
     },
     "output_type": "display_data"
    }
   ],
   "source": [
    "%python\n",
    "display(dbutils.fs.ls(\"dbfs:/Volumes/marscat/marsschema/marsdemo_csv_vol/sample/sample_data.csv\"))"
   ]
  },
  {
   "cell_type": "code",
   "execution_count": 0,
   "metadata": {
    "application/vnd.databricks.v1+cell": {
     "cellMetadata": {
      "byteLimit": 2048000,
      "rowLimit": 10000
     },
     "inputWidgets": {},
     "nuid": "1a69d567-9b2f-4968-8875-41993d031f67",
     "showTitle": false,
     "tableResultSettingsMap": {},
     "title": ""
    }
   },
   "outputs": [
    {
     "output_type": "execute_result",
     "data": {
      "text/plain": [
       "'1,2,3,4'"
      ]
     },
     "execution_count": 50,
     "metadata": {},
     "output_type": "execute_result"
    }
   ],
   "source": [
    "%python\n",
    "dbutils.fs.head(\"dbfs:/Volumes/marscat/marsschema/marsdemo_csv_vol/sample/sample_data.csv\")"
   ]
  },
  {
   "cell_type": "code",
   "execution_count": 0,
   "metadata": {
    "application/vnd.databricks.v1+cell": {
     "cellMetadata": {
      "byteLimit": 2048000,
      "rowLimit": 10000
     },
     "inputWidgets": {},
     "nuid": "427be9ba-e411-425f-a04c-7a8009512efe",
     "showTitle": false,
     "tableResultSettingsMap": {},
     "title": ""
    }
   },
   "outputs": [
    {
     "output_type": "stream",
     "name": "stdout",
     "output_type": "stream",
     "text": [
      "1,2,3,4\n"
     ]
    }
   ],
   "source": [
    "%python\n",
    "with open('/Volumes/marscat/marsschema/marsdemo_csv_vol/sample/sample_data.csv', 'r') as file:\n",
    "    data = file.read().rstrip()\n",
    "    print(data)"
   ]
  },
  {
   "cell_type": "code",
   "execution_count": 0,
   "metadata": {
    "application/vnd.databricks.v1+cell": {
     "cellMetadata": {
      "byteLimit": 2048000,
      "rowLimit": 10000
     },
     "inputWidgets": {},
     "nuid": "51752bfc-529e-4874-a118-35ac0531199b",
     "showTitle": true,
     "tableResultSettingsMap": {},
     "title": "Path based access"
    }
   },
   "outputs": [
    {
     "output_type": "display_data",
     "data": {
      "text/html": [
       "<style scoped>\n",
       "  .table-result-container {\n",
       "    max-height: 300px;\n",
       "    overflow: auto;\n",
       "  }\n",
       "  table, th, td {\n",
       "    border: 1px solid black;\n",
       "    border-collapse: collapse;\n",
       "  }\n",
       "  th, td {\n",
       "    padding: 5px;\n",
       "  }\n",
       "  th {\n",
       "    text-align: left;\n",
       "  }\n",
       "</style><div class='table-result-container'><table class='table-result'><thead style='background-color: white'><tr><th>_c0</th><th>_c1</th><th>_c2</th><th>_c3</th></tr></thead><tbody><tr><td>1</td><td>2</td><td>3</td><td>4</td></tr></tbody></table></div>"
      ]
     },
     "metadata": {
      "application/vnd.databricks.v1+output": {
       "addedWidgets": {},
       "aggData": [],
       "aggError": "",
       "aggOverflow": false,
       "aggSchema": [],
       "aggSeriesLimitReached": false,
       "aggType": "",
       "arguments": {},
       "columnCustomDisplayInfos": {},
       "data": [
        [
         "1",
         "2",
         "3",
         "4"
        ]
       ],
       "datasetInfos": [],
       "dbfsResultPath": null,
       "isJsonSchema": true,
       "metadata": {},
       "overflow": false,
       "plotOptions": {
        "customPlotOptions": {},
        "displayType": "table",
        "pivotAggregation": null,
        "pivotColumns": null,
        "xColumns": null,
        "yColumns": null
       },
       "removedWidgets": [],
       "schema": [
        {
         "metadata": "{}",
         "name": "_c0",
         "type": "\"string\""
        },
        {
         "metadata": "{}",
         "name": "_c1",
         "type": "\"string\""
        },
        {
         "metadata": "{}",
         "name": "_c2",
         "type": "\"string\""
        },
        {
         "metadata": "{}",
         "name": "_c3",
         "type": "\"string\""
        }
       ],
       "type": "table"
      }
     },
     "output_type": "display_data"
    }
   ],
   "source": [
    "%python\n",
    "df = spark.read.format(\"csv\").load(\"abfss://dkushari@dkusharistorageaccount.dfs.core.windows.net/marsdemo/csv/volumedemo/sample\")\n",
    "display(df)"
   ]
  },
  {
   "cell_type": "code",
   "execution_count": 0,
   "metadata": {
    "application/vnd.databricks.v1+cell": {
     "cellMetadata": {},
     "inputWidgets": {},
     "nuid": "892e7784-fccd-4f34-a478-cd7c97930ee7",
     "showTitle": true,
     "tableResultSettingsMap": {},
     "title": "Volume based access"
    }
   },
   "outputs": [],
   "source": [
    "%python\n",
    "df = spark.read.format(\"csv\").load(\"/Volumes/marscat/marsschema/marsdemo_csv_vol/sample\")\n",
    "display(df)"
   ]
  }
 ],
 "metadata": {
  "application/vnd.databricks.v1+notebook": {
   "computePreferences": null,
   "dashboards": [],
   "environmentMetadata": null,
   "language": "sql",
   "notebookMetadata": {
    "mostRecentlyExecutedCommandWithImplicitDF": {
     "commandId": 3114756036379763,
     "dataframes": [
      "_sqldf"
     ]
    },
    "pythonIndentUnit": 2
   },
   "notebookName": "Demo with Volume for Mars",
   "widgets": {}
  },
  "language_info": {
   "name": "sql"
  }
 },
 "nbformat": 4,
 "nbformat_minor": 0
}