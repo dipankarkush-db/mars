{
 "cells": [
  {
   "cell_type": "code",
   "execution_count": 0,
   "metadata": {
    "application/vnd.databricks.v1+cell": {
     "cellMetadata": {
      "byteLimit": 2048000,
      "rowLimit": 10000
     },
     "inputWidgets": {},
     "nuid": "faf1fd90-10e2-4618-8323-2c362bba7869",
     "showTitle": false,
     "tableResultSettingsMap": {},
     "title": ""
    }
   },
   "outputs": [
    {
     "output_type": "display_data",
     "data": {
      "text/html": [
       "<style scoped>\n",
       "  .table-result-container {\n",
       "    max-height: 300px;\n",
       "    overflow: auto;\n",
       "  }\n",
       "  table, th, td {\n",
       "    border: 1px solid black;\n",
       "    border-collapse: collapse;\n",
       "  }\n",
       "  th, td {\n",
       "    padding: 5px;\n",
       "  }\n",
       "  th {\n",
       "    text-align: left;\n",
       "  }\n",
       "</style><div class='table-result-container'><table class='table-result'><thead style='background-color: white'><tr></tr></thead><tbody></tbody></table></div>"
      ]
     },
     "metadata": {
      "application/vnd.databricks.v1+output": {
       "addedWidgets": {},
       "aggData": [],
       "aggError": "",
       "aggOverflow": false,
       "aggSchema": [],
       "aggSeriesLimitReached": false,
       "aggType": "",
       "arguments": {},
       "columnCustomDisplayInfos": {},
       "data": [],
       "datasetInfos": [],
       "dbfsResultPath": null,
       "isJsonSchema": true,
       "metadata": {},
       "overflow": false,
       "plotOptions": {
        "customPlotOptions": {},
        "displayType": "table",
        "pivotAggregation": null,
        "pivotColumns": null,
        "xColumns": null,
        "yColumns": null
       },
       "removedWidgets": [],
       "schema": [],
       "type": "table"
      }
     },
     "output_type": "display_data"
    }
   ],
   "source": [
    "drop catalog if exists marscat cascade;\n",
    "create catalog if not exists marscat;\n",
    "create schema if not exists marscat.marsschema;"
   ]
  },
  {
   "cell_type": "code",
   "execution_count": 0,
   "metadata": {
    "application/vnd.databricks.v1+cell": {
     "cellMetadata": {
      "byteLimit": 2048000,
      "rowLimit": 10000
     },
     "inputWidgets": {},
     "nuid": "d22e3d7c-1ae4-4b34-8d27-dcfd8856a23c",
     "showTitle": true,
     "tableResultSettingsMap": {},
     "title": "Data Clean Up"
    }
   },
   "outputs": [
    {
     "output_type": "execute_result",
     "data": {
      "text/plain": [
       "True"
      ]
     },
     "execution_count": 1,
     "metadata": {},
     "output_type": "execute_result"
    }
   ],
   "source": [
    "%python\n",
    "dbutils.fs.rm(\"abfss://dkushari@dkusharistorageaccount.dfs.core.windows.net/marsdemo\", recurse = True)"
   ]
  },
  {
   "cell_type": "code",
   "execution_count": 0,
   "metadata": {
    "application/vnd.databricks.v1+cell": {
     "cellMetadata": {
      "byteLimit": 2048000,
      "rowLimit": 10000
     },
     "inputWidgets": {},
     "nuid": "89fea837-a151-4e49-8ab4-3fc205374709",
     "showTitle": true,
     "tableResultSettingsMap": {},
     "title": "Data Population step"
    }
   },
   "outputs": [
    {
     "output_type": "display_data",
     "data": {
      "text/html": [
       "<style scoped>\n",
       "  .table-result-container {\n",
       "    max-height: 300px;\n",
       "    overflow: auto;\n",
       "  }\n",
       "  table, th, td {\n",
       "    border: 1px solid black;\n",
       "    border-collapse: collapse;\n",
       "  }\n",
       "  th, td {\n",
       "    padding: 5px;\n",
       "  }\n",
       "  th {\n",
       "    text-align: left;\n",
       "  }\n",
       "</style><div class='table-result-container'><table class='table-result'><thead style='background-color: white'><tr></tr></thead><tbody></tbody></table></div>"
      ]
     },
     "metadata": {
      "application/vnd.databricks.v1+output": {
       "addedWidgets": {},
       "aggData": [],
       "aggError": "",
       "aggOverflow": false,
       "aggSchema": [],
       "aggSeriesLimitReached": false,
       "aggType": "",
       "arguments": {},
       "columnCustomDisplayInfos": {},
       "data": [],
       "datasetInfos": [],
       "dbfsResultPath": null,
       "isJsonSchema": true,
       "metadata": {},
       "overflow": false,
       "plotOptions": {
        "customPlotOptions": {},
        "displayType": "table",
        "pivotAggregation": null,
        "pivotColumns": null,
        "xColumns": null,
        "yColumns": null
       },
       "removedWidgets": [],
       "schema": [],
       "type": "table"
      }
     },
     "output_type": "display_data"
    }
   ],
   "source": [
    "create table if not exists marscat.marsschema.test\n",
    "location \"abfss://dkushari@dkusharistorageaccount.dfs.core.windows.net/marsdemo/delta/volumedemo\"\n",
    "as\n",
    "select * from parquet.`dbfs:/databricks-datasets/learning-spark-v2/people/people-10m.parquet/` limit 100;\n",
    "drop table if exists marscat.marsschema.test;\n",
    "create table if not exists marscat.marsschema.test\n",
    "using parquet\n",
    "location \"abfss://dkushari@dkusharistorageaccount.dfs.core.windows.net/marsdemo/parquet/volumedemo\"\n",
    "as\n",
    "select * from parquet.`dbfs:/databricks-datasets/learning-spark-v2/people/people-10m.parquet/` limit 100;\n",
    "drop table if exists marscat.marsschema.test;"
   ]
  },
  {
   "cell_type": "code",
   "execution_count": 0,
   "metadata": {
    "application/vnd.databricks.v1+cell": {
     "cellMetadata": {
      "byteLimit": 2048000,
      "rowLimit": 10000
     },
     "inputWidgets": {},
     "nuid": "27a151f6-5091-4bfd-aaa6-33c79cc918ca",
     "showTitle": false,
     "tableResultSettingsMap": {},
     "title": ""
    }
   },
   "outputs": [
    {
     "output_type": "display_data",
     "data": {
      "text/html": [
       "<style scoped>\n",
       "  .table-result-container {\n",
       "    max-height: 300px;\n",
       "    overflow: auto;\n",
       "  }\n",
       "  table, th, td {\n",
       "    border: 1px solid black;\n",
       "    border-collapse: collapse;\n",
       "  }\n",
       "  th, td {\n",
       "    padding: 5px;\n",
       "  }\n",
       "  th {\n",
       "    text-align: left;\n",
       "  }\n",
       "</style><div class='table-result-container'><table class='table-result'><thead style='background-color: white'><tr></tr></thead><tbody></tbody></table></div>"
      ]
     },
     "metadata": {
      "application/vnd.databricks.v1+output": {
       "addedWidgets": {},
       "aggData": [],
       "aggError": "",
       "aggOverflow": false,
       "aggSchema": [],
       "aggSeriesLimitReached": false,
       "aggType": "",
       "arguments": {},
       "columnCustomDisplayInfos": {},
       "data": [],
       "datasetInfos": [],
       "dbfsResultPath": null,
       "isJsonSchema": true,
       "metadata": {},
       "overflow": false,
       "plotOptions": {
        "customPlotOptions": {},
        "displayType": "table",
        "pivotAggregation": null,
        "pivotColumns": null,
        "xColumns": null,
        "yColumns": null
       },
       "removedWidgets": [],
       "schema": [],
       "type": "table"
      }
     },
     "output_type": "display_data"
    }
   ],
   "source": [
    "drop VOLUME if exists marscat.marsschema.marsdemo_delta_vol;\n",
    "CREATE EXTERNAL VOLUME if not exists  marscat.marsschema.marsdemo_delta_vol\n",
    "LOCATION 'abfss://dkushari@dkusharistorageaccount.dfs.core.windows.net/marsdemo/delta/volumedemo';\n",
    "\n"
   ]
  },
  {
   "cell_type": "code",
   "execution_count": 0,
   "metadata": {
    "application/vnd.databricks.v1+cell": {
     "cellMetadata": {},
     "inputWidgets": {},
     "nuid": "48bc57ce-f53d-4b53-a9bc-5d0f933a6358",
     "showTitle": false,
     "tableResultSettingsMap": {},
     "title": ""
    }
   },
   "outputs": [],
   "source": [
    "drop VOLUME if exists marscat.marsschema.marsdemo_parquet_vol;\n",
    "CREATE EXTERNAL VOLUME if not exists  marscat.marsschema.marsdemo_parquet_vol\n",
    "LOCATION 'abfss://dkushari@dkusharistorageaccount.dfs.core.windows.net/marsdemo/parquet/volumedemo';"
   ]
  },
  {
   "cell_type": "code",
   "execution_count": 0,
   "metadata": {
    "application/vnd.databricks.v1+cell": {
     "cellMetadata": {
      "byteLimit": 2048000,
      "rowLimit": 10000
     },
     "inputWidgets": {},
     "nuid": "3320959a-4a1e-4fb3-8052-b538ec55d5c9",
     "showTitle": true,
     "tableResultSettingsMap": {},
     "title": "Describe existing Volume"
    }
   },
   "outputs": [
    {
     "output_type": "display_data",
     "data": {
      "text/html": [
       "<style scoped>\n",
       "  .table-result-container {\n",
       "    max-height: 300px;\n",
       "    overflow: auto;\n",
       "  }\n",
       "  table, th, td {\n",
       "    border: 1px solid black;\n",
       "    border-collapse: collapse;\n",
       "  }\n",
       "  th, td {\n",
       "    padding: 5px;\n",
       "  }\n",
       "  th {\n",
       "    text-align: left;\n",
       "  }\n",
       "</style><div class='table-result-container'><table class='table-result'><thead style='background-color: white'><tr><th>name</th><th>catalog</th><th>database</th><th>owner</th><th>storage_location</th><th>volume_type</th><th>comment</th><th>securable_type</th><th>securable_kind</th></tr></thead><tbody><tr><td>marsdemo_delta_vol</td><td>marscat</td><td>marsschema</td><td>dipankar.kushari@databricks.com</td><td>abfss://dkushari@dkusharistorageaccount.dfs.core.windows.net/marsdemo/delta/volumedemo</td><td>EXTERNAL</td><td>null</td><td>VOLUME</td><td>VOLUME_EXTERNAL</td></tr></tbody></table></div>"
      ]
     },
     "metadata": {
      "application/vnd.databricks.v1+output": {
       "addedWidgets": {},
       "aggData": [],
       "aggError": "",
       "aggOverflow": false,
       "aggSchema": [],
       "aggSeriesLimitReached": false,
       "aggType": "",
       "arguments": {},
       "columnCustomDisplayInfos": {},
       "data": [
        [
         "marsdemo_delta_vol",
         "marscat",
         "marsschema",
         "dipankar.kushari@databricks.com",
         "abfss://dkushari@dkusharistorageaccount.dfs.core.windows.net/marsdemo/delta/volumedemo",
         "EXTERNAL",
         null,
         "VOLUME",
         "VOLUME_EXTERNAL"
        ]
       ],
       "datasetInfos": [],
       "dbfsResultPath": null,
       "isJsonSchema": true,
       "metadata": {},
       "overflow": false,
       "plotOptions": {
        "customPlotOptions": {},
        "displayType": "table",
        "pivotAggregation": null,
        "pivotColumns": null,
        "xColumns": null,
        "yColumns": null
       },
       "removedWidgets": [],
       "schema": [
        {
         "metadata": "{}",
         "name": "name",
         "type": "\"string\""
        },
        {
         "metadata": "{}",
         "name": "catalog",
         "type": "\"string\""
        },
        {
         "metadata": "{}",
         "name": "database",
         "type": "\"string\""
        },
        {
         "metadata": "{}",
         "name": "owner",
         "type": "\"string\""
        },
        {
         "metadata": "{}",
         "name": "storage_location",
         "type": "\"string\""
        },
        {
         "metadata": "{}",
         "name": "volume_type",
         "type": "\"string\""
        },
        {
         "metadata": "{}",
         "name": "comment",
         "type": "\"string\""
        },
        {
         "metadata": "{}",
         "name": "securable_type",
         "type": "\"string\""
        },
        {
         "metadata": "{}",
         "name": "securable_kind",
         "type": "\"string\""
        }
       ],
       "type": "table"
      }
     },
     "output_type": "display_data"
    }
   ],
   "source": [
    "describe volume marscat.marsschema.marsdemo_delta_vol;"
   ]
  },
  {
   "cell_type": "code",
   "execution_count": 0,
   "metadata": {
    "application/vnd.databricks.v1+cell": {
     "cellMetadata": {
      "byteLimit": 2048000,
      "rowLimit": 10000
     },
     "inputWidgets": {},
     "nuid": "6bcc1576-1760-4e08-a586-aabc7f44f629",
     "showTitle": false,
     "tableResultSettingsMap": {},
     "title": ""
    }
   },
   "outputs": [
    {
     "output_type": "display_data",
     "data": {
      "text/html": [
       "<style scoped>\n",
       "  .table-result-container {\n",
       "    max-height: 300px;\n",
       "    overflow: auto;\n",
       "  }\n",
       "  table, th, td {\n",
       "    border: 1px solid black;\n",
       "    border-collapse: collapse;\n",
       "  }\n",
       "  th, td {\n",
       "    padding: 5px;\n",
       "  }\n",
       "  th {\n",
       "    text-align: left;\n",
       "  }\n",
       "</style><div class='table-result-container'><table class='table-result'><thead style='background-color: white'><tr><th>name</th><th>catalog</th><th>database</th><th>owner</th><th>storage_location</th><th>volume_type</th><th>comment</th><th>securable_type</th><th>securable_kind</th></tr></thead><tbody><tr><td>marsdemo_parquet_vol</td><td>marscat</td><td>marsschema</td><td>dipankar.kushari@databricks.com</td><td>abfss://dkushari@dkusharistorageaccount.dfs.core.windows.net/marsdemo/parquet/volumedemo</td><td>EXTERNAL</td><td>null</td><td>VOLUME</td><td>VOLUME_EXTERNAL</td></tr></tbody></table></div>"
      ]
     },
     "metadata": {
      "application/vnd.databricks.v1+output": {
       "addedWidgets": {},
       "aggData": [],
       "aggError": "",
       "aggOverflow": false,
       "aggSchema": [],
       "aggSeriesLimitReached": false,
       "aggType": "",
       "arguments": {},
       "columnCustomDisplayInfos": {},
       "data": [
        [
         "marsdemo_parquet_vol",
         "marscat",
         "marsschema",
         "dipankar.kushari@databricks.com",
         "abfss://dkushari@dkusharistorageaccount.dfs.core.windows.net/marsdemo/parquet/volumedemo",
         "EXTERNAL",
         null,
         "VOLUME",
         "VOLUME_EXTERNAL"
        ]
       ],
       "datasetInfos": [],
       "dbfsResultPath": null,
       "isJsonSchema": true,
       "metadata": {},
       "overflow": false,
       "plotOptions": {
        "customPlotOptions": {},
        "displayType": "table",
        "pivotAggregation": null,
        "pivotColumns": null,
        "xColumns": null,
        "yColumns": null
       },
       "removedWidgets": [],
       "schema": [
        {
         "metadata": "{}",
         "name": "name",
         "type": "\"string\""
        },
        {
         "metadata": "{}",
         "name": "catalog",
         "type": "\"string\""
        },
        {
         "metadata": "{}",
         "name": "database",
         "type": "\"string\""
        },
        {
         "metadata": "{}",
         "name": "owner",
         "type": "\"string\""
        },
        {
         "metadata": "{}",
         "name": "storage_location",
         "type": "\"string\""
        },
        {
         "metadata": "{}",
         "name": "volume_type",
         "type": "\"string\""
        },
        {
         "metadata": "{}",
         "name": "comment",
         "type": "\"string\""
        },
        {
         "metadata": "{}",
         "name": "securable_type",
         "type": "\"string\""
        },
        {
         "metadata": "{}",
         "name": "securable_kind",
         "type": "\"string\""
        }
       ],
       "type": "table"
      }
     },
     "output_type": "display_data"
    }
   ],
   "source": [
    "describe volume marscat.marsschema.marsdemo_parquet_vol;"
   ]
  },
  {
   "cell_type": "code",
   "execution_count": 0,
   "metadata": {
    "application/vnd.databricks.v1+cell": {
     "cellMetadata": {
      "byteLimit": 2048000,
      "rowLimit": 10000
     },
     "inputWidgets": {},
     "nuid": "20930331-5da2-47c1-9581-85b3afca7d33",
     "showTitle": false,
     "tableResultSettingsMap": {},
     "title": ""
    }
   },
   "outputs": [
    {
     "output_type": "display_data",
     "data": {
      "text/html": [
       "<style scoped>\n",
       "  .table-result-container {\n",
       "    max-height: 300px;\n",
       "    overflow: auto;\n",
       "  }\n",
       "  table, th, td {\n",
       "    border: 1px solid black;\n",
       "    border-collapse: collapse;\n",
       "  }\n",
       "  th, td {\n",
       "    padding: 5px;\n",
       "  }\n",
       "  th {\n",
       "    text-align: left;\n",
       "  }\n",
       "</style><div class='table-result-container'><table class='table-result'><thead style='background-color: white'><tr><th>database</th><th>volume_name</th></tr></thead><tbody><tr><td>marsschema</td><td>marsdemo_delta_vol</td></tr><tr><td>marsschema</td><td>marsdemo_parquet_vol</td></tr></tbody></table></div>"
      ]
     },
     "metadata": {
      "application/vnd.databricks.v1+output": {
       "addedWidgets": {},
       "aggData": [],
       "aggError": "",
       "aggOverflow": false,
       "aggSchema": [],
       "aggSeriesLimitReached": false,
       "aggType": "",
       "arguments": {},
       "columnCustomDisplayInfos": {},
       "data": [
        [
         "marsschema",
         "marsdemo_delta_vol"
        ],
        [
         "marsschema",
         "marsdemo_parquet_vol"
        ]
       ],
       "datasetInfos": [],
       "dbfsResultPath": null,
       "isJsonSchema": true,
       "metadata": {},
       "overflow": false,
       "plotOptions": {
        "customPlotOptions": {},
        "displayType": "table",
        "pivotAggregation": null,
        "pivotColumns": null,
        "xColumns": null,
        "yColumns": null
       },
       "removedWidgets": [],
       "schema": [
        {
         "metadata": "{}",
         "name": "database",
         "type": "\"string\""
        },
        {
         "metadata": "{}",
         "name": "volume_name",
         "type": "\"string\""
        }
       ],
       "type": "table"
      }
     },
     "output_type": "display_data"
    }
   ],
   "source": [
    "SHOW VOLUMES IN marscat.marsschema;"
   ]
  },
  {
   "cell_type": "code",
   "execution_count": 0,
   "metadata": {
    "application/vnd.databricks.v1+cell": {
     "cellMetadata": {
      "byteLimit": 2048000,
      "rowLimit": 10000
     },
     "inputWidgets": {},
     "nuid": "8d008f64-2b6f-4e64-8f08-239f72cc0a9c",
     "showTitle": true,
     "tableResultSettingsMap": {},
     "title": "Describe External Location"
    }
   },
   "outputs": [
    {
     "output_type": "display_data",
     "data": {
      "text/html": [
       "<style scoped>\n",
       "  .table-result-container {\n",
       "    max-height: 300px;\n",
       "    overflow: auto;\n",
       "  }\n",
       "  table, th, td {\n",
       "    border: 1px solid black;\n",
       "    border-collapse: collapse;\n",
       "  }\n",
       "  th, td {\n",
       "    padding: 5px;\n",
       "  }\n",
       "  th {\n",
       "    text-align: left;\n",
       "  }\n",
       "</style><div class='table-result-container'><table class='table-result'><thead style='background-color: white'><tr><th>name</th><th>url</th><th>credential_name</th><th>owner</th><th>created_by</th><th>created_at</th><th>comment</th></tr></thead><tbody><tr><td>dkushari-ext-loc-1</td><td>abfss://dkushari@dkusharistorageaccount.dfs.core.windows.net/</td><td>dkushari-cred</td><td>dipankar.kushari@databricks.com</td><td>dipankar.kushari@databricks.com</td><td>2025-03-03T18:03:04.461Z</td><td>null</td></tr></tbody></table></div>"
      ]
     },
     "metadata": {
      "application/vnd.databricks.v1+output": {
       "addedWidgets": {},
       "aggData": [],
       "aggError": "",
       "aggOverflow": false,
       "aggSchema": [],
       "aggSeriesLimitReached": false,
       "aggType": "",
       "arguments": {},
       "columnCustomDisplayInfos": {},
       "data": [
        [
         "dkushari-ext-loc-1",
         "abfss://dkushari@dkusharistorageaccount.dfs.core.windows.net/",
         "dkushari-cred",
         "dipankar.kushari@databricks.com",
         "dipankar.kushari@databricks.com",
         "2025-03-03T18:03:04.461Z",
         null
        ]
       ],
       "datasetInfos": [],
       "dbfsResultPath": null,
       "isJsonSchema": true,
       "metadata": {},
       "overflow": false,
       "plotOptions": {
        "customPlotOptions": {},
        "displayType": "table",
        "pivotAggregation": null,
        "pivotColumns": null,
        "xColumns": null,
        "yColumns": null
       },
       "removedWidgets": [],
       "schema": [
        {
         "metadata": "{}",
         "name": "name",
         "type": "\"string\""
        },
        {
         "metadata": "{}",
         "name": "url",
         "type": "\"string\""
        },
        {
         "metadata": "{}",
         "name": "credential_name",
         "type": "\"string\""
        },
        {
         "metadata": "{}",
         "name": "owner",
         "type": "\"string\""
        },
        {
         "metadata": "{}",
         "name": "created_by",
         "type": "\"string\""
        },
        {
         "metadata": "{}",
         "name": "created_at",
         "type": "\"timestamp\""
        },
        {
         "metadata": "{}",
         "name": "comment",
         "type": "\"string\""
        }
       ],
       "type": "table"
      }
     },
     "output_type": "display_data"
    }
   ],
   "source": [
    "DESCRIBE EXTERNAL LOCATION `dkushari-ext-loc-1`;"
   ]
  },
  {
   "cell_type": "code",
   "execution_count": 0,
   "metadata": {
    "application/vnd.databricks.v1+cell": {
     "cellMetadata": {
      "byteLimit": 2048000,
      "rowLimit": 10000
     },
     "inputWidgets": {},
     "nuid": "ad0f6f94-9ae0-4933-bacb-6372a3ecac35",
     "showTitle": true,
     "tableResultSettingsMap": {},
     "title": "Access Volume Data Various Ways - Databricks file system utilities"
    }
   },
   "outputs": [
    {
     "output_type": "display_data",
     "data": {
      "text/html": [
       "<style scoped>\n",
       "  .table-result-container {\n",
       "    max-height: 300px;\n",
       "    overflow: auto;\n",
       "  }\n",
       "  table, th, td {\n",
       "    border: 1px solid black;\n",
       "    border-collapse: collapse;\n",
       "  }\n",
       "  th, td {\n",
       "    padding: 5px;\n",
       "  }\n",
       "  th {\n",
       "    text-align: left;\n",
       "  }\n",
       "</style><div class='table-result-container'><table class='table-result'><thead style='background-color: white'><tr><th>path</th><th>name</th><th>size</th><th>modificationTime</th></tr></thead><tbody><tr><td>dbfs:/Volumes/marscat/marsschema/marsdemo_delta_vol/_delta_log/</td><td>_delta_log/</td><td>0</td><td>1743088714000</td></tr><tr><td>dbfs:/Volumes/marscat/marsschema/marsdemo_delta_vol/part-00000-24a8d6a0-75a6-41a4-ba07-a3bd30850232.c000.snappy.parquet</td><td>part-00000-24a8d6a0-75a6-41a4-ba07-a3bd30850232.c000.snappy.parquet</td><td>7041</td><td>1743088717000</td></tr></tbody></table></div>"
      ]
     },
     "metadata": {
      "application/vnd.databricks.v1+output": {
       "addedWidgets": {},
       "aggData": [],
       "aggError": "",
       "aggOverflow": false,
       "aggSchema": [],
       "aggSeriesLimitReached": false,
       "aggType": "",
       "arguments": {},
       "columnCustomDisplayInfos": {},
       "data": [
        [
         "dbfs:/Volumes/marscat/marsschema/marsdemo_delta_vol/_delta_log/",
         "_delta_log/",
         0,
         1743088714000
        ],
        [
         "dbfs:/Volumes/marscat/marsschema/marsdemo_delta_vol/part-00000-24a8d6a0-75a6-41a4-ba07-a3bd30850232.c000.snappy.parquet",
         "part-00000-24a8d6a0-75a6-41a4-ba07-a3bd30850232.c000.snappy.parquet",
         7041,
         1743088717000
        ]
       ],
       "datasetInfos": [],
       "dbfsResultPath": null,
       "isJsonSchema": true,
       "metadata": {},
       "overflow": false,
       "plotOptions": {
        "customPlotOptions": {},
        "displayType": "table",
        "pivotAggregation": null,
        "pivotColumns": null,
        "xColumns": null,
        "yColumns": null
       },
       "removedWidgets": [],
       "schema": [
        {
         "metadata": "{}",
         "name": "path",
         "type": "\"string\""
        },
        {
         "metadata": "{}",
         "name": "name",
         "type": "\"string\""
        },
        {
         "metadata": "{}",
         "name": "size",
         "type": "\"long\""
        },
        {
         "metadata": "{}",
         "name": "modificationTime",
         "type": "\"long\""
        }
       ],
       "type": "table"
      }
     },
     "output_type": "display_data"
    }
   ],
   "source": [
    "%python\n",
    "display(dbutils.fs.ls(\"/Volumes/marscat/marsschema/marsdemo_delta_vol\"))"
   ]
  },
  {
   "cell_type": "code",
   "execution_count": 0,
   "metadata": {
    "application/vnd.databricks.v1+cell": {
     "cellMetadata": {
      "byteLimit": 2048000,
      "rowLimit": 10000
     },
     "inputWidgets": {},
     "nuid": "726d7eab-4eca-466d-8213-52348f916fbb",
     "showTitle": false,
     "tableResultSettingsMap": {},
     "title": ""
    }
   },
   "outputs": [
    {
     "output_type": "display_data",
     "data": {
      "text/html": [
       "<style scoped>\n",
       "  .table-result-container {\n",
       "    max-height: 300px;\n",
       "    overflow: auto;\n",
       "  }\n",
       "  table, th, td {\n",
       "    border: 1px solid black;\n",
       "    border-collapse: collapse;\n",
       "  }\n",
       "  th, td {\n",
       "    padding: 5px;\n",
       "  }\n",
       "  th {\n",
       "    text-align: left;\n",
       "  }\n",
       "</style><div class='table-result-container'><table class='table-result'><thead style='background-color: white'><tr><th>path</th><th>name</th><th>size</th><th>modificationTime</th></tr></thead><tbody><tr><td>dbfs:/Volumes/marscat/marsschema/marsdemo_parquet_vol/_SUCCESS</td><td>_SUCCESS</td><td>0</td><td>1743088726000</td></tr><tr><td>dbfs:/Volumes/marscat/marsschema/marsdemo_parquet_vol/_committed_5608140467555080913</td><td>_committed_5608140467555080913</td><td>125</td><td>1743088725000</td></tr><tr><td>dbfs:/Volumes/marscat/marsschema/marsdemo_parquet_vol/_started_5608140467555080913</td><td>_started_5608140467555080913</td><td>0</td><td>1743088724000</td></tr><tr><td>dbfs:/Volumes/marscat/marsschema/marsdemo_parquet_vol/part-00000-tid-5608140467555080913-5489f993-204f-497b-b3b4-1a308da4ed65-2950-1.c000.snappy.parquet</td><td>part-00000-tid-5608140467555080913-5489f993-204f-497b-b3b4-1a308da4ed65-2950-1.c000.snappy.parquet</td><td>7041</td><td>1743088725000</td></tr></tbody></table></div>"
      ]
     },
     "metadata": {
      "application/vnd.databricks.v1+output": {
       "addedWidgets": {},
       "aggData": [],
       "aggError": "",
       "aggOverflow": false,
       "aggSchema": [],
       "aggSeriesLimitReached": false,
       "aggType": "",
       "arguments": {},
       "columnCustomDisplayInfos": {},
       "data": [
        [
         "dbfs:/Volumes/marscat/marsschema/marsdemo_parquet_vol/_SUCCESS",
         "_SUCCESS",
         0,
         1743088726000
        ],
        [
         "dbfs:/Volumes/marscat/marsschema/marsdemo_parquet_vol/_committed_5608140467555080913",
         "_committed_5608140467555080913",
         125,
         1743088725000
        ],
        [
         "dbfs:/Volumes/marscat/marsschema/marsdemo_parquet_vol/_started_5608140467555080913",
         "_started_5608140467555080913",
         0,
         1743088724000
        ],
        [
         "dbfs:/Volumes/marscat/marsschema/marsdemo_parquet_vol/part-00000-tid-5608140467555080913-5489f993-204f-497b-b3b4-1a308da4ed65-2950-1.c000.snappy.parquet",
         "part-00000-tid-5608140467555080913-5489f993-204f-497b-b3b4-1a308da4ed65-2950-1.c000.snappy.parquet",
         7041,
         1743088725000
        ]
       ],
       "datasetInfos": [],
       "dbfsResultPath": null,
       "isJsonSchema": true,
       "metadata": {},
       "overflow": false,
       "plotOptions": {
        "customPlotOptions": {},
        "displayType": "table",
        "pivotAggregation": null,
        "pivotColumns": null,
        "xColumns": null,
        "yColumns": null
       },
       "removedWidgets": [],
       "schema": [
        {
         "metadata": "{}",
         "name": "path",
         "type": "\"string\""
        },
        {
         "metadata": "{}",
         "name": "name",
         "type": "\"string\""
        },
        {
         "metadata": "{}",
         "name": "size",
         "type": "\"long\""
        },
        {
         "metadata": "{}",
         "name": "modificationTime",
         "type": "\"long\""
        }
       ],
       "type": "table"
      }
     },
     "output_type": "display_data"
    }
   ],
   "source": [
    "%python\n",
    "display(dbutils.fs.ls(\"/Volumes/marscat/marsschema/marsdemo_parquet_vol\"))"
   ]
  },
  {
   "cell_type": "code",
   "execution_count": 0,
   "metadata": {
    "application/vnd.databricks.v1+cell": {
     "cellMetadata": {
      "byteLimit": 2048000,
      "rowLimit": 10000
     },
     "inputWidgets": {},
     "nuid": "2e271235-8c06-422c-9736-c641297d17dc",
     "showTitle": false,
     "tableResultSettingsMap": {},
     "title": ""
    }
   },
   "outputs": [
    {
     "output_type": "display_data",
     "data": {
      "text/html": [
       "<style scoped>\n",
       "  .table-result-container {\n",
       "    max-height: 300px;\n",
       "    overflow: auto;\n",
       "  }\n",
       "  table, th, td {\n",
       "    border: 1px solid black;\n",
       "    border-collapse: collapse;\n",
       "  }\n",
       "  th, td {\n",
       "    padding: 5px;\n",
       "  }\n",
       "  th {\n",
       "    text-align: left;\n",
       "  }\n",
       "</style><div class='table-result-container'><table class='table-result'><thead style='background-color: white'><tr><th>path</th><th>name</th><th>size</th><th>modificationTime</th></tr></thead><tbody><tr><td>dbfs:/Volumes/marscat/marsschema/marsdemo_parquet_vol/_SUCCESS</td><td>_SUCCESS</td><td>0</td><td>1743088726000</td></tr><tr><td>dbfs:/Volumes/marscat/marsschema/marsdemo_parquet_vol/_committed_5608140467555080913</td><td>_committed_5608140467555080913</td><td>125</td><td>1743088725000</td></tr><tr><td>dbfs:/Volumes/marscat/marsschema/marsdemo_parquet_vol/_started_5608140467555080913</td><td>_started_5608140467555080913</td><td>0</td><td>1743088724000</td></tr><tr><td>dbfs:/Volumes/marscat/marsschema/marsdemo_parquet_vol/part-00000-tid-5608140467555080913-5489f993-204f-497b-b3b4-1a308da4ed65-2950-1.c000.snappy.parquet</td><td>part-00000-tid-5608140467555080913-5489f993-204f-497b-b3b4-1a308da4ed65-2950-1.c000.snappy.parquet</td><td>7041</td><td>1743088725000</td></tr></tbody></table></div>"
      ]
     },
     "metadata": {
      "application/vnd.databricks.v1+output": {
       "addedWidgets": {},
       "aggData": [],
       "aggError": "",
       "aggOverflow": false,
       "aggSchema": [],
       "aggSeriesLimitReached": false,
       "aggType": "",
       "arguments": {},
       "columnCustomDisplayInfos": {},
       "data": [
        [
         "dbfs:/Volumes/marscat/marsschema/marsdemo_parquet_vol/_SUCCESS",
         "_SUCCESS",
         0,
         1743088726000
        ],
        [
         "dbfs:/Volumes/marscat/marsschema/marsdemo_parquet_vol/_committed_5608140467555080913",
         "_committed_5608140467555080913",
         125,
         1743088725000
        ],
        [
         "dbfs:/Volumes/marscat/marsschema/marsdemo_parquet_vol/_started_5608140467555080913",
         "_started_5608140467555080913",
         0,
         1743088724000
        ],
        [
         "dbfs:/Volumes/marscat/marsschema/marsdemo_parquet_vol/part-00000-tid-5608140467555080913-5489f993-204f-497b-b3b4-1a308da4ed65-2950-1.c000.snappy.parquet",
         "part-00000-tid-5608140467555080913-5489f993-204f-497b-b3b4-1a308da4ed65-2950-1.c000.snappy.parquet",
         7041,
         1743088725000
        ]
       ],
       "datasetInfos": [],
       "dbfsResultPath": null,
       "isJsonSchema": true,
       "metadata": {},
       "overflow": false,
       "plotOptions": {
        "customPlotOptions": {},
        "displayType": "table",
        "pivotAggregation": null,
        "pivotColumns": null,
        "xColumns": null,
        "yColumns": null
       },
       "removedWidgets": [],
       "schema": [
        {
         "metadata": "{}",
         "name": "path",
         "type": "\"string\""
        },
        {
         "metadata": "{}",
         "name": "name",
         "type": "\"string\""
        },
        {
         "metadata": "{}",
         "name": "size",
         "type": "\"long\""
        },
        {
         "metadata": "{}",
         "name": "modificationTime",
         "type": "\"long\""
        }
       ],
       "type": "table"
      }
     },
     "output_type": "display_data"
    }
   ],
   "source": [
    "%fs ls /Volumes/marscat/marsschema/marsdemo_parquet_vol"
   ]
  },
  {
   "cell_type": "code",
   "execution_count": 0,
   "metadata": {
    "application/vnd.databricks.v1+cell": {
     "cellMetadata": {
      "byteLimit": 2048000,
      "rowLimit": 10000
     },
     "inputWidgets": {},
     "nuid": "97425710-2b10-4650-a527-b4748d176253",
     "showTitle": false,
     "tableResultSettingsMap": {},
     "title": ""
    }
   },
   "outputs": [
    {
     "output_type": "display_data",
     "data": {
      "text/html": [
       "<style scoped>\n",
       "  .table-result-container {\n",
       "    max-height: 300px;\n",
       "    overflow: auto;\n",
       "  }\n",
       "  table, th, td {\n",
       "    border: 1px solid black;\n",
       "    border-collapse: collapse;\n",
       "  }\n",
       "  th, td {\n",
       "    padding: 5px;\n",
       "  }\n",
       "  th {\n",
       "    text-align: left;\n",
       "  }\n",
       "</style><div class='table-result-container'><table class='table-result'><thead style='background-color: white'><tr><th>path</th><th>name</th><th>size</th><th>modificationTime</th></tr></thead><tbody><tr><td>dbfs:/Volumes/marscat/marsschema/marsdemo_delta_vol/_delta_log/</td><td>_delta_log/</td><td>0</td><td>1743088714000</td></tr><tr><td>dbfs:/Volumes/marscat/marsschema/marsdemo_delta_vol/part-00000-24a8d6a0-75a6-41a4-ba07-a3bd30850232.c000.snappy.parquet</td><td>part-00000-24a8d6a0-75a6-41a4-ba07-a3bd30850232.c000.snappy.parquet</td><td>7041</td><td>1743088717000</td></tr></tbody></table></div>"
      ]
     },
     "metadata": {
      "application/vnd.databricks.v1+output": {
       "addedWidgets": {},
       "aggData": [],
       "aggError": "",
       "aggOverflow": false,
       "aggSchema": [],
       "aggSeriesLimitReached": false,
       "aggType": "",
       "arguments": {},
       "columnCustomDisplayInfos": {},
       "data": [
        [
         "dbfs:/Volumes/marscat/marsschema/marsdemo_delta_vol/_delta_log/",
         "_delta_log/",
         0,
         1743088714000
        ],
        [
         "dbfs:/Volumes/marscat/marsschema/marsdemo_delta_vol/part-00000-24a8d6a0-75a6-41a4-ba07-a3bd30850232.c000.snappy.parquet",
         "part-00000-24a8d6a0-75a6-41a4-ba07-a3bd30850232.c000.snappy.parquet",
         7041,
         1743088717000
        ]
       ],
       "datasetInfos": [],
       "dbfsResultPath": null,
       "isJsonSchema": true,
       "metadata": {},
       "overflow": false,
       "plotOptions": {
        "customPlotOptions": {},
        "displayType": "table",
        "pivotAggregation": null,
        "pivotColumns": null,
        "xColumns": null,
        "yColumns": null
       },
       "removedWidgets": [],
       "schema": [
        {
         "metadata": "{}",
         "name": "path",
         "type": "\"string\""
        },
        {
         "metadata": "{}",
         "name": "name",
         "type": "\"string\""
        },
        {
         "metadata": "{}",
         "name": "size",
         "type": "\"long\""
        },
        {
         "metadata": "{}",
         "name": "modificationTime",
         "type": "\"long\""
        }
       ],
       "type": "table"
      }
     },
     "output_type": "display_data"
    }
   ],
   "source": [
    "%fs ls /Volumes/marscat/marsschema/marsdemo_delta_vol"
   ]
  },
  {
   "cell_type": "code",
   "execution_count": 0,
   "metadata": {
    "application/vnd.databricks.v1+cell": {
     "cellMetadata": {
      "byteLimit": 2048000,
      "rowLimit": 10000
     },
     "inputWidgets": {},
     "nuid": "cd30fc9e-bd44-4148-a3ae-97ec8d75d4dd",
     "showTitle": true,
     "tableResultSettingsMap": {},
     "title": "Access Volume Data Various Ways - Apache Spark™ APIs"
    }
   },
   "outputs": [
    {
     "output_type": "display_data",
     "data": {
      "text/html": [
       "<style scoped>\n",
       "  .table-result-container {\n",
       "    max-height: 300px;\n",
       "    overflow: auto;\n",
       "  }\n",
       "  table, th, td {\n",
       "    border: 1px solid black;\n",
       "    border-collapse: collapse;\n",
       "  }\n",
       "  th, td {\n",
       "    padding: 5px;\n",
       "  }\n",
       "  th {\n",
       "    text-align: left;\n",
       "  }\n",
       "</style><div class='table-result-container'><table class='table-result'><thead style='background-color: white'><tr><th>id</th><th>firstName</th><th>middleName</th><th>lastName</th><th>gender</th><th>birthDate</th><th>ssn</th><th>salary</th></tr></thead><tbody><tr><td>1</td><td>Pennie</td><td>Carry</td><td>Hirschmann</td><td>F</td><td>1955-07-02T04:00:00Z</td><td>981-43-9345</td><td>56172</td></tr><tr><td>2</td><td>An</td><td>Amira</td><td>Cowper</td><td>F</td><td>1992-02-08T05:00:00Z</td><td>978-97-8086</td><td>40203</td></tr><tr><td>3</td><td>Quyen</td><td>Marlen</td><td>Dome</td><td>F</td><td>1970-10-11T04:00:00Z</td><td>957-57-8246</td><td>53417</td></tr><tr><td>4</td><td>Coralie</td><td>Antonina</td><td>Marshal</td><td>F</td><td>1990-04-11T04:00:00Z</td><td>963-39-4885</td><td>94727</td></tr><tr><td>5</td><td>Terrie</td><td>Wava</td><td>Bonar</td><td>F</td><td>1980-01-16T05:00:00Z</td><td>964-49-8051</td><td>79908</td></tr><tr><td>6</td><td>Chassidy</td><td>Concepcion</td><td>Bourthouloume</td><td>F</td><td>1990-11-24T05:00:00Z</td><td>954-59-9172</td><td>64652</td></tr><tr><td>7</td><td>Geri</td><td>Tambra</td><td>Mosby</td><td>F</td><td>1970-12-19T05:00:00Z</td><td>968-16-4020</td><td>38195</td></tr><tr><td>8</td><td>Patria</td><td>Nancy</td><td>Arstall</td><td>F</td><td>1985-01-02T05:00:00Z</td><td>984-76-3770</td><td>102053</td></tr><tr><td>9</td><td>Terese</td><td>Alfredia</td><td>Tocque</td><td>F</td><td>1967-11-17T05:00:00Z</td><td>967-48-7309</td><td>91294</td></tr><tr><td>10</td><td>Wava</td><td>Lyndsey</td><td>Jeandon</td><td>F</td><td>1963-12-30T05:00:00Z</td><td>997-82-2946</td><td>56521</td></tr></tbody></table></div>"
      ]
     },
     "metadata": {
      "application/vnd.databricks.v1+output": {
       "addedWidgets": {},
       "aggData": [],
       "aggError": "",
       "aggOverflow": false,
       "aggSchema": [],
       "aggSeriesLimitReached": false,
       "aggType": "",
       "arguments": {},
       "columnCustomDisplayInfos": {},
       "data": [
        [
         1,
         "Pennie",
         "Carry",
         "Hirschmann",
         "F",
         "1955-07-02T04:00:00Z",
         "981-43-9345",
         56172
        ],
        [
         2,
         "An",
         "Amira",
         "Cowper",
         "F",
         "1992-02-08T05:00:00Z",
         "978-97-8086",
         40203
        ],
        [
         3,
         "Quyen",
         "Marlen",
         "Dome",
         "F",
         "1970-10-11T04:00:00Z",
         "957-57-8246",
         53417
        ],
        [
         4,
         "Coralie",
         "Antonina",
         "Marshal",
         "F",
         "1990-04-11T04:00:00Z",
         "963-39-4885",
         94727
        ],
        [
         5,
         "Terrie",
         "Wava",
         "Bonar",
         "F",
         "1980-01-16T05:00:00Z",
         "964-49-8051",
         79908
        ],
        [
         6,
         "Chassidy",
         "Concepcion",
         "Bourthouloume",
         "F",
         "1990-11-24T05:00:00Z",
         "954-59-9172",
         64652
        ],
        [
         7,
         "Geri",
         "Tambra",
         "Mosby",
         "F",
         "1970-12-19T05:00:00Z",
         "968-16-4020",
         38195
        ],
        [
         8,
         "Patria",
         "Nancy",
         "Arstall",
         "F",
         "1985-01-02T05:00:00Z",
         "984-76-3770",
         102053
        ],
        [
         9,
         "Terese",
         "Alfredia",
         "Tocque",
         "F",
         "1967-11-17T05:00:00Z",
         "967-48-7309",
         91294
        ],
        [
         10,
         "Wava",
         "Lyndsey",
         "Jeandon",
         "F",
         "1963-12-30T05:00:00Z",
         "997-82-2946",
         56521
        ]
       ],
       "datasetInfos": [],
       "dbfsResultPath": null,
       "isJsonSchema": true,
       "metadata": {},
       "overflow": false,
       "plotOptions": {
        "customPlotOptions": {},
        "displayType": "table",
        "pivotAggregation": null,
        "pivotColumns": null,
        "xColumns": null,
        "yColumns": null
       },
       "removedWidgets": [],
       "schema": [
        {
         "metadata": "{}",
         "name": "id",
         "type": "\"integer\""
        },
        {
         "metadata": "{}",
         "name": "firstName",
         "type": "\"string\""
        },
        {
         "metadata": "{}",
         "name": "middleName",
         "type": "\"string\""
        },
        {
         "metadata": "{}",
         "name": "lastName",
         "type": "\"string\""
        },
        {
         "metadata": "{}",
         "name": "gender",
         "type": "\"string\""
        },
        {
         "metadata": "{}",
         "name": "birthDate",
         "type": "\"timestamp\""
        },
        {
         "metadata": "{}",
         "name": "ssn",
         "type": "\"string\""
        },
        {
         "metadata": "{}",
         "name": "salary",
         "type": "\"integer\""
        }
       ],
       "type": "table"
      }
     },
     "output_type": "display_data"
    }
   ],
   "source": [
    "%python\n",
    "display(spark.read.load(\"/Volumes/marscat/marsschema/marsdemo_delta_vol\").limit(10))"
   ]
  },
  {
   "cell_type": "code",
   "execution_count": 0,
   "metadata": {
    "application/vnd.databricks.v1+cell": {
     "cellMetadata": {
      "byteLimit": 2048000,
      "rowLimit": 10000
     },
     "inputWidgets": {},
     "nuid": "fc1c27fc-e532-4e55-a34f-3288231fb2bb",
     "showTitle": true,
     "tableResultSettingsMap": {},
     "title": "Apache Spark™ APIs - \"dbfs:\" works as well"
    }
   },
   "outputs": [
    {
     "output_type": "display_data",
     "data": {
      "text/html": [
       "<style scoped>\n",
       "  .table-result-container {\n",
       "    max-height: 300px;\n",
       "    overflow: auto;\n",
       "  }\n",
       "  table, th, td {\n",
       "    border: 1px solid black;\n",
       "    border-collapse: collapse;\n",
       "  }\n",
       "  th, td {\n",
       "    padding: 5px;\n",
       "  }\n",
       "  th {\n",
       "    text-align: left;\n",
       "  }\n",
       "</style><div class='table-result-container'><table class='table-result'><thead style='background-color: white'><tr><th>id</th><th>firstName</th><th>middleName</th><th>lastName</th><th>gender</th><th>birthDate</th><th>ssn</th><th>salary</th></tr></thead><tbody><tr><td>1</td><td>Pennie</td><td>Carry</td><td>Hirschmann</td><td>F</td><td>1955-07-02T04:00:00Z</td><td>981-43-9345</td><td>56172</td></tr><tr><td>2</td><td>An</td><td>Amira</td><td>Cowper</td><td>F</td><td>1992-02-08T05:00:00Z</td><td>978-97-8086</td><td>40203</td></tr><tr><td>3</td><td>Quyen</td><td>Marlen</td><td>Dome</td><td>F</td><td>1970-10-11T04:00:00Z</td><td>957-57-8246</td><td>53417</td></tr><tr><td>4</td><td>Coralie</td><td>Antonina</td><td>Marshal</td><td>F</td><td>1990-04-11T04:00:00Z</td><td>963-39-4885</td><td>94727</td></tr><tr><td>5</td><td>Terrie</td><td>Wava</td><td>Bonar</td><td>F</td><td>1980-01-16T05:00:00Z</td><td>964-49-8051</td><td>79908</td></tr><tr><td>6</td><td>Chassidy</td><td>Concepcion</td><td>Bourthouloume</td><td>F</td><td>1990-11-24T05:00:00Z</td><td>954-59-9172</td><td>64652</td></tr><tr><td>7</td><td>Geri</td><td>Tambra</td><td>Mosby</td><td>F</td><td>1970-12-19T05:00:00Z</td><td>968-16-4020</td><td>38195</td></tr><tr><td>8</td><td>Patria</td><td>Nancy</td><td>Arstall</td><td>F</td><td>1985-01-02T05:00:00Z</td><td>984-76-3770</td><td>102053</td></tr><tr><td>9</td><td>Terese</td><td>Alfredia</td><td>Tocque</td><td>F</td><td>1967-11-17T05:00:00Z</td><td>967-48-7309</td><td>91294</td></tr><tr><td>10</td><td>Wava</td><td>Lyndsey</td><td>Jeandon</td><td>F</td><td>1963-12-30T05:00:00Z</td><td>997-82-2946</td><td>56521</td></tr></tbody></table></div>"
      ]
     },
     "metadata": {
      "application/vnd.databricks.v1+output": {
       "addedWidgets": {},
       "aggData": [],
       "aggError": "",
       "aggOverflow": false,
       "aggSchema": [],
       "aggSeriesLimitReached": false,
       "aggType": "",
       "arguments": {},
       "columnCustomDisplayInfos": {},
       "data": [
        [
         1,
         "Pennie",
         "Carry",
         "Hirschmann",
         "F",
         "1955-07-02T04:00:00Z",
         "981-43-9345",
         56172
        ],
        [
         2,
         "An",
         "Amira",
         "Cowper",
         "F",
         "1992-02-08T05:00:00Z",
         "978-97-8086",
         40203
        ],
        [
         3,
         "Quyen",
         "Marlen",
         "Dome",
         "F",
         "1970-10-11T04:00:00Z",
         "957-57-8246",
         53417
        ],
        [
         4,
         "Coralie",
         "Antonina",
         "Marshal",
         "F",
         "1990-04-11T04:00:00Z",
         "963-39-4885",
         94727
        ],
        [
         5,
         "Terrie",
         "Wava",
         "Bonar",
         "F",
         "1980-01-16T05:00:00Z",
         "964-49-8051",
         79908
        ],
        [
         6,
         "Chassidy",
         "Concepcion",
         "Bourthouloume",
         "F",
         "1990-11-24T05:00:00Z",
         "954-59-9172",
         64652
        ],
        [
         7,
         "Geri",
         "Tambra",
         "Mosby",
         "F",
         "1970-12-19T05:00:00Z",
         "968-16-4020",
         38195
        ],
        [
         8,
         "Patria",
         "Nancy",
         "Arstall",
         "F",
         "1985-01-02T05:00:00Z",
         "984-76-3770",
         102053
        ],
        [
         9,
         "Terese",
         "Alfredia",
         "Tocque",
         "F",
         "1967-11-17T05:00:00Z",
         "967-48-7309",
         91294
        ],
        [
         10,
         "Wava",
         "Lyndsey",
         "Jeandon",
         "F",
         "1963-12-30T05:00:00Z",
         "997-82-2946",
         56521
        ]
       ],
       "datasetInfos": [],
       "dbfsResultPath": null,
       "isJsonSchema": true,
       "metadata": {},
       "overflow": false,
       "plotOptions": {
        "customPlotOptions": {},
        "displayType": "table",
        "pivotAggregation": null,
        "pivotColumns": null,
        "xColumns": null,
        "yColumns": null
       },
       "removedWidgets": [],
       "schema": [
        {
         "metadata": "{}",
         "name": "id",
         "type": "\"integer\""
        },
        {
         "metadata": "{}",
         "name": "firstName",
         "type": "\"string\""
        },
        {
         "metadata": "{}",
         "name": "middleName",
         "type": "\"string\""
        },
        {
         "metadata": "{}",
         "name": "lastName",
         "type": "\"string\""
        },
        {
         "metadata": "{}",
         "name": "gender",
         "type": "\"string\""
        },
        {
         "metadata": "{}",
         "name": "birthDate",
         "type": "\"timestamp\""
        },
        {
         "metadata": "{}",
         "name": "ssn",
         "type": "\"string\""
        },
        {
         "metadata": "{}",
         "name": "salary",
         "type": "\"integer\""
        }
       ],
       "type": "table"
      }
     },
     "output_type": "display_data"
    }
   ],
   "source": [
    "%python\n",
    "display(spark.read.load(\"dbfs:/Volumes/marscat/marsschema/marsdemo_delta_vol\").limit(10))"
   ]
  },
  {
   "cell_type": "code",
   "execution_count": 0,
   "metadata": {
    "application/vnd.databricks.v1+cell": {
     "cellMetadata": {
      "byteLimit": 2048000,
      "rowLimit": 10000
     },
     "inputWidgets": {},
     "nuid": "91dea8bf-b93e-45dd-9940-bad9d0e4710d",
     "showTitle": true,
     "tableResultSettingsMap": {},
     "title": "Access Volume Data Various Ways - File URI"
    }
   },
   "outputs": [
    {
     "output_type": "display_data",
     "data": {
      "text/html": [
       "<style scoped>\n",
       "  .table-result-container {\n",
       "    max-height: 300px;\n",
       "    overflow: auto;\n",
       "  }\n",
       "  table, th, td {\n",
       "    border: 1px solid black;\n",
       "    border-collapse: collapse;\n",
       "  }\n",
       "  th, td {\n",
       "    padding: 5px;\n",
       "  }\n",
       "  th {\n",
       "    text-align: left;\n",
       "  }\n",
       "</style><div class='table-result-container'><table class='table-result'><thead style='background-color: white'><tr><th>id</th><th>firstName</th><th>middleName</th><th>lastName</th><th>gender</th><th>birthDate</th><th>ssn</th><th>salary</th></tr></thead><tbody><tr><td>1</td><td>Pennie</td><td>Carry</td><td>Hirschmann</td><td>F</td><td>1955-07-02T04:00:00Z</td><td>981-43-9345</td><td>56172</td></tr><tr><td>2</td><td>An</td><td>Amira</td><td>Cowper</td><td>F</td><td>1992-02-08T05:00:00Z</td><td>978-97-8086</td><td>40203</td></tr><tr><td>3</td><td>Quyen</td><td>Marlen</td><td>Dome</td><td>F</td><td>1970-10-11T04:00:00Z</td><td>957-57-8246</td><td>53417</td></tr><tr><td>4</td><td>Coralie</td><td>Antonina</td><td>Marshal</td><td>F</td><td>1990-04-11T04:00:00Z</td><td>963-39-4885</td><td>94727</td></tr><tr><td>5</td><td>Terrie</td><td>Wava</td><td>Bonar</td><td>F</td><td>1980-01-16T05:00:00Z</td><td>964-49-8051</td><td>79908</td></tr><tr><td>6</td><td>Chassidy</td><td>Concepcion</td><td>Bourthouloume</td><td>F</td><td>1990-11-24T05:00:00Z</td><td>954-59-9172</td><td>64652</td></tr><tr><td>7</td><td>Geri</td><td>Tambra</td><td>Mosby</td><td>F</td><td>1970-12-19T05:00:00Z</td><td>968-16-4020</td><td>38195</td></tr><tr><td>8</td><td>Patria</td><td>Nancy</td><td>Arstall</td><td>F</td><td>1985-01-02T05:00:00Z</td><td>984-76-3770</td><td>102053</td></tr><tr><td>9</td><td>Terese</td><td>Alfredia</td><td>Tocque</td><td>F</td><td>1967-11-17T05:00:00Z</td><td>967-48-7309</td><td>91294</td></tr><tr><td>10</td><td>Wava</td><td>Lyndsey</td><td>Jeandon</td><td>F</td><td>1963-12-30T05:00:00Z</td><td>997-82-2946</td><td>56521</td></tr></tbody></table></div>"
      ]
     },
     "metadata": {
      "application/vnd.databricks.v1+output": {
       "addedWidgets": {},
       "aggData": [],
       "aggError": "",
       "aggOverflow": false,
       "aggSchema": [],
       "aggSeriesLimitReached": false,
       "aggType": "",
       "arguments": {},
       "columnCustomDisplayInfos": {},
       "data": [
        [
         1,
         "Pennie",
         "Carry",
         "Hirschmann",
         "F",
         "1955-07-02T04:00:00Z",
         "981-43-9345",
         56172
        ],
        [
         2,
         "An",
         "Amira",
         "Cowper",
         "F",
         "1992-02-08T05:00:00Z",
         "978-97-8086",
         40203
        ],
        [
         3,
         "Quyen",
         "Marlen",
         "Dome",
         "F",
         "1970-10-11T04:00:00Z",
         "957-57-8246",
         53417
        ],
        [
         4,
         "Coralie",
         "Antonina",
         "Marshal",
         "F",
         "1990-04-11T04:00:00Z",
         "963-39-4885",
         94727
        ],
        [
         5,
         "Terrie",
         "Wava",
         "Bonar",
         "F",
         "1980-01-16T05:00:00Z",
         "964-49-8051",
         79908
        ],
        [
         6,
         "Chassidy",
         "Concepcion",
         "Bourthouloume",
         "F",
         "1990-11-24T05:00:00Z",
         "954-59-9172",
         64652
        ],
        [
         7,
         "Geri",
         "Tambra",
         "Mosby",
         "F",
         "1970-12-19T05:00:00Z",
         "968-16-4020",
         38195
        ],
        [
         8,
         "Patria",
         "Nancy",
         "Arstall",
         "F",
         "1985-01-02T05:00:00Z",
         "984-76-3770",
         102053
        ],
        [
         9,
         "Terese",
         "Alfredia",
         "Tocque",
         "F",
         "1967-11-17T05:00:00Z",
         "967-48-7309",
         91294
        ],
        [
         10,
         "Wava",
         "Lyndsey",
         "Jeandon",
         "F",
         "1963-12-30T05:00:00Z",
         "997-82-2946",
         56521
        ]
       ],
       "datasetInfos": [],
       "dbfsResultPath": null,
       "isJsonSchema": true,
       "metadata": {},
       "overflow": false,
       "plotOptions": {
        "customPlotOptions": {},
        "displayType": "table",
        "pivotAggregation": null,
        "pivotColumns": null,
        "xColumns": null,
        "yColumns": null
       },
       "removedWidgets": [],
       "schema": [
        {
         "metadata": "{}",
         "name": "id",
         "type": "\"integer\""
        },
        {
         "metadata": "{}",
         "name": "firstName",
         "type": "\"string\""
        },
        {
         "metadata": "{}",
         "name": "middleName",
         "type": "\"string\""
        },
        {
         "metadata": "{}",
         "name": "lastName",
         "type": "\"string\""
        },
        {
         "metadata": "{}",
         "name": "gender",
         "type": "\"string\""
        },
        {
         "metadata": "{}",
         "name": "birthDate",
         "type": "\"timestamp\""
        },
        {
         "metadata": "{}",
         "name": "ssn",
         "type": "\"string\""
        },
        {
         "metadata": "{}",
         "name": "salary",
         "type": "\"integer\""
        }
       ],
       "type": "table"
      }
     },
     "output_type": "display_data"
    }
   ],
   "source": [
    "%python\n",
    "display(spark.read.load(\"abfss://dkushari@dkusharistorageaccount.dfs.core.windows.net/marsdemo/delta/volumedemo\").limit(10))"
   ]
  },
  {
   "cell_type": "code",
   "execution_count": 0,
   "metadata": {
    "application/vnd.databricks.v1+cell": {
     "cellMetadata": {
      "byteLimit": 2048000,
      "rowLimit": 10000
     },
     "inputWidgets": {},
     "nuid": "0c6bbebf-eb00-4ba5-b990-3db4751bb7d2",
     "showTitle": true,
     "tableResultSettingsMap": {},
     "title": "Access Volume Data Various Ways - Apache Spark™ SQL / DBSQL"
    }
   },
   "outputs": [
    {
     "output_type": "display_data",
     "data": {
      "text/html": [
       "<style scoped>\n",
       "  .table-result-container {\n",
       "    max-height: 300px;\n",
       "    overflow: auto;\n",
       "  }\n",
       "  table, th, td {\n",
       "    border: 1px solid black;\n",
       "    border-collapse: collapse;\n",
       "  }\n",
       "  th, td {\n",
       "    padding: 5px;\n",
       "  }\n",
       "  th {\n",
       "    text-align: left;\n",
       "  }\n",
       "</style><div class='table-result-container'><table class='table-result'><thead style='background-color: white'><tr><th>id</th><th>firstName</th><th>middleName</th><th>lastName</th><th>gender</th><th>birthDate</th><th>ssn</th><th>salary</th></tr></thead><tbody><tr><td>1</td><td>Pennie</td><td>Carry</td><td>Hirschmann</td><td>F</td><td>1955-07-02T04:00:00Z</td><td>981-43-9345</td><td>56172</td></tr><tr><td>2</td><td>An</td><td>Amira</td><td>Cowper</td><td>F</td><td>1992-02-08T05:00:00Z</td><td>978-97-8086</td><td>40203</td></tr><tr><td>3</td><td>Quyen</td><td>Marlen</td><td>Dome</td><td>F</td><td>1970-10-11T04:00:00Z</td><td>957-57-8246</td><td>53417</td></tr><tr><td>4</td><td>Coralie</td><td>Antonina</td><td>Marshal</td><td>F</td><td>1990-04-11T04:00:00Z</td><td>963-39-4885</td><td>94727</td></tr><tr><td>5</td><td>Terrie</td><td>Wava</td><td>Bonar</td><td>F</td><td>1980-01-16T05:00:00Z</td><td>964-49-8051</td><td>79908</td></tr><tr><td>6</td><td>Chassidy</td><td>Concepcion</td><td>Bourthouloume</td><td>F</td><td>1990-11-24T05:00:00Z</td><td>954-59-9172</td><td>64652</td></tr><tr><td>7</td><td>Geri</td><td>Tambra</td><td>Mosby</td><td>F</td><td>1970-12-19T05:00:00Z</td><td>968-16-4020</td><td>38195</td></tr><tr><td>8</td><td>Patria</td><td>Nancy</td><td>Arstall</td><td>F</td><td>1985-01-02T05:00:00Z</td><td>984-76-3770</td><td>102053</td></tr><tr><td>9</td><td>Terese</td><td>Alfredia</td><td>Tocque</td><td>F</td><td>1967-11-17T05:00:00Z</td><td>967-48-7309</td><td>91294</td></tr><tr><td>10</td><td>Wava</td><td>Lyndsey</td><td>Jeandon</td><td>F</td><td>1963-12-30T05:00:00Z</td><td>997-82-2946</td><td>56521</td></tr></tbody></table></div>"
      ]
     },
     "metadata": {
      "application/vnd.databricks.v1+output": {
       "addedWidgets": {},
       "aggData": [],
       "aggError": "",
       "aggOverflow": false,
       "aggSchema": [],
       "aggSeriesLimitReached": false,
       "aggType": "",
       "arguments": {},
       "columnCustomDisplayInfos": {},
       "data": [
        [
         1,
         "Pennie",
         "Carry",
         "Hirschmann",
         "F",
         "1955-07-02T04:00:00Z",
         "981-43-9345",
         56172
        ],
        [
         2,
         "An",
         "Amira",
         "Cowper",
         "F",
         "1992-02-08T05:00:00Z",
         "978-97-8086",
         40203
        ],
        [
         3,
         "Quyen",
         "Marlen",
         "Dome",
         "F",
         "1970-10-11T04:00:00Z",
         "957-57-8246",
         53417
        ],
        [
         4,
         "Coralie",
         "Antonina",
         "Marshal",
         "F",
         "1990-04-11T04:00:00Z",
         "963-39-4885",
         94727
        ],
        [
         5,
         "Terrie",
         "Wava",
         "Bonar",
         "F",
         "1980-01-16T05:00:00Z",
         "964-49-8051",
         79908
        ],
        [
         6,
         "Chassidy",
         "Concepcion",
         "Bourthouloume",
         "F",
         "1990-11-24T05:00:00Z",
         "954-59-9172",
         64652
        ],
        [
         7,
         "Geri",
         "Tambra",
         "Mosby",
         "F",
         "1970-12-19T05:00:00Z",
         "968-16-4020",
         38195
        ],
        [
         8,
         "Patria",
         "Nancy",
         "Arstall",
         "F",
         "1985-01-02T05:00:00Z",
         "984-76-3770",
         102053
        ],
        [
         9,
         "Terese",
         "Alfredia",
         "Tocque",
         "F",
         "1967-11-17T05:00:00Z",
         "967-48-7309",
         91294
        ],
        [
         10,
         "Wava",
         "Lyndsey",
         "Jeandon",
         "F",
         "1963-12-30T05:00:00Z",
         "997-82-2946",
         56521
        ]
       ],
       "datasetInfos": [],
       "dbfsResultPath": null,
       "isJsonSchema": true,
       "metadata": {},
       "overflow": false,
       "plotOptions": {
        "customPlotOptions": {},
        "displayType": "table",
        "pivotAggregation": null,
        "pivotColumns": null,
        "xColumns": null,
        "yColumns": null
       },
       "removedWidgets": [],
       "schema": [
        {
         "metadata": "{}",
         "name": "id",
         "type": "\"integer\""
        },
        {
         "metadata": "{}",
         "name": "firstName",
         "type": "\"string\""
        },
        {
         "metadata": "{}",
         "name": "middleName",
         "type": "\"string\""
        },
        {
         "metadata": "{}",
         "name": "lastName",
         "type": "\"string\""
        },
        {
         "metadata": "{}",
         "name": "gender",
         "type": "\"string\""
        },
        {
         "metadata": "{}",
         "name": "birthDate",
         "type": "\"timestamp\""
        },
        {
         "metadata": "{}",
         "name": "ssn",
         "type": "\"string\""
        },
        {
         "metadata": "{}",
         "name": "salary",
         "type": "\"integer\""
        }
       ],
       "type": "table"
      }
     },
     "output_type": "display_data"
    }
   ],
   "source": [
    "select * from parquet.`/Volumes/marscat/marsschema/marsdemo_parquet_vol` limit 10;"
   ]
  },
  {
   "cell_type": "code",
   "execution_count": 0,
   "metadata": {
    "application/vnd.databricks.v1+cell": {
     "cellMetadata": {
      "byteLimit": 2048000,
      "rowLimit": 10000
     },
     "inputWidgets": {},
     "nuid": "b4481f72-b983-4c72-a6dc-0c1e0baddd1b",
     "showTitle": false,
     "tableResultSettingsMap": {},
     "title": ""
    }
   },
   "outputs": [
    {
     "output_type": "display_data",
     "data": {
      "text/html": [
       "<style scoped>\n",
       "  .table-result-container {\n",
       "    max-height: 300px;\n",
       "    overflow: auto;\n",
       "  }\n",
       "  table, th, td {\n",
       "    border: 1px solid black;\n",
       "    border-collapse: collapse;\n",
       "  }\n",
       "  th, td {\n",
       "    padding: 5px;\n",
       "  }\n",
       "  th {\n",
       "    text-align: left;\n",
       "  }\n",
       "</style><div class='table-result-container'><table class='table-result'><thead style='background-color: white'><tr><th>id</th><th>firstName</th><th>middleName</th><th>lastName</th><th>gender</th><th>birthDate</th><th>ssn</th><th>salary</th></tr></thead><tbody><tr><td>1</td><td>Pennie</td><td>Carry</td><td>Hirschmann</td><td>F</td><td>1955-07-02T04:00:00Z</td><td>981-43-9345</td><td>56172</td></tr><tr><td>2</td><td>An</td><td>Amira</td><td>Cowper</td><td>F</td><td>1992-02-08T05:00:00Z</td><td>978-97-8086</td><td>40203</td></tr><tr><td>3</td><td>Quyen</td><td>Marlen</td><td>Dome</td><td>F</td><td>1970-10-11T04:00:00Z</td><td>957-57-8246</td><td>53417</td></tr><tr><td>4</td><td>Coralie</td><td>Antonina</td><td>Marshal</td><td>F</td><td>1990-04-11T04:00:00Z</td><td>963-39-4885</td><td>94727</td></tr><tr><td>5</td><td>Terrie</td><td>Wava</td><td>Bonar</td><td>F</td><td>1980-01-16T05:00:00Z</td><td>964-49-8051</td><td>79908</td></tr><tr><td>6</td><td>Chassidy</td><td>Concepcion</td><td>Bourthouloume</td><td>F</td><td>1990-11-24T05:00:00Z</td><td>954-59-9172</td><td>64652</td></tr><tr><td>7</td><td>Geri</td><td>Tambra</td><td>Mosby</td><td>F</td><td>1970-12-19T05:00:00Z</td><td>968-16-4020</td><td>38195</td></tr><tr><td>8</td><td>Patria</td><td>Nancy</td><td>Arstall</td><td>F</td><td>1985-01-02T05:00:00Z</td><td>984-76-3770</td><td>102053</td></tr><tr><td>9</td><td>Terese</td><td>Alfredia</td><td>Tocque</td><td>F</td><td>1967-11-17T05:00:00Z</td><td>967-48-7309</td><td>91294</td></tr><tr><td>10</td><td>Wava</td><td>Lyndsey</td><td>Jeandon</td><td>F</td><td>1963-12-30T05:00:00Z</td><td>997-82-2946</td><td>56521</td></tr></tbody></table></div>"
      ]
     },
     "metadata": {
      "application/vnd.databricks.v1+output": {
       "addedWidgets": {},
       "aggData": [],
       "aggError": "",
       "aggOverflow": false,
       "aggSchema": [],
       "aggSeriesLimitReached": false,
       "aggType": "",
       "arguments": {},
       "columnCustomDisplayInfos": {},
       "data": [
        [
         1,
         "Pennie",
         "Carry",
         "Hirschmann",
         "F",
         "1955-07-02T04:00:00Z",
         "981-43-9345",
         56172
        ],
        [
         2,
         "An",
         "Amira",
         "Cowper",
         "F",
         "1992-02-08T05:00:00Z",
         "978-97-8086",
         40203
        ],
        [
         3,
         "Quyen",
         "Marlen",
         "Dome",
         "F",
         "1970-10-11T04:00:00Z",
         "957-57-8246",
         53417
        ],
        [
         4,
         "Coralie",
         "Antonina",
         "Marshal",
         "F",
         "1990-04-11T04:00:00Z",
         "963-39-4885",
         94727
        ],
        [
         5,
         "Terrie",
         "Wava",
         "Bonar",
         "F",
         "1980-01-16T05:00:00Z",
         "964-49-8051",
         79908
        ],
        [
         6,
         "Chassidy",
         "Concepcion",
         "Bourthouloume",
         "F",
         "1990-11-24T05:00:00Z",
         "954-59-9172",
         64652
        ],
        [
         7,
         "Geri",
         "Tambra",
         "Mosby",
         "F",
         "1970-12-19T05:00:00Z",
         "968-16-4020",
         38195
        ],
        [
         8,
         "Patria",
         "Nancy",
         "Arstall",
         "F",
         "1985-01-02T05:00:00Z",
         "984-76-3770",
         102053
        ],
        [
         9,
         "Terese",
         "Alfredia",
         "Tocque",
         "F",
         "1967-11-17T05:00:00Z",
         "967-48-7309",
         91294
        ],
        [
         10,
         "Wava",
         "Lyndsey",
         "Jeandon",
         "F",
         "1963-12-30T05:00:00Z",
         "997-82-2946",
         56521
        ]
       ],
       "datasetInfos": [],
       "dbfsResultPath": null,
       "isJsonSchema": true,
       "metadata": {},
       "overflow": false,
       "plotOptions": {
        "customPlotOptions": {},
        "displayType": "table",
        "pivotAggregation": null,
        "pivotColumns": null,
        "xColumns": null,
        "yColumns": null
       },
       "removedWidgets": [],
       "schema": [
        {
         "metadata": "{}",
         "name": "id",
         "type": "\"integer\""
        },
        {
         "metadata": "{}",
         "name": "firstName",
         "type": "\"string\""
        },
        {
         "metadata": "{}",
         "name": "middleName",
         "type": "\"string\""
        },
        {
         "metadata": "{}",
         "name": "lastName",
         "type": "\"string\""
        },
        {
         "metadata": "{}",
         "name": "gender",
         "type": "\"string\""
        },
        {
         "metadata": "{}",
         "name": "birthDate",
         "type": "\"timestamp\""
        },
        {
         "metadata": "{}",
         "name": "ssn",
         "type": "\"string\""
        },
        {
         "metadata": "{}",
         "name": "salary",
         "type": "\"integer\""
        }
       ],
       "type": "table"
      }
     },
     "output_type": "display_data"
    }
   ],
   "source": [
    "%python\n",
    "display(spark.sql(\"select * from delta.`/Volumes/marscat/marsschema/marsdemo_delta_vol` limit 10;\"))"
   ]
  },
  {
   "cell_type": "code",
   "execution_count": 0,
   "metadata": {
    "application/vnd.databricks.v1+cell": {
     "cellMetadata": {
      "byteLimit": 2048000,
      "rowLimit": 10000
     },
     "inputWidgets": {},
     "nuid": "55f7af32-393c-47d4-aedc-75132a1a9f87",
     "showTitle": false,
     "tableResultSettingsMap": {},
     "title": ""
    }
   },
   "outputs": [
    {
     "output_type": "display_data",
     "data": {
      "text/html": [
       "<style scoped>\n",
       "  .table-result-container {\n",
       "    max-height: 300px;\n",
       "    overflow: auto;\n",
       "  }\n",
       "  table, th, td {\n",
       "    border: 1px solid black;\n",
       "    border-collapse: collapse;\n",
       "  }\n",
       "  th, td {\n",
       "    padding: 5px;\n",
       "  }\n",
       "  th {\n",
       "    text-align: left;\n",
       "  }\n",
       "</style><div class='table-result-container'><table class='table-result'><thead style='background-color: white'><tr><th>id</th><th>firstName</th><th>middleName</th><th>lastName</th><th>gender</th><th>birthDate</th><th>ssn</th><th>salary</th></tr></thead><tbody><tr><td>1</td><td>Pennie</td><td>Carry</td><td>Hirschmann</td><td>F</td><td>1955-07-02T04:00:00Z</td><td>981-43-9345</td><td>56172</td></tr><tr><td>2</td><td>An</td><td>Amira</td><td>Cowper</td><td>F</td><td>1992-02-08T05:00:00Z</td><td>978-97-8086</td><td>40203</td></tr><tr><td>3</td><td>Quyen</td><td>Marlen</td><td>Dome</td><td>F</td><td>1970-10-11T04:00:00Z</td><td>957-57-8246</td><td>53417</td></tr><tr><td>4</td><td>Coralie</td><td>Antonina</td><td>Marshal</td><td>F</td><td>1990-04-11T04:00:00Z</td><td>963-39-4885</td><td>94727</td></tr><tr><td>5</td><td>Terrie</td><td>Wava</td><td>Bonar</td><td>F</td><td>1980-01-16T05:00:00Z</td><td>964-49-8051</td><td>79908</td></tr><tr><td>6</td><td>Chassidy</td><td>Concepcion</td><td>Bourthouloume</td><td>F</td><td>1990-11-24T05:00:00Z</td><td>954-59-9172</td><td>64652</td></tr><tr><td>7</td><td>Geri</td><td>Tambra</td><td>Mosby</td><td>F</td><td>1970-12-19T05:00:00Z</td><td>968-16-4020</td><td>38195</td></tr><tr><td>8</td><td>Patria</td><td>Nancy</td><td>Arstall</td><td>F</td><td>1985-01-02T05:00:00Z</td><td>984-76-3770</td><td>102053</td></tr><tr><td>9</td><td>Terese</td><td>Alfredia</td><td>Tocque</td><td>F</td><td>1967-11-17T05:00:00Z</td><td>967-48-7309</td><td>91294</td></tr><tr><td>10</td><td>Wava</td><td>Lyndsey</td><td>Jeandon</td><td>F</td><td>1963-12-30T05:00:00Z</td><td>997-82-2946</td><td>56521</td></tr></tbody></table></div>"
      ]
     },
     "metadata": {
      "application/vnd.databricks.v1+output": {
       "addedWidgets": {},
       "aggData": [],
       "aggError": "",
       "aggOverflow": false,
       "aggSchema": [],
       "aggSeriesLimitReached": false,
       "aggType": "",
       "arguments": {},
       "columnCustomDisplayInfos": {},
       "data": [
        [
         1,
         "Pennie",
         "Carry",
         "Hirschmann",
         "F",
         "1955-07-02T04:00:00Z",
         "981-43-9345",
         56172
        ],
        [
         2,
         "An",
         "Amira",
         "Cowper",
         "F",
         "1992-02-08T05:00:00Z",
         "978-97-8086",
         40203
        ],
        [
         3,
         "Quyen",
         "Marlen",
         "Dome",
         "F",
         "1970-10-11T04:00:00Z",
         "957-57-8246",
         53417
        ],
        [
         4,
         "Coralie",
         "Antonina",
         "Marshal",
         "F",
         "1990-04-11T04:00:00Z",
         "963-39-4885",
         94727
        ],
        [
         5,
         "Terrie",
         "Wava",
         "Bonar",
         "F",
         "1980-01-16T05:00:00Z",
         "964-49-8051",
         79908
        ],
        [
         6,
         "Chassidy",
         "Concepcion",
         "Bourthouloume",
         "F",
         "1990-11-24T05:00:00Z",
         "954-59-9172",
         64652
        ],
        [
         7,
         "Geri",
         "Tambra",
         "Mosby",
         "F",
         "1970-12-19T05:00:00Z",
         "968-16-4020",
         38195
        ],
        [
         8,
         "Patria",
         "Nancy",
         "Arstall",
         "F",
         "1985-01-02T05:00:00Z",
         "984-76-3770",
         102053
        ],
        [
         9,
         "Terese",
         "Alfredia",
         "Tocque",
         "F",
         "1967-11-17T05:00:00Z",
         "967-48-7309",
         91294
        ],
        [
         10,
         "Wava",
         "Lyndsey",
         "Jeandon",
         "F",
         "1963-12-30T05:00:00Z",
         "997-82-2946",
         56521
        ]
       ],
       "datasetInfos": [],
       "dbfsResultPath": null,
       "isJsonSchema": true,
       "metadata": {},
       "overflow": false,
       "plotOptions": {
        "customPlotOptions": {},
        "displayType": "table",
        "pivotAggregation": null,
        "pivotColumns": null,
        "xColumns": null,
        "yColumns": null
       },
       "removedWidgets": [],
       "schema": [
        {
         "metadata": "{}",
         "name": "id",
         "type": "\"integer\""
        },
        {
         "metadata": "{}",
         "name": "firstName",
         "type": "\"string\""
        },
        {
         "metadata": "{}",
         "name": "middleName",
         "type": "\"string\""
        },
        {
         "metadata": "{}",
         "name": "lastName",
         "type": "\"string\""
        },
        {
         "metadata": "{}",
         "name": "gender",
         "type": "\"string\""
        },
        {
         "metadata": "{}",
         "name": "birthDate",
         "type": "\"timestamp\""
        },
        {
         "metadata": "{}",
         "name": "ssn",
         "type": "\"string\""
        },
        {
         "metadata": "{}",
         "name": "salary",
         "type": "\"integer\""
        }
       ],
       "type": "table"
      }
     },
     "output_type": "display_data"
    }
   ],
   "source": [
    "select * from delta.`abfss://dkushari@dkusharistorageaccount.dfs.core.windows.net/marsdemo/delta/volumedemo` limit 10;"
   ]
  },
  {
   "cell_type": "code",
   "execution_count": 0,
   "metadata": {
    "application/vnd.databricks.v1+cell": {
     "cellMetadata": {
      "byteLimit": 2048000,
      "rowLimit": 10000
     },
     "inputWidgets": {},
     "nuid": "5100cf76-a0f2-4399-941f-7c166ad82be1",
     "showTitle": true,
     "tableResultSettingsMap": {},
     "title": "Access Volume Data Various Ways - Pandas"
    }
   },
   "outputs": [
    {
     "output_type": "stream",
     "name": "stderr",
     "output_type": "stream",
     "text": [
      "/databricks/spark/python/pyspark/pandas/utils.py:1035: PandasAPIOnSparkAdviceWarning: If `index_col` is not specified for `read_delta`, the default index is attached which can cause additional overhead.\n  warnings.warn(message, PandasAPIOnSparkAdviceWarning)\n/databricks/spark/python/pyspark/pandas/utils.py:1035: PandasAPIOnSparkAdviceWarning: If `index_col` is not specified for `to_spark`, the existing index is lost when converting to Spark DataFrame.\n  warnings.warn(message, PandasAPIOnSparkAdviceWarning)\n"
     ]
    },
    {
     "output_type": "display_data",
     "data": {
      "text/html": [
       "<style scoped>\n",
       "  .table-result-container {\n",
       "    max-height: 300px;\n",
       "    overflow: auto;\n",
       "  }\n",
       "  table, th, td {\n",
       "    border: 1px solid black;\n",
       "    border-collapse: collapse;\n",
       "  }\n",
       "  th, td {\n",
       "    padding: 5px;\n",
       "  }\n",
       "  th {\n",
       "    text-align: left;\n",
       "  }\n",
       "</style><div class='table-result-container'><table class='table-result'><thead style='background-color: white'><tr><th>id</th><th>firstName</th><th>middleName</th><th>lastName</th><th>gender</th><th>birthDate</th><th>ssn</th><th>salary</th></tr></thead><tbody><tr><td>1</td><td>Pennie</td><td>Carry</td><td>Hirschmann</td><td>F</td><td>1955-07-02T04:00:00Z</td><td>981-43-9345</td><td>56172</td></tr><tr><td>2</td><td>An</td><td>Amira</td><td>Cowper</td><td>F</td><td>1992-02-08T05:00:00Z</td><td>978-97-8086</td><td>40203</td></tr><tr><td>3</td><td>Quyen</td><td>Marlen</td><td>Dome</td><td>F</td><td>1970-10-11T04:00:00Z</td><td>957-57-8246</td><td>53417</td></tr><tr><td>4</td><td>Coralie</td><td>Antonina</td><td>Marshal</td><td>F</td><td>1990-04-11T04:00:00Z</td><td>963-39-4885</td><td>94727</td></tr><tr><td>5</td><td>Terrie</td><td>Wava</td><td>Bonar</td><td>F</td><td>1980-01-16T05:00:00Z</td><td>964-49-8051</td><td>79908</td></tr><tr><td>6</td><td>Chassidy</td><td>Concepcion</td><td>Bourthouloume</td><td>F</td><td>1990-11-24T05:00:00Z</td><td>954-59-9172</td><td>64652</td></tr><tr><td>7</td><td>Geri</td><td>Tambra</td><td>Mosby</td><td>F</td><td>1970-12-19T05:00:00Z</td><td>968-16-4020</td><td>38195</td></tr><tr><td>8</td><td>Patria</td><td>Nancy</td><td>Arstall</td><td>F</td><td>1985-01-02T05:00:00Z</td><td>984-76-3770</td><td>102053</td></tr><tr><td>9</td><td>Terese</td><td>Alfredia</td><td>Tocque</td><td>F</td><td>1967-11-17T05:00:00Z</td><td>967-48-7309</td><td>91294</td></tr><tr><td>10</td><td>Wava</td><td>Lyndsey</td><td>Jeandon</td><td>F</td><td>1963-12-30T05:00:00Z</td><td>997-82-2946</td><td>56521</td></tr></tbody></table></div>"
      ]
     },
     "metadata": {
      "application/vnd.databricks.v1+output": {
       "addedWidgets": {},
       "aggData": [],
       "aggError": "",
       "aggOverflow": false,
       "aggSchema": [],
       "aggSeriesLimitReached": false,
       "aggType": "",
       "arguments": {},
       "columnCustomDisplayInfos": {},
       "data": [
        [
         1,
         "Pennie",
         "Carry",
         "Hirschmann",
         "F",
         "1955-07-02T04:00:00Z",
         "981-43-9345",
         56172
        ],
        [
         2,
         "An",
         "Amira",
         "Cowper",
         "F",
         "1992-02-08T05:00:00Z",
         "978-97-8086",
         40203
        ],
        [
         3,
         "Quyen",
         "Marlen",
         "Dome",
         "F",
         "1970-10-11T04:00:00Z",
         "957-57-8246",
         53417
        ],
        [
         4,
         "Coralie",
         "Antonina",
         "Marshal",
         "F",
         "1990-04-11T04:00:00Z",
         "963-39-4885",
         94727
        ],
        [
         5,
         "Terrie",
         "Wava",
         "Bonar",
         "F",
         "1980-01-16T05:00:00Z",
         "964-49-8051",
         79908
        ],
        [
         6,
         "Chassidy",
         "Concepcion",
         "Bourthouloume",
         "F",
         "1990-11-24T05:00:00Z",
         "954-59-9172",
         64652
        ],
        [
         7,
         "Geri",
         "Tambra",
         "Mosby",
         "F",
         "1970-12-19T05:00:00Z",
         "968-16-4020",
         38195
        ],
        [
         8,
         "Patria",
         "Nancy",
         "Arstall",
         "F",
         "1985-01-02T05:00:00Z",
         "984-76-3770",
         102053
        ],
        [
         9,
         "Terese",
         "Alfredia",
         "Tocque",
         "F",
         "1967-11-17T05:00:00Z",
         "967-48-7309",
         91294
        ],
        [
         10,
         "Wava",
         "Lyndsey",
         "Jeandon",
         "F",
         "1963-12-30T05:00:00Z",
         "997-82-2946",
         56521
        ]
       ],
       "datasetInfos": [],
       "dbfsResultPath": null,
       "isJsonSchema": true,
       "metadata": {},
       "overflow": false,
       "plotOptions": {
        "customPlotOptions": {},
        "displayType": "table",
        "pivotAggregation": null,
        "pivotColumns": null,
        "xColumns": null,
        "yColumns": null
       },
       "removedWidgets": [],
       "schema": [
        {
         "metadata": "{}",
         "name": "id",
         "type": "\"integer\""
        },
        {
         "metadata": "{}",
         "name": "firstName",
         "type": "\"string\""
        },
        {
         "metadata": "{}",
         "name": "middleName",
         "type": "\"string\""
        },
        {
         "metadata": "{}",
         "name": "lastName",
         "type": "\"string\""
        },
        {
         "metadata": "{}",
         "name": "gender",
         "type": "\"string\""
        },
        {
         "metadata": "{}",
         "name": "birthDate",
         "type": "\"timestamp\""
        },
        {
         "metadata": "{}",
         "name": "ssn",
         "type": "\"string\""
        },
        {
         "metadata": "{}",
         "name": "salary",
         "type": "\"integer\""
        }
       ],
       "type": "table"
      }
     },
     "output_type": "display_data"
    }
   ],
   "source": [
    "%python\n",
    "import pyspark.pandas as ps\n",
    "df = ps.read_delta('abfss://dkushari@dkusharistorageaccount.dfs.core.windows.net/marsdemo/delta/volumedemo')\n",
    "display(df.head(10))     "
   ]
  },
  {
   "cell_type": "code",
   "execution_count": 0,
   "metadata": {
    "application/vnd.databricks.v1+cell": {
     "cellMetadata": {
      "byteLimit": 2048000,
      "rowLimit": 10000
     },
     "inputWidgets": {},
     "nuid": "3bb72f83-14e8-41bc-bb2f-7815541fb58c",
     "showTitle": false,
     "tableResultSettingsMap": {},
     "title": ""
    }
   },
   "outputs": [
    {
     "output_type": "stream",
     "name": "stderr",
     "output_type": "stream",
     "text": [
      "/databricks/spark/python/pyspark/pandas/utils.py:1035: PandasAPIOnSparkAdviceWarning: If `index_col` is not specified for `read_parquet`, the default index is attached which can cause additional overhead.\n  warnings.warn(message, PandasAPIOnSparkAdviceWarning)\n/databricks/spark/python/pyspark/pandas/utils.py:1035: PandasAPIOnSparkAdviceWarning: If `index_col` is not specified for `to_spark`, the existing index is lost when converting to Spark DataFrame.\n  warnings.warn(message, PandasAPIOnSparkAdviceWarning)\n"
     ]
    },
    {
     "output_type": "display_data",
     "data": {
      "text/html": [
       "<style scoped>\n",
       "  .table-result-container {\n",
       "    max-height: 300px;\n",
       "    overflow: auto;\n",
       "  }\n",
       "  table, th, td {\n",
       "    border: 1px solid black;\n",
       "    border-collapse: collapse;\n",
       "  }\n",
       "  th, td {\n",
       "    padding: 5px;\n",
       "  }\n",
       "  th {\n",
       "    text-align: left;\n",
       "  }\n",
       "</style><div class='table-result-container'><table class='table-result'><thead style='background-color: white'><tr><th>id</th><th>firstName</th><th>middleName</th><th>lastName</th><th>gender</th><th>birthDate</th><th>ssn</th><th>salary</th></tr></thead><tbody><tr><td>1</td><td>Pennie</td><td>Carry</td><td>Hirschmann</td><td>F</td><td>1955-07-02T04:00:00Z</td><td>981-43-9345</td><td>56172</td></tr><tr><td>2</td><td>An</td><td>Amira</td><td>Cowper</td><td>F</td><td>1992-02-08T05:00:00Z</td><td>978-97-8086</td><td>40203</td></tr><tr><td>3</td><td>Quyen</td><td>Marlen</td><td>Dome</td><td>F</td><td>1970-10-11T04:00:00Z</td><td>957-57-8246</td><td>53417</td></tr><tr><td>4</td><td>Coralie</td><td>Antonina</td><td>Marshal</td><td>F</td><td>1990-04-11T04:00:00Z</td><td>963-39-4885</td><td>94727</td></tr><tr><td>5</td><td>Terrie</td><td>Wava</td><td>Bonar</td><td>F</td><td>1980-01-16T05:00:00Z</td><td>964-49-8051</td><td>79908</td></tr><tr><td>6</td><td>Chassidy</td><td>Concepcion</td><td>Bourthouloume</td><td>F</td><td>1990-11-24T05:00:00Z</td><td>954-59-9172</td><td>64652</td></tr><tr><td>7</td><td>Geri</td><td>Tambra</td><td>Mosby</td><td>F</td><td>1970-12-19T05:00:00Z</td><td>968-16-4020</td><td>38195</td></tr><tr><td>8</td><td>Patria</td><td>Nancy</td><td>Arstall</td><td>F</td><td>1985-01-02T05:00:00Z</td><td>984-76-3770</td><td>102053</td></tr><tr><td>9</td><td>Terese</td><td>Alfredia</td><td>Tocque</td><td>F</td><td>1967-11-17T05:00:00Z</td><td>967-48-7309</td><td>91294</td></tr><tr><td>10</td><td>Wava</td><td>Lyndsey</td><td>Jeandon</td><td>F</td><td>1963-12-30T05:00:00Z</td><td>997-82-2946</td><td>56521</td></tr></tbody></table></div>"
      ]
     },
     "metadata": {
      "application/vnd.databricks.v1+output": {
       "addedWidgets": {},
       "aggData": [],
       "aggError": "",
       "aggOverflow": false,
       "aggSchema": [],
       "aggSeriesLimitReached": false,
       "aggType": "",
       "arguments": {},
       "columnCustomDisplayInfos": {},
       "data": [
        [
         1,
         "Pennie",
         "Carry",
         "Hirschmann",
         "F",
         "1955-07-02T04:00:00Z",
         "981-43-9345",
         56172
        ],
        [
         2,
         "An",
         "Amira",
         "Cowper",
         "F",
         "1992-02-08T05:00:00Z",
         "978-97-8086",
         40203
        ],
        [
         3,
         "Quyen",
         "Marlen",
         "Dome",
         "F",
         "1970-10-11T04:00:00Z",
         "957-57-8246",
         53417
        ],
        [
         4,
         "Coralie",
         "Antonina",
         "Marshal",
         "F",
         "1990-04-11T04:00:00Z",
         "963-39-4885",
         94727
        ],
        [
         5,
         "Terrie",
         "Wava",
         "Bonar",
         "F",
         "1980-01-16T05:00:00Z",
         "964-49-8051",
         79908
        ],
        [
         6,
         "Chassidy",
         "Concepcion",
         "Bourthouloume",
         "F",
         "1990-11-24T05:00:00Z",
         "954-59-9172",
         64652
        ],
        [
         7,
         "Geri",
         "Tambra",
         "Mosby",
         "F",
         "1970-12-19T05:00:00Z",
         "968-16-4020",
         38195
        ],
        [
         8,
         "Patria",
         "Nancy",
         "Arstall",
         "F",
         "1985-01-02T05:00:00Z",
         "984-76-3770",
         102053
        ],
        [
         9,
         "Terese",
         "Alfredia",
         "Tocque",
         "F",
         "1967-11-17T05:00:00Z",
         "967-48-7309",
         91294
        ],
        [
         10,
         "Wava",
         "Lyndsey",
         "Jeandon",
         "F",
         "1963-12-30T05:00:00Z",
         "997-82-2946",
         56521
        ]
       ],
       "datasetInfos": [],
       "dbfsResultPath": null,
       "isJsonSchema": true,
       "metadata": {},
       "overflow": false,
       "plotOptions": {
        "customPlotOptions": {},
        "displayType": "table",
        "pivotAggregation": null,
        "pivotColumns": null,
        "xColumns": null,
        "yColumns": null
       },
       "removedWidgets": [],
       "schema": [
        {
         "metadata": "{}",
         "name": "id",
         "type": "\"integer\""
        },
        {
         "metadata": "{}",
         "name": "firstName",
         "type": "\"string\""
        },
        {
         "metadata": "{}",
         "name": "middleName",
         "type": "\"string\""
        },
        {
         "metadata": "{}",
         "name": "lastName",
         "type": "\"string\""
        },
        {
         "metadata": "{}",
         "name": "gender",
         "type": "\"string\""
        },
        {
         "metadata": "{}",
         "name": "birthDate",
         "type": "\"timestamp\""
        },
        {
         "metadata": "{}",
         "name": "ssn",
         "type": "\"string\""
        },
        {
         "metadata": "{}",
         "name": "salary",
         "type": "\"integer\""
        }
       ],
       "type": "table"
      }
     },
     "output_type": "display_data"
    }
   ],
   "source": [
    "%python\n",
    "df = (ps.read_parquet('/Volumes/marscat/marsschema/marsdemo_parquet_vol'))\n",
    "display(df.head(10))"
   ]
  },
  {
   "cell_type": "code",
   "execution_count": 0,
   "metadata": {
    "application/vnd.databricks.v1+cell": {
     "cellMetadata": {
      "byteLimit": 2048000,
      "rowLimit": 10000
     },
     "inputWidgets": {},
     "nuid": "3c6ef47e-0c47-4d97-ac11-b62607c1bfd7",
     "showTitle": true,
     "tableResultSettingsMap": {},
     "title": "Access Volume Data Various Ways - Shell commands via %sh"
    }
   },
   "outputs": [
    {
     "output_type": "stream",
     "name": "stdout",
     "output_type": "stream",
     "text": [
      "total 11\n-rwxrwxrwx 1 nobody nogroup 7041 Mar 27 15:18 part-00000-24a8d6a0-75a6-41a4-ba07-a3bd30850232.c000.snappy.parquet\ndrwxrwxrwx 2 nobody nogroup 4096 Mar 27 15:18 _delta_log\n"
     ]
    }
   ],
   "source": [
    "%sh\n",
    "ls -ltr /Volumes/marscat/MaRsSchema/marsdemo_delta_vol"
   ]
  },
  {
   "cell_type": "code",
   "execution_count": 0,
   "metadata": {
    "application/vnd.databricks.v1+cell": {
     "cellMetadata": {
      "byteLimit": 2048000,
      "rowLimit": 10000
     },
     "inputWidgets": {},
     "nuid": "8a5a025c-f6a4-48de-a6b3-94add108b7ef",
     "showTitle": false,
     "tableResultSettingsMap": {},
     "title": ""
    }
   },
   "outputs": [
    {
     "output_type": "stream",
     "name": "stdout",
     "output_type": "stream",
     "text": [
      "total 18\ndrwxrwxrwx 2 nobody nogroup 4096 Mar 26 05:36 _commits\ndrwxrwxrwx 2 nobody nogroup 4096 Mar 26 05:36 _autostats\ndrwxrwxrwx 2 nobody nogroup 4096 Mar 26 05:36 __tmp_path_dir\n-rwxrwxrwx 1 nobody nogroup 2469 Mar 27 15:18 00000000000000000000.json\n-rwxrwxrwx 1 nobody nogroup 3335 Mar 27 15:18 00000000000000000000.crc\n"
     ]
    }
   ],
   "source": [
    "%sh\n",
    "ls -ltr /Volumes/marscat/marsschema/marsdemo_delta_vol/_delta_log"
   ]
  },
  {
   "cell_type": "code",
   "execution_count": 0,
   "metadata": {
    "application/vnd.databricks.v1+cell": {
     "cellMetadata": {
      "byteLimit": 2048000,
      "rowLimit": 10000
     },
     "inputWidgets": {},
     "nuid": "093597aa-5b2b-4c2d-b31c-92ac8ac6ae91",
     "showTitle": true,
     "tableResultSettingsMap": {},
     "title": "The folder names are case sensitive"
    }
   },
   "outputs": [
    {
     "output_type": "stream",
     "name": "stderr",
     "output_type": "stream",
     "text": [
      "ls: cannot access '/Volumes/marscat/marsschema/marsdemo_delta_vol/_Delta_log': No such file or directory\n"
     ]
    }
   ],
   "source": [
    "%sh\n",
    "ls -ltr /Volumes/marscat/marsschema/marsdemo_delta_vol/_Delta_log"
   ]
  },
  {
   "cell_type": "code",
   "execution_count": 0,
   "metadata": {
    "application/vnd.databricks.v1+cell": {
     "cellMetadata": {
      "byteLimit": 2048000,
      "rowLimit": 10000
     },
     "inputWidgets": {},
     "nuid": "49e172c8-dfd0-48ec-8e6a-0956ed224d54",
     "showTitle": true,
     "tableResultSettingsMap": {},
     "title": "The UC object names are case insensitive"
    }
   },
   "outputs": [
    {
     "output_type": "stream",
     "name": "stdout",
     "output_type": "stream",
     "text": [
      "total 18\ndrwxrwxrwx 2 nobody nogroup 4096 Mar 26 05:36 _commits\ndrwxrwxrwx 2 nobody nogroup 4096 Mar 26 05:36 _autostats\ndrwxrwxrwx 2 nobody nogroup 4096 Mar 26 05:36 __tmp_path_dir\n-rwxrwxrwx 1 nobody nogroup 2469 Mar 27 15:18 00000000000000000000.json\n-rwxrwxrwx 1 nobody nogroup 3335 Mar 27 15:18 00000000000000000000.crc\n"
     ]
    }
   ],
   "source": [
    "%sh\n",
    "ls -ltr /Volumes/MARSCAT/marsschema/marsdemo_delta_vol/_delta_log"
   ]
  },
  {
   "cell_type": "code",
   "execution_count": 0,
   "metadata": {
    "application/vnd.databricks.v1+cell": {
     "cellMetadata": {
      "byteLimit": 2048000,
      "rowLimit": 10000
     },
     "inputWidgets": {},
     "nuid": "9ed30da8-b28e-4f1b-99d4-c54718a0e2dd",
     "showTitle": false,
     "tableResultSettingsMap": {},
     "title": ""
    }
   },
   "outputs": [
    {
     "output_type": "display_data",
     "data": {
      "text/html": [
       "<style scoped>\n",
       "  .table-result-container {\n",
       "    max-height: 300px;\n",
       "    overflow: auto;\n",
       "  }\n",
       "  table, th, td {\n",
       "    border: 1px solid black;\n",
       "    border-collapse: collapse;\n",
       "  }\n",
       "  th, td {\n",
       "    padding: 5px;\n",
       "  }\n",
       "  th {\n",
       "    text-align: left;\n",
       "  }\n",
       "</style><div class='table-result-container'><table class='table-result'><thead style='background-color: white'><tr><th>path</th><th>name</th><th>size</th><th>modificationTime</th></tr></thead><tbody><tr><td>dbfs:/Volumes/marscat/MARsSchema/marsdemo_delta_Vol/_delta_log/00000000000000000000.crc</td><td>00000000000000000000.crc</td><td>3335</td><td>1743088719000</td></tr></tbody></table></div>"
      ]
     },
     "metadata": {
      "application/vnd.databricks.v1+output": {
       "addedWidgets": {},
       "aggData": [],
       "aggError": "",
       "aggOverflow": false,
       "aggSchema": [],
       "aggSeriesLimitReached": false,
       "aggType": "",
       "arguments": {},
       "columnCustomDisplayInfos": {},
       "data": [
        [
         "dbfs:/Volumes/marscat/MARsSchema/marsdemo_delta_Vol/_delta_log/00000000000000000000.crc",
         "00000000000000000000.crc",
         3335,
         1743088719000
        ]
       ],
       "datasetInfos": [],
       "dbfsResultPath": null,
       "isJsonSchema": true,
       "metadata": {},
       "overflow": false,
       "plotOptions": {
        "customPlotOptions": {},
        "displayType": "table",
        "pivotAggregation": null,
        "pivotColumns": null,
        "xColumns": null,
        "yColumns": null
       },
       "removedWidgets": [],
       "schema": [
        {
         "metadata": "{}",
         "name": "path",
         "type": "\"string\""
        },
        {
         "metadata": "{}",
         "name": "name",
         "type": "\"string\""
        },
        {
         "metadata": "{}",
         "name": "size",
         "type": "\"long\""
        },
        {
         "metadata": "{}",
         "name": "modificationTime",
         "type": "\"long\""
        }
       ],
       "type": "table"
      }
     },
     "output_type": "display_data"
    }
   ],
   "source": [
    "%python\n",
    "display(dbutils.fs.ls(\"/Volumes/marscat/MARsSchema/marsdemo_delta_Vol/_delta_log/00000000000000000000.crc\"))"
   ]
  },
  {
   "cell_type": "code",
   "execution_count": 0,
   "metadata": {
    "application/vnd.databricks.v1+cell": {
     "cellMetadata": {
      "byteLimit": 2048000,
      "rowLimit": 10000
     },
     "inputWidgets": {},
     "nuid": "c385e351-f6a6-4afe-a14c-514af0e2741e",
     "showTitle": false,
     "tableResultSettingsMap": {},
     "title": ""
    }
   },
   "outputs": [
    {
     "output_type": "display_data",
     "data": {
      "text/html": [
       "<style scoped>\n",
       "  .table-result-container {\n",
       "    max-height: 300px;\n",
       "    overflow: auto;\n",
       "  }\n",
       "  table, th, td {\n",
       "    border: 1px solid black;\n",
       "    border-collapse: collapse;\n",
       "  }\n",
       "  th, td {\n",
       "    padding: 5px;\n",
       "  }\n",
       "  th {\n",
       "    text-align: left;\n",
       "  }\n",
       "</style><div class='table-result-container'><table class='table-result'><thead style='background-color: white'><tr><th>add</th><th>commitInfo</th><th>metaData</th><th>protocol</th></tr></thead><tbody><tr><td>null</td><td>List(0118-165440-l8erfx3g, Databricks-Runtime/15.4.x-photon-scala2.12, true, WriteSerializable, List(3114756036330169), CREATE TABLE AS SELECT, List(1, 7041, 100), List([], null, false, [], {}, true), List(true, false), 1743088717909, c09906c6-2d1b-4661-ba2c-d9074a2d759e, 6235569048193142, dipankar.kushari@databricks.com)</td><td>null</td><td>null</td></tr><tr><td>null</td><td>null</td><td>List(1743088714474, List(parquet), 930c8c3a-acef-4f2a-acf9-1177923edf87, List(), {\"type\":\"struct\",\"fields\":[{\"name\":\"id\",\"type\":\"integer\",\"nullable\":true,\"metadata\":{}},{\"name\":\"firstName\",\"type\":\"string\",\"nullable\":true,\"metadata\":{}},{\"name\":\"middleName\",\"type\":\"string\",\"nullable\":true,\"metadata\":{}},{\"name\":\"lastName\",\"type\":\"string\",\"nullable\":true,\"metadata\":{}},{\"name\":\"gender\",\"type\":\"string\",\"nullable\":true,\"metadata\":{}},{\"name\":\"birthDate\",\"type\":\"timestamp\",\"nullable\":true,\"metadata\":{}},{\"name\":\"ssn\",\"type\":\"string\",\"nullable\":true,\"metadata\":{}},{\"name\":\"salary\",\"type\":\"integer\",\"nullable\":true,\"metadata\":{}}]})</td><td>null</td></tr><tr><td>null</td><td>null</td><td>null</td><td>List(1, 2)</td></tr><tr><td>List(true, 1743088717000, part-00000-24a8d6a0-75a6-41a4-ba07-a3bd30850232.c000.snappy.parquet, 7041, {\"numRecords\":100,\"maxValues\":{\"middleName\":\"Zandra\",\"salary\":134393,\"lastName\":\"Yansons\",\"firstName\":\"Yuri\",\"birthDate\":\"1999-07-28T04:00:00.000Z\",\"id\":100,\"gender\":\"F\",\"ssn\":\"998-57-7440\"},\"minValues\":{\"middleName\":\"Alfredia\",\"salary\":32795,\"lastName\":\"Arstall\",\"firstName\":\"Adelia\",\"birthDate\":\"1953-12-21T05:00:00.000Z\",\"id\":1,\"gender\":\"F\",\"ssn\":\"666-51-9916\"},\"nullCount\":{\"middleName\":0,\"salary\":0,\"lastName\":0,\"firstName\":0,\"birthDate\":0,\"id\":0,\"gender\":0,\"ssn\":0}}, List(1743088717000000, 1743088717000000, 1743088717000000, 268435456))</td><td>null</td><td>null</td><td>null</td></tr></tbody></table></div>"
      ]
     },
     "metadata": {
      "application/vnd.databricks.v1+output": {
       "addedWidgets": {},
       "aggData": [],
       "aggError": "",
       "aggOverflow": false,
       "aggSchema": [],
       "aggSeriesLimitReached": false,
       "aggType": "",
       "arguments": {},
       "columnCustomDisplayInfos": {},
       "data": [
        [
         null,
         [
          "0118-165440-l8erfx3g",
          "Databricks-Runtime/15.4.x-photon-scala2.12",
          true,
          "WriteSerializable",
          [
           "3114756036330169"
          ],
          "CREATE TABLE AS SELECT",
          [
           "1",
           "7041",
           "100"
          ],
          [
           "[]",
           null,
           "false",
           "[]",
           "{}",
           true
          ],
          [
           "true",
           "false"
          ],
          1743088717909,
          "c09906c6-2d1b-4661-ba2c-d9074a2d759e",
          "6235569048193142",
          "dipankar.kushari@databricks.com"
         ],
         null,
         null
        ],
        [
         null,
         null,
         [
          1743088714474,
          [
           "parquet"
          ],
          "930c8c3a-acef-4f2a-acf9-1177923edf87",
          [],
          "{\"type\":\"struct\",\"fields\":[{\"name\":\"id\",\"type\":\"integer\",\"nullable\":true,\"metadata\":{}},{\"name\":\"firstName\",\"type\":\"string\",\"nullable\":true,\"metadata\":{}},{\"name\":\"middleName\",\"type\":\"string\",\"nullable\":true,\"metadata\":{}},{\"name\":\"lastName\",\"type\":\"string\",\"nullable\":true,\"metadata\":{}},{\"name\":\"gender\",\"type\":\"string\",\"nullable\":true,\"metadata\":{}},{\"name\":\"birthDate\",\"type\":\"timestamp\",\"nullable\":true,\"metadata\":{}},{\"name\":\"ssn\",\"type\":\"string\",\"nullable\":true,\"metadata\":{}},{\"name\":\"salary\",\"type\":\"integer\",\"nullable\":true,\"metadata\":{}}]}"
         ],
         null
        ],
        [
         null,
         null,
         null,
         [
          1,
          2
         ]
        ],
        [
         [
          true,
          1743088717000,
          "part-00000-24a8d6a0-75a6-41a4-ba07-a3bd30850232.c000.snappy.parquet",
          7041,
          "{\"numRecords\":100,\"maxValues\":{\"middleName\":\"Zandra\",\"salary\":134393,\"lastName\":\"Yansons\",\"firstName\":\"Yuri\",\"birthDate\":\"1999-07-28T04:00:00.000Z\",\"id\":100,\"gender\":\"F\",\"ssn\":\"998-57-7440\"},\"minValues\":{\"middleName\":\"Alfredia\",\"salary\":32795,\"lastName\":\"Arstall\",\"firstName\":\"Adelia\",\"birthDate\":\"1953-12-21T05:00:00.000Z\",\"id\":1,\"gender\":\"F\",\"ssn\":\"666-51-9916\"},\"nullCount\":{\"middleName\":0,\"salary\":0,\"lastName\":0,\"firstName\":0,\"birthDate\":0,\"id\":0,\"gender\":0,\"ssn\":0}}",
          [
           "1743088717000000",
           "1743088717000000",
           "1743088717000000",
           "268435456"
          ]
         ],
         null,
         null,
         null
        ]
       ],
       "datasetInfos": [],
       "dbfsResultPath": null,
       "isJsonSchema": true,
       "metadata": {},
       "overflow": false,
       "plotOptions": {
        "customPlotOptions": {},
        "displayType": "table",
        "pivotAggregation": null,
        "pivotColumns": null,
        "xColumns": null,
        "yColumns": null
       },
       "removedWidgets": [],
       "schema": [
        {
         "metadata": "{}",
         "name": "add",
         "type": "{\"type\":\"struct\",\"fields\":[{\"name\":\"dataChange\",\"type\":\"boolean\",\"nullable\":true,\"metadata\":{}},{\"name\":\"modificationTime\",\"type\":\"long\",\"nullable\":true,\"metadata\":{}},{\"name\":\"path\",\"type\":\"string\",\"nullable\":true,\"metadata\":{}},{\"name\":\"size\",\"type\":\"long\",\"nullable\":true,\"metadata\":{}},{\"name\":\"stats\",\"type\":\"string\",\"nullable\":true,\"metadata\":{}},{\"name\":\"tags\",\"type\":{\"type\":\"struct\",\"fields\":[{\"name\":\"INSERTION_TIME\",\"type\":\"string\",\"nullable\":true,\"metadata\":{}},{\"name\":\"MAX_INSERTION_TIME\",\"type\":\"string\",\"nullable\":true,\"metadata\":{}},{\"name\":\"MIN_INSERTION_TIME\",\"type\":\"string\",\"nullable\":true,\"metadata\":{}},{\"name\":\"OPTIMIZE_TARGET_SIZE\",\"type\":\"string\",\"nullable\":true,\"metadata\":{}}]},\"nullable\":true,\"metadata\":{}}]}"
        },
        {
         "metadata": "{}",
         "name": "commitInfo",
         "type": "{\"type\":\"struct\",\"fields\":[{\"name\":\"clusterId\",\"type\":\"string\",\"nullable\":true,\"metadata\":{}},{\"name\":\"engineInfo\",\"type\":\"string\",\"nullable\":true,\"metadata\":{}},{\"name\":\"isBlindAppend\",\"type\":\"boolean\",\"nullable\":true,\"metadata\":{}},{\"name\":\"isolationLevel\",\"type\":\"string\",\"nullable\":true,\"metadata\":{}},{\"name\":\"notebook\",\"type\":{\"type\":\"struct\",\"fields\":[{\"name\":\"notebookId\",\"type\":\"string\",\"nullable\":true,\"metadata\":{}}]},\"nullable\":true,\"metadata\":{}},{\"name\":\"operation\",\"type\":\"string\",\"nullable\":true,\"metadata\":{}},{\"name\":\"operationMetrics\",\"type\":{\"type\":\"struct\",\"fields\":[{\"name\":\"numFiles\",\"type\":\"string\",\"nullable\":true,\"metadata\":{}},{\"name\":\"numOutputBytes\",\"type\":\"string\",\"nullable\":true,\"metadata\":{}},{\"name\":\"numOutputRows\",\"type\":\"string\",\"nullable\":true,\"metadata\":{}}]},\"nullable\":true,\"metadata\":{}},{\"name\":\"operationParameters\",\"type\":{\"type\":\"struct\",\"fields\":[{\"name\":\"clusterBy\",\"type\":\"string\",\"nullable\":true,\"metadata\":{}},{\"name\":\"description\",\"type\":\"string\",\"nullable\":true,\"metadata\":{}},{\"name\":\"isManaged\",\"type\":\"string\",\"nullable\":true,\"metadata\":{}},{\"name\":\"partitionBy\",\"type\":\"string\",\"nullable\":true,\"metadata\":{}},{\"name\":\"properties\",\"type\":\"string\",\"nullable\":true,\"metadata\":{}},{\"name\":\"statsOnLoad\",\"type\":\"boolean\",\"nullable\":true,\"metadata\":{}}]},\"nullable\":true,\"metadata\":{}},{\"name\":\"tags\",\"type\":{\"type\":\"struct\",\"fields\":[{\"name\":\"noRowsCopied\",\"type\":\"string\",\"nullable\":true,\"metadata\":{}},{\"name\":\"restoresDeletedRows\",\"type\":\"string\",\"nullable\":true,\"metadata\":{}}]},\"nullable\":true,\"metadata\":{}},{\"name\":\"timestamp\",\"type\":\"long\",\"nullable\":true,\"metadata\":{}},{\"name\":\"txnId\",\"type\":\"string\",\"nullable\":true,\"metadata\":{}},{\"name\":\"userId\",\"type\":\"string\",\"nullable\":true,\"metadata\":{}},{\"name\":\"userName\",\"type\":\"string\",\"nullable\":true,\"metadata\":{}}]}"
        },
        {
         "metadata": "{}",
         "name": "metaData",
         "type": "{\"type\":\"struct\",\"fields\":[{\"name\":\"createdTime\",\"type\":\"long\",\"nullable\":true,\"metadata\":{}},{\"name\":\"format\",\"type\":{\"type\":\"struct\",\"fields\":[{\"name\":\"provider\",\"type\":\"string\",\"nullable\":true,\"metadata\":{}}]},\"nullable\":true,\"metadata\":{}},{\"name\":\"id\",\"type\":\"string\",\"nullable\":true,\"metadata\":{}},{\"name\":\"partitionColumns\",\"type\":{\"type\":\"array\",\"elementType\":\"string\",\"containsNull\":true},\"nullable\":true,\"metadata\":{}},{\"name\":\"schemaString\",\"type\":\"string\",\"nullable\":true,\"metadata\":{}}]}"
        },
        {
         "metadata": "{}",
         "name": "protocol",
         "type": "{\"type\":\"struct\",\"fields\":[{\"name\":\"minReaderVersion\",\"type\":\"long\",\"nullable\":true,\"metadata\":{}},{\"name\":\"minWriterVersion\",\"type\":\"long\",\"nullable\":true,\"metadata\":{}}]}"
        }
       ],
       "type": "table"
      }
     },
     "output_type": "display_data"
    }
   ],
   "source": [
    "%python\n",
    "spark.read.format(\"json\").load(\"/Volumes/MARSCAT/MARSSCHEMA/MARSDEMO_DELTA_VOL/_delta_log/00000000000000000000.json\").display()"
   ]
  },
  {
   "cell_type": "code",
   "execution_count": 0,
   "metadata": {
    "application/vnd.databricks.v1+cell": {
     "cellMetadata": {
      "byteLimit": 2048000,
      "rowLimit": 10000
     },
     "inputWidgets": {},
     "nuid": "00a9571c-f04c-4cf5-8555-5ab7fb43f716",
     "showTitle": false,
     "tableResultSettingsMap": {},
     "title": ""
    }
   },
   "outputs": [],
   "source": [
    "%sh\n",
    "rm -rf /tmp/dkushari-1"
   ]
  },
  {
   "cell_type": "code",
   "execution_count": 0,
   "metadata": {
    "application/vnd.databricks.v1+cell": {
     "cellMetadata": {
      "byteLimit": 2048000,
      "rowLimit": 10000
     },
     "inputWidgets": {},
     "nuid": "0648e812-75a9-4b52-b92c-060a6b8bdd8d",
     "showTitle": false,
     "tableResultSettingsMap": {},
     "title": ""
    }
   },
   "outputs": [],
   "source": [
    "%sh\n",
    "cp -r /Volumes/marscat/MaRsSchema/marsdemo_delta_vol/_delta_log /tmp/dkushari-1"
   ]
  },
  {
   "cell_type": "code",
   "execution_count": 0,
   "metadata": {
    "application/vnd.databricks.v1+cell": {
     "cellMetadata": {
      "byteLimit": 2048000,
      "rowLimit": 10000
     },
     "inputWidgets": {},
     "nuid": "a6c61a6d-871e-48c4-99b3-9a1001431779",
     "showTitle": false,
     "tableResultSettingsMap": {},
     "title": ""
    }
   },
   "outputs": [
    {
     "output_type": "stream",
     "name": "stdout",
     "output_type": "stream",
     "text": [
      "total 20\ndrwxr--r--+ 2 spark-007ee335-c6c6-40b2-b0c8-a8 spark-007ee335-c6c6-40b2-b0c8-a8 4096 Mar 27 16:16 __tmp_path_dir\ndrwxr--r--+ 3 spark-007ee335-c6c6-40b2-b0c8-a8 spark-007ee335-c6c6-40b2-b0c8-a8 4096 Mar 27 16:16 _autostats\ndrwxr--r--+ 2 spark-007ee335-c6c6-40b2-b0c8-a8 spark-007ee335-c6c6-40b2-b0c8-a8 4096 Mar 27 16:16 _commits\n-rwxr--r--  1 spark-007ee335-c6c6-40b2-b0c8-a8 spark-007ee335-c6c6-40b2-b0c8-a8 3335 Mar 27 16:16 00000000000000000000.crc\n-rwxr--r--  1 spark-007ee335-c6c6-40b2-b0c8-a8 spark-007ee335-c6c6-40b2-b0c8-a8 2469 Mar 27 16:16 00000000000000000000.json\n"
     ]
    }
   ],
   "source": [
    "%sh\n",
    "ls -ltr /tmp/dkushari-1"
   ]
  },
  {
   "cell_type": "code",
   "execution_count": 0,
   "metadata": {
    "application/vnd.databricks.v1+cell": {
     "cellMetadata": {
      "byteLimit": 2048000,
      "rowLimit": 10000
     },
     "inputWidgets": {},
     "nuid": "ee36fcd4-606c-4e7d-b492-a1ad36c579d2",
     "showTitle": false,
     "tableResultSettingsMap": {},
     "title": ""
    }
   },
   "outputs": [
    {
     "output_type": "stream",
     "name": "stdout",
     "output_type": "stream",
     "text": [
      "total 8\n-rwxrwxrwx 1 nobody nogroup    0 Mar 27 15:18 _started_5608140467555080913\n-rwxrwxrwx 1 nobody nogroup 7041 Mar 27 15:18 part-00000-tid-5608140467555080913-5489f993-204f-497b-b3b4-1a308da4ed65-2950-1.c000.snappy.parquet\n-rwxrwxrwx 1 nobody nogroup  125 Mar 27 15:18 _committed_5608140467555080913\n-rwxrwxrwx 1 nobody nogroup    0 Mar 27 15:18 _SUCCESS\n"
     ]
    }
   ],
   "source": [
    "%sh\n",
    "ls -ltr /Volumes/marscat/marsschema/marsdemo_parquet_vol"
   ]
  },
  {
   "cell_type": "code",
   "execution_count": 0,
   "metadata": {
    "application/vnd.databricks.v1+cell": {
     "cellMetadata": {
      "byteLimit": 2048000,
      "rowLimit": 10000
     },
     "inputWidgets": {},
     "nuid": "f4045735-1df9-477c-a8dd-f4fa097be398",
     "showTitle": true,
     "tableResultSettingsMap": {},
     "title": "Access Volume Data Various Ways - Operating system file utilities"
    }
   },
   "outputs": [
    {
     "output_type": "execute_result",
     "data": {
      "text/plain": [
       "['_SUCCESS',\n",
       " '_committed_5608140467555080913',\n",
       " '_started_5608140467555080913',\n",
       " 'part-00000-tid-5608140467555080913-5489f993-204f-497b-b3b4-1a308da4ed65-2950-1.c000.snappy.parquet']"
      ]
     },
     "execution_count": 5,
     "metadata": {},
     "output_type": "execute_result"
    }
   ],
   "source": [
    "%python\n",
    "import os\n",
    "os.listdir('/Volumes/marscat/marsschema/marsdemo_parquet_vol')"
   ]
  },
  {
   "cell_type": "code",
   "execution_count": 0,
   "metadata": {
    "application/vnd.databricks.v1+cell": {
     "cellMetadata": {
      "byteLimit": 2048000,
      "rowLimit": 10000
     },
     "inputWidgets": {},
     "nuid": "bc78e684-f1d3-451f-81a1-5501a2fc13c0",
     "showTitle": false,
     "tableResultSettingsMap": {},
     "title": ""
    }
   },
   "outputs": [
    {
     "output_type": "display_data",
     "data": {
      "text/html": [
       "<style scoped>\n",
       "  .table-result-container {\n",
       "    max-height: 300px;\n",
       "    overflow: auto;\n",
       "  }\n",
       "  table, th, td {\n",
       "    border: 1px solid black;\n",
       "    border-collapse: collapse;\n",
       "  }\n",
       "  th, td {\n",
       "    padding: 5px;\n",
       "  }\n",
       "  th {\n",
       "    text-align: left;\n",
       "  }\n",
       "</style><div class='table-result-container'><table class='table-result'><thead style='background-color: white'><tr></tr></thead><tbody></tbody></table></div>"
      ]
     },
     "metadata": {
      "application/vnd.databricks.v1+output": {
       "addedWidgets": {},
       "aggData": [],
       "aggError": "",
       "aggOverflow": false,
       "aggSchema": [],
       "aggSeriesLimitReached": false,
       "aggType": "",
       "arguments": {},
       "columnCustomDisplayInfos": {},
       "data": [],
       "datasetInfos": [],
       "dbfsResultPath": null,
       "isJsonSchema": true,
       "metadata": {},
       "overflow": false,
       "plotOptions": {
        "customPlotOptions": {},
        "displayType": "table",
        "pivotAggregation": null,
        "pivotColumns": null,
        "xColumns": null,
        "yColumns": null
       },
       "removedWidgets": [],
       "schema": [],
       "type": "table"
      }
     },
     "output_type": "display_data"
    }
   ],
   "source": [
    "drop VOLUME if exists marscat.marsschema.marsdemo_csv_vol;\n",
    "CREATE EXTERNAL VOLUME if not exists  marscat.marsschema.marsdemo_csv_vol\n",
    "LOCATION 'abfss://dkushari@dkusharistorageaccount.dfs.core.windows.net/marsdemo/csv/volumedemo';"
   ]
  },
  {
   "cell_type": "code",
   "execution_count": 0,
   "metadata": {
    "application/vnd.databricks.v1+cell": {
     "cellMetadata": {
      "byteLimit": 2048000,
      "rowLimit": 10000
     },
     "inputWidgets": {},
     "nuid": "989a356d-8471-4dbe-a682-7fa8eef60154",
     "showTitle": false,
     "tableResultSettingsMap": {},
     "title": ""
    }
   },
   "outputs": [
    {
     "output_type": "execute_result",
     "data": {
      "text/plain": [
       "\u001B[36mres5\u001B[39m: \u001B[32mBoolean\u001B[39m = \u001B[32mtrue\u001B[39m"
      ]
     },
     "execution_count": 6,
     "metadata": {},
     "output_type": "execute_result"
    }
   ],
   "source": [
    "%fs cp dbfs:/databricks-datasets/wine-quality/winequality-red.csv /Volumes/marscat/marsschema/marsdemo_csv_vol/wine-quality/winequality-red.csv"
   ]
  },
  {
   "cell_type": "code",
   "execution_count": 0,
   "metadata": {
    "application/vnd.databricks.v1+cell": {
     "cellMetadata": {
      "byteLimit": 2048000,
      "rowLimit": 10000
     },
     "inputWidgets": {},
     "nuid": "ea232203-2320-42e5-ba0f-dc4e2c856059",
     "showTitle": false,
     "tableResultSettingsMap": {},
     "title": ""
    }
   },
   "outputs": [
    {
     "output_type": "stream",
     "name": "stdout",
     "output_type": "stream",
     "text": [
      "\"fixed acidity\";\"volatile acidity\";\"citric acid\";\"residual sugar\";\"chlorides\";\"free sulfur dioxide\";\"total sulfur dioxide\";\"density\";\"pH\";\"sulphates\";\"alcohol\";\"quality\"\n7.4;0.7;0;1.9;0.076;11;34;0.9978;3.51;0.56;9.4;5\n7.8;0.88;0;2.6;0.098;25;67;0.9968;3.2;0.68;9.8;5\n7.8;0.76;0.04;2.3;0.092;15;54;0.997;3.26;0.65;9.8;5\n11.2;0.28;0.56;1.9;0.075;17;60;0.998;3.16;0.58;9.8;6\n7.4;0.7;0;1.9;0.076;11;34;0.9978;3.51;0.56;9.4;5\n7.4;0.66;0;1.8;0.075;13;40;0.9978;3.51;0.56;9.4;5\n7.9;0.6;0.06;1.6;0.069;15;59;0.9964;3.3;0.46;9.4;5\n7.3;0.65;0;1.2;0.065;15;21;0.9946;3.39;0.47;10;7\n7.8;0.58;0.02;2;0.073;9;18;0.9968;3.36;0.57;9.5;7\n"
     ]
    }
   ],
   "source": [
    "%sh\n",
    "cat /Volumes/marscat/marsschema/marsdemo_csv_vol/wine-quality/winequality-red.csv | head -n 10"
   ]
  },
  {
   "cell_type": "code",
   "execution_count": 0,
   "metadata": {
    "application/vnd.databricks.v1+cell": {
     "cellMetadata": {
      "byteLimit": 2048000,
      "rowLimit": 10000
     },
     "inputWidgets": {},
     "nuid": "0bd07b42-9969-4aec-ab99-300d076e8226",
     "showTitle": false,
     "tableResultSettingsMap": {},
     "title": ""
    }
   },
   "outputs": [],
   "source": [
    "%sh\n",
    "cp /Volumes/marscat/marsschema/marsdemo_csv_vol/wine-quality/winequality-red.csv /tmp/test"
   ]
  },
  {
   "cell_type": "code",
   "execution_count": 0,
   "metadata": {
    "application/vnd.databricks.v1+cell": {
     "cellMetadata": {
      "byteLimit": 2048000,
      "rowLimit": 10000
     },
     "inputWidgets": {},
     "nuid": "73c538d5-a437-44fe-9795-8edcccb58744",
     "showTitle": false,
     "tableResultSettingsMap": {},
     "title": ""
    }
   },
   "outputs": [
    {
     "output_type": "display_data",
     "data": {
      "text/html": [
       "<style scoped>\n",
       "  .table-result-container {\n",
       "    max-height: 300px;\n",
       "    overflow: auto;\n",
       "  }\n",
       "  table, th, td {\n",
       "    border: 1px solid black;\n",
       "    border-collapse: collapse;\n",
       "  }\n",
       "  th, td {\n",
       "    padding: 5px;\n",
       "  }\n",
       "  th {\n",
       "    text-align: left;\n",
       "  }\n",
       "</style><div class='table-result-container'><table class='table-result'><thead style='background-color: white'><tr><th>path</th><th>name</th><th>size</th><th>modificationTime</th></tr></thead><tbody><tr><td>dbfs:/Volumes/marscat/marsschema/marsdemo_csv_vol/wine-quality/winequality-red.csv</td><td>winequality-red.csv</td><td>84199</td><td>1743092285000</td></tr></tbody></table></div>"
      ]
     },
     "metadata": {
      "application/vnd.databricks.v1+output": {
       "addedWidgets": {},
       "aggData": [],
       "aggError": "",
       "aggOverflow": false,
       "aggSchema": [],
       "aggSeriesLimitReached": false,
       "aggType": "",
       "arguments": {},
       "columnCustomDisplayInfos": {},
       "data": [
        [
         "dbfs:/Volumes/marscat/marsschema/marsdemo_csv_vol/wine-quality/winequality-red.csv",
         "winequality-red.csv",
         84199,
         1743092285000
        ]
       ],
       "datasetInfos": [],
       "dbfsResultPath": null,
       "isJsonSchema": true,
       "metadata": {},
       "overflow": false,
       "plotOptions": {
        "customPlotOptions": {},
        "displayType": "table",
        "pivotAggregation": null,
        "pivotColumns": null,
        "xColumns": null,
        "yColumns": null
       },
       "removedWidgets": [],
       "schema": [
        {
         "metadata": "{}",
         "name": "path",
         "type": "\"string\""
        },
        {
         "metadata": "{}",
         "name": "name",
         "type": "\"string\""
        },
        {
         "metadata": "{}",
         "name": "size",
         "type": "\"long\""
        },
        {
         "metadata": "{}",
         "name": "modificationTime",
         "type": "\"long\""
        }
       ],
       "type": "table"
      }
     },
     "output_type": "display_data"
    }
   ],
   "source": [
    "%python\n",
    "display(dbutils.fs.ls(\"/Volumes/marscat/marsschema/marsdemo_csv_vol/wine-quality/winequality-red.csv\"))"
   ]
  },
  {
   "cell_type": "code",
   "execution_count": 0,
   "metadata": {
    "application/vnd.databricks.v1+cell": {
     "cellMetadata": {
      "byteLimit": 2048000,
      "rowLimit": 10000
     },
     "inputWidgets": {},
     "nuid": "5aabf3f9-ccdf-4103-9788-a4e6fd44c775",
     "showTitle": false,
     "tableResultSettingsMap": {},
     "title": ""
    }
   },
   "outputs": [
    {
     "output_type": "stream",
     "name": "stdout",
     "output_type": "stream",
     "text": [
      "[Truncated to first 2048 bytes]\n"
     ]
    },
    {
     "output_type": "execute_result",
     "data": {
      "text/plain": [
       "'\"fixed acidity\";\"volatile acidity\";\"citric acid\";\"residual sugar\";\"chlorides\";\"free sulfur dioxide\";\"total sulfur dioxide\";\"density\";\"pH\";\"sulphates\";\"alcohol\";\"quality\"\\n7.4;0.7;0;1.9;0.076;11;34;0.9978;3.51;0.56;9.4;5\\n7.8;0.88;0;2.6;0.098;25;67;0.9968;3.2;0.68;9.8;5\\n7.8;0.76;0.04;2.3;0.092;15;54;0.997;3.26;0.65;9.8;5\\n11.2;0.28;0.56;1.9;0.075;17;60;0.998;3.16;0.58;9.8;6\\n7.4;0.7;0;1.9;0.076;11;34;0.9978;3.51;0.56;9.4;5\\n7.4;0.66;0;1.8;0.075;13;40;0.9978;3.51;0.56;9.4;5\\n7.9;0.6;0.06;1.6;0.069;15;59;0.9964;3.3;0.46;9.4;5\\n7.3;0.65;0;1.2;0.065;15;21;0.9946;3.39;0.47;10;7\\n7.8;0.58;0.02;2;0.073;9;18;0.9968;3.36;0.57;9.5;7\\n7.5;0.5;0.36;6.1;0.071;17;102;0.9978;3.35;0.8;10.5;5\\n6.7;0.58;0.08;1.8;0.097;15;65;0.9959;3.28;0.54;9.2;5\\n7.5;0.5;0.36;6.1;0.071;17;102;0.9978;3.35;0.8;10.5;5\\n5.6;0.615;0;1.6;0.089;16;59;0.9943;3.58;0.52;9.9;5\\n7.8;0.61;0.29;1.6;0.114;9;29;0.9974;3.26;1.56;9.1;5\\n8.9;0.62;0.18;3.8;0.176;52;145;0.9986;3.16;0.88;9.2;5\\n8.9;0.62;0.19;3.9;0.17;51;148;0.9986;3.17;0.93;9.2;5\\n8.5;0.28;0.56;1.8;0.092;35;103;0.9969;3.3;0.75;10.5;7\\n8.1;0.56;0.28;1.7;0.368;16;56;0.9968;3.11;1.28;9.3;5\\n7.4;0.59;0.08;4.4;0.086;6;29;0.9974;3.38;0.5;9;4\\n7.9;0.32;0.51;1.8;0.341;17;56;0.9969;3.04;1.08;9.2;6\\n8.9;0.22;0.48;1.8;0.077;29;60;0.9968;3.39;0.53;9.4;6\\n7.6;0.39;0.31;2.3;0.082;23;71;0.9982;3.52;0.65;9.7;5\\n7.9;0.43;0.21;1.6;0.106;10;37;0.9966;3.17;0.91;9.5;5\\n8.5;0.49;0.11;2.3;0.084;9;67;0.9968;3.17;0.53;9.4;5\\n6.9;0.4;0.14;2.4;0.085;21;40;0.9968;3.43;0.63;9.7;6\\n6.3;0.39;0.16;1.4;0.08;11;23;0.9955;3.34;0.56;9.3;5\\n7.6;0.41;0.24;1.8;0.08;4;11;0.9962;3.28;0.59;9.5;5\\n7.9;0.43;0.21;1.6;0.106;10;37;0.9966;3.17;0.91;9.5;5\\n7.1;0.71;0;1.9;0.08;14;35;0.9972;3.47;0.55;9.4;5\\n7.8;0.645;0;2;0.082;8;16;0.9964;3.38;0.59;9.8;6\\n6.7;0.675;0.07;2.4;0.089;17;82;0.9958;3.35;0.54;10.1;5\\n6.9;0.685;0;2.5;0.105;22;37;0.9966;3.46;0.57;10.6;6\\n8.3;0.655;0.12;2.3;0.083;15;113;0.9966;3.17;0.66;9.8;5\\n6.9;0.605;0.12;10.7;0.073;40;83;0.9993;3.45;0.52;9.4;6\\n5.2;0.32;0.25;1.8;0.103;13;50;0.9957;3.38;0.55;9.2;5\\n7.8;0.645;0;5.5;0.086;5;18;0.9986;3.4;0.55;9.6;6\\n7.8;0.6;0.14;'"
      ]
     },
     "execution_count": 12,
     "metadata": {},
     "output_type": "execute_result"
    }
   ],
   "source": [
    "%python\n",
    "dbutils.fs.head(\"dbfs:/Volumes/marscat/marsschema/marsdemo_csv_vol/wine-quality/winequality-red.csv\", 2048)"
   ]
  },
  {
   "cell_type": "code",
   "execution_count": 0,
   "metadata": {
    "application/vnd.databricks.v1+cell": {
     "cellMetadata": {
      "byteLimit": 2048000,
      "rowLimit": 10000
     },
     "inputWidgets": {},
     "nuid": "2dd7ee83-c3fb-4193-8c17-086a61d61f09",
     "showTitle": false,
     "tableResultSettingsMap": {},
     "title": ""
    }
   },
   "outputs": [
    {
     "output_type": "stream",
     "name": "stdout",
     "output_type": "stream",
     "text": [
      "\"fixed acidity\";\"volatile acidity\";\"citric acid\";\"residual sugar\";\"chlorides\";\"free sulfur dioxide\";\"total sulfur dioxide\";\"density\";\"pH\";\"sulphates\";\"alcohol\";\"quality\"\n7.4;0.7;0;1.9;0.076;11;34;0.9978;3.51;0.56;9.4;5\n7.8;0.88;0;2.6;0.098;25;67;0.9968;3.2;0.68;9.8;5\n7.8;0.76;0.04;2.3;0.092;15;54;0.997;3.26;0.65;9.8;5\n11.2;0.28;0.56;1.9;0.075;17;60;0.998;3.16;0.58;9.8;6\n7.4;0.7;0;1.9;0.076;11;34;0.9978;3.51;0.56;9.4;5\n7.4;0.66;0;1.8;0.075;13;40;0.9978;3.51;0.56;9.4;5\n7.9;0.6;0.06;1.6;0.069;15;59;0.9964;3.3;0.46;9.4;5\n7.3;0.65;0;1.2;0.065;15;21;0.9946;3.39;0.47;10;7\n7.8;0.58;0.02;2;0.073;9;18;0.9968;3.36;0.57;9.5;7\n"
     ]
    }
   ],
   "source": [
    "%python\n",
    "with open('/Volumes/marscat/marsschema/marsdemo_csv_vol/wine-quality/winequality-red.csv', 'r') as file:\n",
    "    for i in range(10):\n",
    "        print(file.readline().strip())  # Read and print each line, stripping extra spaces\n"
   ]
  },
  {
   "cell_type": "code",
   "execution_count": 0,
   "metadata": {
    "application/vnd.databricks.v1+cell": {
     "cellMetadata": {
      "byteLimit": 2048000,
      "rowLimit": 10000
     },
     "inputWidgets": {},
     "nuid": "df9864b9-3a71-4c4c-bdc0-58e9b10cb3b0",
     "showTitle": false,
     "tableResultSettingsMap": {},
     "title": ""
    }
   },
   "outputs": [
    {
     "output_type": "stream",
     "name": "stdout",
     "output_type": "stream",
     "text": [
      "\"fixed acidity\";\"volatile acidity\";\"citric acid\";\"residual sugar\";\"chlorides\";\"free sulfur dioxide\";\"total sulfur dioxide\";\"density\";\"pH\";\"sulphates\";\"alcohol\";\"quality\"\n7.4;0.7;0;1.9;0.076;11;34;0.9978;3.51;0.56;9.4;5\n7.8;0.88;0;2.6;0.098;25;67;0.9968;3.2;0.68;9.8;5\n7.8;0.76;0.04;2.3;0.092;15;54;0.997;3.26;0.65;9.8;5\n11.2;0.28;0.56;1.9;0.075;17;60;0.998;3.16;0.58;9.8;6\n7.4;0.7;0;1.9;0.076;11;34;0.9978;3.51;0.56;9.4;5\n7.4;0.66;0;1.8;0.075;13;40;0.9978;3.51;0.56;9.4;5\n7.9;0.6;0.06;1.6;0.069;15;59;0.9964;3.3;0.46;9.4;5\n7.3;0.65;0;1.2;0.065;15;21;0.9946;3.39;0.47;10;7\n7.8;0.58;0.02;2;0.073;9;18;0.9968;3.36;0.57;9.5;7\n"
     ]
    }
   ],
   "source": [
    "%sh\n",
    "cat /Volumes/marscat/marsschema/marsdemo_csv_vol/wine-quality/winequality-red.csv | head -n 10"
   ]
  },
  {
   "cell_type": "code",
   "execution_count": 0,
   "metadata": {
    "application/vnd.databricks.v1+cell": {
     "cellMetadata": {
      "byteLimit": 2048000,
      "rowLimit": 10000
     },
     "inputWidgets": {},
     "nuid": "5b661d92-2f5b-493a-8bea-d77838d7a7c8",
     "showTitle": false,
     "tableResultSettingsMap": {},
     "title": ""
    }
   },
   "outputs": [
    {
     "output_type": "stream",
     "name": "stdout",
     "output_type": "stream",
     "text": [
      "Wrote 7 bytes.\n"
     ]
    },
    {
     "output_type": "execute_result",
     "data": {
      "text/plain": [
       "True"
      ]
     },
     "execution_count": 15,
     "metadata": {},
     "output_type": "execute_result"
    }
   ],
   "source": [
    "%python\n",
    "dbutils.fs.put(\"/Volumes/marscat/marsschema/marsdemo_csv_vol/sample/sample_data.csv\",f\"1,2,3,4\",True)"
   ]
  },
  {
   "cell_type": "code",
   "execution_count": 0,
   "metadata": {
    "application/vnd.databricks.v1+cell": {
     "cellMetadata": {
      "byteLimit": 2048000,
      "rowLimit": 10000
     },
     "inputWidgets": {},
     "nuid": "3e818e85-0913-4cf2-b977-985a4a994ad9",
     "showTitle": false,
     "tableResultSettingsMap": {},
     "title": ""
    }
   },
   "outputs": [
    {
     "output_type": "stream",
     "name": "stdout",
     "output_type": "stream",
     "text": [
      "Wrote 7 bytes.\n"
     ]
    },
    {
     "output_type": "execute_result",
     "data": {
      "text/plain": [
       "True"
      ]
     },
     "execution_count": 16,
     "metadata": {},
     "output_type": "execute_result"
    }
   ],
   "source": [
    "%python\n",
    "dbutils.fs.put(\"dbfs:/Volumes/marscat/marsschema/marsdemo_csv_vol/sample/sample_data.csv\",f\"1,2,3,4\",True)"
   ]
  },
  {
   "cell_type": "code",
   "execution_count": 0,
   "metadata": {
    "application/vnd.databricks.v1+cell": {
     "cellMetadata": {
      "byteLimit": 2048000,
      "rowLimit": 10000
     },
     "inputWidgets": {},
     "nuid": "0641b2b1-9929-47db-abf5-3668b817fa57",
     "showTitle": false,
     "tableResultSettingsMap": {},
     "title": ""
    }
   },
   "outputs": [
    {
     "output_type": "display_data",
     "data": {
      "text/html": [
       "<style scoped>\n",
       "  .table-result-container {\n",
       "    max-height: 300px;\n",
       "    overflow: auto;\n",
       "  }\n",
       "  table, th, td {\n",
       "    border: 1px solid black;\n",
       "    border-collapse: collapse;\n",
       "  }\n",
       "  th, td {\n",
       "    padding: 5px;\n",
       "  }\n",
       "  th {\n",
       "    text-align: left;\n",
       "  }\n",
       "</style><div class='table-result-container'><table class='table-result'><thead style='background-color: white'><tr><th>path</th><th>name</th><th>size</th><th>modificationTime</th></tr></thead><tbody><tr><td>dbfs:/Volumes/marscat/marsschema/marsdemo_csv_vol/sample/sample_data.csv</td><td>sample_data.csv</td><td>7</td><td>1743092499000</td></tr></tbody></table></div>"
      ]
     },
     "metadata": {
      "application/vnd.databricks.v1+output": {
       "addedWidgets": {},
       "aggData": [],
       "aggError": "",
       "aggOverflow": false,
       "aggSchema": [],
       "aggSeriesLimitReached": false,
       "aggType": "",
       "arguments": {},
       "columnCustomDisplayInfos": {},
       "data": [
        [
         "dbfs:/Volumes/marscat/marsschema/marsdemo_csv_vol/sample/sample_data.csv",
         "sample_data.csv",
         7,
         1743092499000
        ]
       ],
       "datasetInfos": [],
       "dbfsResultPath": null,
       "isJsonSchema": true,
       "metadata": {},
       "overflow": false,
       "plotOptions": {
        "customPlotOptions": {},
        "displayType": "table",
        "pivotAggregation": null,
        "pivotColumns": null,
        "xColumns": null,
        "yColumns": null
       },
       "removedWidgets": [],
       "schema": [
        {
         "metadata": "{}",
         "name": "path",
         "type": "\"string\""
        },
        {
         "metadata": "{}",
         "name": "name",
         "type": "\"string\""
        },
        {
         "metadata": "{}",
         "name": "size",
         "type": "\"long\""
        },
        {
         "metadata": "{}",
         "name": "modificationTime",
         "type": "\"long\""
        }
       ],
       "type": "table"
      }
     },
     "output_type": "display_data"
    }
   ],
   "source": [
    "%python\n",
    "display(dbutils.fs.ls(\"dbfs:/Volumes/marscat/marsschema/marsdemo_csv_vol/sample/sample_data.csv\"))"
   ]
  },
  {
   "cell_type": "code",
   "execution_count": 0,
   "metadata": {
    "application/vnd.databricks.v1+cell": {
     "cellMetadata": {
      "byteLimit": 2048000,
      "rowLimit": 10000
     },
     "inputWidgets": {},
     "nuid": "1a69d567-9b2f-4968-8875-41993d031f67",
     "showTitle": false,
     "tableResultSettingsMap": {},
     "title": ""
    }
   },
   "outputs": [
    {
     "output_type": "execute_result",
     "data": {
      "text/plain": [
       "'1,2,3,4'"
      ]
     },
     "execution_count": 18,
     "metadata": {},
     "output_type": "execute_result"
    }
   ],
   "source": [
    "%python\n",
    "dbutils.fs.head(\"dbfs:/Volumes/marscat/marsschema/marsdemo_csv_vol/sample/sample_data.csv\")"
   ]
  },
  {
   "cell_type": "code",
   "execution_count": 0,
   "metadata": {
    "application/vnd.databricks.v1+cell": {
     "cellMetadata": {
      "byteLimit": 2048000,
      "rowLimit": 10000
     },
     "inputWidgets": {},
     "nuid": "427be9ba-e411-425f-a04c-7a8009512efe",
     "showTitle": false,
     "tableResultSettingsMap": {},
     "title": ""
    }
   },
   "outputs": [
    {
     "output_type": "stream",
     "name": "stdout",
     "output_type": "stream",
     "text": [
      "1,2,3,4\n"
     ]
    }
   ],
   "source": [
    "%python\n",
    "with open('/Volumes/marscat/marsschema/marsdemo_csv_vol/sample/sample_data.csv', 'r') as file:\n",
    "    data = file.read().rstrip()\n",
    "    print(data)"
   ]
  },
  {
   "cell_type": "code",
   "execution_count": 0,
   "metadata": {
    "application/vnd.databricks.v1+cell": {
     "cellMetadata": {
      "byteLimit": 2048000,
      "rowLimit": 10000
     },
     "inputWidgets": {},
     "nuid": "51752bfc-529e-4874-a118-35ac0531199b",
     "showTitle": true,
     "tableResultSettingsMap": {},
     "title": "Path based access"
    }
   },
   "outputs": [
    {
     "output_type": "display_data",
     "data": {
      "text/html": [
       "<style scoped>\n",
       "  .table-result-container {\n",
       "    max-height: 300px;\n",
       "    overflow: auto;\n",
       "  }\n",
       "  table, th, td {\n",
       "    border: 1px solid black;\n",
       "    border-collapse: collapse;\n",
       "  }\n",
       "  th, td {\n",
       "    padding: 5px;\n",
       "  }\n",
       "  th {\n",
       "    text-align: left;\n",
       "  }\n",
       "</style><div class='table-result-container'><table class='table-result'><thead style='background-color: white'><tr><th>_c0</th><th>_c1</th><th>_c2</th><th>_c3</th></tr></thead><tbody><tr><td>1</td><td>2</td><td>3</td><td>4</td></tr></tbody></table></div>"
      ]
     },
     "metadata": {
      "application/vnd.databricks.v1+output": {
       "addedWidgets": {},
       "aggData": [],
       "aggError": "",
       "aggOverflow": false,
       "aggSchema": [],
       "aggSeriesLimitReached": false,
       "aggType": "",
       "arguments": {},
       "columnCustomDisplayInfos": {},
       "data": [
        [
         "1",
         "2",
         "3",
         "4"
        ]
       ],
       "datasetInfos": [],
       "dbfsResultPath": null,
       "isJsonSchema": true,
       "metadata": {},
       "overflow": false,
       "plotOptions": {
        "customPlotOptions": {},
        "displayType": "table",
        "pivotAggregation": null,
        "pivotColumns": null,
        "xColumns": null,
        "yColumns": null
       },
       "removedWidgets": [],
       "schema": [
        {
         "metadata": "{}",
         "name": "_c0",
         "type": "\"string\""
        },
        {
         "metadata": "{}",
         "name": "_c1",
         "type": "\"string\""
        },
        {
         "metadata": "{}",
         "name": "_c2",
         "type": "\"string\""
        },
        {
         "metadata": "{}",
         "name": "_c3",
         "type": "\"string\""
        }
       ],
       "type": "table"
      }
     },
     "output_type": "display_data"
    }
   ],
   "source": [
    "%python\n",
    "df = spark.read.format(\"csv\").load(\"abfss://dkushari@dkusharistorageaccount.dfs.core.windows.net/marsdemo/csv/volumedemo/sample\")\n",
    "display(df)"
   ]
  },
  {
   "cell_type": "code",
   "execution_count": 0,
   "metadata": {
    "application/vnd.databricks.v1+cell": {
     "cellMetadata": {
      "byteLimit": 2048000,
      "rowLimit": 10000
     },
     "inputWidgets": {},
     "nuid": "892e7784-fccd-4f34-a478-cd7c97930ee7",
     "showTitle": true,
     "tableResultSettingsMap": {},
     "title": "Volume based access"
    }
   },
   "outputs": [
    {
     "output_type": "display_data",
     "data": {
      "text/html": [
       "<style scoped>\n",
       "  .table-result-container {\n",
       "    max-height: 300px;\n",
       "    overflow: auto;\n",
       "  }\n",
       "  table, th, td {\n",
       "    border: 1px solid black;\n",
       "    border-collapse: collapse;\n",
       "  }\n",
       "  th, td {\n",
       "    padding: 5px;\n",
       "  }\n",
       "  th {\n",
       "    text-align: left;\n",
       "  }\n",
       "</style><div class='table-result-container'><table class='table-result'><thead style='background-color: white'><tr><th>_c0</th><th>_c1</th><th>_c2</th><th>_c3</th></tr></thead><tbody><tr><td>1</td><td>2</td><td>3</td><td>4</td></tr></tbody></table></div>"
      ]
     },
     "metadata": {
      "application/vnd.databricks.v1+output": {
       "addedWidgets": {},
       "aggData": [],
       "aggError": "",
       "aggOverflow": false,
       "aggSchema": [],
       "aggSeriesLimitReached": false,
       "aggType": "",
       "arguments": {},
       "columnCustomDisplayInfos": {},
       "data": [
        [
         "1",
         "2",
         "3",
         "4"
        ]
       ],
       "datasetInfos": [],
       "dbfsResultPath": null,
       "isJsonSchema": true,
       "metadata": {},
       "overflow": false,
       "plotOptions": {
        "customPlotOptions": {},
        "displayType": "table",
        "pivotAggregation": null,
        "pivotColumns": null,
        "xColumns": null,
        "yColumns": null
       },
       "removedWidgets": [],
       "schema": [
        {
         "metadata": "{}",
         "name": "_c0",
         "type": "\"string\""
        },
        {
         "metadata": "{}",
         "name": "_c1",
         "type": "\"string\""
        },
        {
         "metadata": "{}",
         "name": "_c2",
         "type": "\"string\""
        },
        {
         "metadata": "{}",
         "name": "_c3",
         "type": "\"string\""
        }
       ],
       "type": "table"
      }
     },
     "output_type": "display_data"
    }
   ],
   "source": [
    "%python\n",
    "df = spark.read.format(\"csv\").load(\"/Volumes/marscat/marsschema/marsdemo_csv_vol/sample\")\n",
    "display(df)"
   ]
  }
 ],
 "metadata": {
  "application/vnd.databricks.v1+notebook": {
   "computePreferences": null,
   "dashboards": [],
   "environmentMetadata": null,
   "language": "sql",
   "notebookMetadata": {
    "mostRecentlyExecutedCommandWithImplicitDF": {
     "commandId": 3542455783486318,
     "dataframes": [
      "_sqldf"
     ]
    },
    "pythonIndentUnit": 2
   },
   "notebookName": "Demo with Volume for Mars",
   "widgets": {}
  },
  "language_info": {
   "name": "sql"
  }
 },
 "nbformat": 4,
 "nbformat_minor": 0
}