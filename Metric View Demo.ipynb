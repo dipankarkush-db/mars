{
 "cells": [
  {
   "cell_type": "code",
   "execution_count": 0,
   "metadata": {
    "application/vnd.databricks.v1+cell": {
     "cellMetadata": {
      "byteLimit": 2048000,
      "implicitDf": true,
      "rowLimit": 10000
     },
     "inputWidgets": {},
     "nuid": "03b284f0-e6b4-423c-9915-6a07897869c9",
     "showTitle": false,
     "tableResultSettingsMap": {},
     "title": ""
    }
   },
   "outputs": [],
   "source": [
    "%sql\n",
    "use catalog dkushari_uc;\n",
    "use metric_view_demo;"
   ]
  },
  {
   "cell_type": "code",
   "execution_count": 0,
   "metadata": {
    "application/vnd.databricks.v1+cell": {
     "cellMetadata": {
      "byteLimit": 2048000,
      "implicitDf": true,
      "rowLimit": 10000
     },
     "inputWidgets": {},
     "nuid": "69d1f626-e4a1-4b3d-a3b8-b67090437604",
     "showTitle": false,
     "tableResultSettingsMap": {},
     "title": ""
    }
   },
   "outputs": [
    {
     "output_type": "display_data",
     "data": {
      "text/html": [
       "<style scoped>\n",
       "  .table-result-container {\n",
       "    max-height: 300px;\n",
       "    overflow: auto;\n",
       "  }\n",
       "  table, th, td {\n",
       "    border: 1px solid black;\n",
       "    border-collapse: collapse;\n",
       "  }\n",
       "  th, td {\n",
       "    padding: 5px;\n",
       "  }\n",
       "  th {\n",
       "    text-align: left;\n",
       "  }\n",
       "</style><div class='table-result-container'><table class='table-result'><thead style='background-color: white'><tr><th>source_table_size</th><th>source_num_of_files</th><th>num_of_synced_transactions</th><th>num_removed_files</th><th>num_copied_files</th><th>removed_files_size</th><th>copied_files_size</th></tr></thead><tbody><tr><td>1690</td><td>1</td><td>null</td><td>0</td><td>1</td><td>0</td><td>1690</td></tr></tbody></table></div>"
      ]
     },
     "metadata": {
      "application/vnd.databricks.v1+output": {
       "addedWidgets": {},
       "aggData": [],
       "aggError": "",
       "aggOverflow": false,
       "aggSchema": [],
       "aggSeriesLimitReached": false,
       "aggType": "",
       "arguments": {},
       "columnCustomDisplayInfos": {},
       "data": [
        [
         1690,
         1,
         null,
         0,
         1,
         0,
         1690
        ]
       ],
       "datasetInfos": [
        {
         "name": "_sqldf",
         "schema": {
          "fields": [
           {
            "metadata": {},
            "name": "source_table_size",
            "nullable": true,
            "type": "long"
           },
           {
            "metadata": {},
            "name": "source_num_of_files",
            "nullable": true,
            "type": "long"
           },
           {
            "metadata": {},
            "name": "num_of_synced_transactions",
            "nullable": true,
            "type": "long"
           },
           {
            "metadata": {},
            "name": "num_removed_files",
            "nullable": true,
            "type": "long"
           },
           {
            "metadata": {},
            "name": "num_copied_files",
            "nullable": true,
            "type": "long"
           },
           {
            "metadata": {},
            "name": "removed_files_size",
            "nullable": true,
            "type": "long"
           },
           {
            "metadata": {},
            "name": "copied_files_size",
            "nullable": true,
            "type": "long"
           }
          ],
          "type": "struct"
         },
         "tableIdentifier": null,
         "typeStr": "pyspark.sql.connect.dataframe.DataFrame"
        }
       ],
       "dbfsResultPath": null,
       "isJsonSchema": true,
       "metadata": {
        "createTempViewForImplicitDf": true,
        "dataframeName": "_sqldf",
        "executionCount": 5
       },
       "overflow": false,
       "plotOptions": {
        "customPlotOptions": {},
        "displayType": "table",
        "pivotAggregation": null,
        "pivotColumns": null,
        "xColumns": null,
        "yColumns": null
       },
       "removedWidgets": [],
       "schema": [
        {
         "metadata": "{}",
         "name": "source_table_size",
         "type": "\"long\""
        },
        {
         "metadata": "{}",
         "name": "source_num_of_files",
         "type": "\"long\""
        },
        {
         "metadata": "{}",
         "name": "num_of_synced_transactions",
         "type": "\"long\""
        },
        {
         "metadata": "{}",
         "name": "num_removed_files",
         "type": "\"long\""
        },
        {
         "metadata": "{}",
         "name": "num_copied_files",
         "type": "\"long\""
        },
        {
         "metadata": "{}",
         "name": "removed_files_size",
         "type": "\"long\""
        },
        {
         "metadata": "{}",
         "name": "copied_files_size",
         "type": "\"long\""
        }
       ],
       "type": "table"
      }
     },
     "output_type": "display_data"
    }
   ],
   "source": [
    "%sql\n",
    "create table if not exists customer deep clone samples.tpch.customer;\n",
    "create table if not exists orders deep clone samples.tpch.orders;\n",
    "create table if not exists lineitem deep clone samples.tpch.lineitem;\n",
    "create table if not exists part deep clone samples.tpch.part;\n",
    "create table if not exists supplier deep clone samples.tpch.supplier;\n",
    "create table if not exists partsupp deep clone samples.tpch.partsupp;\n",
    "create table if not exists nation deep clone samples.tpch.nation;\n",
    "create table if not exists region deep clone samples.tpch.region;"
   ]
  },
  {
   "cell_type": "code",
   "execution_count": 0,
   "metadata": {
    "application/vnd.databricks.v1+cell": {
     "cellMetadata": {
      "byteLimit": 2048000,
      "implicitDf": true,
      "rowLimit": 10000
     },
     "inputWidgets": {},
     "nuid": "0027a912-a773-4922-a9b1-759d6d13243e",
     "showTitle": false,
     "tableResultSettingsMap": {},
     "title": ""
    }
   },
   "outputs": [],
   "source": [
    "%sql\n",
    "create schema if not exists metric_view_schema;"
   ]
  },
  {
   "cell_type": "code",
   "execution_count": 0,
   "metadata": {
    "application/vnd.databricks.v1+cell": {
     "cellMetadata": {
      "byteLimit": 2048000,
      "implicitDf": true,
      "rowLimit": 10000
     },
     "inputWidgets": {},
     "nuid": "cdeb9dc8-f48e-4168-baf3-a9e7ad6aa173",
     "showTitle": false,
     "tableResultSettingsMap": {},
     "title": ""
    }
   },
   "outputs": [],
   "source": [
    "%sql\n",
    "use dkushari_uc.metric_view_schema;\n",
    "DROP VIEW IF EXISTS demo_orders_metric_view;\n",
    "DROP VIEW IF EXISTS demo_lineitem_metric_view;"
   ]
  },
  {
   "cell_type": "code",
   "execution_count": 0,
   "metadata": {
    "application/vnd.databricks.v1+cell": {
     "cellMetadata": {},
     "inputWidgets": {},
     "nuid": "45fd56d4-36d8-4d3c-8e5d-3e674ff96d99",
     "showTitle": false,
     "tableResultSettingsMap": {},
     "title": ""
    }
   },
   "outputs": [],
   "source": [
    "# version: 0.1\n",
    "\n",
    "\n",
    "# source: dkushari_uc.metric_view_demo.orders\n",
    "# filter: o_orderdate > '1990-01-01'\n",
    "\n",
    "\n",
    "# dimensions:\n",
    "#  - name: Order Month\n",
    "#    expr: date_format(o_orderdate, 'MMMM')\n",
    "\n",
    "#  - name: Order Status\n",
    "#    expr: >\n",
    "#      case\n",
    "#        when o_orderstatus = 'O' then 'Open'\n",
    "#        when o_orderstatus = 'P' then 'Processing'\n",
    "#        when o_orderstatus = 'F' then 'Fulfilled'\n",
    "#      end\n",
    "\n",
    "\n",
    "#  - name: Order Priority\n",
    "#    expr: split(o_orderpriority, '-')[1]\n",
    "\n",
    "\n",
    "# measures:\n",
    "#  - name: Order Count\n",
    "#    expr: count(1)\n",
    "\n",
    "\n",
    "#  - name: Total Revenue\n",
    "#    expr: SUM(o_totalprice)\n",
    "\n",
    "\n",
    "#  - name: Total Revenue per Customer\n",
    "#    expr: SUM(o_totalprice) / count(distinct o_custkey)\n",
    "\n",
    "\n",
    "#  - name: Total Revenue for Open Orders\n",
    "#    expr: SUM(o_totalprice) filter (where o_orderstatus='O')"
   ]
  },
  {
   "cell_type": "code",
   "execution_count": 0,
   "metadata": {
    "application/vnd.databricks.v1+cell": {
     "cellMetadata": {
      "byteLimit": 2048000,
      "implicitDf": true,
      "rowLimit": 10000
     },
     "inputWidgets": {},
     "nuid": "2f587972-c06a-4245-b453-0e293a8e37bb",
     "showTitle": false,
     "tableResultSettingsMap": {},
     "title": ""
    }
   },
   "outputs": [
    {
     "output_type": "display_data",
     "data": {
      "text/html": [
       "<style scoped>\n",
       "  .table-result-container {\n",
       "    max-height: 300px;\n",
       "    overflow: auto;\n",
       "  }\n",
       "  table, th, td {\n",
       "    border: 1px solid black;\n",
       "    border-collapse: collapse;\n",
       "  }\n",
       "  th, td {\n",
       "    padding: 5px;\n",
       "  }\n",
       "  th {\n",
       "    text-align: left;\n",
       "  }\n",
       "</style><div class='table-result-container'><table class='table-result'><thead style='background-color: white'><tr><th>col_name</th><th>data_type</th><th>comment</th></tr></thead><tbody><tr><td>Order Month</td><td>timestamp</td><td>null</td></tr><tr><td>Order Status</td><td>string</td><td>null</td></tr><tr><td>Order Priority</td><td>string</td><td>null</td></tr><tr><td>Order Count</td><td>bigint</td><td>null</td></tr><tr><td>Total Revenue</td><td>decimal(28,2)</td><td>null</td></tr><tr><td>Total Revenue per Customer</td><td>decimal(38,12)</td><td>null</td></tr><tr><td>Total Revenue for Open Orders</td><td>decimal(28,2)</td><td>null</td></tr></tbody></table></div>"
      ]
     },
     "metadata": {
      "application/vnd.databricks.v1+output": {
       "addedWidgets": {},
       "aggData": [],
       "aggError": "",
       "aggOverflow": false,
       "aggSchema": [],
       "aggSeriesLimitReached": false,
       "aggType": "",
       "arguments": {},
       "columnCustomDisplayInfos": {},
       "data": [
        [
         "Order Month",
         "timestamp",
         null
        ],
        [
         "Order Status",
         "string",
         null
        ],
        [
         "Order Priority",
         "string",
         null
        ],
        [
         "Order Count",
         "bigint",
         null
        ],
        [
         "Total Revenue",
         "decimal(28,2)",
         null
        ],
        [
         "Total Revenue per Customer",
         "decimal(38,12)",
         null
        ],
        [
         "Total Revenue for Open Orders",
         "decimal(28,2)",
         null
        ]
       ],
       "datasetInfos": [
        {
         "name": "_sqldf",
         "schema": {
          "fields": [
           {
            "metadata": {},
            "name": "col_name",
            "nullable": false,
            "type": "string"
           },
           {
            "metadata": {},
            "name": "data_type",
            "nullable": false,
            "type": "string"
           },
           {
            "metadata": {},
            "name": "comment",
            "nullable": true,
            "type": "string"
           }
          ],
          "type": "struct"
         },
         "tableIdentifier": null,
         "typeStr": "pyspark.sql.connect.dataframe.DataFrame"
        }
       ],
       "dbfsResultPath": null,
       "isJsonSchema": true,
       "metadata": {
        "createTempViewForImplicitDf": true,
        "dataframeName": "_sqldf",
        "executionCount": 15
       },
       "overflow": false,
       "plotOptions": {
        "customPlotOptions": {},
        "displayType": "table",
        "pivotAggregation": null,
        "pivotColumns": null,
        "xColumns": null,
        "yColumns": null
       },
       "removedWidgets": [],
       "schema": [
        {
         "metadata": "{}",
         "name": "col_name",
         "type": "\"string\""
        },
        {
         "metadata": "{}",
         "name": "data_type",
         "type": "\"string\""
        },
        {
         "metadata": "{}",
         "name": "comment",
         "type": "\"string\""
        }
       ],
       "type": "table"
      }
     },
     "output_type": "display_data"
    }
   ],
   "source": [
    "%sql\n",
    "describe table demo_orders_metric_view;"
   ]
  },
  {
   "cell_type": "code",
   "execution_count": 0,
   "metadata": {
    "application/vnd.databricks.v1+cell": {
     "cellMetadata": {
      "byteLimit": 2048000,
      "implicitDf": true,
      "rowLimit": 10000
     },
     "inputWidgets": {},
     "nuid": "2ba27f04-9325-4b8d-8b2d-deb75ef7cc2e",
     "showTitle": false,
     "tableResultSettingsMap": {},
     "title": ""
    }
   },
   "outputs": [
    {
     "output_type": "display_data",
     "data": {
      "text/html": [
       "<style scoped>\n",
       "  .table-result-container {\n",
       "    max-height: 300px;\n",
       "    overflow: auto;\n",
       "  }\n",
       "  table, th, td {\n",
       "    border: 1px solid black;\n",
       "    border-collapse: collapse;\n",
       "  }\n",
       "  th, td {\n",
       "    padding: 5px;\n",
       "  }\n",
       "  th {\n",
       "    text-align: left;\n",
       "  }\n",
       "</style><div class='table-result-container'><table class='table-result'><thead style='background-color: white'><tr><th>col_name</th><th>data_type</th><th>comment</th></tr></thead><tbody><tr><td>Order Month</td><td>string</td><td>null</td></tr><tr><td>Order Status</td><td>string</td><td>null</td></tr><tr><td>Order Priority</td><td>string</td><td>null</td></tr><tr><td>Order Count</td><td>bigint measure</td><td>null</td></tr><tr><td>Total Revenue</td><td>decimal(28,2) measure</td><td>null</td></tr><tr><td>Total Revenue per Customer</td><td>decimal(38,12) measure</td><td>null</td></tr><tr><td>Total Revenue for Open Orders</td><td>decimal(28,2) measure</td><td>null</td></tr><tr><td></td><td></td><td></td></tr><tr><td># Detailed Table Information</td><td></td><td></td></tr><tr><td>Catalog</td><td>dkushari_uc</td><td></td></tr><tr><td>Database</td><td>metric_view_schema</td><td></td></tr><tr><td>Table</td><td>demo_orders_metric_view</td><td></td></tr><tr><td>Owner</td><td>dipankar.kushari@databricks.com</td><td></td></tr><tr><td>Created Time</td><td>Wed May 14 13:26:58 UTC 2025</td><td></td></tr><tr><td>Last Access</td><td>UNKNOWN</td><td></td></tr><tr><td>Created By</td><td>Spark </td><td></td></tr><tr><td>Type</td><td>METRIC_VIEW</td><td></td></tr><tr><td>View Text</td><td>\n",
       "version: 0.1\n",
       "\n",
       "\n",
       "source: dkushari_uc.metric_view_demo.orders\n",
       "filter: o_orderdate > '1990-01-01'\n",
       "\n",
       "\n",
       "dimensions:\n",
       " - name: Order Month\n",
       "   expr: date_format(o_orderdate, 'MMMM')\n",
       "\n",
       " - name: Order Status\n",
       "   expr: >\n",
       "     case\n",
       "       when o_orderstatus = 'O' then 'Open'\n",
       "       when o_orderstatus = 'P' then 'Processing'\n",
       "       when o_orderstatus = 'F' then 'Fulfilled'\n",
       "     end\n",
       "\n",
       "\n",
       " - name: Order Priority\n",
       "   expr: split(o_orderpriority, '-')[1]\n",
       "\n",
       "\n",
       "measures:\n",
       " - name: Order Count\n",
       "   expr: count(1)\n",
       "\n",
       "\n",
       " - name: Total Revenue\n",
       "   expr: SUM(o_totalprice)\n",
       "\n",
       "\n",
       " - name: Total Revenue per Customer\n",
       "   expr: SUM(o_totalprice) / count(distinct o_custkey)\n",
       "\n",
       "\n",
       " - name: Total Revenue for Open Orders\n",
       "   expr: SUM(o_totalprice) filter (where o_orderstatus='O')\n",
       "</td><td></td></tr><tr><td>Language</td><td>YAML</td><td></td></tr><tr><td>Table Properties</td><td>[metric_view.from.name=dkushari_uc.metric_view_demo.orders, metric_view.from.type=ASSET, metric_view.raw_yml=\n",
       "version: 0.1\n",
       "\n",
       "\n",
       "source: dkushari_uc.metric_view_demo.orders\n",
       "filter: o_orderdate > '1990-01-01'\n",
       "\n",
       "\n",
       "dimensions:\n",
       " - name: Order Month\n",
       "   expr: date_format(o_orderdate, 'MMMM')\n",
       "\n",
       " - name: Order Status\n",
       "   expr: >\n",
       "     case\n",
       "       when o_orderstatus = 'O' then 'Open'\n",
       "       when o_orderstatus = 'P' then 'Processing'\n",
       "       when o_orderstatus = 'F' then 'Fulfilled'\n",
       "     end\n",
       "\n",
       "\n",
       " - name: Order Priority\n",
       "   expr: split(o_orderpriority, '-')[1]\n",
       "\n",
       "\n",
       "measures:\n",
       " - name: Order Count\n",
       "   expr: count(1)\n",
       "\n",
       "\n",
       " - name: Total Revenue\n",
       "   expr: SUM(o_totalprice)\n",
       "\n",
       "\n",
       " - name: Total Revenue per Customer\n",
       "   expr: SUM(o_totalprice) / count(distinct o_custkey)\n",
       "\n",
       "\n",
       " - name: Total Revenue for Open Orders\n",
       "   expr: SUM(o_totalprice) filter (where o_orderstatus='O')\n",
       ", metric_view.where=o_orderdate > '1990-01-01']</td><td></td></tr></tbody></table></div>"
      ]
     },
     "metadata": {
      "application/vnd.databricks.v1+output": {
       "addedWidgets": {},
       "aggData": [],
       "aggError": "",
       "aggOverflow": false,
       "aggSchema": [],
       "aggSeriesLimitReached": false,
       "aggType": "",
       "arguments": {},
       "columnCustomDisplayInfos": {},
       "data": [
        [
         "Order Month",
         "string",
         null
        ],
        [
         "Order Status",
         "string",
         null
        ],
        [
         "Order Priority",
         "string",
         null
        ],
        [
         "Order Count",
         "bigint measure",
         null
        ],
        [
         "Total Revenue",
         "decimal(28,2) measure",
         null
        ],
        [
         "Total Revenue per Customer",
         "decimal(38,12) measure",
         null
        ],
        [
         "Total Revenue for Open Orders",
         "decimal(28,2) measure",
         null
        ],
        [
         "",
         "",
         ""
        ],
        [
         "# Detailed Table Information",
         "",
         ""
        ],
        [
         "Catalog",
         "dkushari_uc",
         ""
        ],
        [
         "Database",
         "metric_view_schema",
         ""
        ],
        [
         "Table",
         "demo_orders_metric_view",
         ""
        ],
        [
         "Owner",
         "dipankar.kushari@databricks.com",
         ""
        ],
        [
         "Created Time",
         "Wed May 14 13:26:58 UTC 2025",
         ""
        ],
        [
         "Last Access",
         "UNKNOWN",
         ""
        ],
        [
         "Created By",
         "Spark ",
         ""
        ],
        [
         "Type",
         "METRIC_VIEW",
         ""
        ],
        [
         "View Text",
         "\nversion: 0.1\n\n\nsource: dkushari_uc.metric_view_demo.orders\nfilter: o_orderdate > '1990-01-01'\n\n\ndimensions:\n - name: Order Month\n   expr: date_format(o_orderdate, 'MMMM')\n\n - name: Order Status\n   expr: >\n     case\n       when o_orderstatus = 'O' then 'Open'\n       when o_orderstatus = 'P' then 'Processing'\n       when o_orderstatus = 'F' then 'Fulfilled'\n     end\n\n\n - name: Order Priority\n   expr: split(o_orderpriority, '-')[1]\n\n\nmeasures:\n - name: Order Count\n   expr: count(1)\n\n\n - name: Total Revenue\n   expr: SUM(o_totalprice)\n\n\n - name: Total Revenue per Customer\n   expr: SUM(o_totalprice) / count(distinct o_custkey)\n\n\n - name: Total Revenue for Open Orders\n   expr: SUM(o_totalprice) filter (where o_orderstatus='O')\n",
         ""
        ],
        [
         "Language",
         "YAML",
         ""
        ],
        [
         "Table Properties",
         "[metric_view.from.name=dkushari_uc.metric_view_demo.orders, metric_view.from.type=ASSET, metric_view.raw_yml=\nversion: 0.1\n\n\nsource: dkushari_uc.metric_view_demo.orders\nfilter: o_orderdate > '1990-01-01'\n\n\ndimensions:\n - name: Order Month\n   expr: date_format(o_orderdate, 'MMMM')\n\n - name: Order Status\n   expr: >\n     case\n       when o_orderstatus = 'O' then 'Open'\n       when o_orderstatus = 'P' then 'Processing'\n       when o_orderstatus = 'F' then 'Fulfilled'\n     end\n\n\n - name: Order Priority\n   expr: split(o_orderpriority, '-')[1]\n\n\nmeasures:\n - name: Order Count\n   expr: count(1)\n\n\n - name: Total Revenue\n   expr: SUM(o_totalprice)\n\n\n - name: Total Revenue per Customer\n   expr: SUM(o_totalprice) / count(distinct o_custkey)\n\n\n - name: Total Revenue for Open Orders\n   expr: SUM(o_totalprice) filter (where o_orderstatus='O')\n, metric_view.where=o_orderdate > '1990-01-01']",
         ""
        ]
       ],
       "datasetInfos": [
        {
         "name": "_sqldf",
         "schema": {
          "fields": [
           {
            "metadata": {},
            "name": "col_name",
            "nullable": false,
            "type": "string"
           },
           {
            "metadata": {},
            "name": "data_type",
            "nullable": false,
            "type": "string"
           },
           {
            "metadata": {},
            "name": "comment",
            "nullable": true,
            "type": "string"
           }
          ],
          "type": "struct"
         },
         "tableIdentifier": null,
         "typeStr": "pyspark.sql.connect.dataframe.DataFrame"
        }
       ],
       "dbfsResultPath": null,
       "isJsonSchema": true,
       "metadata": {
        "createTempViewForImplicitDf": true,
        "dataframeName": "_sqldf",
        "executionCount": 10
       },
       "overflow": false,
       "plotOptions": {
        "customPlotOptions": {},
        "displayType": "table",
        "pivotAggregation": null,
        "pivotColumns": null,
        "xColumns": null,
        "yColumns": null
       },
       "removedWidgets": [],
       "schema": [
        {
         "metadata": "{}",
         "name": "col_name",
         "type": "\"string\""
        },
        {
         "metadata": "{}",
         "name": "data_type",
         "type": "\"string\""
        },
        {
         "metadata": "{}",
         "name": "comment",
         "type": "\"string\""
        }
       ],
       "type": "table"
      }
     },
     "output_type": "display_data"
    }
   ],
   "source": [
    "%sql\n",
    "DESCRIBE TABLE EXTENDED demo_orders_metric_view;"
   ]
  },
  {
   "cell_type": "markdown",
   "metadata": {
    "application/vnd.databricks.v1+cell": {
     "cellMetadata": {},
     "inputWidgets": {},
     "nuid": "288ef67b-b342-43d6-9be7-eaf59b93e624",
     "showTitle": false,
     "tableResultSettingsMap": {},
     "title": ""
    }
   },
   "source": [
    "###Evaluate 3 listed measures, using the metric view definition, and aggregate over Order Month and Order Status and sort by Order Month."
   ]
  },
  {
   "cell_type": "code",
   "execution_count": 0,
   "metadata": {
    "application/vnd.databricks.v1+cell": {
     "cellMetadata": {
      "byteLimit": 2048000,
      "implicitDf": true,
      "rowLimit": 10000
     },
     "inputWidgets": {},
     "nuid": "2dc4cc82-a86c-4572-8448-a06fc081a77e",
     "showTitle": false,
     "tableResultSettingsMap": {},
     "title": ""
    }
   },
   "outputs": [
    {
     "output_type": "display_data",
     "data": {
      "text/html": [
       "<style scoped>\n",
       "  .table-result-container {\n",
       "    max-height: 300px;\n",
       "    overflow: auto;\n",
       "  }\n",
       "  table, th, td {\n",
       "    border: 1px solid black;\n",
       "    border-collapse: collapse;\n",
       "  }\n",
       "  th, td {\n",
       "    padding: 5px;\n",
       "  }\n",
       "  th {\n",
       "    text-align: left;\n",
       "  }\n",
       "</style><div class='table-result-container'><table class='table-result'><thead style='background-color: white'><tr><th>Order Month</th><th>Order Status</th><th>order_count</th><th>total_revenue</th><th>total_revenue_per_customer</th></tr></thead><tbody><tr><td>April</td><td>Open</td><td>293511</td><td>43353485331.60</td><td>199902.640400603118</td></tr><tr><td>April</td><td>Processing</td><td>65910</td><td>12022198561.63</td><td>196136.692415857737</td></tr><tr><td>April</td><td>Fulfilled</td><td>295610</td><td>43630073904.62</td><td>200382.457055949002</td></tr><tr><td>August</td><td>Fulfilled</td><td>289897</td><td>43741755013.79</td><td>203570.271806090109</td></tr><tr><td>August</td><td>Open</td><td>296084</td><td>44736484826.29</td><td>204899.304855359220</td></tr><tr><td>December</td><td>Fulfilled</td><td>290070</td><td>43793397735.83</td><td>203187.451217591819</td></tr><tr><td>December</td><td>Open</td><td>289792</td><td>43825758351.15</td><td>203830.307989591230</td></tr><tr><td>February</td><td>Processing</td><td>6733</td><td>1291413885.79</td><td>193412.293813089711</td></tr><tr><td>February</td><td>Fulfilled</td><td>345544</td><td>52039313200.67</td><td>214051.371364574935</td></tr><tr><td>February</td><td>Open</td><td>265401</td><td>40184254849.80</td><td>199662.402799350098</td></tr></tbody></table></div>"
      ]
     },
     "metadata": {
      "application/vnd.databricks.v1+output": {
       "addedWidgets": {},
       "aggData": [],
       "aggError": "",
       "aggOverflow": false,
       "aggSchema": [],
       "aggSeriesLimitReached": false,
       "aggType": "",
       "arguments": {},
       "columnCustomDisplayInfos": {},
       "data": [
        [
         "April",
         "Open",
         293511,
         "43353485331.60",
         "199902.640400603118"
        ],
        [
         "April",
         "Processing",
         65910,
         "12022198561.63",
         "196136.692415857737"
        ],
        [
         "April",
         "Fulfilled",
         295610,
         "43630073904.62",
         "200382.457055949002"
        ],
        [
         "August",
         "Fulfilled",
         289897,
         "43741755013.79",
         "203570.271806090109"
        ],
        [
         "August",
         "Open",
         296084,
         "44736484826.29",
         "204899.304855359220"
        ],
        [
         "December",
         "Fulfilled",
         290070,
         "43793397735.83",
         "203187.451217591819"
        ],
        [
         "December",
         "Open",
         289792,
         "43825758351.15",
         "203830.307989591230"
        ],
        [
         "February",
         "Processing",
         6733,
         "1291413885.79",
         "193412.293813089711"
        ],
        [
         "February",
         "Fulfilled",
         345544,
         "52039313200.67",
         "214051.371364574935"
        ],
        [
         "February",
         "Open",
         265401,
         "40184254849.80",
         "199662.402799350098"
        ]
       ],
       "datasetInfos": [
        {
         "name": "_sqldf",
         "schema": {
          "fields": [
           {
            "metadata": {
             "metric_view.expr": "date_format(o_orderdate, 'MMMM')",
             "metric_view.type": "dimension"
            },
            "name": "Order Month",
            "nullable": true,
            "type": "string"
           },
           {
            "metadata": {
             "metric_view.expr": "case\n  when o_orderstatus = 'O' then 'Open'\n  when o_orderstatus = 'P' then 'Processing'\n  when o_orderstatus = 'F' then 'Fulfilled'\nend\n",
             "metric_view.type": "dimension"
            },
            "name": "Order Status",
            "nullable": true,
            "type": "string"
           },
           {
            "metadata": {},
            "name": "order_count",
            "nullable": true,
            "type": "long"
           },
           {
            "metadata": {},
            "name": "total_revenue",
            "nullable": true,
            "type": "decimal(28,2)"
           },
           {
            "metadata": {},
            "name": "total_revenue_per_customer",
            "nullable": true,
            "type": "decimal(38,12)"
           }
          ],
          "type": "struct"
         },
         "tableIdentifier": null,
         "typeStr": "pyspark.sql.connect.dataframe.DataFrame"
        }
       ],
       "dbfsResultPath": null,
       "isJsonSchema": true,
       "metadata": {
        "createTempViewForImplicitDf": true,
        "dataframeName": "_sqldf",
        "executionCount": 11
       },
       "overflow": false,
       "plotOptions": {
        "customPlotOptions": {},
        "displayType": "table",
        "pivotAggregation": null,
        "pivotColumns": null,
        "xColumns": null,
        "yColumns": null
       },
       "removedWidgets": [],
       "schema": [
        {
         "metadata": "{\"metric_view.expr\":\"date_format(o_orderdate, 'MMMM')\",\"metric_view.type\":\"dimension\"}",
         "name": "Order Month",
         "type": "\"string\""
        },
        {
         "metadata": "{\"metric_view.expr\":\"case\\n  when o_orderstatus = 'O' then 'Open'\\n  when o_orderstatus = 'P' then 'Processing'\\n  when o_orderstatus = 'F' then 'Fulfilled'\\nend\\n\",\"metric_view.type\":\"dimension\"}",
         "name": "Order Status",
         "type": "\"string\""
        },
        {
         "metadata": "{}",
         "name": "order_count",
         "type": "\"long\""
        },
        {
         "metadata": "{}",
         "name": "total_revenue",
         "type": "\"decimal(28,2)\""
        },
        {
         "metadata": "{}",
         "name": "total_revenue_per_customer",
         "type": "\"decimal(38,12)\""
        }
       ],
       "type": "table"
      }
     },
     "output_type": "display_data"
    }
   ],
   "source": [
    "%sql\n",
    "SELECT\n",
    " `Order Month`,\n",
    " `Order Status`,\n",
    " MEASURE(`Order Count`) as order_count,\n",
    " MEASURE(`Total Revenue`) as total_revenue,\n",
    " MEASURE(`Total Revenue per Customer`) as total_revenue_per_customer\n",
    "FROM\n",
    " demo_orders_metric_view\n",
    "GROUP BY ALL\n",
    "ORDER BY 1 ASC\n",
    "limit 10;"
   ]
  },
  {
   "cell_type": "code",
   "execution_count": 0,
   "metadata": {
    "application/vnd.databricks.v1+cell": {
     "cellMetadata": {
      "byteLimit": 2048000,
      "implicitDf": true,
      "rowLimit": 10000
     },
     "inputWidgets": {},
     "nuid": "8c8160a7-7338-44f9-94dc-7ca1e8e63df6",
     "showTitle": false,
     "tableResultSettingsMap": {},
     "title": ""
    }
   },
   "outputs": [
    {
     "output_type": "display_data",
     "data": {
      "text/html": [
       "<style scoped>\n",
       "  .table-result-container {\n",
       "    max-height: 300px;\n",
       "    overflow: auto;\n",
       "  }\n",
       "  table, th, td {\n",
       "    border: 1px solid black;\n",
       "    border-collapse: collapse;\n",
       "  }\n",
       "  th, td {\n",
       "    padding: 5px;\n",
       "  }\n",
       "  th {\n",
       "    text-align: left;\n",
       "  }\n",
       "</style><div class='table-result-container'><table class='table-result'><thead style='background-color: white'><tr><th>Order Priority</th><th>order_count</th><th>total_revenue</th><th>total_revenue_per_customer</th></tr></thead><tbody><tr><td>HIGH</td><td>1499192</td><td>226785170189.44</td><td>491212.972919659334</td></tr><tr><td>LOW</td><td>1499717</td><td>226628507182.19</td><td>490647.281065237488</td></tr><tr><td>MEDIUM</td><td>1498710</td><td>226291403383.43</td><td>490451.551999874294</td></tr><tr><td>NOT SPECIFIED</td><td>1501281</td><td>226828528845.12</td><td>491240.917831708342</td></tr><tr><td>URGENT</td><td>1501100</td><td>226905605646.07</td><td>491472.769628794524</td></tr></tbody></table></div>"
      ]
     },
     "metadata": {
      "application/vnd.databricks.v1+output": {
       "addedWidgets": {},
       "aggData": [],
       "aggError": "",
       "aggOverflow": false,
       "aggSchema": [],
       "aggSeriesLimitReached": false,
       "aggType": "",
       "arguments": {},
       "columnCustomDisplayInfos": {},
       "data": [
        [
         "HIGH",
         1499192,
         "226785170189.44",
         "491212.972919659334"
        ],
        [
         "LOW",
         1499717,
         "226628507182.19",
         "490647.281065237488"
        ],
        [
         "MEDIUM",
         1498710,
         "226291403383.43",
         "490451.551999874294"
        ],
        [
         "NOT SPECIFIED",
         1501281,
         "226828528845.12",
         "491240.917831708342"
        ],
        [
         "URGENT",
         1501100,
         "226905605646.07",
         "491472.769628794524"
        ]
       ],
       "datasetInfos": [
        {
         "name": "_sqldf",
         "schema": {
          "fields": [
           {
            "metadata": {
             "metric_view.expr": "split(o_orderpriority, '-')[1]",
             "metric_view.type": "dimension"
            },
            "name": "Order Priority",
            "nullable": true,
            "type": "string"
           },
           {
            "metadata": {},
            "name": "order_count",
            "nullable": true,
            "type": "long"
           },
           {
            "metadata": {},
            "name": "total_revenue",
            "nullable": true,
            "type": "decimal(28,2)"
           },
           {
            "metadata": {},
            "name": "total_revenue_per_customer",
            "nullable": true,
            "type": "decimal(38,12)"
           }
          ],
          "type": "struct"
         },
         "tableIdentifier": null,
         "typeStr": "pyspark.sql.connect.dataframe.DataFrame"
        }
       ],
       "dbfsResultPath": null,
       "isJsonSchema": true,
       "metadata": {
        "createTempViewForImplicitDf": true,
        "dataframeName": "_sqldf",
        "executionCount": 12
       },
       "overflow": false,
       "plotOptions": {
        "customPlotOptions": {},
        "displayType": "table",
        "pivotAggregation": null,
        "pivotColumns": null,
        "xColumns": null,
        "yColumns": null
       },
       "removedWidgets": [],
       "schema": [
        {
         "metadata": "{\"metric_view.expr\":\"split(o_orderpriority, '-')[1]\",\"metric_view.type\":\"dimension\"}",
         "name": "Order Priority",
         "type": "\"string\""
        },
        {
         "metadata": "{}",
         "name": "order_count",
         "type": "\"long\""
        },
        {
         "metadata": "{}",
         "name": "total_revenue",
         "type": "\"decimal(28,2)\""
        },
        {
         "metadata": "{}",
         "name": "total_revenue_per_customer",
         "type": "\"decimal(38,12)\""
        }
       ],
       "type": "table"
      }
     },
     "output_type": "display_data"
    }
   ],
   "source": [
    "%sql\n",
    "SELECT\n",
    " `Order Priority`,\n",
    " MEASURE(`Order Count`) as order_count,\n",
    " MEASURE(`Total Revenue`) as total_revenue,\n",
    " MEASURE(`Total Revenue per Customer`) as total_revenue_per_customer\n",
    "FROM\n",
    " demo_orders_metric_view\n",
    "GROUP BY `Order Priority`\n",
    "ORDER BY 1 ASC\n",
    "limit 10;"
   ]
  },
  {
   "cell_type": "code",
   "execution_count": 0,
   "metadata": {
    "application/vnd.databricks.v1+cell": {
     "cellMetadata": {
      "byteLimit": 2048000,
      "implicitDf": true,
      "rowLimit": 10000
     },
     "inputWidgets": {},
     "nuid": "fd558c97-9ab4-4da3-b850-545afa4053af",
     "showTitle": false,
     "tableResultSettingsMap": {},
     "title": ""
    }
   },
   "outputs": [
    {
     "output_type": "display_data",
     "data": {
      "text/html": [
       "<style scoped>\n",
       "  .table-result-container {\n",
       "    max-height: 300px;\n",
       "    overflow: auto;\n",
       "  }\n",
       "  table, th, td {\n",
       "    border: 1px solid black;\n",
       "    border-collapse: collapse;\n",
       "  }\n",
       "  th, td {\n",
       "    padding: 5px;\n",
       "  }\n",
       "  th {\n",
       "    text-align: left;\n",
       "  }\n",
       "</style><div class='table-result-container'><table class='table-result'><thead style='background-color: white'><tr><th>o_orderkey</th><th>o_orderdate</th><th>total_quantity</th><th>price</th></tr></thead><tbody><tr><td>1</td><td>1996-01-02</td><td>145.00</td><td>211959.15</td></tr><tr><td>2</td><td>1996-12-01</td><td>38.00</td><td>71433.16</td></tr><tr><td>3</td><td>1993-10-14</td><td>177.00</td><td>243078.62</td></tr><tr><td>4</td><td>1995-10-11</td><td>30.00</td><td>33424.50</td></tr><tr><td>5</td><td>1994-07-30</td><td>91.00</td><td>155673.40</td></tr><tr><td>6</td><td>1992-02-21</td><td>37.00</td><td>43517.18</td></tr><tr><td>7</td><td>1996-01-10</td><td>173.00</td><td>259926.11</td></tr><tr><td>32</td><td>1995-07-16</td><td>116.00</td><td>153437.80</td></tr><tr><td>33</td><td>1993-10-27</td><td>109.00</td><td>177865.35</td></tr><tr><td>34</td><td>1998-07-21</td><td>41.00</td><td>55025.04</td></tr></tbody></table></div>"
      ]
     },
     "metadata": {
      "application/vnd.databricks.v1+output": {
       "addedWidgets": {},
       "aggData": [],
       "aggError": "",
       "aggOverflow": false,
       "aggSchema": [],
       "aggSeriesLimitReached": false,
       "aggType": "",
       "arguments": {},
       "columnCustomDisplayInfos": {},
       "data": [
        [
         1,
         "1996-01-02",
         "145.00",
         "211959.15"
        ],
        [
         2,
         "1996-12-01",
         "38.00",
         "71433.16"
        ],
        [
         3,
         "1993-10-14",
         "177.00",
         "243078.62"
        ],
        [
         4,
         "1995-10-11",
         "30.00",
         "33424.50"
        ],
        [
         5,
         "1994-07-30",
         "91.00",
         "155673.40"
        ],
        [
         6,
         "1992-02-21",
         "37.00",
         "43517.18"
        ],
        [
         7,
         "1996-01-10",
         "173.00",
         "259926.11"
        ],
        [
         32,
         "1995-07-16",
         "116.00",
         "153437.80"
        ],
        [
         33,
         "1993-10-27",
         "109.00",
         "177865.35"
        ],
        [
         34,
         "1998-07-21",
         "41.00",
         "55025.04"
        ]
       ],
       "datasetInfos": [
        {
         "name": "_sqldf",
         "schema": {
          "fields": [
           {
            "metadata": {},
            "name": "o_orderkey",
            "nullable": true,
            "type": "long"
           },
           {
            "metadata": {},
            "name": "o_orderdate",
            "nullable": true,
            "type": "date"
           },
           {
            "metadata": {},
            "name": "total_quantity",
            "nullable": true,
            "type": "decimal(28,2)"
           },
           {
            "metadata": {},
            "name": "price",
            "nullable": true,
            "type": "decimal(28,2)"
           }
          ],
          "type": "struct"
         },
         "tableIdentifier": null,
         "typeStr": "pyspark.sql.connect.dataframe.DataFrame"
        }
       ],
       "dbfsResultPath": null,
       "isJsonSchema": true,
       "metadata": {
        "createTempViewForImplicitDf": true,
        "dataframeName": "_sqldf",
        "executionCount": 19
       },
       "overflow": false,
       "plotOptions": {
        "customPlotOptions": {},
        "displayType": "table",
        "pivotAggregation": null,
        "pivotColumns": null,
        "xColumns": null,
        "yColumns": null
       },
       "removedWidgets": [],
       "schema": [
        {
         "metadata": "{}",
         "name": "o_orderkey",
         "type": "\"long\""
        },
        {
         "metadata": "{}",
         "name": "o_orderdate",
         "type": "\"date\""
        },
        {
         "metadata": "{}",
         "name": "total_quantity",
         "type": "\"decimal(28,2)\""
        },
        {
         "metadata": "{}",
         "name": "price",
         "type": "\"decimal(28,2)\""
        }
       ],
       "type": "table"
      }
     },
     "output_type": "display_data"
    }
   ],
   "source": [
    "%sql\n",
    "use dkushari_uc.metric_view_demo;\n",
    "SELECT orders.o_orderkey,\n",
    "       orders.o_orderdate, \n",
    "       sum(l_quantity) as total_quantity, \n",
    "       sum(l_extendedprice) price\n",
    "FROM lineitem\n",
    "JOIN orders ON lineitem.l_orderkey = orders.o_orderkey\n",
    "group by ALL\n",
    "order by orders.o_orderkey\n",
    "limit 10;"
   ]
  },
  {
   "cell_type": "code",
   "execution_count": 0,
   "metadata": {
    "application/vnd.databricks.v1+cell": {
     "cellMetadata": {
      "byteLimit": 2048000,
      "implicitDf": true,
      "rowLimit": 10000
     },
     "inputWidgets": {},
     "nuid": "150e0504-2c42-41d8-8f2c-e76920f90d60",
     "showTitle": false,
     "tableResultSettingsMap": {},
     "title": ""
    }
   },
   "outputs": [],
   "source": [
    "%sql\n",
    "USE dkushari_uc.metric_view_schema;\n",
    "DROP VIEW IF EXISTS demo_lineitem_metric_view;\n",
    "CREATE VIEW `demo_lineitem_metric_view` \n",
    "(\n",
    " `order_date` COMMENT \"The order date\",\n",
    " `order_key` COMMENT \"Order key\", \n",
    " `total_quantity` COMMENT \"Total quantity\", \n",
    " `total_price` COMMENT \"Total price\"\n",
    " )  \n",
    "WITH METRICS\n",
    "LANGUAGE YAML \n",
    "AS $$ \n",
    "version: 0.1\n",
    "\n",
    "source: select * from dkushari_uc.metric_view_demo.lineitem\n",
    "\n",
    "joins:\n",
    " - name: orders\n",
    "   source: select * from dkushari_uc.metric_view_demo.orders\n",
    "   on: o_orderkey = l_orderkey\n",
    "\n",
    "dimensions:\n",
    " - name: order_date\n",
    "   expr: orders.o_orderdate \n",
    " - name: order_key\n",
    "   expr: orders.o_orderkey \n",
    "\n",
    "measures:\n",
    " - name: total_quantity\n",
    "   expr: sum(l_quantity)\n",
    " - name: total_price\n",
    "   expr: sum(l_extendedprice)\n",
    "$$\n"
   ]
  },
  {
   "cell_type": "code",
   "execution_count": 0,
   "metadata": {
    "application/vnd.databricks.v1+cell": {
     "cellMetadata": {
      "byteLimit": 2048000,
      "implicitDf": true,
      "rowLimit": 10000
     },
     "inputWidgets": {},
     "nuid": "52530e99-0a0e-47fd-a869-b8a7c0c6f366",
     "showTitle": false,
     "tableResultSettingsMap": {},
     "title": ""
    }
   },
   "outputs": [
    {
     "output_type": "display_data",
     "data": {
      "text/html": [
       "<style scoped>\n",
       "  .table-result-container {\n",
       "    max-height: 300px;\n",
       "    overflow: auto;\n",
       "  }\n",
       "  table, th, td {\n",
       "    border: 1px solid black;\n",
       "    border-collapse: collapse;\n",
       "  }\n",
       "  th, td {\n",
       "    padding: 5px;\n",
       "  }\n",
       "  th {\n",
       "    text-align: left;\n",
       "  }\n",
       "</style><div class='table-result-container'><table class='table-result'><thead style='background-color: white'><tr><th>col_name</th><th>data_type</th><th>comment</th></tr></thead><tbody><tr><td>order_date</td><td>date</td><td>The order date</td></tr><tr><td>order_key</td><td>bigint</td><td>Order key</td></tr><tr><td>total_quantity</td><td>decimal(28,2) measure</td><td>Total quantity</td></tr><tr><td>total_price</td><td>decimal(28,2) measure</td><td>Total price</td></tr><tr><td></td><td></td><td></td></tr><tr><td># Detailed Table Information</td><td></td><td></td></tr><tr><td>Catalog</td><td>dkushari_uc</td><td></td></tr><tr><td>Database</td><td>metric_view_schema</td><td></td></tr><tr><td>Table</td><td>demo_lineitem_metric_view</td><td></td></tr><tr><td>Owner</td><td>dipankar.kushari@databricks.com</td><td></td></tr><tr><td>Created Time</td><td>Wed May 14 13:28:27 UTC 2025</td><td></td></tr><tr><td>Last Access</td><td>UNKNOWN</td><td></td></tr><tr><td>Created By</td><td>Spark </td><td></td></tr><tr><td>Type</td><td>METRIC_VIEW</td><td></td></tr><tr><td>View Text</td><td> \n",
       "version: 0.1\n",
       "\n",
       "source: select * from dkushari_uc.metric_view_demo.lineitem\n",
       "\n",
       "joins:\n",
       " - name: orders\n",
       "   source: select * from dkushari_uc.metric_view_demo.orders\n",
       "   on: o_orderkey = l_orderkey\n",
       "\n",
       "dimensions:\n",
       " - name: order_date\n",
       "   expr: orders.o_orderdate \n",
       " - name: order_key\n",
       "   expr: orders.o_orderkey \n",
       "\n",
       "measures:\n",
       " - name: total_quantity\n",
       "   expr: sum(l_quantity)\n",
       " - name: total_price\n",
       "   expr: sum(l_extendedprice)\n",
       "</td><td></td></tr><tr><td>Language</td><td>YAML</td><td></td></tr><tr><td>Table Properties</td><td>[metric_view.from.sql=select * from dkushari_uc.metric_view_demo.lineitem, metric_view.from.type=SQL, metric_view.joins=[{\"name\":\"orders\",\"from.type\":\"SQL\",\"from.sql\":\"select * from dkushari_uc.metric_view_demo.orders\",\"on\":\"o_orderkey = l_orderkey\"}], metric_view.raw_yml= \n",
       "version: 0.1\n",
       "\n",
       "source: select * from dkushari_uc.metric_view_demo.lineitem\n",
       "\n",
       "joins:\n",
       " - name: orders\n",
       "   source: select * from dkushari_uc.metric_view_demo.orders\n",
       "   on: o_orderkey = l_orderkey\n",
       "\n",
       "dimensions:\n",
       " - name: order_date\n",
       "   expr: orders.o_orderdate \n",
       " - name: order_key\n",
       "   expr: orders.o_orderkey \n",
       "\n",
       "measures:\n",
       " - name: total_quantity\n",
       "   expr: sum(l_quantity)\n",
       " - name: total_price\n",
       "   expr: sum(l_extendedprice)\n",
       "]</td><td></td></tr></tbody></table></div>"
      ]
     },
     "metadata": {
      "application/vnd.databricks.v1+output": {
       "addedWidgets": {},
       "aggData": [],
       "aggError": "",
       "aggOverflow": false,
       "aggSchema": [],
       "aggSeriesLimitReached": false,
       "aggType": "",
       "arguments": {},
       "columnCustomDisplayInfos": {},
       "data": [
        [
         "order_date",
         "date",
         "The order date"
        ],
        [
         "order_key",
         "bigint",
         "Order key"
        ],
        [
         "total_quantity",
         "decimal(28,2) measure",
         "Total quantity"
        ],
        [
         "total_price",
         "decimal(28,2) measure",
         "Total price"
        ],
        [
         "",
         "",
         ""
        ],
        [
         "# Detailed Table Information",
         "",
         ""
        ],
        [
         "Catalog",
         "dkushari_uc",
         ""
        ],
        [
         "Database",
         "metric_view_schema",
         ""
        ],
        [
         "Table",
         "demo_lineitem_metric_view",
         ""
        ],
        [
         "Owner",
         "dipankar.kushari@databricks.com",
         ""
        ],
        [
         "Created Time",
         "Wed May 14 13:28:27 UTC 2025",
         ""
        ],
        [
         "Last Access",
         "UNKNOWN",
         ""
        ],
        [
         "Created By",
         "Spark ",
         ""
        ],
        [
         "Type",
         "METRIC_VIEW",
         ""
        ],
        [
         "View Text",
         " \nversion: 0.1\n\nsource: select * from dkushari_uc.metric_view_demo.lineitem\n\njoins:\n - name: orders\n   source: select * from dkushari_uc.metric_view_demo.orders\n   on: o_orderkey = l_orderkey\n\ndimensions:\n - name: order_date\n   expr: orders.o_orderdate \n - name: order_key\n   expr: orders.o_orderkey \n\nmeasures:\n - name: total_quantity\n   expr: sum(l_quantity)\n - name: total_price\n   expr: sum(l_extendedprice)\n",
         ""
        ],
        [
         "Language",
         "YAML",
         ""
        ],
        [
         "Table Properties",
         "[metric_view.from.sql=select * from dkushari_uc.metric_view_demo.lineitem, metric_view.from.type=SQL, metric_view.joins=[{\"name\":\"orders\",\"from.type\":\"SQL\",\"from.sql\":\"select * from dkushari_uc.metric_view_demo.orders\",\"on\":\"o_orderkey = l_orderkey\"}], metric_view.raw_yml= \nversion: 0.1\n\nsource: select * from dkushari_uc.metric_view_demo.lineitem\n\njoins:\n - name: orders\n   source: select * from dkushari_uc.metric_view_demo.orders\n   on: o_orderkey = l_orderkey\n\ndimensions:\n - name: order_date\n   expr: orders.o_orderdate \n - name: order_key\n   expr: orders.o_orderkey \n\nmeasures:\n - name: total_quantity\n   expr: sum(l_quantity)\n - name: total_price\n   expr: sum(l_extendedprice)\n]",
         ""
        ]
       ],
       "datasetInfos": [
        {
         "name": "_sqldf",
         "schema": {
          "fields": [
           {
            "metadata": {},
            "name": "col_name",
            "nullable": false,
            "type": "string"
           },
           {
            "metadata": {},
            "name": "data_type",
            "nullable": false,
            "type": "string"
           },
           {
            "metadata": {},
            "name": "comment",
            "nullable": true,
            "type": "string"
           }
          ],
          "type": "struct"
         },
         "tableIdentifier": null,
         "typeStr": "pyspark.sql.connect.dataframe.DataFrame"
        }
       ],
       "dbfsResultPath": null,
       "isJsonSchema": true,
       "metadata": {
        "createTempViewForImplicitDf": true,
        "dataframeName": "_sqldf",
        "executionCount": 22
       },
       "overflow": false,
       "plotOptions": {
        "customPlotOptions": {},
        "displayType": "table",
        "pivotAggregation": null,
        "pivotColumns": null,
        "xColumns": null,
        "yColumns": null
       },
       "removedWidgets": [],
       "schema": [
        {
         "metadata": "{}",
         "name": "col_name",
         "type": "\"string\""
        },
        {
         "metadata": "{}",
         "name": "data_type",
         "type": "\"string\""
        },
        {
         "metadata": "{}",
         "name": "comment",
         "type": "\"string\""
        }
       ],
       "type": "table"
      }
     },
     "output_type": "display_data"
    }
   ],
   "source": [
    "%sql\n",
    "DESCRIBE TABLE EXTENDED demo_lineitem_metric_view;"
   ]
  },
  {
   "cell_type": "code",
   "execution_count": 0,
   "metadata": {
    "application/vnd.databricks.v1+cell": {
     "cellMetadata": {
      "byteLimit": 2048000,
      "implicitDf": true,
      "rowLimit": 10000
     },
     "inputWidgets": {},
     "nuid": "03c7fce2-0aa4-4784-9eee-007210e8cb76",
     "showTitle": false,
     "tableResultSettingsMap": {},
     "title": ""
    }
   },
   "outputs": [
    {
     "output_type": "display_data",
     "data": {
      "text/html": [
       "<style scoped>\n",
       "  .table-result-container {\n",
       "    max-height: 300px;\n",
       "    overflow: auto;\n",
       "  }\n",
       "  table, th, td {\n",
       "    border: 1px solid black;\n",
       "    border-collapse: collapse;\n",
       "  }\n",
       "  th, td {\n",
       "    padding: 5px;\n",
       "  }\n",
       "  th {\n",
       "    text-align: left;\n",
       "  }\n",
       "</style><div class='table-result-container'><table class='table-result'><thead style='background-color: white'><tr><th>json_metadata</th></tr></thead><tbody><tr><td>{\"table_name\":\"demo_lineitem_metric_view\",\"catalog_name\":\"dkushari_uc\",\"namespace\":[\"metric_view_schema\"],\"schema_name\":\"metric_view_schema\",\"columns\":[{\"name\":\"order_date\",\"type\":{\"name\":\"date\"},\"nullable\":true,\"comment\":\"The order date\"},{\"name\":\"order_key\",\"type\":{\"name\":\"bigint\"},\"nullable\":true,\"comment\":\"Order key\"},{\"name\":\"total_quantity\",\"type\":{\"name\":\"decimal\",\"precision\":28,\"scale\":2},\"nullable\":true,\"comment\":\"Total quantity\",\"is_measure\":true},{\"name\":\"total_price\",\"type\":{\"name\":\"decimal\",\"precision\":28,\"scale\":2},\"nullable\":true,\"comment\":\"Total price\",\"is_measure\":true}],\"owner\":\"dipankar.kushari@databricks.com\",\"created_time\":\"2025-05-14T13:28:27Z\",\"last_access\":\"UNKNOWN\",\"created_by\":\"Spark \",\"type\":\"METRIC_VIEW\",\"view_text\":\" \\nversion: 0.1\\n\\nsource: select * from dkushari_uc.metric_view_demo.lineitem\\n\\njoins:\\n - name: orders\\n   source: select * from dkushari_uc.metric_view_demo.orders\\n   on: o_orderkey = l_orderkey\\n\\ndimensions:\\n - name: order_date\\n   expr: orders.o_orderdate \\n - name: order_key\\n   expr: orders.o_orderkey \\n\\nmeasures:\\n - name: total_quantity\\n   expr: sum(l_quantity)\\n - name: total_price\\n   expr: sum(l_extendedprice)\\n\",\"language\":\"YAML\",\"table_properties\":{\"metric_view.from.sql\":\"select * from dkushari_uc.metric_view_demo.lineitem\",\"metric_view.from.type\":\"SQL\",\"metric_view.joins\":\"[{\\\"name\\\":\\\"orders\\\",\\\"from.type\\\":\\\"SQL\\\",\\\"from.sql\\\":\\\"select * from dkushari_uc.metric_view_demo.orders\\\",\\\"on\\\":\\\"o_orderkey = l_orderkey\\\"}]\",\"metric_view.raw_yml\":\" \\nversion: 0.1\\n\\nsource: select * from dkushari_uc.metric_view_demo.lineitem\\n\\njoins:\\n - name: orders\\n   source: select * from dkushari_uc.metric_view_demo.orders\\n   on: o_orderkey = l_orderkey\\n\\ndimensions:\\n - name: order_date\\n   expr: orders.o_orderdate \\n - name: order_key\\n   expr: orders.o_orderkey \\n\\nmeasures:\\n - name: total_quantity\\n   expr: sum(l_quantity)\\n - name: total_price\\n   expr: sum(l_extendedprice)\\n\"},\"view_creation_spark_configuration\":{\"spark.databricks.sql.functions.aiFunctions.adaptiveThreadPool.enabled\":\"true\",\"spark.databricks.sql.functions.aiFunctions.adaptiveThreadPool.scaleUpThresholdCurrentQpsIncreaseRatio\":\"0.0\",\"spark.databricks.sql.functions.aiFunctions.decimal.dataType.enabled\":\"true\",\"spark.sql.cte.recursion.enabled\":\"true\",\"spark.databricks.sql.functions.aiFunctions.adaptiveThreadPool.scaleUpThresholdTotalQpsIncreaseRatio\":\"0.0\",\"spark.databricks.sql.functions.aiFunctions.adaptiveThreadPool.scaleUpThresholdSuccessRatio\":\"0.95\",\"spark.databricks.sql.functions.aiFunctions.batch.execution.size\":\"2048\",\"spark.databricks.sql.functions.aiFunctions.purposeBuiltFunctions.batch.execution.enabled\":\"true\",\"spark.databricks.sql.functions.aiFunctions.safe.inference.enabled\":\"true\",\"spark.sql.hive.convertCTAS\":\"true\",\"spark.databricks.sql.functions.aiFunctions.batchInferenceApi.enabled\":\"true\",\"spark.databricks.sql.functions.aiFunctions.adaptiveThreadPool.maxPoolSize\":\"2048\",\"spark.databricks.sql.functions.aiFunctions.adaptiveThreadPool.debugLogEnabled\":\"true\",\"spark.sql.streaming.stopTimeout\":\"15s\",\"spark.databricks.sql.expression.aiFunctions.repartition\":\"0\",\"spark.sql.session.timeZone\":\"Etc/UTC\",\"spark.databricks.sql.functions.aiFunctions.adaptiveThreadPool.useDynamicTaskQueueExecutor\":\"false\",\"spark.sql.legacy.createHiveTableByDefault\":\"false\",\"spark.databricks.sql.functions.aiFunctions.adaptiveThreadPool.taskWaitTimeInSeconds\":\"1000\",\"spark.databricks.sql.functions.vectorSearch.enabled\":\"true\",\"spark.databricks.sql.functions.aiGen.endpointName\":\"databricks-meta-llama-3-3-70b-instruct\",\"spark.databricks.sql.functions.aiFunctions.batch.aiQuery.embedding.request.size\":\"40\",\"spark.sql.sources.commitProtocolClass\":\"com.databricks.sql.transaction.directory.DirectoryAtomicCommitProtocol\",\"spark.databricks.sql.functions.aiFunctions.embeddingsEndpointName\":\"databricks-gte-large-en\",\"spark.databricks.sql.functions.aiFunctions.batchSession.enabled\":\"true\",\"spark.sql.scripting.enabled\":\"true\",\"spark.databricks.sql.functions.aiFunctions.adaptiveThreadPool.clusterSizeBasedGlobalParallelism.scaleFactor\":\"512.0\",\"spark.databricks.sql.functions.aiFunctions.remoteHttpClient.maxConnections\":\"2048\",\"spark.databricks.sql.functions.aiFunctions.modelEndpointTypeParsing.enabled\":\"true\",\"spark.sql.functions.remoteHttpClient.retryOn400TimeoutError\":\"true\",\"spark.databricks.sql.rowColumnAccess.implicitPolicies.enabled\":\"true\",\"spark.databricks.sql.functions.aiForecast.enabled\":\"false\",\"spark.sql.legacy.codingErrorAction\":\"true\",\"spark.databricks.sql.functions.aiFunctions.useDedicatedHttpClient\":\"true\",\"spark.databricks.sql.functions.aiFunctions.remoteHttpClient.timeoutInSeconds\":\"360\",\"spark.sql.sources.default\":\"delta\",\"spark.sql.parquet.compression.codec\":\"snappy\",\"spark.databricks.sql.functions.aiFunctions.adaptiveThreadPool.threadKeepAliveTimeInSeconds\":\"600\",\"spark.databricks.sql.functions.aiFunctions.model.parameters.enabled\":\"true\",\"spark.databricks.sql.functions.aiFunctions.adaptiveThreadPool.dynamicPoolSizeEnabled\":\"false\"},\"collation\":\"UTF8_BINARY\"}</td></tr></tbody></table></div>"
      ]
     },
     "metadata": {
      "application/vnd.databricks.v1+output": {
       "addedWidgets": {},
       "aggData": [],
       "aggError": "",
       "aggOverflow": false,
       "aggSchema": [],
       "aggSeriesLimitReached": false,
       "aggType": "",
       "arguments": {},
       "columnCustomDisplayInfos": {},
       "data": [
        [
         "{\"table_name\":\"demo_lineitem_metric_view\",\"catalog_name\":\"dkushari_uc\",\"namespace\":[\"metric_view_schema\"],\"schema_name\":\"metric_view_schema\",\"columns\":[{\"name\":\"order_date\",\"type\":{\"name\":\"date\"},\"nullable\":true,\"comment\":\"The order date\"},{\"name\":\"order_key\",\"type\":{\"name\":\"bigint\"},\"nullable\":true,\"comment\":\"Order key\"},{\"name\":\"total_quantity\",\"type\":{\"name\":\"decimal\",\"precision\":28,\"scale\":2},\"nullable\":true,\"comment\":\"Total quantity\",\"is_measure\":true},{\"name\":\"total_price\",\"type\":{\"name\":\"decimal\",\"precision\":28,\"scale\":2},\"nullable\":true,\"comment\":\"Total price\",\"is_measure\":true}],\"owner\":\"dipankar.kushari@databricks.com\",\"created_time\":\"2025-05-14T13:28:27Z\",\"last_access\":\"UNKNOWN\",\"created_by\":\"Spark \",\"type\":\"METRIC_VIEW\",\"view_text\":\" \\nversion: 0.1\\n\\nsource: select * from dkushari_uc.metric_view_demo.lineitem\\n\\njoins:\\n - name: orders\\n   source: select * from dkushari_uc.metric_view_demo.orders\\n   on: o_orderkey = l_orderkey\\n\\ndimensions:\\n - name: order_date\\n   expr: orders.o_orderdate \\n - name: order_key\\n   expr: orders.o_orderkey \\n\\nmeasures:\\n - name: total_quantity\\n   expr: sum(l_quantity)\\n - name: total_price\\n   expr: sum(l_extendedprice)\\n\",\"language\":\"YAML\",\"table_properties\":{\"metric_view.from.sql\":\"select * from dkushari_uc.metric_view_demo.lineitem\",\"metric_view.from.type\":\"SQL\",\"metric_view.joins\":\"[{\\\"name\\\":\\\"orders\\\",\\\"from.type\\\":\\\"SQL\\\",\\\"from.sql\\\":\\\"select * from dkushari_uc.metric_view_demo.orders\\\",\\\"on\\\":\\\"o_orderkey = l_orderkey\\\"}]\",\"metric_view.raw_yml\":\" \\nversion: 0.1\\n\\nsource: select * from dkushari_uc.metric_view_demo.lineitem\\n\\njoins:\\n - name: orders\\n   source: select * from dkushari_uc.metric_view_demo.orders\\n   on: o_orderkey = l_orderkey\\n\\ndimensions:\\n - name: order_date\\n   expr: orders.o_orderdate \\n - name: order_key\\n   expr: orders.o_orderkey \\n\\nmeasures:\\n - name: total_quantity\\n   expr: sum(l_quantity)\\n - name: total_price\\n   expr: sum(l_extendedprice)\\n\"},\"view_creation_spark_configuration\":{\"spark.databricks.sql.functions.aiFunctions.adaptiveThreadPool.enabled\":\"true\",\"spark.databricks.sql.functions.aiFunctions.adaptiveThreadPool.scaleUpThresholdCurrentQpsIncreaseRatio\":\"0.0\",\"spark.databricks.sql.functions.aiFunctions.decimal.dataType.enabled\":\"true\",\"spark.sql.cte.recursion.enabled\":\"true\",\"spark.databricks.sql.functions.aiFunctions.adaptiveThreadPool.scaleUpThresholdTotalQpsIncreaseRatio\":\"0.0\",\"spark.databricks.sql.functions.aiFunctions.adaptiveThreadPool.scaleUpThresholdSuccessRatio\":\"0.95\",\"spark.databricks.sql.functions.aiFunctions.batch.execution.size\":\"2048\",\"spark.databricks.sql.functions.aiFunctions.purposeBuiltFunctions.batch.execution.enabled\":\"true\",\"spark.databricks.sql.functions.aiFunctions.safe.inference.enabled\":\"true\",\"spark.sql.hive.convertCTAS\":\"true\",\"spark.databricks.sql.functions.aiFunctions.batchInferenceApi.enabled\":\"true\",\"spark.databricks.sql.functions.aiFunctions.adaptiveThreadPool.maxPoolSize\":\"2048\",\"spark.databricks.sql.functions.aiFunctions.adaptiveThreadPool.debugLogEnabled\":\"true\",\"spark.sql.streaming.stopTimeout\":\"15s\",\"spark.databricks.sql.expression.aiFunctions.repartition\":\"0\",\"spark.sql.session.timeZone\":\"Etc/UTC\",\"spark.databricks.sql.functions.aiFunctions.adaptiveThreadPool.useDynamicTaskQueueExecutor\":\"false\",\"spark.sql.legacy.createHiveTableByDefault\":\"false\",\"spark.databricks.sql.functions.aiFunctions.adaptiveThreadPool.taskWaitTimeInSeconds\":\"1000\",\"spark.databricks.sql.functions.vectorSearch.enabled\":\"true\",\"spark.databricks.sql.functions.aiGen.endpointName\":\"databricks-meta-llama-3-3-70b-instruct\",\"spark.databricks.sql.functions.aiFunctions.batch.aiQuery.embedding.request.size\":\"40\",\"spark.sql.sources.commitProtocolClass\":\"com.databricks.sql.transaction.directory.DirectoryAtomicCommitProtocol\",\"spark.databricks.sql.functions.aiFunctions.embeddingsEndpointName\":\"databricks-gte-large-en\",\"spark.databricks.sql.functions.aiFunctions.batchSession.enabled\":\"true\",\"spark.sql.scripting.enabled\":\"true\",\"spark.databricks.sql.functions.aiFunctions.adaptiveThreadPool.clusterSizeBasedGlobalParallelism.scaleFactor\":\"512.0\",\"spark.databricks.sql.functions.aiFunctions.remoteHttpClient.maxConnections\":\"2048\",\"spark.databricks.sql.functions.aiFunctions.modelEndpointTypeParsing.enabled\":\"true\",\"spark.sql.functions.remoteHttpClient.retryOn400TimeoutError\":\"true\",\"spark.databricks.sql.rowColumnAccess.implicitPolicies.enabled\":\"true\",\"spark.databricks.sql.functions.aiForecast.enabled\":\"false\",\"spark.sql.legacy.codingErrorAction\":\"true\",\"spark.databricks.sql.functions.aiFunctions.useDedicatedHttpClient\":\"true\",\"spark.databricks.sql.functions.aiFunctions.remoteHttpClient.timeoutInSeconds\":\"360\",\"spark.sql.sources.default\":\"delta\",\"spark.sql.parquet.compression.codec\":\"snappy\",\"spark.databricks.sql.functions.aiFunctions.adaptiveThreadPool.threadKeepAliveTimeInSeconds\":\"600\",\"spark.databricks.sql.functions.aiFunctions.model.parameters.enabled\":\"true\",\"spark.databricks.sql.functions.aiFunctions.adaptiveThreadPool.dynamicPoolSizeEnabled\":\"false\"},\"collation\":\"UTF8_BINARY\"}"
        ]
       ],
       "datasetInfos": [
        {
         "name": "_sqldf",
         "schema": {
          "fields": [
           {
            "metadata": {},
            "name": "json_metadata",
            "nullable": false,
            "type": "string"
           }
          ],
          "type": "struct"
         },
         "tableIdentifier": null,
         "typeStr": "pyspark.sql.connect.dataframe.DataFrame"
        }
       ],
       "dbfsResultPath": null,
       "isJsonSchema": true,
       "metadata": {
        "createTempViewForImplicitDf": true,
        "dataframeName": "_sqldf",
        "executionCount": 23
       },
       "overflow": false,
       "plotOptions": {
        "customPlotOptions": {},
        "displayType": "table",
        "pivotAggregation": null,
        "pivotColumns": null,
        "xColumns": null,
        "yColumns": null
       },
       "removedWidgets": [],
       "schema": [
        {
         "metadata": "{}",
         "name": "json_metadata",
         "type": "\"string\""
        }
       ],
       "type": "table"
      }
     },
     "output_type": "display_data"
    }
   ],
   "source": [
    "%sql\n",
    "DESCRIBE TABLE EXTENDED demo_lineitem_metric_view AS JSON;"
   ]
  },
  {
   "cell_type": "code",
   "execution_count": 0,
   "metadata": {
    "application/vnd.databricks.v1+cell": {
     "cellMetadata": {
      "byteLimit": 2048000,
      "implicitDf": true,
      "rowLimit": 10000
     },
     "inputWidgets": {},
     "nuid": "1b927b79-e7a5-4197-8754-eb5a269f232a",
     "showTitle": false,
     "tableResultSettingsMap": {},
     "title": ""
    }
   },
   "outputs": [
    {
     "output_type": "display_data",
     "data": {
      "text/html": [
       "<style scoped>\n",
       "  .table-result-container {\n",
       "    max-height: 300px;\n",
       "    overflow: auto;\n",
       "  }\n",
       "  table, th, td {\n",
       "    border: 1px solid black;\n",
       "    border-collapse: collapse;\n",
       "  }\n",
       "  th, td {\n",
       "    padding: 5px;\n",
       "  }\n",
       "  th {\n",
       "    text-align: left;\n",
       "  }\n",
       "</style><div class='table-result-container'><table class='table-result'><thead style='background-color: white'><tr><th>namespace</th><th>viewName</th><th>isTemporary</th><th>isMaterialized</th><th>isMetric</th></tr></thead><tbody><tr><td>metric_view_schema</td><td>demo_lineitem_metric_view</td><td>false</td><td>false</td><td>true</td></tr><tr><td>metric_view_schema</td><td>demo_orders_metric_view</td><td>false</td><td>false</td><td>true</td></tr><tr><td></td><td>_sqldf</td><td>true</td><td>false</td><td>false</td></tr></tbody></table></div>"
      ]
     },
     "metadata": {
      "application/vnd.databricks.v1+output": {
       "addedWidgets": {},
       "aggData": [],
       "aggError": "",
       "aggOverflow": false,
       "aggSchema": [],
       "aggSeriesLimitReached": false,
       "aggType": "",
       "arguments": {},
       "columnCustomDisplayInfos": {},
       "data": [
        [
         "metric_view_schema",
         "demo_lineitem_metric_view",
         false,
         false,
         true
        ],
        [
         "metric_view_schema",
         "demo_orders_metric_view",
         false,
         false,
         true
        ],
        [
         "",
         "_sqldf",
         true,
         false,
         false
        ]
       ],
       "datasetInfos": [
        {
         "name": "_sqldf",
         "schema": {
          "fields": [
           {
            "metadata": {},
            "name": "namespace",
            "nullable": false,
            "type": "string"
           },
           {
            "metadata": {},
            "name": "viewName",
            "nullable": false,
            "type": "string"
           },
           {
            "metadata": {},
            "name": "isTemporary",
            "nullable": false,
            "type": "boolean"
           },
           {
            "metadata": {},
            "name": "isMaterialized",
            "nullable": false,
            "type": "boolean"
           },
           {
            "metadata": {},
            "name": "isMetric",
            "nullable": false,
            "type": "boolean"
           }
          ],
          "type": "struct"
         },
         "tableIdentifier": null,
         "typeStr": "pyspark.sql.connect.dataframe.DataFrame"
        }
       ],
       "dbfsResultPath": null,
       "isJsonSchema": true,
       "metadata": {
        "createTempViewForImplicitDf": true,
        "dataframeName": "_sqldf",
        "executionCount": 24
       },
       "overflow": false,
       "plotOptions": {
        "customPlotOptions": {},
        "displayType": "table",
        "pivotAggregation": null,
        "pivotColumns": null,
        "xColumns": null,
        "yColumns": null
       },
       "removedWidgets": [],
       "schema": [
        {
         "metadata": "{}",
         "name": "namespace",
         "type": "\"string\""
        },
        {
         "metadata": "{}",
         "name": "viewName",
         "type": "\"string\""
        },
        {
         "metadata": "{}",
         "name": "isTemporary",
         "type": "\"boolean\""
        },
        {
         "metadata": "{}",
         "name": "isMaterialized",
         "type": "\"boolean\""
        },
        {
         "metadata": "{}",
         "name": "isMetric",
         "type": "\"boolean\""
        }
       ],
       "type": "table"
      }
     },
     "output_type": "display_data"
    }
   ],
   "source": [
    "%sql\n",
    "SHOW VIEWS IN dkushari_uc.metric_view_schema;"
   ]
  },
  {
   "cell_type": "code",
   "execution_count": 0,
   "metadata": {
    "application/vnd.databricks.v1+cell": {
     "cellMetadata": {
      "byteLimit": 2048000,
      "implicitDf": true,
      "rowLimit": 10000
     },
     "inputWidgets": {},
     "nuid": "bbee56aa-4c65-481f-aad4-7e6b33bb91be",
     "showTitle": false,
     "tableResultSettingsMap": {},
     "title": ""
    }
   },
   "outputs": [
    {
     "output_type": "display_data",
     "data": {
      "text/html": [
       "<style scoped>\n",
       "  .table-result-container {\n",
       "    max-height: 300px;\n",
       "    overflow: auto;\n",
       "  }\n",
       "  table, th, td {\n",
       "    border: 1px solid black;\n",
       "    border-collapse: collapse;\n",
       "  }\n",
       "  th, td {\n",
       "    padding: 5px;\n",
       "  }\n",
       "  th {\n",
       "    text-align: left;\n",
       "  }\n",
       "</style><div class='table-result-container'><table class='table-result'><thead style='background-color: white'><tr><th>order_key</th><th>order_date</th><th>measure(total_quantity)</th><th>measure(total_price)</th></tr></thead><tbody><tr><td>1</td><td>1996-01-02</td><td>145.00</td><td>211959.15</td></tr><tr><td>2</td><td>1996-12-01</td><td>38.00</td><td>71433.16</td></tr><tr><td>3</td><td>1993-10-14</td><td>177.00</td><td>243078.62</td></tr><tr><td>4</td><td>1995-10-11</td><td>30.00</td><td>33424.50</td></tr><tr><td>5</td><td>1994-07-30</td><td>91.00</td><td>155673.40</td></tr><tr><td>6</td><td>1992-02-21</td><td>37.00</td><td>43517.18</td></tr><tr><td>7</td><td>1996-01-10</td><td>173.00</td><td>259926.11</td></tr><tr><td>32</td><td>1995-07-16</td><td>116.00</td><td>153437.80</td></tr><tr><td>33</td><td>1993-10-27</td><td>109.00</td><td>177865.35</td></tr><tr><td>34</td><td>1998-07-21</td><td>41.00</td><td>55025.04</td></tr></tbody></table></div>"
      ]
     },
     "metadata": {
      "application/vnd.databricks.v1+output": {
       "addedWidgets": {},
       "aggData": [],
       "aggError": "",
       "aggOverflow": false,
       "aggSchema": [],
       "aggSeriesLimitReached": false,
       "aggType": "",
       "arguments": {},
       "columnCustomDisplayInfos": {},
       "data": [
        [
         1,
         "1996-01-02",
         "145.00",
         "211959.15"
        ],
        [
         2,
         "1996-12-01",
         "38.00",
         "71433.16"
        ],
        [
         3,
         "1993-10-14",
         "177.00",
         "243078.62"
        ],
        [
         4,
         "1995-10-11",
         "30.00",
         "33424.50"
        ],
        [
         5,
         "1994-07-30",
         "91.00",
         "155673.40"
        ],
        [
         6,
         "1992-02-21",
         "37.00",
         "43517.18"
        ],
        [
         7,
         "1996-01-10",
         "173.00",
         "259926.11"
        ],
        [
         32,
         "1995-07-16",
         "116.00",
         "153437.80"
        ],
        [
         33,
         "1993-10-27",
         "109.00",
         "177865.35"
        ],
        [
         34,
         "1998-07-21",
         "41.00",
         "55025.04"
        ]
       ],
       "datasetInfos": [
        {
         "name": "_sqldf",
         "schema": {
          "fields": [
           {
            "metadata": {
             "metric_view.expr": "orders.o_orderkey",
             "metric_view.type": "dimension"
            },
            "name": "order_key",
            "nullable": true,
            "type": "long"
           },
           {
            "metadata": {
             "metric_view.expr": "orders.o_orderdate",
             "metric_view.type": "dimension"
            },
            "name": "order_date",
            "nullable": true,
            "type": "date"
           },
           {
            "metadata": {
             "__autoGeneratedAlias": "true"
            },
            "name": "measure(total_quantity)",
            "nullable": true,
            "type": "decimal(28,2)"
           },
           {
            "metadata": {
             "__autoGeneratedAlias": "true"
            },
            "name": "measure(total_price)",
            "nullable": true,
            "type": "decimal(28,2)"
           }
          ],
          "type": "struct"
         },
         "tableIdentifier": null,
         "typeStr": "pyspark.sql.connect.dataframe.DataFrame"
        }
       ],
       "dbfsResultPath": null,
       "isJsonSchema": true,
       "metadata": {
        "createTempViewForImplicitDf": true,
        "dataframeName": "_sqldf",
        "executionCount": 25
       },
       "overflow": false,
       "plotOptions": {
        "customPlotOptions": {},
        "displayType": "table",
        "pivotAggregation": null,
        "pivotColumns": null,
        "xColumns": null,
        "yColumns": null
       },
       "removedWidgets": [],
       "schema": [
        {
         "metadata": "{\"metric_view.expr\":\"orders.o_orderkey\",\"metric_view.type\":\"dimension\"}",
         "name": "order_key",
         "type": "\"long\""
        },
        {
         "metadata": "{\"metric_view.expr\":\"orders.o_orderdate\",\"metric_view.type\":\"dimension\"}",
         "name": "order_date",
         "type": "\"date\""
        },
        {
         "metadata": "{\"__autoGeneratedAlias\":\"true\"}",
         "name": "measure(total_quantity)",
         "type": "\"decimal(28,2)\""
        },
        {
         "metadata": "{\"__autoGeneratedAlias\":\"true\"}",
         "name": "measure(total_price)",
         "type": "\"decimal(28,2)\""
        }
       ],
       "type": "table"
      }
     },
     "output_type": "display_data"
    }
   ],
   "source": [
    "%sql\n",
    "use dkushari_uc.metric_view_schema;\n",
    "SELECT order_key,\n",
    "       order_date,\n",
    "       MEASURE(total_quantity),\n",
    "       MEASURE(total_price)\n",
    "FROM demo_lineitem_metric_view\n",
    "group by ALL\n",
    "order by order_key\n",
    "limit 10;"
   ]
  },
  {
   "cell_type": "code",
   "execution_count": 0,
   "metadata": {
    "application/vnd.databricks.v1+cell": {
     "cellMetadata": {
      "byteLimit": 2048000,
      "implicitDf": true,
      "rowLimit": 10000
     },
     "inputWidgets": {},
     "nuid": "d1add7d0-7559-4814-905a-d2e7722c3386",
     "showTitle": false,
     "tableResultSettingsMap": {},
     "title": ""
    }
   },
   "outputs": [],
   "source": [
    "%sql\n",
    "use dkushari_uc.metric_view_schema;\n",
    "ALTER VIEW `demo_lineitem_metric_view` rename to `demo_lineitem_order_metric_view`;"
   ]
  },
  {
   "cell_type": "code",
   "execution_count": 0,
   "metadata": {
    "application/vnd.databricks.v1+cell": {
     "cellMetadata": {
      "byteLimit": 2048000,
      "implicitDf": true,
      "rowLimit": 10000
     },
     "inputWidgets": {},
     "nuid": "7a4b98b5-cac5-4821-9784-b149ed9fd9ba",
     "showTitle": false,
     "tableResultSettingsMap": {},
     "title": ""
    }
   },
   "outputs": [
    {
     "output_type": "display_data",
     "data": {
      "text/html": [
       "<style scoped>\n",
       "  .table-result-container {\n",
       "    max-height: 300px;\n",
       "    overflow: auto;\n",
       "  }\n",
       "  table, th, td {\n",
       "    border: 1px solid black;\n",
       "    border-collapse: collapse;\n",
       "  }\n",
       "  th, td {\n",
       "    padding: 5px;\n",
       "  }\n",
       "  th {\n",
       "    text-align: left;\n",
       "  }\n",
       "</style><div class='table-result-container'><table class='table-result'><thead style='background-color: white'><tr><th>namespace</th><th>viewName</th><th>isTemporary</th><th>isMaterialized</th><th>isMetric</th></tr></thead><tbody><tr><td>metric_view_schema</td><td>demo_lineitem_order_metric_view</td><td>false</td><td>false</td><td>true</td></tr><tr><td>metric_view_schema</td><td>demo_orders_metric_view</td><td>false</td><td>false</td><td>true</td></tr><tr><td></td><td>_sqldf</td><td>true</td><td>false</td><td>false</td></tr></tbody></table></div>"
      ]
     },
     "metadata": {
      "application/vnd.databricks.v1+output": {
       "addedWidgets": {},
       "aggData": [],
       "aggError": "",
       "aggOverflow": false,
       "aggSchema": [],
       "aggSeriesLimitReached": false,
       "aggType": "",
       "arguments": {},
       "columnCustomDisplayInfos": {},
       "data": [
        [
         "metric_view_schema",
         "demo_lineitem_order_metric_view",
         false,
         false,
         true
        ],
        [
         "metric_view_schema",
         "demo_orders_metric_view",
         false,
         false,
         true
        ],
        [
         "",
         "_sqldf",
         true,
         false,
         false
        ]
       ],
       "datasetInfos": [
        {
         "name": "_sqldf",
         "schema": {
          "fields": [
           {
            "metadata": {},
            "name": "namespace",
            "nullable": false,
            "type": "string"
           },
           {
            "metadata": {},
            "name": "viewName",
            "nullable": false,
            "type": "string"
           },
           {
            "metadata": {},
            "name": "isTemporary",
            "nullable": false,
            "type": "boolean"
           },
           {
            "metadata": {},
            "name": "isMaterialized",
            "nullable": false,
            "type": "boolean"
           },
           {
            "metadata": {},
            "name": "isMetric",
            "nullable": false,
            "type": "boolean"
           }
          ],
          "type": "struct"
         },
         "tableIdentifier": null,
         "typeStr": "pyspark.sql.connect.dataframe.DataFrame"
        }
       ],
       "dbfsResultPath": null,
       "isJsonSchema": true,
       "metadata": {
        "createTempViewForImplicitDf": true,
        "dataframeName": "_sqldf",
        "executionCount": 27
       },
       "overflow": false,
       "plotOptions": {
        "customPlotOptions": {},
        "displayType": "table",
        "pivotAggregation": null,
        "pivotColumns": null,
        "xColumns": null,
        "yColumns": null
       },
       "removedWidgets": [],
       "schema": [
        {
         "metadata": "{}",
         "name": "namespace",
         "type": "\"string\""
        },
        {
         "metadata": "{}",
         "name": "viewName",
         "type": "\"string\""
        },
        {
         "metadata": "{}",
         "name": "isTemporary",
         "type": "\"boolean\""
        },
        {
         "metadata": "{}",
         "name": "isMaterialized",
         "type": "\"boolean\""
        },
        {
         "metadata": "{}",
         "name": "isMetric",
         "type": "\"boolean\""
        }
       ],
       "type": "table"
      }
     },
     "output_type": "display_data"
    }
   ],
   "source": [
    "%sql\n",
    "show views in dkushari_uc.metric_view_schema;"
   ]
  },
  {
   "cell_type": "code",
   "execution_count": 0,
   "metadata": {
    "application/vnd.databricks.v1+cell": {
     "cellMetadata": {
      "byteLimit": 2048000,
      "implicitDf": true,
      "rowLimit": 10000
     },
     "inputWidgets": {},
     "nuid": "2cc079b1-c9b7-49f1-92d6-91c409f2b561",
     "showTitle": false,
     "tableResultSettingsMap": {},
     "title": ""
    }
   },
   "outputs": [
    {
     "output_type": "display_data",
     "data": {
      "text/html": [
       "<style scoped>\n",
       "  .table-result-container {\n",
       "    max-height: 300px;\n",
       "    overflow: auto;\n",
       "  }\n",
       "  table, th, td {\n",
       "    border: 1px solid black;\n",
       "    border-collapse: collapse;\n",
       "  }\n",
       "  th, td {\n",
       "    padding: 5px;\n",
       "  }\n",
       "  th {\n",
       "    text-align: left;\n",
       "  }\n",
       "</style><div class='table-result-container'><table class='table-result'><thead style='background-color: white'><tr><th>col_name</th><th>data_type</th><th>comment</th></tr></thead><tbody><tr><td>order_date</td><td>date</td><td>The order date</td></tr><tr><td>order_key</td><td>bigint</td><td>Order key</td></tr><tr><td>total_quantity</td><td>decimal(28,2) measure</td><td>Total quantity</td></tr><tr><td>total_price</td><td>decimal(28,2) measure</td><td>Total price</td></tr><tr><td></td><td></td><td></td></tr><tr><td># Detailed Table Information</td><td></td><td></td></tr><tr><td>Catalog</td><td>dkushari_uc</td><td></td></tr><tr><td>Database</td><td>metric_view_schema</td><td></td></tr><tr><td>Table</td><td>demo_lineitem_order_metric_view</td><td></td></tr><tr><td>Owner</td><td>dipankar.kushari@databricks.com</td><td></td></tr><tr><td>Created Time</td><td>Wed May 14 13:28:27 UTC 2025</td><td></td></tr><tr><td>Last Access</td><td>UNKNOWN</td><td></td></tr><tr><td>Created By</td><td>Spark </td><td></td></tr><tr><td>Type</td><td>METRIC_VIEW</td><td></td></tr><tr><td>View Text</td><td> \n",
       "version: 0.1\n",
       "\n",
       "source: select * from dkushari_uc.metric_view_demo.lineitem\n",
       "\n",
       "joins:\n",
       " - name: orders\n",
       "   source: select * from dkushari_uc.metric_view_demo.orders\n",
       "   on: o_orderkey = l_orderkey\n",
       "\n",
       "dimensions:\n",
       " - name: order_date\n",
       "   expr: orders.o_orderdate \n",
       " - name: order_key\n",
       "   expr: orders.o_orderkey \n",
       "\n",
       "measures:\n",
       " - name: total_quantity\n",
       "   expr: sum(l_quantity)\n",
       " - name: total_price\n",
       "   expr: sum(l_extendedprice)\n",
       "</td><td></td></tr><tr><td>Language</td><td>YAML</td><td></td></tr><tr><td>Table Properties</td><td>[metric_view.from.sql=select * from dkushari_uc.metric_view_demo.lineitem, metric_view.from.type=SQL, metric_view.joins=[{\"name\":\"orders\",\"from.type\":\"SQL\",\"from.sql\":\"select * from dkushari_uc.metric_view_demo.orders\",\"on\":\"o_orderkey = l_orderkey\"}], metric_view.raw_yml= \n",
       "version: 0.1\n",
       "\n",
       "source: select * from dkushari_uc.metric_view_demo.lineitem\n",
       "\n",
       "joins:\n",
       " - name: orders\n",
       "   source: select * from dkushari_uc.metric_view_demo.orders\n",
       "   on: o_orderkey = l_orderkey\n",
       "\n",
       "dimensions:\n",
       " - name: order_date\n",
       "   expr: orders.o_orderdate \n",
       " - name: order_key\n",
       "   expr: orders.o_orderkey \n",
       "\n",
       "measures:\n",
       " - name: total_quantity\n",
       "   expr: sum(l_quantity)\n",
       " - name: total_price\n",
       "   expr: sum(l_extendedprice)\n",
       "]</td><td></td></tr></tbody></table></div>"
      ]
     },
     "metadata": {
      "application/vnd.databricks.v1+output": {
       "addedWidgets": {},
       "aggData": [],
       "aggError": "",
       "aggOverflow": false,
       "aggSchema": [],
       "aggSeriesLimitReached": false,
       "aggType": "",
       "arguments": {},
       "columnCustomDisplayInfos": {},
       "data": [
        [
         "order_date",
         "date",
         "The order date"
        ],
        [
         "order_key",
         "bigint",
         "Order key"
        ],
        [
         "total_quantity",
         "decimal(28,2) measure",
         "Total quantity"
        ],
        [
         "total_price",
         "decimal(28,2) measure",
         "Total price"
        ],
        [
         "",
         "",
         ""
        ],
        [
         "# Detailed Table Information",
         "",
         ""
        ],
        [
         "Catalog",
         "dkushari_uc",
         ""
        ],
        [
         "Database",
         "metric_view_schema",
         ""
        ],
        [
         "Table",
         "demo_lineitem_order_metric_view",
         ""
        ],
        [
         "Owner",
         "dipankar.kushari@databricks.com",
         ""
        ],
        [
         "Created Time",
         "Wed May 14 13:28:27 UTC 2025",
         ""
        ],
        [
         "Last Access",
         "UNKNOWN",
         ""
        ],
        [
         "Created By",
         "Spark ",
         ""
        ],
        [
         "Type",
         "METRIC_VIEW",
         ""
        ],
        [
         "View Text",
         " \nversion: 0.1\n\nsource: select * from dkushari_uc.metric_view_demo.lineitem\n\njoins:\n - name: orders\n   source: select * from dkushari_uc.metric_view_demo.orders\n   on: o_orderkey = l_orderkey\n\ndimensions:\n - name: order_date\n   expr: orders.o_orderdate \n - name: order_key\n   expr: orders.o_orderkey \n\nmeasures:\n - name: total_quantity\n   expr: sum(l_quantity)\n - name: total_price\n   expr: sum(l_extendedprice)\n",
         ""
        ],
        [
         "Language",
         "YAML",
         ""
        ],
        [
         "Table Properties",
         "[metric_view.from.sql=select * from dkushari_uc.metric_view_demo.lineitem, metric_view.from.type=SQL, metric_view.joins=[{\"name\":\"orders\",\"from.type\":\"SQL\",\"from.sql\":\"select * from dkushari_uc.metric_view_demo.orders\",\"on\":\"o_orderkey = l_orderkey\"}], metric_view.raw_yml= \nversion: 0.1\n\nsource: select * from dkushari_uc.metric_view_demo.lineitem\n\njoins:\n - name: orders\n   source: select * from dkushari_uc.metric_view_demo.orders\n   on: o_orderkey = l_orderkey\n\ndimensions:\n - name: order_date\n   expr: orders.o_orderdate \n - name: order_key\n   expr: orders.o_orderkey \n\nmeasures:\n - name: total_quantity\n   expr: sum(l_quantity)\n - name: total_price\n   expr: sum(l_extendedprice)\n]",
         ""
        ]
       ],
       "datasetInfos": [
        {
         "name": "_sqldf",
         "schema": {
          "fields": [
           {
            "metadata": {},
            "name": "col_name",
            "nullable": false,
            "type": "string"
           },
           {
            "metadata": {},
            "name": "data_type",
            "nullable": false,
            "type": "string"
           },
           {
            "metadata": {},
            "name": "comment",
            "nullable": true,
            "type": "string"
           }
          ],
          "type": "struct"
         },
         "tableIdentifier": null,
         "typeStr": "pyspark.sql.connect.dataframe.DataFrame"
        }
       ],
       "dbfsResultPath": null,
       "isJsonSchema": true,
       "metadata": {
        "createTempViewForImplicitDf": true,
        "dataframeName": "_sqldf",
        "executionCount": 28
       },
       "overflow": false,
       "plotOptions": {
        "customPlotOptions": {},
        "displayType": "table",
        "pivotAggregation": null,
        "pivotColumns": null,
        "xColumns": null,
        "yColumns": null
       },
       "removedWidgets": [],
       "schema": [
        {
         "metadata": "{}",
         "name": "col_name",
         "type": "\"string\""
        },
        {
         "metadata": "{}",
         "name": "data_type",
         "type": "\"string\""
        },
        {
         "metadata": "{}",
         "name": "comment",
         "type": "\"string\""
        }
       ],
       "type": "table"
      }
     },
     "output_type": "display_data"
    }
   ],
   "source": [
    "%sql\n",
    "DESCRIBE TABLE EXTENDED demo_lineitem_order_metric_view;"
   ]
  },
  {
   "cell_type": "code",
   "execution_count": 0,
   "metadata": {
    "application/vnd.databricks.v1+cell": {
     "cellMetadata": {},
     "inputWidgets": {},
     "nuid": "cedd5223-2f24-4f0c-bc9d-f3a8e4140a7f",
     "showTitle": false,
     "tableResultSettingsMap": {},
     "title": ""
    }
   },
   "outputs": [],
   "source": []
  },
  {
   "cell_type": "code",
   "execution_count": 0,
   "metadata": {
    "application/vnd.databricks.v1+cell": {
     "cellMetadata": {},
     "inputWidgets": {},
     "nuid": "0e6e34d5-6b46-42f2-8ea8-bb457094d19e",
     "showTitle": false,
     "tableResultSettingsMap": {},
     "title": ""
    }
   },
   "outputs": [],
   "source": []
  },
  {
   "cell_type": "code",
   "execution_count": 0,
   "metadata": {
    "application/vnd.databricks.v1+cell": {
     "cellMetadata": {},
     "inputWidgets": {},
     "nuid": "e8cedc9f-c6d5-403b-b33f-a86219ebf2dd",
     "showTitle": false,
     "tableResultSettingsMap": {},
     "title": ""
    }
   },
   "outputs": [],
   "source": []
  },
  {
   "cell_type": "code",
   "execution_count": 0,
   "metadata": {
    "application/vnd.databricks.v1+cell": {
     "cellMetadata": {},
     "inputWidgets": {},
     "nuid": "f3086798-fdae-42e5-b067-ea022ca37378",
     "showTitle": false,
     "tableResultSettingsMap": {},
     "title": ""
    }
   },
   "outputs": [],
   "source": []
  }
 ],
 "metadata": {
  "application/vnd.databricks.v1+notebook": {
   "computePreferences": null,
   "dashboards": [],
   "environmentMetadata": {
    "base_environment": "",
    "environment_version": "2"
   },
   "inputWidgetPreferences": null,
   "language": "python",
   "notebookMetadata": {
    "mostRecentlyExecutedCommandWithImplicitDF": {
     "commandId": 2275659825132220,
     "dataframes": [
      "_sqldf"
     ]
    },
    "pythonIndentUnit": 2
   },
   "notebookName": "Metric View Demo",
   "widgets": {}
  },
  "language_info": {
   "name": "python"
  }
 },
 "nbformat": 4,
 "nbformat_minor": 0
}